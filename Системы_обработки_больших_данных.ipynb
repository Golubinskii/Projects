{
  "cells": [
    {
      "cell_type": "markdown",
      "id": "53871372",
      "metadata": {
        "id": "53871372"
      },
      "source": [
        "# Подготовка данных"
      ]
    },
    {
      "cell_type": "markdown",
      "id": "740933b4",
      "metadata": {
        "id": "740933b4"
      },
      "source": [
        "**1. Импортируем необходимые библиотеки и функции**"
      ]
    },
    {
      "cell_type": "code",
      "execution_count": null,
      "id": "df92e3ec",
      "metadata": {
        "id": "df92e3ec"
      },
      "outputs": [],
      "source": [
        "import pandas as pd\n",
        "import numpy as np\n",
        "\n",
        "import pyspark\n",
        "from pyspark.sql import SparkSession\n",
        "from pyspark.sql.types import *\n",
        "import pyspark.sql.functions as F\n",
        "\n",
        "from pyspark.sql.functions import col,isnan, when, count, avg, mean\n",
        "\n",
        "from pyspark.ml.feature import StringIndexer, VectorAssembler, StandardScaler\n",
        "from pyspark.ml.classification import LogisticRegression\n",
        "from pyspark.ml.regression import LinearRegression\n",
        "\n",
        "from pyspark.ml.evaluation import BinaryClassificationEvaluator, MulticlassClassificationEvaluator,RegressionEvaluator"
      ]
    },
    {
      "cell_type": "markdown",
      "id": "a117f421",
      "metadata": {
        "id": "a117f421"
      },
      "source": [
        "**Инициализируем локальную Spark-сессию**"
      ]
    },
    {
      "cell_type": "code",
      "execution_count": null,
      "id": "7e22350f",
      "metadata": {
        "id": "7e22350f"
      },
      "outputs": [],
      "source": [
        "pyspark_version = pyspark.__version__\n",
        "if int(pyspark_version[:1]) == 3:\n",
        "    from pyspark.ml.feature import OneHotEncoder\n",
        "elif int(pyspark_version[:1]) == 2:\n",
        "    from pyspark.ml.feature import OneHotEncodeEstimator\n",
        "\n",
        "RANDOM_SEED = 2022\n",
        "\n",
        "spark = SparkSession.builder \\\n",
        "                    .master(\"local\") \\\n",
        "                    .appName(\"Housing\") \\\n",
        "                    .getOrCreate()"
      ]
    },
    {
      "cell_type": "markdown",
      "id": "7e019d1e",
      "metadata": {
        "id": "7e019d1e"
      },
      "source": [
        "**2. Прочитаем содержимое файла `/datasets/housing.csv` в DataFrame `df`**"
      ]
    },
    {
      "cell_type": "code",
      "execution_count": null,
      "id": "b8be46e1",
      "metadata": {
        "id": "b8be46e1",
        "outputId": "a7989aa9-a6c2-42b0-e093-802a0aaa0347"
      },
      "outputs": [
        {
          "name": "stderr",
          "output_type": "stream",
          "text": [
            "                                                                                \r"
          ]
        }
      ],
      "source": [
        "df = spark.read.option('header', 'true').csv('/datasets/housing.csv', inferSchema = True)"
      ]
    },
    {
      "cell_type": "markdown",
      "id": "6be9bd89",
      "metadata": {
        "id": "6be9bd89"
      },
      "source": [
        "**3. Выведем типы данных колонок датасета и первые пять строк. Используя методы `pySpark`**"
      ]
    },
    {
      "cell_type": "code",
      "execution_count": null,
      "id": "c151239b",
      "metadata": {
        "scrolled": false,
        "id": "c151239b",
        "outputId": "9834fd11-0946-4b2c-8774-c01dcba09215"
      },
      "outputs": [
        {
          "name": "stdout",
          "output_type": "stream",
          "text": [
            "root\n",
            " |-- longitude: double (nullable = true)\n",
            " |-- latitude: double (nullable = true)\n",
            " |-- housing_median_age: double (nullable = true)\n",
            " |-- total_rooms: double (nullable = true)\n",
            " |-- total_bedrooms: double (nullable = true)\n",
            " |-- population: double (nullable = true)\n",
            " |-- households: double (nullable = true)\n",
            " |-- median_income: double (nullable = true)\n",
            " |-- median_house_value: double (nullable = true)\n",
            " |-- ocean_proximity: string (nullable = true)\n",
            "\n"
          ]
        }
      ],
      "source": [
        "df.printSchema()"
      ]
    },
    {
      "cell_type": "code",
      "execution_count": null,
      "id": "a3887d38",
      "metadata": {
        "scrolled": true,
        "id": "a3887d38",
        "outputId": "fb3d67b8-57e2-4877-f774-6714a17a5456"
      },
      "outputs": [
        {
          "name": "stdout",
          "output_type": "stream",
          "text": [
            "+---------+--------+------------------+-----------+--------------+----------+----------+-------------+------------------+---------------+\n",
            "|longitude|latitude|housing_median_age|total_rooms|total_bedrooms|population|households|median_income|median_house_value|ocean_proximity|\n",
            "+---------+--------+------------------+-----------+--------------+----------+----------+-------------+------------------+---------------+\n",
            "|  -122.23|   37.88|              41.0|      880.0|         129.0|     322.0|     126.0|       8.3252|          452600.0|       NEAR BAY|\n",
            "|  -122.22|   37.86|              21.0|     7099.0|        1106.0|    2401.0|    1138.0|       8.3014|          358500.0|       NEAR BAY|\n",
            "|  -122.24|   37.85|              52.0|     1467.0|         190.0|     496.0|     177.0|       7.2574|          352100.0|       NEAR BAY|\n",
            "|  -122.25|   37.85|              52.0|     1274.0|         235.0|     558.0|     219.0|       5.6431|          341300.0|       NEAR BAY|\n",
            "|  -122.25|   37.85|              52.0|     1627.0|         280.0|     565.0|     259.0|       3.8462|          342200.0|       NEAR BAY|\n",
            "+---------+--------+------------------+-----------+--------------+----------+----------+-------------+------------------+---------------+\n",
            "only showing top 5 rows\n",
            "\n"
          ]
        }
      ],
      "source": [
        "df.show(5)"
      ]
    },
    {
      "cell_type": "code",
      "execution_count": null,
      "id": "c7f8207c",
      "metadata": {
        "id": "c7f8207c",
        "outputId": "030dacb0-1f03-4a57-8ec6-1c97f296fc46"
      },
      "outputs": [
        {
          "name": "stderr",
          "output_type": "stream",
          "text": [
            "                                                                                \r"
          ]
        },
        {
          "data": {
            "text/plain": [
              "[Row(ocean_proximity='ISLAND'),\n",
              " Row(ocean_proximity='NEAR OCEAN'),\n",
              " Row(ocean_proximity='NEAR BAY'),\n",
              " Row(ocean_proximity='<1H OCEAN'),\n",
              " Row(ocean_proximity='INLAND')]"
            ]
          },
          "execution_count": 6,
          "metadata": {},
          "output_type": "execute_result"
        }
      ],
      "source": [
        "df.select('ocean_proximity').distinct().collect()\n"
      ]
    },
    {
      "cell_type": "markdown",
      "id": "d050258e",
      "metadata": {
        "id": "d050258e"
      },
      "source": [
        "Датафрейм содержит одну колонку `ocean_proximity`(которая принимает значения: `ISLAND`,`NEAR OCEAN`, `NEAR BAY`, `<1H OCEAN`, `INLAND`) c категориальными признаками, остальные колонки содержат числовые признаки."
      ]
    },
    {
      "cell_type": "markdown",
      "id": "1d14588e",
      "metadata": {
        "id": "1d14588e"
      },
      "source": [
        "**4. Выполним предобработку данных: исследуем данные на наличие пропусков**"
      ]
    },
    {
      "cell_type": "code",
      "execution_count": null,
      "id": "b81dbf29",
      "metadata": {
        "scrolled": false,
        "id": "b81dbf29",
        "outputId": "a7c3ecda-ef49-47fc-b036-55dae30df9e3"
      },
      "outputs": [
        {
          "name": "stdout",
          "output_type": "stream",
          "text": [
            "+---------+--------+------------------+-----------+--------------+----------+----------+-------------+------------------+---------------+\n",
            "|longitude|latitude|housing_median_age|total_rooms|total_bedrooms|population|households|median_income|median_house_value|ocean_proximity|\n",
            "+---------+--------+------------------+-----------+--------------+----------+----------+-------------+------------------+---------------+\n",
            "|        0|       0|                 0|          0|           207|         0|         0|            0|                 0|              0|\n",
            "+---------+--------+------------------+-----------+--------------+----------+----------+-------------+------------------+---------------+\n",
            "\n"
          ]
        },
        {
          "name": "stderr",
          "output_type": "stream",
          "text": [
            "                                                                                \r"
          ]
        }
      ],
      "source": [
        "df.select([count(when(isnan(c) | col(c).isNull(), c)).alias(c) for c in df.columns]\n",
        "   ).show()"
      ]
    },
    {
      "cell_type": "markdown",
      "id": "1406df8d",
      "metadata": {
        "id": "1406df8d"
      },
      "source": [
        "Датафрейм имеет пропуски только в колонке `total_bedrooms`. Заполним их средним значением."
      ]
    },
    {
      "cell_type": "code",
      "execution_count": null,
      "id": "99a629e9",
      "metadata": {
        "scrolled": true,
        "id": "99a629e9"
      },
      "outputs": [],
      "source": [
        "df = df.na.fill(df.select(F.mean(df['total_bedrooms'])).collect()[0][0])"
      ]
    },
    {
      "cell_type": "markdown",
      "id": "3558995a",
      "metadata": {
        "id": "3558995a"
      },
      "source": [
        "Проверим датафрейм после заполнения на наличие пропусков"
      ]
    },
    {
      "cell_type": "code",
      "execution_count": null,
      "id": "70fa6be4",
      "metadata": {
        "scrolled": true,
        "id": "70fa6be4",
        "outputId": "9511142b-125c-4b09-9f5d-017f0545bbed"
      },
      "outputs": [
        {
          "name": "stdout",
          "output_type": "stream",
          "text": [
            "+---------+--------+------------------+-----------+--------------+----------+----------+-------------+------------------+---------------+\n",
            "|longitude|latitude|housing_median_age|total_rooms|total_bedrooms|population|households|median_income|median_house_value|ocean_proximity|\n",
            "+---------+--------+------------------+-----------+--------------+----------+----------+-------------+------------------+---------------+\n",
            "|        0|       0|                 0|          0|             0|         0|         0|            0|                 0|              0|\n",
            "+---------+--------+------------------+-----------+--------------+----------+----------+-------------+------------------+---------------+\n",
            "\n"
          ]
        }
      ],
      "source": [
        "df.select([count(when(isnan(c) | col(c).isNull(), c)).alias(c) for c in df.columns]\n",
        "   ).show()"
      ]
    },
    {
      "cell_type": "markdown",
      "id": "163c494e",
      "metadata": {
        "id": "163c494e"
      },
      "source": [
        "Пропусков в датафрейме нет"
      ]
    },
    {
      "cell_type": "markdown",
      "id": "74aad1ab",
      "metadata": {
        "id": "74aad1ab"
      },
      "source": [
        "**Преобразуем колонку `ocean_proximity` c категориальными значениями техникой `One Hot Encoding`**"
      ]
    },
    {
      "cell_type": "markdown",
      "id": "69e74c90",
      "metadata": {
        "id": "69e74c90"
      },
      "source": [
        "Создадим списки из числовых признаков, категориальных признаков и целевого признака."
      ]
    },
    {
      "cell_type": "code",
      "execution_count": null,
      "id": "4575adc6",
      "metadata": {
        "id": "4575adc6"
      },
      "outputs": [],
      "source": [
        "categorical_cols = ['ocean_proximity']\n",
        "numerical_cols  = ['longitude','latitude','housing_median_age','total_rooms',\n",
        "                   'total_bedrooms','population','households','median_income']\n",
        "target = 'median_house_value'"
      ]
    },
    {
      "cell_type": "markdown",
      "id": "9b4ad5ab",
      "metadata": {
        "id": "9b4ad5ab"
      },
      "source": [
        "Трансформируем категориальные признаки с помощью трансформера `StringIndexer`. Он переводит текстовые категории в числовые значения , т.е. для значения `<1H OCEAN` будет 1, для значения `INLAND` будет 2 и так далее."
      ]
    },
    {
      "cell_type": "code",
      "execution_count": null,
      "id": "6fc06d41",
      "metadata": {
        "scrolled": false,
        "id": "6fc06d41",
        "outputId": "aa8d1d57-591e-4afe-b1bb-98632381a5bb"
      },
      "outputs": [
        {
          "name": "stderr",
          "output_type": "stream",
          "text": [
            "[Stage 14:===============================================>      (176 + 1) / 200]\r"
          ]
        },
        {
          "name": "stdout",
          "output_type": "stream",
          "text": [
            "+---------------+-------------------+\n",
            "|ocean_proximity|ocean_proximity_idx|\n",
            "+---------------+-------------------+\n",
            "|      <1H OCEAN|                0.0|\n",
            "|         INLAND|                1.0|\n",
            "|     NEAR OCEAN|                2.0|\n",
            "|       NEAR BAY|                3.0|\n",
            "|         ISLAND|                4.0|\n",
            "+---------------+-------------------+\n",
            "\n"
          ]
        },
        {
          "name": "stderr",
          "output_type": "stream",
          "text": [
            "                                                                                \r"
          ]
        }
      ],
      "source": [
        "indexer = StringIndexer(inputCols=categorical_cols,\n",
        "                        outputCols=[c+'_idx' for c in categorical_cols])\n",
        "df = indexer.fit(df).transform(df)\n",
        "\n",
        "cols = [c for c in df.columns for i in categorical_cols if (c.startswith(i))]\n",
        "df.select(cols).distinct().orderBy('ocean_proximity_idx').show()"
      ]
    },
    {
      "cell_type": "markdown",
      "id": "2fe4eece",
      "metadata": {
        "id": "2fe4eece"
      },
      "source": [
        "Далее применим  `OneHotEncoder`"
      ]
    },
    {
      "cell_type": "code",
      "execution_count": null,
      "id": "028e97f0",
      "metadata": {
        "id": "028e97f0",
        "outputId": "ed79f4ac-a58d-4c5c-a423-f88e0a21303f"
      },
      "outputs": [
        {
          "name": "stderr",
          "output_type": "stream",
          "text": [
            "[Stage 16:==================================================>   (186 + 1) / 200]\r"
          ]
        },
        {
          "name": "stdout",
          "output_type": "stream",
          "text": [
            "+---------------+-------------------+-------------------+\n",
            "|ocean_proximity|ocean_proximity_idx|ocean_proximity_ohe|\n",
            "+---------------+-------------------+-------------------+\n",
            "|      <1H OCEAN|                0.0|      (4,[0],[1.0])|\n",
            "|         INLAND|                1.0|      (4,[1],[1.0])|\n",
            "|     NEAR OCEAN|                2.0|      (4,[2],[1.0])|\n",
            "|       NEAR BAY|                3.0|      (4,[3],[1.0])|\n",
            "|         ISLAND|                4.0|          (4,[],[])|\n",
            "+---------------+-------------------+-------------------+\n",
            "\n"
          ]
        },
        {
          "name": "stderr",
          "output_type": "stream",
          "text": [
            "                                                                                \r"
          ]
        }
      ],
      "source": [
        "encoder = OneHotEncoder(inputCols=[c+'_idx' for c in categorical_cols],\n",
        "                        outputCols=[c+'_ohe' for c in categorical_cols])\n",
        "df = encoder.fit(df).transform(df)\n",
        "\n",
        "cols = [c for c in df.columns for i in categorical_cols if (c.startswith(i))]\n",
        "df.select(cols).distinct().orderBy('ocean_proximity_idx').show()"
      ]
    },
    {
      "cell_type": "markdown",
      "id": "b5898c11",
      "metadata": {
        "id": "b5898c11"
      },
      "source": [
        "Финальный шаг преобразований — это объединение признаков в один вектор, с которым ML-алгоритм умеет работать."
      ]
    },
    {
      "cell_type": "code",
      "execution_count": null,
      "id": "10bc7ff8",
      "metadata": {
        "scrolled": false,
        "id": "10bc7ff8"
      },
      "outputs": [],
      "source": [
        "categorical_assembler = \\\n",
        "        VectorAssembler(inputCols=[c+'_ohe' for c in categorical_cols],\n",
        "                                        outputCol=\"categorical_features\")\n",
        "df = categorical_assembler.transform(df)"
      ]
    },
    {
      "cell_type": "markdown",
      "id": "1e857577",
      "metadata": {
        "id": "1e857577"
      },
      "source": [
        "Отмасштабируем числовые признаки."
      ]
    },
    {
      "cell_type": "code",
      "execution_count": null,
      "id": "c30eae04",
      "metadata": {
        "id": "c30eae04"
      },
      "outputs": [],
      "source": [
        "numerical_assembler = VectorAssembler(inputCols=numerical_cols,\n",
        "                                     outputCol=\"numerical_features\")\n",
        "df = numerical_assembler.transform(df)"
      ]
    },
    {
      "cell_type": "code",
      "execution_count": null,
      "id": "2dc69b0f",
      "metadata": {
        "id": "2dc69b0f"
      },
      "outputs": [],
      "source": [
        "standardScaler = StandardScaler(inputCol='numerical_features',\n",
        "                                outputCol=\"numerical_features_scaled\")\n",
        "df = standardScaler.fit(df).transform(df)"
      ]
    },
    {
      "cell_type": "markdown",
      "id": "6a0a2a59",
      "metadata": {
        "id": "6a0a2a59"
      },
      "source": [
        "Финальный шаг — собрать трансформированные категорийные и числовые признаки с помощью VectorAssembler."
      ]
    },
    {
      "cell_type": "code",
      "execution_count": null,
      "id": "4dab7dd4",
      "metadata": {
        "scrolled": false,
        "id": "4dab7dd4",
        "outputId": "96126e3d-7a3f-48ce-bffb-8da159bd4ed2"
      },
      "outputs": [
        {
          "name": "stdout",
          "output_type": "stream",
          "text": [
            "+--------------------+-------------------------+\n",
            "|categorical_features|numerical_features_scaled|\n",
            "+--------------------+-------------------------+\n",
            "|       (4,[3],[1.0])|     [-61.007269596069...|\n",
            "|       (4,[3],[1.0])|     [-61.002278409814...|\n",
            "|       (4,[3],[1.0])|     [-61.012260782324...|\n",
            "+--------------------+-------------------------+\n",
            "only showing top 3 rows\n",
            "\n"
          ]
        }
      ],
      "source": [
        "all_features = ['categorical_features','numerical_features_scaled']\n",
        "\n",
        "final_assembler = VectorAssembler(inputCols=all_features,\n",
        "                                  outputCol=\"features\")\n",
        "df = final_assembler.transform(df)\n",
        "\n",
        "df.select(all_features).show(3)"
      ]
    },
    {
      "cell_type": "markdown",
      "id": "9f0a82f3",
      "metadata": {
        "id": "9f0a82f3"
      },
      "source": [
        "# Обучение моделей"
      ]
    },
    {
      "cell_type": "markdown",
      "id": "d999ffb2",
      "metadata": {
        "id": "d999ffb2"
      },
      "source": [
        "**5. Построим две модели линейной регрессии на двух наборах данных**"
      ]
    },
    {
      "cell_type": "markdown",
      "id": "a0992389",
      "metadata": {
        "id": "a0992389"
      },
      "source": [
        "\n",
        "Разделяем наш датасет на две части — выборку для обучения и выборку для тестирования качества модели c помощью метода randomSplit()."
      ]
    },
    {
      "cell_type": "code",
      "execution_count": null,
      "id": "d84f63cd",
      "metadata": {
        "scrolled": false,
        "id": "d84f63cd",
        "outputId": "60e8f221-79ad-4673-b804-74680f4236e6"
      },
      "outputs": [
        {
          "name": "stderr",
          "output_type": "stream",
          "text": [
            "                                                                                \r"
          ]
        },
        {
          "name": "stdout",
          "output_type": "stream",
          "text": [
            "16418 4222\n"
          ]
        },
        {
          "name": "stderr",
          "output_type": "stream",
          "text": [
            "                                                                                \r"
          ]
        }
      ],
      "source": [
        "train_data, test_data = df.randomSplit([.8,.2], seed=RANDOM_SEED)\n",
        "print(train_data.count(), test_data.count())"
      ]
    },
    {
      "cell_type": "markdown",
      "id": "599824d6",
      "metadata": {
        "id": "599824d6"
      },
      "source": [
        "При обучении модели алгоритм ждёт указания:\n",
        "\n",
        "какая колонка содержит вектор признаков для обучения;\n",
        "\n",
        "как называется колонка с целевой переменной."
      ]
    },
    {
      "cell_type": "code",
      "execution_count": null,
      "id": "ba11d88b",
      "metadata": {
        "scrolled": true,
        "id": "ba11d88b",
        "outputId": "10727ce1-8297-4bc1-a000-a9355d6a7c4a"
      },
      "outputs": [
        {
          "name": "stderr",
          "output_type": "stream",
          "text": [
            "22/05/03 05:40:01 WARN Instrumentation: [ffd4e90b] regParam is zero, which might cause numerical instability and overfitting.\n",
            "22/05/03 05:40:02 WARN BLAS: Failed to load implementation from: com.github.fommil.netlib.NativeSystemBLAS\n",
            "22/05/03 05:40:02 WARN BLAS: Failed to load implementation from: com.github.fommil.netlib.NativeRefBLAS\n",
            "22/05/03 05:40:02 WARN LAPACK: Failed to load implementation from: com.github.fommil.netlib.NativeSystemLAPACK\n",
            "22/05/03 05:40:02 WARN LAPACK: Failed to load implementation from: com.github.fommil.netlib.NativeRefLAPACK\n",
            "22/05/03 05:40:02 WARN Instrumentation: [ffd4e90b] Cholesky solver failed due to singular covariance matrix. Retrying with Quasi-Newton solver.\n",
            "                                                                                \r"
          ]
        }
      ],
      "source": [
        "lr = LinearRegression(featuresCol = 'features', labelCol='median_house_value', solver=\"normal\")\n",
        "\n",
        "model = lr.fit(train_data)"
      ]
    },
    {
      "cell_type": "code",
      "execution_count": null,
      "id": "d86e4cb3",
      "metadata": {
        "scrolled": true,
        "id": "d86e4cb3",
        "outputId": "d792d83d-df9e-4db9-e97b-026c59d393bc"
      },
      "outputs": [
        {
          "name": "stderr",
          "output_type": "stream",
          "text": [
            "22/05/03 05:40:05 WARN Instrumentation: [46873e1b] regParam is zero, which might cause numerical instability and overfitting.\n",
            "                                                                                \r"
          ]
        }
      ],
      "source": [
        "lr1 = LinearRegression(featuresCol = 'numerical_features_scaled', labelCol='median_house_value', solver=\"normal\")\n",
        "\n",
        "model1 = lr1.fit(train_data)"
      ]
    },
    {
      "cell_type": "code",
      "execution_count": null,
      "id": "07d5a02f",
      "metadata": {
        "id": "07d5a02f",
        "outputId": "ea293d61-002f-437e-fce3-2412a46bce83"
      },
      "outputs": [
        {
          "name": "stdout",
          "output_type": "stream",
          "text": [
            "+------------------+------------------+\n",
            "|median_house_value|        prediction|\n",
            "+------------------+------------------+\n",
            "|          103600.0|152864.83787063695|\n",
            "|           50800.0|214875.15745500242|\n",
            "|           58100.0|142617.23499632766|\n",
            "|           68400.0|132348.03377544833|\n",
            "|           72200.0|163938.85895167245|\n",
            "|           67000.0|154333.74063058477|\n",
            "|           81300.0|152707.89295244776|\n",
            "|           70500.0|164405.68221020233|\n",
            "|           60000.0|142658.99211929925|\n",
            "|          109400.0|171159.74399856105|\n",
            "|           74100.0|150520.55504797166|\n",
            "|           74700.0|167726.48518295074|\n",
            "|           90000.0|209691.65750443935|\n",
            "|          104200.0| 200348.3492369824|\n",
            "|           74100.0| 156997.7090818272|\n",
            "|           67500.0|148165.17924111616|\n",
            "|          103100.0| 47312.01717952825|\n",
            "|           92500.0|166598.51765157236|\n",
            "|          128100.0|221959.78148622438|\n",
            "|           99600.0|187128.65126372967|\n",
            "+------------------+------------------+\n",
            "only showing top 20 rows\n",
            "\n"
          ]
        },
        {
          "name": "stderr",
          "output_type": "stream",
          "text": [
            "                                                                                \r"
          ]
        }
      ],
      "source": [
        "predictions = model.transform(test_data)\n",
        "\n",
        "predictedLabes = predictions.select(\"median_house_value\", \"prediction\")\n",
        "predictedLabes.show()"
      ]
    },
    {
      "cell_type": "code",
      "execution_count": null,
      "id": "e8745b84",
      "metadata": {
        "id": "e8745b84",
        "outputId": "79c5df79-6f81-4ccc-c951-59f7e484b72f"
      },
      "outputs": [
        {
          "name": "stdout",
          "output_type": "stream",
          "text": [
            "+------------------+------------------+\n",
            "|median_house_value|        prediction|\n",
            "+------------------+------------------+\n",
            "|          103600.0|101360.98099971423|\n",
            "|           50800.0|183294.14571925811|\n",
            "|           58100.0|109574.76993060019|\n",
            "+------------------+------------------+\n",
            "only showing top 3 rows\n",
            "\n"
          ]
        }
      ],
      "source": [
        "predictions1 = model1.transform(test_data)\n",
        "\n",
        "predictedLabes1 = predictions1.select(\"median_house_value\", \"prediction\")\n",
        "predictedLabes1.show(3)"
      ]
    },
    {
      "cell_type": "markdown",
      "id": "757fd103",
      "metadata": {
        "id": "757fd103"
      },
      "source": [
        "# Анализ результатов"
      ]
    },
    {
      "cell_type": "markdown",
      "id": "b7652d4a",
      "metadata": {
        "id": "b7652d4a"
      },
      "source": [
        "**Сравним результаты работы линейной регрессии на двух наборах данных по метрикам RMSE, MAE и R2**"
      ]
    },
    {
      "cell_type": "markdown",
      "id": "014893ed",
      "metadata": {
        "id": "014893ed"
      },
      "source": [
        "Посчитаем метрики качества `R2`, `MAE`, `RMSE` для модели, содержащей все признаки. Результаты сохраним в Series."
      ]
    },
    {
      "cell_type": "code",
      "execution_count": null,
      "id": "4e5b1bdc",
      "metadata": {
        "id": "4e5b1bdc",
        "outputId": "cf80fc60-41fc-4b5b-adfe-65f984a6ccb6"
      },
      "outputs": [
        {
          "name": "stderr",
          "output_type": "stream",
          "text": [
            "                                                                                \r"
          ]
        },
        {
          "data": {
            "text/plain": [
              "r2          0.653622\n",
              "mae     49849.341084\n",
              "rmse    68480.413421\n",
              "Name: все признаки, dtype: float64"
            ]
          },
          "execution_count": 22,
          "metadata": {},
          "output_type": "execute_result"
        }
      ],
      "source": [
        "list_metrics = ['r2', 'mae', 'rmse']\n",
        "list_results=[]\n",
        "for metric in list_metrics:\n",
        "    evaluator = RegressionEvaluator(predictionCol=\"prediction\", \\\n",
        "                 labelCol=\"median_house_value\", metricName=metric)\n",
        "    list_results.append(evaluator.evaluate(predictions))\n",
        "s1 = pd.Series(list_results, index=list_metrics, name ='все признаки')\n",
        "s1"
      ]
    },
    {
      "cell_type": "markdown",
      "id": "1a17bc03",
      "metadata": {
        "id": "1a17bc03"
      },
      "source": [
        "Посчитаем метрики качества `R2`, `MAE`, `RMSE` для модели, с исключенным одним категориальным признаком. Результаты сохраним в Series."
      ]
    },
    {
      "cell_type": "code",
      "execution_count": null,
      "id": "35e6f94e",
      "metadata": {
        "id": "35e6f94e",
        "outputId": "e899ec1f-443b-4ee5-cd46-696e273ba189"
      },
      "outputs": [
        {
          "data": {
            "text/plain": [
              "r2          0.646226\n",
              "mae     50848.475110\n",
              "rmse    69207.629961\n",
              "Name: без одного признака, dtype: float64"
            ]
          },
          "execution_count": 23,
          "metadata": {},
          "output_type": "execute_result"
        }
      ],
      "source": [
        "list_metrics = ['r2', 'mae', 'rmse']\n",
        "list_results=[]\n",
        "for metric in list_metrics:\n",
        "    evaluator = RegressionEvaluator(predictionCol=\"prediction\", \\\n",
        "                 labelCol=\"median_house_value\", metricName=metric)\n",
        "    list_results.append(evaluator.evaluate(predictions1))\n",
        "s2 = pd.Series(list_results, index=list_metrics, name = 'без одного признака')\n",
        "s2"
      ]
    },
    {
      "cell_type": "markdown",
      "id": "6a7bf349",
      "metadata": {
        "id": "6a7bf349"
      },
      "source": [
        "Метрики качества для двух моделей для наглядности объединим в одну таблицу."
      ]
    },
    {
      "cell_type": "code",
      "execution_count": null,
      "id": "5a2ac777",
      "metadata": {
        "id": "5a2ac777"
      },
      "outputs": [],
      "source": [
        "result = pd.DataFrame([s1,s2])"
      ]
    },
    {
      "cell_type": "code",
      "execution_count": null,
      "id": "59c8c0ca",
      "metadata": {
        "scrolled": true,
        "id": "59c8c0ca",
        "outputId": "1ef72c08-a256-442d-c92b-61a006306f5f"
      },
      "outputs": [
        {
          "data": {
            "text/html": [
              "<div>\n",
              "<style scoped>\n",
              "    .dataframe tbody tr th:only-of-type {\n",
              "        vertical-align: middle;\n",
              "    }\n",
              "\n",
              "    .dataframe tbody tr th {\n",
              "        vertical-align: top;\n",
              "    }\n",
              "\n",
              "    .dataframe thead th {\n",
              "        text-align: right;\n",
              "    }\n",
              "</style>\n",
              "<table border=\"1\" class=\"dataframe\">\n",
              "  <thead>\n",
              "    <tr style=\"text-align: right;\">\n",
              "      <th></th>\n",
              "      <th>все признаки</th>\n",
              "      <th>без одного признака</th>\n",
              "    </tr>\n",
              "  </thead>\n",
              "  <tbody>\n",
              "    <tr>\n",
              "      <th>r2</th>\n",
              "      <td>0.653622</td>\n",
              "      <td>0.646226</td>\n",
              "    </tr>\n",
              "    <tr>\n",
              "      <th>mae</th>\n",
              "      <td>49849.341084</td>\n",
              "      <td>50848.475110</td>\n",
              "    </tr>\n",
              "    <tr>\n",
              "      <th>rmse</th>\n",
              "      <td>68480.413421</td>\n",
              "      <td>69207.629961</td>\n",
              "    </tr>\n",
              "  </tbody>\n",
              "</table>\n",
              "</div>"
            ],
            "text/plain": [
              "      все признаки  без одного признака\n",
              "r2        0.653622             0.646226\n",
              "mae   49849.341084         50848.475110\n",
              "rmse  68480.413421         69207.629961"
            ]
          },
          "execution_count": 25,
          "metadata": {},
          "output_type": "execute_result"
        }
      ],
      "source": [
        "result.T"
      ]
    },
    {
      "cell_type": "markdown",
      "id": "6e3f05bf",
      "metadata": {
        "id": "6e3f05bf"
      },
      "source": [
        "**Вывод**\n",
        "\n",
        "\n",
        "**Категориальный признак `ocean_proximity` (перевод с англ. близость к океану) должен иметь весьма жесткую корреляцию со стоимостью жилья. Чем ближе дом к океану, тем как правило он имеет более высокую стоимость. Исключение этого признака из набора данных должно будет привести к ухудшению качества модели. Что мы и наблюдаем на таблице изображенной выше. Метрики MAE и RMSE характеризуют разброс предсказания от истинного значения и они стали больше. Метрика R2 уменьшилась, так как для идеальной модели эта метрика равна 1.**"
      ]
    }
  ],
  "metadata": {
    "ExecuteTimeLog": [
      {
        "duration": 333,
        "start_time": "2022-04-23T01:50:02.172Z"
      },
      {
        "duration": 2,
        "start_time": "2022-04-23T01:50:31.942Z"
      },
      {
        "duration": 113,
        "start_time": "2022-04-23T01:50:49.202Z"
      },
      {
        "duration": 18,
        "start_time": "2022-04-23T01:50:56.972Z"
      },
      {
        "duration": 11,
        "start_time": "2022-04-23T01:51:15.211Z"
      },
      {
        "duration": 7,
        "start_time": "2022-04-23T01:52:19.751Z"
      },
      {
        "duration": 32,
        "start_time": "2022-04-23T01:52:45.241Z"
      },
      {
        "duration": 99,
        "start_time": "2022-04-23T01:54:13.081Z"
      },
      {
        "duration": 421,
        "start_time": "2022-04-23T01:54:39.809Z"
      },
      {
        "duration": 185,
        "start_time": "2022-04-23T01:54:49.932Z"
      },
      {
        "duration": 125,
        "start_time": "2022-04-23T01:55:00.722Z"
      },
      {
        "duration": 333,
        "start_time": "2022-04-23T01:55:03.961Z"
      },
      {
        "duration": 185,
        "start_time": "2022-04-23T01:55:14.262Z"
      },
      {
        "duration": 283,
        "start_time": "2022-04-23T01:55:21.030Z"
      },
      {
        "duration": 286,
        "start_time": "2022-04-23T01:55:42.592Z"
      },
      {
        "duration": 379,
        "start_time": "2022-04-23T01:55:50.572Z"
      },
      {
        "duration": 18,
        "start_time": "2022-04-23T01:57:23.681Z"
      },
      {
        "duration": 7,
        "start_time": "2022-04-23T01:57:50.113Z"
      },
      {
        "duration": 5,
        "start_time": "2022-04-23T01:57:57.872Z"
      },
      {
        "duration": 6,
        "start_time": "2022-04-23T01:58:01.513Z"
      },
      {
        "duration": 291,
        "start_time": "2022-04-23T01:58:19.482Z"
      },
      {
        "duration": 5,
        "start_time": "2022-04-23T01:59:08.173Z"
      },
      {
        "duration": 8,
        "start_time": "2022-04-23T01:59:11.101Z"
      },
      {
        "duration": 291,
        "start_time": "2022-04-23T01:59:13.672Z"
      },
      {
        "duration": 445,
        "start_time": "2022-04-23T01:59:30.940Z"
      },
      {
        "duration": 27,
        "start_time": "2022-04-23T01:59:31.387Z"
      },
      {
        "duration": 18,
        "start_time": "2022-04-23T01:59:31.415Z"
      },
      {
        "duration": 18,
        "start_time": "2022-04-23T01:59:31.434Z"
      },
      {
        "duration": 33,
        "start_time": "2022-04-23T01:59:31.454Z"
      },
      {
        "duration": 5,
        "start_time": "2022-04-23T01:59:31.489Z"
      },
      {
        "duration": 464,
        "start_time": "2022-04-23T01:59:31.496Z"
      },
      {
        "duration": 5,
        "start_time": "2022-04-23T01:59:31.962Z"
      },
      {
        "duration": 6,
        "start_time": "2022-04-23T01:59:31.969Z"
      },
      {
        "duration": 365,
        "start_time": "2022-04-23T01:59:31.977Z"
      },
      {
        "duration": 1158,
        "start_time": "2022-04-23T01:59:53.629Z"
      },
      {
        "duration": 1175,
        "start_time": "2022-04-23T02:00:06.368Z"
      },
      {
        "duration": 1597,
        "start_time": "2022-04-23T05:30:27.539Z"
      },
      {
        "duration": 37,
        "start_time": "2022-04-23T05:30:29.138Z"
      },
      {
        "duration": 30,
        "start_time": "2022-04-23T05:30:29.177Z"
      },
      {
        "duration": 28,
        "start_time": "2022-04-23T05:30:29.210Z"
      },
      {
        "duration": 54,
        "start_time": "2022-04-23T05:30:29.240Z"
      },
      {
        "duration": 30,
        "start_time": "2022-04-23T05:30:29.296Z"
      },
      {
        "duration": 2808,
        "start_time": "2022-04-23T05:30:29.328Z"
      },
      {
        "duration": 8,
        "start_time": "2022-04-23T05:30:32.139Z"
      },
      {
        "duration": 12,
        "start_time": "2022-04-23T05:30:32.150Z"
      },
      {
        "duration": 2250,
        "start_time": "2022-04-23T05:30:32.167Z"
      },
      {
        "duration": 172,
        "start_time": "2022-04-23T05:30:34.424Z"
      },
      {
        "duration": 0,
        "start_time": "2022-04-23T05:30:34.599Z"
      },
      {
        "duration": 1860,
        "start_time": "2022-04-23T05:31:00.423Z"
      },
      {
        "duration": 12,
        "start_time": "2022-04-23T05:31:59.030Z"
      },
      {
        "duration": 13,
        "start_time": "2022-04-23T05:32:11.069Z"
      },
      {
        "duration": 117,
        "start_time": "2022-04-23T05:32:46.508Z"
      },
      {
        "duration": 199,
        "start_time": "2022-04-23T05:32:59.127Z"
      },
      {
        "duration": 79,
        "start_time": "2022-04-23T05:33:06.754Z"
      },
      {
        "duration": 65,
        "start_time": "2022-04-23T05:33:48.069Z"
      },
      {
        "duration": 23,
        "start_time": "2022-04-23T06:30:59.708Z"
      },
      {
        "duration": 65,
        "start_time": "2022-04-23T06:31:52.760Z"
      },
      {
        "duration": 113,
        "start_time": "2022-04-23T06:32:57.734Z"
      },
      {
        "duration": 1634,
        "start_time": "2022-04-23T06:33:39.526Z"
      },
      {
        "duration": 38,
        "start_time": "2022-04-23T06:33:41.163Z"
      },
      {
        "duration": 35,
        "start_time": "2022-04-23T06:33:41.204Z"
      },
      {
        "duration": 18,
        "start_time": "2022-04-23T06:33:41.241Z"
      },
      {
        "duration": 80,
        "start_time": "2022-04-23T06:33:41.262Z"
      },
      {
        "duration": 9,
        "start_time": "2022-04-23T06:33:41.344Z"
      },
      {
        "duration": 2876,
        "start_time": "2022-04-23T06:33:41.355Z"
      },
      {
        "duration": 8,
        "start_time": "2022-04-23T06:33:44.233Z"
      },
      {
        "duration": 28,
        "start_time": "2022-04-23T06:33:44.243Z"
      },
      {
        "duration": 2410,
        "start_time": "2022-04-23T06:33:44.274Z"
      },
      {
        "duration": 11,
        "start_time": "2022-04-23T06:33:46.686Z"
      },
      {
        "duration": 131,
        "start_time": "2022-04-23T06:33:46.700Z"
      },
      {
        "duration": 195,
        "start_time": "2022-04-23T06:34:06.930Z"
      },
      {
        "duration": 150,
        "start_time": "2022-04-23T06:34:26.816Z"
      },
      {
        "duration": 17,
        "start_time": "2022-04-23T06:35:00.651Z"
      },
      {
        "duration": 163,
        "start_time": "2022-04-23T06:37:34.172Z"
      },
      {
        "duration": 12,
        "start_time": "2022-04-23T06:37:48.588Z"
      },
      {
        "duration": 1555,
        "start_time": "2022-04-23T06:38:00.071Z"
      },
      {
        "duration": 39,
        "start_time": "2022-04-23T06:38:01.629Z"
      },
      {
        "duration": 31,
        "start_time": "2022-04-23T06:38:01.671Z"
      },
      {
        "duration": 19,
        "start_time": "2022-04-23T06:38:01.725Z"
      },
      {
        "duration": 82,
        "start_time": "2022-04-23T06:38:01.747Z"
      },
      {
        "duration": 12,
        "start_time": "2022-04-23T06:38:01.832Z"
      },
      {
        "duration": 2546,
        "start_time": "2022-04-23T06:38:01.846Z"
      },
      {
        "duration": 8,
        "start_time": "2022-04-23T06:38:04.395Z"
      },
      {
        "duration": 37,
        "start_time": "2022-04-23T06:38:04.405Z"
      },
      {
        "duration": 2349,
        "start_time": "2022-04-23T06:38:04.445Z"
      },
      {
        "duration": 29,
        "start_time": "2022-04-23T06:38:06.797Z"
      },
      {
        "duration": 19,
        "start_time": "2022-04-23T06:38:06.828Z"
      },
      {
        "duration": 99,
        "start_time": "2022-04-23T06:38:06.925Z"
      },
      {
        "duration": 5,
        "start_time": "2022-04-23T06:38:17.344Z"
      },
      {
        "duration": 45,
        "start_time": "2022-04-23T06:38:59.381Z"
      },
      {
        "duration": 30,
        "start_time": "2022-04-23T06:39:15.303Z"
      },
      {
        "duration": 24,
        "start_time": "2022-04-23T06:39:38.609Z"
      },
      {
        "duration": 22,
        "start_time": "2022-04-23T06:39:49.217Z"
      },
      {
        "duration": 22,
        "start_time": "2022-04-23T06:39:55.600Z"
      },
      {
        "duration": 5,
        "start_time": "2022-04-23T06:41:20.949Z"
      },
      {
        "duration": 37,
        "start_time": "2022-04-23T06:41:57.686Z"
      },
      {
        "duration": 21,
        "start_time": "2022-04-23T06:42:35.441Z"
      },
      {
        "duration": 7,
        "start_time": "2022-04-23T06:45:18.083Z"
      },
      {
        "duration": 1980,
        "start_time": "2022-04-25T08:09:51.415Z"
      },
      {
        "duration": 1529,
        "start_time": "2022-04-25T08:16:26.286Z"
      },
      {
        "duration": 31,
        "start_time": "2022-04-25T08:16:27.817Z"
      },
      {
        "duration": 21,
        "start_time": "2022-04-25T08:16:27.849Z"
      },
      {
        "duration": 22,
        "start_time": "2022-04-25T08:16:27.872Z"
      },
      {
        "duration": 43,
        "start_time": "2022-04-25T08:16:27.896Z"
      },
      {
        "duration": 8,
        "start_time": "2022-04-25T08:16:27.941Z"
      },
      {
        "duration": 1799,
        "start_time": "2022-04-25T08:16:27.951Z"
      },
      {
        "duration": 7,
        "start_time": "2022-04-25T08:16:29.752Z"
      },
      {
        "duration": 24,
        "start_time": "2022-04-25T08:16:29.760Z"
      },
      {
        "duration": 2062,
        "start_time": "2022-04-25T08:16:29.786Z"
      },
      {
        "duration": 9,
        "start_time": "2022-04-25T08:16:31.850Z"
      },
      {
        "duration": 134,
        "start_time": "2022-04-25T08:16:31.860Z"
      },
      {
        "duration": 104,
        "start_time": "2022-04-25T08:16:31.997Z"
      },
      {
        "duration": 26,
        "start_time": "2022-04-25T08:16:32.103Z"
      },
      {
        "duration": 120,
        "start_time": "2022-04-25T08:16:50.135Z"
      },
      {
        "duration": 26,
        "start_time": "2022-04-25T08:17:01.756Z"
      },
      {
        "duration": 22,
        "start_time": "2022-04-25T08:17:22.385Z"
      },
      {
        "duration": 1422,
        "start_time": "2022-04-25T08:22:06.553Z"
      },
      {
        "duration": 30,
        "start_time": "2022-04-25T08:22:07.977Z"
      },
      {
        "duration": 21,
        "start_time": "2022-04-25T08:22:08.009Z"
      },
      {
        "duration": 19,
        "start_time": "2022-04-25T08:22:08.031Z"
      },
      {
        "duration": 49,
        "start_time": "2022-04-25T08:22:08.052Z"
      },
      {
        "duration": 6,
        "start_time": "2022-04-25T08:22:08.103Z"
      },
      {
        "duration": 1532,
        "start_time": "2022-04-25T08:22:08.110Z"
      },
      {
        "duration": 7,
        "start_time": "2022-04-25T08:22:09.643Z"
      },
      {
        "duration": 7,
        "start_time": "2022-04-25T08:22:09.651Z"
      },
      {
        "duration": 1346,
        "start_time": "2022-04-25T08:22:09.659Z"
      },
      {
        "duration": 8,
        "start_time": "2022-04-25T08:22:11.007Z"
      },
      {
        "duration": 81,
        "start_time": "2022-04-25T08:22:11.017Z"
      },
      {
        "duration": 94,
        "start_time": "2022-04-25T08:22:11.101Z"
      },
      {
        "duration": 25,
        "start_time": "2022-04-25T08:22:11.197Z"
      },
      {
        "duration": 8,
        "start_time": "2022-04-25T08:22:11.224Z"
      },
      {
        "duration": 66,
        "start_time": "2022-04-25T08:22:11.234Z"
      },
      {
        "duration": 1366,
        "start_time": "2022-04-25T08:22:58.784Z"
      },
      {
        "duration": 31,
        "start_time": "2022-04-25T08:23:00.152Z"
      },
      {
        "duration": 22,
        "start_time": "2022-04-25T08:23:00.184Z"
      },
      {
        "duration": 12,
        "start_time": "2022-04-25T08:23:00.208Z"
      },
      {
        "duration": 47,
        "start_time": "2022-04-25T08:23:00.222Z"
      },
      {
        "duration": 26,
        "start_time": "2022-04-25T08:23:00.271Z"
      },
      {
        "duration": 1530,
        "start_time": "2022-04-25T08:23:00.299Z"
      },
      {
        "duration": 6,
        "start_time": "2022-04-25T08:23:01.831Z"
      },
      {
        "duration": 27,
        "start_time": "2022-04-25T08:23:01.839Z"
      },
      {
        "duration": 1401,
        "start_time": "2022-04-25T08:23:01.868Z"
      },
      {
        "duration": 9,
        "start_time": "2022-04-25T08:23:03.271Z"
      },
      {
        "duration": 22,
        "start_time": "2022-04-25T08:23:03.293Z"
      },
      {
        "duration": 101,
        "start_time": "2022-04-25T08:23:03.395Z"
      },
      {
        "duration": 24,
        "start_time": "2022-04-25T08:23:03.498Z"
      },
      {
        "duration": 156,
        "start_time": "2022-04-25T08:23:03.524Z"
      },
      {
        "duration": 0,
        "start_time": "2022-04-25T08:23:03.682Z"
      },
      {
        "duration": 3,
        "start_time": "2022-04-25T08:23:46.472Z"
      },
      {
        "duration": 5,
        "start_time": "2022-04-25T08:23:56.372Z"
      },
      {
        "duration": 9,
        "start_time": "2022-04-25T08:24:24.111Z"
      },
      {
        "duration": 18,
        "start_time": "2022-04-25T08:24:26.942Z"
      },
      {
        "duration": 1285,
        "start_time": "2022-04-25T08:24:39.848Z"
      },
      {
        "duration": 29,
        "start_time": "2022-04-25T08:24:41.135Z"
      },
      {
        "duration": 26,
        "start_time": "2022-04-25T08:24:41.166Z"
      },
      {
        "duration": 13,
        "start_time": "2022-04-25T08:24:41.194Z"
      },
      {
        "duration": 39,
        "start_time": "2022-04-25T08:24:41.209Z"
      },
      {
        "duration": 7,
        "start_time": "2022-04-25T08:24:41.250Z"
      },
      {
        "duration": 1608,
        "start_time": "2022-04-25T08:24:41.259Z"
      },
      {
        "duration": 6,
        "start_time": "2022-04-25T08:24:42.869Z"
      },
      {
        "duration": 26,
        "start_time": "2022-04-25T08:24:42.877Z"
      },
      {
        "duration": 1481,
        "start_time": "2022-04-25T08:24:42.905Z"
      },
      {
        "duration": 9,
        "start_time": "2022-04-25T08:24:44.388Z"
      },
      {
        "duration": 95,
        "start_time": "2022-04-25T08:24:44.399Z"
      },
      {
        "duration": 97,
        "start_time": "2022-04-25T08:24:44.497Z"
      },
      {
        "duration": 25,
        "start_time": "2022-04-25T08:24:44.598Z"
      },
      {
        "duration": 5,
        "start_time": "2022-04-25T08:24:44.625Z"
      },
      {
        "duration": 10,
        "start_time": "2022-04-25T08:24:44.632Z"
      },
      {
        "duration": 151,
        "start_time": "2022-04-25T08:24:44.644Z"
      },
      {
        "duration": 24,
        "start_time": "2022-04-25T08:26:01.489Z"
      },
      {
        "duration": 48,
        "start_time": "2022-04-25T09:10:46.909Z"
      },
      {
        "duration": 1427,
        "start_time": "2022-04-25T09:11:00.532Z"
      },
      {
        "duration": 38,
        "start_time": "2022-04-25T09:11:01.961Z"
      },
      {
        "duration": 24,
        "start_time": "2022-04-25T09:11:02.001Z"
      },
      {
        "duration": 20,
        "start_time": "2022-04-25T09:11:02.028Z"
      },
      {
        "duration": 68,
        "start_time": "2022-04-25T09:11:02.051Z"
      },
      {
        "duration": 9,
        "start_time": "2022-04-25T09:11:02.121Z"
      },
      {
        "duration": 1884,
        "start_time": "2022-04-25T09:11:02.131Z"
      },
      {
        "duration": 9,
        "start_time": "2022-04-25T09:11:04.018Z"
      },
      {
        "duration": 33,
        "start_time": "2022-04-25T09:11:04.029Z"
      },
      {
        "duration": 1489,
        "start_time": "2022-04-25T09:11:04.064Z"
      },
      {
        "duration": 9,
        "start_time": "2022-04-25T09:11:05.555Z"
      },
      {
        "duration": 227,
        "start_time": "2022-04-25T09:11:05.566Z"
      },
      {
        "duration": 8,
        "start_time": "2022-04-25T09:11:05.795Z"
      },
      {
        "duration": 25,
        "start_time": "2022-04-25T09:11:05.806Z"
      },
      {
        "duration": 4,
        "start_time": "2022-04-25T09:11:05.833Z"
      },
      {
        "duration": 10,
        "start_time": "2022-04-25T09:11:05.839Z"
      },
      {
        "duration": 16,
        "start_time": "2022-04-25T09:11:05.894Z"
      },
      {
        "duration": 83,
        "start_time": "2022-04-25T09:11:05.912Z"
      },
      {
        "duration": 34,
        "start_time": "2022-04-25T09:13:46.943Z"
      },
      {
        "duration": 59,
        "start_time": "2022-04-25T09:13:58.362Z"
      },
      {
        "duration": 16004,
        "start_time": "2022-04-25T09:14:11.141Z"
      },
      {
        "duration": 9150,
        "start_time": "2022-04-25T09:14:37.752Z"
      },
      {
        "duration": 1546,
        "start_time": "2022-04-25T09:15:09.261Z"
      },
      {
        "duration": 13,
        "start_time": "2022-04-25T09:16:31.613Z"
      },
      {
        "duration": 1420,
        "start_time": "2022-04-25T09:16:41.471Z"
      },
      {
        "duration": 31,
        "start_time": "2022-04-25T09:16:42.893Z"
      },
      {
        "duration": 22,
        "start_time": "2022-04-25T09:16:42.926Z"
      },
      {
        "duration": 14,
        "start_time": "2022-04-25T09:16:42.949Z"
      },
      {
        "duration": 64,
        "start_time": "2022-04-25T09:16:42.965Z"
      },
      {
        "duration": 8,
        "start_time": "2022-04-25T09:16:43.031Z"
      },
      {
        "duration": 1616,
        "start_time": "2022-04-25T09:16:43.040Z"
      },
      {
        "duration": 9,
        "start_time": "2022-04-25T09:16:44.659Z"
      },
      {
        "duration": 27,
        "start_time": "2022-04-25T09:16:44.670Z"
      },
      {
        "duration": 1503,
        "start_time": "2022-04-25T09:16:44.698Z"
      },
      {
        "duration": 9,
        "start_time": "2022-04-25T09:16:46.203Z"
      },
      {
        "duration": 80,
        "start_time": "2022-04-25T09:16:46.214Z"
      },
      {
        "duration": 6,
        "start_time": "2022-04-25T09:16:46.395Z"
      },
      {
        "duration": 23,
        "start_time": "2022-04-25T09:16:46.404Z"
      },
      {
        "duration": 5,
        "start_time": "2022-04-25T09:16:46.429Z"
      },
      {
        "duration": 10,
        "start_time": "2022-04-25T09:16:46.435Z"
      },
      {
        "duration": 52,
        "start_time": "2022-04-25T09:16:46.447Z"
      },
      {
        "duration": 192,
        "start_time": "2022-04-25T09:16:46.502Z"
      },
      {
        "duration": 42,
        "start_time": "2022-04-25T09:16:46.696Z"
      },
      {
        "duration": 25458,
        "start_time": "2022-04-25T09:16:46.739Z"
      },
      {
        "duration": 28368,
        "start_time": "2022-04-27T10:20:34.880Z"
      },
      {
        "duration": 911,
        "start_time": "2022-04-27T10:21:14.967Z"
      },
      {
        "duration": 445,
        "start_time": "2022-04-27T10:21:26.618Z"
      },
      {
        "duration": 142,
        "start_time": "2022-04-27T10:35:29.442Z"
      },
      {
        "duration": 5,
        "start_time": "2022-04-27T10:35:56.146Z"
      },
      {
        "duration": 38,
        "start_time": "2022-04-27T10:41:14.729Z"
      },
      {
        "duration": 26,
        "start_time": "2022-04-27T10:41:17.515Z"
      },
      {
        "duration": 13,
        "start_time": "2022-04-27T10:41:20.662Z"
      },
      {
        "duration": 40,
        "start_time": "2022-04-27T10:41:32.026Z"
      },
      {
        "duration": 7,
        "start_time": "2022-04-27T10:41:35.241Z"
      },
      {
        "duration": 11,
        "start_time": "2022-04-27T10:44:50.099Z"
      },
      {
        "duration": 880,
        "start_time": "2022-04-27T10:45:04.462Z"
      },
      {
        "duration": 24,
        "start_time": "2022-04-27T10:46:41.983Z"
      },
      {
        "duration": 642,
        "start_time": "2022-04-27T10:46:50.419Z"
      },
      {
        "duration": 26,
        "start_time": "2022-04-27T10:47:15.065Z"
      },
      {
        "duration": 23,
        "start_time": "2022-04-27T10:47:22.607Z"
      },
      {
        "duration": 408,
        "start_time": "2022-04-27T10:47:31.015Z"
      },
      {
        "duration": 22,
        "start_time": "2022-04-27T10:48:48.095Z"
      },
      {
        "duration": 22,
        "start_time": "2022-04-27T10:49:00.771Z"
      },
      {
        "duration": 774,
        "start_time": "2022-04-27T10:49:09.884Z"
      },
      {
        "duration": 283,
        "start_time": "2022-04-27T10:49:25.362Z"
      },
      {
        "duration": 340,
        "start_time": "2022-04-27T10:49:36.122Z"
      },
      {
        "duration": 427,
        "start_time": "2022-04-27T10:49:49.803Z"
      },
      {
        "duration": 1638,
        "start_time": "2022-04-27T10:50:46.157Z"
      },
      {
        "duration": 14,
        "start_time": "2022-04-27T10:50:49.892Z"
      },
      {
        "duration": 11,
        "start_time": "2022-04-27T10:50:51.689Z"
      },
      {
        "duration": 41,
        "start_time": "2022-04-27T10:50:59.318Z"
      },
      {
        "duration": 9,
        "start_time": "2022-04-27T10:51:02.995Z"
      },
      {
        "duration": 12,
        "start_time": "2022-04-27T10:56:14.229Z"
      },
      {
        "duration": 671,
        "start_time": "2022-04-27T10:56:24.274Z"
      },
      {
        "duration": 374,
        "start_time": "2022-04-27T10:56:30.656Z"
      },
      {
        "duration": 1426,
        "start_time": "2022-04-27T10:56:34.342Z"
      },
      {
        "duration": 867,
        "start_time": "2022-04-27T10:58:24.461Z"
      },
      {
        "duration": 781,
        "start_time": "2022-04-27T10:58:53.864Z"
      },
      {
        "duration": 10,
        "start_time": "2022-04-27T11:00:13.000Z"
      },
      {
        "duration": 25,
        "start_time": "2022-04-27T11:00:29.671Z"
      },
      {
        "duration": 441,
        "start_time": "2022-04-27T11:00:45.310Z"
      },
      {
        "duration": 122,
        "start_time": "2022-04-27T11:12:14.945Z"
      },
      {
        "duration": 20,
        "start_time": "2022-04-27T11:15:21.740Z"
      },
      {
        "duration": 4256,
        "start_time": "2022-04-27T11:15:30.200Z"
      },
      {
        "duration": 3641,
        "start_time": "2022-04-27T11:16:01.224Z"
      },
      {
        "duration": 15,
        "start_time": "2022-04-27T11:16:19.609Z"
      },
      {
        "duration": 17,
        "start_time": "2022-04-27T11:16:42.646Z"
      },
      {
        "duration": 19,
        "start_time": "2022-04-27T11:17:03.466Z"
      },
      {
        "duration": 13,
        "start_time": "2022-04-27T11:17:22.526Z"
      },
      {
        "duration": 14,
        "start_time": "2022-04-27T11:18:01.621Z"
      },
      {
        "duration": 256,
        "start_time": "2022-04-27T11:18:07.998Z"
      },
      {
        "duration": 13,
        "start_time": "2022-04-27T11:25:35.380Z"
      },
      {
        "duration": 478,
        "start_time": "2022-04-27T11:25:58.988Z"
      },
      {
        "duration": 6,
        "start_time": "2022-04-27T11:26:08.530Z"
      },
      {
        "duration": 405,
        "start_time": "2022-04-27T11:26:12.628Z"
      },
      {
        "duration": 9,
        "start_time": "2022-04-27T11:26:31.943Z"
      },
      {
        "duration": 437,
        "start_time": "2022-04-27T11:27:41.141Z"
      },
      {
        "duration": 2271,
        "start_time": "2022-04-27T11:28:08.156Z"
      },
      {
        "duration": 97,
        "start_time": "2022-04-27T11:28:14.288Z"
      },
      {
        "duration": 3,
        "start_time": "2022-04-27T11:28:17.770Z"
      },
      {
        "duration": 198,
        "start_time": "2022-04-27T11:28:21.547Z"
      },
      {
        "duration": 361,
        "start_time": "2022-04-27T11:28:31.264Z"
      },
      {
        "duration": 10,
        "start_time": "2022-04-27T11:28:34.949Z"
      },
      {
        "duration": 384,
        "start_time": "2022-04-27T11:28:39.693Z"
      },
      {
        "duration": 6,
        "start_time": "2022-04-27T11:28:50.135Z"
      },
      {
        "duration": 185,
        "start_time": "2022-04-27T11:29:15.641Z"
      },
      {
        "duration": 163,
        "start_time": "2022-04-27T11:29:20.661Z"
      },
      {
        "duration": 412,
        "start_time": "2022-04-27T11:30:19.450Z"
      },
      {
        "duration": 364,
        "start_time": "2022-04-27T11:31:12.788Z"
      },
      {
        "duration": 418,
        "start_time": "2022-04-27T11:31:26.631Z"
      },
      {
        "duration": 8,
        "start_time": "2022-04-27T11:31:29.723Z"
      },
      {
        "duration": 8,
        "start_time": "2022-04-27T11:31:37.359Z"
      },
      {
        "duration": 10,
        "start_time": "2022-04-27T11:31:44.028Z"
      },
      {
        "duration": 114,
        "start_time": "2022-04-27T11:31:46.215Z"
      },
      {
        "duration": 400,
        "start_time": "2022-04-27T11:31:52.536Z"
      },
      {
        "duration": 335,
        "start_time": "2022-04-27T11:31:58.378Z"
      },
      {
        "duration": 8,
        "start_time": "2022-04-27T11:34:34.139Z"
      },
      {
        "duration": 13,
        "start_time": "2022-04-27T11:36:09.155Z"
      },
      {
        "duration": 133,
        "start_time": "2022-04-27T11:36:19.502Z"
      },
      {
        "duration": 520,
        "start_time": "2022-04-27T11:36:35.832Z"
      },
      {
        "duration": 54,
        "start_time": "2022-04-27T11:50:28.775Z"
      },
      {
        "duration": 20,
        "start_time": "2022-04-27T11:50:33.814Z"
      },
      {
        "duration": 3,
        "start_time": "2022-04-27T11:56:29.463Z"
      },
      {
        "duration": 3,
        "start_time": "2022-04-27T11:56:53.320Z"
      },
      {
        "duration": 4,
        "start_time": "2022-04-27T11:57:04.238Z"
      },
      {
        "duration": 3,
        "start_time": "2022-04-27T11:57:12.493Z"
      },
      {
        "duration": 12,
        "start_time": "2022-04-27T12:01:06.284Z"
      },
      {
        "duration": 3,
        "start_time": "2022-04-27T12:01:24.406Z"
      },
      {
        "duration": 100,
        "start_time": "2022-04-27T12:01:26.713Z"
      },
      {
        "duration": 413,
        "start_time": "2022-04-27T12:02:56.627Z"
      },
      {
        "duration": 141,
        "start_time": "2022-04-27T12:02:57.043Z"
      },
      {
        "duration": 4,
        "start_time": "2022-04-27T12:02:57.186Z"
      },
      {
        "duration": 239,
        "start_time": "2022-04-27T12:02:57.191Z"
      },
      {
        "duration": 356,
        "start_time": "2022-04-27T12:02:57.438Z"
      },
      {
        "duration": 9,
        "start_time": "2022-04-27T12:02:57.829Z"
      },
      {
        "duration": 445,
        "start_time": "2022-04-27T12:02:57.840Z"
      },
      {
        "duration": 6,
        "start_time": "2022-04-27T12:02:58.288Z"
      },
      {
        "duration": 1657,
        "start_time": "2022-04-27T12:02:58.324Z"
      },
      {
        "duration": 572,
        "start_time": "2022-04-27T12:06:02.577Z"
      },
      {
        "duration": 49,
        "start_time": "2022-04-27T12:08:36.472Z"
      },
      {
        "duration": 205,
        "start_time": "2022-04-27T12:09:21.014Z"
      },
      {
        "duration": 33,
        "start_time": "2022-04-27T12:09:46.546Z"
      },
      {
        "duration": 1400,
        "start_time": "2022-04-27T12:10:16.335Z"
      },
      {
        "duration": 9,
        "start_time": "2022-04-27T12:10:33.218Z"
      },
      {
        "duration": 344,
        "start_time": "2022-04-27T12:11:21.808Z"
      },
      {
        "duration": 3503,
        "start_time": "2022-04-27T12:12:57.555Z"
      },
      {
        "duration": 253,
        "start_time": "2022-04-27T12:14:02.126Z"
      },
      {
        "duration": 27240,
        "start_time": "2022-04-27T12:16:30.020Z"
      },
      {
        "duration": 880,
        "start_time": "2022-04-27T12:16:57.263Z"
      },
      {
        "duration": 82,
        "start_time": "2022-04-27T12:16:58.144Z"
      },
      {
        "duration": 2601,
        "start_time": "2022-04-27T12:16:58.228Z"
      },
      {
        "duration": 19,
        "start_time": "2022-04-27T12:17:00.832Z"
      },
      {
        "duration": 1896,
        "start_time": "2022-04-27T12:17:00.853Z"
      },
      {
        "duration": 6,
        "start_time": "2022-04-27T12:17:02.751Z"
      },
      {
        "duration": 2829,
        "start_time": "2022-04-27T12:17:02.823Z"
      },
      {
        "duration": 783,
        "start_time": "2022-04-27T12:17:05.654Z"
      },
      {
        "duration": 112,
        "start_time": "2022-04-27T12:17:06.439Z"
      },
      {
        "duration": 105,
        "start_time": "2022-04-27T12:17:06.554Z"
      },
      {
        "duration": 1889,
        "start_time": "2022-04-27T12:17:06.660Z"
      },
      {
        "duration": 74,
        "start_time": "2022-04-27T12:17:08.551Z"
      },
      {
        "duration": 623,
        "start_time": "2022-04-27T12:17:08.629Z"
      },
      {
        "duration": 4176,
        "start_time": "2022-04-27T12:17:09.254Z"
      },
      {
        "duration": 27042,
        "start_time": "2022-04-27T12:26:33.291Z"
      },
      {
        "duration": 920,
        "start_time": "2022-04-27T12:27:00.335Z"
      },
      {
        "duration": 91,
        "start_time": "2022-04-27T12:27:01.257Z"
      },
      {
        "duration": 2689,
        "start_time": "2022-04-27T12:27:01.350Z"
      },
      {
        "duration": 85,
        "start_time": "2022-04-27T12:27:04.042Z"
      },
      {
        "duration": 1298,
        "start_time": "2022-04-27T12:27:04.133Z"
      },
      {
        "duration": 10,
        "start_time": "2022-04-27T12:27:05.433Z"
      },
      {
        "duration": 2778,
        "start_time": "2022-04-27T12:27:05.445Z"
      },
      {
        "duration": 826,
        "start_time": "2022-04-27T12:27:08.225Z"
      },
      {
        "duration": 101,
        "start_time": "2022-04-27T12:27:09.053Z"
      },
      {
        "duration": 102,
        "start_time": "2022-04-27T12:27:09.155Z"
      },
      {
        "duration": 1692,
        "start_time": "2022-04-27T12:27:09.259Z"
      },
      {
        "duration": 75,
        "start_time": "2022-04-27T12:27:10.954Z"
      },
      {
        "duration": 622,
        "start_time": "2022-04-27T12:27:11.033Z"
      },
      {
        "duration": 3990,
        "start_time": "2022-04-27T12:27:11.657Z"
      },
      {
        "duration": 29185,
        "start_time": "2022-04-27T12:28:19.763Z"
      },
      {
        "duration": 876,
        "start_time": "2022-04-27T12:28:48.957Z"
      },
      {
        "duration": 18,
        "start_time": "2022-04-27T12:28:49.834Z"
      },
      {
        "duration": 2414,
        "start_time": "2022-04-27T12:28:49.854Z"
      },
      {
        "duration": 17,
        "start_time": "2022-04-27T12:28:52.324Z"
      },
      {
        "duration": 1337,
        "start_time": "2022-04-27T12:28:52.343Z"
      },
      {
        "duration": 42,
        "start_time": "2022-04-27T12:28:53.682Z"
      },
      {
        "duration": 3132,
        "start_time": "2022-04-27T12:28:53.727Z"
      },
      {
        "duration": 1176,
        "start_time": "2022-04-27T12:28:56.861Z"
      },
      {
        "duration": 129,
        "start_time": "2022-04-27T12:28:58.038Z"
      },
      {
        "duration": 104,
        "start_time": "2022-04-27T12:28:58.223Z"
      },
      {
        "duration": 2112,
        "start_time": "2022-04-27T12:28:58.332Z"
      },
      {
        "duration": 17,
        "start_time": "2022-04-27T12:29:00.446Z"
      },
      {
        "duration": 757,
        "start_time": "2022-04-27T12:29:00.468Z"
      },
      {
        "duration": 4600,
        "start_time": "2022-04-27T12:29:01.226Z"
      },
      {
        "duration": 698,
        "start_time": "2022-04-27T12:35:48.550Z"
      },
      {
        "duration": 0,
        "start_time": "2022-04-27T12:35:49.250Z"
      },
      {
        "duration": 0,
        "start_time": "2022-04-27T12:35:49.251Z"
      },
      {
        "duration": 0,
        "start_time": "2022-04-27T12:35:49.254Z"
      },
      {
        "duration": 0,
        "start_time": "2022-04-27T12:35:49.255Z"
      },
      {
        "duration": 0,
        "start_time": "2022-04-27T12:35:49.256Z"
      },
      {
        "duration": 0,
        "start_time": "2022-04-27T12:35:49.258Z"
      },
      {
        "duration": 0,
        "start_time": "2022-04-27T12:35:49.259Z"
      },
      {
        "duration": 0,
        "start_time": "2022-04-27T12:35:49.260Z"
      },
      {
        "duration": 0,
        "start_time": "2022-04-27T12:35:49.261Z"
      },
      {
        "duration": 0,
        "start_time": "2022-04-27T12:35:49.262Z"
      },
      {
        "duration": 0,
        "start_time": "2022-04-27T12:35:49.263Z"
      },
      {
        "duration": 0,
        "start_time": "2022-04-27T12:35:49.264Z"
      },
      {
        "duration": 0,
        "start_time": "2022-04-27T12:35:49.265Z"
      },
      {
        "duration": 0,
        "start_time": "2022-04-27T12:35:49.266Z"
      },
      {
        "duration": 0,
        "start_time": "2022-04-27T12:35:49.267Z"
      },
      {
        "duration": 26216,
        "start_time": "2022-04-27T12:38:15.135Z"
      },
      {
        "duration": 797,
        "start_time": "2022-04-27T12:38:41.353Z"
      },
      {
        "duration": 92,
        "start_time": "2022-04-27T12:38:42.152Z"
      },
      {
        "duration": 2198,
        "start_time": "2022-04-27T12:38:42.245Z"
      },
      {
        "duration": 80,
        "start_time": "2022-04-27T12:38:44.455Z"
      },
      {
        "duration": 1298,
        "start_time": "2022-04-27T12:38:44.537Z"
      },
      {
        "duration": 10,
        "start_time": "2022-04-27T12:38:45.836Z"
      },
      {
        "duration": 2796,
        "start_time": "2022-04-27T12:38:45.848Z"
      },
      {
        "duration": 810,
        "start_time": "2022-04-27T12:38:48.646Z"
      },
      {
        "duration": 103,
        "start_time": "2022-04-27T12:38:49.458Z"
      },
      {
        "duration": 96,
        "start_time": "2022-04-27T12:38:49.562Z"
      },
      {
        "duration": 1785,
        "start_time": "2022-04-27T12:38:49.660Z"
      },
      {
        "duration": 6,
        "start_time": "2022-04-27T12:38:51.447Z"
      },
      {
        "duration": 591,
        "start_time": "2022-04-27T12:38:51.456Z"
      },
      {
        "duration": 4111,
        "start_time": "2022-04-27T12:38:52.050Z"
      },
      {
        "duration": 5126,
        "start_time": "2022-04-27T12:38:56.224Z"
      },
      {
        "duration": 8,
        "start_time": "2022-04-27T12:41:59.681Z"
      },
      {
        "duration": 4256,
        "start_time": "2022-04-27T13:00:11.008Z"
      },
      {
        "duration": 2738,
        "start_time": "2022-04-27T13:01:13.854Z"
      },
      {
        "duration": 2287,
        "start_time": "2022-04-27T13:01:30.261Z"
      },
      {
        "duration": 1279,
        "start_time": "2022-04-27T13:20:09.481Z"
      },
      {
        "duration": 982,
        "start_time": "2022-04-27T13:21:06.350Z"
      },
      {
        "duration": 11,
        "start_time": "2022-04-27T13:23:21.336Z"
      },
      {
        "duration": 8,
        "start_time": "2022-04-27T13:23:33.524Z"
      },
      {
        "duration": 19,
        "start_time": "2022-04-27T13:29:57.070Z"
      },
      {
        "duration": 10,
        "start_time": "2022-04-27T13:32:39.141Z"
      },
      {
        "duration": 6,
        "start_time": "2022-04-27T13:32:54.807Z"
      },
      {
        "duration": 7,
        "start_time": "2022-04-27T13:41:34.051Z"
      },
      {
        "duration": 24838,
        "start_time": "2022-04-27T13:44:22.210Z"
      },
      {
        "duration": 678,
        "start_time": "2022-04-27T13:44:47.050Z"
      },
      {
        "duration": 15,
        "start_time": "2022-04-27T13:44:47.729Z"
      },
      {
        "duration": 1909,
        "start_time": "2022-04-27T13:44:47.746Z"
      },
      {
        "duration": 75,
        "start_time": "2022-04-27T13:44:49.657Z"
      },
      {
        "duration": 1008,
        "start_time": "2022-04-27T13:44:49.733Z"
      },
      {
        "duration": 4,
        "start_time": "2022-04-27T13:44:50.743Z"
      },
      {
        "duration": 2373,
        "start_time": "2022-04-27T13:44:50.749Z"
      },
      {
        "duration": 818,
        "start_time": "2022-04-27T13:44:53.124Z"
      },
      {
        "duration": 178,
        "start_time": "2022-04-27T13:44:53.945Z"
      },
      {
        "duration": 98,
        "start_time": "2022-04-27T13:44:54.125Z"
      },
      {
        "duration": 1631,
        "start_time": "2022-04-27T13:44:54.224Z"
      },
      {
        "duration": 71,
        "start_time": "2022-04-27T13:44:55.857Z"
      },
      {
        "duration": 600,
        "start_time": "2022-04-27T13:44:55.930Z"
      },
      {
        "duration": 3911,
        "start_time": "2022-04-27T13:44:56.532Z"
      },
      {
        "duration": 4478,
        "start_time": "2022-04-27T13:45:00.445Z"
      },
      {
        "duration": 1102,
        "start_time": "2022-04-27T13:45:04.925Z"
      },
      {
        "duration": 8,
        "start_time": "2022-04-27T13:45:06.030Z"
      },
      {
        "duration": 218,
        "start_time": "2022-04-27T13:45:06.040Z"
      },
      {
        "duration": 905,
        "start_time": "2022-04-27T13:45:59.327Z"
      },
      {
        "duration": 707,
        "start_time": "2022-04-27T14:03:41.632Z"
      },
      {
        "duration": 623,
        "start_time": "2022-04-27T14:05:15.306Z"
      },
      {
        "duration": 634,
        "start_time": "2022-04-27T14:05:29.789Z"
      },
      {
        "duration": 587,
        "start_time": "2022-04-27T14:06:16.173Z"
      },
      {
        "duration": 58,
        "start_time": "2022-04-29T14:59:55.018Z"
      },
      {
        "duration": 24088,
        "start_time": "2022-04-29T15:00:04.166Z"
      },
      {
        "duration": 697,
        "start_time": "2022-04-29T15:00:28.257Z"
      },
      {
        "duration": 79,
        "start_time": "2022-04-29T15:00:28.955Z"
      },
      {
        "duration": 1731,
        "start_time": "2022-04-29T15:00:29.036Z"
      },
      {
        "duration": 137,
        "start_time": "2022-04-29T15:00:30.833Z"
      },
      {
        "duration": 0,
        "start_time": "2022-04-29T15:00:30.972Z"
      },
      {
        "duration": 0,
        "start_time": "2022-04-29T15:00:30.974Z"
      },
      {
        "duration": 0,
        "start_time": "2022-04-29T15:00:30.975Z"
      },
      {
        "duration": 0,
        "start_time": "2022-04-29T15:00:30.976Z"
      },
      {
        "duration": 0,
        "start_time": "2022-04-29T15:00:31.034Z"
      },
      {
        "duration": 0,
        "start_time": "2022-04-29T15:00:31.036Z"
      },
      {
        "duration": 0,
        "start_time": "2022-04-29T15:00:31.037Z"
      },
      {
        "duration": 0,
        "start_time": "2022-04-29T15:00:31.038Z"
      },
      {
        "duration": 0,
        "start_time": "2022-04-29T15:00:31.040Z"
      },
      {
        "duration": 0,
        "start_time": "2022-04-29T15:00:31.042Z"
      },
      {
        "duration": 0,
        "start_time": "2022-04-29T15:00:31.043Z"
      },
      {
        "duration": 0,
        "start_time": "2022-04-29T15:00:31.047Z"
      },
      {
        "duration": 0,
        "start_time": "2022-04-29T15:00:31.049Z"
      },
      {
        "duration": 0,
        "start_time": "2022-04-29T15:00:31.050Z"
      },
      {
        "duration": 0,
        "start_time": "2022-04-29T15:00:31.052Z"
      },
      {
        "duration": 0,
        "start_time": "2022-04-29T15:00:31.053Z"
      },
      {
        "duration": 22,
        "start_time": "2022-04-29T15:00:40.147Z"
      },
      {
        "duration": 13,
        "start_time": "2022-04-29T15:00:54.585Z"
      },
      {
        "duration": 194,
        "start_time": "2022-04-29T15:01:10.748Z"
      },
      {
        "duration": 922,
        "start_time": "2022-04-29T15:01:20.216Z"
      },
      {
        "duration": 15,
        "start_time": "2022-04-29T15:02:32.012Z"
      },
      {
        "duration": 12,
        "start_time": "2022-04-29T15:02:58.171Z"
      },
      {
        "duration": 7,
        "start_time": "2022-04-29T15:04:11.023Z"
      },
      {
        "duration": 8,
        "start_time": "2022-04-29T15:05:05.686Z"
      },
      {
        "duration": 647,
        "start_time": "2022-04-29T15:06:07.025Z"
      },
      {
        "duration": 33,
        "start_time": "2022-04-29T15:06:14.135Z"
      },
      {
        "duration": 19,
        "start_time": "2022-04-29T15:06:33.669Z"
      },
      {
        "duration": 15,
        "start_time": "2022-04-29T15:06:55.130Z"
      },
      {
        "duration": 27,
        "start_time": "2022-04-29T15:07:00.455Z"
      },
      {
        "duration": 26,
        "start_time": "2022-04-29T15:07:13.397Z"
      },
      {
        "duration": 14,
        "start_time": "2022-04-29T15:07:20.869Z"
      },
      {
        "duration": 12,
        "start_time": "2022-04-29T15:07:29.123Z"
      },
      {
        "duration": 19,
        "start_time": "2022-04-29T15:07:33.137Z"
      },
      {
        "duration": 7,
        "start_time": "2022-04-29T15:07:46.499Z"
      },
      {
        "duration": 17,
        "start_time": "2022-04-29T15:07:55.001Z"
      },
      {
        "duration": 18,
        "start_time": "2022-04-29T15:08:18.415Z"
      },
      {
        "duration": 12,
        "start_time": "2022-04-29T15:08:25.200Z"
      },
      {
        "duration": 7,
        "start_time": "2022-04-29T15:08:34.976Z"
      },
      {
        "duration": 19,
        "start_time": "2022-04-29T15:08:51.929Z"
      },
      {
        "duration": 10,
        "start_time": "2022-04-29T15:09:00.926Z"
      },
      {
        "duration": 285,
        "start_time": "2022-04-29T15:09:24.250Z"
      },
      {
        "duration": 19,
        "start_time": "2022-04-29T15:09:34.899Z"
      },
      {
        "duration": 344,
        "start_time": "2022-04-29T15:09:52.487Z"
      },
      {
        "duration": 12,
        "start_time": "2022-04-29T15:10:00.875Z"
      },
      {
        "duration": 185,
        "start_time": "2022-04-29T15:10:16.254Z"
      },
      {
        "duration": 165,
        "start_time": "2022-04-29T15:11:32.023Z"
      },
      {
        "duration": 19,
        "start_time": "2022-04-29T15:11:49.324Z"
      },
      {
        "duration": 7,
        "start_time": "2022-04-29T15:15:11.680Z"
      },
      {
        "duration": 8,
        "start_time": "2022-04-29T15:15:25.660Z"
      },
      {
        "duration": 13,
        "start_time": "2022-04-29T15:15:36.199Z"
      },
      {
        "duration": 9,
        "start_time": "2022-04-29T15:15:43.558Z"
      },
      {
        "duration": 15,
        "start_time": "2022-04-29T15:16:11.836Z"
      },
      {
        "duration": 20,
        "start_time": "2022-04-29T15:16:33.810Z"
      },
      {
        "duration": 8,
        "start_time": "2022-04-29T15:16:41.266Z"
      },
      {
        "duration": 18,
        "start_time": "2022-04-29T15:16:47.383Z"
      },
      {
        "duration": 13,
        "start_time": "2022-04-29T15:17:18.750Z"
      },
      {
        "duration": 29,
        "start_time": "2022-04-29T15:18:44.201Z"
      },
      {
        "duration": 14,
        "start_time": "2022-04-29T15:18:50.266Z"
      },
      {
        "duration": 545,
        "start_time": "2022-04-29T15:21:16.725Z"
      },
      {
        "duration": 22,
        "start_time": "2022-04-29T15:21:33.404Z"
      },
      {
        "duration": 17,
        "start_time": "2022-04-29T15:21:46.912Z"
      },
      {
        "duration": 7,
        "start_time": "2022-04-29T15:21:58.056Z"
      },
      {
        "duration": 20,
        "start_time": "2022-04-29T15:22:03.872Z"
      },
      {
        "duration": 15,
        "start_time": "2022-04-29T15:25:09.296Z"
      },
      {
        "duration": 12,
        "start_time": "2022-04-29T15:25:14.271Z"
      },
      {
        "duration": 11,
        "start_time": "2022-04-29T15:25:20.376Z"
      },
      {
        "duration": 8,
        "start_time": "2022-04-29T15:25:34.046Z"
      },
      {
        "duration": 8,
        "start_time": "2022-04-29T15:25:41.731Z"
      },
      {
        "duration": 13,
        "start_time": "2022-04-29T15:26:21.949Z"
      },
      {
        "duration": 159,
        "start_time": "2022-04-29T15:26:27.630Z"
      },
      {
        "duration": 15,
        "start_time": "2022-04-29T15:26:41.314Z"
      },
      {
        "duration": 24,
        "start_time": "2022-04-29T15:27:41.373Z"
      },
      {
        "duration": 342,
        "start_time": "2022-04-29T15:27:46.898Z"
      },
      {
        "duration": 221,
        "start_time": "2022-04-29T15:28:03.054Z"
      },
      {
        "duration": 428,
        "start_time": "2022-04-29T15:28:08.217Z"
      },
      {
        "duration": 14,
        "start_time": "2022-04-29T15:28:20.431Z"
      },
      {
        "duration": 280,
        "start_time": "2022-04-29T15:28:28.268Z"
      },
      {
        "duration": 11,
        "start_time": "2022-04-29T15:29:19.375Z"
      },
      {
        "duration": 499,
        "start_time": "2022-04-29T15:29:33.547Z"
      },
      {
        "duration": 15,
        "start_time": "2022-04-29T15:29:46.556Z"
      },
      {
        "duration": 350,
        "start_time": "2022-04-29T15:29:56.998Z"
      },
      {
        "duration": 8,
        "start_time": "2022-04-29T15:30:03.982Z"
      },
      {
        "duration": 279,
        "start_time": "2022-04-29T15:31:08.371Z"
      },
      {
        "duration": 378,
        "start_time": "2022-04-29T15:31:22.365Z"
      },
      {
        "duration": 12,
        "start_time": "2022-04-29T15:32:39.118Z"
      },
      {
        "duration": 302,
        "start_time": "2022-04-29T15:32:50.070Z"
      },
      {
        "duration": 12,
        "start_time": "2022-04-29T15:33:57.900Z"
      },
      {
        "duration": 14,
        "start_time": "2022-04-29T15:34:08.987Z"
      },
      {
        "duration": 214,
        "start_time": "2022-04-29T15:34:14.725Z"
      },
      {
        "duration": 18,
        "start_time": "2022-04-29T15:34:25.069Z"
      },
      {
        "duration": 194,
        "start_time": "2022-04-29T15:38:05.681Z"
      },
      {
        "duration": 310,
        "start_time": "2022-04-29T15:38:20.825Z"
      },
      {
        "duration": 16,
        "start_time": "2022-04-29T15:38:38.120Z"
      },
      {
        "duration": 13,
        "start_time": "2022-04-29T15:38:39.535Z"
      },
      {
        "duration": 13,
        "start_time": "2022-04-29T15:38:55.307Z"
      },
      {
        "duration": 274,
        "start_time": "2022-04-29T15:39:05.371Z"
      },
      {
        "duration": 332,
        "start_time": "2022-04-29T15:39:19.519Z"
      },
      {
        "duration": 18,
        "start_time": "2022-04-29T15:39:35.581Z"
      },
      {
        "duration": 461,
        "start_time": "2022-04-29T15:39:48.416Z"
      },
      {
        "duration": 22,
        "start_time": "2022-04-29T15:39:55.834Z"
      },
      {
        "duration": 15,
        "start_time": "2022-04-29T15:40:03.095Z"
      },
      {
        "duration": 17,
        "start_time": "2022-04-29T15:40:09.776Z"
      },
      {
        "duration": 13,
        "start_time": "2022-04-29T15:40:45.976Z"
      },
      {
        "duration": 186,
        "start_time": "2022-04-29T15:40:54.206Z"
      },
      {
        "duration": 211,
        "start_time": "2022-04-29T15:41:36.535Z"
      },
      {
        "duration": 194,
        "start_time": "2022-04-29T15:41:46.472Z"
      },
      {
        "duration": 14,
        "start_time": "2022-04-29T15:42:12.060Z"
      },
      {
        "duration": 120,
        "start_time": "2022-04-29T15:42:19.719Z"
      },
      {
        "duration": 131,
        "start_time": "2022-04-29T15:42:32.414Z"
      },
      {
        "duration": 16,
        "start_time": "2022-04-29T15:42:44.978Z"
      },
      {
        "duration": 11,
        "start_time": "2022-04-29T15:42:59.078Z"
      },
      {
        "duration": 159,
        "start_time": "2022-04-29T15:43:19.800Z"
      },
      {
        "duration": 13,
        "start_time": "2022-04-29T15:43:24.960Z"
      },
      {
        "duration": 1824,
        "start_time": "2022-04-29T15:43:32.262Z"
      },
      {
        "duration": 163,
        "start_time": "2022-04-29T15:43:43.586Z"
      },
      {
        "duration": 120,
        "start_time": "2022-04-29T15:44:15.976Z"
      },
      {
        "duration": 174,
        "start_time": "2022-04-29T15:44:23.687Z"
      },
      {
        "duration": 164,
        "start_time": "2022-04-29T15:44:56.362Z"
      },
      {
        "duration": 181,
        "start_time": "2022-04-29T15:45:01.579Z"
      },
      {
        "duration": 15,
        "start_time": "2022-04-29T15:45:18.069Z"
      },
      {
        "duration": 20,
        "start_time": "2022-04-29T15:45:23.717Z"
      },
      {
        "duration": 32,
        "start_time": "2022-04-29T16:55:02.168Z"
      },
      {
        "duration": 386,
        "start_time": "2022-04-29T16:55:07.287Z"
      },
      {
        "duration": 208,
        "start_time": "2022-04-29T16:55:20.572Z"
      },
      {
        "duration": 174,
        "start_time": "2022-04-29T16:55:51.844Z"
      },
      {
        "duration": 182,
        "start_time": "2022-04-29T16:56:04.161Z"
      },
      {
        "duration": 23,
        "start_time": "2022-04-29T16:56:26.081Z"
      },
      {
        "duration": 231,
        "start_time": "2022-04-29T16:56:45.204Z"
      },
      {
        "duration": 180,
        "start_time": "2022-04-29T16:57:03.935Z"
      },
      {
        "duration": 25,
        "start_time": "2022-04-29T16:57:12.643Z"
      },
      {
        "duration": 15,
        "start_time": "2022-04-29T16:57:32.224Z"
      },
      {
        "duration": 10,
        "start_time": "2022-04-29T16:57:46.290Z"
      },
      {
        "duration": 13,
        "start_time": "2022-04-29T16:57:58.543Z"
      },
      {
        "duration": 19,
        "start_time": "2022-04-29T16:58:05.900Z"
      },
      {
        "duration": 647,
        "start_time": "2022-04-29T16:58:30.498Z"
      },
      {
        "duration": 14,
        "start_time": "2022-04-29T16:58:47.436Z"
      },
      {
        "duration": 173,
        "start_time": "2022-04-29T16:58:56.061Z"
      },
      {
        "duration": 21,
        "start_time": "2022-04-29T17:00:42.085Z"
      },
      {
        "duration": 178,
        "start_time": "2022-04-29T17:01:34.462Z"
      },
      {
        "duration": 18,
        "start_time": "2022-04-29T17:01:44.043Z"
      },
      {
        "duration": 8,
        "start_time": "2022-04-29T17:03:00.292Z"
      },
      {
        "duration": 25,
        "start_time": "2022-04-29T17:03:07.957Z"
      },
      {
        "duration": 223,
        "start_time": "2022-04-29T17:03:11.524Z"
      },
      {
        "duration": 21,
        "start_time": "2022-04-29T17:03:17.292Z"
      },
      {
        "duration": 21,
        "start_time": "2022-04-29T17:03:30.711Z"
      },
      {
        "duration": 9,
        "start_time": "2022-04-29T17:03:37.664Z"
      },
      {
        "duration": 14,
        "start_time": "2022-04-29T17:03:55.117Z"
      },
      {
        "duration": 9,
        "start_time": "2022-04-29T17:03:58.072Z"
      },
      {
        "duration": 26656,
        "start_time": "2022-04-29T17:04:18.486Z"
      },
      {
        "duration": 792,
        "start_time": "2022-04-29T17:04:45.146Z"
      },
      {
        "duration": 21,
        "start_time": "2022-04-29T17:04:45.940Z"
      },
      {
        "duration": 2379,
        "start_time": "2022-04-29T17:04:45.964Z"
      },
      {
        "duration": 16,
        "start_time": "2022-04-29T17:04:48.345Z"
      },
      {
        "duration": 1010,
        "start_time": "2022-04-29T17:04:48.434Z"
      },
      {
        "duration": 24,
        "start_time": "2022-04-29T17:04:49.446Z"
      },
      {
        "duration": 91,
        "start_time": "2022-04-29T17:04:49.473Z"
      },
      {
        "duration": 136,
        "start_time": "2022-04-29T17:04:49.566Z"
      },
      {
        "duration": 0,
        "start_time": "2022-04-29T17:04:49.704Z"
      },
      {
        "duration": 0,
        "start_time": "2022-04-29T17:04:49.705Z"
      },
      {
        "duration": 0,
        "start_time": "2022-04-29T17:04:49.706Z"
      },
      {
        "duration": 0,
        "start_time": "2022-04-29T17:04:49.707Z"
      },
      {
        "duration": 0,
        "start_time": "2022-04-29T17:04:49.708Z"
      },
      {
        "duration": 0,
        "start_time": "2022-04-29T17:04:49.710Z"
      },
      {
        "duration": 0,
        "start_time": "2022-04-29T17:04:49.711Z"
      },
      {
        "duration": 0,
        "start_time": "2022-04-29T17:04:49.712Z"
      },
      {
        "duration": 0,
        "start_time": "2022-04-29T17:04:49.713Z"
      },
      {
        "duration": 0,
        "start_time": "2022-04-29T17:04:49.734Z"
      },
      {
        "duration": 0,
        "start_time": "2022-04-29T17:04:49.735Z"
      },
      {
        "duration": 0,
        "start_time": "2022-04-29T17:04:49.737Z"
      },
      {
        "duration": 0,
        "start_time": "2022-04-29T17:04:49.738Z"
      },
      {
        "duration": 0,
        "start_time": "2022-04-29T17:04:49.740Z"
      },
      {
        "duration": 0,
        "start_time": "2022-04-29T17:04:49.741Z"
      },
      {
        "duration": 0,
        "start_time": "2022-04-29T17:04:49.742Z"
      },
      {
        "duration": 638,
        "start_time": "2022-04-29T17:05:18.116Z"
      },
      {
        "duration": 13,
        "start_time": "2022-04-29T17:05:22.807Z"
      },
      {
        "duration": 1047,
        "start_time": "2022-04-29T17:05:23.802Z"
      },
      {
        "duration": 636,
        "start_time": "2022-04-29T17:09:01.913Z"
      },
      {
        "duration": 29,
        "start_time": "2022-04-29T17:09:33.473Z"
      },
      {
        "duration": 502,
        "start_time": "2022-04-29T17:09:38.854Z"
      },
      {
        "duration": 211,
        "start_time": "2022-04-29T17:10:01.723Z"
      },
      {
        "duration": 1976,
        "start_time": "2022-04-29T17:10:06.180Z"
      },
      {
        "duration": 17,
        "start_time": "2022-04-29T17:12:19.987Z"
      },
      {
        "duration": 72,
        "start_time": "2022-05-01T05:14:12.607Z"
      },
      {
        "duration": 31093,
        "start_time": "2022-05-01T05:14:21.894Z"
      },
      {
        "duration": 1016,
        "start_time": "2022-05-01T05:14:52.991Z"
      },
      {
        "duration": 94,
        "start_time": "2022-05-01T05:14:54.010Z"
      },
      {
        "duration": 2676,
        "start_time": "2022-05-01T05:14:54.107Z"
      },
      {
        "duration": 23,
        "start_time": "2022-05-01T05:14:56.788Z"
      },
      {
        "duration": 1098,
        "start_time": "2022-05-01T05:14:56.813Z"
      },
      {
        "duration": 99,
        "start_time": "2022-05-01T05:14:57.913Z"
      },
      {
        "duration": 98,
        "start_time": "2022-05-01T05:14:58.015Z"
      },
      {
        "duration": 1078,
        "start_time": "2022-05-01T05:14:58.115Z"
      },
      {
        "duration": 1299,
        "start_time": "2022-05-01T05:14:59.195Z"
      },
      {
        "duration": 10,
        "start_time": "2022-05-01T05:15:00.497Z"
      },
      {
        "duration": 2900,
        "start_time": "2022-05-01T05:15:00.509Z"
      },
      {
        "duration": 971,
        "start_time": "2022-05-01T05:15:03.412Z"
      },
      {
        "duration": 116,
        "start_time": "2022-05-01T05:15:04.387Z"
      },
      {
        "duration": 121,
        "start_time": "2022-05-01T05:15:04.505Z"
      },
      {
        "duration": 1634,
        "start_time": "2022-05-01T05:15:04.629Z"
      },
      {
        "duration": 0,
        "start_time": "2022-05-01T05:15:06.265Z"
      },
      {
        "duration": 0,
        "start_time": "2022-05-01T05:15:06.267Z"
      },
      {
        "duration": 0,
        "start_time": "2022-05-01T05:15:06.270Z"
      },
      {
        "duration": 0,
        "start_time": "2022-05-01T05:15:06.272Z"
      },
      {
        "duration": 0,
        "start_time": "2022-05-01T05:15:06.274Z"
      },
      {
        "duration": 0,
        "start_time": "2022-05-01T05:15:06.276Z"
      },
      {
        "duration": 0,
        "start_time": "2022-05-01T05:15:06.278Z"
      },
      {
        "duration": 0,
        "start_time": "2022-05-01T05:15:06.281Z"
      },
      {
        "duration": 0,
        "start_time": "2022-05-01T05:15:06.283Z"
      },
      {
        "duration": 24,
        "start_time": "2022-05-01T05:15:15.634Z"
      },
      {
        "duration": 19,
        "start_time": "2022-05-01T05:15:34.290Z"
      },
      {
        "duration": 547,
        "start_time": "2022-05-01T05:15:52.540Z"
      },
      {
        "duration": 575,
        "start_time": "2022-05-01T05:16:05.712Z"
      },
      {
        "duration": 22,
        "start_time": "2022-05-01T05:16:24.218Z"
      },
      {
        "duration": 365,
        "start_time": "2022-05-01T05:17:40.848Z"
      },
      {
        "duration": 36,
        "start_time": "2022-05-01T05:18:15.340Z"
      },
      {
        "duration": 30,
        "start_time": "2022-05-01T05:18:23.671Z"
      },
      {
        "duration": 364,
        "start_time": "2022-05-01T05:18:29.235Z"
      },
      {
        "duration": 10,
        "start_time": "2022-05-01T05:32:11.860Z"
      },
      {
        "duration": 10,
        "start_time": "2022-05-01T05:32:19.261Z"
      },
      {
        "duration": 552,
        "start_time": "2022-05-01T05:32:25.654Z"
      },
      {
        "duration": 1648,
        "start_time": "2022-05-01T05:32:50.095Z"
      },
      {
        "duration": 31652,
        "start_time": "2022-05-01T05:33:13.430Z"
      },
      {
        "duration": 1123,
        "start_time": "2022-05-01T05:33:45.087Z"
      },
      {
        "duration": 86,
        "start_time": "2022-05-01T05:33:46.213Z"
      },
      {
        "duration": 2990,
        "start_time": "2022-05-01T05:33:46.301Z"
      },
      {
        "duration": 89,
        "start_time": "2022-05-01T05:33:49.296Z"
      },
      {
        "duration": 1094,
        "start_time": "2022-05-01T05:33:49.388Z"
      },
      {
        "duration": 32,
        "start_time": "2022-05-01T05:33:50.485Z"
      },
      {
        "duration": 1209,
        "start_time": "2022-05-01T05:33:50.583Z"
      },
      {
        "duration": 106,
        "start_time": "2022-05-01T05:33:51.795Z"
      },
      {
        "duration": 984,
        "start_time": "2022-05-01T05:33:51.903Z"
      },
      {
        "duration": 1394,
        "start_time": "2022-05-01T05:33:52.889Z"
      },
      {
        "duration": 4,
        "start_time": "2022-05-01T05:33:54.286Z"
      },
      {
        "duration": 3421,
        "start_time": "2022-05-01T05:33:54.292Z"
      },
      {
        "duration": 1072,
        "start_time": "2022-05-01T05:33:57.719Z"
      },
      {
        "duration": 116,
        "start_time": "2022-05-01T05:33:58.794Z"
      },
      {
        "duration": 184,
        "start_time": "2022-05-01T05:33:58.913Z"
      },
      {
        "duration": 1318,
        "start_time": "2022-05-01T05:33:59.101Z"
      },
      {
        "duration": 0,
        "start_time": "2022-05-01T05:34:00.421Z"
      },
      {
        "duration": 0,
        "start_time": "2022-05-01T05:34:00.424Z"
      },
      {
        "duration": 0,
        "start_time": "2022-05-01T05:34:00.425Z"
      },
      {
        "duration": 0,
        "start_time": "2022-05-01T05:34:00.427Z"
      },
      {
        "duration": 0,
        "start_time": "2022-05-01T05:34:00.429Z"
      },
      {
        "duration": 0,
        "start_time": "2022-05-01T05:34:00.430Z"
      },
      {
        "duration": 0,
        "start_time": "2022-05-01T05:34:00.432Z"
      },
      {
        "duration": 0,
        "start_time": "2022-05-01T05:34:00.434Z"
      },
      {
        "duration": 0,
        "start_time": "2022-05-01T05:34:00.435Z"
      },
      {
        "duration": 636,
        "start_time": "2022-05-01T05:34:16.177Z"
      },
      {
        "duration": 1585,
        "start_time": "2022-05-01T05:34:24.497Z"
      },
      {
        "duration": 30570,
        "start_time": "2022-05-01T05:34:47.946Z"
      },
      {
        "duration": 1015,
        "start_time": "2022-05-01T05:35:18.583Z"
      },
      {
        "duration": 88,
        "start_time": "2022-05-01T05:35:19.600Z"
      },
      {
        "duration": 2698,
        "start_time": "2022-05-01T05:35:19.691Z"
      },
      {
        "duration": 22,
        "start_time": "2022-05-01T05:35:22.392Z"
      },
      {
        "duration": 1173,
        "start_time": "2022-05-01T05:35:22.416Z"
      },
      {
        "duration": 95,
        "start_time": "2022-05-01T05:35:23.591Z"
      },
      {
        "duration": 1123,
        "start_time": "2022-05-01T05:35:23.689Z"
      },
      {
        "duration": 104,
        "start_time": "2022-05-01T05:35:24.883Z"
      },
      {
        "duration": 1106,
        "start_time": "2022-05-01T05:35:24.990Z"
      },
      {
        "duration": 1196,
        "start_time": "2022-05-01T05:35:26.098Z"
      },
      {
        "duration": 4,
        "start_time": "2022-05-01T05:35:27.296Z"
      },
      {
        "duration": 2781,
        "start_time": "2022-05-01T05:35:27.302Z"
      },
      {
        "duration": 1300,
        "start_time": "2022-05-01T05:35:30.087Z"
      },
      {
        "duration": 197,
        "start_time": "2022-05-01T05:35:31.389Z"
      },
      {
        "duration": 122,
        "start_time": "2022-05-01T05:35:31.588Z"
      },
      {
        "duration": 1514,
        "start_time": "2022-05-01T05:35:31.712Z"
      },
      {
        "duration": 0,
        "start_time": "2022-05-01T05:35:33.229Z"
      },
      {
        "duration": 0,
        "start_time": "2022-05-01T05:35:33.231Z"
      },
      {
        "duration": 0,
        "start_time": "2022-05-01T05:35:33.233Z"
      },
      {
        "duration": 0,
        "start_time": "2022-05-01T05:35:33.234Z"
      },
      {
        "duration": 0,
        "start_time": "2022-05-01T05:35:33.235Z"
      },
      {
        "duration": 0,
        "start_time": "2022-05-01T05:35:33.237Z"
      },
      {
        "duration": 0,
        "start_time": "2022-05-01T05:35:33.238Z"
      },
      {
        "duration": 0,
        "start_time": "2022-05-01T05:35:33.239Z"
      },
      {
        "duration": 0,
        "start_time": "2022-05-01T05:35:33.241Z"
      },
      {
        "duration": 108,
        "start_time": "2022-05-01T05:36:27.218Z"
      },
      {
        "duration": 25,
        "start_time": "2022-05-01T05:36:31.478Z"
      },
      {
        "duration": 516,
        "start_time": "2022-05-01T05:36:39.378Z"
      },
      {
        "duration": 494,
        "start_time": "2022-05-01T05:36:47.803Z"
      },
      {
        "duration": 428,
        "start_time": "2022-05-01T05:36:54.171Z"
      },
      {
        "duration": 342,
        "start_time": "2022-05-01T05:37:02.676Z"
      },
      {
        "duration": 6,
        "start_time": "2022-05-01T05:38:42.467Z"
      },
      {
        "duration": 8,
        "start_time": "2022-05-01T05:42:29.346Z"
      },
      {
        "duration": 9,
        "start_time": "2022-05-01T05:42:32.582Z"
      },
      {
        "duration": 916,
        "start_time": "2022-05-01T05:44:58.594Z"
      },
      {
        "duration": 5,
        "start_time": "2022-05-01T05:47:06.197Z"
      },
      {
        "duration": 219,
        "start_time": "2022-05-01T05:47:55.673Z"
      },
      {
        "duration": 18,
        "start_time": "2022-05-01T06:20:06.872Z"
      },
      {
        "duration": 23,
        "start_time": "2022-05-01T06:20:14.416Z"
      },
      {
        "duration": 5269,
        "start_time": "2022-05-01T06:20:20.125Z"
      },
      {
        "duration": 3793,
        "start_time": "2022-05-01T06:20:38.990Z"
      },
      {
        "duration": 3002,
        "start_time": "2022-05-01T06:20:48.792Z"
      },
      {
        "duration": 2486,
        "start_time": "2022-05-01T06:21:04.618Z"
      },
      {
        "duration": 2232,
        "start_time": "2022-05-01T06:21:22.461Z"
      },
      {
        "duration": 2065,
        "start_time": "2022-05-01T06:21:33.530Z"
      },
      {
        "duration": 2218,
        "start_time": "2022-05-01T06:21:51.181Z"
      },
      {
        "duration": 1776,
        "start_time": "2022-05-01T06:21:58.222Z"
      },
      {
        "duration": 2009,
        "start_time": "2022-05-01T06:22:08.303Z"
      },
      {
        "duration": 1834,
        "start_time": "2022-05-01T06:22:16.590Z"
      },
      {
        "duration": 1882,
        "start_time": "2022-05-01T06:22:29.221Z"
      },
      {
        "duration": 2062,
        "start_time": "2022-05-01T06:22:37.033Z"
      },
      {
        "duration": 1577,
        "start_time": "2022-05-01T06:22:47.237Z"
      },
      {
        "duration": 1873,
        "start_time": "2022-05-01T06:22:57.309Z"
      },
      {
        "duration": 1665,
        "start_time": "2022-05-01T06:23:08.264Z"
      },
      {
        "duration": 1506,
        "start_time": "2022-05-01T06:23:41.912Z"
      },
      {
        "duration": 110,
        "start_time": "2022-05-01T06:24:05.091Z"
      },
      {
        "duration": 1446,
        "start_time": "2022-05-01T06:24:24.181Z"
      },
      {
        "duration": 1613,
        "start_time": "2022-05-01T06:24:33.109Z"
      },
      {
        "duration": 1487,
        "start_time": "2022-05-01T06:24:38.394Z"
      },
      {
        "duration": 1426,
        "start_time": "2022-05-01T06:24:54.374Z"
      },
      {
        "duration": 1459,
        "start_time": "2022-05-01T06:25:13.580Z"
      },
      {
        "duration": 1349,
        "start_time": "2022-05-01T06:25:43.266Z"
      },
      {
        "duration": 1361,
        "start_time": "2022-05-01T06:27:02.128Z"
      },
      {
        "duration": 169,
        "start_time": "2022-05-01T06:27:31.922Z"
      },
      {
        "duration": 148,
        "start_time": "2022-05-01T06:27:48.360Z"
      },
      {
        "duration": 1335,
        "start_time": "2022-05-01T06:28:17.195Z"
      },
      {
        "duration": 2054,
        "start_time": "2022-05-01T06:28:26.245Z"
      },
      {
        "duration": 2319,
        "start_time": "2022-05-01T06:28:37.382Z"
      },
      {
        "duration": 2336,
        "start_time": "2022-05-01T06:28:46.651Z"
      },
      {
        "duration": 1908,
        "start_time": "2022-05-01T06:28:56.174Z"
      },
      {
        "duration": 1391,
        "start_time": "2022-05-01T06:29:00.956Z"
      },
      {
        "duration": 1333,
        "start_time": "2022-05-01T06:29:05.790Z"
      },
      {
        "duration": 1552,
        "start_time": "2022-05-01T06:29:26.562Z"
      },
      {
        "duration": 1691,
        "start_time": "2022-05-01T06:32:02.500Z"
      },
      {
        "duration": 122,
        "start_time": "2022-05-01T06:32:15.454Z"
      },
      {
        "duration": 1540,
        "start_time": "2022-05-01T06:32:30.751Z"
      },
      {
        "duration": 1687,
        "start_time": "2022-05-01T06:32:39.935Z"
      },
      {
        "duration": 11,
        "start_time": "2022-05-01T06:38:27.215Z"
      },
      {
        "duration": 15,
        "start_time": "2022-05-01T06:38:48.001Z"
      },
      {
        "duration": 669,
        "start_time": "2022-05-01T06:39:08.579Z"
      },
      {
        "duration": 20478,
        "start_time": "2022-05-01T06:39:09.251Z"
      },
      {
        "duration": 11679,
        "start_time": "2022-05-01T06:39:29.732Z"
      },
      {
        "duration": 92,
        "start_time": "2022-05-01T06:39:41.414Z"
      },
      {
        "duration": 985,
        "start_time": "2022-05-01T06:39:41.509Z"
      },
      {
        "duration": 7399,
        "start_time": "2022-05-01T06:39:42.496Z"
      },
      {
        "duration": 134,
        "start_time": "2022-05-01T06:39:49.898Z"
      },
      {
        "duration": 0,
        "start_time": "2022-05-01T06:39:50.035Z"
      },
      {
        "duration": 0,
        "start_time": "2022-05-01T06:39:50.038Z"
      },
      {
        "duration": 0,
        "start_time": "2022-05-01T06:39:50.039Z"
      },
      {
        "duration": 0,
        "start_time": "2022-05-01T06:39:50.040Z"
      },
      {
        "duration": 0,
        "start_time": "2022-05-01T06:39:50.042Z"
      },
      {
        "duration": 0,
        "start_time": "2022-05-01T06:39:50.044Z"
      },
      {
        "duration": 0,
        "start_time": "2022-05-01T06:39:50.046Z"
      },
      {
        "duration": 0,
        "start_time": "2022-05-01T06:39:50.047Z"
      },
      {
        "duration": 0,
        "start_time": "2022-05-01T06:39:50.049Z"
      },
      {
        "duration": 0,
        "start_time": "2022-05-01T06:39:50.050Z"
      },
      {
        "duration": 0,
        "start_time": "2022-05-01T06:39:50.052Z"
      },
      {
        "duration": 0,
        "start_time": "2022-05-01T06:39:50.053Z"
      },
      {
        "duration": 0,
        "start_time": "2022-05-01T06:39:50.082Z"
      },
      {
        "duration": 0,
        "start_time": "2022-05-01T06:39:50.084Z"
      },
      {
        "duration": 0,
        "start_time": "2022-05-01T06:39:50.086Z"
      },
      {
        "duration": 0,
        "start_time": "2022-05-01T06:39:50.087Z"
      },
      {
        "duration": 0,
        "start_time": "2022-05-01T06:39:50.089Z"
      },
      {
        "duration": 0,
        "start_time": "2022-05-01T06:39:50.090Z"
      },
      {
        "duration": 0,
        "start_time": "2022-05-01T06:39:50.092Z"
      },
      {
        "duration": 0,
        "start_time": "2022-05-01T06:39:50.094Z"
      },
      {
        "duration": 0,
        "start_time": "2022-05-01T06:39:50.095Z"
      },
      {
        "duration": 0,
        "start_time": "2022-05-01T06:39:50.097Z"
      },
      {
        "duration": 0,
        "start_time": "2022-05-01T06:39:50.099Z"
      },
      {
        "duration": 1655,
        "start_time": "2022-05-01T06:41:41.834Z"
      },
      {
        "duration": 13,
        "start_time": "2022-05-01T06:42:19.351Z"
      },
      {
        "duration": 13,
        "start_time": "2022-05-01T06:43:04.825Z"
      },
      {
        "duration": 1200,
        "start_time": "2022-05-01T06:43:13.895Z"
      },
      {
        "duration": 12,
        "start_time": "2022-05-01T06:43:19.134Z"
      },
      {
        "duration": 699,
        "start_time": "2022-05-01T06:43:33.453Z"
      },
      {
        "duration": 19271,
        "start_time": "2022-05-01T06:43:34.155Z"
      },
      {
        "duration": 11466,
        "start_time": "2022-05-01T06:43:53.429Z"
      },
      {
        "duration": 84,
        "start_time": "2022-05-01T06:44:04.898Z"
      },
      {
        "duration": 1031,
        "start_time": "2022-05-01T06:44:04.986Z"
      },
      {
        "duration": 7529,
        "start_time": "2022-05-01T06:44:06.082Z"
      },
      {
        "duration": 214,
        "start_time": "2022-05-01T06:44:13.614Z"
      },
      {
        "duration": 0,
        "start_time": "2022-05-01T06:44:13.831Z"
      },
      {
        "duration": 0,
        "start_time": "2022-05-01T06:44:13.834Z"
      },
      {
        "duration": 0,
        "start_time": "2022-05-01T06:44:13.836Z"
      },
      {
        "duration": 0,
        "start_time": "2022-05-01T06:44:13.838Z"
      },
      {
        "duration": 0,
        "start_time": "2022-05-01T06:44:13.840Z"
      },
      {
        "duration": 0,
        "start_time": "2022-05-01T06:44:13.842Z"
      },
      {
        "duration": 0,
        "start_time": "2022-05-01T06:44:13.845Z"
      },
      {
        "duration": 0,
        "start_time": "2022-05-01T06:44:13.847Z"
      },
      {
        "duration": 0,
        "start_time": "2022-05-01T06:44:13.849Z"
      },
      {
        "duration": 0,
        "start_time": "2022-05-01T06:44:13.882Z"
      },
      {
        "duration": 0,
        "start_time": "2022-05-01T06:44:13.884Z"
      },
      {
        "duration": 0,
        "start_time": "2022-05-01T06:44:13.887Z"
      },
      {
        "duration": 0,
        "start_time": "2022-05-01T06:44:13.889Z"
      },
      {
        "duration": 0,
        "start_time": "2022-05-01T06:44:13.891Z"
      },
      {
        "duration": 0,
        "start_time": "2022-05-01T06:44:13.893Z"
      },
      {
        "duration": 0,
        "start_time": "2022-05-01T06:44:13.895Z"
      },
      {
        "duration": 0,
        "start_time": "2022-05-01T06:44:13.897Z"
      },
      {
        "duration": 0,
        "start_time": "2022-05-01T06:44:13.899Z"
      },
      {
        "duration": 0,
        "start_time": "2022-05-01T06:44:13.901Z"
      },
      {
        "duration": 0,
        "start_time": "2022-05-01T06:44:13.903Z"
      },
      {
        "duration": 0,
        "start_time": "2022-05-01T06:44:13.905Z"
      },
      {
        "duration": 0,
        "start_time": "2022-05-01T06:44:13.907Z"
      },
      {
        "duration": 0,
        "start_time": "2022-05-01T06:44:13.909Z"
      },
      {
        "duration": 2091,
        "start_time": "2022-05-01T06:44:21.896Z"
      },
      {
        "duration": 14,
        "start_time": "2022-05-01T06:44:37.664Z"
      },
      {
        "duration": 12,
        "start_time": "2022-05-01T06:45:27.563Z"
      },
      {
        "duration": 12,
        "start_time": "2022-05-01T06:45:37.763Z"
      },
      {
        "duration": 13,
        "start_time": "2022-05-01T06:45:55.527Z"
      },
      {
        "duration": 1248,
        "start_time": "2022-05-01T06:45:58.149Z"
      },
      {
        "duration": 1024,
        "start_time": "2022-05-01T06:46:24.562Z"
      },
      {
        "duration": 620,
        "start_time": "2022-05-01T06:46:38.213Z"
      },
      {
        "duration": 19910,
        "start_time": "2022-05-01T06:46:38.837Z"
      },
      {
        "duration": 13744,
        "start_time": "2022-05-01T06:46:58.750Z"
      },
      {
        "duration": 90,
        "start_time": "2022-05-01T06:47:12.497Z"
      },
      {
        "duration": 1116,
        "start_time": "2022-05-01T06:47:12.590Z"
      },
      {
        "duration": 8283,
        "start_time": "2022-05-01T06:47:13.708Z"
      },
      {
        "duration": 2095,
        "start_time": "2022-05-01T06:47:21.994Z"
      },
      {
        "duration": 228,
        "start_time": "2022-05-01T06:47:24.093Z"
      },
      {
        "duration": 0,
        "start_time": "2022-05-01T06:47:24.381Z"
      },
      {
        "duration": 0,
        "start_time": "2022-05-01T06:47:24.383Z"
      },
      {
        "duration": 0,
        "start_time": "2022-05-01T06:47:24.385Z"
      },
      {
        "duration": 0,
        "start_time": "2022-05-01T06:47:24.386Z"
      },
      {
        "duration": 0,
        "start_time": "2022-05-01T06:47:24.388Z"
      },
      {
        "duration": 0,
        "start_time": "2022-05-01T06:47:24.391Z"
      },
      {
        "duration": 0,
        "start_time": "2022-05-01T06:47:24.393Z"
      },
      {
        "duration": 0,
        "start_time": "2022-05-01T06:47:24.394Z"
      },
      {
        "duration": 0,
        "start_time": "2022-05-01T06:47:24.397Z"
      },
      {
        "duration": 0,
        "start_time": "2022-05-01T06:47:24.398Z"
      },
      {
        "duration": 0,
        "start_time": "2022-05-01T06:47:24.400Z"
      },
      {
        "duration": 0,
        "start_time": "2022-05-01T06:47:24.402Z"
      },
      {
        "duration": 0,
        "start_time": "2022-05-01T06:47:24.404Z"
      },
      {
        "duration": 0,
        "start_time": "2022-05-01T06:47:24.406Z"
      },
      {
        "duration": 0,
        "start_time": "2022-05-01T06:47:24.409Z"
      },
      {
        "duration": 0,
        "start_time": "2022-05-01T06:47:24.482Z"
      },
      {
        "duration": 0,
        "start_time": "2022-05-01T06:47:24.484Z"
      },
      {
        "duration": 0,
        "start_time": "2022-05-01T06:47:24.486Z"
      },
      {
        "duration": 0,
        "start_time": "2022-05-01T06:47:24.487Z"
      },
      {
        "duration": 0,
        "start_time": "2022-05-01T06:47:24.488Z"
      },
      {
        "duration": 0,
        "start_time": "2022-05-01T06:47:24.490Z"
      },
      {
        "duration": 0,
        "start_time": "2022-05-01T06:47:24.492Z"
      },
      {
        "duration": 0,
        "start_time": "2022-05-01T06:47:24.493Z"
      },
      {
        "duration": 1792,
        "start_time": "2022-05-01T06:48:22.895Z"
      },
      {
        "duration": 631,
        "start_time": "2022-05-01T06:48:43.012Z"
      },
      {
        "duration": 18557,
        "start_time": "2022-05-01T06:48:43.646Z"
      },
      {
        "duration": 12378,
        "start_time": "2022-05-01T06:49:02.206Z"
      },
      {
        "duration": 94,
        "start_time": "2022-05-01T06:49:14.587Z"
      },
      {
        "duration": 1122,
        "start_time": "2022-05-01T06:49:14.684Z"
      },
      {
        "duration": 8871,
        "start_time": "2022-05-01T06:49:15.809Z"
      },
      {
        "duration": 3331,
        "start_time": "2022-05-01T06:49:24.684Z"
      },
      {
        "duration": 136,
        "start_time": "2022-05-01T06:49:28.082Z"
      },
      {
        "duration": 0,
        "start_time": "2022-05-01T06:49:28.221Z"
      },
      {
        "duration": 0,
        "start_time": "2022-05-01T06:49:28.222Z"
      },
      {
        "duration": 0,
        "start_time": "2022-05-01T06:49:28.224Z"
      },
      {
        "duration": 0,
        "start_time": "2022-05-01T06:49:28.225Z"
      },
      {
        "duration": 0,
        "start_time": "2022-05-01T06:49:28.227Z"
      },
      {
        "duration": 0,
        "start_time": "2022-05-01T06:49:28.229Z"
      },
      {
        "duration": 0,
        "start_time": "2022-05-01T06:49:28.230Z"
      },
      {
        "duration": 0,
        "start_time": "2022-05-01T06:49:28.233Z"
      },
      {
        "duration": 0,
        "start_time": "2022-05-01T06:49:28.234Z"
      },
      {
        "duration": 0,
        "start_time": "2022-05-01T06:49:28.236Z"
      },
      {
        "duration": 0,
        "start_time": "2022-05-01T06:49:28.237Z"
      },
      {
        "duration": 0,
        "start_time": "2022-05-01T06:49:28.239Z"
      },
      {
        "duration": 0,
        "start_time": "2022-05-01T06:49:28.240Z"
      },
      {
        "duration": 0,
        "start_time": "2022-05-01T06:49:28.241Z"
      },
      {
        "duration": 0,
        "start_time": "2022-05-01T06:49:28.282Z"
      },
      {
        "duration": 0,
        "start_time": "2022-05-01T06:49:28.284Z"
      },
      {
        "duration": 0,
        "start_time": "2022-05-01T06:49:28.286Z"
      },
      {
        "duration": 0,
        "start_time": "2022-05-01T06:49:28.287Z"
      },
      {
        "duration": 0,
        "start_time": "2022-05-01T06:49:28.289Z"
      },
      {
        "duration": 0,
        "start_time": "2022-05-01T06:49:28.290Z"
      },
      {
        "duration": 0,
        "start_time": "2022-05-01T06:49:28.292Z"
      },
      {
        "duration": 0,
        "start_time": "2022-05-01T06:49:28.293Z"
      },
      {
        "duration": 0,
        "start_time": "2022-05-01T06:49:28.295Z"
      },
      {
        "duration": 1187,
        "start_time": "2022-05-01T06:51:07.122Z"
      },
      {
        "duration": 1712,
        "start_time": "2022-05-01T06:51:25.373Z"
      },
      {
        "duration": 675,
        "start_time": "2022-05-01T06:51:35.734Z"
      },
      {
        "duration": 1302,
        "start_time": "2022-05-01T06:51:39.155Z"
      },
      {
        "duration": 627,
        "start_time": "2022-05-01T06:52:51.484Z"
      },
      {
        "duration": 103,
        "start_time": "2022-05-01T06:55:24.155Z"
      },
      {
        "duration": 11,
        "start_time": "2022-05-01T06:56:58.803Z"
      },
      {
        "duration": 535,
        "start_time": "2022-05-01T06:57:03.859Z"
      },
      {
        "duration": 261,
        "start_time": "2022-05-01T06:57:12.473Z"
      },
      {
        "duration": 13,
        "start_time": "2022-05-01T07:05:28.220Z"
      },
      {
        "duration": 4,
        "start_time": "2022-05-01T07:05:40.347Z"
      },
      {
        "duration": 2476,
        "start_time": "2022-05-01T07:05:43.237Z"
      },
      {
        "duration": 153,
        "start_time": "2022-05-01T07:06:03.096Z"
      },
      {
        "duration": 779,
        "start_time": "2022-05-01T07:06:20.501Z"
      },
      {
        "duration": 18401,
        "start_time": "2022-05-01T07:06:21.283Z"
      },
      {
        "duration": 13329,
        "start_time": "2022-05-01T07:06:39.687Z"
      },
      {
        "duration": 21,
        "start_time": "2022-05-01T07:06:53.085Z"
      },
      {
        "duration": 991,
        "start_time": "2022-05-01T07:06:53.109Z"
      },
      {
        "duration": 7313,
        "start_time": "2022-05-01T07:06:54.103Z"
      },
      {
        "duration": 2384,
        "start_time": "2022-05-01T07:07:01.418Z"
      },
      {
        "duration": 978,
        "start_time": "2022-05-01T07:07:03.804Z"
      },
      {
        "duration": 1818,
        "start_time": "2022-05-01T07:07:04.785Z"
      },
      {
        "duration": 5,
        "start_time": "2022-05-01T07:07:06.608Z"
      },
      {
        "duration": 2331,
        "start_time": "2022-05-01T07:07:06.682Z"
      },
      {
        "duration": 999,
        "start_time": "2022-05-01T07:07:09.017Z"
      },
      {
        "duration": 174,
        "start_time": "2022-05-01T07:07:10.018Z"
      },
      {
        "duration": 110,
        "start_time": "2022-05-01T07:07:10.195Z"
      },
      {
        "duration": 2187,
        "start_time": "2022-05-01T07:07:10.308Z"
      },
      {
        "duration": 8,
        "start_time": "2022-05-01T07:07:12.497Z"
      },
      {
        "duration": 678,
        "start_time": "2022-05-01T07:07:12.508Z"
      },
      {
        "duration": 4929,
        "start_time": "2022-05-01T07:07:13.188Z"
      },
      {
        "duration": 5985,
        "start_time": "2022-05-01T07:07:18.120Z"
      },
      {
        "duration": 1794,
        "start_time": "2022-05-01T07:07:24.108Z"
      },
      {
        "duration": 10,
        "start_time": "2022-05-01T07:07:25.905Z"
      },
      {
        "duration": 1871,
        "start_time": "2022-05-01T07:07:25.917Z"
      },
      {
        "duration": 1334,
        "start_time": "2022-05-01T07:07:27.790Z"
      },
      {
        "duration": 899,
        "start_time": "2022-05-01T07:07:29.127Z"
      },
      {
        "duration": 379,
        "start_time": "2022-05-01T07:08:13.759Z"
      },
      {
        "duration": 1129,
        "start_time": "2022-05-01T07:08:24.513Z"
      },
      {
        "duration": 20780,
        "start_time": "2022-05-01T07:08:25.645Z"
      },
      {
        "duration": 14211,
        "start_time": "2022-05-01T07:08:46.483Z"
      },
      {
        "duration": 86,
        "start_time": "2022-05-01T07:09:00.696Z"
      },
      {
        "duration": 1031,
        "start_time": "2022-05-01T07:09:00.785Z"
      },
      {
        "duration": 7639,
        "start_time": "2022-05-01T07:09:01.883Z"
      },
      {
        "duration": 3197,
        "start_time": "2022-05-01T07:09:09.584Z"
      },
      {
        "duration": 926,
        "start_time": "2022-05-01T07:09:12.785Z"
      },
      {
        "duration": 2106,
        "start_time": "2022-05-01T07:09:13.785Z"
      },
      {
        "duration": 5,
        "start_time": "2022-05-01T07:09:15.894Z"
      },
      {
        "duration": 3181,
        "start_time": "2022-05-01T07:09:15.902Z"
      },
      {
        "duration": 1125,
        "start_time": "2022-05-01T07:09:19.086Z"
      },
      {
        "duration": 171,
        "start_time": "2022-05-01T07:09:20.213Z"
      },
      {
        "duration": 101,
        "start_time": "2022-05-01T07:09:20.388Z"
      },
      {
        "duration": 2406,
        "start_time": "2022-05-01T07:09:20.492Z"
      },
      {
        "duration": 9,
        "start_time": "2022-05-01T07:09:22.902Z"
      },
      {
        "duration": 878,
        "start_time": "2022-05-01T07:09:22.913Z"
      },
      {
        "duration": 5696,
        "start_time": "2022-05-01T07:09:23.795Z"
      },
      {
        "duration": 5703,
        "start_time": "2022-05-01T07:09:29.493Z"
      },
      {
        "duration": 1496,
        "start_time": "2022-05-01T07:09:35.199Z"
      },
      {
        "duration": 16,
        "start_time": "2022-05-01T07:09:36.699Z"
      },
      {
        "duration": 1566,
        "start_time": "2022-05-01T07:09:36.717Z"
      },
      {
        "duration": 1220,
        "start_time": "2022-05-01T07:09:38.287Z"
      },
      {
        "duration": 982,
        "start_time": "2022-05-01T07:09:39.510Z"
      },
      {
        "duration": 292,
        "start_time": "2022-05-01T07:09:40.496Z"
      },
      {
        "duration": 196,
        "start_time": "2022-05-01T07:10:16.798Z"
      },
      {
        "duration": 5446,
        "start_time": "2022-05-01T07:10:28.662Z"
      },
      {
        "duration": 967,
        "start_time": "2022-05-01T07:11:06.609Z"
      },
      {
        "duration": 20408,
        "start_time": "2022-05-01T07:11:07.582Z"
      },
      {
        "duration": 12398,
        "start_time": "2022-05-01T07:11:27.993Z"
      },
      {
        "duration": 21,
        "start_time": "2022-05-01T07:11:40.394Z"
      },
      {
        "duration": 1069,
        "start_time": "2022-05-01T07:11:40.419Z"
      },
      {
        "duration": 8393,
        "start_time": "2022-05-01T07:11:41.491Z"
      },
      {
        "duration": 2993,
        "start_time": "2022-05-01T07:11:49.888Z"
      },
      {
        "duration": 1106,
        "start_time": "2022-05-01T07:11:52.885Z"
      },
      {
        "duration": 2099,
        "start_time": "2022-05-01T07:11:53.994Z"
      },
      {
        "duration": 5,
        "start_time": "2022-05-01T07:11:56.095Z"
      },
      {
        "duration": 7182,
        "start_time": "2022-05-01T07:11:56.102Z"
      },
      {
        "duration": 3895,
        "start_time": "2022-05-01T07:12:03.287Z"
      },
      {
        "duration": 1103,
        "start_time": "2022-05-01T07:12:07.185Z"
      },
      {
        "duration": 92,
        "start_time": "2022-05-01T07:12:08.295Z"
      },
      {
        "duration": 99,
        "start_time": "2022-05-01T07:12:08.390Z"
      },
      {
        "duration": 2020,
        "start_time": "2022-05-01T07:12:08.493Z"
      },
      {
        "duration": 65,
        "start_time": "2022-05-01T07:12:10.516Z"
      },
      {
        "duration": 665,
        "start_time": "2022-05-01T07:12:10.584Z"
      },
      {
        "duration": 6441,
        "start_time": "2022-05-01T07:12:11.252Z"
      },
      {
        "duration": 6399,
        "start_time": "2022-05-01T07:12:17.697Z"
      },
      {
        "duration": 1247,
        "start_time": "2022-05-01T07:12:24.099Z"
      },
      {
        "duration": 9,
        "start_time": "2022-05-01T07:12:25.382Z"
      },
      {
        "duration": 1512,
        "start_time": "2022-05-01T07:12:25.393Z"
      },
      {
        "duration": 1108,
        "start_time": "2022-05-01T07:12:26.908Z"
      },
      {
        "duration": 1068,
        "start_time": "2022-05-01T07:12:28.018Z"
      },
      {
        "duration": 268,
        "start_time": "2022-05-01T07:14:45.570Z"
      },
      {
        "duration": 1056,
        "start_time": "2022-05-01T07:14:53.521Z"
      },
      {
        "duration": 20616,
        "start_time": "2022-05-01T07:14:54.581Z"
      },
      {
        "duration": 14701,
        "start_time": "2022-05-01T07:15:15.200Z"
      },
      {
        "duration": 96,
        "start_time": "2022-05-01T07:15:29.905Z"
      },
      {
        "duration": 1202,
        "start_time": "2022-05-01T07:15:30.003Z"
      },
      {
        "duration": 8004,
        "start_time": "2022-05-01T07:15:31.208Z"
      },
      {
        "duration": 3676,
        "start_time": "2022-05-01T07:15:39.214Z"
      },
      {
        "duration": 906,
        "start_time": "2022-05-01T07:15:42.893Z"
      },
      {
        "duration": 1704,
        "start_time": "2022-05-01T07:15:43.802Z"
      },
      {
        "duration": 71,
        "start_time": "2022-05-01T07:15:45.511Z"
      },
      {
        "duration": 8329,
        "start_time": "2022-05-01T07:15:45.585Z"
      },
      {
        "duration": 4165,
        "start_time": "2022-05-01T07:15:53.916Z"
      },
      {
        "duration": 1308,
        "start_time": "2022-05-01T07:15:58.084Z"
      },
      {
        "duration": 100,
        "start_time": "2022-05-01T07:15:59.395Z"
      },
      {
        "duration": 111,
        "start_time": "2022-05-01T07:15:59.497Z"
      },
      {
        "duration": 2098,
        "start_time": "2022-05-01T07:15:59.611Z"
      },
      {
        "duration": 75,
        "start_time": "2022-05-01T07:16:01.712Z"
      },
      {
        "duration": 533,
        "start_time": "2022-05-01T07:16:01.790Z"
      },
      {
        "duration": 4681,
        "start_time": "2022-05-01T07:16:02.325Z"
      },
      {
        "duration": 7287,
        "start_time": "2022-05-01T07:16:07.009Z"
      },
      {
        "duration": 1816,
        "start_time": "2022-05-01T07:16:14.299Z"
      },
      {
        "duration": 72,
        "start_time": "2022-05-01T07:16:16.118Z"
      },
      {
        "duration": 1714,
        "start_time": "2022-05-01T07:16:16.193Z"
      },
      {
        "duration": 1372,
        "start_time": "2022-05-01T07:16:17.910Z"
      },
      {
        "duration": 1214,
        "start_time": "2022-05-01T07:16:19.286Z"
      },
      {
        "duration": 336,
        "start_time": "2022-05-01T07:21:15.688Z"
      },
      {
        "duration": 670,
        "start_time": "2022-05-01T07:21:23.490Z"
      },
      {
        "duration": 19664,
        "start_time": "2022-05-01T07:21:24.162Z"
      },
      {
        "duration": 12473,
        "start_time": "2022-05-01T07:21:43.829Z"
      },
      {
        "duration": 91,
        "start_time": "2022-05-01T07:21:56.305Z"
      },
      {
        "duration": 1099,
        "start_time": "2022-05-01T07:21:56.400Z"
      },
      {
        "duration": 8400,
        "start_time": "2022-05-01T07:21:57.504Z"
      },
      {
        "duration": 2801,
        "start_time": "2022-05-01T07:22:05.907Z"
      },
      {
        "duration": 1176,
        "start_time": "2022-05-01T07:22:08.711Z"
      },
      {
        "duration": 2099,
        "start_time": "2022-05-01T07:22:09.889Z"
      },
      {
        "duration": 8,
        "start_time": "2022-05-01T07:22:11.996Z"
      },
      {
        "duration": 8303,
        "start_time": "2022-05-01T07:22:12.007Z"
      },
      {
        "duration": 1074,
        "start_time": "2022-05-01T07:22:20.313Z"
      },
      {
        "duration": 197,
        "start_time": "2022-05-01T07:22:21.389Z"
      },
      {
        "duration": 95,
        "start_time": "2022-05-01T07:22:21.589Z"
      },
      {
        "duration": 1896,
        "start_time": "2022-05-01T07:22:21.690Z"
      },
      {
        "duration": 7,
        "start_time": "2022-05-01T07:22:23.589Z"
      },
      {
        "duration": 824,
        "start_time": "2022-05-01T07:22:23.598Z"
      },
      {
        "duration": 5604,
        "start_time": "2022-05-01T07:22:24.425Z"
      },
      {
        "duration": 6975,
        "start_time": "2022-05-01T07:22:30.031Z"
      },
      {
        "duration": 1673,
        "start_time": "2022-05-01T07:22:37.008Z"
      },
      {
        "duration": 10,
        "start_time": "2022-05-01T07:22:38.684Z"
      },
      {
        "duration": 1701,
        "start_time": "2022-05-01T07:22:38.696Z"
      },
      {
        "duration": 1096,
        "start_time": "2022-05-01T07:22:40.399Z"
      },
      {
        "duration": 1514,
        "start_time": "2022-05-01T07:22:41.496Z"
      },
      {
        "duration": 258,
        "start_time": "2022-05-01T07:22:53.412Z"
      },
      {
        "duration": 800,
        "start_time": "2022-05-01T07:23:01.264Z"
      },
      {
        "duration": 19026,
        "start_time": "2022-05-01T07:23:02.066Z"
      },
      {
        "duration": 13902,
        "start_time": "2022-05-01T07:23:21.094Z"
      },
      {
        "duration": 78,
        "start_time": "2022-05-01T07:23:35.006Z"
      },
      {
        "duration": 1216,
        "start_time": "2022-05-01T07:23:35.087Z"
      },
      {
        "duration": 8207,
        "start_time": "2022-05-01T07:23:36.307Z"
      },
      {
        "duration": 2568,
        "start_time": "2022-05-01T07:23:44.517Z"
      },
      {
        "duration": 1105,
        "start_time": "2022-05-01T07:23:47.088Z"
      },
      {
        "duration": 2630,
        "start_time": "2022-05-01T07:23:48.195Z"
      },
      {
        "duration": 13,
        "start_time": "2022-05-01T07:23:50.890Z"
      },
      {
        "duration": 7815,
        "start_time": "2022-05-01T07:23:50.906Z"
      },
      {
        "duration": 5688,
        "start_time": "2022-05-01T07:23:58.724Z"
      },
      {
        "duration": 193,
        "start_time": "2022-05-01T07:24:04.415Z"
      },
      {
        "duration": 112,
        "start_time": "2022-05-01T07:24:04.610Z"
      },
      {
        "duration": 1803,
        "start_time": "2022-05-01T07:24:04.724Z"
      },
      {
        "duration": 21,
        "start_time": "2022-05-01T07:24:06.581Z"
      },
      {
        "duration": 715,
        "start_time": "2022-05-01T07:24:06.604Z"
      },
      {
        "duration": 4562,
        "start_time": "2022-05-01T07:24:07.322Z"
      },
      {
        "duration": 6035,
        "start_time": "2022-05-01T07:24:11.888Z"
      },
      {
        "duration": 1707,
        "start_time": "2022-05-01T07:24:17.985Z"
      },
      {
        "duration": 10,
        "start_time": "2022-05-01T07:24:19.697Z"
      },
      {
        "duration": 1675,
        "start_time": "2022-05-01T07:24:19.709Z"
      },
      {
        "duration": 1210,
        "start_time": "2022-05-01T07:24:21.387Z"
      },
      {
        "duration": 1085,
        "start_time": "2022-05-01T07:24:22.600Z"
      },
      {
        "duration": 700,
        "start_time": "2022-05-01T07:25:01.992Z"
      },
      {
        "duration": 19831,
        "start_time": "2022-05-01T07:25:02.695Z"
      },
      {
        "duration": 12711,
        "start_time": "2022-05-01T07:25:22.584Z"
      },
      {
        "duration": 87,
        "start_time": "2022-05-01T07:25:35.304Z"
      },
      {
        "duration": 1001,
        "start_time": "2022-05-01T07:25:35.400Z"
      },
      {
        "duration": 8388,
        "start_time": "2022-05-01T07:25:36.404Z"
      },
      {
        "duration": 2825,
        "start_time": "2022-05-01T07:25:44.795Z"
      },
      {
        "duration": 1088,
        "start_time": "2022-05-01T07:25:47.623Z"
      },
      {
        "duration": 1947,
        "start_time": "2022-05-01T07:25:48.782Z"
      },
      {
        "duration": 50,
        "start_time": "2022-05-01T07:25:50.734Z"
      },
      {
        "duration": 8032,
        "start_time": "2022-05-01T07:25:50.788Z"
      },
      {
        "duration": 6430,
        "start_time": "2022-05-01T07:25:58.882Z"
      },
      {
        "duration": 177,
        "start_time": "2022-05-01T07:26:05.315Z"
      },
      {
        "duration": 102,
        "start_time": "2022-05-01T07:26:05.502Z"
      },
      {
        "duration": 1790,
        "start_time": "2022-05-01T07:26:05.606Z"
      },
      {
        "duration": 14,
        "start_time": "2022-05-01T07:26:07.399Z"
      },
      {
        "duration": 614,
        "start_time": "2022-05-01T07:26:07.415Z"
      },
      {
        "duration": 4507,
        "start_time": "2022-05-01T07:26:08.083Z"
      },
      {
        "duration": 6610,
        "start_time": "2022-05-01T07:26:12.593Z"
      },
      {
        "duration": 1512,
        "start_time": "2022-05-01T07:26:19.205Z"
      },
      {
        "duration": 65,
        "start_time": "2022-05-01T07:26:20.719Z"
      },
      {
        "duration": 1803,
        "start_time": "2022-05-01T07:26:20.787Z"
      },
      {
        "duration": 2001,
        "start_time": "2022-05-01T07:26:22.595Z"
      },
      {
        "duration": 1087,
        "start_time": "2022-05-01T07:26:24.600Z"
      },
      {
        "duration": 156,
        "start_time": "2022-05-01T08:10:53.626Z"
      },
      {
        "duration": 506,
        "start_time": "2022-05-01T08:11:09.093Z"
      },
      {
        "duration": 122,
        "start_time": "2022-05-01T08:12:14.486Z"
      },
      {
        "duration": 691,
        "start_time": "2022-05-01T08:14:09.003Z"
      },
      {
        "duration": 19500,
        "start_time": "2022-05-01T08:14:09.700Z"
      },
      {
        "duration": 12900,
        "start_time": "2022-05-01T08:14:29.206Z"
      },
      {
        "duration": 85,
        "start_time": "2022-05-01T08:14:42.110Z"
      },
      {
        "duration": 1113,
        "start_time": "2022-05-01T08:14:42.199Z"
      },
      {
        "duration": 8002,
        "start_time": "2022-05-01T08:14:43.315Z"
      },
      {
        "duration": 2599,
        "start_time": "2022-05-01T08:14:51.318Z"
      },
      {
        "duration": 1087,
        "start_time": "2022-05-01T08:14:53.920Z"
      },
      {
        "duration": 1924,
        "start_time": "2022-05-01T08:14:55.081Z"
      },
      {
        "duration": 5,
        "start_time": "2022-05-01T08:14:57.008Z"
      },
      {
        "duration": 8283,
        "start_time": "2022-05-01T08:14:57.015Z"
      },
      {
        "duration": 5922,
        "start_time": "2022-05-01T08:15:05.300Z"
      },
      {
        "duration": 101,
        "start_time": "2022-05-01T08:15:11.281Z"
      },
      {
        "duration": 38,
        "start_time": "2022-05-01T08:15:11.394Z"
      },
      {
        "duration": 1802,
        "start_time": "2022-05-01T08:15:11.482Z"
      },
      {
        "duration": 707,
        "start_time": "2022-05-01T08:15:13.291Z"
      },
      {
        "duration": 4910,
        "start_time": "2022-05-01T08:15:14.000Z"
      },
      {
        "duration": 6796,
        "start_time": "2022-05-01T08:15:18.912Z"
      },
      {
        "duration": 1989,
        "start_time": "2022-05-01T08:15:25.711Z"
      },
      {
        "duration": 20,
        "start_time": "2022-05-01T08:15:27.702Z"
      },
      {
        "duration": 1776,
        "start_time": "2022-05-01T08:15:27.724Z"
      },
      {
        "duration": 1426,
        "start_time": "2022-05-01T08:15:29.503Z"
      },
      {
        "duration": 1175,
        "start_time": "2022-05-01T08:15:30.932Z"
      },
      {
        "duration": 2717,
        "start_time": "2022-05-01T08:16:35.895Z"
      },
      {
        "duration": 891,
        "start_time": "2022-05-01T08:17:59.991Z"
      },
      {
        "duration": 19422,
        "start_time": "2022-05-01T08:18:00.886Z"
      },
      {
        "duration": 14097,
        "start_time": "2022-05-01T08:18:20.310Z"
      },
      {
        "duration": 99,
        "start_time": "2022-05-01T08:18:34.409Z"
      },
      {
        "duration": 1100,
        "start_time": "2022-05-01T08:18:34.513Z"
      },
      {
        "duration": 9378,
        "start_time": "2022-05-01T08:18:35.616Z"
      },
      {
        "duration": 2718,
        "start_time": "2022-05-01T08:18:44.996Z"
      },
      {
        "duration": 1294,
        "start_time": "2022-05-01T08:18:47.717Z"
      },
      {
        "duration": 2474,
        "start_time": "2022-05-01T08:18:49.014Z"
      },
      {
        "duration": 7,
        "start_time": "2022-05-01T08:18:51.490Z"
      },
      {
        "duration": 8890,
        "start_time": "2022-05-01T08:18:51.500Z"
      },
      {
        "duration": 6635,
        "start_time": "2022-05-01T08:19:00.392Z"
      },
      {
        "duration": 165,
        "start_time": "2022-05-01T08:19:07.029Z"
      },
      {
        "duration": 116,
        "start_time": "2022-05-01T08:19:07.200Z"
      },
      {
        "duration": 2301,
        "start_time": "2022-05-01T08:19:07.318Z"
      },
      {
        "duration": 890,
        "start_time": "2022-05-01T08:19:09.622Z"
      },
      {
        "duration": 4985,
        "start_time": "2022-05-01T08:19:10.515Z"
      },
      {
        "duration": 121,
        "start_time": "2022-05-01T08:19:15.507Z"
      },
      {
        "duration": 0,
        "start_time": "2022-05-01T08:19:15.631Z"
      },
      {
        "duration": 0,
        "start_time": "2022-05-01T08:19:15.633Z"
      },
      {
        "duration": 0,
        "start_time": "2022-05-01T08:19:15.635Z"
      },
      {
        "duration": 0,
        "start_time": "2022-05-01T08:19:15.637Z"
      },
      {
        "duration": 0,
        "start_time": "2022-05-01T08:19:15.639Z"
      },
      {
        "duration": 0,
        "start_time": "2022-05-01T08:19:15.642Z"
      },
      {
        "duration": 7281,
        "start_time": "2022-05-01T08:19:59.907Z"
      },
      {
        "duration": 6192,
        "start_time": "2022-05-01T08:20:14.131Z"
      },
      {
        "duration": 2166,
        "start_time": "2022-05-01T08:20:24.761Z"
      },
      {
        "duration": 12,
        "start_time": "2022-05-01T08:20:31.216Z"
      },
      {
        "duration": 1768,
        "start_time": "2022-05-01T08:20:34.430Z"
      },
      {
        "duration": 1785,
        "start_time": "2022-05-01T08:20:40.717Z"
      },
      {
        "duration": 1014,
        "start_time": "2022-05-01T08:20:47.396Z"
      },
      {
        "duration": 364,
        "start_time": "2022-05-01T08:24:04.205Z"
      },
      {
        "duration": 829,
        "start_time": "2022-05-01T08:24:21.279Z"
      },
      {
        "duration": 21102,
        "start_time": "2022-05-01T08:24:22.116Z"
      },
      {
        "duration": 14177,
        "start_time": "2022-05-01T08:24:43.220Z"
      },
      {
        "duration": 85,
        "start_time": "2022-05-01T08:24:57.399Z"
      },
      {
        "duration": 1239,
        "start_time": "2022-05-01T08:24:57.489Z"
      },
      {
        "duration": 9890,
        "start_time": "2022-05-01T08:24:58.731Z"
      },
      {
        "duration": 2905,
        "start_time": "2022-05-01T08:25:08.624Z"
      },
      {
        "duration": 1308,
        "start_time": "2022-05-01T08:25:11.596Z"
      },
      {
        "duration": 2019,
        "start_time": "2022-05-01T08:25:12.906Z"
      },
      {
        "duration": 58,
        "start_time": "2022-05-01T08:25:14.928Z"
      },
      {
        "duration": 8923,
        "start_time": "2022-05-01T08:25:14.990Z"
      },
      {
        "duration": 7117,
        "start_time": "2022-05-01T08:25:23.915Z"
      },
      {
        "duration": 140,
        "start_time": "2022-05-01T08:25:31.083Z"
      },
      {
        "duration": 103,
        "start_time": "2022-05-01T08:25:31.229Z"
      },
      {
        "duration": 2461,
        "start_time": "2022-05-01T08:25:31.335Z"
      },
      {
        "duration": 789,
        "start_time": "2022-05-01T08:25:33.800Z"
      },
      {
        "duration": 584,
        "start_time": "2022-05-01T08:25:34.593Z"
      },
      {
        "duration": 0,
        "start_time": "2022-05-01T08:25:35.180Z"
      },
      {
        "duration": 0,
        "start_time": "2022-05-01T08:25:35.187Z"
      },
      {
        "duration": 0,
        "start_time": "2022-05-01T08:25:35.188Z"
      },
      {
        "duration": 0,
        "start_time": "2022-05-01T08:25:35.190Z"
      },
      {
        "duration": 0,
        "start_time": "2022-05-01T08:25:35.194Z"
      },
      {
        "duration": 0,
        "start_time": "2022-05-01T08:25:35.196Z"
      },
      {
        "duration": 0,
        "start_time": "2022-05-01T08:25:35.199Z"
      },
      {
        "duration": 483,
        "start_time": "2022-05-01T08:26:08.410Z"
      },
      {
        "duration": 4467,
        "start_time": "2022-05-01T08:26:32.739Z"
      },
      {
        "duration": 6945,
        "start_time": "2022-05-01T08:26:41.642Z"
      },
      {
        "duration": 1664,
        "start_time": "2022-05-01T08:26:51.070Z"
      },
      {
        "duration": 248,
        "start_time": "2022-05-01T08:27:24.250Z"
      },
      {
        "duration": 751,
        "start_time": "2022-05-01T08:28:02.894Z"
      },
      {
        "duration": 20575,
        "start_time": "2022-05-01T08:28:03.651Z"
      },
      {
        "duration": 14301,
        "start_time": "2022-05-01T08:28:24.229Z"
      },
      {
        "duration": 67,
        "start_time": "2022-05-01T08:28:38.532Z"
      },
      {
        "duration": 1103,
        "start_time": "2022-05-01T08:28:38.605Z"
      },
      {
        "duration": 8940,
        "start_time": "2022-05-01T08:28:39.710Z"
      },
      {
        "duration": 2870,
        "start_time": "2022-05-01T08:28:48.652Z"
      },
      {
        "duration": 1295,
        "start_time": "2022-05-01T08:28:51.524Z"
      },
      {
        "duration": 2295,
        "start_time": "2022-05-01T08:28:52.822Z"
      },
      {
        "duration": 16,
        "start_time": "2022-05-01T08:28:55.119Z"
      },
      {
        "duration": 9372,
        "start_time": "2022-05-01T08:28:55.137Z"
      },
      {
        "duration": 6774,
        "start_time": "2022-05-01T08:29:04.511Z"
      },
      {
        "duration": 195,
        "start_time": "2022-05-01T08:29:11.290Z"
      },
      {
        "duration": 141,
        "start_time": "2022-05-01T08:29:11.502Z"
      },
      {
        "duration": 2360,
        "start_time": "2022-05-01T08:29:11.646Z"
      },
      {
        "duration": 825,
        "start_time": "2022-05-01T08:29:14.010Z"
      },
      {
        "duration": 592,
        "start_time": "2022-05-01T08:29:14.837Z"
      },
      {
        "duration": 5257,
        "start_time": "2022-05-01T08:29:15.432Z"
      },
      {
        "duration": 6748,
        "start_time": "2022-05-01T08:29:20.692Z"
      },
      {
        "duration": 444,
        "start_time": "2022-05-01T08:29:27.444Z"
      },
      {
        "duration": 0,
        "start_time": "2022-05-01T08:29:27.890Z"
      },
      {
        "duration": 0,
        "start_time": "2022-05-01T08:29:27.892Z"
      },
      {
        "duration": 0,
        "start_time": "2022-05-01T08:29:27.894Z"
      },
      {
        "duration": 0,
        "start_time": "2022-05-01T08:29:27.895Z"
      },
      {
        "duration": 0,
        "start_time": "2022-05-01T08:29:27.897Z"
      },
      {
        "duration": 4599,
        "start_time": "2022-05-01T08:30:24.628Z"
      },
      {
        "duration": 6631,
        "start_time": "2022-05-01T08:31:13.057Z"
      },
      {
        "duration": 290,
        "start_time": "2022-05-01T08:32:00.942Z"
      },
      {
        "duration": 748,
        "start_time": "2022-05-01T08:32:17.568Z"
      },
      {
        "duration": 19801,
        "start_time": "2022-05-01T08:32:18.322Z"
      },
      {
        "duration": 13902,
        "start_time": "2022-05-01T08:32:38.126Z"
      },
      {
        "duration": 77,
        "start_time": "2022-05-01T08:32:52.030Z"
      },
      {
        "duration": 1192,
        "start_time": "2022-05-01T08:32:52.115Z"
      },
      {
        "duration": 9483,
        "start_time": "2022-05-01T08:32:53.309Z"
      },
      {
        "duration": 2945,
        "start_time": "2022-05-01T08:33:02.795Z"
      },
      {
        "duration": 1310,
        "start_time": "2022-05-01T08:33:05.791Z"
      },
      {
        "duration": 2190,
        "start_time": "2022-05-01T08:33:07.104Z"
      },
      {
        "duration": 11,
        "start_time": "2022-05-01T08:33:09.296Z"
      },
      {
        "duration": 9190,
        "start_time": "2022-05-01T08:33:09.310Z"
      },
      {
        "duration": 6624,
        "start_time": "2022-05-01T08:33:18.506Z"
      },
      {
        "duration": 193,
        "start_time": "2022-05-01T08:33:25.133Z"
      },
      {
        "duration": 152,
        "start_time": "2022-05-01T08:33:25.333Z"
      },
      {
        "duration": 2046,
        "start_time": "2022-05-01T08:33:25.488Z"
      },
      {
        "duration": 890,
        "start_time": "2022-05-01T08:33:27.537Z"
      },
      {
        "duration": 647,
        "start_time": "2022-05-01T08:33:28.482Z"
      },
      {
        "duration": 5270,
        "start_time": "2022-05-01T08:33:29.131Z"
      },
      {
        "duration": 4599,
        "start_time": "2022-05-01T08:33:34.403Z"
      },
      {
        "duration": 8725,
        "start_time": "2022-05-01T08:33:39.005Z"
      },
      {
        "duration": 5619,
        "start_time": "2022-05-01T08:33:47.783Z"
      },
      {
        "duration": 702,
        "start_time": "2022-05-01T08:33:53.407Z"
      },
      {
        "duration": 0,
        "start_time": "2022-05-01T08:33:54.112Z"
      },
      {
        "duration": 0,
        "start_time": "2022-05-01T08:33:54.114Z"
      },
      {
        "duration": 0,
        "start_time": "2022-05-01T08:33:54.115Z"
      },
      {
        "duration": 0,
        "start_time": "2022-05-01T08:33:54.117Z"
      },
      {
        "duration": 2003,
        "start_time": "2022-05-01T08:36:05.116Z"
      },
      {
        "duration": 316,
        "start_time": "2022-05-01T08:36:48.810Z"
      },
      {
        "duration": 1565,
        "start_time": "2022-05-01T08:37:09.842Z"
      },
      {
        "duration": 10,
        "start_time": "2022-05-01T08:37:27.915Z"
      },
      {
        "duration": 1406,
        "start_time": "2022-05-01T08:37:31.126Z"
      },
      {
        "duration": 1134,
        "start_time": "2022-05-01T08:37:35.075Z"
      },
      {
        "duration": 1023,
        "start_time": "2022-05-01T08:37:38.179Z"
      },
      {
        "duration": 290,
        "start_time": "2022-05-01T08:38:39.027Z"
      },
      {
        "duration": 1216,
        "start_time": "2022-05-01T08:39:01.086Z"
      },
      {
        "duration": 989,
        "start_time": "2022-05-01T08:39:17.236Z"
      },
      {
        "duration": 1588,
        "start_time": "2022-05-01T08:41:20.921Z"
      },
      {
        "duration": 934,
        "start_time": "2022-05-01T08:42:05.616Z"
      },
      {
        "duration": 1100,
        "start_time": "2022-05-01T08:42:34.032Z"
      },
      {
        "duration": 1068,
        "start_time": "2022-05-01T08:44:41.246Z"
      },
      {
        "duration": 898,
        "start_time": "2022-05-01T08:45:10.535Z"
      },
      {
        "duration": 33,
        "start_time": "2022-05-01T08:45:33.826Z"
      },
      {
        "duration": 23,
        "start_time": "2022-05-01T08:46:21.067Z"
      },
      {
        "duration": 25,
        "start_time": "2022-05-01T08:46:40.812Z"
      },
      {
        "duration": 50,
        "start_time": "2022-05-01T08:46:56.064Z"
      },
      {
        "duration": 40,
        "start_time": "2022-05-01T08:47:08.877Z"
      },
      {
        "duration": 574,
        "start_time": "2022-05-01T08:47:35.842Z"
      },
      {
        "duration": 816,
        "start_time": "2022-05-01T08:54:42.707Z"
      },
      {
        "duration": 1709,
        "start_time": "2022-05-01T08:55:40.022Z"
      },
      {
        "duration": 3379,
        "start_time": "2022-05-01T08:56:11.580Z"
      },
      {
        "duration": 22,
        "start_time": "2022-05-01T08:57:55.838Z"
      },
      {
        "duration": 153,
        "start_time": "2022-05-01T08:58:43.601Z"
      },
      {
        "duration": 2062,
        "start_time": "2022-05-01T08:58:52.416Z"
      },
      {
        "duration": 1695,
        "start_time": "2022-05-01T08:59:16.112Z"
      },
      {
        "duration": 2099,
        "start_time": "2022-05-01T09:01:56.272Z"
      },
      {
        "duration": 1813,
        "start_time": "2022-05-01T09:02:21.008Z"
      },
      {
        "duration": 1746,
        "start_time": "2022-05-01T09:03:38.390Z"
      },
      {
        "duration": 1502,
        "start_time": "2022-05-01T09:05:58.041Z"
      },
      {
        "duration": 1812,
        "start_time": "2022-05-01T09:06:24.530Z"
      },
      {
        "duration": 9,
        "start_time": "2022-05-01T09:06:27.801Z"
      },
      {
        "duration": 8,
        "start_time": "2022-05-01T09:06:41.523Z"
      },
      {
        "duration": 7,
        "start_time": "2022-05-01T09:06:56.959Z"
      },
      {
        "duration": 1715,
        "start_time": "2022-05-01T09:07:12.738Z"
      },
      {
        "duration": 5,
        "start_time": "2022-05-01T09:07:15.279Z"
      },
      {
        "duration": 8,
        "start_time": "2022-05-01T09:07:21.211Z"
      },
      {
        "duration": 7,
        "start_time": "2022-05-01T09:07:27.678Z"
      },
      {
        "duration": 8,
        "start_time": "2022-05-01T09:07:38.707Z"
      },
      {
        "duration": 2034,
        "start_time": "2022-05-01T09:08:45.175Z"
      },
      {
        "duration": 6,
        "start_time": "2022-05-01T09:08:47.636Z"
      },
      {
        "duration": 6,
        "start_time": "2022-05-01T09:10:02.995Z"
      },
      {
        "duration": 21,
        "start_time": "2022-05-01T09:10:07.381Z"
      },
      {
        "duration": 13,
        "start_time": "2022-05-01T09:10:19.259Z"
      },
      {
        "duration": 1596,
        "start_time": "2022-05-01T09:10:47.154Z"
      },
      {
        "duration": 8,
        "start_time": "2022-05-01T09:10:51.435Z"
      },
      {
        "duration": 2039,
        "start_time": "2022-05-01T09:10:53.817Z"
      },
      {
        "duration": 9,
        "start_time": "2022-05-01T09:10:57.961Z"
      },
      {
        "duration": 6,
        "start_time": "2022-05-01T09:11:01.298Z"
      },
      {
        "duration": 11,
        "start_time": "2022-05-01T09:11:03.399Z"
      },
      {
        "duration": 1766,
        "start_time": "2022-05-01T09:12:32.259Z"
      },
      {
        "duration": 7,
        "start_time": "2022-05-01T09:12:35.563Z"
      },
      {
        "duration": 6,
        "start_time": "2022-05-01T09:12:41.101Z"
      },
      {
        "duration": 14,
        "start_time": "2022-05-01T09:12:43.449Z"
      },
      {
        "duration": 1616,
        "start_time": "2022-05-01T09:14:55.642Z"
      },
      {
        "duration": 1773,
        "start_time": "2022-05-01T09:15:15.190Z"
      },
      {
        "duration": 5,
        "start_time": "2022-05-01T09:15:20.898Z"
      },
      {
        "duration": 14,
        "start_time": "2022-05-01T09:15:23.583Z"
      },
      {
        "duration": 140,
        "start_time": "2022-05-01T09:18:04.782Z"
      },
      {
        "duration": 94,
        "start_time": "2022-05-01T09:24:47.499Z"
      },
      {
        "duration": 104,
        "start_time": "2022-05-01T09:27:04.295Z"
      },
      {
        "duration": 101,
        "start_time": "2022-05-01T09:28:42.997Z"
      },
      {
        "duration": 107,
        "start_time": "2022-05-01T09:29:50.283Z"
      },
      {
        "duration": 607,
        "start_time": "2022-05-02T16:30:23.516Z"
      },
      {
        "duration": 17733,
        "start_time": "2022-05-02T16:30:24.125Z"
      },
      {
        "duration": 9540,
        "start_time": "2022-05-02T16:30:41.860Z"
      },
      {
        "duration": 14,
        "start_time": "2022-05-02T16:30:51.402Z"
      },
      {
        "duration": 603,
        "start_time": "2022-05-02T16:30:51.417Z"
      },
      {
        "duration": 4809,
        "start_time": "2022-05-02T16:30:52.021Z"
      },
      {
        "duration": 1692,
        "start_time": "2022-05-02T16:30:56.831Z"
      },
      {
        "duration": 705,
        "start_time": "2022-05-02T16:30:58.525Z"
      },
      {
        "duration": 1037,
        "start_time": "2022-05-02T16:30:59.300Z"
      },
      {
        "duration": 62,
        "start_time": "2022-05-02T16:31:00.340Z"
      },
      {
        "duration": 4828,
        "start_time": "2022-05-02T16:31:00.404Z"
      },
      {
        "duration": 3467,
        "start_time": "2022-05-02T16:31:05.234Z"
      },
      {
        "duration": 99,
        "start_time": "2022-05-02T16:31:08.702Z"
      },
      {
        "duration": 25,
        "start_time": "2022-05-02T16:31:08.803Z"
      },
      {
        "duration": 1107,
        "start_time": "2022-05-02T16:31:08.829Z"
      },
      {
        "duration": 499,
        "start_time": "2022-05-02T16:31:09.938Z"
      },
      {
        "duration": 298,
        "start_time": "2022-05-02T16:31:10.439Z"
      },
      {
        "duration": 2867,
        "start_time": "2022-05-02T16:31:10.738Z"
      },
      {
        "duration": 2235,
        "start_time": "2022-05-02T16:31:13.606Z"
      },
      {
        "duration": 4764,
        "start_time": "2022-05-02T16:31:15.842Z"
      },
      {
        "duration": 3099,
        "start_time": "2022-05-02T16:31:20.607Z"
      },
      {
        "duration": 698,
        "start_time": "2022-05-02T16:31:23.708Z"
      },
      {
        "duration": 778,
        "start_time": "2022-05-02T16:31:24.407Z"
      },
      {
        "duration": 1735,
        "start_time": "2022-05-02T16:31:25.200Z"
      },
      {
        "duration": 2480,
        "start_time": "2022-05-02T16:31:26.937Z"
      },
      {
        "duration": 63,
        "start_time": "2022-05-02T16:31:29.419Z"
      },
      {
        "duration": 6,
        "start_time": "2022-05-02T16:33:01.697Z"
      },
      {
        "duration": 4,
        "start_time": "2022-05-02T16:33:12.291Z"
      },
      {
        "duration": 11,
        "start_time": "2022-05-02T16:33:16.490Z"
      },
      {
        "duration": 3,
        "start_time": "2022-05-02T16:33:52.529Z"
      },
      {
        "duration": 7,
        "start_time": "2022-05-02T16:33:55.227Z"
      },
      {
        "duration": 525,
        "start_time": "2022-05-03T05:24:54.021Z"
      },
      {
        "duration": 14416,
        "start_time": "2022-05-03T05:24:54.548Z"
      },
      {
        "duration": 8882,
        "start_time": "2022-05-03T05:25:08.966Z"
      },
      {
        "duration": 16,
        "start_time": "2022-05-03T05:25:17.909Z"
      },
      {
        "duration": 689,
        "start_time": "2022-05-03T05:25:17.927Z"
      },
      {
        "duration": 5719,
        "start_time": "2022-05-03T05:25:18.618Z"
      },
      {
        "duration": 1476,
        "start_time": "2022-05-03T05:25:24.339Z"
      },
      {
        "duration": 621,
        "start_time": "2022-05-03T05:25:25.817Z"
      },
      {
        "duration": 1177,
        "start_time": "2022-05-03T05:25:26.439Z"
      },
      {
        "duration": 4,
        "start_time": "2022-05-03T05:25:27.618Z"
      },
      {
        "duration": 5292,
        "start_time": "2022-05-03T05:25:27.623Z"
      },
      {
        "duration": 4024,
        "start_time": "2022-05-03T05:25:32.917Z"
      },
      {
        "duration": 101,
        "start_time": "2022-05-03T05:25:36.943Z"
      },
      {
        "duration": 84,
        "start_time": "2022-05-03T05:25:37.045Z"
      },
      {
        "duration": 1011,
        "start_time": "2022-05-03T05:25:37.130Z"
      },
      {
        "duration": 478,
        "start_time": "2022-05-03T05:25:38.143Z"
      },
      {
        "duration": 2601,
        "start_time": "2022-05-03T05:25:38.623Z"
      },
      {
        "duration": 4101,
        "start_time": "2022-05-03T05:25:41.226Z"
      },
      {
        "duration": 198,
        "start_time": "2022-05-03T05:25:45.329Z"
      },
      {
        "duration": 0,
        "start_time": "2022-05-03T05:25:45.528Z"
      },
      {
        "duration": 0,
        "start_time": "2022-05-03T05:25:45.530Z"
      },
      {
        "duration": 0,
        "start_time": "2022-05-03T05:25:45.531Z"
      },
      {
        "duration": 0,
        "start_time": "2022-05-03T05:25:45.532Z"
      },
      {
        "duration": 0,
        "start_time": "2022-05-03T05:25:45.533Z"
      },
      {
        "duration": 0,
        "start_time": "2022-05-03T05:25:45.534Z"
      },
      {
        "duration": 3259,
        "start_time": "2022-05-03T05:26:10.449Z"
      },
      {
        "duration": 960,
        "start_time": "2022-05-03T05:26:23.777Z"
      },
      {
        "duration": 8,
        "start_time": "2022-05-03T05:26:30.314Z"
      },
      {
        "duration": 779,
        "start_time": "2022-05-03T05:26:38.683Z"
      },
      {
        "duration": 2064,
        "start_time": "2022-05-03T05:26:44.692Z"
      },
      {
        "duration": 1928,
        "start_time": "2022-05-03T05:26:52.704Z"
      },
      {
        "duration": 4,
        "start_time": "2022-05-03T05:26:58.984Z"
      },
      {
        "duration": 13,
        "start_time": "2022-05-03T05:27:01.354Z"
      },
      {
        "duration": 533,
        "start_time": "2022-05-03T05:27:20.468Z"
      },
      {
        "duration": 14615,
        "start_time": "2022-05-03T05:27:21.004Z"
      },
      {
        "duration": 8788,
        "start_time": "2022-05-03T05:27:35.621Z"
      },
      {
        "duration": 16,
        "start_time": "2022-05-03T05:27:44.411Z"
      },
      {
        "duration": 779,
        "start_time": "2022-05-03T05:27:44.428Z"
      },
      {
        "duration": 5422,
        "start_time": "2022-05-03T05:27:45.209Z"
      },
      {
        "duration": 1375,
        "start_time": "2022-05-03T05:27:50.633Z"
      },
      {
        "duration": 622,
        "start_time": "2022-05-03T05:27:52.010Z"
      },
      {
        "duration": 1182,
        "start_time": "2022-05-03T05:27:52.634Z"
      },
      {
        "duration": 3,
        "start_time": "2022-05-03T05:27:53.819Z"
      },
      {
        "duration": 5191,
        "start_time": "2022-05-03T05:27:53.823Z"
      },
      {
        "duration": 3738,
        "start_time": "2022-05-03T05:27:59.015Z"
      },
      {
        "duration": 108,
        "start_time": "2022-05-03T05:28:02.808Z"
      },
      {
        "duration": 25,
        "start_time": "2022-05-03T05:28:02.918Z"
      },
      {
        "duration": 1086,
        "start_time": "2022-05-03T05:28:02.945Z"
      },
      {
        "duration": 478,
        "start_time": "2022-05-03T05:28:04.033Z"
      },
      {
        "duration": 2923,
        "start_time": "2022-05-03T05:28:04.513Z"
      },
      {
        "duration": 4975,
        "start_time": "2022-05-03T05:28:07.438Z"
      },
      {
        "duration": 2797,
        "start_time": "2022-05-03T05:28:12.414Z"
      },
      {
        "duration": 940,
        "start_time": "2022-05-03T05:28:15.213Z"
      },
      {
        "duration": 814,
        "start_time": "2022-05-03T05:28:16.155Z"
      },
      {
        "duration": 2471,
        "start_time": "2022-05-03T05:28:16.971Z"
      },
      {
        "duration": 2287,
        "start_time": "2022-05-03T05:28:19.443Z"
      },
      {
        "duration": 4,
        "start_time": "2022-05-03T05:28:21.732Z"
      },
      {
        "duration": 71,
        "start_time": "2022-05-03T05:28:21.738Z"
      },
      {
        "duration": 586,
        "start_time": "2022-05-03T05:29:51.822Z"
      },
      {
        "duration": 516,
        "start_time": "2022-05-03T05:35:31.119Z"
      },
      {
        "duration": 14675,
        "start_time": "2022-05-03T05:35:31.637Z"
      },
      {
        "duration": 8307,
        "start_time": "2022-05-03T05:35:46.315Z"
      },
      {
        "duration": 16,
        "start_time": "2022-05-03T05:35:54.623Z"
      },
      {
        "duration": 691,
        "start_time": "2022-05-03T05:35:54.642Z"
      },
      {
        "duration": 5617,
        "start_time": "2022-05-03T05:35:55.335Z"
      },
      {
        "duration": 1588,
        "start_time": "2022-05-03T05:36:00.953Z"
      },
      {
        "duration": 630,
        "start_time": "2022-05-03T05:36:02.609Z"
      },
      {
        "duration": 1320,
        "start_time": "2022-05-03T05:36:03.308Z"
      },
      {
        "duration": 3,
        "start_time": "2022-05-03T05:36:04.630Z"
      },
      {
        "duration": 5792,
        "start_time": "2022-05-03T05:36:04.635Z"
      },
      {
        "duration": 4594,
        "start_time": "2022-05-03T05:36:10.430Z"
      },
      {
        "duration": 109,
        "start_time": "2022-05-03T05:36:15.026Z"
      },
      {
        "duration": 96,
        "start_time": "2022-05-03T05:36:15.138Z"
      },
      {
        "duration": 1106,
        "start_time": "2022-05-03T05:36:15.236Z"
      },
      {
        "duration": 567,
        "start_time": "2022-05-03T05:36:16.344Z"
      },
      {
        "duration": 3020,
        "start_time": "2022-05-03T05:36:16.914Z"
      },
      {
        "duration": 4889,
        "start_time": "2022-05-03T05:36:19.937Z"
      },
      {
        "duration": 3082,
        "start_time": "2022-05-03T05:36:24.828Z"
      },
      {
        "duration": 1127,
        "start_time": "2022-05-03T05:36:27.912Z"
      },
      {
        "duration": 1086,
        "start_time": "2022-05-03T05:36:29.042Z"
      },
      {
        "duration": 2821,
        "start_time": "2022-05-03T05:36:30.130Z"
      },
      {
        "duration": 1969,
        "start_time": "2022-05-03T05:36:32.952Z"
      },
      {
        "duration": 5,
        "start_time": "2022-05-03T05:36:34.923Z"
      },
      {
        "duration": 15,
        "start_time": "2022-05-03T05:36:34.930Z"
      },
      {
        "duration": 105,
        "start_time": "2022-05-03T05:36:34.948Z"
      },
      {
        "duration": 620,
        "start_time": "2022-05-03T05:36:52.539Z"
      },
      {
        "duration": 531,
        "start_time": "2022-05-03T05:39:11.835Z"
      },
      {
        "duration": 15480,
        "start_time": "2022-05-03T05:39:12.368Z"
      },
      {
        "duration": 8469,
        "start_time": "2022-05-03T05:39:27.850Z"
      },
      {
        "duration": 16,
        "start_time": "2022-05-03T05:39:36.321Z"
      },
      {
        "duration": 699,
        "start_time": "2022-05-03T05:39:36.340Z"
      },
      {
        "duration": 5304,
        "start_time": "2022-05-03T05:39:37.109Z"
      },
      {
        "duration": 1817,
        "start_time": "2022-05-03T05:39:42.415Z"
      },
      {
        "duration": 872,
        "start_time": "2022-05-03T05:39:44.235Z"
      },
      {
        "duration": 1129,
        "start_time": "2022-05-03T05:39:45.109Z"
      },
      {
        "duration": 3,
        "start_time": "2022-05-03T05:39:46.240Z"
      },
      {
        "duration": 5669,
        "start_time": "2022-05-03T05:39:46.245Z"
      },
      {
        "duration": 4310,
        "start_time": "2022-05-03T05:39:51.916Z"
      },
      {
        "duration": 102,
        "start_time": "2022-05-03T05:39:56.227Z"
      },
      {
        "duration": 92,
        "start_time": "2022-05-03T05:39:56.332Z"
      },
      {
        "duration": 1086,
        "start_time": "2022-05-03T05:39:56.426Z"
      },
      {
        "duration": 510,
        "start_time": "2022-05-03T05:39:57.514Z"
      },
      {
        "duration": 2600,
        "start_time": "2022-05-03T05:39:58.026Z"
      },
      {
        "duration": 4586,
        "start_time": "2022-05-03T05:40:00.628Z"
      },
      {
        "duration": 3038,
        "start_time": "2022-05-03T05:40:05.216Z"
      },
      {
        "duration": 1009,
        "start_time": "2022-05-03T05:40:08.256Z"
      },
      {
        "duration": 1105,
        "start_time": "2022-05-03T05:40:09.268Z"
      },
      {
        "duration": 2554,
        "start_time": "2022-05-03T05:40:10.375Z"
      },
      {
        "duration": 2007,
        "start_time": "2022-05-03T05:40:12.931Z"
      },
      {
        "duration": 5,
        "start_time": "2022-05-03T05:40:14.939Z"
      },
      {
        "duration": 13,
        "start_time": "2022-05-03T05:40:14.946Z"
      }
    ],
    "colab": {
      "provenance": []
    },
    "kernelspec": {
      "display_name": "Python 3 (ipykernel)",
      "language": "python",
      "name": "python3"
    },
    "language_info": {
      "codemirror_mode": {
        "name": "ipython",
        "version": 3
      },
      "file_extension": ".py",
      "mimetype": "text/x-python",
      "name": "python",
      "nbconvert_exporter": "python",
      "pygments_lexer": "ipython3",
      "version": "3.9.5"
    },
    "toc": {
      "base_numbering": 1,
      "nav_menu": {},
      "number_sections": true,
      "sideBar": true,
      "skip_h1_title": true,
      "title_cell": "Table of Contents",
      "title_sidebar": "Contents",
      "toc_cell": false,
      "toc_position": {},
      "toc_section_display": true,
      "toc_window_display": false
    }
  },
  "nbformat": 4,
  "nbformat_minor": 5
}