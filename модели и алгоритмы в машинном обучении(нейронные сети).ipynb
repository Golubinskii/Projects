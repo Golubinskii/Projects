{
  "cells": [
    {
      "cell_type": "markdown",
      "id": "corresponding-armstrong",
      "metadata": {
        "ExecuteTime": {
          "end_time": "2022-05-05T04:58:05.692448Z",
          "start_time": "2022-05-05T04:58:05.688565Z"
        },
        "id": "corresponding-armstrong"
      },
      "source": [
        "## 1. Загрузка данных"
      ]
    },
    {
      "cell_type": "code",
      "execution_count": null,
      "id": "spectacular-folder",
      "metadata": {
        "id": "spectacular-folder"
      },
      "outputs": [],
      "source": [
        "import pandas as pd\n",
        "import matplotlib.pyplot as plt\n",
        "import numpy as np\n",
        "\n",
        "from sklearn.preprocessing import StandardScaler, OneHotEncoder, OrdinalEncoder\n",
        "from sklearn.model_selection import train_test_split\n",
        "from sklearn.metrics import mean_squared_error\n",
        "\n",
        "from math import sqrt\n",
        "from math import ceil\n",
        "import random\n",
        "\n",
        "import torch\n",
        "import torch.nn as nn\n",
        "\n",
        "import warnings\n",
        "warnings.filterwarnings(\"ignore\")"
      ]
    },
    {
      "cell_type": "code",
      "execution_count": null,
      "id": "749c2c8d",
      "metadata": {
        "scrolled": false,
        "id": "749c2c8d",
        "outputId": "43a3e33c-dee3-4311-d4cd-af12cec57e69"
      },
      "outputs": [
        {
          "data": {
            "text/html": [
              "<div>\n",
              "<style scoped>\n",
              "    .dataframe tbody tr th:only-of-type {\n",
              "        vertical-align: middle;\n",
              "    }\n",
              "\n",
              "    .dataframe tbody tr th {\n",
              "        vertical-align: top;\n",
              "    }\n",
              "\n",
              "    .dataframe thead th {\n",
              "        text-align: right;\n",
              "    }\n",
              "</style>\n",
              "<table border=\"1\" class=\"dataframe\">\n",
              "  <thead>\n",
              "    <tr style=\"text-align: right;\">\n",
              "      <th></th>\n",
              "      <th>Unnamed: 0</th>\n",
              "      <th>Temperature (K)</th>\n",
              "      <th>Luminosity(L/Lo)</th>\n",
              "      <th>Radius(R/Ro)</th>\n",
              "      <th>Absolute magnitude(Mv)</th>\n",
              "      <th>Star type</th>\n",
              "      <th>Star color</th>\n",
              "    </tr>\n",
              "  </thead>\n",
              "  <tbody>\n",
              "    <tr>\n",
              "      <th>0</th>\n",
              "      <td>0</td>\n",
              "      <td>3068</td>\n",
              "      <td>0.002400</td>\n",
              "      <td>0.1700</td>\n",
              "      <td>16.12</td>\n",
              "      <td>0</td>\n",
              "      <td>Red</td>\n",
              "    </tr>\n",
              "    <tr>\n",
              "      <th>1</th>\n",
              "      <td>1</td>\n",
              "      <td>3042</td>\n",
              "      <td>0.000500</td>\n",
              "      <td>0.1542</td>\n",
              "      <td>16.60</td>\n",
              "      <td>0</td>\n",
              "      <td>Red</td>\n",
              "    </tr>\n",
              "    <tr>\n",
              "      <th>2</th>\n",
              "      <td>2</td>\n",
              "      <td>2600</td>\n",
              "      <td>0.000300</td>\n",
              "      <td>0.1020</td>\n",
              "      <td>18.70</td>\n",
              "      <td>0</td>\n",
              "      <td>Red</td>\n",
              "    </tr>\n",
              "    <tr>\n",
              "      <th>3</th>\n",
              "      <td>3</td>\n",
              "      <td>2800</td>\n",
              "      <td>0.000200</td>\n",
              "      <td>0.1600</td>\n",
              "      <td>16.65</td>\n",
              "      <td>0</td>\n",
              "      <td>Red</td>\n",
              "    </tr>\n",
              "    <tr>\n",
              "      <th>4</th>\n",
              "      <td>4</td>\n",
              "      <td>1939</td>\n",
              "      <td>0.000138</td>\n",
              "      <td>0.1030</td>\n",
              "      <td>20.06</td>\n",
              "      <td>0</td>\n",
              "      <td>Red</td>\n",
              "    </tr>\n",
              "  </tbody>\n",
              "</table>\n",
              "</div>"
            ],
            "text/plain": [
              "   Unnamed: 0  Temperature (K)  Luminosity(L/Lo)  Radius(R/Ro)  \\\n",
              "0           0             3068          0.002400        0.1700   \n",
              "1           1             3042          0.000500        0.1542   \n",
              "2           2             2600          0.000300        0.1020   \n",
              "3           3             2800          0.000200        0.1600   \n",
              "4           4             1939          0.000138        0.1030   \n",
              "\n",
              "   Absolute magnitude(Mv)  Star type Star color  \n",
              "0                   16.12          0        Red  \n",
              "1                   16.60          0        Red  \n",
              "2                   18.70          0        Red  \n",
              "3                   16.65          0        Red  \n",
              "4                   20.06          0        Red  "
            ]
          },
          "execution_count": 2,
          "metadata": {},
          "output_type": "execute_result"
        }
      ],
      "source": [
        "try :\n",
        "    df = pd.read_csv('6_class.csv')\n",
        "except:\n",
        "    df = pd.read_csv('/datasets/6_class.csv')\n",
        "df.head()\n"
      ]
    },
    {
      "cell_type": "markdown",
      "id": "eb7fbe87",
      "metadata": {
        "id": "eb7fbe87"
      },
      "source": [
        "## 2. Исследовательский анализ"
      ]
    },
    {
      "cell_type": "code",
      "execution_count": null,
      "id": "2367612a",
      "metadata": {
        "id": "2367612a",
        "outputId": "ace15ee0-70e8-40e7-fe99-439e23ebab0f"
      },
      "outputs": [
        {
          "data": {
            "text/html": [
              "<div>\n",
              "<style scoped>\n",
              "    .dataframe tbody tr th:only-of-type {\n",
              "        vertical-align: middle;\n",
              "    }\n",
              "\n",
              "    .dataframe tbody tr th {\n",
              "        vertical-align: top;\n",
              "    }\n",
              "\n",
              "    .dataframe thead th {\n",
              "        text-align: right;\n",
              "    }\n",
              "</style>\n",
              "<table border=\"1\" class=\"dataframe\">\n",
              "  <thead>\n",
              "    <tr style=\"text-align: right;\">\n",
              "      <th></th>\n",
              "      <th>Unnamed: 0</th>\n",
              "      <th>Temperature (K)</th>\n",
              "      <th>Luminosity(L/Lo)</th>\n",
              "      <th>Radius(R/Ro)</th>\n",
              "      <th>Absolute magnitude(Mv)</th>\n",
              "      <th>Star type</th>\n",
              "      <th>Star color</th>\n",
              "    </tr>\n",
              "  </thead>\n",
              "  <tbody>\n",
              "    <tr>\n",
              "      <th>0</th>\n",
              "      <td>0</td>\n",
              "      <td>3068</td>\n",
              "      <td>0.002400</td>\n",
              "      <td>0.1700</td>\n",
              "      <td>16.12</td>\n",
              "      <td>0</td>\n",
              "      <td>Red</td>\n",
              "    </tr>\n",
              "    <tr>\n",
              "      <th>1</th>\n",
              "      <td>1</td>\n",
              "      <td>3042</td>\n",
              "      <td>0.000500</td>\n",
              "      <td>0.1542</td>\n",
              "      <td>16.60</td>\n",
              "      <td>0</td>\n",
              "      <td>Red</td>\n",
              "    </tr>\n",
              "    <tr>\n",
              "      <th>2</th>\n",
              "      <td>2</td>\n",
              "      <td>2600</td>\n",
              "      <td>0.000300</td>\n",
              "      <td>0.1020</td>\n",
              "      <td>18.70</td>\n",
              "      <td>0</td>\n",
              "      <td>Red</td>\n",
              "    </tr>\n",
              "    <tr>\n",
              "      <th>3</th>\n",
              "      <td>3</td>\n",
              "      <td>2800</td>\n",
              "      <td>0.000200</td>\n",
              "      <td>0.1600</td>\n",
              "      <td>16.65</td>\n",
              "      <td>0</td>\n",
              "      <td>Red</td>\n",
              "    </tr>\n",
              "    <tr>\n",
              "      <th>4</th>\n",
              "      <td>4</td>\n",
              "      <td>1939</td>\n",
              "      <td>0.000138</td>\n",
              "      <td>0.1030</td>\n",
              "      <td>20.06</td>\n",
              "      <td>0</td>\n",
              "      <td>Red</td>\n",
              "    </tr>\n",
              "    <tr>\n",
              "      <th>...</th>\n",
              "      <td>...</td>\n",
              "      <td>...</td>\n",
              "      <td>...</td>\n",
              "      <td>...</td>\n",
              "      <td>...</td>\n",
              "      <td>...</td>\n",
              "      <td>...</td>\n",
              "    </tr>\n",
              "    <tr>\n",
              "      <th>235</th>\n",
              "      <td>235</td>\n",
              "      <td>38940</td>\n",
              "      <td>374830.000000</td>\n",
              "      <td>1356.0000</td>\n",
              "      <td>-9.93</td>\n",
              "      <td>5</td>\n",
              "      <td>Blue</td>\n",
              "    </tr>\n",
              "    <tr>\n",
              "      <th>236</th>\n",
              "      <td>236</td>\n",
              "      <td>30839</td>\n",
              "      <td>834042.000000</td>\n",
              "      <td>1194.0000</td>\n",
              "      <td>-10.63</td>\n",
              "      <td>5</td>\n",
              "      <td>Blue</td>\n",
              "    </tr>\n",
              "    <tr>\n",
              "      <th>237</th>\n",
              "      <td>237</td>\n",
              "      <td>8829</td>\n",
              "      <td>537493.000000</td>\n",
              "      <td>1423.0000</td>\n",
              "      <td>-10.73</td>\n",
              "      <td>5</td>\n",
              "      <td>White</td>\n",
              "    </tr>\n",
              "    <tr>\n",
              "      <th>238</th>\n",
              "      <td>238</td>\n",
              "      <td>9235</td>\n",
              "      <td>404940.000000</td>\n",
              "      <td>1112.0000</td>\n",
              "      <td>-11.23</td>\n",
              "      <td>5</td>\n",
              "      <td>White</td>\n",
              "    </tr>\n",
              "    <tr>\n",
              "      <th>239</th>\n",
              "      <td>239</td>\n",
              "      <td>37882</td>\n",
              "      <td>294903.000000</td>\n",
              "      <td>1783.0000</td>\n",
              "      <td>-7.80</td>\n",
              "      <td>5</td>\n",
              "      <td>Blue</td>\n",
              "    </tr>\n",
              "  </tbody>\n",
              "</table>\n",
              "<p>240 rows × 7 columns</p>\n",
              "</div>"
            ],
            "text/plain": [
              "     Unnamed: 0  Temperature (K)  Luminosity(L/Lo)  Radius(R/Ro)  \\\n",
              "0             0             3068          0.002400        0.1700   \n",
              "1             1             3042          0.000500        0.1542   \n",
              "2             2             2600          0.000300        0.1020   \n",
              "3             3             2800          0.000200        0.1600   \n",
              "4             4             1939          0.000138        0.1030   \n",
              "..          ...              ...               ...           ...   \n",
              "235         235            38940     374830.000000     1356.0000   \n",
              "236         236            30839     834042.000000     1194.0000   \n",
              "237         237             8829     537493.000000     1423.0000   \n",
              "238         238             9235     404940.000000     1112.0000   \n",
              "239         239            37882     294903.000000     1783.0000   \n",
              "\n",
              "     Absolute magnitude(Mv)  Star type Star color  \n",
              "0                     16.12          0        Red  \n",
              "1                     16.60          0        Red  \n",
              "2                     18.70          0        Red  \n",
              "3                     16.65          0        Red  \n",
              "4                     20.06          0        Red  \n",
              "..                      ...        ...        ...  \n",
              "235                   -9.93          5       Blue  \n",
              "236                  -10.63          5       Blue  \n",
              "237                  -10.73          5      White  \n",
              "238                  -11.23          5      White  \n",
              "239                   -7.80          5       Blue  \n",
              "\n",
              "[240 rows x 7 columns]"
            ]
          },
          "execution_count": 4,
          "metadata": {},
          "output_type": "execute_result"
        }
      ],
      "source": [
        "df1 = df # перезапишет датасет в переменную df1, и далее будем работать с ним.\n",
        "df1"
      ]
    },
    {
      "cell_type": "markdown",
      "id": "f9e0d687",
      "metadata": {
        "id": "f9e0d687"
      },
      "source": [
        "Названия колонок длинные и неудобные для работы. Для удобства переименуем колонки."
      ]
    },
    {
      "cell_type": "code",
      "execution_count": null,
      "id": "dd8cfdc6",
      "metadata": {
        "id": "dd8cfdc6",
        "outputId": "3e4175e5-0b4a-4f3f-d42e-e911516f4286"
      },
      "outputs": [
        {
          "data": {
            "text/html": [
              "<div>\n",
              "<style scoped>\n",
              "    .dataframe tbody tr th:only-of-type {\n",
              "        vertical-align: middle;\n",
              "    }\n",
              "\n",
              "    .dataframe tbody tr th {\n",
              "        vertical-align: top;\n",
              "    }\n",
              "\n",
              "    .dataframe thead th {\n",
              "        text-align: right;\n",
              "    }\n",
              "</style>\n",
              "<table border=\"1\" class=\"dataframe\">\n",
              "  <thead>\n",
              "    <tr style=\"text-align: right;\">\n",
              "      <th></th>\n",
              "      <th>Unnamed: 0</th>\n",
              "      <th>temp</th>\n",
              "      <th>lum</th>\n",
              "      <th>rad</th>\n",
              "      <th>mag</th>\n",
              "      <th>type</th>\n",
              "      <th>color</th>\n",
              "    </tr>\n",
              "  </thead>\n",
              "  <tbody>\n",
              "    <tr>\n",
              "      <th>0</th>\n",
              "      <td>0</td>\n",
              "      <td>3068</td>\n",
              "      <td>0.002400</td>\n",
              "      <td>0.1700</td>\n",
              "      <td>16.12</td>\n",
              "      <td>0</td>\n",
              "      <td>Red</td>\n",
              "    </tr>\n",
              "    <tr>\n",
              "      <th>1</th>\n",
              "      <td>1</td>\n",
              "      <td>3042</td>\n",
              "      <td>0.000500</td>\n",
              "      <td>0.1542</td>\n",
              "      <td>16.60</td>\n",
              "      <td>0</td>\n",
              "      <td>Red</td>\n",
              "    </tr>\n",
              "    <tr>\n",
              "      <th>2</th>\n",
              "      <td>2</td>\n",
              "      <td>2600</td>\n",
              "      <td>0.000300</td>\n",
              "      <td>0.1020</td>\n",
              "      <td>18.70</td>\n",
              "      <td>0</td>\n",
              "      <td>Red</td>\n",
              "    </tr>\n",
              "    <tr>\n",
              "      <th>3</th>\n",
              "      <td>3</td>\n",
              "      <td>2800</td>\n",
              "      <td>0.000200</td>\n",
              "      <td>0.1600</td>\n",
              "      <td>16.65</td>\n",
              "      <td>0</td>\n",
              "      <td>Red</td>\n",
              "    </tr>\n",
              "    <tr>\n",
              "      <th>4</th>\n",
              "      <td>4</td>\n",
              "      <td>1939</td>\n",
              "      <td>0.000138</td>\n",
              "      <td>0.1030</td>\n",
              "      <td>20.06</td>\n",
              "      <td>0</td>\n",
              "      <td>Red</td>\n",
              "    </tr>\n",
              "    <tr>\n",
              "      <th>...</th>\n",
              "      <td>...</td>\n",
              "      <td>...</td>\n",
              "      <td>...</td>\n",
              "      <td>...</td>\n",
              "      <td>...</td>\n",
              "      <td>...</td>\n",
              "      <td>...</td>\n",
              "    </tr>\n",
              "    <tr>\n",
              "      <th>235</th>\n",
              "      <td>235</td>\n",
              "      <td>38940</td>\n",
              "      <td>374830.000000</td>\n",
              "      <td>1356.0000</td>\n",
              "      <td>-9.93</td>\n",
              "      <td>5</td>\n",
              "      <td>Blue</td>\n",
              "    </tr>\n",
              "    <tr>\n",
              "      <th>236</th>\n",
              "      <td>236</td>\n",
              "      <td>30839</td>\n",
              "      <td>834042.000000</td>\n",
              "      <td>1194.0000</td>\n",
              "      <td>-10.63</td>\n",
              "      <td>5</td>\n",
              "      <td>Blue</td>\n",
              "    </tr>\n",
              "    <tr>\n",
              "      <th>237</th>\n",
              "      <td>237</td>\n",
              "      <td>8829</td>\n",
              "      <td>537493.000000</td>\n",
              "      <td>1423.0000</td>\n",
              "      <td>-10.73</td>\n",
              "      <td>5</td>\n",
              "      <td>White</td>\n",
              "    </tr>\n",
              "    <tr>\n",
              "      <th>238</th>\n",
              "      <td>238</td>\n",
              "      <td>9235</td>\n",
              "      <td>404940.000000</td>\n",
              "      <td>1112.0000</td>\n",
              "      <td>-11.23</td>\n",
              "      <td>5</td>\n",
              "      <td>White</td>\n",
              "    </tr>\n",
              "    <tr>\n",
              "      <th>239</th>\n",
              "      <td>239</td>\n",
              "      <td>37882</td>\n",
              "      <td>294903.000000</td>\n",
              "      <td>1783.0000</td>\n",
              "      <td>-7.80</td>\n",
              "      <td>5</td>\n",
              "      <td>Blue</td>\n",
              "    </tr>\n",
              "  </tbody>\n",
              "</table>\n",
              "<p>240 rows × 7 columns</p>\n",
              "</div>"
            ],
            "text/plain": [
              "     Unnamed: 0   temp            lum        rad    mag  type  color\n",
              "0             0   3068       0.002400     0.1700  16.12     0    Red\n",
              "1             1   3042       0.000500     0.1542  16.60     0    Red\n",
              "2             2   2600       0.000300     0.1020  18.70     0    Red\n",
              "3             3   2800       0.000200     0.1600  16.65     0    Red\n",
              "4             4   1939       0.000138     0.1030  20.06     0    Red\n",
              "..          ...    ...            ...        ...    ...   ...    ...\n",
              "235         235  38940  374830.000000  1356.0000  -9.93     5   Blue\n",
              "236         236  30839  834042.000000  1194.0000 -10.63     5   Blue\n",
              "237         237   8829  537493.000000  1423.0000 -10.73     5  White\n",
              "238         238   9235  404940.000000  1112.0000 -11.23     5  White\n",
              "239         239  37882  294903.000000  1783.0000  -7.80     5   Blue\n",
              "\n",
              "[240 rows x 7 columns]"
            ]
          },
          "execution_count": 5,
          "metadata": {},
          "output_type": "execute_result"
        }
      ],
      "source": [
        "dict = {'Temperature (K)': 'temp', 'Luminosity(L/Lo)':'lum', 'Radius(R/Ro)':'rad', \\\n",
        "       'Absolute magnitude(Mv)':'mag', 'Star type':'type', 'Star color':'color'}\n",
        "df1.rename(columns=dict, inplace=True)\n",
        "df1"
      ]
    },
    {
      "cell_type": "code",
      "execution_count": null,
      "id": "fa652754",
      "metadata": {
        "scrolled": false,
        "id": "fa652754",
        "outputId": "71d5565b-9b87-48fd-d641-24c56e7d5d27"
      },
      "outputs": [
        {
          "data": {
            "text/plain": [
              "Unnamed: 0    0\n",
              "temp          0\n",
              "lum           0\n",
              "rad           0\n",
              "mag           0\n",
              "type          0\n",
              "color         0\n",
              "dtype: int64"
            ]
          },
          "execution_count": 6,
          "metadata": {},
          "output_type": "execute_result"
        }
      ],
      "source": [
        "df1.isna().sum()"
      ]
    },
    {
      "cell_type": "markdown",
      "id": "81524a27",
      "metadata": {
        "id": "81524a27"
      },
      "source": [
        "Незаполненных значений в датасете нет. С ним можно работать дальше. Ниже выведем статистические данные по датасету."
      ]
    },
    {
      "cell_type": "code",
      "execution_count": null,
      "id": "7d592af2",
      "metadata": {
        "scrolled": true,
        "id": "7d592af2",
        "outputId": "b9b008e6-2a8f-4282-8a44-d079d16b4a31"
      },
      "outputs": [
        {
          "data": {
            "text/html": [
              "<div>\n",
              "<style scoped>\n",
              "    .dataframe tbody tr th:only-of-type {\n",
              "        vertical-align: middle;\n",
              "    }\n",
              "\n",
              "    .dataframe tbody tr th {\n",
              "        vertical-align: top;\n",
              "    }\n",
              "\n",
              "    .dataframe thead th {\n",
              "        text-align: right;\n",
              "    }\n",
              "</style>\n",
              "<table border=\"1\" class=\"dataframe\">\n",
              "  <thead>\n",
              "    <tr style=\"text-align: right;\">\n",
              "      <th></th>\n",
              "      <th>Unnamed: 0</th>\n",
              "      <th>temp</th>\n",
              "      <th>lum</th>\n",
              "      <th>rad</th>\n",
              "      <th>mag</th>\n",
              "      <th>type</th>\n",
              "    </tr>\n",
              "  </thead>\n",
              "  <tbody>\n",
              "    <tr>\n",
              "      <th>count</th>\n",
              "      <td>240.00000</td>\n",
              "      <td>240.000000</td>\n",
              "      <td>240.000000</td>\n",
              "      <td>240.000000</td>\n",
              "      <td>240.000000</td>\n",
              "      <td>240.000000</td>\n",
              "    </tr>\n",
              "    <tr>\n",
              "      <th>mean</th>\n",
              "      <td>119.50000</td>\n",
              "      <td>10497.462500</td>\n",
              "      <td>107188.361635</td>\n",
              "      <td>237.157781</td>\n",
              "      <td>4.382396</td>\n",
              "      <td>2.500000</td>\n",
              "    </tr>\n",
              "    <tr>\n",
              "      <th>std</th>\n",
              "      <td>69.42622</td>\n",
              "      <td>9552.425037</td>\n",
              "      <td>179432.244940</td>\n",
              "      <td>517.155763</td>\n",
              "      <td>10.532512</td>\n",
              "      <td>1.711394</td>\n",
              "    </tr>\n",
              "    <tr>\n",
              "      <th>min</th>\n",
              "      <td>0.00000</td>\n",
              "      <td>1939.000000</td>\n",
              "      <td>0.000080</td>\n",
              "      <td>0.008400</td>\n",
              "      <td>-11.920000</td>\n",
              "      <td>0.000000</td>\n",
              "    </tr>\n",
              "    <tr>\n",
              "      <th>25%</th>\n",
              "      <td>59.75000</td>\n",
              "      <td>3344.250000</td>\n",
              "      <td>0.000865</td>\n",
              "      <td>0.102750</td>\n",
              "      <td>-6.232500</td>\n",
              "      <td>1.000000</td>\n",
              "    </tr>\n",
              "    <tr>\n",
              "      <th>50%</th>\n",
              "      <td>119.50000</td>\n",
              "      <td>5776.000000</td>\n",
              "      <td>0.070500</td>\n",
              "      <td>0.762500</td>\n",
              "      <td>8.313000</td>\n",
              "      <td>2.500000</td>\n",
              "    </tr>\n",
              "    <tr>\n",
              "      <th>75%</th>\n",
              "      <td>179.25000</td>\n",
              "      <td>15055.500000</td>\n",
              "      <td>198050.000000</td>\n",
              "      <td>42.750000</td>\n",
              "      <td>13.697500</td>\n",
              "      <td>4.000000</td>\n",
              "    </tr>\n",
              "    <tr>\n",
              "      <th>max</th>\n",
              "      <td>239.00000</td>\n",
              "      <td>40000.000000</td>\n",
              "      <td>849420.000000</td>\n",
              "      <td>1948.500000</td>\n",
              "      <td>20.060000</td>\n",
              "      <td>5.000000</td>\n",
              "    </tr>\n",
              "  </tbody>\n",
              "</table>\n",
              "</div>"
            ],
            "text/plain": [
              "       Unnamed: 0          temp            lum          rad         mag  \\\n",
              "count   240.00000    240.000000     240.000000   240.000000  240.000000   \n",
              "mean    119.50000  10497.462500  107188.361635   237.157781    4.382396   \n",
              "std      69.42622   9552.425037  179432.244940   517.155763   10.532512   \n",
              "min       0.00000   1939.000000       0.000080     0.008400  -11.920000   \n",
              "25%      59.75000   3344.250000       0.000865     0.102750   -6.232500   \n",
              "50%     119.50000   5776.000000       0.070500     0.762500    8.313000   \n",
              "75%     179.25000  15055.500000  198050.000000    42.750000   13.697500   \n",
              "max     239.00000  40000.000000  849420.000000  1948.500000   20.060000   \n",
              "\n",
              "             type  \n",
              "count  240.000000  \n",
              "mean     2.500000  \n",
              "std      1.711394  \n",
              "min      0.000000  \n",
              "25%      1.000000  \n",
              "50%      2.500000  \n",
              "75%      4.000000  \n",
              "max      5.000000  "
            ]
          },
          "execution_count": 7,
          "metadata": {},
          "output_type": "execute_result"
        }
      ],
      "source": [
        "df1.describe()"
      ]
    },
    {
      "cell_type": "markdown",
      "id": "fea41002",
      "metadata": {
        "id": "fea41002"
      },
      "source": [
        "Столбец `Unnamed: 0` совпадает с индексами датасета и не несет никакой информационной составляющей, поэтому его можно удалить из датасета."
      ]
    },
    {
      "cell_type": "code",
      "execution_count": null,
      "id": "81f34fd1",
      "metadata": {
        "id": "81f34fd1"
      },
      "outputs": [],
      "source": [
        "df1 = df1.drop('Unnamed: 0', axis=1)"
      ]
    },
    {
      "cell_type": "code",
      "execution_count": null,
      "id": "afc638bd",
      "metadata": {
        "scrolled": true,
        "id": "afc638bd",
        "outputId": "680c36f5-4425-4bba-9a88-25c6b6a57a47"
      },
      "outputs": [
        {
          "data": {
            "text/html": [
              "<div>\n",
              "<style scoped>\n",
              "    .dataframe tbody tr th:only-of-type {\n",
              "        vertical-align: middle;\n",
              "    }\n",
              "\n",
              "    .dataframe tbody tr th {\n",
              "        vertical-align: top;\n",
              "    }\n",
              "\n",
              "    .dataframe thead th {\n",
              "        text-align: right;\n",
              "    }\n",
              "</style>\n",
              "<table border=\"1\" class=\"dataframe\">\n",
              "  <thead>\n",
              "    <tr style=\"text-align: right;\">\n",
              "      <th></th>\n",
              "      <th>temp</th>\n",
              "      <th>lum</th>\n",
              "      <th>rad</th>\n",
              "      <th>mag</th>\n",
              "      <th>type</th>\n",
              "    </tr>\n",
              "  </thead>\n",
              "  <tbody>\n",
              "    <tr>\n",
              "      <th>temp</th>\n",
              "      <td>1.000000</td>\n",
              "      <td>0.393404</td>\n",
              "      <td>0.064216</td>\n",
              "      <td>-0.420261</td>\n",
              "      <td>0.411129</td>\n",
              "    </tr>\n",
              "    <tr>\n",
              "      <th>lum</th>\n",
              "      <td>0.393404</td>\n",
              "      <td>1.000000</td>\n",
              "      <td>0.526516</td>\n",
              "      <td>-0.692619</td>\n",
              "      <td>0.676845</td>\n",
              "    </tr>\n",
              "    <tr>\n",
              "      <th>rad</th>\n",
              "      <td>0.064216</td>\n",
              "      <td>0.526516</td>\n",
              "      <td>1.000000</td>\n",
              "      <td>-0.608728</td>\n",
              "      <td>0.660975</td>\n",
              "    </tr>\n",
              "    <tr>\n",
              "      <th>mag</th>\n",
              "      <td>-0.420261</td>\n",
              "      <td>-0.692619</td>\n",
              "      <td>-0.608728</td>\n",
              "      <td>1.000000</td>\n",
              "      <td>-0.955276</td>\n",
              "    </tr>\n",
              "    <tr>\n",
              "      <th>type</th>\n",
              "      <td>0.411129</td>\n",
              "      <td>0.676845</td>\n",
              "      <td>0.660975</td>\n",
              "      <td>-0.955276</td>\n",
              "      <td>1.000000</td>\n",
              "    </tr>\n",
              "  </tbody>\n",
              "</table>\n",
              "</div>"
            ],
            "text/plain": [
              "          temp       lum       rad       mag      type\n",
              "temp  1.000000  0.393404  0.064216 -0.420261  0.411129\n",
              "lum   0.393404  1.000000  0.526516 -0.692619  0.676845\n",
              "rad   0.064216  0.526516  1.000000 -0.608728  0.660975\n",
              "mag  -0.420261 -0.692619 -0.608728  1.000000 -0.955276\n",
              "type  0.411129  0.676845  0.660975 -0.955276  1.000000"
            ]
          },
          "execution_count": 9,
          "metadata": {},
          "output_type": "execute_result"
        }
      ],
      "source": [
        "df1.corr()"
      ]
    },
    {
      "cell_type": "code",
      "execution_count": null,
      "id": "b354e9b4",
      "metadata": {
        "scrolled": false,
        "id": "b354e9b4",
        "outputId": "140988e0-fa83-480b-84ba-88a5bf51e422"
      },
      "outputs": [
        {
          "data": {
            "image/png": "[encoded data removed]",
            "text/plain": [
              "<Figure size 576x360 with 1 Axes>"
            ]
          },
          "metadata": {
            "needs_background": "light"
          },
          "output_type": "display_data"
        },
        {
          "data": {
            "image/png": "[encoded data removed]",
            "text/plain": [
              "<Figure size 576x360 with 1 Axes>"
            ]
          },
          "metadata": {
            "needs_background": "light"
          },
          "output_type": "display_data"
        },
        {
          "data": {
            "image/png": "[encoded data removed]",
            "text/plain": [
              "<Figure size 576x360 with 1 Axes>"
            ]
          },
          "metadata": {
            "needs_background": "light"
          },
          "output_type": "display_data"
        }
      ],
      "source": [
        "\n",
        "plt.figure(figsize=(8,5))\n",
        "plt.plot( df1['mag'], df1['temp'], linestyle='', marker='o', markersize=5, alpha=0.2, color=\"green\")\n",
        "\n",
        "# Titles\n",
        "plt.xlabel('Absolute magnitude(Mv)')\n",
        "plt.ylabel('Temperature (K)')\n",
        "plt.title('', loc='left')\n",
        "plt.show()\n",
        "\n",
        "plt.figure(figsize=(8,5))\n",
        "plt.plot( df1['lum'], df1['temp'], linestyle='', marker='o', markersize=5, alpha=0.2, color=\"blue\")\n",
        "\n",
        "# Titles\n",
        "plt.xlabel('Luminosity(L/Lo)')\n",
        "plt.ylabel('Temperature (K)')\n",
        "plt.title('', loc='left')\n",
        "plt.show()\n",
        "\n",
        "plt.figure(figsize=(8,5))\n",
        "plt.plot( df1['type'], df1['temp'], linestyle='', marker='o', markersize=5, alpha=0.2, color=\"red\")\n",
        "\n",
        "# Titles\n",
        "list_types = ['Кор.карлик', 'Кр. карлик', 'Бел. карлик', 'Зв. гл. послед.', 'Cверхгигант', 'Гипергигант']\n",
        "x_pos = np.arange(len(list_types))\n",
        "plt.xticks(x_pos, list_types)\n",
        "plt.xlabel('Star type')\n",
        "plt.ylabel('Temperature (K)')\n",
        "plt.title('', loc='left')\n",
        "plt.show()"
      ]
    },
    {
      "cell_type": "markdown",
      "id": "f0c190b2",
      "metadata": {
        "id": "f0c190b2"
      },
      "source": [
        "Из таблицы корреляции можно сделать вывод, что:\n",
        " - зависимость `Absolute magnitude(Mv)` от температуры носит скорее обратнопропорциональный характер\n",
        " - зависимость `Luminosity(L/Lo)` от температуры склонна к прямопропорциональной зависимости\n",
        "\n",
        "По зависимости от типа звезды можно сделать вывод, что:\n",
        " - Коричневые и красные карлики имеют относительно невысокую температу ниже 5000К,\n",
        " - Белые карлики имеют температуру в диапазоне приблизительно от 7000 до 25000К,\n",
        " - Звезды главной последовательности, сверхгиганты и гипергиганты имеют примерно одинаковый и очень большой разброс по значениям температуры от 2500 до 40000 К.\n",
        "\n"
      ]
    },
    {
      "cell_type": "markdown",
      "id": "56cc0e36",
      "metadata": {
        "id": "56cc0e36"
      },
      "source": [
        "<div class=\"alert alert-success\">\n",
        "<b>Комментарий ревьюера ✔️:</b> Угу, отличное исследование, согласен </div>"
      ]
    },
    {
      "cell_type": "code",
      "execution_count": null,
      "id": "e449f113",
      "metadata": {
        "scrolled": true,
        "id": "e449f113",
        "outputId": "25ba2898-7be0-4ca0-fc65-f0d5e267854a"
      },
      "outputs": [
        {
          "data": {
            "text/plain": [
              "array([[<AxesSubplot:title={'center':'temp'}>]], dtype=object)"
            ]
          },
          "execution_count": 11,
          "metadata": {},
          "output_type": "execute_result"
        },
        {
          "data": {
            "image/png": "[encoded data removed]",
            "text/plain": [
              "<Figure size 432x288 with 1 Axes>"
            ]
          },
          "metadata": {
            "needs_background": "light"
          },
          "output_type": "display_data"
        }
      ],
      "source": [
        "df1.hist('temp', bins = 30)"
      ]
    },
    {
      "cell_type": "code",
      "execution_count": null,
      "id": "99ef28f5",
      "metadata": {
        "scrolled": false,
        "id": "99ef28f5",
        "outputId": "f9473206-000a-4057-b677-760540204008"
      },
      "outputs": [
        {
          "data": {
            "text/plain": [
              "{'whiskers': [<matplotlib.lines.Line2D at 0x1eab88ec4f0>,\n",
              "  <matplotlib.lines.Line2D at 0x1eab88ec250>],\n",
              " 'caps': [<matplotlib.lines.Line2D at 0x1eab88ece80>,\n",
              "  <matplotlib.lines.Line2D at 0x1eab88ec670>],\n",
              " 'boxes': [<matplotlib.lines.Line2D at 0x1eab0bc6220>],\n",
              " 'medians': [<matplotlib.lines.Line2D at 0x1eab0c205b0>],\n",
              " 'fliers': [<matplotlib.lines.Line2D at 0x1eab0c20ca0>],\n",
              " 'means': []}"
            ]
          },
          "execution_count": 12,
          "metadata": {},
          "output_type": "execute_result"
        },
        {
          "data": {
            "image/png": "[encoded data removed]",
            "text/plain": [
              "<Figure size 432x288 with 1 Axes>"
            ]
          },
          "metadata": {
            "needs_background": "light"
          },
          "output_type": "display_data"
        }
      ],
      "source": [
        "plt.boxplot(df1['temp'])"
      ]
    },
    {
      "cell_type": "code",
      "execution_count": null,
      "id": "adb032a5",
      "metadata": {
        "scrolled": true,
        "id": "adb032a5",
        "outputId": "abed81b0-fba1-4f34-90f7-d1fb201810f7"
      },
      "outputs": [
        {
          "data": {
            "text/plain": [
              "array([[<AxesSubplot:title={'center':'lum'}>]], dtype=object)"
            ]
          },
          "execution_count": 13,
          "metadata": {},
          "output_type": "execute_result"
        },
        {
          "data": {
            "image/png": "[encoded data removed]",
            "text/plain": [
              "<Figure size 432x288 with 1 Axes>"
            ]
          },
          "metadata": {
            "needs_background": "light"
          },
          "output_type": "display_data"
        }
      ],
      "source": [
        "df1.hist('lum', bins=20)"
      ]
    },
    {
      "cell_type": "code",
      "execution_count": null,
      "id": "887458bb",
      "metadata": {
        "id": "887458bb",
        "outputId": "78602d53-892b-4c52-e7a9-fc1fe784418c"
      },
      "outputs": [
        {
          "data": {
            "text/plain": [
              "{'whiskers': [<matplotlib.lines.Line2D at 0x1eab0d2adc0>,\n",
              "  <matplotlib.lines.Line2D at 0x1eab0d39190>],\n",
              " 'caps': [<matplotlib.lines.Line2D at 0x1eab0d39520>,\n",
              "  <matplotlib.lines.Line2D at 0x1eab0d398b0>],\n",
              " 'boxes': [<matplotlib.lines.Line2D at 0x1eab0d2aa00>],\n",
              " 'medians': [<matplotlib.lines.Line2D at 0x1eab0d39c40>],\n",
              " 'fliers': [<matplotlib.lines.Line2D at 0x1eab0d39fd0>],\n",
              " 'means': []}"
            ]
          },
          "execution_count": 14,
          "metadata": {},
          "output_type": "execute_result"
        },
        {
          "data": {
            "image/png": "[encoded data removed]",
            "text/plain": [
              "<Figure size 432x288 with 1 Axes>"
            ]
          },
          "metadata": {
            "needs_background": "light"
          },
          "output_type": "display_data"
        }
      ],
      "source": [
        "plt.boxplot(df1['lum'])"
      ]
    },
    {
      "cell_type": "code",
      "execution_count": null,
      "id": "a77bc7b3",
      "metadata": {
        "scrolled": false,
        "id": "a77bc7b3",
        "outputId": "8bf5beb0-fcac-41d6-dfb1-6b7f20808f49"
      },
      "outputs": [
        {
          "data": {
            "text/plain": [
              "(451900.0, 452050.0)"
            ]
          },
          "execution_count": 15,
          "metadata": {},
          "output_type": "execute_result"
        },
        {
          "data": {
            "image/png": "[encoded data removed]",
            "text/plain": [
              "<Figure size 432x288 with 1 Axes>"
            ]
          },
          "metadata": {
            "needs_background": "light"
          },
          "output_type": "display_data"
        }
      ],
      "source": [
        "plt.boxplot(df1['lum'])\n",
        "plt.ylim(451900, 452050)"
      ]
    },
    {
      "cell_type": "markdown",
      "id": "68874099",
      "metadata": {
        "id": "68874099"
      },
      "source": [
        "По относительной светимости датасет имеет выбросы. Найдем индексы строк, в который отн. светимость больше значения 452000 и сохраним эти значения в список."
      ]
    },
    {
      "cell_type": "code",
      "execution_count": null,
      "id": "ba178f70",
      "metadata": {
        "scrolled": true,
        "id": "ba178f70",
        "outputId": "a8515295-9a43-4e0c-9293-e70f0af340c7"
      },
      "outputs": [
        {
          "data": {
            "text/html": [
              "<div>\n",
              "<style scoped>\n",
              "    .dataframe tbody tr th:only-of-type {\n",
              "        vertical-align: middle;\n",
              "    }\n",
              "\n",
              "    .dataframe tbody tr th {\n",
              "        vertical-align: top;\n",
              "    }\n",
              "\n",
              "    .dataframe thead th {\n",
              "        text-align: right;\n",
              "    }\n",
              "</style>\n",
              "<table border=\"1\" class=\"dataframe\">\n",
              "  <thead>\n",
              "    <tr style=\"text-align: right;\">\n",
              "      <th></th>\n",
              "      <th>temp</th>\n",
              "      <th>lum</th>\n",
              "      <th>rad</th>\n",
              "      <th>mag</th>\n",
              "      <th>type</th>\n",
              "      <th>color</th>\n",
              "    </tr>\n",
              "  </thead>\n",
              "  <tbody>\n",
              "    <tr>\n",
              "      <th>53</th>\n",
              "      <td>3749</td>\n",
              "      <td>550000.0</td>\n",
              "      <td>1648.0</td>\n",
              "      <td>-8.050</td>\n",
              "      <td>5</td>\n",
              "      <td>Orange</td>\n",
              "    </tr>\n",
              "    <tr>\n",
              "      <th>101</th>\n",
              "      <td>40000</td>\n",
              "      <td>813000.0</td>\n",
              "      <td>14.0</td>\n",
              "      <td>-6.230</td>\n",
              "      <td>4</td>\n",
              "      <td>Blue</td>\n",
              "    </tr>\n",
              "    <tr>\n",
              "      <th>172</th>\n",
              "      <td>4287</td>\n",
              "      <td>630000.0</td>\n",
              "      <td>1315.0</td>\n",
              "      <td>-9.200</td>\n",
              "      <td>5</td>\n",
              "      <td>Orange</td>\n",
              "    </tr>\n",
              "    <tr>\n",
              "      <th>223</th>\n",
              "      <td>23440</td>\n",
              "      <td>537430.0</td>\n",
              "      <td>81.0</td>\n",
              "      <td>-5.975</td>\n",
              "      <td>4</td>\n",
              "      <td>Blue</td>\n",
              "    </tr>\n",
              "    <tr>\n",
              "      <th>226</th>\n",
              "      <td>9892</td>\n",
              "      <td>593900.0</td>\n",
              "      <td>80.0</td>\n",
              "      <td>-7.262</td>\n",
              "      <td>4</td>\n",
              "      <td>Blue</td>\n",
              "    </tr>\n",
              "    <tr>\n",
              "      <th>227</th>\n",
              "      <td>10930</td>\n",
              "      <td>783930.0</td>\n",
              "      <td>25.0</td>\n",
              "      <td>-6.224</td>\n",
              "      <td>4</td>\n",
              "      <td>Blue</td>\n",
              "    </tr>\n",
              "    <tr>\n",
              "      <th>229</th>\n",
              "      <td>21738</td>\n",
              "      <td>748890.0</td>\n",
              "      <td>92.0</td>\n",
              "      <td>-7.346</td>\n",
              "      <td>4</td>\n",
              "      <td>Blue</td>\n",
              "    </tr>\n",
              "    <tr>\n",
              "      <th>232</th>\n",
              "      <td>32489</td>\n",
              "      <td>648430.0</td>\n",
              "      <td>1948.5</td>\n",
              "      <td>-10.840</td>\n",
              "      <td>5</td>\n",
              "      <td>Blue</td>\n",
              "    </tr>\n",
              "    <tr>\n",
              "      <th>233</th>\n",
              "      <td>27739</td>\n",
              "      <td>849420.0</td>\n",
              "      <td>1252.0</td>\n",
              "      <td>-7.590</td>\n",
              "      <td>5</td>\n",
              "      <td>Blue-white</td>\n",
              "    </tr>\n",
              "    <tr>\n",
              "      <th>234</th>\n",
              "      <td>21904</td>\n",
              "      <td>748490.0</td>\n",
              "      <td>1130.0</td>\n",
              "      <td>-7.670</td>\n",
              "      <td>5</td>\n",
              "      <td>Blue-white</td>\n",
              "    </tr>\n",
              "    <tr>\n",
              "      <th>236</th>\n",
              "      <td>30839</td>\n",
              "      <td>834042.0</td>\n",
              "      <td>1194.0</td>\n",
              "      <td>-10.630</td>\n",
              "      <td>5</td>\n",
              "      <td>Blue</td>\n",
              "    </tr>\n",
              "    <tr>\n",
              "      <th>237</th>\n",
              "      <td>8829</td>\n",
              "      <td>537493.0</td>\n",
              "      <td>1423.0</td>\n",
              "      <td>-10.730</td>\n",
              "      <td>5</td>\n",
              "      <td>White</td>\n",
              "    </tr>\n",
              "  </tbody>\n",
              "</table>\n",
              "</div>"
            ],
            "text/plain": [
              "      temp       lum     rad     mag  type       color\n",
              "53    3749  550000.0  1648.0  -8.050     5      Orange\n",
              "101  40000  813000.0    14.0  -6.230     4        Blue\n",
              "172   4287  630000.0  1315.0  -9.200     5      Orange\n",
              "223  23440  537430.0    81.0  -5.975     4        Blue\n",
              "226   9892  593900.0    80.0  -7.262     4        Blue\n",
              "227  10930  783930.0    25.0  -6.224     4        Blue\n",
              "229  21738  748890.0    92.0  -7.346     4        Blue\n",
              "232  32489  648430.0  1948.5 -10.840     5        Blue\n",
              "233  27739  849420.0  1252.0  -7.590     5  Blue-white\n",
              "234  21904  748490.0  1130.0  -7.670     5  Blue-white\n",
              "236  30839  834042.0  1194.0 -10.630     5        Blue\n",
              "237   8829  537493.0  1423.0 -10.730     5       White"
            ]
          },
          "execution_count": 16,
          "metadata": {},
          "output_type": "execute_result"
        }
      ],
      "source": [
        "df1.loc[df1['lum']>452000]\n"
      ]
    },
    {
      "cell_type": "code",
      "execution_count": null,
      "id": "6f67be8e",
      "metadata": {
        "id": "6f67be8e",
        "outputId": "139e1b9d-d9a6-4919-cb9b-1c0499877753"
      },
      "outputs": [
        {
          "data": {
            "text/plain": [
              "12"
            ]
          },
          "execution_count": 17,
          "metadata": {},
          "output_type": "execute_result"
        }
      ],
      "source": [
        "index_del = (df1.loc[df1['lum']>452000]).index.to_list()\n",
        "len(index_del)"
      ]
    },
    {
      "cell_type": "code",
      "execution_count": null,
      "id": "e9057fb6",
      "metadata": {
        "scrolled": true,
        "id": "e9057fb6",
        "outputId": "7c37dc94-e3fc-4806-be6f-ef8494d410ad"
      },
      "outputs": [
        {
          "data": {
            "text/plain": [
              "array([[<AxesSubplot:title={'center':'rad'}>]], dtype=object)"
            ]
          },
          "execution_count": 18,
          "metadata": {},
          "output_type": "execute_result"
        },
        {
          "data": {
            "image/png": "[encoded data removed]",
            "text/plain": [
              "<Figure size 432x288 with 1 Axes>"
            ]
          },
          "metadata": {
            "needs_background": "light"
          },
          "output_type": "display_data"
        }
      ],
      "source": [
        "df1.hist('rad', bins=25)"
      ]
    },
    {
      "cell_type": "code",
      "execution_count": null,
      "id": "6144d694",
      "metadata": {
        "id": "6144d694",
        "outputId": "830ac2c0-3b92-4011-967c-7e0543173ed2"
      },
      "outputs": [
        {
          "data": {
            "text/plain": [
              "{'whiskers': [<matplotlib.lines.Line2D at 0x1eab8fee760>,\n",
              "  <matplotlib.lines.Line2D at 0x1eab8feeaf0>],\n",
              " 'caps': [<matplotlib.lines.Line2D at 0x1eab8feee80>,\n",
              "  <matplotlib.lines.Line2D at 0x1eab8ffa250>],\n",
              " 'boxes': [<matplotlib.lines.Line2D at 0x1eab8fee3d0>],\n",
              " 'medians': [<matplotlib.lines.Line2D at 0x1eab8ffa5e0>],\n",
              " 'fliers': [<matplotlib.lines.Line2D at 0x1eab8ffa970>],\n",
              " 'means': []}"
            ]
          },
          "execution_count": 19,
          "metadata": {},
          "output_type": "execute_result"
        },
        {
          "data": {
            "image/png": "[encoded data removed]",
            "text/plain": [
              "<Figure size 432x288 with 1 Axes>"
            ]
          },
          "metadata": {
            "needs_background": "light"
          },
          "output_type": "display_data"
        }
      ],
      "source": [
        "plt.boxplot(df1['rad'])"
      ]
    },
    {
      "cell_type": "code",
      "execution_count": null,
      "id": "f39d8e9e",
      "metadata": {
        "scrolled": true,
        "id": "f39d8e9e",
        "outputId": "0b31bc58-7849-4c9e-a648-21fc9c7b20b6"
      },
      "outputs": [
        {
          "data": {
            "text/plain": [
              "(0.0, 100.0)"
            ]
          },
          "execution_count": 20,
          "metadata": {},
          "output_type": "execute_result"
        },
        {
          "data": {
            "image/png": "[encoded data removed]",
            "text/plain": [
              "<Figure size 432x288 with 1 Axes>"
            ]
          },
          "metadata": {
            "needs_background": "light"
          },
          "output_type": "display_data"
        }
      ],
      "source": [
        "plt.boxplot(df1['rad'])\n",
        "plt.ylim(0,100)"
      ]
    },
    {
      "cell_type": "markdown",
      "id": "cb252189",
      "metadata": {
        "id": "cb252189"
      },
      "source": [
        "По относительному радиусу датасет имеет выбросы, так же их определим номера строк и сохраним в список."
      ]
    },
    {
      "cell_type": "code",
      "execution_count": null,
      "id": "b0e5ddbc",
      "metadata": {
        "scrolled": true,
        "id": "b0e5ddbc",
        "outputId": "10c57f9a-f907-4619-8913-f82d1761a492"
      },
      "outputs": [
        {
          "data": {
            "text/plain": [
              "40"
            ]
          },
          "execution_count": 21,
          "metadata": {},
          "output_type": "execute_result"
        }
      ],
      "source": [
        "index_del1 = (df1.loc[df1['rad']>100]).index.to_list()\n",
        "len(index_del1)"
      ]
    },
    {
      "cell_type": "code",
      "execution_count": null,
      "id": "08ced9f3",
      "metadata": {
        "id": "08ced9f3",
        "outputId": "990a3f91-5b9a-421c-b0da-6835cc80b03f"
      },
      "outputs": [
        {
          "data": {
            "text/plain": [
              "52"
            ]
          },
          "execution_count": 22,
          "metadata": {},
          "output_type": "execute_result"
        }
      ],
      "source": [
        "index_del.extend(index_del1)\n",
        "len(index_del)"
      ]
    },
    {
      "cell_type": "code",
      "execution_count": null,
      "id": "272af153",
      "metadata": {
        "scrolled": true,
        "id": "272af153",
        "outputId": "527f5375-1b52-47da-a470-4015eb13a8ad"
      },
      "outputs": [
        {
          "data": {
            "text/plain": [
              "array([[<AxesSubplot:title={'center':'mag'}>]], dtype=object)"
            ]
          },
          "execution_count": 23,
          "metadata": {},
          "output_type": "execute_result"
        },
        {
          "data": {
            "image/png": "[encoded data removed]",
            "text/plain": [
              "<Figure size 432x288 with 1 Axes>"
            ]
          },
          "metadata": {
            "needs_background": "light"
          },
          "output_type": "display_data"
        }
      ],
      "source": [
        "df1.hist('mag', bins=50)"
      ]
    },
    {
      "cell_type": "code",
      "execution_count": null,
      "id": "f26af474",
      "metadata": {
        "id": "f26af474",
        "outputId": "888c23f4-7657-45d5-e7a5-1c3417e07562"
      },
      "outputs": [
        {
          "data": {
            "text/plain": [
              "{'whiskers': [<matplotlib.lines.Line2D at 0x1eab91a2340>,\n",
              "  <matplotlib.lines.Line2D at 0x1eab91a26d0>],\n",
              " 'caps': [<matplotlib.lines.Line2D at 0x1eab91a2a90>,\n",
              "  <matplotlib.lines.Line2D at 0x1eab91a2e20>],\n",
              " 'boxes': [<matplotlib.lines.Line2D at 0x1eab9194fa0>],\n",
              " 'medians': [<matplotlib.lines.Line2D at 0x1eab91ae1f0>],\n",
              " 'fliers': [<matplotlib.lines.Line2D at 0x1eab91ae580>],\n",
              " 'means': []}"
            ]
          },
          "execution_count": 24,
          "metadata": {},
          "output_type": "execute_result"
        },
        {
          "data": {
            "image/png": "[encoded data removed]",
            "text/plain": [
              "<Figure size 432x288 with 1 Axes>"
            ]
          },
          "metadata": {
            "needs_background": "light"
          },
          "output_type": "display_data"
        }
      ],
      "source": [
        "plt.boxplot(df1['mag'])"
      ]
    },
    {
      "cell_type": "code",
      "execution_count": null,
      "id": "95a95733",
      "metadata": {
        "scrolled": true,
        "id": "95a95733",
        "outputId": "e690690e-06c9-42e1-ed74-fdf30bde4e29"
      },
      "outputs": [
        {
          "data": {
            "text/plain": [
              "(20.0, 20.2)"
            ]
          },
          "execution_count": 25,
          "metadata": {},
          "output_type": "execute_result"
        },
        {
          "data": {
            "image/png": "[encoded data removed]",
            "text/plain": [
              "<Figure size 432x288 with 1 Axes>"
            ]
          },
          "metadata": {
            "needs_background": "light"
          },
          "output_type": "display_data"
        }
      ],
      "source": [
        "plt.boxplot(df1['mag'])\n",
        "plt.ylim(20, 20.2)"
      ]
    },
    {
      "cell_type": "code",
      "execution_count": null,
      "id": "adaf50c5",
      "metadata": {
        "id": "adaf50c5",
        "outputId": "c87b3d11-b328-4a5b-f7f0-229ba65ec7c2"
      },
      "outputs": [
        {
          "data": {
            "text/html": [
              "<div>\n",
              "<style scoped>\n",
              "    .dataframe tbody tr th:only-of-type {\n",
              "        vertical-align: middle;\n",
              "    }\n",
              "\n",
              "    .dataframe tbody tr th {\n",
              "        vertical-align: top;\n",
              "    }\n",
              "\n",
              "    .dataframe thead th {\n",
              "        text-align: right;\n",
              "    }\n",
              "</style>\n",
              "<table border=\"1\" class=\"dataframe\">\n",
              "  <thead>\n",
              "    <tr style=\"text-align: right;\">\n",
              "      <th></th>\n",
              "      <th>temp</th>\n",
              "      <th>lum</th>\n",
              "      <th>rad</th>\n",
              "      <th>mag</th>\n",
              "      <th>type</th>\n",
              "      <th>color</th>\n",
              "    </tr>\n",
              "  </thead>\n",
              "  <tbody>\n",
              "    <tr>\n",
              "      <th>4</th>\n",
              "      <td>1939</td>\n",
              "      <td>0.000138</td>\n",
              "      <td>0.103</td>\n",
              "      <td>20.06</td>\n",
              "      <td>0</td>\n",
              "      <td>Red</td>\n",
              "    </tr>\n",
              "    <tr>\n",
              "      <th>122</th>\n",
              "      <td>3218</td>\n",
              "      <td>0.000540</td>\n",
              "      <td>0.110</td>\n",
              "      <td>20.02</td>\n",
              "      <td>0</td>\n",
              "      <td>Red</td>\n",
              "    </tr>\n",
              "  </tbody>\n",
              "</table>\n",
              "</div>"
            ],
            "text/plain": [
              "     temp       lum    rad    mag  type color\n",
              "4    1939  0.000138  0.103  20.06     0   Red\n",
              "122  3218  0.000540  0.110  20.02     0   Red"
            ]
          },
          "execution_count": 26,
          "metadata": {},
          "output_type": "execute_result"
        }
      ],
      "source": [
        "df1.loc[df1['mag']>20]"
      ]
    },
    {
      "cell_type": "code",
      "execution_count": null,
      "id": "a1bb3d0b",
      "metadata": {
        "scrolled": true,
        "id": "a1bb3d0b",
        "outputId": "e450c918-2642-4aec-c0d3-6a18dc1ea13f"
      },
      "outputs": [
        {
          "data": {
            "text/plain": [
              "2"
            ]
          },
          "execution_count": 27,
          "metadata": {},
          "output_type": "execute_result"
        }
      ],
      "source": [
        "index_del1 = (df1.loc[df1['mag']>20]).index.to_list()\n",
        "len(index_del1)"
      ]
    },
    {
      "cell_type": "markdown",
      "id": "3fa2b075",
      "metadata": {
        "id": "3fa2b075"
      },
      "source": [
        "Магнитуда также содержит выбросы в данных."
      ]
    },
    {
      "cell_type": "code",
      "execution_count": null,
      "id": "a17576fc",
      "metadata": {
        "scrolled": true,
        "id": "a17576fc",
        "outputId": "60db7c2c-e46a-4c80-eb2f-3853273355f0"
      },
      "outputs": [
        {
          "data": {
            "text/plain": [
              "54"
            ]
          },
          "execution_count": 28,
          "metadata": {},
          "output_type": "execute_result"
        }
      ],
      "source": [
        "index_del.extend(index_del1)\n",
        "len(index_del)"
      ]
    },
    {
      "cell_type": "code",
      "execution_count": null,
      "id": "79094a9f",
      "metadata": {
        "scrolled": true,
        "id": "79094a9f",
        "outputId": "38ddf97f-ce5c-46f2-9228-c7953afdcafb"
      },
      "outputs": [
        {
          "data": {
            "text/plain": [
              "(-13.0, -11.0)"
            ]
          },
          "execution_count": 29,
          "metadata": {},
          "output_type": "execute_result"
        },
        {
          "data": {
            "image/png": "[encoded data removed]",
            "text/plain": [
              "<Figure size 432x288 with 1 Axes>"
            ]
          },
          "metadata": {
            "needs_background": "light"
          },
          "output_type": "display_data"
        }
      ],
      "source": [
        "plt.boxplot(df1['mag'])\n",
        "plt.ylim(-13,-11)"
      ]
    },
    {
      "cell_type": "code",
      "execution_count": null,
      "id": "6ecb058a",
      "metadata": {
        "scrolled": false,
        "id": "6ecb058a",
        "outputId": "da1d1b12-568a-4a03-8a3e-56a02f10a7b3"
      },
      "outputs": [
        {
          "data": {
            "text/html": [
              "<div>\n",
              "<style scoped>\n",
              "    .dataframe tbody tr th:only-of-type {\n",
              "        vertical-align: middle;\n",
              "    }\n",
              "\n",
              "    .dataframe tbody tr th {\n",
              "        vertical-align: top;\n",
              "    }\n",
              "\n",
              "    .dataframe thead th {\n",
              "        text-align: right;\n",
              "    }\n",
              "</style>\n",
              "<table border=\"1\" class=\"dataframe\">\n",
              "  <thead>\n",
              "    <tr style=\"text-align: right;\">\n",
              "      <th></th>\n",
              "      <th>temp</th>\n",
              "      <th>lum</th>\n",
              "      <th>rad</th>\n",
              "      <th>mag</th>\n",
              "      <th>type</th>\n",
              "      <th>color</th>\n",
              "    </tr>\n",
              "  </thead>\n",
              "  <tbody>\n",
              "  </tbody>\n",
              "</table>\n",
              "</div>"
            ],
            "text/plain": [
              "Empty DataFrame\n",
              "Columns: [temp, lum, rad, mag, type, color]\n",
              "Index: []"
            ]
          },
          "execution_count": 30,
          "metadata": {},
          "output_type": "execute_result"
        }
      ],
      "source": [
        "df1.loc[df1['mag']<-12]"
      ]
    },
    {
      "cell_type": "code",
      "execution_count": null,
      "id": "b02b916b",
      "metadata": {
        "id": "b02b916b",
        "outputId": "613cc61d-80f1-47c8-9bce-caf1341feb04"
      },
      "outputs": [
        {
          "data": {
            "text/html": [
              "<div>\n",
              "<style scoped>\n",
              "    .dataframe tbody tr th:only-of-type {\n",
              "        vertical-align: middle;\n",
              "    }\n",
              "\n",
              "    .dataframe tbody tr th {\n",
              "        vertical-align: top;\n",
              "    }\n",
              "\n",
              "    .dataframe thead th {\n",
              "        text-align: right;\n",
              "    }\n",
              "</style>\n",
              "<table border=\"1\" class=\"dataframe\">\n",
              "  <thead>\n",
              "    <tr style=\"text-align: right;\">\n",
              "      <th></th>\n",
              "      <th>temp</th>\n",
              "      <th>lum</th>\n",
              "      <th>rad</th>\n",
              "      <th>mag</th>\n",
              "      <th>type</th>\n",
              "      <th>color</th>\n",
              "    </tr>\n",
              "  </thead>\n",
              "  <tbody>\n",
              "    <tr>\n",
              "      <th>0</th>\n",
              "      <td>3068</td>\n",
              "      <td>0.002400</td>\n",
              "      <td>0.1700</td>\n",
              "      <td>16.12</td>\n",
              "      <td>0</td>\n",
              "      <td>Red</td>\n",
              "    </tr>\n",
              "    <tr>\n",
              "      <th>1</th>\n",
              "      <td>3042</td>\n",
              "      <td>0.000500</td>\n",
              "      <td>0.1542</td>\n",
              "      <td>16.60</td>\n",
              "      <td>0</td>\n",
              "      <td>Red</td>\n",
              "    </tr>\n",
              "    <tr>\n",
              "      <th>2</th>\n",
              "      <td>2600</td>\n",
              "      <td>0.000300</td>\n",
              "      <td>0.1020</td>\n",
              "      <td>18.70</td>\n",
              "      <td>0</td>\n",
              "      <td>Red</td>\n",
              "    </tr>\n",
              "    <tr>\n",
              "      <th>3</th>\n",
              "      <td>2800</td>\n",
              "      <td>0.000200</td>\n",
              "      <td>0.1600</td>\n",
              "      <td>16.65</td>\n",
              "      <td>0</td>\n",
              "      <td>Red</td>\n",
              "    </tr>\n",
              "    <tr>\n",
              "      <th>4</th>\n",
              "      <td>1939</td>\n",
              "      <td>0.000138</td>\n",
              "      <td>0.1030</td>\n",
              "      <td>20.06</td>\n",
              "      <td>0</td>\n",
              "      <td>Red</td>\n",
              "    </tr>\n",
              "  </tbody>\n",
              "</table>\n",
              "</div>"
            ],
            "text/plain": [
              "   temp       lum     rad    mag  type color\n",
              "0  3068  0.002400  0.1700  16.12     0   Red\n",
              "1  3042  0.000500  0.1542  16.60     0   Red\n",
              "2  2600  0.000300  0.1020  18.70     0   Red\n",
              "3  2800  0.000200  0.1600  16.65     0   Red\n",
              "4  1939  0.000138  0.1030  20.06     0   Red"
            ]
          },
          "execution_count": 31,
          "metadata": {},
          "output_type": "execute_result"
        }
      ],
      "source": [
        "df1.head()"
      ]
    },
    {
      "cell_type": "code",
      "execution_count": null,
      "id": "949f4c02",
      "metadata": {
        "scrolled": true,
        "id": "949f4c02",
        "outputId": "8e7df322-abae-40fb-8e5f-46250909e26e"
      },
      "outputs": [
        {
          "data": {
            "text/plain": [
              "array(['Red', 'Blue White', 'White', 'Yellowish White', 'Blue white',\n",
              "       'Pale yellow orange', 'Blue', 'Blue-white', 'Whitish',\n",
              "       'yellow-white', 'Orange', 'White-Yellow', 'white', 'Blue ',\n",
              "       'yellowish', 'Yellowish', 'Orange-Red', 'Blue white ',\n",
              "       'Blue-White'], dtype=object)"
            ]
          },
          "execution_count": 32,
          "metadata": {},
          "output_type": "execute_result"
        }
      ],
      "source": [
        "df1['color'].unique()"
      ]
    },
    {
      "cell_type": "markdown",
      "id": "bdaa77c7",
      "metadata": {
        "id": "bdaa77c7"
      },
      "source": [
        "Значение `Blue-white` записано в датасете несколькими способами ('Blue White', 'Blue white', 'Blue white ', 'Blue-White'), то же самое справедливо для `White`('white', 'Whitish'), `Yellow`('Yellowish White', 'yellow-white', 'White-Yellow','yellowish', 'Yellowish'), `Orange`('Pale yellow orange', 'Orange-Red').\n",
        "\n",
        "Ниже будет реализована функция, которая все значения указанные в скобках выше, будет заменять на одно значение перед скобкой.\n"
      ]
    },
    {
      "cell_type": "code",
      "execution_count": null,
      "id": "b746a3de",
      "metadata": {
        "id": "b746a3de",
        "outputId": "d51b9ec2-2849-452a-c77f-714e5553a047"
      },
      "outputs": [
        {
          "data": {
            "text/plain": [
              "19"
            ]
          },
          "execution_count": 33,
          "metadata": {},
          "output_type": "execute_result"
        }
      ],
      "source": [
        "df1['color'].nunique()"
      ]
    },
    {
      "cell_type": "code",
      "execution_count": null,
      "id": "82f0381f",
      "metadata": {
        "scrolled": true,
        "id": "82f0381f",
        "outputId": "fea5ea98-ae07-44cd-b5be-9a9aa4ac4dcc"
      },
      "outputs": [
        {
          "data": {
            "text/plain": [
              "Red                   112\n",
              "Blue                   55\n",
              "Blue-white             26\n",
              "Blue White             10\n",
              "yellow-white            8\n",
              "White                   7\n",
              "Blue white              3\n",
              "Yellowish White         3\n",
              "white                   3\n",
              "Whitish                 2\n",
              "Orange                  2\n",
              "yellowish               2\n",
              "Pale yellow orange      1\n",
              "White-Yellow            1\n",
              "Blue                    1\n",
              "Yellowish               1\n",
              "Orange-Red              1\n",
              "Blue white              1\n",
              "Blue-White              1\n",
              "Name: color, dtype: int64"
            ]
          },
          "execution_count": 34,
          "metadata": {},
          "output_type": "execute_result"
        }
      ],
      "source": [
        "df1['color'].value_counts()"
      ]
    },
    {
      "cell_type": "code",
      "execution_count": null,
      "id": "d8fb593f",
      "metadata": {
        "id": "d8fb593f"
      },
      "outputs": [],
      "source": [
        "list_bw = ['Blue White', 'Blue white', 'Blue white ', 'Blue-White']\n",
        "list_b = ['Blue ']\n",
        "list_w = ['white', 'Whitish']\n",
        "list_y = ['Yellowish White', 'yellow-white', 'White-Yellow','yellowish', 'Yellowish']\n",
        "list_o = ['Pale yellow orange', 'Orange-Red']\n",
        "\n",
        "list_input = [list_bw, list_b,  list_w, list_y, list_o]\n",
        "\n",
        "list_final = ['Blue-white','Blue', 'White','Yellow', 'Orange']\n",
        "\n",
        "def group_color(list_, color):\n",
        "    for i in list_:\n",
        "        df1.loc[df1['color']==i, 'color'] = color\n",
        "\n",
        "for i, j in zip(list_input, list_final):\n",
        "    group_color(i,j)\n",
        "\n"
      ]
    },
    {
      "cell_type": "code",
      "execution_count": null,
      "id": "eb3d2d9d",
      "metadata": {
        "scrolled": true,
        "id": "eb3d2d9d",
        "outputId": "e0055267-5f67-4c2c-9d38-67ed34a16a76"
      },
      "outputs": [
        {
          "data": {
            "image/png": "[encoded data removed]",
            "text/plain": [
              "<Figure size 432x288 with 1 Axes>"
            ]
          },
          "metadata": {
            "needs_background": "light"
          },
          "output_type": "display_data"
        }
      ],
      "source": [
        "list_colors = df1['color'].value_counts().index.values.tolist()\n",
        "list_counts = df1['color'].value_counts().to_list()\n",
        "\n",
        "x_pos = np.arange(len(list_colors))\n",
        "\n",
        "\n",
        "plt.bar(x_pos, list_counts, color=['r','b','c','y','w','orange'], edgecolor='black')\n",
        "\n",
        "\n",
        "plt.xticks(x_pos, list_colors)\n",
        "plt.xlabel('Цвет звезды')\n",
        "plt.ylabel('Количество')\n",
        "plt.show()"
      ]
    },
    {
      "cell_type": "markdown",
      "id": "b0114c12",
      "metadata": {
        "id": "b0114c12"
      },
      "source": [
        "В датасете преобладают красные звезды за ними  по количеству идут звезды синего и голубого цвета."
      ]
    },
    {
      "cell_type": "markdown",
      "id": "9b072d63",
      "metadata": {
        "id": "9b072d63"
      },
      "source": [
        "Воспользуемся порядковым кодировщиком, чтобы проанализировать зависимость цвета звезды от ее температуры. Перевед цвет звезды в датасете в порядковый номер( подобным образом у нас изначально закодирован столбец `type` в датасете."
      ]
    },
    {
      "cell_type": "code",
      "execution_count": null,
      "id": "05ad14a6",
      "metadata": {
        "id": "05ad14a6"
      },
      "outputs": [],
      "source": [
        "df1\n",
        "enc_ord = OrdinalEncoder()\n",
        "enc_ord.fit(df1[['color']])\n",
        "df1[['color_num']] = enc_ord.transform(df1[['color']])"
      ]
    },
    {
      "cell_type": "code",
      "execution_count": null,
      "id": "8386a94e",
      "metadata": {
        "scrolled": false,
        "id": "8386a94e",
        "outputId": "82e40caa-f0c4-4277-b25e-2dc3d6292ce8"
      },
      "outputs": [
        {
          "data": {
            "image/png": "[encoded data removed]",
            "text/plain": [
              "<Figure size 576x360 with 1 Axes>"
            ]
          },
          "metadata": {
            "needs_background": "light"
          },
          "output_type": "display_data"
        }
      ],
      "source": [
        "plt.figure(figsize=(8,5))\n",
        "plt.plot( df1['color_num'], df1['temp'], linestyle='', marker='o', markersize=5, alpha=0.2, color=\"red\")\n",
        "\n",
        "# Titles\n",
        "list_colors = enc_ord.categories_[0]\n",
        "x_pos = np.arange(len(list_colors))\n",
        "plt.xticks(x_pos, list_colors)\n",
        "plt.xlabel('Цвет звезды')\n",
        "plt.ylabel('Температура')\n",
        "plt.title('', loc='left')\n",
        "plt.show()"
      ]
    },
    {
      "cell_type": "markdown",
      "id": "6c8cce02",
      "metadata": {
        "id": "6c8cce02"
      },
      "source": [
        "По цвету звезды можно сделать следующие выводы:\n",
        " - оранжевые, красные, желтые и белые звезды имеют относительно других более низкие температуры. Для оранжевых и красных типична температура в диапазоне примерно от 2500 до 7500К,  для желтых от 2500 до 12500К, для белых от 7500 до 15000К.\n",
        " - синие и голубые звезды обладают более высокой температурой относительно других звезд. Для синих характерна температура в диапазоне  от 5000 до 40000К, голубые звезды немного холоднее синих и обладают температурой в диапазоне от 7500 до 30000 К."
      ]
    },
    {
      "cell_type": "code",
      "execution_count": null,
      "id": "7f026c5b",
      "metadata": {
        "scrolled": true,
        "id": "7f026c5b",
        "outputId": "75a88fa4-c0b8-4c08-f1d7-e407cee5f13e"
      },
      "outputs": [
        {
          "data": {
            "text/plain": [
              "0    40\n",
              "1    40\n",
              "2    40\n",
              "3    40\n",
              "4    40\n",
              "5    40\n",
              "Name: type, dtype: int64"
            ]
          },
          "execution_count": 39,
          "metadata": {},
          "output_type": "execute_result"
        }
      ],
      "source": [
        "df1['type'].value_counts()"
      ]
    },
    {
      "cell_type": "markdown",
      "id": "9b05944d",
      "metadata": {
        "id": "9b05944d"
      },
      "source": [
        "В датасете присутсвуют по 40 представителей звезд каждого типа."
      ]
    },
    {
      "cell_type": "markdown",
      "id": "12b54b89",
      "metadata": {
        "id": "12b54b89"
      },
      "source": [
        "## Вывод\n",
        "\n",
        "Из таблицы корреляции можно сделать вывод, что:\n",
        " - зависимость `Absolute magnitude(Mv)` от температуры носит скорее обратнопропорциональный характер\n",
        " - зависимость `Luminosity(L/Lo)` от температуры склонна к прямопропорциональной зависимости\n",
        "\n",
        "По зависимости от типа звезды можно сделать вывод, что:\n",
        " - Коричневые и красные карлики имеют относительно невысокую температу ниже 5000К,\n",
        " - Белые карлики имеют температуру в диапазоне приблизительно от 7000 до 25000К,\n",
        " - Звезды главной последовательности, сверхгиганты и гипергиганты имеют примерно одинаковый и очень большой разброс по значениям температуры от 2500 до 40000 К.\n",
        "\n",
        "\n",
        " - В датасете преобладают красные звезды за ними  по количеству идут звезды синего и голубого цвета.\n",
        "\n",
        " - В датасете присутсвуют по 40 представителей звезд каждого типа.\n",
        "\n",
        "\n",
        "\n",
        "   По цвету звезды можно сделать следующие выводы:\n",
        " - оранжевые, красные, желтые и белые звезды имеют относительно других более низкие температуры. Для оранжевых и красных типична температура в диапазоне примерно от 2500 до 7500К,  для желтых от 2500 до 12500К, для белых от 7500 до 15000К.\n",
        " - синие и голубые звезды обладают более высокой температурой относительно других звезд. Для синих характерна температура в диапазоне  от 5000 до 40000К, голубые звезды немного холоднее синих и обладают температурой в диапазоне от 7500 до 30000 К.\n"
      ]
    },
    {
      "cell_type": "markdown",
      "id": "6abb69de",
      "metadata": {
        "id": "6abb69de"
      },
      "source": [
        "## 3. Подготовка данных к построению модели"
      ]
    },
    {
      "cell_type": "code",
      "execution_count": null,
      "id": "22399dd6",
      "metadata": {
        "id": "22399dd6",
        "outputId": "ad591855-e350-44b3-c11b-76187d7f641b"
      },
      "outputs": [
        {
          "data": {
            "text/plain": [
              "22.5"
            ]
          },
          "execution_count": 40,
          "metadata": {},
          "output_type": "execute_result"
        }
      ],
      "source": [
        "len(index_del)*100/len(df)"
      ]
    },
    {
      "cell_type": "code",
      "execution_count": null,
      "id": "e4fb6bad",
      "metadata": {
        "id": "e4fb6bad",
        "outputId": "bb061c19-cd55-4fbb-bf36-5ab2f997479c"
      },
      "outputs": [
        {
          "data": {
            "text/html": [
              "<div>\n",
              "<style scoped>\n",
              "    .dataframe tbody tr th:only-of-type {\n",
              "        vertical-align: middle;\n",
              "    }\n",
              "\n",
              "    .dataframe tbody tr th {\n",
              "        vertical-align: top;\n",
              "    }\n",
              "\n",
              "    .dataframe thead th {\n",
              "        text-align: right;\n",
              "    }\n",
              "</style>\n",
              "<table border=\"1\" class=\"dataframe\">\n",
              "  <thead>\n",
              "    <tr style=\"text-align: right;\">\n",
              "      <th></th>\n",
              "      <th>temp</th>\n",
              "      <th>lum</th>\n",
              "      <th>rad</th>\n",
              "      <th>mag</th>\n",
              "      <th>type</th>\n",
              "      <th>color</th>\n",
              "    </tr>\n",
              "  </thead>\n",
              "  <tbody>\n",
              "    <tr>\n",
              "      <th>0</th>\n",
              "      <td>3068</td>\n",
              "      <td>0.002400</td>\n",
              "      <td>0.1700</td>\n",
              "      <td>16.12</td>\n",
              "      <td>0</td>\n",
              "      <td>Red</td>\n",
              "    </tr>\n",
              "    <tr>\n",
              "      <th>1</th>\n",
              "      <td>3042</td>\n",
              "      <td>0.000500</td>\n",
              "      <td>0.1542</td>\n",
              "      <td>16.60</td>\n",
              "      <td>0</td>\n",
              "      <td>Red</td>\n",
              "    </tr>\n",
              "    <tr>\n",
              "      <th>2</th>\n",
              "      <td>2600</td>\n",
              "      <td>0.000300</td>\n",
              "      <td>0.1020</td>\n",
              "      <td>18.70</td>\n",
              "      <td>0</td>\n",
              "      <td>Red</td>\n",
              "    </tr>\n",
              "    <tr>\n",
              "      <th>3</th>\n",
              "      <td>2800</td>\n",
              "      <td>0.000200</td>\n",
              "      <td>0.1600</td>\n",
              "      <td>16.65</td>\n",
              "      <td>0</td>\n",
              "      <td>Red</td>\n",
              "    </tr>\n",
              "    <tr>\n",
              "      <th>4</th>\n",
              "      <td>1939</td>\n",
              "      <td>0.000138</td>\n",
              "      <td>0.1030</td>\n",
              "      <td>20.06</td>\n",
              "      <td>0</td>\n",
              "      <td>Red</td>\n",
              "    </tr>\n",
              "    <tr>\n",
              "      <th>...</th>\n",
              "      <td>...</td>\n",
              "      <td>...</td>\n",
              "      <td>...</td>\n",
              "      <td>...</td>\n",
              "      <td>...</td>\n",
              "      <td>...</td>\n",
              "    </tr>\n",
              "    <tr>\n",
              "      <th>235</th>\n",
              "      <td>38940</td>\n",
              "      <td>374830.000000</td>\n",
              "      <td>1356.0000</td>\n",
              "      <td>-9.93</td>\n",
              "      <td>5</td>\n",
              "      <td>Blue</td>\n",
              "    </tr>\n",
              "    <tr>\n",
              "      <th>236</th>\n",
              "      <td>30839</td>\n",
              "      <td>834042.000000</td>\n",
              "      <td>1194.0000</td>\n",
              "      <td>-10.63</td>\n",
              "      <td>5</td>\n",
              "      <td>Blue</td>\n",
              "    </tr>\n",
              "    <tr>\n",
              "      <th>237</th>\n",
              "      <td>8829</td>\n",
              "      <td>537493.000000</td>\n",
              "      <td>1423.0000</td>\n",
              "      <td>-10.73</td>\n",
              "      <td>5</td>\n",
              "      <td>White</td>\n",
              "    </tr>\n",
              "    <tr>\n",
              "      <th>238</th>\n",
              "      <td>9235</td>\n",
              "      <td>404940.000000</td>\n",
              "      <td>1112.0000</td>\n",
              "      <td>-11.23</td>\n",
              "      <td>5</td>\n",
              "      <td>White</td>\n",
              "    </tr>\n",
              "    <tr>\n",
              "      <th>239</th>\n",
              "      <td>37882</td>\n",
              "      <td>294903.000000</td>\n",
              "      <td>1783.0000</td>\n",
              "      <td>-7.80</td>\n",
              "      <td>5</td>\n",
              "      <td>Blue</td>\n",
              "    </tr>\n",
              "  </tbody>\n",
              "</table>\n",
              "<p>240 rows × 6 columns</p>\n",
              "</div>"
            ],
            "text/plain": [
              "      temp            lum        rad    mag  type  color\n",
              "0     3068       0.002400     0.1700  16.12     0    Red\n",
              "1     3042       0.000500     0.1542  16.60     0    Red\n",
              "2     2600       0.000300     0.1020  18.70     0    Red\n",
              "3     2800       0.000200     0.1600  16.65     0    Red\n",
              "4     1939       0.000138     0.1030  20.06     0    Red\n",
              "..     ...            ...        ...    ...   ...    ...\n",
              "235  38940  374830.000000  1356.0000  -9.93     5   Blue\n",
              "236  30839  834042.000000  1194.0000 -10.63     5   Blue\n",
              "237   8829  537493.000000  1423.0000 -10.73     5  White\n",
              "238   9235  404940.000000  1112.0000 -11.23     5  White\n",
              "239  37882  294903.000000  1783.0000  -7.80     5   Blue\n",
              "\n",
              "[240 rows x 6 columns]"
            ]
          },
          "execution_count": 41,
          "metadata": {},
          "output_type": "execute_result"
        }
      ],
      "source": [
        "#df1 = df1.drop(index = index_del) оставляем весь первоначальный датасет\n",
        "df1 = df1.drop('color_num', axis=1) # удаляем вспомогательный столбец\n",
        "df1"
      ]
    },
    {
      "cell_type": "markdown",
      "id": "b8117222",
      "metadata": {
        "id": "b8117222"
      },
      "source": [
        "Для категориальных переменных `color` и `type` используем `OneHotEncoder` и предварительно написанную функцию, на вход которой поступает название выборки и название столбца, который нужно закодировать. На выходе получаем датасет, в котором категориальные значения становятся названиями столбцов, а первоначальный столбец(`color`, `type`) удаляется из датасета."
      ]
    },
    {
      "cell_type": "code",
      "execution_count": null,
      "id": "6fd8cf85",
      "metadata": {
        "id": "6fd8cf85"
      },
      "outputs": [],
      "source": [
        "def ohe_trans(df, column):\n",
        "    ohe = OneHotEncoder(handle_unknown='error').fit(df[[column]])\n",
        "    ohe_cat = ohe.categories_\n",
        "    df2 = pd.DataFrame(ohe.transform(df[[column]]).toarray(), \\\n",
        "                   columns = ohe_cat[0],\\\n",
        "                   index = df[column].index)\n",
        "    df = df.join(df2)\n",
        "    df = df.drop(column, axis=1)\n",
        "    return df"
      ]
    },
    {
      "cell_type": "code",
      "execution_count": null,
      "id": "c4bdcf1b",
      "metadata": {
        "scrolled": true,
        "id": "c4bdcf1b",
        "outputId": "a24e3971-5705-4d8e-f6c3-fe3d6fd47c5f"
      },
      "outputs": [
        {
          "data": {
            "text/html": [
              "<div>\n",
              "<style scoped>\n",
              "    .dataframe tbody tr th:only-of-type {\n",
              "        vertical-align: middle;\n",
              "    }\n",
              "\n",
              "    .dataframe tbody tr th {\n",
              "        vertical-align: top;\n",
              "    }\n",
              "\n",
              "    .dataframe thead th {\n",
              "        text-align: right;\n",
              "    }\n",
              "</style>\n",
              "<table border=\"1\" class=\"dataframe\">\n",
              "  <thead>\n",
              "    <tr style=\"text-align: right;\">\n",
              "      <th></th>\n",
              "      <th>temp</th>\n",
              "      <th>lum</th>\n",
              "      <th>rad</th>\n",
              "      <th>mag</th>\n",
              "      <th>Blue</th>\n",
              "      <th>Blue-white</th>\n",
              "      <th>Orange</th>\n",
              "      <th>Red</th>\n",
              "      <th>White</th>\n",
              "      <th>Yellow</th>\n",
              "      <th>0</th>\n",
              "      <th>1</th>\n",
              "      <th>2</th>\n",
              "      <th>3</th>\n",
              "      <th>4</th>\n",
              "      <th>5</th>\n",
              "    </tr>\n",
              "  </thead>\n",
              "  <tbody>\n",
              "    <tr>\n",
              "      <th>0</th>\n",
              "      <td>3068</td>\n",
              "      <td>0.002400</td>\n",
              "      <td>0.1700</td>\n",
              "      <td>16.12</td>\n",
              "      <td>0.0</td>\n",
              "      <td>0.0</td>\n",
              "      <td>0.0</td>\n",
              "      <td>1.0</td>\n",
              "      <td>0.0</td>\n",
              "      <td>0.0</td>\n",
              "      <td>1.0</td>\n",
              "      <td>0.0</td>\n",
              "      <td>0.0</td>\n",
              "      <td>0.0</td>\n",
              "      <td>0.0</td>\n",
              "      <td>0.0</td>\n",
              "    </tr>\n",
              "    <tr>\n",
              "      <th>1</th>\n",
              "      <td>3042</td>\n",
              "      <td>0.000500</td>\n",
              "      <td>0.1542</td>\n",
              "      <td>16.60</td>\n",
              "      <td>0.0</td>\n",
              "      <td>0.0</td>\n",
              "      <td>0.0</td>\n",
              "      <td>1.0</td>\n",
              "      <td>0.0</td>\n",
              "      <td>0.0</td>\n",
              "      <td>1.0</td>\n",
              "      <td>0.0</td>\n",
              "      <td>0.0</td>\n",
              "      <td>0.0</td>\n",
              "      <td>0.0</td>\n",
              "      <td>0.0</td>\n",
              "    </tr>\n",
              "    <tr>\n",
              "      <th>2</th>\n",
              "      <td>2600</td>\n",
              "      <td>0.000300</td>\n",
              "      <td>0.1020</td>\n",
              "      <td>18.70</td>\n",
              "      <td>0.0</td>\n",
              "      <td>0.0</td>\n",
              "      <td>0.0</td>\n",
              "      <td>1.0</td>\n",
              "      <td>0.0</td>\n",
              "      <td>0.0</td>\n",
              "      <td>1.0</td>\n",
              "      <td>0.0</td>\n",
              "      <td>0.0</td>\n",
              "      <td>0.0</td>\n",
              "      <td>0.0</td>\n",
              "      <td>0.0</td>\n",
              "    </tr>\n",
              "    <tr>\n",
              "      <th>3</th>\n",
              "      <td>2800</td>\n",
              "      <td>0.000200</td>\n",
              "      <td>0.1600</td>\n",
              "      <td>16.65</td>\n",
              "      <td>0.0</td>\n",
              "      <td>0.0</td>\n",
              "      <td>0.0</td>\n",
              "      <td>1.0</td>\n",
              "      <td>0.0</td>\n",
              "      <td>0.0</td>\n",
              "      <td>1.0</td>\n",
              "      <td>0.0</td>\n",
              "      <td>0.0</td>\n",
              "      <td>0.0</td>\n",
              "      <td>0.0</td>\n",
              "      <td>0.0</td>\n",
              "    </tr>\n",
              "    <tr>\n",
              "      <th>4</th>\n",
              "      <td>1939</td>\n",
              "      <td>0.000138</td>\n",
              "      <td>0.1030</td>\n",
              "      <td>20.06</td>\n",
              "      <td>0.0</td>\n",
              "      <td>0.0</td>\n",
              "      <td>0.0</td>\n",
              "      <td>1.0</td>\n",
              "      <td>0.0</td>\n",
              "      <td>0.0</td>\n",
              "      <td>1.0</td>\n",
              "      <td>0.0</td>\n",
              "      <td>0.0</td>\n",
              "      <td>0.0</td>\n",
              "      <td>0.0</td>\n",
              "      <td>0.0</td>\n",
              "    </tr>\n",
              "  </tbody>\n",
              "</table>\n",
              "</div>"
            ],
            "text/plain": [
              "   temp       lum     rad    mag  Blue  Blue-white  Orange  Red  White  \\\n",
              "0  3068  0.002400  0.1700  16.12   0.0         0.0     0.0  1.0    0.0   \n",
              "1  3042  0.000500  0.1542  16.60   0.0         0.0     0.0  1.0    0.0   \n",
              "2  2600  0.000300  0.1020  18.70   0.0         0.0     0.0  1.0    0.0   \n",
              "3  2800  0.000200  0.1600  16.65   0.0         0.0     0.0  1.0    0.0   \n",
              "4  1939  0.000138  0.1030  20.06   0.0         0.0     0.0  1.0    0.0   \n",
              "\n",
              "   Yellow    0    1    2    3    4    5  \n",
              "0     0.0  1.0  0.0  0.0  0.0  0.0  0.0  \n",
              "1     0.0  1.0  0.0  0.0  0.0  0.0  0.0  \n",
              "2     0.0  1.0  0.0  0.0  0.0  0.0  0.0  \n",
              "3     0.0  1.0  0.0  0.0  0.0  0.0  0.0  \n",
              "4     0.0  1.0  0.0  0.0  0.0  0.0  0.0  "
            ]
          },
          "execution_count": 43,
          "metadata": {},
          "output_type": "execute_result"
        }
      ],
      "source": [
        "list_columns = ['color', 'type']\n",
        "for i in list_columns:\n",
        "    df1 = ohe_trans(df1, i)\n",
        "df1.head()"
      ]
    },
    {
      "cell_type": "markdown",
      "id": "b71704ca",
      "metadata": {
        "id": "b71704ca"
      },
      "source": [
        "Разобьем данные на обучающую  - `train`, валидационную  - `valid` и тестовую выборки  - `test` в пропорции 60:20:20"
      ]
    },
    {
      "cell_type": "code",
      "execution_count": null,
      "id": "80e30cf7",
      "metadata": {
        "id": "80e30cf7",
        "outputId": "16e13c42-fa2f-48bf-c872-e958eab34e5d"
      },
      "outputs": [
        {
          "name": "stdout",
          "output_type": "stream",
          "text": [
            "Размерность  features_train\t(144, 15)\n",
            "Размерность  features_valid\t(48, 15)\n",
            "Размерность  features_test\t(48, 15)\n",
            "\n",
            "Размерность  target_train\t(144,)\n",
            "Размерность  target_valid\t(48,)\n",
            "Размерность  target_test\t(48,)\n"
          ]
        }
      ],
      "source": [
        "target = df1['temp']\n",
        "features = df1.drop('temp', axis=1)\n",
        "\n",
        "features_train, features_valid, target_train, target_valid = train_test_split(\n",
        "                            features, target, test_size=0.4, random_state=1234, shuffle=True)\n",
        "\n",
        "\n",
        "features_valid, features_test, target_valid, target_test = train_test_split(\n",
        "                            features_valid, target_valid, test_size=0.5, random_state=1234)\n",
        "\n",
        "\n",
        "\n",
        "list_ = [features_train, features_valid, features_test,]\n",
        "list__ = ['features_train', 'features_valid', 'features_test']\n",
        "\n",
        "\n",
        "list_target = [target_train, target_valid, target_test]\n",
        "list__target=['target_train','target_valid', 'target_test']\n",
        "\n",
        "for i,j in zip(list_, list__):\n",
        "    print('Размерность ',j, end='\\t')\n",
        "    print(i.shape)\n",
        "\n",
        "print()\n",
        "\n",
        "for i,j in zip(list_target, list__target):\n",
        "    print('Размерность ',j, end='\\t')\n",
        "    print(i.shape)\n",
        "\n"
      ]
    },
    {
      "cell_type": "markdown",
      "source": [
        "Далее проведем масштабирование количественных переменных в тренировочных данных при помощи кодировщика StandardScaler.\n"
      ],
      "metadata": {
        "id": "CIaY35nwXFNO"
      },
      "id": "CIaY35nwXFNO"
    },
    {
      "cell_type": "code",
      "execution_count": null,
      "id": "730d6e55",
      "metadata": {
        "scrolled": false,
        "id": "730d6e55",
        "outputId": "ec50798b-f138-435d-c659-22023a02b632"
      },
      "outputs": [
        {
          "data": {
            "text/html": [
              "<div>\n",
              "<style scoped>\n",
              "    .dataframe tbody tr th:only-of-type {\n",
              "        vertical-align: middle;\n",
              "    }\n",
              "\n",
              "    .dataframe tbody tr th {\n",
              "        vertical-align: top;\n",
              "    }\n",
              "\n",
              "    .dataframe thead th {\n",
              "        text-align: right;\n",
              "    }\n",
              "</style>\n",
              "<table border=\"1\" class=\"dataframe\">\n",
              "  <thead>\n",
              "    <tr style=\"text-align: right;\">\n",
              "      <th></th>\n",
              "      <th>lum</th>\n",
              "      <th>rad</th>\n",
              "      <th>mag</th>\n",
              "      <th>Blue</th>\n",
              "      <th>Blue-white</th>\n",
              "      <th>Orange</th>\n",
              "      <th>Red</th>\n",
              "      <th>White</th>\n",
              "      <th>Yellow</th>\n",
              "      <th>0</th>\n",
              "      <th>1</th>\n",
              "      <th>2</th>\n",
              "      <th>3</th>\n",
              "      <th>4</th>\n",
              "      <th>5</th>\n",
              "    </tr>\n",
              "  </thead>\n",
              "  <tbody>\n",
              "    <tr>\n",
              "      <th>99</th>\n",
              "      <td>0.537260</td>\n",
              "      <td>-0.439641</td>\n",
              "      <td>-0.901141</td>\n",
              "      <td>1.0</td>\n",
              "      <td>0.0</td>\n",
              "      <td>0.0</td>\n",
              "      <td>0.0</td>\n",
              "      <td>0.0</td>\n",
              "      <td>0.0</td>\n",
              "      <td>0.0</td>\n",
              "      <td>0.0</td>\n",
              "      <td>0.0</td>\n",
              "      <td>1.0</td>\n",
              "      <td>0.0</td>\n",
              "      <td>0.0</td>\n",
              "    </tr>\n",
              "    <tr>\n",
              "      <th>229</th>\n",
              "      <td>3.560180</td>\n",
              "      <td>-0.288009</td>\n",
              "      <td>-1.183853</td>\n",
              "      <td>1.0</td>\n",
              "      <td>0.0</td>\n",
              "      <td>0.0</td>\n",
              "      <td>0.0</td>\n",
              "      <td>0.0</td>\n",
              "      <td>0.0</td>\n",
              "      <td>0.0</td>\n",
              "      <td>0.0</td>\n",
              "      <td>0.0</td>\n",
              "      <td>0.0</td>\n",
              "      <td>1.0</td>\n",
              "      <td>0.0</td>\n",
              "    </tr>\n",
              "    <tr>\n",
              "      <th>49</th>\n",
              "      <td>0.657982</td>\n",
              "      <td>-0.410353</td>\n",
              "      <td>-1.064281</td>\n",
              "      <td>1.0</td>\n",
              "      <td>0.0</td>\n",
              "      <td>0.0</td>\n",
              "      <td>0.0</td>\n",
              "      <td>0.0</td>\n",
              "      <td>0.0</td>\n",
              "      <td>0.0</td>\n",
              "      <td>0.0</td>\n",
              "      <td>0.0</td>\n",
              "      <td>0.0</td>\n",
              "      <td>1.0</td>\n",
              "      <td>0.0</td>\n",
              "    </tr>\n",
              "    <tr>\n",
              "      <th>225</th>\n",
              "      <td>0.684211</td>\n",
              "      <td>-0.373279</td>\n",
              "      <td>-1.193833</td>\n",
              "      <td>1.0</td>\n",
              "      <td>0.0</td>\n",
              "      <td>0.0</td>\n",
              "      <td>0.0</td>\n",
              "      <td>0.0</td>\n",
              "      <td>0.0</td>\n",
              "      <td>0.0</td>\n",
              "      <td>0.0</td>\n",
              "      <td>0.0</td>\n",
              "      <td>0.0</td>\n",
              "      <td>1.0</td>\n",
              "      <td>0.0</td>\n",
              "    </tr>\n",
              "    <tr>\n",
              "      <th>83</th>\n",
              "      <td>-0.549233</td>\n",
              "      <td>-0.458521</td>\n",
              "      <td>0.715867</td>\n",
              "      <td>0.0</td>\n",
              "      <td>1.0</td>\n",
              "      <td>0.0</td>\n",
              "      <td>0.0</td>\n",
              "      <td>0.0</td>\n",
              "      <td>0.0</td>\n",
              "      <td>0.0</td>\n",
              "      <td>0.0</td>\n",
              "      <td>1.0</td>\n",
              "      <td>0.0</td>\n",
              "      <td>0.0</td>\n",
              "      <td>0.0</td>\n",
              "    </tr>\n",
              "  </tbody>\n",
              "</table>\n",
              "</div>"
            ],
            "text/plain": [
              "          lum       rad       mag  Blue  Blue-white  Orange  Red  White  \\\n",
              "99   0.537260 -0.439641 -0.901141   1.0         0.0     0.0  0.0    0.0   \n",
              "229  3.560180 -0.288009 -1.183853   1.0         0.0     0.0  0.0    0.0   \n",
              "49   0.657982 -0.410353 -1.064281   1.0         0.0     0.0  0.0    0.0   \n",
              "225  0.684211 -0.373279 -1.193833   1.0         0.0     0.0  0.0    0.0   \n",
              "83  -0.549233 -0.458521  0.715867   0.0         1.0     0.0  0.0    0.0   \n",
              "\n",
              "     Yellow    0    1    2    3    4    5  \n",
              "99      0.0  0.0  0.0  0.0  1.0  0.0  0.0  \n",
              "229     0.0  0.0  0.0  0.0  0.0  1.0  0.0  \n",
              "49      0.0  0.0  0.0  0.0  0.0  1.0  0.0  \n",
              "225     0.0  0.0  0.0  0.0  0.0  1.0  0.0  \n",
              "83      0.0  0.0  0.0  1.0  0.0  0.0  0.0  "
            ]
          },
          "metadata": {},
          "output_type": "display_data"
        },
        {
          "data": {
            "text/html": [
              "<div>\n",
              "<style scoped>\n",
              "    .dataframe tbody tr th:only-of-type {\n",
              "        vertical-align: middle;\n",
              "    }\n",
              "\n",
              "    .dataframe tbody tr th {\n",
              "        vertical-align: top;\n",
              "    }\n",
              "\n",
              "    .dataframe thead th {\n",
              "        text-align: right;\n",
              "    }\n",
              "</style>\n",
              "<table border=\"1\" class=\"dataframe\">\n",
              "  <thead>\n",
              "    <tr style=\"text-align: right;\">\n",
              "      <th></th>\n",
              "      <th>lum</th>\n",
              "      <th>rad</th>\n",
              "      <th>mag</th>\n",
              "      <th>Blue</th>\n",
              "      <th>Blue-white</th>\n",
              "      <th>Orange</th>\n",
              "      <th>Red</th>\n",
              "      <th>White</th>\n",
              "      <th>Yellow</th>\n",
              "      <th>0</th>\n",
              "      <th>1</th>\n",
              "      <th>2</th>\n",
              "      <th>3</th>\n",
              "      <th>4</th>\n",
              "      <th>5</th>\n",
              "    </tr>\n",
              "  </thead>\n",
              "  <tbody>\n",
              "    <tr>\n",
              "      <th>106</th>\n",
              "      <td>1.442671</td>\n",
              "      <td>-0.341766</td>\n",
              "      <td>-1.038370</td>\n",
              "      <td>1.0</td>\n",
              "      <td>0.0</td>\n",
              "      <td>0.0</td>\n",
              "      <td>0.0</td>\n",
              "      <td>0.0</td>\n",
              "      <td>0.0</td>\n",
              "      <td>0.0</td>\n",
              "      <td>0.0</td>\n",
              "      <td>0.0</td>\n",
              "      <td>0.0</td>\n",
              "      <td>1.0</td>\n",
              "      <td>0.0</td>\n",
              "    </tr>\n",
              "    <tr>\n",
              "      <th>162</th>\n",
              "      <td>1.931044</td>\n",
              "      <td>-0.304693</td>\n",
              "      <td>-1.018218</td>\n",
              "      <td>1.0</td>\n",
              "      <td>0.0</td>\n",
              "      <td>0.0</td>\n",
              "      <td>0.0</td>\n",
              "      <td>0.0</td>\n",
              "      <td>0.0</td>\n",
              "      <td>0.0</td>\n",
              "      <td>0.0</td>\n",
              "      <td>0.0</td>\n",
              "      <td>0.0</td>\n",
              "      <td>1.0</td>\n",
              "      <td>0.0</td>\n",
              "    </tr>\n",
              "    <tr>\n",
              "      <th>6</th>\n",
              "      <td>-0.549233</td>\n",
              "      <td>-0.458313</td>\n",
              "      <td>1.173619</td>\n",
              "      <td>0.0</td>\n",
              "      <td>0.0</td>\n",
              "      <td>0.0</td>\n",
              "      <td>1.0</td>\n",
              "      <td>0.0</td>\n",
              "      <td>0.0</td>\n",
              "      <td>1.0</td>\n",
              "      <td>0.0</td>\n",
              "      <td>0.0</td>\n",
              "      <td>0.0</td>\n",
              "      <td>0.0</td>\n",
              "      <td>0.0</td>\n",
              "    </tr>\n",
              "    <tr>\n",
              "      <th>39</th>\n",
              "      <td>-0.549229</td>\n",
              "      <td>-0.456714</td>\n",
              "      <td>0.003808</td>\n",
              "      <td>0.0</td>\n",
              "      <td>0.0</td>\n",
              "      <td>0.0</td>\n",
              "      <td>0.0</td>\n",
              "      <td>0.0</td>\n",
              "      <td>1.0</td>\n",
              "      <td>0.0</td>\n",
              "      <td>0.0</td>\n",
              "      <td>0.0</td>\n",
              "      <td>1.0</td>\n",
              "      <td>0.0</td>\n",
              "      <td>0.0</td>\n",
              "    </tr>\n",
              "    <tr>\n",
              "      <th>236</th>\n",
              "      <td>4.027438</td>\n",
              "      <td>1.754754</td>\n",
              "      <td>-1.499002</td>\n",
              "      <td>1.0</td>\n",
              "      <td>0.0</td>\n",
              "      <td>0.0</td>\n",
              "      <td>0.0</td>\n",
              "      <td>0.0</td>\n",
              "      <td>0.0</td>\n",
              "      <td>0.0</td>\n",
              "      <td>0.0</td>\n",
              "      <td>0.0</td>\n",
              "      <td>0.0</td>\n",
              "      <td>0.0</td>\n",
              "      <td>1.0</td>\n",
              "    </tr>\n",
              "  </tbody>\n",
              "</table>\n",
              "</div>"
            ],
            "text/plain": [
              "          lum       rad       mag  Blue  Blue-white  Orange  Red  White  \\\n",
              "106  1.442671 -0.341766 -1.038370   1.0         0.0     0.0  0.0    0.0   \n",
              "162  1.931044 -0.304693 -1.018218   1.0         0.0     0.0  0.0    0.0   \n",
              "6   -0.549233 -0.458313  1.173619   0.0         0.0     0.0  1.0    0.0   \n",
              "39  -0.549229 -0.456714  0.003808   0.0         0.0     0.0  0.0    0.0   \n",
              "236  4.027438  1.754754 -1.499002   1.0         0.0     0.0  0.0    0.0   \n",
              "\n",
              "     Yellow    0    1    2    3    4    5  \n",
              "106     0.0  0.0  0.0  0.0  0.0  1.0  0.0  \n",
              "162     0.0  0.0  0.0  0.0  0.0  1.0  0.0  \n",
              "6       0.0  1.0  0.0  0.0  0.0  0.0  0.0  \n",
              "39      1.0  0.0  0.0  0.0  1.0  0.0  0.0  \n",
              "236     0.0  0.0  0.0  0.0  0.0  0.0  1.0  "
            ]
          },
          "metadata": {},
          "output_type": "display_data"
        },
        {
          "data": {
            "text/html": [
              "<div>\n",
              "<style scoped>\n",
              "    .dataframe tbody tr th:only-of-type {\n",
              "        vertical-align: middle;\n",
              "    }\n",
              "\n",
              "    .dataframe tbody tr th {\n",
              "        vertical-align: top;\n",
              "    }\n",
              "\n",
              "    .dataframe thead th {\n",
              "        text-align: right;\n",
              "    }\n",
              "</style>\n",
              "<table border=\"1\" class=\"dataframe\">\n",
              "  <thead>\n",
              "    <tr style=\"text-align: right;\">\n",
              "      <th></th>\n",
              "      <th>lum</th>\n",
              "      <th>rad</th>\n",
              "      <th>mag</th>\n",
              "      <th>Blue</th>\n",
              "      <th>Blue-white</th>\n",
              "      <th>Orange</th>\n",
              "      <th>Red</th>\n",
              "      <th>White</th>\n",
              "      <th>Yellow</th>\n",
              "      <th>0</th>\n",
              "      <th>1</th>\n",
              "      <th>2</th>\n",
              "      <th>3</th>\n",
              "      <th>4</th>\n",
              "      <th>5</th>\n",
              "    </tr>\n",
              "  </thead>\n",
              "  <tbody>\n",
              "    <tr>\n",
              "      <th>40</th>\n",
              "      <td>0.548235</td>\n",
              "      <td>-0.423329</td>\n",
              "      <td>-1.143932</td>\n",
              "      <td>0.0</td>\n",
              "      <td>0.0</td>\n",
              "      <td>0.0</td>\n",
              "      <td>1.0</td>\n",
              "      <td>0.0</td>\n",
              "      <td>0.0</td>\n",
              "      <td>0.0</td>\n",
              "      <td>0.0</td>\n",
              "      <td>0.0</td>\n",
              "      <td>0.0</td>\n",
              "      <td>1.0</td>\n",
              "      <td>0.0</td>\n",
              "    </tr>\n",
              "    <tr>\n",
              "      <th>12</th>\n",
              "      <td>-0.549233</td>\n",
              "      <td>-0.458185</td>\n",
              "      <td>0.788800</td>\n",
              "      <td>0.0</td>\n",
              "      <td>0.0</td>\n",
              "      <td>0.0</td>\n",
              "      <td>1.0</td>\n",
              "      <td>0.0</td>\n",
              "      <td>0.0</td>\n",
              "      <td>0.0</td>\n",
              "      <td>1.0</td>\n",
              "      <td>0.0</td>\n",
              "      <td>0.0</td>\n",
              "      <td>0.0</td>\n",
              "      <td>0.0</td>\n",
              "    </tr>\n",
              "    <tr>\n",
              "      <th>141</th>\n",
              "      <td>-0.549233</td>\n",
              "      <td>-0.458528</td>\n",
              "      <td>0.626620</td>\n",
              "      <td>1.0</td>\n",
              "      <td>0.0</td>\n",
              "      <td>0.0</td>\n",
              "      <td>0.0</td>\n",
              "      <td>0.0</td>\n",
              "      <td>0.0</td>\n",
              "      <td>0.0</td>\n",
              "      <td>0.0</td>\n",
              "      <td>1.0</td>\n",
              "      <td>0.0</td>\n",
              "      <td>0.0</td>\n",
              "      <td>0.0</td>\n",
              "    </tr>\n",
              "    <tr>\n",
              "      <th>199</th>\n",
              "      <td>-0.549233</td>\n",
              "      <td>-0.457297</td>\n",
              "      <td>0.939081</td>\n",
              "      <td>0.0</td>\n",
              "      <td>0.0</td>\n",
              "      <td>0.0</td>\n",
              "      <td>1.0</td>\n",
              "      <td>0.0</td>\n",
              "      <td>0.0</td>\n",
              "      <td>0.0</td>\n",
              "      <td>1.0</td>\n",
              "      <td>0.0</td>\n",
              "      <td>0.0</td>\n",
              "      <td>0.0</td>\n",
              "      <td>0.0</td>\n",
              "    </tr>\n",
              "    <tr>\n",
              "      <th>59</th>\n",
              "      <td>0.520798</td>\n",
              "      <td>2.407252</td>\n",
              "      <td>-1.569056</td>\n",
              "      <td>0.0</td>\n",
              "      <td>0.0</td>\n",
              "      <td>0.0</td>\n",
              "      <td>1.0</td>\n",
              "      <td>0.0</td>\n",
              "      <td>0.0</td>\n",
              "      <td>0.0</td>\n",
              "      <td>0.0</td>\n",
              "      <td>0.0</td>\n",
              "      <td>0.0</td>\n",
              "      <td>0.0</td>\n",
              "      <td>1.0</td>\n",
              "    </tr>\n",
              "  </tbody>\n",
              "</table>\n",
              "</div>"
            ],
            "text/plain": [
              "          lum       rad       mag  Blue  Blue-white  Orange  Red  White  \\\n",
              "40   0.548235 -0.423329 -1.143932   0.0         0.0     0.0  1.0    0.0   \n",
              "12  -0.549233 -0.458185  0.788800   0.0         0.0     0.0  1.0    0.0   \n",
              "141 -0.549233 -0.458528  0.626620   1.0         0.0     0.0  0.0    0.0   \n",
              "199 -0.549233 -0.457297  0.939081   0.0         0.0     0.0  1.0    0.0   \n",
              "59   0.520798  2.407252 -1.569056   0.0         0.0     0.0  1.0    0.0   \n",
              "\n",
              "     Yellow    0    1    2    3    4    5  \n",
              "40      0.0  0.0  0.0  0.0  0.0  1.0  0.0  \n",
              "12      0.0  0.0  1.0  0.0  0.0  0.0  0.0  \n",
              "141     0.0  0.0  0.0  1.0  0.0  0.0  0.0  \n",
              "199     0.0  0.0  1.0  0.0  0.0  0.0  0.0  \n",
              "59      0.0  0.0  0.0  0.0  0.0  0.0  1.0  "
            ]
          },
          "metadata": {},
          "output_type": "display_data"
        }
      ],
      "source": [
        "numeric = ['lum', 'rad', 'mag']\n",
        "\n",
        "scaler = StandardScaler()\n",
        "\n",
        "features_train[numeric] = scaler.fit_transform(features_train[numeric])\n",
        "features_valid[numeric] = scaler.transform(features_valid[numeric])\n",
        "features_test[numeric] = scaler.transform(features_test[numeric])\n",
        "\n",
        "display(features_train.head())\n",
        "display(features_valid.head())\n",
        "display(features_test.head())"
      ]
    },
    {
      "cell_type": "code",
      "execution_count": null,
      "id": "48952c54",
      "metadata": {
        "scrolled": true,
        "id": "48952c54",
        "outputId": "a368d8fa-2825-4e5b-b73a-a4f96fd46431"
      },
      "outputs": [
        {
          "data": {
            "text/html": [
              "<div>\n",
              "<style scoped>\n",
              "    .dataframe tbody tr th:only-of-type {\n",
              "        vertical-align: middle;\n",
              "    }\n",
              "\n",
              "    .dataframe tbody tr th {\n",
              "        vertical-align: top;\n",
              "    }\n",
              "\n",
              "    .dataframe thead th {\n",
              "        text-align: right;\n",
              "    }\n",
              "</style>\n",
              "<table border=\"1\" class=\"dataframe\">\n",
              "  <thead>\n",
              "    <tr style=\"text-align: right;\">\n",
              "      <th></th>\n",
              "      <th>lum</th>\n",
              "      <th>rad</th>\n",
              "      <th>mag</th>\n",
              "      <th>Blue</th>\n",
              "      <th>Blue-white</th>\n",
              "      <th>Orange</th>\n",
              "      <th>Red</th>\n",
              "      <th>White</th>\n",
              "      <th>Yellow</th>\n",
              "      <th>0</th>\n",
              "      <th>1</th>\n",
              "      <th>2</th>\n",
              "      <th>3</th>\n",
              "      <th>4</th>\n",
              "      <th>5</th>\n",
              "    </tr>\n",
              "  </thead>\n",
              "  <tbody>\n",
              "    <tr>\n",
              "      <th>99</th>\n",
              "      <td>0.537260</td>\n",
              "      <td>-0.439641</td>\n",
              "      <td>-0.901141</td>\n",
              "      <td>1.0</td>\n",
              "      <td>0.0</td>\n",
              "      <td>0.0</td>\n",
              "      <td>0.0</td>\n",
              "      <td>0.0</td>\n",
              "      <td>0.0</td>\n",
              "      <td>0.0</td>\n",
              "      <td>0.0</td>\n",
              "      <td>0.0</td>\n",
              "      <td>1.0</td>\n",
              "      <td>0.0</td>\n",
              "      <td>0.0</td>\n",
              "    </tr>\n",
              "    <tr>\n",
              "      <th>229</th>\n",
              "      <td>3.560180</td>\n",
              "      <td>-0.288009</td>\n",
              "      <td>-1.183853</td>\n",
              "      <td>1.0</td>\n",
              "      <td>0.0</td>\n",
              "      <td>0.0</td>\n",
              "      <td>0.0</td>\n",
              "      <td>0.0</td>\n",
              "      <td>0.0</td>\n",
              "      <td>0.0</td>\n",
              "      <td>0.0</td>\n",
              "      <td>0.0</td>\n",
              "      <td>0.0</td>\n",
              "      <td>1.0</td>\n",
              "      <td>0.0</td>\n",
              "    </tr>\n",
              "    <tr>\n",
              "      <th>49</th>\n",
              "      <td>0.657982</td>\n",
              "      <td>-0.410353</td>\n",
              "      <td>-1.064281</td>\n",
              "      <td>1.0</td>\n",
              "      <td>0.0</td>\n",
              "      <td>0.0</td>\n",
              "      <td>0.0</td>\n",
              "      <td>0.0</td>\n",
              "      <td>0.0</td>\n",
              "      <td>0.0</td>\n",
              "      <td>0.0</td>\n",
              "      <td>0.0</td>\n",
              "      <td>0.0</td>\n",
              "      <td>1.0</td>\n",
              "      <td>0.0</td>\n",
              "    </tr>\n",
              "    <tr>\n",
              "      <th>225</th>\n",
              "      <td>0.684211</td>\n",
              "      <td>-0.373279</td>\n",
              "      <td>-1.193833</td>\n",
              "      <td>1.0</td>\n",
              "      <td>0.0</td>\n",
              "      <td>0.0</td>\n",
              "      <td>0.0</td>\n",
              "      <td>0.0</td>\n",
              "      <td>0.0</td>\n",
              "      <td>0.0</td>\n",
              "      <td>0.0</td>\n",
              "      <td>0.0</td>\n",
              "      <td>0.0</td>\n",
              "      <td>1.0</td>\n",
              "      <td>0.0</td>\n",
              "    </tr>\n",
              "    <tr>\n",
              "      <th>83</th>\n",
              "      <td>-0.549233</td>\n",
              "      <td>-0.458521</td>\n",
              "      <td>0.715867</td>\n",
              "      <td>0.0</td>\n",
              "      <td>1.0</td>\n",
              "      <td>0.0</td>\n",
              "      <td>0.0</td>\n",
              "      <td>0.0</td>\n",
              "      <td>0.0</td>\n",
              "      <td>0.0</td>\n",
              "      <td>0.0</td>\n",
              "      <td>1.0</td>\n",
              "      <td>0.0</td>\n",
              "      <td>0.0</td>\n",
              "      <td>0.0</td>\n",
              "    </tr>\n",
              "  </tbody>\n",
              "</table>\n",
              "</div>"
            ],
            "text/plain": [
              "          lum       rad       mag  Blue  Blue-white  Orange  Red  White  \\\n",
              "99   0.537260 -0.439641 -0.901141   1.0         0.0     0.0  0.0    0.0   \n",
              "229  3.560180 -0.288009 -1.183853   1.0         0.0     0.0  0.0    0.0   \n",
              "49   0.657982 -0.410353 -1.064281   1.0         0.0     0.0  0.0    0.0   \n",
              "225  0.684211 -0.373279 -1.193833   1.0         0.0     0.0  0.0    0.0   \n",
              "83  -0.549233 -0.458521  0.715867   0.0         1.0     0.0  0.0    0.0   \n",
              "\n",
              "     Yellow    0    1    2    3    4    5  \n",
              "99      0.0  0.0  0.0  0.0  1.0  0.0  0.0  \n",
              "229     0.0  0.0  0.0  0.0  0.0  1.0  0.0  \n",
              "49      0.0  0.0  0.0  0.0  0.0  1.0  0.0  \n",
              "225     0.0  0.0  0.0  0.0  0.0  1.0  0.0  \n",
              "83      0.0  0.0  0.0  1.0  0.0  0.0  0.0  "
            ]
          },
          "execution_count": 46,
          "metadata": {},
          "output_type": "execute_result"
        }
      ],
      "source": [
        "features_train.head()"
      ]
    },
    {
      "cell_type": "code",
      "execution_count": null,
      "id": "9bda43b3",
      "metadata": {
        "scrolled": true,
        "id": "9bda43b3",
        "outputId": "955e52c0-c564-4af7-8c85-732393cbc58d"
      },
      "outputs": [
        {
          "data": {
            "text/html": [
              "<div>\n",
              "<style scoped>\n",
              "    .dataframe tbody tr th:only-of-type {\n",
              "        vertical-align: middle;\n",
              "    }\n",
              "\n",
              "    .dataframe tbody tr th {\n",
              "        vertical-align: top;\n",
              "    }\n",
              "\n",
              "    .dataframe thead th {\n",
              "        text-align: right;\n",
              "    }\n",
              "</style>\n",
              "<table border=\"1\" class=\"dataframe\">\n",
              "  <thead>\n",
              "    <tr style=\"text-align: right;\">\n",
              "      <th></th>\n",
              "      <th>lum</th>\n",
              "      <th>rad</th>\n",
              "      <th>mag</th>\n",
              "      <th>Blue</th>\n",
              "      <th>Blue-white</th>\n",
              "      <th>Orange</th>\n",
              "      <th>Red</th>\n",
              "      <th>White</th>\n",
              "      <th>Yellow</th>\n",
              "      <th>0</th>\n",
              "      <th>1</th>\n",
              "      <th>2</th>\n",
              "      <th>3</th>\n",
              "      <th>4</th>\n",
              "      <th>5</th>\n",
              "    </tr>\n",
              "  </thead>\n",
              "  <tbody>\n",
              "    <tr>\n",
              "      <th>106</th>\n",
              "      <td>1.442671</td>\n",
              "      <td>-0.341766</td>\n",
              "      <td>-1.038370</td>\n",
              "      <td>1.0</td>\n",
              "      <td>0.0</td>\n",
              "      <td>0.0</td>\n",
              "      <td>0.0</td>\n",
              "      <td>0.0</td>\n",
              "      <td>0.0</td>\n",
              "      <td>0.0</td>\n",
              "      <td>0.0</td>\n",
              "      <td>0.0</td>\n",
              "      <td>0.0</td>\n",
              "      <td>1.0</td>\n",
              "      <td>0.0</td>\n",
              "    </tr>\n",
              "    <tr>\n",
              "      <th>162</th>\n",
              "      <td>1.931044</td>\n",
              "      <td>-0.304693</td>\n",
              "      <td>-1.018218</td>\n",
              "      <td>1.0</td>\n",
              "      <td>0.0</td>\n",
              "      <td>0.0</td>\n",
              "      <td>0.0</td>\n",
              "      <td>0.0</td>\n",
              "      <td>0.0</td>\n",
              "      <td>0.0</td>\n",
              "      <td>0.0</td>\n",
              "      <td>0.0</td>\n",
              "      <td>0.0</td>\n",
              "      <td>1.0</td>\n",
              "      <td>0.0</td>\n",
              "    </tr>\n",
              "    <tr>\n",
              "      <th>6</th>\n",
              "      <td>-0.549233</td>\n",
              "      <td>-0.458313</td>\n",
              "      <td>1.173619</td>\n",
              "      <td>0.0</td>\n",
              "      <td>0.0</td>\n",
              "      <td>0.0</td>\n",
              "      <td>1.0</td>\n",
              "      <td>0.0</td>\n",
              "      <td>0.0</td>\n",
              "      <td>1.0</td>\n",
              "      <td>0.0</td>\n",
              "      <td>0.0</td>\n",
              "      <td>0.0</td>\n",
              "      <td>0.0</td>\n",
              "      <td>0.0</td>\n",
              "    </tr>\n",
              "    <tr>\n",
              "      <th>39</th>\n",
              "      <td>-0.549229</td>\n",
              "      <td>-0.456714</td>\n",
              "      <td>0.003808</td>\n",
              "      <td>0.0</td>\n",
              "      <td>0.0</td>\n",
              "      <td>0.0</td>\n",
              "      <td>0.0</td>\n",
              "      <td>0.0</td>\n",
              "      <td>1.0</td>\n",
              "      <td>0.0</td>\n",
              "      <td>0.0</td>\n",
              "      <td>0.0</td>\n",
              "      <td>1.0</td>\n",
              "      <td>0.0</td>\n",
              "      <td>0.0</td>\n",
              "    </tr>\n",
              "    <tr>\n",
              "      <th>236</th>\n",
              "      <td>4.027438</td>\n",
              "      <td>1.754754</td>\n",
              "      <td>-1.499002</td>\n",
              "      <td>1.0</td>\n",
              "      <td>0.0</td>\n",
              "      <td>0.0</td>\n",
              "      <td>0.0</td>\n",
              "      <td>0.0</td>\n",
              "      <td>0.0</td>\n",
              "      <td>0.0</td>\n",
              "      <td>0.0</td>\n",
              "      <td>0.0</td>\n",
              "      <td>0.0</td>\n",
              "      <td>0.0</td>\n",
              "      <td>1.0</td>\n",
              "    </tr>\n",
              "  </tbody>\n",
              "</table>\n",
              "</div>"
            ],
            "text/plain": [
              "          lum       rad       mag  Blue  Blue-white  Orange  Red  White  \\\n",
              "106  1.442671 -0.341766 -1.038370   1.0         0.0     0.0  0.0    0.0   \n",
              "162  1.931044 -0.304693 -1.018218   1.0         0.0     0.0  0.0    0.0   \n",
              "6   -0.549233 -0.458313  1.173619   0.0         0.0     0.0  1.0    0.0   \n",
              "39  -0.549229 -0.456714  0.003808   0.0         0.0     0.0  0.0    0.0   \n",
              "236  4.027438  1.754754 -1.499002   1.0         0.0     0.0  0.0    0.0   \n",
              "\n",
              "     Yellow    0    1    2    3    4    5  \n",
              "106     0.0  0.0  0.0  0.0  0.0  1.0  0.0  \n",
              "162     0.0  0.0  0.0  0.0  0.0  1.0  0.0  \n",
              "6       0.0  1.0  0.0  0.0  0.0  0.0  0.0  \n",
              "39      1.0  0.0  0.0  0.0  1.0  0.0  0.0  \n",
              "236     0.0  0.0  0.0  0.0  0.0  0.0  1.0  "
            ]
          },
          "execution_count": 47,
          "metadata": {},
          "output_type": "execute_result"
        }
      ],
      "source": [
        "features_valid.head()"
      ]
    },
    {
      "cell_type": "code",
      "execution_count": null,
      "id": "5c3992a2",
      "metadata": {
        "scrolled": true,
        "id": "5c3992a2",
        "outputId": "f89fe7a1-72e9-43cd-c6c6-9e9c39ac7d97"
      },
      "outputs": [
        {
          "data": {
            "text/html": [
              "<div>\n",
              "<style scoped>\n",
              "    .dataframe tbody tr th:only-of-type {\n",
              "        vertical-align: middle;\n",
              "    }\n",
              "\n",
              "    .dataframe tbody tr th {\n",
              "        vertical-align: top;\n",
              "    }\n",
              "\n",
              "    .dataframe thead th {\n",
              "        text-align: right;\n",
              "    }\n",
              "</style>\n",
              "<table border=\"1\" class=\"dataframe\">\n",
              "  <thead>\n",
              "    <tr style=\"text-align: right;\">\n",
              "      <th></th>\n",
              "      <th>lum</th>\n",
              "      <th>rad</th>\n",
              "      <th>mag</th>\n",
              "      <th>Blue</th>\n",
              "      <th>Blue-white</th>\n",
              "      <th>Orange</th>\n",
              "      <th>Red</th>\n",
              "      <th>White</th>\n",
              "      <th>Yellow</th>\n",
              "      <th>0</th>\n",
              "      <th>1</th>\n",
              "      <th>2</th>\n",
              "      <th>3</th>\n",
              "      <th>4</th>\n",
              "      <th>5</th>\n",
              "    </tr>\n",
              "  </thead>\n",
              "  <tbody>\n",
              "    <tr>\n",
              "      <th>40</th>\n",
              "      <td>0.548235</td>\n",
              "      <td>-0.423329</td>\n",
              "      <td>-1.143932</td>\n",
              "      <td>0.0</td>\n",
              "      <td>0.0</td>\n",
              "      <td>0.0</td>\n",
              "      <td>1.0</td>\n",
              "      <td>0.0</td>\n",
              "      <td>0.0</td>\n",
              "      <td>0.0</td>\n",
              "      <td>0.0</td>\n",
              "      <td>0.0</td>\n",
              "      <td>0.0</td>\n",
              "      <td>1.0</td>\n",
              "      <td>0.0</td>\n",
              "    </tr>\n",
              "    <tr>\n",
              "      <th>12</th>\n",
              "      <td>-0.549233</td>\n",
              "      <td>-0.458185</td>\n",
              "      <td>0.788800</td>\n",
              "      <td>0.0</td>\n",
              "      <td>0.0</td>\n",
              "      <td>0.0</td>\n",
              "      <td>1.0</td>\n",
              "      <td>0.0</td>\n",
              "      <td>0.0</td>\n",
              "      <td>0.0</td>\n",
              "      <td>1.0</td>\n",
              "      <td>0.0</td>\n",
              "      <td>0.0</td>\n",
              "      <td>0.0</td>\n",
              "      <td>0.0</td>\n",
              "    </tr>\n",
              "    <tr>\n",
              "      <th>141</th>\n",
              "      <td>-0.549233</td>\n",
              "      <td>-0.458528</td>\n",
              "      <td>0.626620</td>\n",
              "      <td>1.0</td>\n",
              "      <td>0.0</td>\n",
              "      <td>0.0</td>\n",
              "      <td>0.0</td>\n",
              "      <td>0.0</td>\n",
              "      <td>0.0</td>\n",
              "      <td>0.0</td>\n",
              "      <td>0.0</td>\n",
              "      <td>1.0</td>\n",
              "      <td>0.0</td>\n",
              "      <td>0.0</td>\n",
              "      <td>0.0</td>\n",
              "    </tr>\n",
              "    <tr>\n",
              "      <th>199</th>\n",
              "      <td>-0.549233</td>\n",
              "      <td>-0.457297</td>\n",
              "      <td>0.939081</td>\n",
              "      <td>0.0</td>\n",
              "      <td>0.0</td>\n",
              "      <td>0.0</td>\n",
              "      <td>1.0</td>\n",
              "      <td>0.0</td>\n",
              "      <td>0.0</td>\n",
              "      <td>0.0</td>\n",
              "      <td>1.0</td>\n",
              "      <td>0.0</td>\n",
              "      <td>0.0</td>\n",
              "      <td>0.0</td>\n",
              "      <td>0.0</td>\n",
              "    </tr>\n",
              "    <tr>\n",
              "      <th>59</th>\n",
              "      <td>0.520798</td>\n",
              "      <td>2.407252</td>\n",
              "      <td>-1.569056</td>\n",
              "      <td>0.0</td>\n",
              "      <td>0.0</td>\n",
              "      <td>0.0</td>\n",
              "      <td>1.0</td>\n",
              "      <td>0.0</td>\n",
              "      <td>0.0</td>\n",
              "      <td>0.0</td>\n",
              "      <td>0.0</td>\n",
              "      <td>0.0</td>\n",
              "      <td>0.0</td>\n",
              "      <td>0.0</td>\n",
              "      <td>1.0</td>\n",
              "    </tr>\n",
              "  </tbody>\n",
              "</table>\n",
              "</div>"
            ],
            "text/plain": [
              "          lum       rad       mag  Blue  Blue-white  Orange  Red  White  \\\n",
              "40   0.548235 -0.423329 -1.143932   0.0         0.0     0.0  1.0    0.0   \n",
              "12  -0.549233 -0.458185  0.788800   0.0         0.0     0.0  1.0    0.0   \n",
              "141 -0.549233 -0.458528  0.626620   1.0         0.0     0.0  0.0    0.0   \n",
              "199 -0.549233 -0.457297  0.939081   0.0         0.0     0.0  1.0    0.0   \n",
              "59   0.520798  2.407252 -1.569056   0.0         0.0     0.0  1.0    0.0   \n",
              "\n",
              "     Yellow    0    1    2    3    4    5  \n",
              "40      0.0  0.0  0.0  0.0  0.0  1.0  0.0  \n",
              "12      0.0  0.0  1.0  0.0  0.0  0.0  0.0  \n",
              "141     0.0  0.0  0.0  1.0  0.0  0.0  0.0  \n",
              "199     0.0  0.0  1.0  0.0  0.0  0.0  0.0  \n",
              "59      0.0  0.0  0.0  0.0  0.0  0.0  1.0  "
            ]
          },
          "execution_count": 48,
          "metadata": {},
          "output_type": "execute_result"
        }
      ],
      "source": [
        "features_test.head()"
      ]
    },
    {
      "cell_type": "markdown",
      "id": "funded-electric",
      "metadata": {
        "id": "funded-electric"
      },
      "source": [
        "## 4. Построение простой модели нейронной сети - baseline"
      ]
    },
    {
      "cell_type": "markdown",
      "id": "2539f4cb",
      "metadata": {
        "id": "2539f4cb"
      },
      "source": [
        "Создадим нейронную сеть с двумя скрытыми слоями и количеством нейронов в них 10 на первом скрытом слое и 4 на втором скрытом слое. Функции активации выберем TanH() - ReLU() - ReLU(). Предварительно были опробованы разные комбинации функций активации, но сочетание TanH() - ReLU() - ReLU() дало наименьшую метрику RMSE."
      ]
    },
    {
      "cell_type": "code",
      "execution_count": null,
      "id": "06f79f8b",
      "metadata": {
        "scrolled": true,
        "id": "06f79f8b",
        "outputId": "fe7a309f-57a5-493d-d2fe-34762eb9fc84"
      },
      "outputs": [
        {
          "name": "stdout",
          "output_type": "stream",
          "text": [
            "RMSE =  13021.235016524377 \tloss_value =  14174.529833472432 \tepoch =  0\n",
            "RMSE =  12877.22315370965 \tloss_value =  14030.072273513062 \tepoch =  1000\n",
            "RMSE =  12251.924224648075 \tloss_value =  13399.63641297778 \tepoch =  2000\n",
            "RMSE =  11128.64846220329 \tloss_value =  12254.77931257842 \tepoch =  3000\n",
            "RMSE =  9747.360969415045 \tloss_value =  10810.487870581976 \tepoch =  4000\n",
            "RMSE =  8160.9372381020785 \tloss_value =  9115.570854312966 \tepoch =  5000\n",
            "RMSE =  6431.296862453403 \tloss_value =  7240.308280729489 \tepoch =  6000\n",
            "RMSE =  5186.870949372372 \tloss_value =  5718.629206374549 \tepoch =  7000\n",
            "RMSE =  4604.123714203941 \tloss_value =  4479.130495977986 \tepoch =  8000\n",
            "RMSE =  4909.260711344689 \tloss_value =  3724.9938254982385 \tepoch =  9000\n",
            "RMSE =  5017.42152795069 \tloss_value =  2867.0745543149033 \tepoch =  9999\n",
            "\n",
            "RMSE_min =  4604.123714203941 \tepoch_min =  8000\n"
          ]
        }
      ],
      "source": [
        "\n",
        "random.seed(42)\n",
        "np.random.seed(42)\n",
        "torch.manual_seed(42)\n",
        "torch.use_deterministic_algorithms(True)\n",
        "\n",
        "n_in_neurons = len(features_train.columns)\n",
        "n_hidden_neurons_1 = 8\n",
        "n_hidden_neurons_2 = 4\n",
        "n_out_neurons = 1\n",
        "\n",
        "X_train = torch.Tensor(features_train.values)\n",
        "X_valid = torch.Tensor(features_valid.values)\n",
        "X_test = torch.Tensor(features_test.values)\n",
        "\n",
        "y_train = torch.Tensor(target_train.values)\n",
        "y_valid = torch.Tensor(target_valid.values)\n",
        "y_test = torch.Tensor(target_test.values)\n",
        "\n",
        "\n",
        "\n",
        "net = nn.Sequential(\n",
        "    nn.Linear(n_in_neurons, n_hidden_neurons_1),\n",
        "\n",
        "    nn.BatchNorm1d(n_hidden_neurons_1),\n",
        "    #nn.Dropout(p=0.1),\n",
        "    nn.Tanh(),\n",
        "    nn.Linear(n_hidden_neurons_1, n_hidden_neurons_2),\n",
        "\n",
        "    nn.BatchNorm1d(n_hidden_neurons_2),\n",
        "    nn.ReLU(),\n",
        "    nn.Linear(n_hidden_neurons_2, n_out_neurons),\n",
        "\n",
        "\n",
        ")\n",
        "\n",
        "\n",
        "optimizer = torch.optim.Adam(net.parameters(), lr=1e-3)\n",
        "loss =  nn.MSELoss()\n",
        "\n",
        "\n",
        "RMSE_min = 100000\n",
        "epoch_min = 0\n",
        "\n",
        "num_epochs = 10000\n",
        "for epoch in range(num_epochs):\n",
        "    optimizer.zero_grad()\n",
        "    preds = net.forward(X_train).flatten()\n",
        "    loss_value = (loss(preds, y_train))\n",
        "    loss_value1 = sqrt(loss_value.detach().numpy())\n",
        "    loss_value.backward()\n",
        "    optimizer.step()\n",
        "    if epoch % 1000 == 0 or epoch == num_epochs - 1:\n",
        "        net.eval()\n",
        "        valid_preds = net.forward(X_valid)\n",
        "        RMSE = sqrt(mean_squared_error(target_valid, valid_preds.detach().numpy()) )\n",
        "        if RMSE <= RMSE_min:\n",
        "            RMSE_min = RMSE\n",
        "            epoch_min = epoch\n",
        "        print('RMSE = ', RMSE,'\\tloss_value = ', loss_value1,   '\\tepoch = ', epoch)\n",
        "print()\n",
        "print('RMSE_min = ', RMSE_min, '\\tepoch_min = ',epoch_min)\n",
        "\n",
        "\n"
      ]
    },
    {
      "cell_type": "code",
      "execution_count": null,
      "id": "fa31798e",
      "metadata": {
        "id": "fa31798e",
        "outputId": "e4e389bd-3d9c-43af-a721-b7c1b104bcc5"
      },
      "outputs": [
        {
          "data": {
            "text/plain": [
              "Int64Index([106, 162,   6,  39, 236, 111,  73, 187, 163, 126, 144,  17,  58,\n",
              "            176, 130, 134,  51, 148, 146],\n",
              "           dtype='int64')"
            ]
          },
          "execution_count": 91,
          "metadata": {},
          "output_type": "execute_result"
        }
      ],
      "source": [
        "preds1 = valid_preds.detach().numpy().flatten()\n",
        "preds1 = pd.DataFrame(preds1, index = target_valid.index, columns = ['preds'])\n",
        "preds1 = preds1.join(target_valid)\n",
        "preds1 = preds1.iloc[0:19]\n",
        "preds1.index"
      ]
    },
    {
      "cell_type": "code",
      "execution_count": null,
      "id": "b254fa11",
      "metadata": {
        "id": "b254fa11",
        "outputId": "e8d80240-6173-4482-b223-5c49a4cd81ca"
      },
      "outputs": [
        {
          "data": {
            "image/png": "[encoded data removed]",
            "text/plain": [
              "<Figure size 1080x720 with 1 Axes>"
            ]
          },
          "metadata": {
            "needs_background": "light"
          },
          "output_type": "display_data"
        }
      ],
      "source": [
        "\n",
        "\n",
        "# set width of bars\n",
        "barWidth = 0.25\n",
        "\n",
        "# set heights of bars\n",
        "bars1 = preds1['preds']\n",
        "bars2 = preds1['temp']\n",
        "\n",
        "\n",
        "# Set position of bar on X axis\n",
        "r1 = np.arange(len(bars1))\n",
        "r2 = [x + barWidth for x in r1]\n",
        "\n",
        "\n",
        "# Make the plot\n",
        "#plt.subplot (1, 1, 1)\n",
        "plt.figure(figsize=(15,10))\n",
        "plt.bar(r1, bars1, color='r', width=barWidth, edgecolor='white', label='preds')\n",
        "plt.bar(r2, bars2, color='b', width=barWidth, edgecolor='white', label='real')\n",
        "\n",
        "\n",
        "# Add xticks on the middle of the group bars\n",
        "plt.xlabel('номер звезды', fontweight='bold')\n",
        "plt.xticks([r + barWidth for r in range(len(bars1))], preds1.index)\n",
        "\n",
        "# Create legend & Show graphic\n",
        "plt.legend(['Модель', 'Реальное значение'])\n",
        "plt.ylabel('Температура, К')\n",
        "plt.show()\n",
        "\n"
      ]
    },
    {
      "cell_type": "markdown",
      "id": "growing-supply",
      "metadata": {
        "id": "growing-supply"
      },
      "source": [
        "## Улучшение нейронной сети"
      ]
    },
    {
      "cell_type": "markdown",
      "id": "7df1db35",
      "metadata": {
        "id": "7df1db35"
      },
      "source": [
        "Далее будем улучшать нашу нейронную сеть. Для получения минимально возможной метрики RMSE. Ниже написана функция, на вход которой подаются значения\n",
        "\n",
        "n1 - количество нейронов на первом скрытом слое,\n",
        "\n",
        "n2 - количество нейронов на втором скрытом слое,\n",
        "\n",
        "batch - размер батча,\n",
        "\n",
        "dropout_1 - процент выключенных нейронов на первом скрытом слое,\n",
        "\n",
        "dropout_2  - процент выключенных нейронов на втором скрытом слое.\n",
        "\n",
        "На выходе этой функции будем получать значение RMSE."
      ]
    },
    {
      "cell_type": "code",
      "execution_count": null,
      "id": "ac1b2290",
      "metadata": {
        "id": "ac1b2290"
      },
      "outputs": [],
      "source": [
        "def search_num_neur(n1,n2):\n",
        "    random.seed(42)\n",
        "    np.random.seed(42)\n",
        "    torch.manual_seed(42)\n",
        "    torch.use_deterministic_algorithms(True)\n",
        "\n",
        "    n_in_neurons = len(features_train.columns)\n",
        "    n_hidden_neurons_1 = n1\n",
        "    n_hidden_neurons_2 = n2\n",
        "    n_out_neurons = 1\n",
        "\n",
        "    X_train = torch.Tensor(features_train.values)\n",
        "    X_valid = torch.Tensor(features_valid.values)\n",
        "    X_test = torch.Tensor(features_test.values)\n",
        "\n",
        "    y_train = torch.Tensor(target_train.values)\n",
        "    y_valid = torch.Tensor(target_valid.values)\n",
        "    y_test = torch.Tensor(target_test.values)\n",
        "\n",
        "\n",
        "\n",
        "    net = nn.Sequential(\n",
        "        nn.Linear(n_in_neurons, n_hidden_neurons_1),\n",
        "        nn.BatchNorm1d(n_hidden_neurons_1),\n",
        "        nn.Tanh(),\n",
        "        nn.Linear(n_hidden_neurons_1, n_hidden_neurons_2),\n",
        "        nn.BatchNorm1d(n_hidden_neurons_2),\n",
        "        nn.ReLU(),\n",
        "        nn.Linear(n_hidden_neurons_2, n_out_neurons),\n",
        "\n",
        "\n",
        ")\n",
        "\n",
        "    optimizer = torch.optim.Adam(net.parameters(), lr=1e-3)\n",
        "    loss = nn.MSELoss()\n",
        "\n",
        "    RMSE_min = 100000\n",
        "    epoch_min = 0\n",
        "\n",
        "    num_epochs = 4000\n",
        "    for epoch in range(num_epochs):\n",
        "        optimizer.zero_grad()\n",
        "        preds = net.forward(X_train).flatten()\n",
        "        loss_value = loss(preds, y_train)\n",
        "        loss_value.backward()\n",
        "        optimizer.step()\n",
        "        if epoch % 100 == 0 or epoch == num_epochs - 1:\n",
        "            net.eval()\n",
        "            valid_preds = net.forward(X_valid)\n",
        "            RMSE = sqrt(mean_squared_error(target_valid, valid_preds.detach().numpy()) )\n",
        "            if RMSE <= RMSE_min:\n",
        "                RMSE_min = RMSE\n",
        "                epoch_min = epoch\n",
        "            #print('RMSE = ', RMSE, '\\tepoch = ', epoch)\n",
        "    #print()\n",
        "    #print('RMSE_min = ', RMSE_min, '\\tepoch_min = ',epoch_min)\n",
        "\n",
        "    return RMSE"
      ]
    },
    {
      "cell_type": "code",
      "execution_count": null,
      "id": "63776baa",
      "metadata": {
        "scrolled": true,
        "id": "63776baa",
        "outputId": "9ad61f43-1c1c-4d63-dab3-a8feeee80912"
      },
      "outputs": [
        {
          "name": "stdout",
          "output_type": "stream",
          "text": [
            "2\t2\t4\t6\t8\t10\t12\t14\t16\t18\t20\t22\t24\t26\t28\t30\t32\t34\t36\t38\t40\t42\t44\t46\t48\t50\t52\t54\t56\t58\t60\t62\t64\t\n",
            "RMSE =  4719.014784372233 \t RMSE_min =  4688.985353009504 \t при n1= 2 \t n2= 62\n",
            "4\t2\t4\t6\t8\t10\t12\t14\t16\t18\t20\t22\t24\t26\t28\t30\t32\t34\t36\t38\t40\t42\t44\t46\t48\t50\t52\t54\t56\t58\t60\t62\t64\t\n",
            "RMSE =  5002.992730789202 \t RMSE_min =  4640.864425464382 \t при n1= 4 \t n2= 36\n",
            "6\t2\t4\t6\t8\t10\t12\t14\t16\t18\t20\t22\t24\t26\t28\t30\t32\t34\t36\t38\t40\t42\t44\t46\t48\t50\t52\t54\t56\t58\t60\t62\t64\t\n",
            "RMSE =  5163.952431455248 \t RMSE_min =  4518.029046434394 \t при n1= 6 \t n2= 50\n",
            "8\t2\t4\t6\t8\t10\t12\t14\t16\t18\t20\t22\t24\t26\t28\t30\t32\t34\t36\t38\t40\t42\t44\t46\t48\t50\t52\t54\t56\t58\t60\t62\t64\t\n",
            "RMSE =  4867.993412381229 \t RMSE_min =  4518.029046434394 \t при n1= 6 \t n2= 50\n",
            "10\t2\t4\t6\t8\t10\t12\t14\t16\t18\t20\t22\t24\t26\t28\t30\t32\t34\t36\t38\t40\t42\t44\t46\t48\t50\t52\t54\t56\t58\t60\t62\t64\t\n",
            "RMSE =  5475.540946093731 \t RMSE_min =  4518.029046434394 \t при n1= 6 \t n2= 50\n",
            "12\t2\t4\t6\t8\t10\t12\t14\t16\t18\t20\t22\t24\t26\t28\t30\t32\t34\t36\t38\t40\t42\t44\t46\t48\t50\t52\t54\t56\t58\t60\t62\t64\t\n",
            "RMSE =  5529.524291314282 \t RMSE_min =  4518.029046434394 \t при n1= 6 \t n2= 50\n",
            "14\t2\t4\t6\t8\t10\t12\t14\t16\t18\t20\t22\t24\t26\t28\t30\t32\t34\t36\t38\t40\t42\t44\t46\t48\t50\t52\t54\t56\t58\t60\t62\t64\t\n",
            "RMSE =  5739.864779263425 \t RMSE_min =  4518.029046434394 \t при n1= 6 \t n2= 50\n",
            "16\t2\t4\t6\t8\t10\t12\t14\t16\t18\t20\t22\t24\t26\t28\t30\t32\t34\t36\t38\t40\t42\t44\t46\t48\t50\t52\t54\t56\t58\t60\t62\t64\t\n",
            "RMSE =  5674.584350282936 \t RMSE_min =  4518.029046434394 \t при n1= 6 \t n2= 50\n",
            "18\t2\t4\t6\t8\t10\t12\t14\t16\t18\t20\t22\t24\t26\t28\t30\t32\t34\t36\t38\t40\t42\t44\t46\t48\t50\t52\t54\t56\t58\t60\t62\t64\t\n",
            "RMSE =  5120.150626203974 \t RMSE_min =  4479.566206626271 \t при n1= 18 \t n2= 24\n",
            "20\t2\t4\t6\t8\t10\t12\t14\t16\t18\t20\t22\t24\t26\t28\t30\t32\t34\t36\t38\t40\t42\t44\t46\t48\t50\t52\t54\t56\t58\t60\t62\t64\t\n",
            "RMSE =  5805.588334569044 \t RMSE_min =  4479.566206626271 \t при n1= 18 \t n2= 24\n",
            "22\t2\t4\t6\t8\t10\t12\t14\t16\t18\t20\t22\t24\t26\t28\t30\t32\t34\t36\t38\t40\t42\t44\t46\t48\t50\t52\t54\t56\t58\t60\t62\t64\t\n",
            "RMSE =  5790.101835670037 \t RMSE_min =  4479.566206626271 \t при n1= 18 \t n2= 24\n",
            "24\t2\t4\t6\t8\t10\t12\t14\t16\t18\t20\t22\t24\t26\t28\t30\t32\t34\t36\t38\t40\t42\t44\t46\t48\t50\t52\t54\t56\t58\t60\t62\t64\t\n",
            "RMSE =  5378.347620233717 \t RMSE_min =  4479.566206626271 \t при n1= 18 \t n2= 24\n",
            "26\t2\t4\t6\t8\t10\t12\t14\t16\t18\t20\t22\t24\t26\t28\t30\t32\t34\t36\t38\t40\t42\t44\t46\t48\t50\t52\t54\t56\t58\t60\t62\t64\t\n",
            "RMSE =  5828.666876545218 \t RMSE_min =  4479.566206626271 \t при n1= 18 \t n2= 24\n",
            "28\t2\t4\t6\t8\t10\t12\t14\t16\t18\t20\t22\t24\t26\t28\t30\t32\t34\t36\t38\t40\t42\t44\t46\t48\t50\t52\t54\t56\t58\t60\t62\t64\t\n",
            "RMSE =  5960.272498615581 \t RMSE_min =  4479.566206626271 \t при n1= 18 \t n2= 24\n",
            "30\t2\t4\t6\t8\t10\t12\t14\t16\t18\t20\t22\t24\t26\t28\t30\t32\t34\t36\t38\t40\t42\t44\t46\t48\t50\t52\t54\t56\t58\t60\t62\t64\t\n",
            "RMSE =  5863.9348058626965 \t RMSE_min =  4479.566206626271 \t при n1= 18 \t n2= 24\n",
            "32\t2\t4\t6\t8\t10\t12\t14\t16\t18\t20\t22\t24\t26\t28\t30\t32\t34\t36\t38\t40\t42\t44\t46\t48\t50\t52\t54\t56\t58\t60\t62\t64\t\n",
            "RMSE =  5696.1964838193335 \t RMSE_min =  4479.566206626271 \t при n1= 18 \t n2= 24\n",
            "34\t2\t4\t6\t8\t10\t12\t14\t16\t18\t20\t22\t24\t26\t28\t30\t32\t34\t36\t38\t40\t42\t44\t46\t48\t50\t52\t54\t56\t58\t60\t62\t64\t\n",
            "RMSE =  5848.521754515338 \t RMSE_min =  4479.566206626271 \t при n1= 18 \t n2= 24\n",
            "36\t2\t4\t6\t8\t10\t12\t14\t16\t18\t20\t22\t24\t26\t28\t30\t32\t34\t36\t38\t40\t42\t44\t46\t48\t50\t52\t54\t56\t58\t60\t62\t64\t\n",
            "RMSE =  5808.79281701818 \t RMSE_min =  4479.566206626271 \t при n1= 18 \t n2= 24\n",
            "38\t2\t4\t6\t8\t10\t12\t14\t16\t18\t20\t22\t24\t26\t28\t30\t32\t34\t36\t38\t40\t42\t44\t46\t48\t50\t52\t54\t56\t58\t60\t62\t64\t\n",
            "RMSE =  5919.759369766613 \t RMSE_min =  4479.566206626271 \t при n1= 18 \t n2= 24\n",
            "40\t2\t4\t6\t8\t10\t12\t14\t16\t18\t20\t22\t24\t26\t28\t30\t32\t34\t36\t38\t40\t42\t44\t46\t48\t50\t52\t54\t56\t58\t60\t62\t64\t\n",
            "RMSE =  5616.103913749361 \t RMSE_min =  4479.566206626271 \t при n1= 18 \t n2= 24\n",
            "42\t2\t4\t6\t8\t10\t12\t14\t16\t18\t20\t22\t24\t26\t28\t30\t32\t34\t36\t38\t40\t42\t44\t46\t48\t50\t52\t54\t56\t58\t60\t62\t64\t\n",
            "RMSE =  5872.131694556806 \t RMSE_min =  4479.566206626271 \t при n1= 18 \t n2= 24\n",
            "44\t2\t4\t6\t8\t10\t12\t14\t16\t18\t20\t22\t24\t26\t28\t30\t32\t34\t36\t38\t40\t42\t44\t46\t48\t50\t52\t54\t56\t58\t60\t62\t64\t\n",
            "RMSE =  5878.641982782996 \t RMSE_min =  4479.566206626271 \t при n1= 18 \t n2= 24\n",
            "46\t2\t4\t6\t8\t10\t12\t14\t16\t18\t20\t22\t24\t26\t28\t30\t32\t34\t36\t38\t40\t42\t44\t46\t48\t50\t52\t54\t56\t58\t60\t62\t64\t\n",
            "RMSE =  6016.849095640015 \t RMSE_min =  4479.566206626271 \t при n1= 18 \t n2= 24\n",
            "48\t2\t4\t6\t8\t10\t12\t14\t16\t18\t20\t22\t24\t26\t28\t30\t32\t34\t36\t38\t40\t42\t44\t46\t48\t50\t52\t54\t56\t58\t60\t62\t64\t\n",
            "RMSE =  5601.210436664876 \t RMSE_min =  4479.566206626271 \t при n1= 18 \t n2= 24\n",
            "50\t2\t4\t6\t8\t10\t12\t14\t16\t18\t20\t22\t24\t26\t28\t30\t32\t34\t36\t38\t40\t42\t44\t46\t48\t50\t52\t54\t56\t58\t60\t62\t64\t\n",
            "RMSE =  5804.883547569871 \t RMSE_min =  4479.566206626271 \t при n1= 18 \t n2= 24\n",
            "52\t2\t4\t6\t8\t10\t12\t14\t16\t18\t20\t22\t24\t26\t28\t30\t32\t34\t36\t38\t40\t42\t44\t46\t48\t50\t52\t54\t56\t58\t60\t62\t64\t\n",
            "RMSE =  6047.279497322233 \t RMSE_min =  4479.566206626271 \t при n1= 18 \t n2= 24\n",
            "54\t2\t4\t6\t8\t10\t12\t14\t16\t18\t20\t22\t24\t26\t28\t30\t32\t34\t36\t38\t40\t42\t44\t46\t48\t50\t52\t54\t56\t58\t60\t62\t64\t\n",
            "RMSE =  5939.818531758249 \t RMSE_min =  4479.566206626271 \t при n1= 18 \t n2= 24\n",
            "56\t2\t4\t6\t8\t10\t12\t14\t16\t18\t20\t22\t24\t26\t28\t30\t32\t34\t36\t38\t40\t42\t44\t46\t48\t50\t52\t54\t56\t58\t60\t62\t64\t\n",
            "RMSE =  6234.58160962362 \t RMSE_min =  4479.566206626271 \t при n1= 18 \t n2= 24\n",
            "58\t2\t4\t6\t8\t10\t12\t14\t16\t18\t20\t22\t24\t26\t28\t30\t32\t34\t36\t38\t40\t42\t44\t46\t48\t50\t52\t54\t56\t58\t60\t62\t64\t\n",
            "RMSE =  5811.304646004902 \t RMSE_min =  4479.566206626271 \t при n1= 18 \t n2= 24\n",
            "60\t2\t4\t6\t8\t10\t12\t14\t16\t18\t20\t22\t24\t26\t28\t30\t32\t34\t36\t38\t40\t42\t44\t46\t48\t50\t52\t54\t56\t58\t60\t62\t64\t\n",
            "RMSE =  5668.629528471373 \t RMSE_min =  4479.566206626271 \t при n1= 18 \t n2= 24\n",
            "62\t2\t4\t6\t8\t10\t12\t14\t16\t18\t20\t22\t24\t26\t28\t30\t32\t34\t36\t38\t40\t42\t44\t46\t48\t50\t52\t54\t56\t58\t60\t62\t64\t\n",
            "RMSE =  6439.889938747815 \t RMSE_min =  4479.566206626271 \t при n1= 18 \t n2= 24\n",
            "64\t2\t4\t6\t8\t10\t12\t14\t16\t18\t20\t22\t24\t26\t28\t30\t32\t34\t36\t38\t40\t42\t44\t46\t48\t50\t52\t54\t56\t58\t60\t62\t64\t\n",
            "RMSE =  6062.83695820651 \t RMSE_min =  4479.566206626271 \t при n1= 18 \t n2= 24\n",
            "18\n",
            "24\n"
          ]
        }
      ],
      "source": [
        "RMSE_min = 100000\n",
        "i_min  = 0\n",
        "j_min = 0\n",
        "for i in range(2, 66, 2):\n",
        "\n",
        "    print(i, end='\\t')\n",
        "    for j in range(2, 66 , 2):\n",
        "        print(j, end='\\t')\n",
        "\n",
        "\n",
        "        RMSE = search_num_neur(i, j)\n",
        "        if RMSE <= RMSE_min:\n",
        "            RMSE_min = RMSE\n",
        "            i_min = i\n",
        "            j_min = j\n",
        "    print()\n",
        "    print('RMSE = ', RMSE, '\\t RMSE_min = ', RMSE_min, '\\t при n1=', i_min, '\\t n2=', j_min)\n",
        "print(i_min)\n",
        "print(j_min)"
      ]
    },
    {
      "cell_type": "code",
      "execution_count": null,
      "id": "b5006f29",
      "metadata": {
        "id": "b5006f29",
        "outputId": "54dfa354-4700-4f26-c50e-c260cdb48a2c"
      },
      "outputs": [
        {
          "name": "stdout",
          "output_type": "stream",
          "text": [
            "RMSE =  13021.520771265383 \tloss_value =  14174.998835978788 \tepoch =  0\n",
            "RMSE =  11724.478547227116 \tloss_value =  12866.348666191197 \tepoch =  1000\n",
            "RMSE =  8185.000627601605 \tloss_value =  9106.711371290956 \tepoch =  2000\n",
            "RMSE =  4797.4130078998505 \tloss_value =  5177.526629579031 \tepoch =  3000\n",
            "RMSE =  4456.326861314998 \tloss_value =  3487.163317081665 \tepoch =  3990\n",
            "\n",
            "RMSE_min =  4456.326861314998 \tepoch_min =  3990\n"
          ]
        }
      ],
      "source": [
        "\n",
        "random.seed(42)\n",
        "np.random.seed(42)\n",
        "torch.manual_seed(42)\n",
        "torch.use_deterministic_algorithms(True)\n",
        "\n",
        "n_in_neurons = len(features_train.columns)\n",
        "n_hidden_neurons_1 = 18\n",
        "n_hidden_neurons_2 = 24\n",
        "n_out_neurons = 1\n",
        "\n",
        "X_train = torch.Tensor(features_train.values)\n",
        "X_valid = torch.Tensor(features_valid.values)\n",
        "X_test = torch.Tensor(features_test.values)\n",
        "\n",
        "y_train = torch.Tensor(target_train.values)\n",
        "y_valid = torch.Tensor(target_valid.values)\n",
        "y_test = torch.Tensor(target_test.values)\n",
        "\n",
        "\n",
        "\n",
        "net = nn.Sequential(\n",
        "    nn.Linear(n_in_neurons, n_hidden_neurons_1),\n",
        "\n",
        "    nn.BatchNorm1d(n_hidden_neurons_1),\n",
        "    #nn.Dropout(p=0.1),\n",
        "    nn.Tanh(),\n",
        "    nn.Linear(n_hidden_neurons_1, n_hidden_neurons_2),\n",
        "\n",
        "    nn.BatchNorm1d(n_hidden_neurons_2),\n",
        "    nn.ReLU(),\n",
        "    nn.Linear(n_hidden_neurons_2, n_out_neurons),\n",
        "\n",
        "\n",
        ")\n",
        "\n",
        "\n",
        "optimizer = torch.optim.Adam(net.parameters(), lr=1e-3)\n",
        "loss =  nn.MSELoss()\n",
        "\n",
        "\n",
        "RMSE_min = 100000\n",
        "epoch_min = 0\n",
        "\n",
        "num_epochs = 3991\n",
        "for epoch in range(num_epochs):\n",
        "    optimizer.zero_grad()\n",
        "    preds = net.forward(X_train).flatten()\n",
        "    loss_value = (loss(preds, y_train))\n",
        "    loss_value1 = sqrt(loss_value.detach().numpy())\n",
        "    loss_value.backward()\n",
        "    optimizer.step()\n",
        "    if epoch % 1000 == 0 or epoch == num_epochs - 1:\n",
        "        net.eval()\n",
        "        valid_preds = net.forward(X_valid)\n",
        "        RMSE = sqrt(mean_squared_error(target_valid, valid_preds.detach().numpy()) )\n",
        "        if RMSE <= RMSE_min:\n",
        "            RMSE_min = RMSE\n",
        "            epoch_min = epoch\n",
        "        print('RMSE = ', RMSE,'\\tloss_value = ', loss_value1,   '\\tepoch = ', epoch)\n",
        "print()\n",
        "print('RMSE_min = ', RMSE_min, '\\tepoch_min = ',epoch_min)"
      ]
    },
    {
      "cell_type": "code",
      "execution_count": null,
      "id": "383451f6",
      "metadata": {
        "id": "383451f6"
      },
      "outputs": [],
      "source": [
        "def search_batch_size(batch):\n",
        "    random.seed(42)\n",
        "    np.random.seed(42)\n",
        "    torch.manual_seed(42)\n",
        "    torch.use_deterministic_algorithms(True)\n",
        "\n",
        "    n_in_neurons = len(features_train.columns)\n",
        "    n_hidden_neurons_1 = 18\n",
        "    n_hidden_neurons_2 = 24\n",
        "    n_out_neurons = 1\n",
        "\n",
        "    X_train = torch.Tensor(features_train.values)\n",
        "    X_valid = torch.Tensor(features_valid.values)\n",
        "    y_train = torch.Tensor(target_train.values)\n",
        "    y_valid = torch.Tensor(target_valid.values)\n",
        "\n",
        "\n",
        "    net = nn.Sequential(\n",
        "        nn.Linear(n_in_neurons, n_hidden_neurons_1),\n",
        "\n",
        "        nn.BatchNorm1d(n_hidden_neurons_1),\n",
        "        #nn.Dropout(p=0.1),\n",
        "        nn.Tanh(),\n",
        "        nn.Linear(n_hidden_neurons_1, n_hidden_neurons_2),\n",
        "\n",
        "        nn.BatchNorm1d(n_hidden_neurons_2),\n",
        "        nn.ReLU(),\n",
        "        nn.Linear(n_hidden_neurons_2, n_out_neurons),\n",
        "                      )\n",
        "\n",
        "    optimizer = torch.optim.Adam(net.parameters(), lr=1e-3)\n",
        "\n",
        "    loss = nn.MSELoss()\n",
        "\n",
        "    batch_size = batch\n",
        "\n",
        "    RMSE_min = 20000\n",
        "\n",
        "    num_epochs = 10000\n",
        "\n",
        "    num_batches = ceil(len(X_train)/batch_size)\n",
        "\n",
        "    for epoch in range(num_epochs):\n",
        "        # случайная перестановка объектов\n",
        "        order = np.random.permutation(len(X_train))\n",
        "        for batch_idx in range(num_batches):\n",
        "            start_index = batch_idx * batch_size\n",
        "            optimizer.zero_grad()\n",
        "\n",
        "        # получение индексов текущего батча\n",
        "            batch_indexes = order[start_index:start_index+batch_size]\n",
        "            X_batch = X_train[batch_indexes]\n",
        "            y_batch = y_train[batch_indexes]\n",
        "\n",
        "            preds = net.forward(X_batch)\n",
        "\n",
        "            loss_value = loss(preds, y_batch)\n",
        "            loss_value.backward()\n",
        "\n",
        "            optimizer.step()\n",
        "\n",
        "        if epoch % 1000 == 0 or epoch == num_epochs - 1:\n",
        "            net.eval()\n",
        "            valid_preds = net.forward(X_valid)\n",
        "            RMSE = sqrt(mean_squared_error(target_valid, valid_preds.detach().numpy()) )\n",
        "            if RMSE <= RMSE_min:\n",
        "                RMSE_min = RMSE\n",
        "\n",
        "    return RMSE_min"
      ]
    },
    {
      "cell_type": "code",
      "execution_count": null,
      "id": "48ab2b0a",
      "metadata": {
        "scrolled": true,
        "id": "48ab2b0a",
        "outputId": "9863cd4c-3549-4a91-b6cc-5609bd4ee1c3"
      },
      "outputs": [
        {
          "name": "stdout",
          "output_type": "stream",
          "text": [
            "RMSE =  7945.320723057593 \tbatch =  10\n",
            "RMSE =  8258.220034931905 \tbatch =  20\n",
            "RMSE =  8642.386088725301 \tbatch =  30\n",
            "RMSE =  8707.734065479865 \tbatch =  40\n",
            "RMSE =  8773.402967956614 \tbatch =  50\n",
            "RMSE =  8759.106149542167 \tbatch =  60\n",
            "RMSE =  8246.305761302774 \tbatch =  70\n",
            "RMSE =  8825.870243963018 \tbatch =  80\n",
            "RMSE =  8827.410819436082 \tbatch =  90\n",
            "RMSE =  8817.715274294307 \tbatch =  100\n",
            "RMSE =  8799.008426275019 \tbatch =  110\n",
            "RMSE =  8773.675406103546 \tbatch =  120\n",
            "RMSE =  8659.664274736326 \tbatch =  130\n",
            "RMSE =  8012.383769057678 \tbatch =  140\n"
          ]
        }
      ],
      "source": [
        "for batch in range(10, len(features_train), 10):\n",
        "    RMSE = search_batch_size(batch)\n",
        "    print('RMSE = ', RMSE, '\\tbatch = ', batch)"
      ]
    },
    {
      "cell_type": "markdown",
      "id": "19b85f67",
      "metadata": {
        "id": "19b85f67"
      },
      "source": [
        "Для начала найдем количество нейронов в скрытых слоях, которые дадут минимально возможное значение RMSE. Для этого размер батча зафиксируем, а будем менять количество нейронов в скрытых слоях.\n",
        "Используем два цикла вложенных один в другой найдем оптимальные значения n1, n2. Ячейка с кодом ниже выполнялась 4 часа.\n",
        "RMSE_min = 4456 при значениях n1 = 18, n2 = 24."
      ]
    },
    {
      "cell_type": "code",
      "execution_count": null,
      "id": "0ea4958d",
      "metadata": {
        "id": "0ea4958d"
      },
      "outputs": [],
      "source": [
        "def search_drop_out(drop_out1, drop_out2):\n",
        "    random.seed(42)\n",
        "    np.random.seed(42)\n",
        "    torch.manual_seed(42)\n",
        "    torch.use_deterministic_algorithms(True)\n",
        "\n",
        "    n_in_neurons = len(features_train.columns)\n",
        "    n_hidden_neurons_1 = 18\n",
        "    n_hidden_neurons_2 = 24\n",
        "    n_out_neurons = 1\n",
        "\n",
        "    X_train = torch.Tensor(features_train.values)\n",
        "    X_valid = torch.Tensor(features_valid.values)\n",
        "    y_train = torch.Tensor(target_train.values)\n",
        "    y_valid = torch.Tensor(target_valid.values)\n",
        "\n",
        "\n",
        "\n",
        "    net = nn.Sequential(\n",
        "        nn.Linear(n_in_neurons, n_hidden_neurons_1),\n",
        "        nn.Tanh(),\n",
        "        nn.Dropout(p=drop_out1),\n",
        "        nn.Linear(n_hidden_neurons_1, n_hidden_neurons_2),\n",
        "        nn.ReLU(),\n",
        "        nn.Dropout(p=drop_out2),\n",
        "        nn.Linear(n_hidden_neurons_2, n_out_neurons),\n",
        "        nn.ReLU()\n",
        "                    )\n",
        "\n",
        "    optimizer = torch.optim.Adam(net.parameters(), lr=1e-3)\n",
        "    loss = nn.MSELoss()\n",
        "\n",
        "    RMSE_min = 100000\n",
        "    epoch_min = 0\n",
        "\n",
        "    num_epochs = 6000\n",
        "    for epoch in range(num_epochs):\n",
        "        optimizer.zero_grad()\n",
        "        preds = net.forward(X_train).flatten()\n",
        "        loss_value = loss(preds, y_train)\n",
        "        loss_value.backward()\n",
        "        optimizer.step()\n",
        "        if epoch % 100 == 0 or epoch == num_epochs - 1:\n",
        "            net.eval()\n",
        "            valid_preds = net.forward(X_valid)\n",
        "            RMSE = sqrt(mean_squared_error(target_valid, valid_preds.detach().numpy()) )\n",
        "            if RMSE <= RMSE_min:\n",
        "                RMSE_min = RMSE\n",
        "                epoch_min = epoch\n",
        "    return RMSE_min"
      ]
    },
    {
      "cell_type": "code",
      "execution_count": null,
      "id": "7c89fcbb",
      "metadata": {
        "scrolled": true,
        "id": "7c89fcbb",
        "outputId": "44ce93cc-505c-47df-e3b3-e2c83d78e192"
      },
      "outputs": [
        {
          "name": "stdout",
          "output_type": "stream",
          "text": [
            "RMSE =  13021.37929185249 drop_1 =  0.0\n",
            "RMSE =  6557.338652030737 drop_1 =  0.1\n",
            "RMSE =  6552.879859061411 drop_1 =  0.2\n",
            "RMSE =  6550.492540608062 drop_1 =  0.30000000000000004\n",
            "RMSE =  6551.0855893362 drop_1 =  0.4\n",
            "RMSE =  6553.4415697929735 drop_1 =  0.5\n",
            "RMSE =  6552.642185008212 drop_1 =  0.6000000000000001\n",
            "RMSE =  6552.932916062429 drop_1 =  0.7000000000000001\n",
            "RMSE =  6874.478346424473 drop_1 =  0.8\n",
            "RMSE =  6874.458088791991 drop_1 =  0.9\n",
            "RMSE_min =  6550.492540608062 drop_1_min =  0.30000000000000004\n"
          ]
        }
      ],
      "source": [
        "RMSE_min = 20000\n",
        "drop_1_min = 10\n",
        "for drop_1 in np.arange(0, 1., 0.1):\n",
        "\n",
        "   #print('RMSE = ' , RMSE,'drop_1 = ',drop_1)\n",
        "    RMSE = search_drop_out(drop_1 , 0)\n",
        "    if RMSE <= RMSE_min:\n",
        "        RMSE_min = RMSE\n",
        "        drop_1_min = drop_1\n",
        "    print('RMSE = ' , RMSE,'drop_1 = ',drop_1)\n",
        "print('RMSE_min = ', RMSE_min, 'drop_1_min = ', drop_1_min)"
      ]
    },
    {
      "cell_type": "code",
      "execution_count": null,
      "id": "06ea1b58",
      "metadata": {
        "scrolled": true,
        "id": "06ea1b58",
        "outputId": "e89a789b-3fd4-40e9-8511-4dce30bb9698"
      },
      "outputs": [
        {
          "name": "stdout",
          "output_type": "stream",
          "text": [
            "RMSE =  6557.338652030737 \tdrop_2 =  0.0\n",
            "RMSE =  6553.095646463644 \tdrop_2 =  0.1\n",
            "RMSE =  6552.893305569353 \tdrop_2 =  0.2\n",
            "RMSE =  6551.27062639348 \tdrop_2 =  0.30000000000000004\n",
            "RMSE =  6557.163911563127 \tdrop_2 =  0.4\n",
            "RMSE =  6556.9547164905025 \tdrop_2 =  0.5\n",
            "RMSE =  6556.62160971869 \tdrop_2 =  0.6000000000000001\n",
            "RMSE =  6558.155666263032 \tdrop_2 =  0.7000000000000001\n",
            "RMSE =  6556.940811610851 \tdrop_2 =  0.8\n",
            "RMSE =  6558.8636124951 \tdrop_2 =  0.9\n",
            "RMSE_min =  6551.27062639348 \tdrop_2_min =  0.30000000000000004\n"
          ]
        }
      ],
      "source": [
        "RMSE_min = 20000\n",
        "drop_2_min = 10\n",
        "for drop_2 in np.arange(0, 1., 0.1):\n",
        "\n",
        "   #print('RMSE = ' , RMSE,'drop_1 = ',drop_1)\n",
        "    RMSE = search_drop_out(0.1 , drop_2)\n",
        "    if RMSE <= RMSE_min:\n",
        "        RMSE_min = RMSE\n",
        "        drop_2_min = drop_2\n",
        "    print('RMSE = ' , RMSE,'\\tdrop_2 = ',drop_2)\n",
        "print('RMSE_min = ', RMSE_min, '\\tdrop_2_min = ', drop_2_min)"
      ]
    },
    {
      "cell_type": "code",
      "execution_count": null,
      "id": "e8cc8a8a",
      "metadata": {
        "scrolled": true,
        "id": "e8cc8a8a",
        "outputId": "c81d9688-0313-4ddf-aa69-d640bb1f5372"
      },
      "outputs": [
        {
          "name": "stdout",
          "output_type": "stream",
          "text": [
            "RMSE =  13021.520771265383 \tepoch =  0\n",
            "RMSE =  11724.478547227116 \tepoch =  1000\n",
            "RMSE =  8185.000627601605 \tepoch =  2000\n",
            "RMSE =  4797.4130078998505 \tepoch =  3000\n",
            "RMSE =  4456.326861314998 \tepoch =  3990\n",
            "\n",
            "RMSE_min =  4456.326861314998 \tepoch_min =  3990\n",
            "RMSE_test =  5541.240470226502\n"
          ]
        }
      ],
      "source": [
        "random.seed(42)\n",
        "np.random.seed(42)\n",
        "torch.manual_seed(42)\n",
        "torch.use_deterministic_algorithms(True)\n",
        "\n",
        "n_in_neurons = len(features_train.columns)\n",
        "n_hidden_neurons_1 = 18\n",
        "n_hidden_neurons_2 = 24\n",
        "n_out_neurons = 1\n",
        "\n",
        "X_train = torch.Tensor(features_train.values)\n",
        "X_valid = torch.Tensor(features_valid.values)\n",
        "X_test = torch.Tensor(features_test.values)\n",
        "\n",
        "y_train = torch.Tensor(target_train.values)\n",
        "y_valid = torch.Tensor(target_valid.values)\n",
        "y_test = torch.Tensor(target_test.values)\n",
        "\n",
        "\n",
        "\n",
        "net = nn.Sequential(\n",
        "        nn.Linear(n_in_neurons, n_hidden_neurons_1),\n",
        "\n",
        "        nn.BatchNorm1d(n_hidden_neurons_1),\n",
        "        #nn.Dropout(p=0.1),\n",
        "        nn.Tanh(),\n",
        "        nn.Linear(n_hidden_neurons_1, n_hidden_neurons_2),\n",
        "\n",
        "        nn.BatchNorm1d(n_hidden_neurons_2),\n",
        "        nn.ReLU(),\n",
        "        nn.Linear(n_hidden_neurons_2, n_out_neurons),\n",
        "                    )\n",
        "\n",
        "optimizer = torch.optim.Adam(net.parameters(), lr=1e-3)\n",
        "loss = nn.MSELoss()\n",
        "\n",
        "RMSE_min = 100000\n",
        "epoch_min = 0\n",
        "\n",
        "num_epochs = 3991\n",
        "for epoch in range(num_epochs):\n",
        "    optimizer.zero_grad()\n",
        "    preds = net.forward(X_train).flatten()\n",
        "    loss_value = loss(preds, y_train)\n",
        "    loss_value.backward()\n",
        "    optimizer.step()\n",
        "    if epoch % 1000 == 0 or epoch == num_epochs - 1:\n",
        "        net.eval()\n",
        "        valid_preds = net.forward(X_valid)\n",
        "        RMSE = sqrt(mean_squared_error(target_valid, valid_preds.detach().numpy()) )\n",
        "        if RMSE <= RMSE_min:\n",
        "            RMSE_min = RMSE\n",
        "            epoch_min = epoch\n",
        "\n",
        "        print('RMSE = ', RMSE, '\\tepoch = ', epoch)\n",
        "print()\n",
        "print('RMSE_min = ', RMSE_min, '\\tepoch_min = ',epoch_min)\n",
        "\n",
        "\n",
        "test_preds = net.forward(X_test)\n",
        "RMSE_test = sqrt(mean_squared_error(target_test, test_preds.detach().numpy()) )\n",
        "print('RMSE_test = ', RMSE_test)"
      ]
    },
    {
      "cell_type": "code",
      "execution_count": null,
      "id": "87647eac",
      "metadata": {
        "id": "87647eac",
        "outputId": "d5aadd80-9e45-45a9-bb35-24d29212c68b"
      },
      "outputs": [
        {
          "data": {
            "text/plain": [
              "Int64Index([106, 162,   6,  39, 236, 111,  73, 187, 163, 126, 144,  17,  58,\n",
              "            176, 130, 134,  51, 148, 146],\n",
              "           dtype='int64')"
            ]
          },
          "execution_count": 94,
          "metadata": {},
          "output_type": "execute_result"
        }
      ],
      "source": [
        "preds2 = valid_preds.detach().numpy().flatten()\n",
        "preds2 = pd.DataFrame(preds2, index = target_valid.index, columns = ['preds'])\n",
        "preds2 = preds2.join(target_valid)\n",
        "preds2 = preds2.iloc[0:19]\n",
        "preds2.index"
      ]
    },
    {
      "cell_type": "markdown",
      "id": "accurate-infrastructure",
      "metadata": {
        "id": "accurate-infrastructure"
      },
      "source": [
        "## Выводы"
      ]
    },
    {
      "cell_type": "code",
      "execution_count": null,
      "id": "c3221520",
      "metadata": {
        "scrolled": false,
        "id": "c3221520",
        "outputId": "9e46c25c-7094-4420-fb0f-ddde530452df"
      },
      "outputs": [
        {
          "data": {
            "image/png": "[encoded data removed]",
            "text/plain": [
              "<Figure size 720x360 with 1 Axes>"
            ]
          },
          "metadata": {
            "needs_background": "light"
          },
          "output_type": "display_data"
        },
        {
          "data": {
            "image/png": "[encoded data removed]",
            "text/plain": [
              "<Figure size 720x360 with 1 Axes>"
            ]
          },
          "metadata": {
            "needs_background": "light"
          },
          "output_type": "display_data"
        }
      ],
      "source": [
        "\n",
        "# set width of bars\n",
        "barWidth = 0.25\n",
        "\n",
        "# set heights of bars\n",
        "bars1 = preds1['preds']\n",
        "bars2 = preds1['temp']\n",
        "\n",
        "\n",
        "# Set position of bar on X axis\n",
        "r1 = np.arange(len(bars1))\n",
        "r2 = [x + barWidth for x in r1]\n",
        "\n",
        "\n",
        "\n",
        "# Make the plot\n",
        "plt.figure(figsize=(10,5))\n",
        "plt.bar(r1, bars1, color='b', width=barWidth, edgecolor='white', label='preds')\n",
        "plt.bar(r2, bars2, color='r', width=barWidth, edgecolor='white', label='real')\n",
        "\n",
        "\n",
        "# Add xticks on the middle of the group bars\n",
        "plt.title('Базовая модель')\n",
        "plt.xlabel('№ звезды', fontweight='bold')\n",
        "plt.xticks([r + barWidth for r in range(len(bars1))], preds1.index)\n",
        "\n",
        "# Create legend & Show graphic\n",
        "plt.legend(['Предсказанное значение', 'Реальное значение'])\n",
        "plt.show()\n",
        "\n",
        "####################################################\n",
        "# set width of bars\n",
        "barWidth = 0.25\n",
        "\n",
        "# set heights of bars\n",
        "bars1 = preds2['preds']\n",
        "bars2 = preds2['temp']\n",
        "\n",
        "\n",
        "# Set position of bar on X axis\n",
        "r1 = np.arange(len(bars1))\n",
        "r2 = [x + barWidth for x in r1]\n",
        "\n",
        "\n",
        "# Make the plot\n",
        "plt.figure(figsize=(10,5))\n",
        "plt.bar(r1, bars1, color='b', width=barWidth, edgecolor='white', label='preds')\n",
        "plt.bar(r2, bars2, color='r', width=barWidth, edgecolor='white', label='real')\n",
        "\n",
        "\n",
        "# Add xticks on the middle of the group bars\n",
        "plt.title('Оптимизированная модель')\n",
        "plt.xlabel('№ звезды', fontweight='bold')\n",
        "plt.xticks([r + barWidth for r in range(len(bars1))], preds2.index)\n",
        "\n",
        "# Create legend & Show graphic\n",
        "plt.legend(['Предсказанное значение', 'Реальное значение'])\n",
        "plt.show()"
      ]
    },
    {
      "cell_type": "markdown",
      "id": "b710a7c1",
      "metadata": {
        "id": "b710a7c1"
      },
      "source": [
        "# Вывод\n",
        "\n",
        "В данном проекте в качестве модели была использована нейронная сеть имеющая два скрытых слоя. Далее сеть оптимизировалась по метрике RMSE. На первом этапе было найдено оптимальное количество нейронов на первом и втором скрытых слоях, на втором этапе в качестве параметра использовался размер батча, на третьем была использована регуляризация методом `dropout`.\n",
        "Улучшение метрики было после оптимизации количества нейронов , размера батча и метод `dropout` улучшения не принес.\n",
        "Базовая модель имела RMSE = 4604, после оптимизации удалось снизить это значение до 4456. На тестовых данных была достигнута метрика 5541."
      ]
    }
  ],
  "metadata": {
    "ExecuteTimeLog": [
      {
        "duration": 384,
        "start_time": "2022-08-05T11:15:48.525Z"
      },
      {
        "duration": 107,
        "start_time": "2022-08-05T11:16:58.294Z"
      },
      {
        "duration": 369,
        "start_time": "2022-08-05T11:26:53.950Z"
      },
      {
        "duration": 110,
        "start_time": "2022-08-05T11:26:54.321Z"
      },
      {
        "duration": 360,
        "start_time": "2022-08-05T11:27:02.254Z"
      },
      {
        "duration": 69,
        "start_time": "2022-08-05T11:27:02.615Z"
      },
      {
        "duration": 420,
        "start_time": "2022-08-05T11:27:13.094Z"
      },
      {
        "duration": 106,
        "start_time": "2022-08-05T11:27:13.516Z"
      },
      {
        "duration": 366,
        "start_time": "2022-08-05T11:27:21.948Z"
      },
      {
        "duration": 26,
        "start_time": "2022-08-05T11:27:22.316Z"
      },
      {
        "duration": 42,
        "start_time": "2022-08-05T11:27:28.180Z"
      },
      {
        "duration": 6,
        "start_time": "2022-08-05T11:46:28.575Z"
      },
      {
        "duration": 24,
        "start_time": "2022-08-05T11:46:48.233Z"
      },
      {
        "duration": 708,
        "start_time": "2022-08-05T11:49:04.338Z"
      },
      {
        "duration": 137,
        "start_time": "2022-08-05T11:49:13.509Z"
      },
      {
        "duration": 144,
        "start_time": "2022-08-05T11:49:36.866Z"
      },
      {
        "duration": 216,
        "start_time": "2022-08-05T11:49:48.592Z"
      },
      {
        "duration": 3,
        "start_time": "2022-08-05T11:54:55.760Z"
      },
      {
        "duration": 79,
        "start_time": "2022-08-05T11:55:17.094Z"
      },
      {
        "duration": 197,
        "start_time": "2022-08-05T11:55:37.343Z"
      },
      {
        "duration": 99,
        "start_time": "2022-08-05T11:55:49.536Z"
      },
      {
        "duration": 95,
        "start_time": "2022-08-05T11:56:39.721Z"
      },
      {
        "duration": 95,
        "start_time": "2022-08-05T11:57:00.714Z"
      },
      {
        "duration": 57,
        "start_time": "2022-08-05T11:57:39.799Z"
      },
      {
        "duration": 82,
        "start_time": "2022-08-05T11:57:43.330Z"
      },
      {
        "duration": 96,
        "start_time": "2022-08-05T11:57:52.290Z"
      },
      {
        "duration": 85,
        "start_time": "2022-08-05T11:57:59.878Z"
      },
      {
        "duration": 58,
        "start_time": "2022-08-05T11:58:16.552Z"
      },
      {
        "duration": 95,
        "start_time": "2022-08-05T11:58:19.557Z"
      },
      {
        "duration": 14,
        "start_time": "2022-08-05T12:01:06.530Z"
      },
      {
        "duration": 9,
        "start_time": "2022-08-05T12:01:28.471Z"
      },
      {
        "duration": 12,
        "start_time": "2022-08-05T12:01:35.927Z"
      },
      {
        "duration": 5,
        "start_time": "2022-08-05T12:01:46.532Z"
      },
      {
        "duration": 7,
        "start_time": "2022-08-05T12:01:53.739Z"
      },
      {
        "duration": 11,
        "start_time": "2022-08-05T12:02:01.204Z"
      },
      {
        "duration": 4,
        "start_time": "2022-08-05T12:05:38.469Z"
      },
      {
        "duration": 4,
        "start_time": "2022-08-05T12:05:49.152Z"
      },
      {
        "duration": 7,
        "start_time": "2022-08-05T12:05:56.157Z"
      },
      {
        "duration": 6,
        "start_time": "2022-08-05T12:06:02.308Z"
      },
      {
        "duration": 3,
        "start_time": "2022-08-05T12:08:56.493Z"
      },
      {
        "duration": 3,
        "start_time": "2022-08-05T12:09:28.334Z"
      },
      {
        "duration": 6,
        "start_time": "2022-08-05T12:09:31.812Z"
      },
      {
        "duration": 23,
        "start_time": "2022-08-05T12:09:35.840Z"
      },
      {
        "duration": 169,
        "start_time": "2022-08-05T12:09:46.854Z"
      },
      {
        "duration": 63,
        "start_time": "2022-08-05T12:09:55.284Z"
      },
      {
        "duration": 105,
        "start_time": "2022-08-05T12:10:01.755Z"
      },
      {
        "duration": 173,
        "start_time": "2022-08-05T12:10:10.639Z"
      },
      {
        "duration": 13,
        "start_time": "2022-08-05T12:10:19.449Z"
      },
      {
        "duration": 33,
        "start_time": "2022-08-05T12:11:10.868Z"
      },
      {
        "duration": 688,
        "start_time": "2022-08-05T12:11:25.590Z"
      },
      {
        "duration": 51,
        "start_time": "2022-08-05T12:11:26.280Z"
      },
      {
        "duration": 3,
        "start_time": "2022-08-05T12:11:26.333Z"
      },
      {
        "duration": 6,
        "start_time": "2022-08-05T12:11:26.338Z"
      },
      {
        "duration": 13,
        "start_time": "2022-08-05T12:11:26.346Z"
      },
      {
        "duration": 27,
        "start_time": "2022-08-05T12:11:26.361Z"
      },
      {
        "duration": 192,
        "start_time": "2022-08-05T12:11:26.390Z"
      },
      {
        "duration": 118,
        "start_time": "2022-08-05T12:11:26.583Z"
      },
      {
        "duration": 110,
        "start_time": "2022-08-05T12:11:26.706Z"
      },
      {
        "duration": 14,
        "start_time": "2022-08-05T12:11:26.818Z"
      },
      {
        "duration": 4,
        "start_time": "2022-08-05T12:12:39.356Z"
      },
      {
        "duration": 217,
        "start_time": "2022-08-05T12:12:41.633Z"
      },
      {
        "duration": 155,
        "start_time": "2022-08-05T12:12:45.626Z"
      },
      {
        "duration": 107,
        "start_time": "2022-08-05T12:12:48.154Z"
      },
      {
        "duration": 13,
        "start_time": "2022-08-05T12:12:51.727Z"
      },
      {
        "duration": 13,
        "start_time": "2022-08-05T12:13:50.515Z"
      },
      {
        "duration": 11,
        "start_time": "2022-08-05T12:13:56.285Z"
      },
      {
        "duration": 140,
        "start_time": "2022-08-05T12:14:20.265Z"
      },
      {
        "duration": 144,
        "start_time": "2022-08-05T12:14:28.349Z"
      },
      {
        "duration": 246,
        "start_time": "2022-08-05T12:14:50.015Z"
      },
      {
        "duration": 91,
        "start_time": "2022-08-05T12:15:07.197Z"
      },
      {
        "duration": 102,
        "start_time": "2022-08-05T12:15:38.898Z"
      },
      {
        "duration": 117,
        "start_time": "2022-08-05T12:15:55.318Z"
      },
      {
        "duration": 119,
        "start_time": "2022-08-05T12:16:02.127Z"
      },
      {
        "duration": 107,
        "start_time": "2022-08-05T12:16:07.629Z"
      },
      {
        "duration": 98,
        "start_time": "2022-08-05T12:16:17.680Z"
      },
      {
        "duration": 159,
        "start_time": "2022-08-05T12:16:30.830Z"
      },
      {
        "duration": 109,
        "start_time": "2022-08-05T12:16:37.745Z"
      },
      {
        "duration": 101,
        "start_time": "2022-08-05T12:16:46.244Z"
      },
      {
        "duration": 91,
        "start_time": "2022-08-05T12:17:04.216Z"
      },
      {
        "duration": 104,
        "start_time": "2022-08-05T12:17:27.657Z"
      },
      {
        "duration": 155,
        "start_time": "2022-08-05T12:17:34.394Z"
      },
      {
        "duration": 111,
        "start_time": "2022-08-05T12:17:43.381Z"
      },
      {
        "duration": 102,
        "start_time": "2022-08-05T12:17:47.025Z"
      },
      {
        "duration": 105,
        "start_time": "2022-08-05T12:17:50.634Z"
      },
      {
        "duration": 108,
        "start_time": "2022-08-05T12:18:07.180Z"
      },
      {
        "duration": 114,
        "start_time": "2022-08-05T12:18:16.046Z"
      },
      {
        "duration": 141,
        "start_time": "2022-08-05T12:18:24.743Z"
      },
      {
        "duration": 173,
        "start_time": "2022-08-05T12:18:28.534Z"
      },
      {
        "duration": 113,
        "start_time": "2022-08-05T12:18:51.271Z"
      },
      {
        "duration": 110,
        "start_time": "2022-08-05T12:19:01.140Z"
      },
      {
        "duration": 122,
        "start_time": "2022-08-05T12:19:15.421Z"
      },
      {
        "duration": 17,
        "start_time": "2022-08-05T12:19:54.567Z"
      },
      {
        "duration": 5,
        "start_time": "2022-08-05T12:20:31.100Z"
      },
      {
        "duration": 161,
        "start_time": "2022-08-05T12:21:57.711Z"
      },
      {
        "duration": 97,
        "start_time": "2022-08-05T12:22:22.381Z"
      },
      {
        "duration": 263,
        "start_time": "2022-08-05T12:22:39.649Z"
      },
      {
        "duration": 193,
        "start_time": "2022-08-05T12:22:53.493Z"
      },
      {
        "duration": 170,
        "start_time": "2022-08-05T12:22:59.965Z"
      },
      {
        "duration": 164,
        "start_time": "2022-08-05T12:23:31.365Z"
      },
      {
        "duration": 94,
        "start_time": "2022-08-05T12:23:42.892Z"
      },
      {
        "duration": 83,
        "start_time": "2022-08-05T12:23:47.346Z"
      },
      {
        "duration": 18,
        "start_time": "2022-08-05T12:24:09.337Z"
      },
      {
        "duration": 5,
        "start_time": "2022-08-05T12:24:23.214Z"
      },
      {
        "duration": 13,
        "start_time": "2022-08-05T12:24:53.046Z"
      },
      {
        "duration": 124,
        "start_time": "2022-08-05T12:25:18.319Z"
      },
      {
        "duration": 238,
        "start_time": "2022-08-05T12:25:21.997Z"
      },
      {
        "duration": 186,
        "start_time": "2022-08-05T12:25:30.632Z"
      },
      {
        "duration": 90,
        "start_time": "2022-08-05T12:25:52.211Z"
      },
      {
        "duration": 87,
        "start_time": "2022-08-05T12:26:26.850Z"
      },
      {
        "duration": 85,
        "start_time": "2022-08-05T12:26:30.664Z"
      },
      {
        "duration": 90,
        "start_time": "2022-08-05T12:26:37.208Z"
      },
      {
        "duration": 190,
        "start_time": "2022-08-05T12:26:44.497Z"
      },
      {
        "duration": 139,
        "start_time": "2022-08-05T12:27:03.295Z"
      },
      {
        "duration": 101,
        "start_time": "2022-08-05T12:27:23.783Z"
      },
      {
        "duration": 87,
        "start_time": "2022-08-05T12:27:34.622Z"
      },
      {
        "duration": 96,
        "start_time": "2022-08-05T12:27:38.387Z"
      },
      {
        "duration": 109,
        "start_time": "2022-08-05T12:27:44.530Z"
      },
      {
        "duration": 94,
        "start_time": "2022-08-05T12:27:52.639Z"
      },
      {
        "duration": 108,
        "start_time": "2022-08-05T12:28:03.122Z"
      },
      {
        "duration": 7,
        "start_time": "2022-08-05T12:28:37.070Z"
      },
      {
        "duration": 15,
        "start_time": "2022-08-05T12:28:48.935Z"
      },
      {
        "duration": 15,
        "start_time": "2022-08-05T12:28:55.383Z"
      },
      {
        "duration": 13,
        "start_time": "2022-08-05T12:29:05.849Z"
      },
      {
        "duration": 11,
        "start_time": "2022-08-05T12:29:13.227Z"
      },
      {
        "duration": 8,
        "start_time": "2022-08-05T12:29:24.919Z"
      },
      {
        "duration": 84,
        "start_time": "2022-08-05T12:29:33.115Z"
      },
      {
        "duration": 107,
        "start_time": "2022-08-05T12:29:44.281Z"
      },
      {
        "duration": 7,
        "start_time": "2022-08-05T12:29:55.432Z"
      },
      {
        "duration": 9,
        "start_time": "2022-08-05T12:29:59.485Z"
      },
      {
        "duration": 98,
        "start_time": "2022-08-05T12:30:23.779Z"
      },
      {
        "duration": 10,
        "start_time": "2022-08-05T12:30:55.381Z"
      },
      {
        "duration": 4,
        "start_time": "2022-08-05T12:31:37.715Z"
      },
      {
        "duration": 4,
        "start_time": "2022-08-05T12:38:05.618Z"
      },
      {
        "duration": 5,
        "start_time": "2022-08-05T12:38:41.291Z"
      },
      {
        "duration": 8,
        "start_time": "2022-08-05T12:40:29.736Z"
      },
      {
        "duration": 5,
        "start_time": "2022-08-05T12:40:39.296Z"
      },
      {
        "duration": 13,
        "start_time": "2022-08-05T12:51:58.087Z"
      },
      {
        "duration": 6,
        "start_time": "2022-08-05T12:52:33.090Z"
      },
      {
        "duration": 18,
        "start_time": "2022-08-05T12:52:57.796Z"
      },
      {
        "duration": 9,
        "start_time": "2022-08-05T12:53:02.835Z"
      },
      {
        "duration": 6,
        "start_time": "2022-08-05T12:53:08.884Z"
      },
      {
        "duration": 8,
        "start_time": "2022-08-05T12:53:16.804Z"
      },
      {
        "duration": 7,
        "start_time": "2022-08-05T12:53:39.599Z"
      },
      {
        "duration": 10,
        "start_time": "2022-08-05T12:53:48.271Z"
      },
      {
        "duration": 9,
        "start_time": "2022-08-05T12:53:54.585Z"
      },
      {
        "duration": 5,
        "start_time": "2022-08-05T12:53:57.484Z"
      },
      {
        "duration": 9,
        "start_time": "2022-08-05T12:54:08.688Z"
      },
      {
        "duration": 6,
        "start_time": "2022-08-05T12:54:12.750Z"
      },
      {
        "duration": 49,
        "start_time": "2022-08-05T12:58:44.151Z"
      },
      {
        "duration": 7,
        "start_time": "2022-08-05T12:58:50.708Z"
      },
      {
        "duration": 13,
        "start_time": "2022-08-05T12:58:59.705Z"
      },
      {
        "duration": 3,
        "start_time": "2022-08-05T12:59:40.115Z"
      },
      {
        "duration": 3,
        "start_time": "2022-08-05T13:01:46.150Z"
      },
      {
        "duration": 5,
        "start_time": "2022-08-05T13:02:37.113Z"
      },
      {
        "duration": 6,
        "start_time": "2022-08-05T13:02:59.763Z"
      },
      {
        "duration": 6,
        "start_time": "2022-08-05T13:07:09.364Z"
      },
      {
        "duration": 652,
        "start_time": "2022-08-05T13:07:34.053Z"
      },
      {
        "duration": 37,
        "start_time": "2022-08-05T13:07:34.707Z"
      },
      {
        "duration": 3,
        "start_time": "2022-08-05T13:07:34.746Z"
      },
      {
        "duration": 5,
        "start_time": "2022-08-05T13:07:34.751Z"
      },
      {
        "duration": 8,
        "start_time": "2022-08-05T13:07:34.758Z"
      },
      {
        "duration": 26,
        "start_time": "2022-08-05T13:07:34.768Z"
      },
      {
        "duration": 4,
        "start_time": "2022-08-05T13:07:34.795Z"
      },
      {
        "duration": 186,
        "start_time": "2022-08-05T13:07:34.801Z"
      },
      {
        "duration": 103,
        "start_time": "2022-08-05T13:07:34.998Z"
      },
      {
        "duration": 124,
        "start_time": "2022-08-05T13:07:35.105Z"
      },
      {
        "duration": 14,
        "start_time": "2022-08-05T13:07:35.231Z"
      },
      {
        "duration": 10,
        "start_time": "2022-08-05T13:07:35.247Z"
      },
      {
        "duration": 175,
        "start_time": "2022-08-05T13:07:35.259Z"
      },
      {
        "duration": 146,
        "start_time": "2022-08-05T13:07:35.436Z"
      },
      {
        "duration": 15,
        "start_time": "2022-08-05T13:07:35.584Z"
      },
      {
        "duration": 168,
        "start_time": "2022-08-05T13:07:35.600Z"
      },
      {
        "duration": 89,
        "start_time": "2022-08-05T13:07:35.770Z"
      },
      {
        "duration": 5,
        "start_time": "2022-08-05T13:07:35.860Z"
      },
      {
        "duration": 196,
        "start_time": "2022-08-05T13:07:35.867Z"
      },
      {
        "duration": 105,
        "start_time": "2022-08-05T13:07:36.065Z"
      },
      {
        "duration": 111,
        "start_time": "2022-08-05T13:07:36.172Z"
      },
      {
        "duration": 10,
        "start_time": "2022-08-05T13:07:36.298Z"
      },
      {
        "duration": 13,
        "start_time": "2022-08-05T13:07:36.310Z"
      },
      {
        "duration": 5,
        "start_time": "2022-08-05T13:07:36.325Z"
      },
      {
        "duration": 14,
        "start_time": "2022-08-05T13:07:36.331Z"
      },
      {
        "duration": 7,
        "start_time": "2022-08-05T13:07:36.347Z"
      },
      {
        "duration": 6,
        "start_time": "2022-08-05T13:07:36.356Z"
      },
      {
        "duration": 4,
        "start_time": "2022-08-05T13:07:36.366Z"
      },
      {
        "duration": 29,
        "start_time": "2022-08-05T13:07:36.372Z"
      },
      {
        "duration": 5,
        "start_time": "2022-08-05T13:08:22.395Z"
      },
      {
        "duration": 5,
        "start_time": "2022-08-05T13:08:25.708Z"
      },
      {
        "duration": 82,
        "start_time": "2022-08-05T13:10:26.354Z"
      },
      {
        "duration": 4,
        "start_time": "2022-08-05T13:10:32.107Z"
      },
      {
        "duration": 7,
        "start_time": "2022-08-05T13:10:33.931Z"
      },
      {
        "duration": 6,
        "start_time": "2022-08-05T13:10:39.197Z"
      },
      {
        "duration": 3,
        "start_time": "2022-08-05T13:11:14.226Z"
      },
      {
        "duration": 6,
        "start_time": "2022-08-05T13:11:17.581Z"
      },
      {
        "duration": 6,
        "start_time": "2022-08-05T13:11:21.848Z"
      },
      {
        "duration": 3,
        "start_time": "2022-08-05T13:14:28.224Z"
      },
      {
        "duration": 8,
        "start_time": "2022-08-05T13:14:30.368Z"
      },
      {
        "duration": 6,
        "start_time": "2022-08-05T13:14:33.622Z"
      },
      {
        "duration": 3,
        "start_time": "2022-08-05T13:17:52.855Z"
      },
      {
        "duration": 17,
        "start_time": "2022-08-05T13:17:54.482Z"
      },
      {
        "duration": 3,
        "start_time": "2022-08-05T13:17:59.873Z"
      },
      {
        "duration": 10,
        "start_time": "2022-08-05T13:18:14.987Z"
      },
      {
        "duration": 5,
        "start_time": "2022-08-05T13:18:17.142Z"
      },
      {
        "duration": 4,
        "start_time": "2022-08-05T13:25:13.745Z"
      },
      {
        "duration": 7,
        "start_time": "2022-08-05T13:29:42.587Z"
      },
      {
        "duration": 4,
        "start_time": "2022-08-05T13:29:46.799Z"
      },
      {
        "duration": 10,
        "start_time": "2022-08-05T13:29:49.456Z"
      },
      {
        "duration": 5,
        "start_time": "2022-08-05T13:29:52.159Z"
      },
      {
        "duration": 654,
        "start_time": "2022-08-05T13:30:14.503Z"
      },
      {
        "duration": 40,
        "start_time": "2022-08-05T13:30:15.159Z"
      },
      {
        "duration": 4,
        "start_time": "2022-08-05T13:30:15.201Z"
      },
      {
        "duration": 10,
        "start_time": "2022-08-05T13:30:15.207Z"
      },
      {
        "duration": 11,
        "start_time": "2022-08-05T13:30:15.219Z"
      },
      {
        "duration": 43,
        "start_time": "2022-08-05T13:30:15.231Z"
      },
      {
        "duration": 4,
        "start_time": "2022-08-05T13:30:15.277Z"
      },
      {
        "duration": 182,
        "start_time": "2022-08-05T13:30:15.282Z"
      },
      {
        "duration": 103,
        "start_time": "2022-08-05T13:30:15.465Z"
      },
      {
        "duration": 106,
        "start_time": "2022-08-05T13:30:15.571Z"
      },
      {
        "duration": 33,
        "start_time": "2022-08-05T13:30:15.679Z"
      },
      {
        "duration": 12,
        "start_time": "2022-08-05T13:30:15.714Z"
      },
      {
        "duration": 158,
        "start_time": "2022-08-05T13:30:15.729Z"
      },
      {
        "duration": 156,
        "start_time": "2022-08-05T13:30:15.889Z"
      },
      {
        "duration": 5,
        "start_time": "2022-08-05T13:30:16.046Z"
      },
      {
        "duration": 169,
        "start_time": "2022-08-05T13:30:16.052Z"
      },
      {
        "duration": 98,
        "start_time": "2022-08-05T13:30:16.223Z"
      },
      {
        "duration": 6,
        "start_time": "2022-08-05T13:30:16.322Z"
      },
      {
        "duration": 192,
        "start_time": "2022-08-05T13:30:16.329Z"
      },
      {
        "duration": 103,
        "start_time": "2022-08-05T13:30:16.523Z"
      },
      {
        "duration": 108,
        "start_time": "2022-08-05T13:30:16.627Z"
      },
      {
        "duration": 9,
        "start_time": "2022-08-05T13:30:16.736Z"
      },
      {
        "duration": 16,
        "start_time": "2022-08-05T13:30:16.747Z"
      },
      {
        "duration": 5,
        "start_time": "2022-08-05T13:30:16.765Z"
      },
      {
        "duration": 30,
        "start_time": "2022-08-05T13:30:16.771Z"
      },
      {
        "duration": 29,
        "start_time": "2022-08-05T13:30:16.803Z"
      },
      {
        "duration": 9,
        "start_time": "2022-08-05T13:30:16.833Z"
      },
      {
        "duration": 11,
        "start_time": "2022-08-05T13:30:16.845Z"
      },
      {
        "duration": 11,
        "start_time": "2022-08-05T13:30:16.857Z"
      },
      {
        "duration": 8,
        "start_time": "2022-08-05T13:30:16.870Z"
      },
      {
        "duration": 626,
        "start_time": "2022-08-05T13:31:19.426Z"
      },
      {
        "duration": 39,
        "start_time": "2022-08-05T13:31:20.054Z"
      },
      {
        "duration": 4,
        "start_time": "2022-08-05T13:31:20.094Z"
      },
      {
        "duration": 22,
        "start_time": "2022-08-05T13:31:20.099Z"
      },
      {
        "duration": 7,
        "start_time": "2022-08-05T13:31:20.123Z"
      },
      {
        "duration": 27,
        "start_time": "2022-08-05T13:31:20.132Z"
      },
      {
        "duration": 4,
        "start_time": "2022-08-05T13:31:20.161Z"
      },
      {
        "duration": 187,
        "start_time": "2022-08-05T13:31:20.167Z"
      },
      {
        "duration": 109,
        "start_time": "2022-08-05T13:31:20.356Z"
      },
      {
        "duration": 107,
        "start_time": "2022-08-05T13:31:20.469Z"
      },
      {
        "duration": 24,
        "start_time": "2022-08-05T13:31:20.578Z"
      },
      {
        "duration": 9,
        "start_time": "2022-08-05T13:31:20.603Z"
      },
      {
        "duration": 165,
        "start_time": "2022-08-05T13:31:20.613Z"
      },
      {
        "duration": 142,
        "start_time": "2022-08-05T13:31:20.780Z"
      },
      {
        "duration": 5,
        "start_time": "2022-08-05T13:31:20.924Z"
      },
      {
        "duration": 172,
        "start_time": "2022-08-05T13:31:20.931Z"
      },
      {
        "duration": 94,
        "start_time": "2022-08-05T13:31:21.104Z"
      },
      {
        "duration": 4,
        "start_time": "2022-08-05T13:31:21.200Z"
      },
      {
        "duration": 185,
        "start_time": "2022-08-05T13:31:21.206Z"
      },
      {
        "duration": 107,
        "start_time": "2022-08-05T13:31:21.393Z"
      },
      {
        "duration": 109,
        "start_time": "2022-08-05T13:31:21.501Z"
      },
      {
        "duration": 9,
        "start_time": "2022-08-05T13:31:21.612Z"
      },
      {
        "duration": 14,
        "start_time": "2022-08-05T13:31:21.622Z"
      },
      {
        "duration": 6,
        "start_time": "2022-08-05T13:31:21.637Z"
      },
      {
        "duration": 14,
        "start_time": "2022-08-05T13:31:21.644Z"
      },
      {
        "duration": 9,
        "start_time": "2022-08-05T13:31:21.659Z"
      },
      {
        "duration": 20,
        "start_time": "2022-08-05T13:31:21.669Z"
      },
      {
        "duration": 21,
        "start_time": "2022-08-05T13:31:21.691Z"
      },
      {
        "duration": 21,
        "start_time": "2022-08-05T13:31:21.714Z"
      },
      {
        "duration": 9,
        "start_time": "2022-08-05T13:32:15.063Z"
      },
      {
        "duration": 6,
        "start_time": "2022-08-05T13:33:11.466Z"
      },
      {
        "duration": 86,
        "start_time": "2022-08-05T13:33:15.671Z"
      },
      {
        "duration": 7,
        "start_time": "2022-08-05T13:33:18.819Z"
      },
      {
        "duration": 6,
        "start_time": "2022-08-05T13:33:29.721Z"
      },
      {
        "duration": 5,
        "start_time": "2022-08-05T13:33:39.244Z"
      },
      {
        "duration": 5,
        "start_time": "2022-08-05T13:54:08.972Z"
      },
      {
        "duration": 5,
        "start_time": "2022-08-05T13:54:17.551Z"
      },
      {
        "duration": 9,
        "start_time": "2022-08-05T13:54:20.110Z"
      },
      {
        "duration": 5,
        "start_time": "2022-08-05T13:54:23.952Z"
      },
      {
        "duration": 5,
        "start_time": "2022-08-05T13:55:17.649Z"
      },
      {
        "duration": 5,
        "start_time": "2022-08-05T13:55:27.273Z"
      },
      {
        "duration": 6,
        "start_time": "2022-08-05T13:55:30.682Z"
      },
      {
        "duration": 5,
        "start_time": "2022-08-05T13:55:33.873Z"
      },
      {
        "duration": 5,
        "start_time": "2022-08-05T13:55:37.782Z"
      },
      {
        "duration": 4,
        "start_time": "2022-08-05T13:55:48.122Z"
      },
      {
        "duration": 6,
        "start_time": "2022-08-05T13:55:54.611Z"
      },
      {
        "duration": 5,
        "start_time": "2022-08-05T13:56:08.674Z"
      },
      {
        "duration": 3,
        "start_time": "2022-08-05T13:56:28.423Z"
      },
      {
        "duration": 8,
        "start_time": "2022-08-05T13:58:25.377Z"
      },
      {
        "duration": 3,
        "start_time": "2022-08-05T13:58:30.656Z"
      },
      {
        "duration": 8,
        "start_time": "2022-08-05T13:58:31.905Z"
      },
      {
        "duration": 2,
        "start_time": "2022-08-05T13:58:55.307Z"
      },
      {
        "duration": 98,
        "start_time": "2022-08-05T13:59:11.383Z"
      },
      {
        "duration": 5,
        "start_time": "2022-08-05T13:59:29.802Z"
      },
      {
        "duration": 5,
        "start_time": "2022-08-05T13:59:50.623Z"
      },
      {
        "duration": 3,
        "start_time": "2022-08-05T13:59:59.423Z"
      },
      {
        "duration": 6,
        "start_time": "2022-08-05T14:00:04.549Z"
      },
      {
        "duration": 6,
        "start_time": "2022-08-05T14:01:34.564Z"
      },
      {
        "duration": 8,
        "start_time": "2022-08-05T14:01:41.780Z"
      },
      {
        "duration": 6,
        "start_time": "2022-08-05T14:01:50.815Z"
      },
      {
        "duration": 120,
        "start_time": "2022-08-05T14:02:26.058Z"
      },
      {
        "duration": 117,
        "start_time": "2022-08-05T14:02:41.933Z"
      },
      {
        "duration": 108,
        "start_time": "2022-08-05T14:02:59.513Z"
      },
      {
        "duration": 50,
        "start_time": "2022-08-05T14:03:26.023Z"
      },
      {
        "duration": 138,
        "start_time": "2022-08-05T14:04:11.183Z"
      },
      {
        "duration": 166,
        "start_time": "2022-08-05T14:04:17.476Z"
      },
      {
        "duration": 112,
        "start_time": "2022-08-05T14:05:00.022Z"
      },
      {
        "duration": 96,
        "start_time": "2022-08-05T14:05:08.739Z"
      },
      {
        "duration": 98,
        "start_time": "2022-08-05T14:07:00.461Z"
      },
      {
        "duration": 103,
        "start_time": "2022-08-05T14:08:25.355Z"
      },
      {
        "duration": 101,
        "start_time": "2022-08-05T14:09:09.974Z"
      },
      {
        "duration": 11,
        "start_time": "2022-08-05T14:26:09.056Z"
      },
      {
        "duration": 103,
        "start_time": "2022-08-05T14:26:11.383Z"
      },
      {
        "duration": 6,
        "start_time": "2022-08-05T14:26:30.161Z"
      },
      {
        "duration": 709,
        "start_time": "2022-08-05T14:26:44.563Z"
      },
      {
        "duration": 38,
        "start_time": "2022-08-05T14:26:45.273Z"
      },
      {
        "duration": 3,
        "start_time": "2022-08-05T14:26:45.312Z"
      },
      {
        "duration": 10,
        "start_time": "2022-08-05T14:26:45.317Z"
      },
      {
        "duration": 7,
        "start_time": "2022-08-05T14:26:45.330Z"
      },
      {
        "duration": 21,
        "start_time": "2022-08-05T14:26:45.338Z"
      },
      {
        "duration": 3,
        "start_time": "2022-08-05T14:26:45.361Z"
      },
      {
        "duration": 189,
        "start_time": "2022-08-05T14:26:45.365Z"
      },
      {
        "duration": 102,
        "start_time": "2022-08-05T14:26:45.556Z"
      },
      {
        "duration": 108,
        "start_time": "2022-08-05T14:26:45.659Z"
      },
      {
        "duration": 11,
        "start_time": "2022-08-05T14:26:45.769Z"
      },
      {
        "duration": 21,
        "start_time": "2022-08-05T14:26:45.782Z"
      },
      {
        "duration": 150,
        "start_time": "2022-08-05T14:26:45.805Z"
      },
      {
        "duration": 154,
        "start_time": "2022-08-05T14:26:45.958Z"
      },
      {
        "duration": 5,
        "start_time": "2022-08-05T14:26:46.114Z"
      },
      {
        "duration": 171,
        "start_time": "2022-08-05T14:26:46.120Z"
      },
      {
        "duration": 79,
        "start_time": "2022-08-05T14:26:46.293Z"
      },
      {
        "duration": 4,
        "start_time": "2022-08-05T14:26:46.374Z"
      },
      {
        "duration": 191,
        "start_time": "2022-08-05T14:26:46.379Z"
      },
      {
        "duration": 103,
        "start_time": "2022-08-05T14:26:46.572Z"
      },
      {
        "duration": 105,
        "start_time": "2022-08-05T14:26:46.677Z"
      },
      {
        "duration": 20,
        "start_time": "2022-08-05T14:26:46.783Z"
      },
      {
        "duration": 13,
        "start_time": "2022-08-05T14:26:46.804Z"
      },
      {
        "duration": 7,
        "start_time": "2022-08-05T14:26:46.818Z"
      },
      {
        "duration": 9,
        "start_time": "2022-08-05T14:26:46.826Z"
      },
      {
        "duration": 10,
        "start_time": "2022-08-05T14:26:46.836Z"
      },
      {
        "duration": 11,
        "start_time": "2022-08-05T14:26:46.848Z"
      },
      {
        "duration": 17,
        "start_time": "2022-08-05T14:26:46.860Z"
      },
      {
        "duration": 120,
        "start_time": "2022-08-05T14:26:46.878Z"
      },
      {
        "duration": 5,
        "start_time": "2022-08-05T14:26:47.000Z"
      },
      {
        "duration": 11,
        "start_time": "2022-08-05T14:29:49.914Z"
      },
      {
        "duration": 103,
        "start_time": "2022-08-05T14:29:52.062Z"
      },
      {
        "duration": 5,
        "start_time": "2022-08-05T14:29:56.421Z"
      },
      {
        "duration": 5,
        "start_time": "2022-08-05T14:30:14.863Z"
      },
      {
        "duration": 640,
        "start_time": "2022-08-05T14:30:30.164Z"
      },
      {
        "duration": 37,
        "start_time": "2022-08-05T14:30:30.806Z"
      },
      {
        "duration": 2,
        "start_time": "2022-08-05T14:30:30.845Z"
      },
      {
        "duration": 20,
        "start_time": "2022-08-05T14:30:30.848Z"
      },
      {
        "duration": 27,
        "start_time": "2022-08-05T14:30:30.870Z"
      },
      {
        "duration": 34,
        "start_time": "2022-08-05T14:30:30.899Z"
      },
      {
        "duration": 4,
        "start_time": "2022-08-05T14:30:30.935Z"
      },
      {
        "duration": 210,
        "start_time": "2022-08-05T14:30:30.940Z"
      },
      {
        "duration": 109,
        "start_time": "2022-08-05T14:30:31.152Z"
      },
      {
        "duration": 105,
        "start_time": "2022-08-05T14:30:31.263Z"
      },
      {
        "duration": 13,
        "start_time": "2022-08-05T14:30:31.369Z"
      },
      {
        "duration": 23,
        "start_time": "2022-08-05T14:30:31.383Z"
      },
      {
        "duration": 152,
        "start_time": "2022-08-05T14:30:31.407Z"
      },
      {
        "duration": 156,
        "start_time": "2022-08-05T14:30:31.562Z"
      },
      {
        "duration": 5,
        "start_time": "2022-08-05T14:30:31.720Z"
      },
      {
        "duration": 174,
        "start_time": "2022-08-05T14:30:31.727Z"
      },
      {
        "duration": 84,
        "start_time": "2022-08-05T14:30:31.902Z"
      },
      {
        "duration": 5,
        "start_time": "2022-08-05T14:30:31.999Z"
      },
      {
        "duration": 192,
        "start_time": "2022-08-05T14:30:32.006Z"
      },
      {
        "duration": 104,
        "start_time": "2022-08-05T14:30:32.200Z"
      },
      {
        "duration": 109,
        "start_time": "2022-08-05T14:30:32.306Z"
      },
      {
        "duration": 9,
        "start_time": "2022-08-05T14:30:32.417Z"
      },
      {
        "duration": 18,
        "start_time": "2022-08-05T14:30:32.428Z"
      },
      {
        "duration": 21,
        "start_time": "2022-08-05T14:30:32.447Z"
      },
      {
        "duration": 16,
        "start_time": "2022-08-05T14:30:32.469Z"
      },
      {
        "duration": 28,
        "start_time": "2022-08-05T14:30:32.486Z"
      },
      {
        "duration": 16,
        "start_time": "2022-08-05T14:30:32.516Z"
      },
      {
        "duration": 33,
        "start_time": "2022-08-05T14:30:32.533Z"
      },
      {
        "duration": 124,
        "start_time": "2022-08-05T14:30:32.568Z"
      },
      {
        "duration": 6,
        "start_time": "2022-08-05T14:30:32.694Z"
      },
      {
        "duration": 11,
        "start_time": "2022-08-05T14:31:12.198Z"
      },
      {
        "duration": 108,
        "start_time": "2022-08-05T14:31:15.886Z"
      },
      {
        "duration": 5,
        "start_time": "2022-08-05T14:31:19.570Z"
      },
      {
        "duration": 651,
        "start_time": "2022-08-05T14:31:28.080Z"
      },
      {
        "duration": 43,
        "start_time": "2022-08-05T14:31:28.733Z"
      },
      {
        "duration": 4,
        "start_time": "2022-08-05T14:31:28.778Z"
      },
      {
        "duration": 7,
        "start_time": "2022-08-05T14:31:28.785Z"
      },
      {
        "duration": 13,
        "start_time": "2022-08-05T14:31:28.794Z"
      },
      {
        "duration": 34,
        "start_time": "2022-08-05T14:31:28.809Z"
      },
      {
        "duration": 4,
        "start_time": "2022-08-05T14:31:28.845Z"
      },
      {
        "duration": 210,
        "start_time": "2022-08-05T14:31:28.851Z"
      },
      {
        "duration": 106,
        "start_time": "2022-08-05T14:31:29.062Z"
      },
      {
        "duration": 107,
        "start_time": "2022-08-05T14:31:29.171Z"
      },
      {
        "duration": 24,
        "start_time": "2022-08-05T14:31:29.279Z"
      },
      {
        "duration": 9,
        "start_time": "2022-08-05T14:31:29.305Z"
      },
      {
        "duration": 174,
        "start_time": "2022-08-05T14:31:29.316Z"
      },
      {
        "duration": 147,
        "start_time": "2022-08-05T14:31:29.492Z"
      },
      {
        "duration": 5,
        "start_time": "2022-08-05T14:31:29.641Z"
      },
      {
        "duration": 166,
        "start_time": "2022-08-05T14:31:29.647Z"
      },
      {
        "duration": 91,
        "start_time": "2022-08-05T14:31:29.815Z"
      },
      {
        "duration": 5,
        "start_time": "2022-08-05T14:31:29.907Z"
      },
      {
        "duration": 233,
        "start_time": "2022-08-05T14:31:29.913Z"
      },
      {
        "duration": 116,
        "start_time": "2022-08-05T14:31:30.148Z"
      },
      {
        "duration": 119,
        "start_time": "2022-08-05T14:31:30.265Z"
      },
      {
        "duration": 20,
        "start_time": "2022-08-05T14:31:30.385Z"
      },
      {
        "duration": 24,
        "start_time": "2022-08-05T14:31:30.407Z"
      },
      {
        "duration": 8,
        "start_time": "2022-08-05T14:31:30.433Z"
      },
      {
        "duration": 26,
        "start_time": "2022-08-05T14:31:30.442Z"
      },
      {
        "duration": 15,
        "start_time": "2022-08-05T14:31:30.470Z"
      },
      {
        "duration": 12,
        "start_time": "2022-08-05T14:31:30.486Z"
      },
      {
        "duration": 40,
        "start_time": "2022-08-05T14:31:30.501Z"
      },
      {
        "duration": 137,
        "start_time": "2022-08-05T14:31:30.543Z"
      },
      {
        "duration": 4,
        "start_time": "2022-08-05T14:31:30.681Z"
      },
      {
        "duration": 120,
        "start_time": "2022-08-05T14:32:04.277Z"
      },
      {
        "duration": 11,
        "start_time": "2022-08-05T14:32:12.297Z"
      },
      {
        "duration": 127,
        "start_time": "2022-08-05T14:32:13.893Z"
      },
      {
        "duration": 4,
        "start_time": "2022-08-05T14:32:17.340Z"
      },
      {
        "duration": 648,
        "start_time": "2022-08-05T14:32:27.673Z"
      },
      {
        "duration": 37,
        "start_time": "2022-08-05T14:32:28.323Z"
      },
      {
        "duration": 3,
        "start_time": "2022-08-05T14:32:28.362Z"
      },
      {
        "duration": 5,
        "start_time": "2022-08-05T14:32:28.367Z"
      },
      {
        "duration": 8,
        "start_time": "2022-08-05T14:32:28.374Z"
      },
      {
        "duration": 25,
        "start_time": "2022-08-05T14:32:28.383Z"
      },
      {
        "duration": 3,
        "start_time": "2022-08-05T14:32:28.409Z"
      },
      {
        "duration": 176,
        "start_time": "2022-08-05T14:32:28.414Z"
      },
      {
        "duration": 110,
        "start_time": "2022-08-05T14:32:28.592Z"
      },
      {
        "duration": 106,
        "start_time": "2022-08-05T14:32:28.704Z"
      },
      {
        "duration": 14,
        "start_time": "2022-08-05T14:32:28.811Z"
      },
      {
        "duration": 8,
        "start_time": "2022-08-05T14:32:28.826Z"
      },
      {
        "duration": 163,
        "start_time": "2022-08-05T14:32:28.836Z"
      },
      {
        "duration": 148,
        "start_time": "2022-08-05T14:32:29.001Z"
      },
      {
        "duration": 5,
        "start_time": "2022-08-05T14:32:29.151Z"
      },
      {
        "duration": 175,
        "start_time": "2022-08-05T14:32:29.157Z"
      },
      {
        "duration": 92,
        "start_time": "2022-08-05T14:32:29.334Z"
      },
      {
        "duration": 5,
        "start_time": "2022-08-05T14:32:29.428Z"
      },
      {
        "duration": 187,
        "start_time": "2022-08-05T14:32:29.435Z"
      },
      {
        "duration": 102,
        "start_time": "2022-08-05T14:32:29.623Z"
      },
      {
        "duration": 111,
        "start_time": "2022-08-05T14:32:29.727Z"
      },
      {
        "duration": 10,
        "start_time": "2022-08-05T14:32:29.839Z"
      },
      {
        "duration": 14,
        "start_time": "2022-08-05T14:32:29.850Z"
      },
      {
        "duration": 4,
        "start_time": "2022-08-05T14:32:29.866Z"
      },
      {
        "duration": 6,
        "start_time": "2022-08-05T14:32:29.872Z"
      },
      {
        "duration": 5,
        "start_time": "2022-08-05T14:32:29.898Z"
      },
      {
        "duration": 10,
        "start_time": "2022-08-05T14:32:29.904Z"
      },
      {
        "duration": 10,
        "start_time": "2022-08-05T14:32:29.917Z"
      },
      {
        "duration": 128,
        "start_time": "2022-08-05T14:32:29.929Z"
      },
      {
        "duration": 4,
        "start_time": "2022-08-05T14:32:30.059Z"
      },
      {
        "duration": 5,
        "start_time": "2022-08-05T14:32:53.884Z"
      },
      {
        "duration": 777,
        "start_time": "2022-08-07T05:33:10.567Z"
      },
      {
        "duration": 81,
        "start_time": "2022-08-07T05:33:11.346Z"
      },
      {
        "duration": 3,
        "start_time": "2022-08-07T05:33:11.431Z"
      },
      {
        "duration": 7,
        "start_time": "2022-08-07T05:33:11.437Z"
      },
      {
        "duration": 13,
        "start_time": "2022-08-07T05:33:11.446Z"
      },
      {
        "duration": 31,
        "start_time": "2022-08-07T05:33:11.460Z"
      },
      {
        "duration": 4,
        "start_time": "2022-08-07T05:33:11.493Z"
      },
      {
        "duration": 202,
        "start_time": "2022-08-07T05:33:11.510Z"
      },
      {
        "duration": 112,
        "start_time": "2022-08-07T05:33:11.714Z"
      },
      {
        "duration": 102,
        "start_time": "2022-08-07T05:33:11.829Z"
      },
      {
        "duration": 11,
        "start_time": "2022-08-07T05:33:11.933Z"
      },
      {
        "duration": 7,
        "start_time": "2022-08-07T05:33:11.946Z"
      },
      {
        "duration": 148,
        "start_time": "2022-08-07T05:33:11.955Z"
      },
      {
        "duration": 146,
        "start_time": "2022-08-07T05:33:12.105Z"
      },
      {
        "duration": 5,
        "start_time": "2022-08-07T05:33:12.252Z"
      },
      {
        "duration": 187,
        "start_time": "2022-08-07T05:33:12.258Z"
      },
      {
        "duration": 83,
        "start_time": "2022-08-07T05:33:12.447Z"
      },
      {
        "duration": 5,
        "start_time": "2022-08-07T05:33:12.532Z"
      },
      {
        "duration": 180,
        "start_time": "2022-08-07T05:33:12.539Z"
      },
      {
        "duration": 105,
        "start_time": "2022-08-07T05:33:12.721Z"
      },
      {
        "duration": 92,
        "start_time": "2022-08-07T05:33:12.828Z"
      },
      {
        "duration": 10,
        "start_time": "2022-08-07T05:33:12.921Z"
      },
      {
        "duration": 11,
        "start_time": "2022-08-07T05:33:12.933Z"
      },
      {
        "duration": 5,
        "start_time": "2022-08-07T05:33:12.945Z"
      },
      {
        "duration": 7,
        "start_time": "2022-08-07T05:33:12.951Z"
      },
      {
        "duration": 5,
        "start_time": "2022-08-07T05:33:12.960Z"
      },
      {
        "duration": 35,
        "start_time": "2022-08-07T05:33:12.966Z"
      },
      {
        "duration": 11,
        "start_time": "2022-08-07T05:33:13.005Z"
      },
      {
        "duration": 102,
        "start_time": "2022-08-07T05:33:13.018Z"
      },
      {
        "duration": 6,
        "start_time": "2022-08-07T05:33:13.122Z"
      },
      {
        "duration": 5,
        "start_time": "2022-08-07T05:35:06.664Z"
      },
      {
        "duration": 72,
        "start_time": "2022-08-07T05:35:10.555Z"
      },
      {
        "duration": 5,
        "start_time": "2022-08-07T05:35:16.493Z"
      },
      {
        "duration": 604,
        "start_time": "2022-08-07T05:37:56.812Z"
      },
      {
        "duration": 37,
        "start_time": "2022-08-07T05:37:57.419Z"
      },
      {
        "duration": 2,
        "start_time": "2022-08-07T05:37:57.458Z"
      },
      {
        "duration": 66,
        "start_time": "2022-08-07T05:37:57.461Z"
      },
      {
        "duration": 0,
        "start_time": "2022-08-07T05:37:57.530Z"
      },
      {
        "duration": 0,
        "start_time": "2022-08-07T05:37:57.532Z"
      },
      {
        "duration": 0,
        "start_time": "2022-08-07T05:37:57.533Z"
      },
      {
        "duration": 0,
        "start_time": "2022-08-07T05:37:57.534Z"
      },
      {
        "duration": 0,
        "start_time": "2022-08-07T05:37:57.535Z"
      },
      {
        "duration": 0,
        "start_time": "2022-08-07T05:37:57.536Z"
      },
      {
        "duration": 0,
        "start_time": "2022-08-07T05:37:57.537Z"
      },
      {
        "duration": 0,
        "start_time": "2022-08-07T05:37:57.538Z"
      },
      {
        "duration": 0,
        "start_time": "2022-08-07T05:37:57.539Z"
      },
      {
        "duration": 0,
        "start_time": "2022-08-07T05:37:57.540Z"
      },
      {
        "duration": 0,
        "start_time": "2022-08-07T05:37:57.541Z"
      },
      {
        "duration": 0,
        "start_time": "2022-08-07T05:37:57.542Z"
      },
      {
        "duration": 0,
        "start_time": "2022-08-07T05:37:57.543Z"
      },
      {
        "duration": 0,
        "start_time": "2022-08-07T05:37:57.544Z"
      },
      {
        "duration": 0,
        "start_time": "2022-08-07T05:37:57.545Z"
      },
      {
        "duration": 0,
        "start_time": "2022-08-07T05:37:57.546Z"
      },
      {
        "duration": 0,
        "start_time": "2022-08-07T05:37:57.547Z"
      },
      {
        "duration": 0,
        "start_time": "2022-08-07T05:37:57.548Z"
      },
      {
        "duration": 0,
        "start_time": "2022-08-07T05:37:57.549Z"
      },
      {
        "duration": 0,
        "start_time": "2022-08-07T05:37:57.550Z"
      },
      {
        "duration": 0,
        "start_time": "2022-08-07T05:37:57.551Z"
      },
      {
        "duration": 0,
        "start_time": "2022-08-07T05:37:57.552Z"
      },
      {
        "duration": 0,
        "start_time": "2022-08-07T05:37:57.553Z"
      },
      {
        "duration": 0,
        "start_time": "2022-08-07T05:37:57.554Z"
      },
      {
        "duration": 0,
        "start_time": "2022-08-07T05:37:57.554Z"
      },
      {
        "duration": 0,
        "start_time": "2022-08-07T05:37:57.555Z"
      },
      {
        "duration": 616,
        "start_time": "2022-08-07T05:38:27.873Z"
      },
      {
        "duration": 39,
        "start_time": "2022-08-07T05:38:28.491Z"
      },
      {
        "duration": 3,
        "start_time": "2022-08-07T05:38:28.531Z"
      },
      {
        "duration": 6,
        "start_time": "2022-08-07T05:38:28.535Z"
      },
      {
        "duration": 69,
        "start_time": "2022-08-07T05:38:28.542Z"
      },
      {
        "duration": 0,
        "start_time": "2022-08-07T05:38:28.615Z"
      },
      {
        "duration": 0,
        "start_time": "2022-08-07T05:38:28.616Z"
      },
      {
        "duration": 0,
        "start_time": "2022-08-07T05:38:28.618Z"
      },
      {
        "duration": 0,
        "start_time": "2022-08-07T05:38:28.620Z"
      },
      {
        "duration": 0,
        "start_time": "2022-08-07T05:38:28.621Z"
      },
      {
        "duration": 0,
        "start_time": "2022-08-07T05:38:28.622Z"
      },
      {
        "duration": 0,
        "start_time": "2022-08-07T05:38:28.623Z"
      },
      {
        "duration": 0,
        "start_time": "2022-08-07T05:38:28.624Z"
      },
      {
        "duration": 0,
        "start_time": "2022-08-07T05:38:28.625Z"
      },
      {
        "duration": 0,
        "start_time": "2022-08-07T05:38:28.626Z"
      },
      {
        "duration": 0,
        "start_time": "2022-08-07T05:38:28.626Z"
      },
      {
        "duration": 0,
        "start_time": "2022-08-07T05:38:28.627Z"
      },
      {
        "duration": 0,
        "start_time": "2022-08-07T05:38:28.628Z"
      },
      {
        "duration": 0,
        "start_time": "2022-08-07T05:38:28.629Z"
      },
      {
        "duration": 0,
        "start_time": "2022-08-07T05:38:28.630Z"
      },
      {
        "duration": 0,
        "start_time": "2022-08-07T05:38:28.631Z"
      },
      {
        "duration": 0,
        "start_time": "2022-08-07T05:38:28.631Z"
      },
      {
        "duration": 0,
        "start_time": "2022-08-07T05:38:28.632Z"
      },
      {
        "duration": 0,
        "start_time": "2022-08-07T05:38:28.633Z"
      },
      {
        "duration": 0,
        "start_time": "2022-08-07T05:38:28.634Z"
      },
      {
        "duration": 0,
        "start_time": "2022-08-07T05:38:28.635Z"
      },
      {
        "duration": 0,
        "start_time": "2022-08-07T05:38:28.636Z"
      },
      {
        "duration": 0,
        "start_time": "2022-08-07T05:38:28.637Z"
      },
      {
        "duration": 0,
        "start_time": "2022-08-07T05:38:28.638Z"
      },
      {
        "duration": 0,
        "start_time": "2022-08-07T05:38:28.639Z"
      },
      {
        "duration": 3,
        "start_time": "2022-08-07T05:38:57.907Z"
      },
      {
        "duration": 7,
        "start_time": "2022-08-07T05:39:06.588Z"
      },
      {
        "duration": 621,
        "start_time": "2022-08-07T05:39:27.768Z"
      },
      {
        "duration": 41,
        "start_time": "2022-08-07T05:39:28.390Z"
      },
      {
        "duration": 2,
        "start_time": "2022-08-07T05:39:28.433Z"
      },
      {
        "duration": 6,
        "start_time": "2022-08-07T05:39:28.438Z"
      },
      {
        "duration": 67,
        "start_time": "2022-08-07T05:39:28.446Z"
      },
      {
        "duration": 0,
        "start_time": "2022-08-07T05:39:28.517Z"
      },
      {
        "duration": 0,
        "start_time": "2022-08-07T05:39:28.522Z"
      },
      {
        "duration": 0,
        "start_time": "2022-08-07T05:39:28.523Z"
      },
      {
        "duration": 0,
        "start_time": "2022-08-07T05:39:28.524Z"
      },
      {
        "duration": 0,
        "start_time": "2022-08-07T05:39:28.525Z"
      },
      {
        "duration": 0,
        "start_time": "2022-08-07T05:39:28.526Z"
      },
      {
        "duration": 0,
        "start_time": "2022-08-07T05:39:28.527Z"
      },
      {
        "duration": 0,
        "start_time": "2022-08-07T05:39:28.528Z"
      },
      {
        "duration": 0,
        "start_time": "2022-08-07T05:39:28.530Z"
      },
      {
        "duration": 0,
        "start_time": "2022-08-07T05:39:28.530Z"
      },
      {
        "duration": 0,
        "start_time": "2022-08-07T05:39:28.531Z"
      },
      {
        "duration": 0,
        "start_time": "2022-08-07T05:39:28.532Z"
      },
      {
        "duration": 0,
        "start_time": "2022-08-07T05:39:28.533Z"
      },
      {
        "duration": 0,
        "start_time": "2022-08-07T05:39:28.534Z"
      },
      {
        "duration": 0,
        "start_time": "2022-08-07T05:39:28.535Z"
      },
      {
        "duration": 0,
        "start_time": "2022-08-07T05:39:28.536Z"
      },
      {
        "duration": 0,
        "start_time": "2022-08-07T05:39:28.537Z"
      },
      {
        "duration": 0,
        "start_time": "2022-08-07T05:39:28.537Z"
      },
      {
        "duration": 1,
        "start_time": "2022-08-07T05:39:28.538Z"
      },
      {
        "duration": 1,
        "start_time": "2022-08-07T05:39:28.539Z"
      },
      {
        "duration": 0,
        "start_time": "2022-08-07T05:39:28.540Z"
      },
      {
        "duration": 0,
        "start_time": "2022-08-07T05:39:28.541Z"
      },
      {
        "duration": 1,
        "start_time": "2022-08-07T05:39:28.542Z"
      },
      {
        "duration": 0,
        "start_time": "2022-08-07T05:39:28.543Z"
      },
      {
        "duration": 0,
        "start_time": "2022-08-07T05:39:28.544Z"
      },
      {
        "duration": 0,
        "start_time": "2022-08-07T05:39:28.545Z"
      },
      {
        "duration": 3,
        "start_time": "2022-08-07T05:39:56.777Z"
      },
      {
        "duration": 7,
        "start_time": "2022-08-07T05:39:59.039Z"
      },
      {
        "duration": 546,
        "start_time": "2022-08-07T05:40:16.154Z"
      },
      {
        "duration": 37,
        "start_time": "2022-08-07T05:40:16.702Z"
      },
      {
        "duration": 3,
        "start_time": "2022-08-07T05:40:16.740Z"
      },
      {
        "duration": 6,
        "start_time": "2022-08-07T05:40:16.745Z"
      },
      {
        "duration": 80,
        "start_time": "2022-08-07T05:40:16.753Z"
      },
      {
        "duration": 0,
        "start_time": "2022-08-07T05:40:16.835Z"
      },
      {
        "duration": 0,
        "start_time": "2022-08-07T05:40:16.836Z"
      },
      {
        "duration": 0,
        "start_time": "2022-08-07T05:40:16.837Z"
      },
      {
        "duration": 0,
        "start_time": "2022-08-07T05:40:16.838Z"
      },
      {
        "duration": 0,
        "start_time": "2022-08-07T05:40:16.839Z"
      },
      {
        "duration": 0,
        "start_time": "2022-08-07T05:40:16.840Z"
      },
      {
        "duration": 0,
        "start_time": "2022-08-07T05:40:16.841Z"
      },
      {
        "duration": 0,
        "start_time": "2022-08-07T05:40:16.841Z"
      },
      {
        "duration": 0,
        "start_time": "2022-08-07T05:40:16.842Z"
      },
      {
        "duration": 0,
        "start_time": "2022-08-07T05:40:16.843Z"
      },
      {
        "duration": 0,
        "start_time": "2022-08-07T05:40:16.844Z"
      },
      {
        "duration": 0,
        "start_time": "2022-08-07T05:40:16.845Z"
      },
      {
        "duration": 0,
        "start_time": "2022-08-07T05:40:16.846Z"
      },
      {
        "duration": 0,
        "start_time": "2022-08-07T05:40:16.847Z"
      },
      {
        "duration": 0,
        "start_time": "2022-08-07T05:40:16.847Z"
      },
      {
        "duration": 0,
        "start_time": "2022-08-07T05:40:16.848Z"
      },
      {
        "duration": 0,
        "start_time": "2022-08-07T05:40:16.849Z"
      },
      {
        "duration": 0,
        "start_time": "2022-08-07T05:40:16.850Z"
      },
      {
        "duration": 0,
        "start_time": "2022-08-07T05:40:16.851Z"
      },
      {
        "duration": 0,
        "start_time": "2022-08-07T05:40:16.852Z"
      },
      {
        "duration": 0,
        "start_time": "2022-08-07T05:40:16.853Z"
      },
      {
        "duration": 0,
        "start_time": "2022-08-07T05:40:16.853Z"
      },
      {
        "duration": 0,
        "start_time": "2022-08-07T05:40:16.854Z"
      },
      {
        "duration": 0,
        "start_time": "2022-08-07T05:40:16.855Z"
      },
      {
        "duration": 0,
        "start_time": "2022-08-07T05:40:16.856Z"
      },
      {
        "duration": 0,
        "start_time": "2022-08-07T05:40:16.857Z"
      },
      {
        "duration": 16,
        "start_time": "2022-08-07T05:40:57.039Z"
      },
      {
        "duration": 3,
        "start_time": "2022-08-07T05:41:22.957Z"
      },
      {
        "duration": 2,
        "start_time": "2022-08-07T05:41:26.358Z"
      },
      {
        "duration": 4,
        "start_time": "2022-08-07T05:41:55.198Z"
      },
      {
        "duration": 39,
        "start_time": "2022-08-07T05:41:55.205Z"
      },
      {
        "duration": 3,
        "start_time": "2022-08-07T05:42:02.480Z"
      },
      {
        "duration": 13,
        "start_time": "2022-08-07T05:42:06.486Z"
      },
      {
        "duration": 606,
        "start_time": "2022-08-07T05:42:36.920Z"
      },
      {
        "duration": 34,
        "start_time": "2022-08-07T05:42:37.528Z"
      },
      {
        "duration": 14,
        "start_time": "2022-08-07T05:42:37.564Z"
      },
      {
        "duration": 13,
        "start_time": "2022-08-07T05:42:37.580Z"
      },
      {
        "duration": 19,
        "start_time": "2022-08-07T05:42:37.595Z"
      },
      {
        "duration": 16,
        "start_time": "2022-08-07T05:42:37.616Z"
      },
      {
        "duration": 31,
        "start_time": "2022-08-07T05:42:37.633Z"
      },
      {
        "duration": 7,
        "start_time": "2022-08-07T05:42:37.666Z"
      },
      {
        "duration": 188,
        "start_time": "2022-08-07T05:42:37.674Z"
      },
      {
        "duration": 111,
        "start_time": "2022-08-07T05:42:37.864Z"
      },
      {
        "duration": 112,
        "start_time": "2022-08-07T05:42:37.977Z"
      },
      {
        "duration": 64,
        "start_time": "2022-08-07T05:42:38.090Z"
      },
      {
        "duration": 0,
        "start_time": "2022-08-07T05:42:38.157Z"
      },
      {
        "duration": 0,
        "start_time": "2022-08-07T05:42:38.158Z"
      },
      {
        "duration": 0,
        "start_time": "2022-08-07T05:42:38.159Z"
      },
      {
        "duration": 0,
        "start_time": "2022-08-07T05:42:38.161Z"
      },
      {
        "duration": 0,
        "start_time": "2022-08-07T05:42:38.162Z"
      },
      {
        "duration": 0,
        "start_time": "2022-08-07T05:42:38.163Z"
      },
      {
        "duration": 0,
        "start_time": "2022-08-07T05:42:38.164Z"
      },
      {
        "duration": 0,
        "start_time": "2022-08-07T05:42:38.165Z"
      },
      {
        "duration": 0,
        "start_time": "2022-08-07T05:42:38.166Z"
      },
      {
        "duration": 0,
        "start_time": "2022-08-07T05:42:38.167Z"
      },
      {
        "duration": 0,
        "start_time": "2022-08-07T05:42:38.168Z"
      },
      {
        "duration": 0,
        "start_time": "2022-08-07T05:42:38.169Z"
      },
      {
        "duration": 1,
        "start_time": "2022-08-07T05:42:38.170Z"
      },
      {
        "duration": 0,
        "start_time": "2022-08-07T05:42:38.172Z"
      },
      {
        "duration": 0,
        "start_time": "2022-08-07T05:42:38.173Z"
      },
      {
        "duration": 0,
        "start_time": "2022-08-07T05:42:38.174Z"
      },
      {
        "duration": 0,
        "start_time": "2022-08-07T05:42:38.175Z"
      },
      {
        "duration": 0,
        "start_time": "2022-08-07T05:42:38.176Z"
      },
      {
        "duration": 0,
        "start_time": "2022-08-07T05:42:38.177Z"
      },
      {
        "duration": 50,
        "start_time": "2022-08-07T05:43:04.889Z"
      },
      {
        "duration": 15,
        "start_time": "2022-08-07T05:43:08.016Z"
      },
      {
        "duration": 9,
        "start_time": "2022-08-07T05:43:13.985Z"
      },
      {
        "duration": 142,
        "start_time": "2022-08-07T05:43:18.710Z"
      },
      {
        "duration": 639,
        "start_time": "2022-08-07T05:43:26.072Z"
      },
      {
        "duration": 36,
        "start_time": "2022-08-07T05:43:26.713Z"
      },
      {
        "duration": 13,
        "start_time": "2022-08-07T05:43:26.750Z"
      },
      {
        "duration": 6,
        "start_time": "2022-08-07T05:43:26.764Z"
      },
      {
        "duration": 9,
        "start_time": "2022-08-07T05:43:26.771Z"
      },
      {
        "duration": 14,
        "start_time": "2022-08-07T05:43:26.781Z"
      },
      {
        "duration": 36,
        "start_time": "2022-08-07T05:43:26.796Z"
      },
      {
        "duration": 3,
        "start_time": "2022-08-07T05:43:26.833Z"
      },
      {
        "duration": 196,
        "start_time": "2022-08-07T05:43:26.838Z"
      },
      {
        "duration": 111,
        "start_time": "2022-08-07T05:43:27.035Z"
      },
      {
        "duration": 116,
        "start_time": "2022-08-07T05:43:27.147Z"
      },
      {
        "duration": 12,
        "start_time": "2022-08-07T05:43:27.264Z"
      },
      {
        "duration": 170,
        "start_time": "2022-08-07T05:43:27.278Z"
      },
      {
        "duration": 171,
        "start_time": "2022-08-07T05:43:27.451Z"
      },
      {
        "duration": 4,
        "start_time": "2022-08-07T05:43:27.625Z"
      },
      {
        "duration": 164,
        "start_time": "2022-08-07T05:43:27.631Z"
      },
      {
        "duration": 86,
        "start_time": "2022-08-07T05:43:27.799Z"
      },
      {
        "duration": 16,
        "start_time": "2022-08-07T05:43:27.886Z"
      },
      {
        "duration": 212,
        "start_time": "2022-08-07T05:43:27.905Z"
      },
      {
        "duration": 105,
        "start_time": "2022-08-07T05:43:28.118Z"
      },
      {
        "duration": 113,
        "start_time": "2022-08-07T05:43:28.225Z"
      },
      {
        "duration": 9,
        "start_time": "2022-08-07T05:43:28.339Z"
      },
      {
        "duration": 9,
        "start_time": "2022-08-07T05:43:28.350Z"
      },
      {
        "duration": 5,
        "start_time": "2022-08-07T05:43:28.361Z"
      },
      {
        "duration": 5,
        "start_time": "2022-08-07T05:43:28.367Z"
      },
      {
        "duration": 7,
        "start_time": "2022-08-07T05:43:28.373Z"
      },
      {
        "duration": 25,
        "start_time": "2022-08-07T05:43:28.381Z"
      },
      {
        "duration": 14,
        "start_time": "2022-08-07T05:43:28.408Z"
      },
      {
        "duration": 172,
        "start_time": "2022-08-07T05:43:28.424Z"
      },
      {
        "duration": 14,
        "start_time": "2022-08-07T05:43:28.600Z"
      },
      {
        "duration": 111,
        "start_time": "2022-08-07T05:44:07.529Z"
      },
      {
        "duration": 632,
        "start_time": "2022-08-07T05:44:15.601Z"
      },
      {
        "duration": 35,
        "start_time": "2022-08-07T05:44:16.235Z"
      },
      {
        "duration": 13,
        "start_time": "2022-08-07T05:44:16.271Z"
      },
      {
        "duration": 6,
        "start_time": "2022-08-07T05:44:16.286Z"
      },
      {
        "duration": 5,
        "start_time": "2022-08-07T05:44:16.293Z"
      },
      {
        "duration": 19,
        "start_time": "2022-08-07T05:44:16.300Z"
      },
      {
        "duration": 25,
        "start_time": "2022-08-07T05:44:16.322Z"
      },
      {
        "duration": 3,
        "start_time": "2022-08-07T05:44:16.349Z"
      },
      {
        "duration": 193,
        "start_time": "2022-08-07T05:44:16.353Z"
      },
      {
        "duration": 117,
        "start_time": "2022-08-07T05:44:16.548Z"
      },
      {
        "duration": 116,
        "start_time": "2022-08-07T05:44:16.667Z"
      },
      {
        "duration": 36,
        "start_time": "2022-08-07T05:44:16.785Z"
      },
      {
        "duration": 169,
        "start_time": "2022-08-07T05:44:16.823Z"
      },
      {
        "duration": 164,
        "start_time": "2022-08-07T05:44:17.000Z"
      },
      {
        "duration": 5,
        "start_time": "2022-08-07T05:44:17.165Z"
      },
      {
        "duration": 192,
        "start_time": "2022-08-07T05:44:17.171Z"
      },
      {
        "duration": 103,
        "start_time": "2022-08-07T05:44:17.365Z"
      },
      {
        "duration": 5,
        "start_time": "2022-08-07T05:44:17.469Z"
      },
      {
        "duration": 207,
        "start_time": "2022-08-07T05:44:17.476Z"
      },
      {
        "duration": 115,
        "start_time": "2022-08-07T05:44:17.685Z"
      },
      {
        "duration": 102,
        "start_time": "2022-08-07T05:44:17.802Z"
      },
      {
        "duration": 11,
        "start_time": "2022-08-07T05:44:17.906Z"
      },
      {
        "duration": 15,
        "start_time": "2022-08-07T05:44:17.919Z"
      },
      {
        "duration": 5,
        "start_time": "2022-08-07T05:44:17.936Z"
      },
      {
        "duration": 7,
        "start_time": "2022-08-07T05:44:17.942Z"
      },
      {
        "duration": 8,
        "start_time": "2022-08-07T05:44:17.951Z"
      },
      {
        "duration": 5,
        "start_time": "2022-08-07T05:44:17.961Z"
      },
      {
        "duration": 38,
        "start_time": "2022-08-07T05:44:17.969Z"
      },
      {
        "duration": 117,
        "start_time": "2022-08-07T05:44:18.010Z"
      },
      {
        "duration": 5,
        "start_time": "2022-08-07T05:44:18.129Z"
      },
      {
        "duration": 92,
        "start_time": "2022-08-07T05:45:37.773Z"
      },
      {
        "duration": 5,
        "start_time": "2022-08-07T05:45:41.788Z"
      },
      {
        "duration": 5,
        "start_time": "2022-08-07T05:45:55.006Z"
      },
      {
        "duration": 4,
        "start_time": "2022-08-07T05:46:20.082Z"
      },
      {
        "duration": 11,
        "start_time": "2022-08-07T05:46:27.934Z"
      },
      {
        "duration": 7,
        "start_time": "2022-08-07T05:46:38.008Z"
      },
      {
        "duration": 4,
        "start_time": "2022-08-07T05:47:04.637Z"
      },
      {
        "duration": 16,
        "start_time": "2022-08-07T05:47:32.056Z"
      },
      {
        "duration": 7,
        "start_time": "2022-08-07T05:49:13.302Z"
      },
      {
        "duration": 4,
        "start_time": "2022-08-07T05:49:30.396Z"
      },
      {
        "duration": 5,
        "start_time": "2022-08-07T05:49:38.396Z"
      },
      {
        "duration": 4,
        "start_time": "2022-08-07T05:49:48.351Z"
      },
      {
        "duration": 3,
        "start_time": "2022-08-07T05:49:51.134Z"
      },
      {
        "duration": 5,
        "start_time": "2022-08-07T05:50:01.522Z"
      },
      {
        "duration": 5,
        "start_time": "2022-08-07T05:50:18.269Z"
      },
      {
        "duration": 14,
        "start_time": "2022-08-07T05:51:34.454Z"
      },
      {
        "duration": 5,
        "start_time": "2022-08-07T05:52:44.888Z"
      },
      {
        "duration": 9,
        "start_time": "2022-08-07T05:53:05.804Z"
      },
      {
        "duration": 4,
        "start_time": "2022-08-07T05:53:13.662Z"
      },
      {
        "duration": 4,
        "start_time": "2022-08-07T05:53:49.281Z"
      },
      {
        "duration": 4,
        "start_time": "2022-08-07T05:54:10.594Z"
      },
      {
        "duration": 5,
        "start_time": "2022-08-07T05:54:48.934Z"
      },
      {
        "duration": 14,
        "start_time": "2022-08-07T05:55:17.236Z"
      },
      {
        "duration": 6,
        "start_time": "2022-08-07T05:55:40.923Z"
      },
      {
        "duration": 3,
        "start_time": "2022-08-07T05:55:49.047Z"
      },
      {
        "duration": 4,
        "start_time": "2022-08-07T05:55:59.379Z"
      },
      {
        "duration": 4,
        "start_time": "2022-08-07T05:56:01.591Z"
      },
      {
        "duration": 4,
        "start_time": "2022-08-07T05:56:07.769Z"
      },
      {
        "duration": 581,
        "start_time": "2022-08-07T05:56:25.817Z"
      },
      {
        "duration": 34,
        "start_time": "2022-08-07T05:56:26.400Z"
      },
      {
        "duration": 13,
        "start_time": "2022-08-07T05:56:26.436Z"
      },
      {
        "duration": 5,
        "start_time": "2022-08-07T05:56:26.450Z"
      },
      {
        "duration": 7,
        "start_time": "2022-08-07T05:56:26.457Z"
      },
      {
        "duration": 8,
        "start_time": "2022-08-07T05:56:26.465Z"
      },
      {
        "duration": 28,
        "start_time": "2022-08-07T05:56:26.475Z"
      },
      {
        "duration": 3,
        "start_time": "2022-08-07T05:56:26.505Z"
      },
      {
        "duration": 168,
        "start_time": "2022-08-07T05:56:26.509Z"
      },
      {
        "duration": 91,
        "start_time": "2022-08-07T05:56:26.678Z"
      },
      {
        "duration": 98,
        "start_time": "2022-08-07T05:56:26.771Z"
      },
      {
        "duration": 6,
        "start_time": "2022-08-07T05:56:26.870Z"
      },
      {
        "duration": 151,
        "start_time": "2022-08-07T05:56:26.878Z"
      },
      {
        "duration": 148,
        "start_time": "2022-08-07T05:56:27.032Z"
      },
      {
        "duration": 3,
        "start_time": "2022-08-07T05:56:27.182Z"
      },
      {
        "duration": 3,
        "start_time": "2022-08-07T05:56:27.200Z"
      },
      {
        "duration": 5,
        "start_time": "2022-08-07T05:56:27.205Z"
      },
      {
        "duration": 15,
        "start_time": "2022-08-07T05:56:27.211Z"
      },
      {
        "duration": 161,
        "start_time": "2022-08-07T05:56:27.227Z"
      },
      {
        "duration": 80,
        "start_time": "2022-08-07T05:56:27.389Z"
      },
      {
        "duration": 4,
        "start_time": "2022-08-07T05:56:27.471Z"
      },
      {
        "duration": 184,
        "start_time": "2022-08-07T05:56:27.476Z"
      },
      {
        "duration": 101,
        "start_time": "2022-08-07T05:56:27.662Z"
      },
      {
        "duration": 94,
        "start_time": "2022-08-07T05:56:27.765Z"
      },
      {
        "duration": 3,
        "start_time": "2022-08-07T05:56:27.861Z"
      },
      {
        "duration": 6,
        "start_time": "2022-08-07T05:56:27.865Z"
      },
      {
        "duration": 6,
        "start_time": "2022-08-07T05:56:27.872Z"
      },
      {
        "duration": 5,
        "start_time": "2022-08-07T05:56:27.880Z"
      },
      {
        "duration": 2,
        "start_time": "2022-08-07T05:56:27.900Z"
      },
      {
        "duration": 5,
        "start_time": "2022-08-07T05:56:27.904Z"
      },
      {
        "duration": 7,
        "start_time": "2022-08-07T05:56:27.910Z"
      },
      {
        "duration": 6,
        "start_time": "2022-08-07T05:56:27.918Z"
      },
      {
        "duration": 14,
        "start_time": "2022-08-07T05:56:27.925Z"
      },
      {
        "duration": 109,
        "start_time": "2022-08-07T05:56:27.940Z"
      },
      {
        "duration": 5,
        "start_time": "2022-08-07T05:56:28.050Z"
      },
      {
        "duration": 6,
        "start_time": "2022-08-07T05:57:26.901Z"
      },
      {
        "duration": 609,
        "start_time": "2022-08-07T05:57:40.281Z"
      },
      {
        "duration": 34,
        "start_time": "2022-08-07T05:57:40.892Z"
      },
      {
        "duration": 13,
        "start_time": "2022-08-07T05:57:40.928Z"
      },
      {
        "duration": 7,
        "start_time": "2022-08-07T05:57:40.943Z"
      },
      {
        "duration": 11,
        "start_time": "2022-08-07T05:57:40.951Z"
      },
      {
        "duration": 12,
        "start_time": "2022-08-07T05:57:40.963Z"
      },
      {
        "duration": 43,
        "start_time": "2022-08-07T05:57:40.976Z"
      },
      {
        "duration": 4,
        "start_time": "2022-08-07T05:57:41.021Z"
      },
      {
        "duration": 176,
        "start_time": "2022-08-07T05:57:41.026Z"
      },
      {
        "duration": 100,
        "start_time": "2022-08-07T05:57:41.206Z"
      },
      {
        "duration": 96,
        "start_time": "2022-08-07T05:57:41.307Z"
      },
      {
        "duration": 6,
        "start_time": "2022-08-07T05:57:41.405Z"
      },
      {
        "duration": 193,
        "start_time": "2022-08-07T05:57:41.412Z"
      },
      {
        "duration": 145,
        "start_time": "2022-08-07T05:57:41.606Z"
      },
      {
        "duration": 4,
        "start_time": "2022-08-07T05:57:41.752Z"
      },
      {
        "duration": 5,
        "start_time": "2022-08-07T05:57:41.757Z"
      },
      {
        "duration": 5,
        "start_time": "2022-08-07T05:57:41.763Z"
      },
      {
        "duration": 18,
        "start_time": "2022-08-07T05:57:41.769Z"
      },
      {
        "duration": 165,
        "start_time": "2022-08-07T05:57:41.800Z"
      },
      {
        "duration": 90,
        "start_time": "2022-08-07T05:57:41.967Z"
      },
      {
        "duration": 3,
        "start_time": "2022-08-07T05:57:42.058Z"
      },
      {
        "duration": 177,
        "start_time": "2022-08-07T05:57:42.062Z"
      },
      {
        "duration": 99,
        "start_time": "2022-08-07T05:57:42.240Z"
      },
      {
        "duration": 98,
        "start_time": "2022-08-07T05:57:42.340Z"
      },
      {
        "duration": 4,
        "start_time": "2022-08-07T05:57:42.439Z"
      },
      {
        "duration": 8,
        "start_time": "2022-08-07T05:57:42.445Z"
      },
      {
        "duration": 7,
        "start_time": "2022-08-07T05:57:42.454Z"
      },
      {
        "duration": 6,
        "start_time": "2022-08-07T05:57:42.464Z"
      },
      {
        "duration": 7,
        "start_time": "2022-08-07T05:57:42.472Z"
      },
      {
        "duration": 6,
        "start_time": "2022-08-07T05:57:42.480Z"
      },
      {
        "duration": 7,
        "start_time": "2022-08-07T05:57:42.500Z"
      },
      {
        "duration": 11,
        "start_time": "2022-08-07T05:57:42.508Z"
      },
      {
        "duration": 12,
        "start_time": "2022-08-07T05:57:42.520Z"
      },
      {
        "duration": 112,
        "start_time": "2022-08-07T05:57:42.534Z"
      },
      {
        "duration": 5,
        "start_time": "2022-08-07T05:57:42.648Z"
      },
      {
        "duration": 5,
        "start_time": "2022-08-07T05:58:19.340Z"
      },
      {
        "duration": 565,
        "start_time": "2022-08-07T05:58:30.251Z"
      },
      {
        "duration": 35,
        "start_time": "2022-08-07T05:58:30.818Z"
      },
      {
        "duration": 14,
        "start_time": "2022-08-07T05:58:30.855Z"
      },
      {
        "duration": 21,
        "start_time": "2022-08-07T05:58:30.871Z"
      },
      {
        "duration": 17,
        "start_time": "2022-08-07T05:58:30.894Z"
      },
      {
        "duration": 23,
        "start_time": "2022-08-07T05:58:30.912Z"
      },
      {
        "duration": 31,
        "start_time": "2022-08-07T05:58:30.937Z"
      },
      {
        "duration": 4,
        "start_time": "2022-08-07T05:58:30.970Z"
      },
      {
        "duration": 194,
        "start_time": "2022-08-07T05:58:30.976Z"
      },
      {
        "duration": 96,
        "start_time": "2022-08-07T05:58:31.173Z"
      },
      {
        "duration": 103,
        "start_time": "2022-08-07T05:58:31.271Z"
      },
      {
        "duration": 5,
        "start_time": "2022-08-07T05:58:31.376Z"
      },
      {
        "duration": 188,
        "start_time": "2022-08-07T05:58:31.382Z"
      },
      {
        "duration": 151,
        "start_time": "2022-08-07T05:58:31.573Z"
      },
      {
        "duration": 4,
        "start_time": "2022-08-07T05:58:31.726Z"
      },
      {
        "duration": 24,
        "start_time": "2022-08-07T05:58:31.732Z"
      },
      {
        "duration": 8,
        "start_time": "2022-08-07T05:58:31.757Z"
      },
      {
        "duration": 19,
        "start_time": "2022-08-07T05:58:31.767Z"
      },
      {
        "duration": 155,
        "start_time": "2022-08-07T05:58:31.788Z"
      },
      {
        "duration": 86,
        "start_time": "2022-08-07T05:58:31.945Z"
      },
      {
        "duration": 4,
        "start_time": "2022-08-07T05:58:32.033Z"
      },
      {
        "duration": 197,
        "start_time": "2022-08-07T05:58:32.038Z"
      },
      {
        "duration": 105,
        "start_time": "2022-08-07T05:58:32.237Z"
      },
      {
        "duration": 102,
        "start_time": "2022-08-07T05:58:32.343Z"
      },
      {
        "duration": 4,
        "start_time": "2022-08-07T05:58:32.447Z"
      },
      {
        "duration": 16,
        "start_time": "2022-08-07T05:58:32.452Z"
      },
      {
        "duration": 15,
        "start_time": "2022-08-07T05:58:32.470Z"
      },
      {
        "duration": 7,
        "start_time": "2022-08-07T05:58:32.488Z"
      },
      {
        "duration": 8,
        "start_time": "2022-08-07T05:58:32.497Z"
      },
      {
        "duration": 6,
        "start_time": "2022-08-07T05:58:32.507Z"
      },
      {
        "duration": 7,
        "start_time": "2022-08-07T05:58:32.514Z"
      },
      {
        "duration": 8,
        "start_time": "2022-08-07T05:58:32.523Z"
      },
      {
        "duration": 12,
        "start_time": "2022-08-07T05:58:32.533Z"
      },
      {
        "duration": 106,
        "start_time": "2022-08-07T05:58:32.547Z"
      },
      {
        "duration": 5,
        "start_time": "2022-08-07T05:58:32.655Z"
      },
      {
        "duration": 4,
        "start_time": "2022-08-07T05:58:59.978Z"
      },
      {
        "duration": 589,
        "start_time": "2022-08-07T05:59:07.115Z"
      },
      {
        "duration": 34,
        "start_time": "2022-08-07T05:59:07.706Z"
      },
      {
        "duration": 12,
        "start_time": "2022-08-07T05:59:07.741Z"
      },
      {
        "duration": 6,
        "start_time": "2022-08-07T05:59:07.756Z"
      },
      {
        "duration": 8,
        "start_time": "2022-08-07T05:59:07.764Z"
      },
      {
        "duration": 9,
        "start_time": "2022-08-07T05:59:07.773Z"
      },
      {
        "duration": 27,
        "start_time": "2022-08-07T05:59:07.783Z"
      },
      {
        "duration": 4,
        "start_time": "2022-08-07T05:59:07.812Z"
      },
      {
        "duration": 173,
        "start_time": "2022-08-07T05:59:07.817Z"
      },
      {
        "duration": 91,
        "start_time": "2022-08-07T05:59:07.993Z"
      },
      {
        "duration": 103,
        "start_time": "2022-08-07T05:59:08.086Z"
      },
      {
        "duration": 6,
        "start_time": "2022-08-07T05:59:08.200Z"
      },
      {
        "duration": 148,
        "start_time": "2022-08-07T05:59:08.207Z"
      },
      {
        "duration": 148,
        "start_time": "2022-08-07T05:59:08.356Z"
      },
      {
        "duration": 4,
        "start_time": "2022-08-07T05:59:08.505Z"
      },
      {
        "duration": 6,
        "start_time": "2022-08-07T05:59:08.511Z"
      },
      {
        "duration": 5,
        "start_time": "2022-08-07T05:59:08.518Z"
      },
      {
        "duration": 14,
        "start_time": "2022-08-07T05:59:08.524Z"
      },
      {
        "duration": 171,
        "start_time": "2022-08-07T05:59:08.539Z"
      },
      {
        "duration": 71,
        "start_time": "2022-08-07T05:59:08.712Z"
      },
      {
        "duration": 15,
        "start_time": "2022-08-07T05:59:08.785Z"
      },
      {
        "duration": 181,
        "start_time": "2022-08-07T05:59:08.802Z"
      },
      {
        "duration": 103,
        "start_time": "2022-08-07T05:59:08.984Z"
      },
      {
        "duration": 101,
        "start_time": "2022-08-07T05:59:09.089Z"
      },
      {
        "duration": 4,
        "start_time": "2022-08-07T05:59:09.199Z"
      },
      {
        "duration": 6,
        "start_time": "2022-08-07T05:59:09.205Z"
      },
      {
        "duration": 6,
        "start_time": "2022-08-07T05:59:09.213Z"
      },
      {
        "duration": 9,
        "start_time": "2022-08-07T05:59:09.222Z"
      },
      {
        "duration": 10,
        "start_time": "2022-08-07T05:59:09.232Z"
      },
      {
        "duration": 7,
        "start_time": "2022-08-07T05:59:09.243Z"
      },
      {
        "duration": 8,
        "start_time": "2022-08-07T05:59:09.252Z"
      },
      {
        "duration": 8,
        "start_time": "2022-08-07T05:59:09.261Z"
      },
      {
        "duration": 30,
        "start_time": "2022-08-07T05:59:09.270Z"
      },
      {
        "duration": 91,
        "start_time": "2022-08-07T05:59:09.302Z"
      },
      {
        "duration": 5,
        "start_time": "2022-08-07T05:59:09.399Z"
      },
      {
        "duration": 590,
        "start_time": "2022-08-07T06:00:14.011Z"
      },
      {
        "duration": 34,
        "start_time": "2022-08-07T06:00:14.603Z"
      },
      {
        "duration": 12,
        "start_time": "2022-08-07T06:00:14.639Z"
      },
      {
        "duration": 5,
        "start_time": "2022-08-07T06:00:14.652Z"
      },
      {
        "duration": 7,
        "start_time": "2022-08-07T06:00:14.659Z"
      },
      {
        "duration": 10,
        "start_time": "2022-08-07T06:00:14.667Z"
      },
      {
        "duration": 26,
        "start_time": "2022-08-07T06:00:14.679Z"
      },
      {
        "duration": 3,
        "start_time": "2022-08-07T06:00:14.707Z"
      },
      {
        "duration": 174,
        "start_time": "2022-08-07T06:00:14.711Z"
      },
      {
        "duration": 94,
        "start_time": "2022-08-07T06:00:14.886Z"
      },
      {
        "duration": 108,
        "start_time": "2022-08-07T06:00:14.982Z"
      },
      {
        "duration": 13,
        "start_time": "2022-08-07T06:00:15.091Z"
      },
      {
        "duration": 141,
        "start_time": "2022-08-07T06:00:15.105Z"
      },
      {
        "duration": 141,
        "start_time": "2022-08-07T06:00:15.249Z"
      },
      {
        "duration": 4,
        "start_time": "2022-08-07T06:00:15.399Z"
      },
      {
        "duration": 8,
        "start_time": "2022-08-07T06:00:15.404Z"
      },
      {
        "duration": 5,
        "start_time": "2022-08-07T06:00:15.413Z"
      },
      {
        "duration": 16,
        "start_time": "2022-08-07T06:00:15.419Z"
      },
      {
        "duration": 165,
        "start_time": "2022-08-07T06:00:15.436Z"
      },
      {
        "duration": 73,
        "start_time": "2022-08-07T06:00:15.603Z"
      },
      {
        "duration": 4,
        "start_time": "2022-08-07T06:00:15.678Z"
      },
      {
        "duration": 4,
        "start_time": "2022-08-07T06:00:15.699Z"
      },
      {
        "duration": 172,
        "start_time": "2022-08-07T06:00:15.704Z"
      },
      {
        "duration": 94,
        "start_time": "2022-08-07T06:00:15.878Z"
      },
      {
        "duration": 107,
        "start_time": "2022-08-07T06:00:15.974Z"
      },
      {
        "duration": 3,
        "start_time": "2022-08-07T06:00:16.083Z"
      },
      {
        "duration": 16,
        "start_time": "2022-08-07T06:00:16.087Z"
      },
      {
        "duration": 37,
        "start_time": "2022-08-07T06:00:16.104Z"
      },
      {
        "duration": 16,
        "start_time": "2022-08-07T06:00:16.142Z"
      },
      {
        "duration": 28,
        "start_time": "2022-08-07T06:00:16.160Z"
      },
      {
        "duration": 9,
        "start_time": "2022-08-07T06:00:16.190Z"
      },
      {
        "duration": 28,
        "start_time": "2022-08-07T06:00:16.201Z"
      },
      {
        "duration": 22,
        "start_time": "2022-08-07T06:00:16.231Z"
      },
      {
        "duration": 45,
        "start_time": "2022-08-07T06:00:16.255Z"
      },
      {
        "duration": 103,
        "start_time": "2022-08-07T06:00:16.301Z"
      },
      {
        "duration": 5,
        "start_time": "2022-08-07T06:00:16.406Z"
      },
      {
        "duration": 598,
        "start_time": "2022-08-07T06:03:03.340Z"
      },
      {
        "duration": 36,
        "start_time": "2022-08-07T06:03:03.940Z"
      },
      {
        "duration": 12,
        "start_time": "2022-08-07T06:03:03.978Z"
      },
      {
        "duration": 32,
        "start_time": "2022-08-07T06:03:03.992Z"
      },
      {
        "duration": 20,
        "start_time": "2022-08-07T06:03:04.026Z"
      },
      {
        "duration": 31,
        "start_time": "2022-08-07T06:03:04.048Z"
      },
      {
        "duration": 33,
        "start_time": "2022-08-07T06:03:04.081Z"
      },
      {
        "duration": 4,
        "start_time": "2022-08-07T06:03:04.117Z"
      },
      {
        "duration": 224,
        "start_time": "2022-08-07T06:03:04.123Z"
      },
      {
        "duration": 103,
        "start_time": "2022-08-07T06:03:04.350Z"
      },
      {
        "duration": 98,
        "start_time": "2022-08-07T06:03:04.454Z"
      },
      {
        "duration": 6,
        "start_time": "2022-08-07T06:03:04.553Z"
      },
      {
        "duration": 152,
        "start_time": "2022-08-07T06:03:04.560Z"
      },
      {
        "duration": 155,
        "start_time": "2022-08-07T06:03:04.713Z"
      },
      {
        "duration": 3,
        "start_time": "2022-08-07T06:03:04.870Z"
      },
      {
        "duration": 28,
        "start_time": "2022-08-07T06:03:04.874Z"
      },
      {
        "duration": 13,
        "start_time": "2022-08-07T06:03:04.903Z"
      },
      {
        "duration": 36,
        "start_time": "2022-08-07T06:03:04.917Z"
      },
      {
        "duration": 184,
        "start_time": "2022-08-07T06:03:04.955Z"
      },
      {
        "duration": 94,
        "start_time": "2022-08-07T06:03:05.141Z"
      },
      {
        "duration": 5,
        "start_time": "2022-08-07T06:03:05.237Z"
      },
      {
        "duration": 40,
        "start_time": "2022-08-07T06:03:05.243Z"
      },
      {
        "duration": 194,
        "start_time": "2022-08-07T06:03:05.285Z"
      },
      {
        "duration": 93,
        "start_time": "2022-08-07T06:03:05.481Z"
      },
      {
        "duration": 98,
        "start_time": "2022-08-07T06:03:05.576Z"
      },
      {
        "duration": 5,
        "start_time": "2022-08-07T06:03:05.675Z"
      },
      {
        "duration": 27,
        "start_time": "2022-08-07T06:03:05.681Z"
      },
      {
        "duration": 29,
        "start_time": "2022-08-07T06:03:05.711Z"
      },
      {
        "duration": 26,
        "start_time": "2022-08-07T06:03:05.741Z"
      },
      {
        "duration": 41,
        "start_time": "2022-08-07T06:03:05.769Z"
      },
      {
        "duration": 35,
        "start_time": "2022-08-07T06:03:05.812Z"
      },
      {
        "duration": 31,
        "start_time": "2022-08-07T06:03:05.849Z"
      },
      {
        "duration": 39,
        "start_time": "2022-08-07T06:03:05.881Z"
      },
      {
        "duration": 23,
        "start_time": "2022-08-07T06:03:05.922Z"
      },
      {
        "duration": 28,
        "start_time": "2022-08-07T06:03:05.946Z"
      },
      {
        "duration": 40,
        "start_time": "2022-08-07T06:03:05.976Z"
      },
      {
        "duration": 112,
        "start_time": "2022-08-07T06:03:06.018Z"
      },
      {
        "duration": 5,
        "start_time": "2022-08-07T06:03:06.131Z"
      },
      {
        "duration": 598,
        "start_time": "2022-08-07T06:03:45.666Z"
      },
      {
        "duration": 36,
        "start_time": "2022-08-07T06:03:46.266Z"
      },
      {
        "duration": 16,
        "start_time": "2022-08-07T06:03:46.304Z"
      },
      {
        "duration": 15,
        "start_time": "2022-08-07T06:03:46.323Z"
      },
      {
        "duration": 29,
        "start_time": "2022-08-07T06:03:46.340Z"
      },
      {
        "duration": 18,
        "start_time": "2022-08-07T06:03:46.370Z"
      },
      {
        "duration": 47,
        "start_time": "2022-08-07T06:03:46.389Z"
      },
      {
        "duration": 3,
        "start_time": "2022-08-07T06:03:46.437Z"
      },
      {
        "duration": 190,
        "start_time": "2022-08-07T06:03:46.442Z"
      },
      {
        "duration": 107,
        "start_time": "2022-08-07T06:03:46.634Z"
      },
      {
        "duration": 110,
        "start_time": "2022-08-07T06:03:46.743Z"
      },
      {
        "duration": 6,
        "start_time": "2022-08-07T06:03:46.854Z"
      },
      {
        "duration": 173,
        "start_time": "2022-08-07T06:03:46.861Z"
      },
      {
        "duration": 151,
        "start_time": "2022-08-07T06:03:47.036Z"
      },
      {
        "duration": 14,
        "start_time": "2022-08-07T06:03:47.188Z"
      },
      {
        "duration": 18,
        "start_time": "2022-08-07T06:03:47.203Z"
      },
      {
        "duration": 26,
        "start_time": "2022-08-07T06:03:47.223Z"
      },
      {
        "duration": 173,
        "start_time": "2022-08-07T06:03:47.251Z"
      },
      {
        "duration": 89,
        "start_time": "2022-08-07T06:03:47.426Z"
      },
      {
        "duration": 5,
        "start_time": "2022-08-07T06:03:47.517Z"
      },
      {
        "duration": 31,
        "start_time": "2022-08-07T06:03:47.524Z"
      },
      {
        "duration": 190,
        "start_time": "2022-08-07T06:03:47.557Z"
      },
      {
        "duration": 102,
        "start_time": "2022-08-07T06:03:47.748Z"
      },
      {
        "duration": 96,
        "start_time": "2022-08-07T06:03:47.852Z"
      },
      {
        "duration": 4,
        "start_time": "2022-08-07T06:03:47.950Z"
      },
      {
        "duration": 29,
        "start_time": "2022-08-07T06:03:47.956Z"
      },
      {
        "duration": 22,
        "start_time": "2022-08-07T06:03:47.987Z"
      },
      {
        "duration": 29,
        "start_time": "2022-08-07T06:03:48.013Z"
      },
      {
        "duration": 6,
        "start_time": "2022-08-07T06:03:48.044Z"
      },
      {
        "duration": 7,
        "start_time": "2022-08-07T06:03:48.051Z"
      },
      {
        "duration": 7,
        "start_time": "2022-08-07T06:03:48.059Z"
      },
      {
        "duration": 6,
        "start_time": "2022-08-07T06:03:48.067Z"
      },
      {
        "duration": 6,
        "start_time": "2022-08-07T06:03:48.074Z"
      },
      {
        "duration": 7,
        "start_time": "2022-08-07T06:03:48.081Z"
      },
      {
        "duration": 17,
        "start_time": "2022-08-07T06:03:48.089Z"
      },
      {
        "duration": 100,
        "start_time": "2022-08-07T06:03:48.108Z"
      },
      {
        "duration": 6,
        "start_time": "2022-08-07T06:03:48.210Z"
      },
      {
        "duration": 4,
        "start_time": "2022-08-07T06:04:41.772Z"
      },
      {
        "duration": 5,
        "start_time": "2022-08-07T06:04:56.123Z"
      },
      {
        "duration": 1136,
        "start_time": "2022-08-07T06:05:04.176Z"
      },
      {
        "duration": 36,
        "start_time": "2022-08-07T06:05:05.314Z"
      },
      {
        "duration": 13,
        "start_time": "2022-08-07T06:05:05.352Z"
      },
      {
        "duration": 8,
        "start_time": "2022-08-07T06:05:05.367Z"
      },
      {
        "duration": 20,
        "start_time": "2022-08-07T06:05:05.377Z"
      },
      {
        "duration": 12,
        "start_time": "2022-08-07T06:05:05.399Z"
      },
      {
        "duration": 29,
        "start_time": "2022-08-07T06:05:05.412Z"
      },
      {
        "duration": 4,
        "start_time": "2022-08-07T06:05:05.443Z"
      },
      {
        "duration": 174,
        "start_time": "2022-08-07T06:05:05.449Z"
      },
      {
        "duration": 99,
        "start_time": "2022-08-07T06:05:05.624Z"
      },
      {
        "duration": 108,
        "start_time": "2022-08-07T06:05:05.724Z"
      },
      {
        "duration": 7,
        "start_time": "2022-08-07T06:05:05.833Z"
      },
      {
        "duration": 150,
        "start_time": "2022-08-07T06:05:05.842Z"
      },
      {
        "duration": 150,
        "start_time": "2022-08-07T06:05:06.000Z"
      },
      {
        "duration": 3,
        "start_time": "2022-08-07T06:05:06.152Z"
      },
      {
        "duration": 11,
        "start_time": "2022-08-07T06:05:06.157Z"
      },
      {
        "duration": 10,
        "start_time": "2022-08-07T06:05:06.169Z"
      },
      {
        "duration": 157,
        "start_time": "2022-08-07T06:05:06.180Z"
      },
      {
        "duration": 82,
        "start_time": "2022-08-07T06:05:06.338Z"
      },
      {
        "duration": 5,
        "start_time": "2022-08-07T06:05:06.421Z"
      },
      {
        "duration": 6,
        "start_time": "2022-08-07T06:05:06.427Z"
      },
      {
        "duration": 170,
        "start_time": "2022-08-07T06:05:06.434Z"
      },
      {
        "duration": 81,
        "start_time": "2022-08-07T06:05:06.606Z"
      },
      {
        "duration": 96,
        "start_time": "2022-08-07T06:05:06.689Z"
      },
      {
        "duration": 5,
        "start_time": "2022-08-07T06:05:06.799Z"
      },
      {
        "duration": 9,
        "start_time": "2022-08-07T06:05:06.805Z"
      },
      {
        "duration": 10,
        "start_time": "2022-08-07T06:05:06.816Z"
      },
      {
        "duration": 5,
        "start_time": "2022-08-07T06:05:06.828Z"
      },
      {
        "duration": 8,
        "start_time": "2022-08-07T06:05:06.834Z"
      },
      {
        "duration": 5,
        "start_time": "2022-08-07T06:05:06.843Z"
      },
      {
        "duration": 8,
        "start_time": "2022-08-07T06:05:06.849Z"
      },
      {
        "duration": 8,
        "start_time": "2022-08-07T06:05:06.858Z"
      },
      {
        "duration": 6,
        "start_time": "2022-08-07T06:05:06.867Z"
      },
      {
        "duration": 8,
        "start_time": "2022-08-07T06:05:06.874Z"
      },
      {
        "duration": 25,
        "start_time": "2022-08-07T06:05:06.884Z"
      },
      {
        "duration": 107,
        "start_time": "2022-08-07T06:05:06.910Z"
      },
      {
        "duration": 6,
        "start_time": "2022-08-07T06:05:07.019Z"
      },
      {
        "duration": 4,
        "start_time": "2022-08-07T06:07:04.260Z"
      },
      {
        "duration": 4,
        "start_time": "2022-08-07T06:07:10.834Z"
      },
      {
        "duration": 3,
        "start_time": "2022-08-07T06:07:48.610Z"
      },
      {
        "duration": 551,
        "start_time": "2022-08-07T06:07:54.848Z"
      },
      {
        "duration": 33,
        "start_time": "2022-08-07T06:07:55.401Z"
      },
      {
        "duration": 13,
        "start_time": "2022-08-07T06:07:55.435Z"
      },
      {
        "duration": 4,
        "start_time": "2022-08-07T06:07:55.449Z"
      },
      {
        "duration": 5,
        "start_time": "2022-08-07T06:07:55.455Z"
      },
      {
        "duration": 8,
        "start_time": "2022-08-07T06:07:55.461Z"
      },
      {
        "duration": 26,
        "start_time": "2022-08-07T06:07:55.470Z"
      },
      {
        "duration": 6,
        "start_time": "2022-08-07T06:07:55.498Z"
      },
      {
        "duration": 172,
        "start_time": "2022-08-07T06:07:55.506Z"
      },
      {
        "duration": 86,
        "start_time": "2022-08-07T06:07:55.680Z"
      },
      {
        "duration": 101,
        "start_time": "2022-08-07T06:07:55.768Z"
      },
      {
        "duration": 5,
        "start_time": "2022-08-07T06:07:55.871Z"
      },
      {
        "duration": 146,
        "start_time": "2022-08-07T06:07:55.877Z"
      },
      {
        "duration": 135,
        "start_time": "2022-08-07T06:07:56.025Z"
      },
      {
        "duration": 3,
        "start_time": "2022-08-07T06:07:56.161Z"
      },
      {
        "duration": 17,
        "start_time": "2022-08-07T06:07:56.166Z"
      },
      {
        "duration": 25,
        "start_time": "2022-08-07T06:07:56.184Z"
      },
      {
        "duration": 156,
        "start_time": "2022-08-07T06:07:56.210Z"
      },
      {
        "duration": 77,
        "start_time": "2022-08-07T06:07:56.367Z"
      },
      {
        "duration": 5,
        "start_time": "2022-08-07T06:07:56.445Z"
      },
      {
        "duration": 27,
        "start_time": "2022-08-07T06:07:56.451Z"
      },
      {
        "duration": 176,
        "start_time": "2022-08-07T06:07:56.480Z"
      },
      {
        "duration": 90,
        "start_time": "2022-08-07T06:07:56.658Z"
      },
      {
        "duration": 100,
        "start_time": "2022-08-07T06:07:56.750Z"
      },
      {
        "duration": 5,
        "start_time": "2022-08-07T06:07:56.852Z"
      },
      {
        "duration": 11,
        "start_time": "2022-08-07T06:07:56.858Z"
      },
      {
        "duration": 29,
        "start_time": "2022-08-07T06:07:56.870Z"
      },
      {
        "duration": 27,
        "start_time": "2022-08-07T06:07:56.902Z"
      },
      {
        "duration": 25,
        "start_time": "2022-08-07T06:07:56.931Z"
      },
      {
        "duration": 12,
        "start_time": "2022-08-07T06:07:56.958Z"
      },
      {
        "duration": 25,
        "start_time": "2022-08-07T06:07:56.971Z"
      },
      {
        "duration": 17,
        "start_time": "2022-08-07T06:07:56.998Z"
      },
      {
        "duration": 18,
        "start_time": "2022-08-07T06:07:57.017Z"
      },
      {
        "duration": 26,
        "start_time": "2022-08-07T06:07:57.037Z"
      },
      {
        "duration": 102,
        "start_time": "2022-08-07T06:07:57.065Z"
      },
      {
        "duration": 6,
        "start_time": "2022-08-07T06:07:57.168Z"
      },
      {
        "duration": 4,
        "start_time": "2022-08-07T06:09:09.635Z"
      },
      {
        "duration": 554,
        "start_time": "2022-08-07T06:09:54.854Z"
      },
      {
        "duration": 32,
        "start_time": "2022-08-07T06:09:55.410Z"
      },
      {
        "duration": 11,
        "start_time": "2022-08-07T06:09:55.444Z"
      },
      {
        "duration": 4,
        "start_time": "2022-08-07T06:09:55.457Z"
      },
      {
        "duration": 5,
        "start_time": "2022-08-07T06:09:55.462Z"
      },
      {
        "duration": 8,
        "start_time": "2022-08-07T06:09:55.468Z"
      },
      {
        "duration": 22,
        "start_time": "2022-08-07T06:09:55.477Z"
      },
      {
        "duration": 3,
        "start_time": "2022-08-07T06:09:55.501Z"
      },
      {
        "duration": 162,
        "start_time": "2022-08-07T06:09:55.505Z"
      },
      {
        "duration": 89,
        "start_time": "2022-08-07T06:09:55.670Z"
      },
      {
        "duration": 91,
        "start_time": "2022-08-07T06:09:55.760Z"
      },
      {
        "duration": 5,
        "start_time": "2022-08-07T06:09:55.853Z"
      },
      {
        "duration": 140,
        "start_time": "2022-08-07T06:09:55.860Z"
      },
      {
        "duration": 142,
        "start_time": "2022-08-07T06:09:56.001Z"
      },
      {
        "duration": 4,
        "start_time": "2022-08-07T06:09:56.144Z"
      },
      {
        "duration": 10,
        "start_time": "2022-08-07T06:09:56.149Z"
      },
      {
        "duration": 6,
        "start_time": "2022-08-07T06:09:56.160Z"
      },
      {
        "duration": 155,
        "start_time": "2022-08-07T06:09:56.168Z"
      },
      {
        "duration": 80,
        "start_time": "2022-08-07T06:09:56.325Z"
      },
      {
        "duration": 5,
        "start_time": "2022-08-07T06:09:56.406Z"
      },
      {
        "duration": 10,
        "start_time": "2022-08-07T06:09:56.412Z"
      },
      {
        "duration": 177,
        "start_time": "2022-08-07T06:09:56.423Z"
      },
      {
        "duration": 84,
        "start_time": "2022-08-07T06:09:56.601Z"
      },
      {
        "duration": 101,
        "start_time": "2022-08-07T06:09:56.699Z"
      },
      {
        "duration": 5,
        "start_time": "2022-08-07T06:09:56.801Z"
      },
      {
        "duration": 7,
        "start_time": "2022-08-07T06:09:56.807Z"
      },
      {
        "duration": 9,
        "start_time": "2022-08-07T06:09:56.815Z"
      },
      {
        "duration": 8,
        "start_time": "2022-08-07T06:09:56.827Z"
      },
      {
        "duration": 10,
        "start_time": "2022-08-07T06:09:56.836Z"
      },
      {
        "duration": 10,
        "start_time": "2022-08-07T06:09:56.847Z"
      },
      {
        "duration": 10,
        "start_time": "2022-08-07T06:09:56.858Z"
      },
      {
        "duration": 11,
        "start_time": "2022-08-07T06:09:56.870Z"
      },
      {
        "duration": 7,
        "start_time": "2022-08-07T06:09:56.882Z"
      },
      {
        "duration": 11,
        "start_time": "2022-08-07T06:09:56.900Z"
      },
      {
        "duration": 99,
        "start_time": "2022-08-07T06:09:56.912Z"
      },
      {
        "duration": 7,
        "start_time": "2022-08-07T06:09:57.013Z"
      },
      {
        "duration": 547,
        "start_time": "2022-08-07T06:10:30.552Z"
      },
      {
        "duration": 34,
        "start_time": "2022-08-07T06:10:31.101Z"
      },
      {
        "duration": 14,
        "start_time": "2022-08-07T06:10:31.137Z"
      },
      {
        "duration": 7,
        "start_time": "2022-08-07T06:10:31.153Z"
      },
      {
        "duration": 10,
        "start_time": "2022-08-07T06:10:31.162Z"
      },
      {
        "duration": 28,
        "start_time": "2022-08-07T06:10:31.174Z"
      },
      {
        "duration": 30,
        "start_time": "2022-08-07T06:10:31.203Z"
      },
      {
        "duration": 3,
        "start_time": "2022-08-07T06:10:31.234Z"
      },
      {
        "duration": 172,
        "start_time": "2022-08-07T06:10:31.239Z"
      },
      {
        "duration": 122,
        "start_time": "2022-08-07T06:10:31.414Z"
      },
      {
        "duration": 117,
        "start_time": "2022-08-07T06:10:31.538Z"
      },
      {
        "duration": 5,
        "start_time": "2022-08-07T06:10:31.657Z"
      },
      {
        "duration": 36,
        "start_time": "2022-08-07T06:10:31.664Z"
      },
      {
        "duration": 156,
        "start_time": "2022-08-07T06:10:31.701Z"
      },
      {
        "duration": 151,
        "start_time": "2022-08-07T06:10:31.858Z"
      },
      {
        "duration": 4,
        "start_time": "2022-08-07T06:10:32.010Z"
      },
      {
        "duration": 24,
        "start_time": "2022-08-07T06:10:32.015Z"
      },
      {
        "duration": 25,
        "start_time": "2022-08-07T06:10:32.040Z"
      },
      {
        "duration": 176,
        "start_time": "2022-08-07T06:10:32.067Z"
      },
      {
        "duration": 89,
        "start_time": "2022-08-07T06:10:32.245Z"
      },
      {
        "duration": 5,
        "start_time": "2022-08-07T06:10:32.335Z"
      },
      {
        "duration": 27,
        "start_time": "2022-08-07T06:10:32.342Z"
      },
      {
        "duration": 193,
        "start_time": "2022-08-07T06:10:32.370Z"
      },
      {
        "duration": 94,
        "start_time": "2022-08-07T06:10:32.564Z"
      },
      {
        "duration": 106,
        "start_time": "2022-08-07T06:10:32.660Z"
      },
      {
        "duration": 5,
        "start_time": "2022-08-07T06:10:32.767Z"
      },
      {
        "duration": 33,
        "start_time": "2022-08-07T06:10:32.773Z"
      },
      {
        "duration": 28,
        "start_time": "2022-08-07T06:10:32.808Z"
      },
      {
        "duration": 23,
        "start_time": "2022-08-07T06:10:32.837Z"
      },
      {
        "duration": 20,
        "start_time": "2022-08-07T06:10:32.862Z"
      },
      {
        "duration": 18,
        "start_time": "2022-08-07T06:10:32.883Z"
      },
      {
        "duration": 31,
        "start_time": "2022-08-07T06:10:32.902Z"
      },
      {
        "duration": 34,
        "start_time": "2022-08-07T06:10:32.934Z"
      },
      {
        "duration": 25,
        "start_time": "2022-08-07T06:10:32.969Z"
      },
      {
        "duration": 28,
        "start_time": "2022-08-07T06:10:32.996Z"
      },
      {
        "duration": 105,
        "start_time": "2022-08-07T06:10:33.026Z"
      },
      {
        "duration": 5,
        "start_time": "2022-08-07T06:10:33.132Z"
      },
      {
        "duration": 557,
        "start_time": "2022-08-07T06:12:46.114Z"
      },
      {
        "duration": 33,
        "start_time": "2022-08-07T06:12:46.672Z"
      },
      {
        "duration": 13,
        "start_time": "2022-08-07T06:12:46.707Z"
      },
      {
        "duration": 21,
        "start_time": "2022-08-07T06:12:46.722Z"
      },
      {
        "duration": 22,
        "start_time": "2022-08-07T06:12:46.745Z"
      },
      {
        "duration": 16,
        "start_time": "2022-08-07T06:12:46.768Z"
      },
      {
        "duration": 49,
        "start_time": "2022-08-07T06:12:46.786Z"
      },
      {
        "duration": 4,
        "start_time": "2022-08-07T06:12:46.837Z"
      },
      {
        "duration": 175,
        "start_time": "2022-08-07T06:12:46.842Z"
      },
      {
        "duration": 88,
        "start_time": "2022-08-07T06:12:47.020Z"
      },
      {
        "duration": 94,
        "start_time": "2022-08-07T06:12:47.110Z"
      },
      {
        "duration": 5,
        "start_time": "2022-08-07T06:12:47.206Z"
      },
      {
        "duration": 5,
        "start_time": "2022-08-07T06:12:47.213Z"
      },
      {
        "duration": 142,
        "start_time": "2022-08-07T06:12:47.219Z"
      },
      {
        "duration": 150,
        "start_time": "2022-08-07T06:12:47.362Z"
      },
      {
        "duration": 3,
        "start_time": "2022-08-07T06:12:47.513Z"
      },
      {
        "duration": 7,
        "start_time": "2022-08-07T06:12:47.518Z"
      },
      {
        "duration": 6,
        "start_time": "2022-08-07T06:12:47.526Z"
      },
      {
        "duration": 7,
        "start_time": "2022-08-07T06:12:47.533Z"
      },
      {
        "duration": 166,
        "start_time": "2022-08-07T06:12:47.541Z"
      },
      {
        "duration": 70,
        "start_time": "2022-08-07T06:12:47.710Z"
      },
      {
        "duration": 19,
        "start_time": "2022-08-07T06:12:47.782Z"
      },
      {
        "duration": 4,
        "start_time": "2022-08-07T06:12:47.802Z"
      },
      {
        "duration": 179,
        "start_time": "2022-08-07T06:12:47.808Z"
      },
      {
        "duration": 91,
        "start_time": "2022-08-07T06:12:47.989Z"
      },
      {
        "duration": 102,
        "start_time": "2022-08-07T06:12:48.082Z"
      },
      {
        "duration": 16,
        "start_time": "2022-08-07T06:12:48.186Z"
      },
      {
        "duration": 4,
        "start_time": "2022-08-07T06:12:48.206Z"
      },
      {
        "duration": 8,
        "start_time": "2022-08-07T06:12:48.212Z"
      },
      {
        "duration": 5,
        "start_time": "2022-08-07T06:12:48.221Z"
      },
      {
        "duration": 5,
        "start_time": "2022-08-07T06:12:48.228Z"
      },
      {
        "duration": 6,
        "start_time": "2022-08-07T06:12:48.234Z"
      },
      {
        "duration": 5,
        "start_time": "2022-08-07T06:12:48.242Z"
      },
      {
        "duration": 9,
        "start_time": "2022-08-07T06:12:48.248Z"
      },
      {
        "duration": 7,
        "start_time": "2022-08-07T06:12:48.258Z"
      },
      {
        "duration": 41,
        "start_time": "2022-08-07T06:12:48.266Z"
      },
      {
        "duration": 97,
        "start_time": "2022-08-07T06:12:48.309Z"
      },
      {
        "duration": 5,
        "start_time": "2022-08-07T06:12:48.408Z"
      },
      {
        "duration": 605,
        "start_time": "2022-08-07T06:14:21.691Z"
      },
      {
        "duration": 34,
        "start_time": "2022-08-07T06:14:22.298Z"
      },
      {
        "duration": 12,
        "start_time": "2022-08-07T06:14:22.334Z"
      },
      {
        "duration": 9,
        "start_time": "2022-08-07T06:14:22.347Z"
      },
      {
        "duration": 11,
        "start_time": "2022-08-07T06:14:22.358Z"
      },
      {
        "duration": 7,
        "start_time": "2022-08-07T06:14:22.370Z"
      },
      {
        "duration": 22,
        "start_time": "2022-08-07T06:14:22.379Z"
      },
      {
        "duration": 3,
        "start_time": "2022-08-07T06:14:22.403Z"
      },
      {
        "duration": 171,
        "start_time": "2022-08-07T06:14:22.407Z"
      },
      {
        "duration": 88,
        "start_time": "2022-08-07T06:14:22.579Z"
      },
      {
        "duration": 105,
        "start_time": "2022-08-07T06:14:22.669Z"
      },
      {
        "duration": 7,
        "start_time": "2022-08-07T06:14:22.775Z"
      },
      {
        "duration": 19,
        "start_time": "2022-08-07T06:14:22.783Z"
      },
      {
        "duration": 142,
        "start_time": "2022-08-07T06:14:22.804Z"
      },
      {
        "duration": 173,
        "start_time": "2022-08-07T06:14:22.948Z"
      },
      {
        "duration": 3,
        "start_time": "2022-08-07T06:14:23.123Z"
      },
      {
        "duration": 8,
        "start_time": "2022-08-07T06:14:23.128Z"
      },
      {
        "duration": 6,
        "start_time": "2022-08-07T06:14:23.137Z"
      },
      {
        "duration": 8,
        "start_time": "2022-08-07T06:14:23.144Z"
      },
      {
        "duration": 193,
        "start_time": "2022-08-07T06:14:23.153Z"
      },
      {
        "duration": 83,
        "start_time": "2022-08-07T06:14:23.348Z"
      },
      {
        "duration": 5,
        "start_time": "2022-08-07T06:14:23.432Z"
      },
      {
        "duration": 6,
        "start_time": "2022-08-07T06:14:23.438Z"
      },
      {
        "duration": 5,
        "start_time": "2022-08-07T06:14:23.446Z"
      },
      {
        "duration": 179,
        "start_time": "2022-08-07T06:14:23.453Z"
      },
      {
        "duration": 91,
        "start_time": "2022-08-07T06:14:23.634Z"
      },
      {
        "duration": 97,
        "start_time": "2022-08-07T06:14:23.727Z"
      },
      {
        "duration": 6,
        "start_time": "2022-08-07T06:14:23.825Z"
      },
      {
        "duration": 6,
        "start_time": "2022-08-07T06:14:23.832Z"
      },
      {
        "duration": 12,
        "start_time": "2022-08-07T06:14:23.839Z"
      },
      {
        "duration": 6,
        "start_time": "2022-08-07T06:14:23.852Z"
      },
      {
        "duration": 17,
        "start_time": "2022-08-07T06:14:23.860Z"
      },
      {
        "duration": 5,
        "start_time": "2022-08-07T06:14:23.879Z"
      },
      {
        "duration": 15,
        "start_time": "2022-08-07T06:14:23.886Z"
      },
      {
        "duration": 5,
        "start_time": "2022-08-07T06:14:23.902Z"
      },
      {
        "duration": 8,
        "start_time": "2022-08-07T06:14:23.909Z"
      },
      {
        "duration": 16,
        "start_time": "2022-08-07T06:14:23.918Z"
      },
      {
        "duration": 102,
        "start_time": "2022-08-07T06:14:23.936Z"
      },
      {
        "duration": 5,
        "start_time": "2022-08-07T06:14:24.040Z"
      },
      {
        "duration": 617,
        "start_time": "2022-08-07T06:18:33.909Z"
      },
      {
        "duration": 33,
        "start_time": "2022-08-07T06:18:34.527Z"
      },
      {
        "duration": 12,
        "start_time": "2022-08-07T06:18:34.561Z"
      },
      {
        "duration": 8,
        "start_time": "2022-08-07T06:18:34.574Z"
      },
      {
        "duration": 4,
        "start_time": "2022-08-07T06:18:34.584Z"
      },
      {
        "duration": 7,
        "start_time": "2022-08-07T06:18:34.590Z"
      },
      {
        "duration": 22,
        "start_time": "2022-08-07T06:18:34.598Z"
      },
      {
        "duration": 3,
        "start_time": "2022-08-07T06:18:34.622Z"
      },
      {
        "duration": 161,
        "start_time": "2022-08-07T06:18:34.626Z"
      },
      {
        "duration": 89,
        "start_time": "2022-08-07T06:18:34.789Z"
      },
      {
        "duration": 94,
        "start_time": "2022-08-07T06:18:34.879Z"
      },
      {
        "duration": 5,
        "start_time": "2022-08-07T06:18:34.975Z"
      },
      {
        "duration": 19,
        "start_time": "2022-08-07T06:18:34.982Z"
      },
      {
        "duration": 135,
        "start_time": "2022-08-07T06:18:35.003Z"
      },
      {
        "duration": 132,
        "start_time": "2022-08-07T06:18:35.140Z"
      },
      {
        "duration": 4,
        "start_time": "2022-08-07T06:18:35.273Z"
      },
      {
        "duration": 8,
        "start_time": "2022-08-07T06:18:35.278Z"
      },
      {
        "duration": 3,
        "start_time": "2022-08-07T06:18:35.300Z"
      },
      {
        "duration": 9,
        "start_time": "2022-08-07T06:18:35.304Z"
      },
      {
        "duration": 167,
        "start_time": "2022-08-07T06:18:35.314Z"
      },
      {
        "duration": 72,
        "start_time": "2022-08-07T06:18:35.483Z"
      },
      {
        "duration": 5,
        "start_time": "2022-08-07T06:18:35.557Z"
      },
      {
        "duration": 5,
        "start_time": "2022-08-07T06:18:35.563Z"
      },
      {
        "duration": 8,
        "start_time": "2022-08-07T06:18:35.570Z"
      },
      {
        "duration": 176,
        "start_time": "2022-08-07T06:18:35.579Z"
      },
      {
        "duration": 97,
        "start_time": "2022-08-07T06:18:35.756Z"
      },
      {
        "duration": 105,
        "start_time": "2022-08-07T06:18:35.855Z"
      },
      {
        "duration": 6,
        "start_time": "2022-08-07T06:18:35.962Z"
      },
      {
        "duration": 5,
        "start_time": "2022-08-07T06:18:35.970Z"
      },
      {
        "duration": 6,
        "start_time": "2022-08-07T06:18:35.977Z"
      },
      {
        "duration": 5,
        "start_time": "2022-08-07T06:18:36.000Z"
      },
      {
        "duration": 5,
        "start_time": "2022-08-07T06:18:36.007Z"
      },
      {
        "duration": 6,
        "start_time": "2022-08-07T06:18:36.013Z"
      },
      {
        "duration": 5,
        "start_time": "2022-08-07T06:18:36.021Z"
      },
      {
        "duration": 7,
        "start_time": "2022-08-07T06:18:36.027Z"
      },
      {
        "duration": 7,
        "start_time": "2022-08-07T06:18:36.036Z"
      },
      {
        "duration": 6,
        "start_time": "2022-08-07T06:18:36.044Z"
      },
      {
        "duration": 7,
        "start_time": "2022-08-07T06:18:36.051Z"
      },
      {
        "duration": 6,
        "start_time": "2022-08-07T06:18:36.060Z"
      },
      {
        "duration": 38,
        "start_time": "2022-08-07T06:18:36.067Z"
      },
      {
        "duration": 98,
        "start_time": "2022-08-07T06:18:36.108Z"
      },
      {
        "duration": 5,
        "start_time": "2022-08-07T06:18:36.208Z"
      },
      {
        "duration": 4,
        "start_time": "2022-08-07T06:19:20.440Z"
      },
      {
        "duration": 4,
        "start_time": "2022-08-07T06:19:28.322Z"
      },
      {
        "duration": 592,
        "start_time": "2022-08-07T06:20:55.708Z"
      },
      {
        "duration": 35,
        "start_time": "2022-08-07T06:20:56.302Z"
      },
      {
        "duration": 12,
        "start_time": "2022-08-07T06:20:56.339Z"
      },
      {
        "duration": 6,
        "start_time": "2022-08-07T06:20:56.352Z"
      },
      {
        "duration": 5,
        "start_time": "2022-08-07T06:20:56.360Z"
      },
      {
        "duration": 8,
        "start_time": "2022-08-07T06:20:56.366Z"
      },
      {
        "duration": 22,
        "start_time": "2022-08-07T06:20:56.375Z"
      },
      {
        "duration": 2,
        "start_time": "2022-08-07T06:20:56.399Z"
      },
      {
        "duration": 170,
        "start_time": "2022-08-07T06:20:56.403Z"
      },
      {
        "duration": 105,
        "start_time": "2022-08-07T06:20:56.575Z"
      },
      {
        "duration": 98,
        "start_time": "2022-08-07T06:20:56.682Z"
      },
      {
        "duration": 22,
        "start_time": "2022-08-07T06:20:56.782Z"
      },
      {
        "duration": 63,
        "start_time": "2022-08-07T06:20:56.805Z"
      },
      {
        "duration": 0,
        "start_time": "2022-08-07T06:20:56.870Z"
      },
      {
        "duration": 0,
        "start_time": "2022-08-07T06:20:56.872Z"
      },
      {
        "duration": 0,
        "start_time": "2022-08-07T06:20:56.872Z"
      },
      {
        "duration": 0,
        "start_time": "2022-08-07T06:20:56.874Z"
      },
      {
        "duration": 0,
        "start_time": "2022-08-07T06:20:56.874Z"
      },
      {
        "duration": 0,
        "start_time": "2022-08-07T06:20:56.875Z"
      },
      {
        "duration": 0,
        "start_time": "2022-08-07T06:20:56.876Z"
      },
      {
        "duration": 0,
        "start_time": "2022-08-07T06:20:56.877Z"
      },
      {
        "duration": 0,
        "start_time": "2022-08-07T06:20:56.879Z"
      },
      {
        "duration": 0,
        "start_time": "2022-08-07T06:20:56.900Z"
      },
      {
        "duration": 0,
        "start_time": "2022-08-07T06:20:56.901Z"
      },
      {
        "duration": 0,
        "start_time": "2022-08-07T06:20:56.902Z"
      },
      {
        "duration": 0,
        "start_time": "2022-08-07T06:20:56.903Z"
      },
      {
        "duration": 0,
        "start_time": "2022-08-07T06:20:56.904Z"
      },
      {
        "duration": 0,
        "start_time": "2022-08-07T06:20:56.904Z"
      },
      {
        "duration": 0,
        "start_time": "2022-08-07T06:20:56.906Z"
      },
      {
        "duration": 0,
        "start_time": "2022-08-07T06:20:56.906Z"
      },
      {
        "duration": 0,
        "start_time": "2022-08-07T06:20:56.907Z"
      },
      {
        "duration": 0,
        "start_time": "2022-08-07T06:20:56.908Z"
      },
      {
        "duration": 0,
        "start_time": "2022-08-07T06:20:56.909Z"
      },
      {
        "duration": 0,
        "start_time": "2022-08-07T06:20:56.910Z"
      },
      {
        "duration": 0,
        "start_time": "2022-08-07T06:20:56.911Z"
      },
      {
        "duration": 0,
        "start_time": "2022-08-07T06:20:56.912Z"
      },
      {
        "duration": 0,
        "start_time": "2022-08-07T06:20:56.913Z"
      },
      {
        "duration": 0,
        "start_time": "2022-08-07T06:20:56.914Z"
      },
      {
        "duration": 0,
        "start_time": "2022-08-07T06:20:56.915Z"
      },
      {
        "duration": 0,
        "start_time": "2022-08-07T06:20:56.916Z"
      },
      {
        "duration": 0,
        "start_time": "2022-08-07T06:20:56.917Z"
      },
      {
        "duration": 13,
        "start_time": "2022-08-07T06:21:36.943Z"
      },
      {
        "duration": 11,
        "start_time": "2022-08-07T06:22:16.353Z"
      },
      {
        "duration": 15,
        "start_time": "2022-08-07T06:23:24.457Z"
      },
      {
        "duration": 7,
        "start_time": "2022-08-07T06:23:37.687Z"
      },
      {
        "duration": 651,
        "start_time": "2022-08-07T06:23:48.385Z"
      },
      {
        "duration": 35,
        "start_time": "2022-08-07T06:23:49.038Z"
      },
      {
        "duration": 13,
        "start_time": "2022-08-07T06:23:49.074Z"
      },
      {
        "duration": 17,
        "start_time": "2022-08-07T06:23:49.088Z"
      },
      {
        "duration": 12,
        "start_time": "2022-08-07T06:23:49.108Z"
      },
      {
        "duration": 11,
        "start_time": "2022-08-07T06:23:49.121Z"
      },
      {
        "duration": 28,
        "start_time": "2022-08-07T06:23:49.134Z"
      },
      {
        "duration": 3,
        "start_time": "2022-08-07T06:23:49.164Z"
      },
      {
        "duration": 180,
        "start_time": "2022-08-07T06:23:49.169Z"
      },
      {
        "duration": 103,
        "start_time": "2022-08-07T06:23:49.351Z"
      },
      {
        "duration": 104,
        "start_time": "2022-08-07T06:23:49.455Z"
      },
      {
        "duration": 6,
        "start_time": "2022-08-07T06:23:49.560Z"
      },
      {
        "duration": 14,
        "start_time": "2022-08-07T06:23:49.567Z"
      },
      {
        "duration": 16,
        "start_time": "2022-08-07T06:23:49.584Z"
      },
      {
        "duration": 161,
        "start_time": "2022-08-07T06:23:49.602Z"
      },
      {
        "duration": 166,
        "start_time": "2022-08-07T06:23:49.765Z"
      },
      {
        "duration": 73,
        "start_time": "2022-08-07T06:23:49.933Z"
      },
      {
        "duration": 0,
        "start_time": "2022-08-07T06:23:50.008Z"
      },
      {
        "duration": 0,
        "start_time": "2022-08-07T06:23:50.010Z"
      },
      {
        "duration": 0,
        "start_time": "2022-08-07T06:23:50.011Z"
      },
      {
        "duration": 0,
        "start_time": "2022-08-07T06:23:50.013Z"
      },
      {
        "duration": 0,
        "start_time": "2022-08-07T06:23:50.014Z"
      },
      {
        "duration": 0,
        "start_time": "2022-08-07T06:23:50.017Z"
      },
      {
        "duration": 0,
        "start_time": "2022-08-07T06:23:50.018Z"
      },
      {
        "duration": 0,
        "start_time": "2022-08-07T06:23:50.020Z"
      },
      {
        "duration": 0,
        "start_time": "2022-08-07T06:23:50.021Z"
      },
      {
        "duration": 0,
        "start_time": "2022-08-07T06:23:50.023Z"
      },
      {
        "duration": 0,
        "start_time": "2022-08-07T06:23:50.024Z"
      },
      {
        "duration": 0,
        "start_time": "2022-08-07T06:23:50.025Z"
      },
      {
        "duration": 0,
        "start_time": "2022-08-07T06:23:50.026Z"
      },
      {
        "duration": 0,
        "start_time": "2022-08-07T06:23:50.032Z"
      },
      {
        "duration": 0,
        "start_time": "2022-08-07T06:23:50.034Z"
      },
      {
        "duration": 0,
        "start_time": "2022-08-07T06:23:50.035Z"
      },
      {
        "duration": 0,
        "start_time": "2022-08-07T06:23:50.036Z"
      },
      {
        "duration": 0,
        "start_time": "2022-08-07T06:23:50.037Z"
      },
      {
        "duration": 0,
        "start_time": "2022-08-07T06:23:50.038Z"
      },
      {
        "duration": 0,
        "start_time": "2022-08-07T06:23:50.039Z"
      },
      {
        "duration": 0,
        "start_time": "2022-08-07T06:23:50.040Z"
      },
      {
        "duration": 0,
        "start_time": "2022-08-07T06:23:50.042Z"
      },
      {
        "duration": 0,
        "start_time": "2022-08-07T06:23:50.042Z"
      },
      {
        "duration": 0,
        "start_time": "2022-08-07T06:23:50.044Z"
      },
      {
        "duration": 0,
        "start_time": "2022-08-07T06:23:50.045Z"
      },
      {
        "duration": 15,
        "start_time": "2022-08-07T06:25:18.411Z"
      },
      {
        "duration": 4,
        "start_time": "2022-08-07T06:25:36.041Z"
      },
      {
        "duration": 563,
        "start_time": "2022-08-07T06:25:57.926Z"
      },
      {
        "duration": 33,
        "start_time": "2022-08-07T06:25:58.491Z"
      },
      {
        "duration": 12,
        "start_time": "2022-08-07T06:25:58.525Z"
      },
      {
        "duration": 5,
        "start_time": "2022-08-07T06:25:58.539Z"
      },
      {
        "duration": 5,
        "start_time": "2022-08-07T06:25:58.545Z"
      },
      {
        "duration": 7,
        "start_time": "2022-08-07T06:25:58.551Z"
      },
      {
        "duration": 33,
        "start_time": "2022-08-07T06:25:58.559Z"
      },
      {
        "duration": 3,
        "start_time": "2022-08-07T06:25:58.593Z"
      },
      {
        "duration": 163,
        "start_time": "2022-08-07T06:25:58.599Z"
      },
      {
        "duration": 94,
        "start_time": "2022-08-07T06:25:58.764Z"
      },
      {
        "duration": 94,
        "start_time": "2022-08-07T06:25:58.860Z"
      },
      {
        "duration": 11,
        "start_time": "2022-08-07T06:25:58.955Z"
      },
      {
        "duration": 14,
        "start_time": "2022-08-07T06:25:58.967Z"
      },
      {
        "duration": 139,
        "start_time": "2022-08-07T06:25:59.002Z"
      },
      {
        "duration": 136,
        "start_time": "2022-08-07T06:25:59.143Z"
      },
      {
        "duration": 75,
        "start_time": "2022-08-07T06:25:59.281Z"
      },
      {
        "duration": 0,
        "start_time": "2022-08-07T06:25:59.357Z"
      },
      {
        "duration": 0,
        "start_time": "2022-08-07T06:25:59.359Z"
      },
      {
        "duration": 0,
        "start_time": "2022-08-07T06:25:59.360Z"
      },
      {
        "duration": 0,
        "start_time": "2022-08-07T06:25:59.360Z"
      },
      {
        "duration": 0,
        "start_time": "2022-08-07T06:25:59.361Z"
      },
      {
        "duration": 0,
        "start_time": "2022-08-07T06:25:59.362Z"
      },
      {
        "duration": 0,
        "start_time": "2022-08-07T06:25:59.363Z"
      },
      {
        "duration": 0,
        "start_time": "2022-08-07T06:25:59.364Z"
      },
      {
        "duration": 0,
        "start_time": "2022-08-07T06:25:59.366Z"
      },
      {
        "duration": 0,
        "start_time": "2022-08-07T06:25:59.366Z"
      },
      {
        "duration": 0,
        "start_time": "2022-08-07T06:25:59.368Z"
      },
      {
        "duration": 0,
        "start_time": "2022-08-07T06:25:59.369Z"
      },
      {
        "duration": 0,
        "start_time": "2022-08-07T06:25:59.370Z"
      },
      {
        "duration": 0,
        "start_time": "2022-08-07T06:25:59.371Z"
      },
      {
        "duration": 0,
        "start_time": "2022-08-07T06:25:59.372Z"
      },
      {
        "duration": 0,
        "start_time": "2022-08-07T06:25:59.373Z"
      },
      {
        "duration": 1,
        "start_time": "2022-08-07T06:25:59.373Z"
      },
      {
        "duration": 0,
        "start_time": "2022-08-07T06:25:59.400Z"
      },
      {
        "duration": 0,
        "start_time": "2022-08-07T06:25:59.401Z"
      },
      {
        "duration": 0,
        "start_time": "2022-08-07T06:25:59.402Z"
      },
      {
        "duration": 0,
        "start_time": "2022-08-07T06:25:59.404Z"
      },
      {
        "duration": 0,
        "start_time": "2022-08-07T06:25:59.405Z"
      },
      {
        "duration": 0,
        "start_time": "2022-08-07T06:25:59.408Z"
      },
      {
        "duration": 0,
        "start_time": "2022-08-07T06:25:59.409Z"
      },
      {
        "duration": 0,
        "start_time": "2022-08-07T06:25:59.410Z"
      },
      {
        "duration": 3,
        "start_time": "2022-08-07T06:26:55.478Z"
      },
      {
        "duration": 11,
        "start_time": "2022-08-07T06:26:58.736Z"
      },
      {
        "duration": 4,
        "start_time": "2022-08-07T06:27:45.852Z"
      },
      {
        "duration": 15,
        "start_time": "2022-08-07T06:27:49.256Z"
      },
      {
        "duration": 156,
        "start_time": "2022-08-07T06:28:02.483Z"
      },
      {
        "duration": 74,
        "start_time": "2022-08-07T06:28:06.263Z"
      },
      {
        "duration": 5,
        "start_time": "2022-08-07T06:28:17.461Z"
      },
      {
        "duration": 16,
        "start_time": "2022-08-07T06:28:24.309Z"
      },
      {
        "duration": 14,
        "start_time": "2022-08-07T06:29:09.302Z"
      },
      {
        "duration": 154,
        "start_time": "2022-08-07T06:29:16.255Z"
      },
      {
        "duration": 103,
        "start_time": "2022-08-07T06:29:19.382Z"
      },
      {
        "duration": 95,
        "start_time": "2022-08-07T06:29:23.631Z"
      },
      {
        "duration": 600,
        "start_time": "2022-08-07T06:29:41.320Z"
      },
      {
        "duration": 33,
        "start_time": "2022-08-07T06:29:41.922Z"
      },
      {
        "duration": 12,
        "start_time": "2022-08-07T06:29:41.957Z"
      },
      {
        "duration": 5,
        "start_time": "2022-08-07T06:29:41.971Z"
      },
      {
        "duration": 17,
        "start_time": "2022-08-07T06:29:41.978Z"
      },
      {
        "duration": 15,
        "start_time": "2022-08-07T06:29:41.996Z"
      },
      {
        "duration": 49,
        "start_time": "2022-08-07T06:29:42.012Z"
      },
      {
        "duration": 4,
        "start_time": "2022-08-07T06:29:42.062Z"
      },
      {
        "duration": 162,
        "start_time": "2022-08-07T06:29:42.067Z"
      },
      {
        "duration": 96,
        "start_time": "2022-08-07T06:29:42.230Z"
      },
      {
        "duration": 92,
        "start_time": "2022-08-07T06:29:42.327Z"
      },
      {
        "duration": 12,
        "start_time": "2022-08-07T06:29:42.421Z"
      },
      {
        "duration": 14,
        "start_time": "2022-08-07T06:29:42.434Z"
      },
      {
        "duration": 160,
        "start_time": "2022-08-07T06:29:42.451Z"
      },
      {
        "duration": 140,
        "start_time": "2022-08-07T06:29:42.612Z"
      },
      {
        "duration": 11,
        "start_time": "2022-08-07T06:29:42.754Z"
      },
      {
        "duration": 14,
        "start_time": "2022-08-07T06:29:42.766Z"
      },
      {
        "duration": 159,
        "start_time": "2022-08-07T06:29:42.781Z"
      },
      {
        "duration": 85,
        "start_time": "2022-08-07T06:29:42.941Z"
      },
      {
        "duration": 14,
        "start_time": "2022-08-07T06:29:43.027Z"
      },
      {
        "duration": 18,
        "start_time": "2022-08-07T06:29:43.043Z"
      },
      {
        "duration": 170,
        "start_time": "2022-08-07T06:29:43.062Z"
      },
      {
        "duration": 96,
        "start_time": "2022-08-07T06:29:43.234Z"
      },
      {
        "duration": 104,
        "start_time": "2022-08-07T06:29:43.332Z"
      },
      {
        "duration": 78,
        "start_time": "2022-08-07T06:29:43.437Z"
      },
      {
        "duration": 0,
        "start_time": "2022-08-07T06:29:43.516Z"
      },
      {
        "duration": 0,
        "start_time": "2022-08-07T06:29:43.517Z"
      },
      {
        "duration": 0,
        "start_time": "2022-08-07T06:29:43.518Z"
      },
      {
        "duration": 0,
        "start_time": "2022-08-07T06:29:43.519Z"
      },
      {
        "duration": 1,
        "start_time": "2022-08-07T06:29:43.519Z"
      },
      {
        "duration": 0,
        "start_time": "2022-08-07T06:29:43.520Z"
      },
      {
        "duration": 0,
        "start_time": "2022-08-07T06:29:43.521Z"
      },
      {
        "duration": 0,
        "start_time": "2022-08-07T06:29:43.522Z"
      },
      {
        "duration": 0,
        "start_time": "2022-08-07T06:29:43.522Z"
      },
      {
        "duration": 0,
        "start_time": "2022-08-07T06:29:43.523Z"
      },
      {
        "duration": 0,
        "start_time": "2022-08-07T06:29:43.524Z"
      },
      {
        "duration": 0,
        "start_time": "2022-08-07T06:29:43.525Z"
      },
      {
        "duration": 0,
        "start_time": "2022-08-07T06:29:43.526Z"
      },
      {
        "duration": 79,
        "start_time": "2022-08-07T06:31:37.260Z"
      },
      {
        "duration": 79,
        "start_time": "2022-08-07T06:32:07.829Z"
      },
      {
        "duration": 87,
        "start_time": "2022-08-07T06:32:26.025Z"
      },
      {
        "duration": 81,
        "start_time": "2022-08-07T06:32:34.923Z"
      },
      {
        "duration": 91,
        "start_time": "2022-08-07T06:32:53.189Z"
      },
      {
        "duration": 150,
        "start_time": "2022-08-07T06:33:05.489Z"
      },
      {
        "duration": 644,
        "start_time": "2022-08-07T06:34:07.871Z"
      },
      {
        "duration": 34,
        "start_time": "2022-08-07T06:34:09.927Z"
      },
      {
        "duration": 13,
        "start_time": "2022-08-07T06:34:14.008Z"
      },
      {
        "duration": 3,
        "start_time": "2022-08-07T06:34:18.084Z"
      },
      {
        "duration": 3,
        "start_time": "2022-08-07T06:34:20.498Z"
      },
      {
        "duration": 7,
        "start_time": "2022-08-07T06:34:26.777Z"
      },
      {
        "duration": 15,
        "start_time": "2022-08-07T06:34:34.336Z"
      },
      {
        "duration": 24,
        "start_time": "2022-08-07T06:35:11.172Z"
      },
      {
        "duration": 4,
        "start_time": "2022-08-07T06:35:16.323Z"
      },
      {
        "duration": 184,
        "start_time": "2022-08-07T06:35:20.385Z"
      },
      {
        "duration": 92,
        "start_time": "2022-08-07T06:35:25.194Z"
      },
      {
        "duration": 98,
        "start_time": "2022-08-07T06:35:38.163Z"
      },
      {
        "duration": 26,
        "start_time": "2022-08-07T06:35:42.781Z"
      },
      {
        "duration": 4,
        "start_time": "2022-08-07T06:36:34.334Z"
      },
      {
        "duration": 5,
        "start_time": "2022-08-07T06:36:40.051Z"
      },
      {
        "duration": 124,
        "start_time": "2022-08-07T06:36:49.565Z"
      },
      {
        "duration": 149,
        "start_time": "2022-08-07T06:37:52.176Z"
      },
      {
        "duration": 74,
        "start_time": "2022-08-07T06:38:12.302Z"
      },
      {
        "duration": 83,
        "start_time": "2022-08-07T06:38:21.615Z"
      },
      {
        "duration": 70,
        "start_time": "2022-08-07T06:38:28.560Z"
      },
      {
        "duration": 88,
        "start_time": "2022-08-07T06:38:44.026Z"
      },
      {
        "duration": 100,
        "start_time": "2022-08-07T06:38:55.066Z"
      },
      {
        "duration": 99,
        "start_time": "2022-08-07T06:39:18.843Z"
      },
      {
        "duration": 80,
        "start_time": "2022-08-07T06:39:30.704Z"
      },
      {
        "duration": 49,
        "start_time": "2022-08-07T06:40:15.999Z"
      },
      {
        "duration": 9,
        "start_time": "2022-08-07T06:40:22.064Z"
      },
      {
        "duration": 8,
        "start_time": "2022-08-07T06:40:35.102Z"
      },
      {
        "duration": 124,
        "start_time": "2022-08-07T06:40:49.654Z"
      },
      {
        "duration": 88,
        "start_time": "2022-08-07T06:40:54.995Z"
      },
      {
        "duration": 14,
        "start_time": "2022-08-07T06:41:00.480Z"
      },
      {
        "duration": 4,
        "start_time": "2022-08-07T06:42:02.789Z"
      },
      {
        "duration": 3,
        "start_time": "2022-08-07T06:42:23.305Z"
      },
      {
        "duration": 6,
        "start_time": "2022-08-07T06:42:30.813Z"
      },
      {
        "duration": 4,
        "start_time": "2022-08-07T06:43:08.277Z"
      },
      {
        "duration": 595,
        "start_time": "2022-08-07T06:43:14.571Z"
      },
      {
        "duration": 34,
        "start_time": "2022-08-07T06:43:15.167Z"
      },
      {
        "duration": 13,
        "start_time": "2022-08-07T06:43:15.202Z"
      },
      {
        "duration": 5,
        "start_time": "2022-08-07T06:43:15.216Z"
      },
      {
        "duration": 15,
        "start_time": "2022-08-07T06:43:15.223Z"
      },
      {
        "duration": 12,
        "start_time": "2022-08-07T06:43:15.239Z"
      },
      {
        "duration": 25,
        "start_time": "2022-08-07T06:43:15.253Z"
      },
      {
        "duration": 3,
        "start_time": "2022-08-07T06:43:15.279Z"
      },
      {
        "duration": 188,
        "start_time": "2022-08-07T06:43:15.299Z"
      },
      {
        "duration": 104,
        "start_time": "2022-08-07T06:43:15.489Z"
      },
      {
        "duration": 105,
        "start_time": "2022-08-07T06:43:15.601Z"
      },
      {
        "duration": 6,
        "start_time": "2022-08-07T06:43:15.707Z"
      },
      {
        "duration": 4,
        "start_time": "2022-08-07T06:43:15.715Z"
      },
      {
        "duration": 93,
        "start_time": "2022-08-07T06:43:15.722Z"
      },
      {
        "duration": 7,
        "start_time": "2022-08-07T06:43:15.816Z"
      },
      {
        "duration": 190,
        "start_time": "2022-08-07T06:43:15.825Z"
      },
      {
        "duration": 94,
        "start_time": "2022-08-07T06:43:16.017Z"
      },
      {
        "duration": 11,
        "start_time": "2022-08-07T06:43:16.112Z"
      },
      {
        "duration": 8,
        "start_time": "2022-08-07T06:43:16.124Z"
      },
      {
        "duration": 157,
        "start_time": "2022-08-07T06:43:16.133Z"
      },
      {
        "duration": 81,
        "start_time": "2022-08-07T06:43:16.291Z"
      },
      {
        "duration": 27,
        "start_time": "2022-08-07T06:43:16.373Z"
      },
      {
        "duration": 13,
        "start_time": "2022-08-07T06:43:16.401Z"
      },
      {
        "duration": 172,
        "start_time": "2022-08-07T06:43:16.416Z"
      },
      {
        "duration": 99,
        "start_time": "2022-08-07T06:43:16.590Z"
      },
      {
        "duration": 47,
        "start_time": "2022-08-07T06:43:16.699Z"
      },
      {
        "duration": 0,
        "start_time": "2022-08-07T06:43:16.748Z"
      },
      {
        "duration": 0,
        "start_time": "2022-08-07T06:43:16.749Z"
      },
      {
        "duration": 0,
        "start_time": "2022-08-07T06:43:16.750Z"
      },
      {
        "duration": 0,
        "start_time": "2022-08-07T06:43:16.751Z"
      },
      {
        "duration": 0,
        "start_time": "2022-08-07T06:43:16.752Z"
      },
      {
        "duration": 0,
        "start_time": "2022-08-07T06:43:16.753Z"
      },
      {
        "duration": 0,
        "start_time": "2022-08-07T06:43:16.754Z"
      },
      {
        "duration": 0,
        "start_time": "2022-08-07T06:43:16.755Z"
      },
      {
        "duration": 0,
        "start_time": "2022-08-07T06:43:16.756Z"
      },
      {
        "duration": 0,
        "start_time": "2022-08-07T06:43:16.757Z"
      },
      {
        "duration": 0,
        "start_time": "2022-08-07T06:43:16.758Z"
      },
      {
        "duration": 0,
        "start_time": "2022-08-07T06:43:16.759Z"
      },
      {
        "duration": 0,
        "start_time": "2022-08-07T06:43:16.759Z"
      },
      {
        "duration": 0,
        "start_time": "2022-08-07T06:43:16.760Z"
      },
      {
        "duration": 587,
        "start_time": "2022-08-07T06:43:23.720Z"
      },
      {
        "duration": 35,
        "start_time": "2022-08-07T06:43:25.770Z"
      },
      {
        "duration": 13,
        "start_time": "2022-08-07T06:43:28.734Z"
      },
      {
        "duration": 3,
        "start_time": "2022-08-07T06:43:33.362Z"
      },
      {
        "duration": 14,
        "start_time": "2022-08-07T06:43:35.135Z"
      },
      {
        "duration": 6,
        "start_time": "2022-08-07T06:43:40.049Z"
      },
      {
        "duration": 24,
        "start_time": "2022-08-07T06:43:42.074Z"
      },
      {
        "duration": 4,
        "start_time": "2022-08-07T06:43:44.787Z"
      },
      {
        "duration": 161,
        "start_time": "2022-08-07T06:43:48.220Z"
      },
      {
        "duration": 87,
        "start_time": "2022-08-07T06:43:52.509Z"
      },
      {
        "duration": 87,
        "start_time": "2022-08-07T06:43:58.106Z"
      },
      {
        "duration": 7,
        "start_time": "2022-08-07T06:44:01.158Z"
      },
      {
        "duration": 4,
        "start_time": "2022-08-07T06:44:05.923Z"
      },
      {
        "duration": 77,
        "start_time": "2022-08-07T06:44:13.287Z"
      },
      {
        "duration": 9,
        "start_time": "2022-08-07T06:44:18.530Z"
      },
      {
        "duration": 220,
        "start_time": "2022-08-07T06:44:24.901Z"
      },
      {
        "duration": 94,
        "start_time": "2022-08-07T06:44:30.430Z"
      },
      {
        "duration": 12,
        "start_time": "2022-08-07T06:44:33.006Z"
      },
      {
        "duration": 5,
        "start_time": "2022-08-07T06:45:17.383Z"
      },
      {
        "duration": 3,
        "start_time": "2022-08-07T06:45:23.710Z"
      },
      {
        "duration": 76,
        "start_time": "2022-08-07T06:45:56.666Z"
      },
      {
        "duration": 550,
        "start_time": "2022-08-07T06:46:13.929Z"
      },
      {
        "duration": 34,
        "start_time": "2022-08-07T06:46:16.005Z"
      },
      {
        "duration": 13,
        "start_time": "2022-08-07T06:46:18.385Z"
      },
      {
        "duration": 3,
        "start_time": "2022-08-07T06:46:21.088Z"
      },
      {
        "duration": 15,
        "start_time": "2022-08-07T06:46:23.273Z"
      },
      {
        "duration": 7,
        "start_time": "2022-08-07T06:46:26.144Z"
      },
      {
        "duration": 22,
        "start_time": "2022-08-07T06:46:28.593Z"
      },
      {
        "duration": 3,
        "start_time": "2022-08-07T06:46:31.131Z"
      },
      {
        "duration": 156,
        "start_time": "2022-08-07T06:46:33.014Z"
      },
      {
        "duration": 106,
        "start_time": "2022-08-07T06:46:36.417Z"
      },
      {
        "duration": 91,
        "start_time": "2022-08-07T06:46:39.814Z"
      },
      {
        "duration": 7,
        "start_time": "2022-08-07T06:46:42.098Z"
      },
      {
        "duration": 4,
        "start_time": "2022-08-07T06:46:44.005Z"
      },
      {
        "duration": 83,
        "start_time": "2022-08-07T06:46:49.239Z"
      },
      {
        "duration": 8,
        "start_time": "2022-08-07T06:46:52.651Z"
      },
      {
        "duration": 213,
        "start_time": "2022-08-07T06:46:55.062Z"
      },
      {
        "duration": 87,
        "start_time": "2022-08-07T06:46:57.321Z"
      },
      {
        "duration": 85,
        "start_time": "2022-08-07T06:47:09.452Z"
      },
      {
        "duration": 11,
        "start_time": "2022-08-07T06:47:22.258Z"
      },
      {
        "duration": 5,
        "start_time": "2022-08-07T06:47:25.406Z"
      },
      {
        "duration": 4,
        "start_time": "2022-08-07T06:47:27.718Z"
      },
      {
        "duration": 152,
        "start_time": "2022-08-07T06:48:07.214Z"
      },
      {
        "duration": 90,
        "start_time": "2022-08-07T06:48:21.213Z"
      },
      {
        "duration": 85,
        "start_time": "2022-08-07T06:48:26.257Z"
      },
      {
        "duration": 17,
        "start_time": "2022-08-07T06:48:36.918Z"
      },
      {
        "duration": 4,
        "start_time": "2022-08-07T06:49:02.988Z"
      },
      {
        "duration": 5,
        "start_time": "2022-08-07T06:49:13.424Z"
      },
      {
        "duration": 3,
        "start_time": "2022-08-07T06:49:50.657Z"
      },
      {
        "duration": 4,
        "start_time": "2022-08-07T06:50:00.322Z"
      },
      {
        "duration": 639,
        "start_time": "2022-08-07T06:51:23.468Z"
      },
      {
        "duration": 36,
        "start_time": "2022-08-07T06:51:25.729Z"
      },
      {
        "duration": 15,
        "start_time": "2022-08-07T06:51:28.176Z"
      },
      {
        "duration": 4,
        "start_time": "2022-08-07T06:51:30.620Z"
      },
      {
        "duration": 13,
        "start_time": "2022-08-07T06:51:32.390Z"
      },
      {
        "duration": 6,
        "start_time": "2022-08-07T06:51:34.490Z"
      },
      {
        "duration": 23,
        "start_time": "2022-08-07T06:51:36.855Z"
      },
      {
        "duration": 4,
        "start_time": "2022-08-07T06:51:39.810Z"
      },
      {
        "duration": 171,
        "start_time": "2022-08-07T06:51:43.785Z"
      },
      {
        "duration": 87,
        "start_time": "2022-08-07T06:51:46.057Z"
      },
      {
        "duration": 91,
        "start_time": "2022-08-07T06:51:48.929Z"
      },
      {
        "duration": 7,
        "start_time": "2022-08-07T06:51:51.405Z"
      },
      {
        "duration": 4,
        "start_time": "2022-08-07T06:51:55.308Z"
      },
      {
        "duration": 83,
        "start_time": "2022-08-07T06:51:57.413Z"
      },
      {
        "duration": 9,
        "start_time": "2022-08-07T06:52:01.530Z"
      },
      {
        "duration": 181,
        "start_time": "2022-08-07T06:52:03.271Z"
      },
      {
        "duration": 72,
        "start_time": "2022-08-07T06:52:05.805Z"
      },
      {
        "duration": 85,
        "start_time": "2022-08-07T06:52:08.999Z"
      },
      {
        "duration": 11,
        "start_time": "2022-08-07T06:52:11.612Z"
      },
      {
        "duration": 4,
        "start_time": "2022-08-07T06:52:14.583Z"
      },
      {
        "duration": 4,
        "start_time": "2022-08-07T06:52:20.826Z"
      },
      {
        "duration": 141,
        "start_time": "2022-08-07T06:52:22.564Z"
      },
      {
        "duration": 87,
        "start_time": "2022-08-07T06:52:25.463Z"
      },
      {
        "duration": 77,
        "start_time": "2022-08-07T06:52:29.731Z"
      },
      {
        "duration": 5,
        "start_time": "2022-08-07T06:52:33.636Z"
      },
      {
        "duration": 4,
        "start_time": "2022-08-07T06:52:41.231Z"
      },
      {
        "duration": 181,
        "start_time": "2022-08-07T06:52:49.922Z"
      },
      {
        "duration": 103,
        "start_time": "2022-08-07T06:52:54.249Z"
      },
      {
        "duration": 81,
        "start_time": "2022-08-07T06:53:08.479Z"
      },
      {
        "duration": 66,
        "start_time": "2022-08-07T06:54:21.814Z"
      },
      {
        "duration": 10,
        "start_time": "2022-08-07T06:54:31.679Z"
      },
      {
        "duration": 4,
        "start_time": "2022-08-07T06:54:57.427Z"
      },
      {
        "duration": 5,
        "start_time": "2022-08-07T06:55:08.717Z"
      },
      {
        "duration": 4,
        "start_time": "2022-08-07T06:55:15.683Z"
      },
      {
        "duration": 75,
        "start_time": "2022-08-07T06:56:29.368Z"
      },
      {
        "duration": 131,
        "start_time": "2022-08-07T06:56:45.756Z"
      },
      {
        "duration": 81,
        "start_time": "2022-08-07T06:57:11.385Z"
      },
      {
        "duration": 78,
        "start_time": "2022-08-07T06:57:25.578Z"
      },
      {
        "duration": 74,
        "start_time": "2022-08-07T06:57:53.261Z"
      },
      {
        "duration": 79,
        "start_time": "2022-08-07T06:58:18.607Z"
      },
      {
        "duration": 85,
        "start_time": "2022-08-07T06:58:34.240Z"
      },
      {
        "duration": 71,
        "start_time": "2022-08-07T06:58:53.018Z"
      },
      {
        "duration": 74,
        "start_time": "2022-08-07T06:58:59.091Z"
      },
      {
        "duration": 79,
        "start_time": "2022-08-07T06:59:13.985Z"
      },
      {
        "duration": 88,
        "start_time": "2022-08-07T06:59:24.210Z"
      },
      {
        "duration": 8,
        "start_time": "2022-08-07T06:59:55.354Z"
      },
      {
        "duration": 5,
        "start_time": "2022-08-07T07:00:24.772Z"
      },
      {
        "duration": 4,
        "start_time": "2022-08-07T07:00:31.555Z"
      },
      {
        "duration": 4,
        "start_time": "2022-08-07T07:00:51.607Z"
      },
      {
        "duration": 4,
        "start_time": "2022-08-07T07:01:00.059Z"
      },
      {
        "duration": 15,
        "start_time": "2022-08-07T07:01:30.029Z"
      },
      {
        "duration": 5,
        "start_time": "2022-08-07T07:01:35.831Z"
      },
      {
        "duration": 4,
        "start_time": "2022-08-07T07:01:38.109Z"
      },
      {
        "duration": 6,
        "start_time": "2022-08-07T07:01:40.706Z"
      },
      {
        "duration": 11,
        "start_time": "2022-08-07T07:01:43.300Z"
      },
      {
        "duration": 88,
        "start_time": "2022-08-07T07:01:45.466Z"
      },
      {
        "duration": 6,
        "start_time": "2022-08-07T07:01:48.308Z"
      },
      {
        "duration": 12,
        "start_time": "2022-08-07T07:01:55.803Z"
      },
      {
        "duration": 643,
        "start_time": "2022-08-07T07:11:38.319Z"
      },
      {
        "duration": 15,
        "start_time": "2022-08-07T07:11:54.865Z"
      },
      {
        "duration": 3,
        "start_time": "2022-08-07T07:12:41.837Z"
      },
      {
        "duration": 15,
        "start_time": "2022-08-07T07:13:55.887Z"
      },
      {
        "duration": 9,
        "start_time": "2022-08-07T07:14:34.489Z"
      },
      {
        "duration": 12,
        "start_time": "2022-08-07T07:15:22.861Z"
      },
      {
        "duration": 1319,
        "start_time": "2022-08-07T07:20:22.119Z"
      },
      {
        "duration": 34,
        "start_time": "2022-08-07T07:20:23.440Z"
      },
      {
        "duration": 14,
        "start_time": "2022-08-07T07:20:23.475Z"
      },
      {
        "duration": 4,
        "start_time": "2022-08-07T07:20:23.491Z"
      },
      {
        "duration": 19,
        "start_time": "2022-08-07T07:20:23.497Z"
      },
      {
        "duration": 12,
        "start_time": "2022-08-07T07:20:23.518Z"
      },
      {
        "duration": 27,
        "start_time": "2022-08-07T07:20:23.531Z"
      },
      {
        "duration": 3,
        "start_time": "2022-08-07T07:20:23.559Z"
      },
      {
        "duration": 180,
        "start_time": "2022-08-07T07:20:23.564Z"
      },
      {
        "duration": 102,
        "start_time": "2022-08-07T07:20:23.746Z"
      },
      {
        "duration": 171,
        "start_time": "2022-08-07T07:20:23.850Z"
      },
      {
        "duration": 98,
        "start_time": "2022-08-07T07:20:24.022Z"
      },
      {
        "duration": 94,
        "start_time": "2022-08-07T07:20:24.122Z"
      },
      {
        "duration": 13,
        "start_time": "2022-08-07T07:20:24.217Z"
      },
      {
        "duration": 4,
        "start_time": "2022-08-07T07:20:24.232Z"
      },
      {
        "duration": 113,
        "start_time": "2022-08-07T07:20:24.237Z"
      },
      {
        "duration": 0,
        "start_time": "2022-08-07T07:20:24.352Z"
      },
      {
        "duration": 0,
        "start_time": "2022-08-07T07:20:24.353Z"
      },
      {
        "duration": 0,
        "start_time": "2022-08-07T07:20:24.354Z"
      },
      {
        "duration": 0,
        "start_time": "2022-08-07T07:20:24.355Z"
      },
      {
        "duration": 0,
        "start_time": "2022-08-07T07:20:24.356Z"
      },
      {
        "duration": 1,
        "start_time": "2022-08-07T07:20:24.357Z"
      },
      {
        "duration": 0,
        "start_time": "2022-08-07T07:20:24.358Z"
      },
      {
        "duration": 0,
        "start_time": "2022-08-07T07:20:24.359Z"
      },
      {
        "duration": 0,
        "start_time": "2022-08-07T07:20:24.361Z"
      },
      {
        "duration": 0,
        "start_time": "2022-08-07T07:20:24.362Z"
      },
      {
        "duration": 0,
        "start_time": "2022-08-07T07:20:24.363Z"
      },
      {
        "duration": 0,
        "start_time": "2022-08-07T07:20:24.363Z"
      },
      {
        "duration": 0,
        "start_time": "2022-08-07T07:20:24.364Z"
      },
      {
        "duration": 0,
        "start_time": "2022-08-07T07:20:24.365Z"
      },
      {
        "duration": 0,
        "start_time": "2022-08-07T07:20:24.366Z"
      },
      {
        "duration": 0,
        "start_time": "2022-08-07T07:20:24.367Z"
      },
      {
        "duration": 0,
        "start_time": "2022-08-07T07:20:24.368Z"
      },
      {
        "duration": 0,
        "start_time": "2022-08-07T07:20:24.400Z"
      },
      {
        "duration": 0,
        "start_time": "2022-08-07T07:20:24.401Z"
      },
      {
        "duration": 0,
        "start_time": "2022-08-07T07:20:24.402Z"
      },
      {
        "duration": 0,
        "start_time": "2022-08-07T07:20:24.403Z"
      },
      {
        "duration": 0,
        "start_time": "2022-08-07T07:20:24.404Z"
      },
      {
        "duration": 0,
        "start_time": "2022-08-07T07:20:24.405Z"
      },
      {
        "duration": 0,
        "start_time": "2022-08-07T07:20:24.406Z"
      },
      {
        "duration": 0,
        "start_time": "2022-08-07T07:20:24.407Z"
      },
      {
        "duration": 6,
        "start_time": "2022-08-07T07:21:02.208Z"
      },
      {
        "duration": 143,
        "start_time": "2022-08-07T07:21:06.377Z"
      },
      {
        "duration": 157,
        "start_time": "2022-08-07T07:21:16.885Z"
      },
      {
        "duration": 171,
        "start_time": "2022-08-07T07:21:20.080Z"
      },
      {
        "duration": 74,
        "start_time": "2022-08-07T07:21:23.369Z"
      },
      {
        "duration": 4,
        "start_time": "2022-08-07T07:21:26.728Z"
      },
      {
        "duration": 5,
        "start_time": "2022-08-07T07:21:32.359Z"
      },
      {
        "duration": 167,
        "start_time": "2022-08-07T07:21:38.675Z"
      },
      {
        "duration": 79,
        "start_time": "2022-08-07T07:21:41.127Z"
      },
      {
        "duration": 96,
        "start_time": "2022-08-07T07:21:44.577Z"
      },
      {
        "duration": 5,
        "start_time": "2022-08-07T07:21:47.723Z"
      },
      {
        "duration": 3,
        "start_time": "2022-08-07T07:21:49.459Z"
      },
      {
        "duration": 84,
        "start_time": "2022-08-07T07:21:53.375Z"
      },
      {
        "duration": 7,
        "start_time": "2022-08-07T07:21:55.851Z"
      },
      {
        "duration": 4,
        "start_time": "2022-08-07T07:21:58.313Z"
      },
      {
        "duration": 3,
        "start_time": "2022-08-07T07:22:00.371Z"
      },
      {
        "duration": 13,
        "start_time": "2022-08-07T07:22:02.958Z"
      },
      {
        "duration": 4,
        "start_time": "2022-08-07T07:22:05.301Z"
      },
      {
        "duration": 4,
        "start_time": "2022-08-07T07:22:07.641Z"
      },
      {
        "duration": 5,
        "start_time": "2022-08-07T07:22:11.016Z"
      },
      {
        "duration": 11,
        "start_time": "2022-08-07T07:22:13.768Z"
      },
      {
        "duration": 92,
        "start_time": "2022-08-07T07:22:15.690Z"
      },
      {
        "duration": 5,
        "start_time": "2022-08-07T07:22:18.752Z"
      },
      {
        "duration": 15,
        "start_time": "2022-08-07T07:22:20.811Z"
      },
      {
        "duration": 14,
        "start_time": "2022-08-07T07:22:23.407Z"
      },
      {
        "duration": 9,
        "start_time": "2022-08-07T07:22:25.967Z"
      },
      {
        "duration": 11,
        "start_time": "2022-08-07T07:22:29.156Z"
      },
      {
        "duration": 7,
        "start_time": "2022-08-07T07:22:35.629Z"
      },
      {
        "duration": 10,
        "start_time": "2022-08-07T07:22:37.991Z"
      },
      {
        "duration": 8,
        "start_time": "2022-08-07T07:26:09.584Z"
      },
      {
        "duration": 10,
        "start_time": "2022-08-07T07:26:40.124Z"
      },
      {
        "duration": 20,
        "start_time": "2022-08-07T07:26:45.070Z"
      },
      {
        "duration": 3,
        "start_time": "2022-08-07T07:52:27.154Z"
      },
      {
        "duration": 15,
        "start_time": "2022-08-07T07:53:35.329Z"
      },
      {
        "duration": 5,
        "start_time": "2022-08-07T07:54:07.466Z"
      },
      {
        "duration": 14,
        "start_time": "2022-08-07T07:54:16.414Z"
      },
      {
        "duration": 7,
        "start_time": "2022-08-07T07:57:23.580Z"
      },
      {
        "duration": 24,
        "start_time": "2022-08-07T07:57:27.216Z"
      },
      {
        "duration": 5,
        "start_time": "2022-08-07T07:57:46.956Z"
      },
      {
        "duration": 16,
        "start_time": "2022-08-07T07:57:52.393Z"
      },
      {
        "duration": 14,
        "start_time": "2022-08-07T07:59:30.984Z"
      },
      {
        "duration": 12,
        "start_time": "2022-08-07T07:59:33.303Z"
      },
      {
        "duration": 16,
        "start_time": "2022-08-07T07:59:41.298Z"
      },
      {
        "duration": 79,
        "start_time": "2022-08-07T08:00:11.754Z"
      },
      {
        "duration": 18,
        "start_time": "2022-08-07T08:00:20.748Z"
      },
      {
        "duration": 59,
        "start_time": "2022-08-07T08:00:38.976Z"
      },
      {
        "duration": 15,
        "start_time": "2022-08-07T08:03:35.345Z"
      },
      {
        "duration": 14,
        "start_time": "2022-08-07T08:03:45.415Z"
      },
      {
        "duration": 6,
        "start_time": "2022-08-07T08:03:58.817Z"
      },
      {
        "duration": 15,
        "start_time": "2022-08-07T08:04:03.880Z"
      },
      {
        "duration": 14,
        "start_time": "2022-08-07T08:11:37.452Z"
      },
      {
        "duration": 14,
        "start_time": "2022-08-07T08:11:41.644Z"
      },
      {
        "duration": 4,
        "start_time": "2022-08-07T08:12:05.399Z"
      },
      {
        "duration": 6,
        "start_time": "2022-08-07T08:12:10.564Z"
      },
      {
        "duration": 12,
        "start_time": "2022-08-07T08:12:19.170Z"
      },
      {
        "duration": 66,
        "start_time": "2022-08-07T08:12:43.560Z"
      },
      {
        "duration": 6,
        "start_time": "2022-08-07T08:12:46.995Z"
      },
      {
        "duration": 6,
        "start_time": "2022-08-07T08:14:18.708Z"
      },
      {
        "duration": 4,
        "start_time": "2022-08-07T08:14:43.421Z"
      },
      {
        "duration": 14,
        "start_time": "2022-08-07T08:14:50.232Z"
      },
      {
        "duration": 17,
        "start_time": "2022-08-07T08:15:06.157Z"
      },
      {
        "duration": 16,
        "start_time": "2022-08-07T08:15:48.917Z"
      },
      {
        "duration": 4,
        "start_time": "2022-08-07T08:17:00.333Z"
      },
      {
        "duration": 14,
        "start_time": "2022-08-07T08:17:04.191Z"
      },
      {
        "duration": 14,
        "start_time": "2022-08-07T08:17:23.368Z"
      },
      {
        "duration": 14,
        "start_time": "2022-08-07T08:17:31.087Z"
      },
      {
        "duration": 14,
        "start_time": "2022-08-07T08:17:39.929Z"
      },
      {
        "duration": 14,
        "start_time": "2022-08-07T08:17:59.364Z"
      },
      {
        "duration": 4,
        "start_time": "2022-08-07T08:18:43.924Z"
      },
      {
        "duration": 5,
        "start_time": "2022-08-07T08:18:51.232Z"
      },
      {
        "duration": 1126,
        "start_time": "2022-08-07T08:19:07.944Z"
      },
      {
        "duration": 34,
        "start_time": "2022-08-07T08:19:09.072Z"
      },
      {
        "duration": 12,
        "start_time": "2022-08-07T08:19:09.108Z"
      },
      {
        "duration": 9,
        "start_time": "2022-08-07T08:19:09.122Z"
      },
      {
        "duration": 27,
        "start_time": "2022-08-07T08:19:09.133Z"
      },
      {
        "duration": 18,
        "start_time": "2022-08-07T08:19:09.161Z"
      },
      {
        "duration": 38,
        "start_time": "2022-08-07T08:19:09.181Z"
      },
      {
        "duration": 3,
        "start_time": "2022-08-07T08:19:09.220Z"
      },
      {
        "duration": 164,
        "start_time": "2022-08-07T08:19:09.225Z"
      },
      {
        "duration": 89,
        "start_time": "2022-08-07T08:19:09.390Z"
      },
      {
        "duration": 141,
        "start_time": "2022-08-07T08:19:09.480Z"
      },
      {
        "duration": 80,
        "start_time": "2022-08-07T08:19:09.622Z"
      },
      {
        "duration": 81,
        "start_time": "2022-08-07T08:19:09.703Z"
      },
      {
        "duration": 11,
        "start_time": "2022-08-07T08:19:09.799Z"
      },
      {
        "duration": 6,
        "start_time": "2022-08-07T08:19:09.812Z"
      },
      {
        "duration": 152,
        "start_time": "2022-08-07T08:19:09.819Z"
      },
      {
        "duration": 97,
        "start_time": "2022-08-07T08:19:09.972Z"
      },
      {
        "duration": 155,
        "start_time": "2022-08-07T08:19:10.071Z"
      },
      {
        "duration": 5,
        "start_time": "2022-08-07T08:19:10.227Z"
      },
      {
        "duration": 26,
        "start_time": "2022-08-07T08:19:10.234Z"
      },
      {
        "duration": 192,
        "start_time": "2022-08-07T08:19:10.261Z"
      },
      {
        "duration": 89,
        "start_time": "2022-08-07T08:19:10.455Z"
      },
      {
        "duration": 104,
        "start_time": "2022-08-07T08:19:10.546Z"
      },
      {
        "duration": 4,
        "start_time": "2022-08-07T08:19:10.652Z"
      },
      {
        "duration": 15,
        "start_time": "2022-08-07T08:19:10.658Z"
      },
      {
        "duration": 90,
        "start_time": "2022-08-07T08:19:10.675Z"
      },
      {
        "duration": 7,
        "start_time": "2022-08-07T08:19:10.767Z"
      },
      {
        "duration": 14,
        "start_time": "2022-08-07T08:19:10.775Z"
      },
      {
        "duration": 11,
        "start_time": "2022-08-07T08:19:10.790Z"
      },
      {
        "duration": 16,
        "start_time": "2022-08-07T08:19:10.802Z"
      },
      {
        "duration": 5,
        "start_time": "2022-08-07T08:19:10.820Z"
      },
      {
        "duration": 14,
        "start_time": "2022-08-07T08:19:10.827Z"
      },
      {
        "duration": 31,
        "start_time": "2022-08-07T08:19:10.843Z"
      },
      {
        "duration": 15,
        "start_time": "2022-08-07T08:19:10.876Z"
      },
      {
        "duration": 94,
        "start_time": "2022-08-07T08:19:10.892Z"
      },
      {
        "duration": 6,
        "start_time": "2022-08-07T08:19:10.987Z"
      },
      {
        "duration": 31,
        "start_time": "2022-08-07T08:19:10.995Z"
      },
      {
        "duration": 30,
        "start_time": "2022-08-07T08:19:11.028Z"
      },
      {
        "duration": 24,
        "start_time": "2022-08-07T08:19:11.060Z"
      },
      {
        "duration": 101,
        "start_time": "2022-08-07T08:19:11.085Z"
      },
      {
        "duration": 0,
        "start_time": "2022-08-07T08:19:11.188Z"
      },
      {
        "duration": 0,
        "start_time": "2022-08-07T08:19:11.190Z"
      },
      {
        "duration": 6,
        "start_time": "2022-08-07T08:19:21.410Z"
      },
      {
        "duration": 18,
        "start_time": "2022-08-07T08:19:23.692Z"
      },
      {
        "duration": 27,
        "start_time": "2022-08-07T08:19:41.614Z"
      },
      {
        "duration": 4,
        "start_time": "2022-08-07T08:20:14.558Z"
      },
      {
        "duration": 21,
        "start_time": "2022-08-07T08:20:18.335Z"
      },
      {
        "duration": 5,
        "start_time": "2022-08-07T08:20:29.964Z"
      },
      {
        "duration": 21,
        "start_time": "2022-08-07T08:20:45.017Z"
      },
      {
        "duration": 7,
        "start_time": "2022-08-07T08:22:38.583Z"
      },
      {
        "duration": 12,
        "start_time": "2022-08-07T08:22:44.669Z"
      },
      {
        "duration": 1172,
        "start_time": "2022-08-07T08:23:09.331Z"
      },
      {
        "duration": 34,
        "start_time": "2022-08-07T08:23:10.505Z"
      },
      {
        "duration": 12,
        "start_time": "2022-08-07T08:23:10.541Z"
      },
      {
        "duration": 16,
        "start_time": "2022-08-07T08:23:10.554Z"
      },
      {
        "duration": 33,
        "start_time": "2022-08-07T08:23:10.572Z"
      },
      {
        "duration": 18,
        "start_time": "2022-08-07T08:23:10.607Z"
      },
      {
        "duration": 45,
        "start_time": "2022-08-07T08:23:10.626Z"
      },
      {
        "duration": 11,
        "start_time": "2022-08-07T08:23:10.672Z"
      },
      {
        "duration": 165,
        "start_time": "2022-08-07T08:23:10.684Z"
      },
      {
        "duration": 94,
        "start_time": "2022-08-07T08:23:10.851Z"
      },
      {
        "duration": 150,
        "start_time": "2022-08-07T08:23:10.946Z"
      },
      {
        "duration": 74,
        "start_time": "2022-08-07T08:23:11.099Z"
      },
      {
        "duration": 105,
        "start_time": "2022-08-07T08:23:11.174Z"
      },
      {
        "duration": 23,
        "start_time": "2022-08-07T08:23:11.281Z"
      },
      {
        "duration": 4,
        "start_time": "2022-08-07T08:23:11.305Z"
      },
      {
        "duration": 190,
        "start_time": "2022-08-07T08:23:11.311Z"
      },
      {
        "duration": 126,
        "start_time": "2022-08-07T08:23:11.503Z"
      },
      {
        "duration": 146,
        "start_time": "2022-08-07T08:23:11.630Z"
      },
      {
        "duration": 6,
        "start_time": "2022-08-07T08:23:11.777Z"
      },
      {
        "duration": 17,
        "start_time": "2022-08-07T08:23:11.784Z"
      },
      {
        "duration": 192,
        "start_time": "2022-08-07T08:23:11.803Z"
      },
      {
        "duration": 77,
        "start_time": "2022-08-07T08:23:11.999Z"
      },
      {
        "duration": 101,
        "start_time": "2022-08-07T08:23:12.078Z"
      },
      {
        "duration": 5,
        "start_time": "2022-08-07T08:23:12.180Z"
      },
      {
        "duration": 29,
        "start_time": "2022-08-07T08:23:12.187Z"
      },
      {
        "duration": 112,
        "start_time": "2022-08-07T08:23:12.217Z"
      },
      {
        "duration": 7,
        "start_time": "2022-08-07T08:23:12.331Z"
      },
      {
        "duration": 21,
        "start_time": "2022-08-07T08:23:12.340Z"
      },
      {
        "duration": 29,
        "start_time": "2022-08-07T08:23:12.363Z"
      },
      {
        "duration": 29,
        "start_time": "2022-08-07T08:23:12.394Z"
      },
      {
        "duration": 24,
        "start_time": "2022-08-07T08:23:12.424Z"
      },
      {
        "duration": 24,
        "start_time": "2022-08-07T08:23:12.449Z"
      },
      {
        "duration": 20,
        "start_time": "2022-08-07T08:23:12.474Z"
      },
      {
        "duration": 32,
        "start_time": "2022-08-07T08:23:12.495Z"
      },
      {
        "duration": 125,
        "start_time": "2022-08-07T08:23:12.528Z"
      },
      {
        "duration": 4,
        "start_time": "2022-08-07T08:23:12.655Z"
      },
      {
        "duration": 36,
        "start_time": "2022-08-07T08:23:12.660Z"
      },
      {
        "duration": 30,
        "start_time": "2022-08-07T08:23:12.697Z"
      },
      {
        "duration": 34,
        "start_time": "2022-08-07T08:23:12.729Z"
      },
      {
        "duration": 15,
        "start_time": "2022-08-07T08:23:12.764Z"
      },
      {
        "duration": 101,
        "start_time": "2022-08-07T08:23:12.782Z"
      },
      {
        "duration": 18,
        "start_time": "2022-08-07T08:23:32.038Z"
      },
      {
        "duration": 1266,
        "start_time": "2022-08-07T08:23:39.231Z"
      },
      {
        "duration": 33,
        "start_time": "2022-08-07T08:23:40.499Z"
      },
      {
        "duration": 12,
        "start_time": "2022-08-07T08:23:40.533Z"
      },
      {
        "duration": 7,
        "start_time": "2022-08-07T08:23:40.546Z"
      },
      {
        "duration": 16,
        "start_time": "2022-08-07T08:23:40.554Z"
      },
      {
        "duration": 5,
        "start_time": "2022-08-07T08:23:40.571Z"
      },
      {
        "duration": 21,
        "start_time": "2022-08-07T08:23:40.577Z"
      },
      {
        "duration": 2,
        "start_time": "2022-08-07T08:23:40.600Z"
      },
      {
        "duration": 172,
        "start_time": "2022-08-07T08:23:40.604Z"
      },
      {
        "duration": 90,
        "start_time": "2022-08-07T08:23:40.779Z"
      },
      {
        "duration": 158,
        "start_time": "2022-08-07T08:23:40.871Z"
      },
      {
        "duration": 87,
        "start_time": "2022-08-07T08:23:41.031Z"
      },
      {
        "duration": 99,
        "start_time": "2022-08-07T08:23:41.119Z"
      },
      {
        "duration": 13,
        "start_time": "2022-08-07T08:23:41.219Z"
      },
      {
        "duration": 4,
        "start_time": "2022-08-07T08:23:41.233Z"
      },
      {
        "duration": 171,
        "start_time": "2022-08-07T08:23:41.238Z"
      },
      {
        "duration": 120,
        "start_time": "2022-08-07T08:23:41.410Z"
      },
      {
        "duration": 169,
        "start_time": "2022-08-07T08:23:41.532Z"
      },
      {
        "duration": 5,
        "start_time": "2022-08-07T08:23:41.702Z"
      },
      {
        "duration": 12,
        "start_time": "2022-08-07T08:23:41.709Z"
      },
      {
        "duration": 187,
        "start_time": "2022-08-07T08:23:41.723Z"
      },
      {
        "duration": 74,
        "start_time": "2022-08-07T08:23:41.912Z"
      },
      {
        "duration": 85,
        "start_time": "2022-08-07T08:23:41.999Z"
      },
      {
        "duration": 16,
        "start_time": "2022-08-07T08:23:42.085Z"
      },
      {
        "duration": 4,
        "start_time": "2022-08-07T08:23:42.102Z"
      },
      {
        "duration": 102,
        "start_time": "2022-08-07T08:23:42.107Z"
      },
      {
        "duration": 8,
        "start_time": "2022-08-07T08:23:42.210Z"
      },
      {
        "duration": 3,
        "start_time": "2022-08-07T08:23:42.221Z"
      },
      {
        "duration": 9,
        "start_time": "2022-08-07T08:23:42.226Z"
      },
      {
        "duration": 18,
        "start_time": "2022-08-07T08:23:42.236Z"
      },
      {
        "duration": 7,
        "start_time": "2022-08-07T08:23:42.256Z"
      },
      {
        "duration": 7,
        "start_time": "2022-08-07T08:23:42.264Z"
      },
      {
        "duration": 29,
        "start_time": "2022-08-07T08:23:42.272Z"
      },
      {
        "duration": 14,
        "start_time": "2022-08-07T08:23:42.303Z"
      },
      {
        "duration": 98,
        "start_time": "2022-08-07T08:23:42.318Z"
      },
      {
        "duration": 5,
        "start_time": "2022-08-07T08:23:42.418Z"
      },
      {
        "duration": 17,
        "start_time": "2022-08-07T08:23:42.424Z"
      },
      {
        "duration": 13,
        "start_time": "2022-08-07T08:23:42.443Z"
      },
      {
        "duration": 18,
        "start_time": "2022-08-07T08:23:42.457Z"
      },
      {
        "duration": 26,
        "start_time": "2022-08-07T08:23:42.477Z"
      },
      {
        "duration": 103,
        "start_time": "2022-08-07T08:23:42.504Z"
      },
      {
        "duration": 4,
        "start_time": "2022-08-07T08:25:03.661Z"
      },
      {
        "duration": 6,
        "start_time": "2022-08-07T08:25:12.131Z"
      },
      {
        "duration": 27,
        "start_time": "2022-08-07T08:25:18.238Z"
      },
      {
        "duration": 6,
        "start_time": "2022-08-07T08:25:37.944Z"
      },
      {
        "duration": 13,
        "start_time": "2022-08-07T08:25:59.737Z"
      },
      {
        "duration": 18,
        "start_time": "2022-08-07T08:26:17.458Z"
      },
      {
        "duration": 10,
        "start_time": "2022-08-07T08:26:51.646Z"
      },
      {
        "duration": 11,
        "start_time": "2022-08-07T08:26:57.480Z"
      },
      {
        "duration": 15,
        "start_time": "2022-08-07T08:27:00.570Z"
      },
      {
        "duration": 13,
        "start_time": "2022-08-07T08:27:04.586Z"
      },
      {
        "duration": 53,
        "start_time": "2022-08-07T08:27:07.388Z"
      },
      {
        "duration": 10,
        "start_time": "2022-08-07T08:27:12.621Z"
      },
      {
        "duration": 10,
        "start_time": "2022-08-07T08:27:15.757Z"
      },
      {
        "duration": 44,
        "start_time": "2022-08-07T08:27:22.899Z"
      },
      {
        "duration": 5,
        "start_time": "2022-08-07T08:27:26.229Z"
      },
      {
        "duration": 8,
        "start_time": "2022-08-07T08:27:58.412Z"
      },
      {
        "duration": 6,
        "start_time": "2022-08-07T08:28:48.440Z"
      },
      {
        "duration": 17,
        "start_time": "2022-08-07T08:28:52.505Z"
      },
      {
        "duration": 8,
        "start_time": "2022-08-07T08:28:56.766Z"
      },
      {
        "duration": 15,
        "start_time": "2022-08-07T08:29:01.593Z"
      },
      {
        "duration": 6,
        "start_time": "2022-08-07T08:29:05.150Z"
      },
      {
        "duration": 19,
        "start_time": "2022-08-07T08:29:10.074Z"
      },
      {
        "duration": 22,
        "start_time": "2022-08-07T08:29:33.372Z"
      },
      {
        "duration": 4,
        "start_time": "2022-08-07T08:29:43.124Z"
      },
      {
        "duration": 18,
        "start_time": "2022-08-07T08:29:48.210Z"
      },
      {
        "duration": 18,
        "start_time": "2022-08-07T08:29:52.871Z"
      },
      {
        "duration": 1210,
        "start_time": "2022-08-07T08:30:00.120Z"
      },
      {
        "duration": 35,
        "start_time": "2022-08-07T08:30:01.333Z"
      },
      {
        "duration": 15,
        "start_time": "2022-08-07T08:30:01.370Z"
      },
      {
        "duration": 8,
        "start_time": "2022-08-07T08:30:01.387Z"
      },
      {
        "duration": 33,
        "start_time": "2022-08-07T08:30:01.396Z"
      },
      {
        "duration": 33,
        "start_time": "2022-08-07T08:30:01.431Z"
      },
      {
        "duration": 53,
        "start_time": "2022-08-07T08:30:01.467Z"
      },
      {
        "duration": 29,
        "start_time": "2022-08-07T08:30:01.522Z"
      },
      {
        "duration": 216,
        "start_time": "2022-08-07T08:30:01.554Z"
      },
      {
        "duration": 95,
        "start_time": "2022-08-07T08:30:01.772Z"
      },
      {
        "duration": 155,
        "start_time": "2022-08-07T08:30:01.868Z"
      },
      {
        "duration": 89,
        "start_time": "2022-08-07T08:30:02.025Z"
      },
      {
        "duration": 95,
        "start_time": "2022-08-07T08:30:02.116Z"
      },
      {
        "duration": 13,
        "start_time": "2022-08-07T08:30:02.212Z"
      },
      {
        "duration": 5,
        "start_time": "2022-08-07T08:30:02.226Z"
      },
      {
        "duration": 171,
        "start_time": "2022-08-07T08:30:02.232Z"
      },
      {
        "duration": 100,
        "start_time": "2022-08-07T08:30:02.404Z"
      },
      {
        "duration": 154,
        "start_time": "2022-08-07T08:30:02.505Z"
      },
      {
        "duration": 5,
        "start_time": "2022-08-07T08:30:02.661Z"
      },
      {
        "duration": 22,
        "start_time": "2022-08-07T08:30:02.668Z"
      },
      {
        "duration": 173,
        "start_time": "2022-08-07T08:30:02.691Z"
      },
      {
        "duration": 87,
        "start_time": "2022-08-07T08:30:02.865Z"
      },
      {
        "duration": 103,
        "start_time": "2022-08-07T08:30:02.954Z"
      },
      {
        "duration": 6,
        "start_time": "2022-08-07T08:30:03.059Z"
      },
      {
        "duration": 23,
        "start_time": "2022-08-07T08:30:03.066Z"
      },
      {
        "duration": 111,
        "start_time": "2022-08-07T08:30:03.090Z"
      },
      {
        "duration": 8,
        "start_time": "2022-08-07T08:30:03.203Z"
      },
      {
        "duration": 7,
        "start_time": "2022-08-07T08:30:03.214Z"
      },
      {
        "duration": 19,
        "start_time": "2022-08-07T08:30:03.222Z"
      },
      {
        "duration": 32,
        "start_time": "2022-08-07T08:30:03.242Z"
      },
      {
        "duration": 26,
        "start_time": "2022-08-07T08:30:03.276Z"
      },
      {
        "duration": 15,
        "start_time": "2022-08-07T08:30:03.303Z"
      },
      {
        "duration": 26,
        "start_time": "2022-08-07T08:30:03.320Z"
      },
      {
        "duration": 26,
        "start_time": "2022-08-07T08:30:03.347Z"
      },
      {
        "duration": 97,
        "start_time": "2022-08-07T08:30:03.374Z"
      },
      {
        "duration": 5,
        "start_time": "2022-08-07T08:30:03.473Z"
      },
      {
        "duration": 23,
        "start_time": "2022-08-07T08:30:03.479Z"
      },
      {
        "duration": 22,
        "start_time": "2022-08-07T08:30:03.503Z"
      },
      {
        "duration": 28,
        "start_time": "2022-08-07T08:30:03.526Z"
      },
      {
        "duration": 4,
        "start_time": "2022-08-07T08:30:03.555Z"
      },
      {
        "duration": 21,
        "start_time": "2022-08-07T08:30:03.561Z"
      },
      {
        "duration": 55,
        "start_time": "2022-08-07T08:30:03.583Z"
      },
      {
        "duration": 8,
        "start_time": "2022-08-07T08:30:03.640Z"
      },
      {
        "duration": 15,
        "start_time": "2022-08-07T08:30:03.650Z"
      },
      {
        "duration": 22,
        "start_time": "2022-08-07T08:30:15.295Z"
      },
      {
        "duration": 23,
        "start_time": "2022-08-07T08:31:12.823Z"
      },
      {
        "duration": 5,
        "start_time": "2022-08-07T08:31:39.238Z"
      },
      {
        "duration": 20,
        "start_time": "2022-08-07T08:31:46.205Z"
      },
      {
        "duration": 1226,
        "start_time": "2022-08-07T08:32:32.673Z"
      },
      {
        "duration": 36,
        "start_time": "2022-08-07T08:32:33.902Z"
      },
      {
        "duration": 12,
        "start_time": "2022-08-07T08:32:33.940Z"
      },
      {
        "duration": 3,
        "start_time": "2022-08-07T08:32:33.954Z"
      },
      {
        "duration": 15,
        "start_time": "2022-08-07T08:32:33.958Z"
      },
      {
        "duration": 8,
        "start_time": "2022-08-07T08:32:33.974Z"
      },
      {
        "duration": 29,
        "start_time": "2022-08-07T08:32:33.983Z"
      },
      {
        "duration": 4,
        "start_time": "2022-08-07T08:32:34.013Z"
      },
      {
        "duration": 173,
        "start_time": "2022-08-07T08:32:34.018Z"
      },
      {
        "duration": 83,
        "start_time": "2022-08-07T08:32:34.199Z"
      },
      {
        "duration": 150,
        "start_time": "2022-08-07T08:32:34.283Z"
      },
      {
        "duration": 80,
        "start_time": "2022-08-07T08:32:34.435Z"
      },
      {
        "duration": 99,
        "start_time": "2022-08-07T08:32:34.516Z"
      },
      {
        "duration": 11,
        "start_time": "2022-08-07T08:32:34.617Z"
      },
      {
        "duration": 4,
        "start_time": "2022-08-07T08:32:34.630Z"
      },
      {
        "duration": 172,
        "start_time": "2022-08-07T08:32:34.636Z"
      },
      {
        "duration": 104,
        "start_time": "2022-08-07T08:32:34.810Z"
      },
      {
        "duration": 174,
        "start_time": "2022-08-07T08:32:34.916Z"
      },
      {
        "duration": 5,
        "start_time": "2022-08-07T08:32:35.100Z"
      },
      {
        "duration": 7,
        "start_time": "2022-08-07T08:32:35.107Z"
      },
      {
        "duration": 196,
        "start_time": "2022-08-07T08:32:35.115Z"
      },
      {
        "duration": 97,
        "start_time": "2022-08-07T08:32:35.313Z"
      },
      {
        "duration": 107,
        "start_time": "2022-08-07T08:32:35.411Z"
      },
      {
        "duration": 5,
        "start_time": "2022-08-07T08:32:35.520Z"
      },
      {
        "duration": 10,
        "start_time": "2022-08-07T08:32:35.526Z"
      },
      {
        "duration": 106,
        "start_time": "2022-08-07T08:32:35.537Z"
      },
      {
        "duration": 8,
        "start_time": "2022-08-07T08:32:35.644Z"
      },
      {
        "duration": 8,
        "start_time": "2022-08-07T08:32:35.655Z"
      },
      {
        "duration": 16,
        "start_time": "2022-08-07T08:32:35.664Z"
      },
      {
        "duration": 21,
        "start_time": "2022-08-07T08:32:35.681Z"
      },
      {
        "duration": 9,
        "start_time": "2022-08-07T08:32:35.704Z"
      },
      {
        "duration": 6,
        "start_time": "2022-08-07T08:32:35.715Z"
      },
      {
        "duration": 15,
        "start_time": "2022-08-07T08:32:35.723Z"
      },
      {
        "duration": 18,
        "start_time": "2022-08-07T08:32:35.739Z"
      },
      {
        "duration": 91,
        "start_time": "2022-08-07T08:32:35.758Z"
      },
      {
        "duration": 5,
        "start_time": "2022-08-07T08:32:35.851Z"
      },
      {
        "duration": 16,
        "start_time": "2022-08-07T08:32:35.858Z"
      },
      {
        "duration": 24,
        "start_time": "2022-08-07T08:32:35.876Z"
      },
      {
        "duration": 28,
        "start_time": "2022-08-07T08:32:35.902Z"
      },
      {
        "duration": 5,
        "start_time": "2022-08-07T08:32:35.932Z"
      },
      {
        "duration": 15,
        "start_time": "2022-08-07T08:32:35.939Z"
      },
      {
        "duration": 28,
        "start_time": "2022-08-07T08:32:35.956Z"
      },
      {
        "duration": 16,
        "start_time": "2022-08-07T08:32:35.985Z"
      },
      {
        "duration": 20,
        "start_time": "2022-08-07T08:32:36.002Z"
      },
      {
        "duration": 22,
        "start_time": "2022-08-07T08:32:36.024Z"
      },
      {
        "duration": 95,
        "start_time": "2022-08-07T08:33:07.289Z"
      },
      {
        "duration": 1145,
        "start_time": "2022-08-07T08:33:13.242Z"
      },
      {
        "duration": 34,
        "start_time": "2022-08-07T08:33:14.388Z"
      },
      {
        "duration": 12,
        "start_time": "2022-08-07T08:33:14.423Z"
      },
      {
        "duration": 2,
        "start_time": "2022-08-07T08:33:14.437Z"
      },
      {
        "duration": 16,
        "start_time": "2022-08-07T08:33:14.441Z"
      },
      {
        "duration": 5,
        "start_time": "2022-08-07T08:33:14.458Z"
      },
      {
        "duration": 23,
        "start_time": "2022-08-07T08:33:14.465Z"
      },
      {
        "duration": 4,
        "start_time": "2022-08-07T08:33:14.500Z"
      },
      {
        "duration": 196,
        "start_time": "2022-08-07T08:33:14.506Z"
      },
      {
        "duration": 98,
        "start_time": "2022-08-07T08:33:14.703Z"
      },
      {
        "duration": 146,
        "start_time": "2022-08-07T08:33:14.803Z"
      },
      {
        "duration": 94,
        "start_time": "2022-08-07T08:33:14.951Z"
      },
      {
        "duration": 99,
        "start_time": "2022-08-07T08:33:15.046Z"
      },
      {
        "duration": 12,
        "start_time": "2022-08-07T08:33:15.149Z"
      },
      {
        "duration": 6,
        "start_time": "2022-08-07T08:33:15.163Z"
      },
      {
        "duration": 180,
        "start_time": "2022-08-07T08:33:15.171Z"
      },
      {
        "duration": 101,
        "start_time": "2022-08-07T08:33:15.354Z"
      },
      {
        "duration": 165,
        "start_time": "2022-08-07T08:33:15.457Z"
      },
      {
        "duration": 5,
        "start_time": "2022-08-07T08:33:15.624Z"
      },
      {
        "duration": 8,
        "start_time": "2022-08-07T08:33:15.630Z"
      },
      {
        "duration": 203,
        "start_time": "2022-08-07T08:33:15.639Z"
      },
      {
        "duration": 102,
        "start_time": "2022-08-07T08:33:15.843Z"
      },
      {
        "duration": 92,
        "start_time": "2022-08-07T08:33:15.946Z"
      },
      {
        "duration": 5,
        "start_time": "2022-08-07T08:33:16.039Z"
      },
      {
        "duration": 10,
        "start_time": "2022-08-07T08:33:16.045Z"
      },
      {
        "duration": 100,
        "start_time": "2022-08-07T08:33:16.056Z"
      },
      {
        "duration": 7,
        "start_time": "2022-08-07T08:33:16.157Z"
      },
      {
        "duration": 5,
        "start_time": "2022-08-07T08:33:16.166Z"
      },
      {
        "duration": 6,
        "start_time": "2022-08-07T08:33:16.172Z"
      },
      {
        "duration": 29,
        "start_time": "2022-08-07T08:33:16.179Z"
      },
      {
        "duration": 5,
        "start_time": "2022-08-07T08:33:16.210Z"
      },
      {
        "duration": 6,
        "start_time": "2022-08-07T08:33:16.216Z"
      },
      {
        "duration": 6,
        "start_time": "2022-08-07T08:33:16.223Z"
      },
      {
        "duration": 11,
        "start_time": "2022-08-07T08:33:16.231Z"
      },
      {
        "duration": 116,
        "start_time": "2022-08-07T08:33:16.244Z"
      },
      {
        "duration": 5,
        "start_time": "2022-08-07T08:33:16.361Z"
      },
      {
        "duration": 20,
        "start_time": "2022-08-07T08:33:16.367Z"
      },
      {
        "duration": 17,
        "start_time": "2022-08-07T08:33:16.389Z"
      },
      {
        "duration": 16,
        "start_time": "2022-08-07T08:33:16.408Z"
      },
      {
        "duration": 5,
        "start_time": "2022-08-07T08:33:16.425Z"
      },
      {
        "duration": 14,
        "start_time": "2022-08-07T08:33:16.432Z"
      },
      {
        "duration": 53,
        "start_time": "2022-08-07T08:33:16.448Z"
      },
      {
        "duration": 6,
        "start_time": "2022-08-07T08:33:16.503Z"
      },
      {
        "duration": 16,
        "start_time": "2022-08-07T08:33:16.510Z"
      },
      {
        "duration": 28,
        "start_time": "2022-08-07T08:33:16.527Z"
      },
      {
        "duration": 103,
        "start_time": "2022-08-07T08:33:52.524Z"
      },
      {
        "duration": 1218,
        "start_time": "2022-08-07T08:34:13.483Z"
      },
      {
        "duration": 34,
        "start_time": "2022-08-07T08:34:14.702Z"
      },
      {
        "duration": 13,
        "start_time": "2022-08-07T08:34:14.738Z"
      },
      {
        "duration": 7,
        "start_time": "2022-08-07T08:34:14.752Z"
      },
      {
        "duration": 15,
        "start_time": "2022-08-07T08:34:14.761Z"
      },
      {
        "duration": 7,
        "start_time": "2022-08-07T08:34:14.778Z"
      },
      {
        "duration": 24,
        "start_time": "2022-08-07T08:34:14.786Z"
      },
      {
        "duration": 3,
        "start_time": "2022-08-07T08:34:14.812Z"
      },
      {
        "duration": 169,
        "start_time": "2022-08-07T08:34:14.816Z"
      },
      {
        "duration": 103,
        "start_time": "2022-08-07T08:34:14.987Z"
      },
      {
        "duration": 147,
        "start_time": "2022-08-07T08:34:15.091Z"
      },
      {
        "duration": 89,
        "start_time": "2022-08-07T08:34:15.239Z"
      },
      {
        "duration": 116,
        "start_time": "2022-08-07T08:34:15.330Z"
      },
      {
        "duration": 13,
        "start_time": "2022-08-07T08:34:15.449Z"
      },
      {
        "duration": 5,
        "start_time": "2022-08-07T08:34:15.464Z"
      },
      {
        "duration": 174,
        "start_time": "2022-08-07T08:34:15.471Z"
      },
      {
        "duration": 97,
        "start_time": "2022-08-07T08:34:15.646Z"
      },
      {
        "duration": 143,
        "start_time": "2022-08-07T08:34:15.745Z"
      },
      {
        "duration": 11,
        "start_time": "2022-08-07T08:34:15.890Z"
      },
      {
        "duration": 8,
        "start_time": "2022-08-07T08:34:15.902Z"
      },
      {
        "duration": 210,
        "start_time": "2022-08-07T08:34:15.911Z"
      },
      {
        "duration": 88,
        "start_time": "2022-08-07T08:34:16.122Z"
      },
      {
        "duration": 110,
        "start_time": "2022-08-07T08:34:16.212Z"
      },
      {
        "duration": 5,
        "start_time": "2022-08-07T08:34:16.324Z"
      },
      {
        "duration": 8,
        "start_time": "2022-08-07T08:34:16.330Z"
      },
      {
        "duration": 102,
        "start_time": "2022-08-07T08:34:16.339Z"
      },
      {
        "duration": 8,
        "start_time": "2022-08-07T08:34:16.443Z"
      },
      {
        "duration": 8,
        "start_time": "2022-08-07T08:34:16.452Z"
      },
      {
        "duration": 9,
        "start_time": "2022-08-07T08:34:16.461Z"
      },
      {
        "duration": 30,
        "start_time": "2022-08-07T08:34:16.472Z"
      },
      {
        "duration": 6,
        "start_time": "2022-08-07T08:34:16.503Z"
      },
      {
        "duration": 8,
        "start_time": "2022-08-07T08:34:16.511Z"
      },
      {
        "duration": 7,
        "start_time": "2022-08-07T08:34:16.521Z"
      },
      {
        "duration": 16,
        "start_time": "2022-08-07T08:34:16.530Z"
      },
      {
        "duration": 125,
        "start_time": "2022-08-07T08:34:16.547Z"
      },
      {
        "duration": 5,
        "start_time": "2022-08-07T08:34:16.674Z"
      },
      {
        "duration": 30,
        "start_time": "2022-08-07T08:34:16.680Z"
      },
      {
        "duration": 14,
        "start_time": "2022-08-07T08:34:16.711Z"
      },
      {
        "duration": 27,
        "start_time": "2022-08-07T08:34:16.727Z"
      },
      {
        "duration": 22,
        "start_time": "2022-08-07T08:34:16.756Z"
      },
      {
        "duration": 30,
        "start_time": "2022-08-07T08:34:16.781Z"
      },
      {
        "duration": 24,
        "start_time": "2022-08-07T08:34:16.813Z"
      },
      {
        "duration": 5,
        "start_time": "2022-08-07T08:34:16.839Z"
      },
      {
        "duration": 14,
        "start_time": "2022-08-07T08:34:16.846Z"
      },
      {
        "duration": 14,
        "start_time": "2022-08-07T08:34:16.861Z"
      },
      {
        "duration": 97,
        "start_time": "2022-08-07T08:34:21.777Z"
      },
      {
        "duration": 14,
        "start_time": "2022-08-07T08:34:48.045Z"
      },
      {
        "duration": 1253,
        "start_time": "2022-08-07T08:34:55.791Z"
      },
      {
        "duration": 35,
        "start_time": "2022-08-07T08:34:57.046Z"
      },
      {
        "duration": 12,
        "start_time": "2022-08-07T08:34:57.083Z"
      },
      {
        "duration": 15,
        "start_time": "2022-08-07T08:34:57.097Z"
      },
      {
        "duration": 33,
        "start_time": "2022-08-07T08:34:57.113Z"
      },
      {
        "duration": 16,
        "start_time": "2022-08-07T08:34:57.147Z"
      },
      {
        "duration": 42,
        "start_time": "2022-08-07T08:34:57.164Z"
      },
      {
        "duration": 3,
        "start_time": "2022-08-07T08:34:57.207Z"
      },
      {
        "duration": 201,
        "start_time": "2022-08-07T08:34:57.212Z"
      },
      {
        "duration": 109,
        "start_time": "2022-08-07T08:34:57.416Z"
      },
      {
        "duration": 155,
        "start_time": "2022-08-07T08:34:57.527Z"
      },
      {
        "duration": 85,
        "start_time": "2022-08-07T08:34:57.683Z"
      },
      {
        "duration": 96,
        "start_time": "2022-08-07T08:34:57.770Z"
      },
      {
        "duration": 12,
        "start_time": "2022-08-07T08:34:57.868Z"
      },
      {
        "duration": 19,
        "start_time": "2022-08-07T08:34:57.882Z"
      },
      {
        "duration": 176,
        "start_time": "2022-08-07T08:34:57.903Z"
      },
      {
        "duration": 102,
        "start_time": "2022-08-07T08:34:58.080Z"
      },
      {
        "duration": 172,
        "start_time": "2022-08-07T08:34:58.183Z"
      },
      {
        "duration": 6,
        "start_time": "2022-08-07T08:34:58.356Z"
      },
      {
        "duration": 7,
        "start_time": "2022-08-07T08:34:58.363Z"
      },
      {
        "duration": 188,
        "start_time": "2022-08-07T08:34:58.371Z"
      },
      {
        "duration": 91,
        "start_time": "2022-08-07T08:34:58.561Z"
      },
      {
        "duration": 101,
        "start_time": "2022-08-07T08:34:58.654Z"
      },
      {
        "duration": 4,
        "start_time": "2022-08-07T08:34:58.757Z"
      },
      {
        "duration": 8,
        "start_time": "2022-08-07T08:34:58.762Z"
      },
      {
        "duration": 121,
        "start_time": "2022-08-07T08:34:58.771Z"
      },
      {
        "duration": 9,
        "start_time": "2022-08-07T08:34:58.894Z"
      },
      {
        "duration": 6,
        "start_time": "2022-08-07T08:34:58.906Z"
      },
      {
        "duration": 9,
        "start_time": "2022-08-07T08:34:58.913Z"
      },
      {
        "duration": 16,
        "start_time": "2022-08-07T08:34:58.923Z"
      },
      {
        "duration": 6,
        "start_time": "2022-08-07T08:34:58.941Z"
      },
      {
        "duration": 9,
        "start_time": "2022-08-07T08:34:58.949Z"
      },
      {
        "duration": 7,
        "start_time": "2022-08-07T08:34:58.959Z"
      },
      {
        "duration": 33,
        "start_time": "2022-08-07T08:34:58.968Z"
      },
      {
        "duration": 97,
        "start_time": "2022-08-07T08:34:59.003Z"
      },
      {
        "duration": 5,
        "start_time": "2022-08-07T08:34:59.101Z"
      },
      {
        "duration": 22,
        "start_time": "2022-08-07T08:34:59.108Z"
      },
      {
        "duration": 17,
        "start_time": "2022-08-07T08:34:59.131Z"
      },
      {
        "duration": 19,
        "start_time": "2022-08-07T08:34:59.149Z"
      },
      {
        "duration": 33,
        "start_time": "2022-08-07T08:34:59.170Z"
      },
      {
        "duration": 16,
        "start_time": "2022-08-07T08:34:59.205Z"
      },
      {
        "duration": 22,
        "start_time": "2022-08-07T08:34:59.222Z"
      },
      {
        "duration": 6,
        "start_time": "2022-08-07T08:34:59.246Z"
      },
      {
        "duration": 14,
        "start_time": "2022-08-07T08:34:59.254Z"
      },
      {
        "duration": 54,
        "start_time": "2022-08-07T08:34:59.269Z"
      },
      {
        "duration": 4,
        "start_time": "2022-08-07T08:35:14.647Z"
      },
      {
        "duration": 26,
        "start_time": "2022-08-07T08:35:49.287Z"
      },
      {
        "duration": 1204,
        "start_time": "2022-08-07T08:36:13.078Z"
      },
      {
        "duration": 34,
        "start_time": "2022-08-07T08:36:14.283Z"
      },
      {
        "duration": 13,
        "start_time": "2022-08-07T08:36:14.318Z"
      },
      {
        "duration": 5,
        "start_time": "2022-08-07T08:36:14.332Z"
      },
      {
        "duration": 14,
        "start_time": "2022-08-07T08:36:14.339Z"
      },
      {
        "duration": 10,
        "start_time": "2022-08-07T08:36:14.354Z"
      },
      {
        "duration": 23,
        "start_time": "2022-08-07T08:36:14.366Z"
      },
      {
        "duration": 9,
        "start_time": "2022-08-07T08:36:14.391Z"
      },
      {
        "duration": 168,
        "start_time": "2022-08-07T08:36:14.402Z"
      },
      {
        "duration": 98,
        "start_time": "2022-08-07T08:36:14.572Z"
      },
      {
        "duration": 140,
        "start_time": "2022-08-07T08:36:14.671Z"
      },
      {
        "duration": 74,
        "start_time": "2022-08-07T08:36:14.813Z"
      },
      {
        "duration": 84,
        "start_time": "2022-08-07T08:36:14.900Z"
      },
      {
        "duration": 27,
        "start_time": "2022-08-07T08:36:14.986Z"
      },
      {
        "duration": 32,
        "start_time": "2022-08-07T08:36:15.015Z"
      },
      {
        "duration": 155,
        "start_time": "2022-08-07T08:36:15.049Z"
      },
      {
        "duration": 101,
        "start_time": "2022-08-07T08:36:15.206Z"
      },
      {
        "duration": 157,
        "start_time": "2022-08-07T08:36:15.309Z"
      },
      {
        "duration": 6,
        "start_time": "2022-08-07T08:36:15.470Z"
      },
      {
        "duration": 11,
        "start_time": "2022-08-07T08:36:15.477Z"
      },
      {
        "duration": 174,
        "start_time": "2022-08-07T08:36:15.500Z"
      },
      {
        "duration": 103,
        "start_time": "2022-08-07T08:36:15.676Z"
      },
      {
        "duration": 97,
        "start_time": "2022-08-07T08:36:15.781Z"
      },
      {
        "duration": 5,
        "start_time": "2022-08-07T08:36:15.880Z"
      },
      {
        "duration": 4,
        "start_time": "2022-08-07T08:36:15.900Z"
      },
      {
        "duration": 110,
        "start_time": "2022-08-07T08:36:15.905Z"
      },
      {
        "duration": 7,
        "start_time": "2022-08-07T08:36:16.017Z"
      },
      {
        "duration": 4,
        "start_time": "2022-08-07T08:36:16.027Z"
      },
      {
        "duration": 6,
        "start_time": "2022-08-07T08:36:16.032Z"
      },
      {
        "duration": 13,
        "start_time": "2022-08-07T08:36:16.039Z"
      },
      {
        "duration": 6,
        "start_time": "2022-08-07T08:36:16.053Z"
      },
      {
        "duration": 6,
        "start_time": "2022-08-07T08:36:16.060Z"
      },
      {
        "duration": 8,
        "start_time": "2022-08-07T08:36:16.067Z"
      },
      {
        "duration": 11,
        "start_time": "2022-08-07T08:36:16.100Z"
      },
      {
        "duration": 99,
        "start_time": "2022-08-07T08:36:16.112Z"
      },
      {
        "duration": 5,
        "start_time": "2022-08-07T08:36:16.213Z"
      },
      {
        "duration": 14,
        "start_time": "2022-08-07T08:36:16.219Z"
      },
      {
        "duration": 16,
        "start_time": "2022-08-07T08:36:16.234Z"
      },
      {
        "duration": 45,
        "start_time": "2022-08-07T08:36:16.251Z"
      },
      {
        "duration": 10,
        "start_time": "2022-08-07T08:36:16.297Z"
      },
      {
        "duration": 20,
        "start_time": "2022-08-07T08:36:16.308Z"
      },
      {
        "duration": 22,
        "start_time": "2022-08-07T08:36:16.330Z"
      },
      {
        "duration": 12,
        "start_time": "2022-08-07T08:36:16.354Z"
      },
      {
        "duration": 34,
        "start_time": "2022-08-07T08:36:16.367Z"
      },
      {
        "duration": 25,
        "start_time": "2022-08-07T08:36:16.402Z"
      },
      {
        "duration": 4,
        "start_time": "2022-08-07T08:36:16.428Z"
      },
      {
        "duration": 8,
        "start_time": "2022-08-07T08:36:16.433Z"
      },
      {
        "duration": 98,
        "start_time": "2022-08-07T08:36:21.794Z"
      },
      {
        "duration": 1190,
        "start_time": "2022-08-07T08:36:36.185Z"
      },
      {
        "duration": 35,
        "start_time": "2022-08-07T08:36:37.376Z"
      },
      {
        "duration": 13,
        "start_time": "2022-08-07T08:36:37.412Z"
      },
      {
        "duration": 7,
        "start_time": "2022-08-07T08:36:37.427Z"
      },
      {
        "duration": 14,
        "start_time": "2022-08-07T08:36:37.436Z"
      },
      {
        "duration": 11,
        "start_time": "2022-08-07T08:36:37.452Z"
      },
      {
        "duration": 36,
        "start_time": "2022-08-07T08:36:37.464Z"
      },
      {
        "duration": 3,
        "start_time": "2022-08-07T08:36:37.501Z"
      },
      {
        "duration": 174,
        "start_time": "2022-08-07T08:36:37.505Z"
      },
      {
        "duration": 94,
        "start_time": "2022-08-07T08:36:37.681Z"
      },
      {
        "duration": 148,
        "start_time": "2022-08-07T08:36:37.777Z"
      },
      {
        "duration": 83,
        "start_time": "2022-08-07T08:36:37.926Z"
      },
      {
        "duration": 94,
        "start_time": "2022-08-07T08:36:38.010Z"
      },
      {
        "duration": 13,
        "start_time": "2022-08-07T08:36:38.105Z"
      },
      {
        "duration": 4,
        "start_time": "2022-08-07T08:36:38.119Z"
      },
      {
        "duration": 158,
        "start_time": "2022-08-07T08:36:38.124Z"
      },
      {
        "duration": 95,
        "start_time": "2022-08-07T08:36:38.284Z"
      },
      {
        "duration": 150,
        "start_time": "2022-08-07T08:36:38.381Z"
      },
      {
        "duration": 5,
        "start_time": "2022-08-07T08:36:38.533Z"
      },
      {
        "duration": 8,
        "start_time": "2022-08-07T08:36:38.539Z"
      },
      {
        "duration": 173,
        "start_time": "2022-08-07T08:36:38.548Z"
      },
      {
        "duration": 87,
        "start_time": "2022-08-07T08:36:38.723Z"
      },
      {
        "duration": 95,
        "start_time": "2022-08-07T08:36:38.811Z"
      },
      {
        "duration": 5,
        "start_time": "2022-08-07T08:36:38.907Z"
      },
      {
        "duration": 10,
        "start_time": "2022-08-07T08:36:38.913Z"
      },
      {
        "duration": 97,
        "start_time": "2022-08-07T08:36:38.924Z"
      },
      {
        "duration": 7,
        "start_time": "2022-08-07T08:36:39.023Z"
      },
      {
        "duration": 12,
        "start_time": "2022-08-07T08:36:39.033Z"
      },
      {
        "duration": 7,
        "start_time": "2022-08-07T08:36:39.046Z"
      },
      {
        "duration": 13,
        "start_time": "2022-08-07T08:36:39.054Z"
      },
      {
        "duration": 7,
        "start_time": "2022-08-07T08:36:39.068Z"
      },
      {
        "duration": 6,
        "start_time": "2022-08-07T08:36:39.076Z"
      },
      {
        "duration": 17,
        "start_time": "2022-08-07T08:36:39.083Z"
      },
      {
        "duration": 11,
        "start_time": "2022-08-07T08:36:39.101Z"
      },
      {
        "duration": 96,
        "start_time": "2022-08-07T08:36:39.113Z"
      },
      {
        "duration": 5,
        "start_time": "2022-08-07T08:36:39.211Z"
      },
      {
        "duration": 13,
        "start_time": "2022-08-07T08:36:39.218Z"
      },
      {
        "duration": 12,
        "start_time": "2022-08-07T08:36:39.233Z"
      },
      {
        "duration": 17,
        "start_time": "2022-08-07T08:36:39.247Z"
      },
      {
        "duration": 5,
        "start_time": "2022-08-07T08:36:39.265Z"
      },
      {
        "duration": 41,
        "start_time": "2022-08-07T08:36:39.271Z"
      },
      {
        "duration": 19,
        "start_time": "2022-08-07T08:36:39.313Z"
      },
      {
        "duration": 6,
        "start_time": "2022-08-07T08:36:39.334Z"
      },
      {
        "duration": 15,
        "start_time": "2022-08-07T08:36:39.341Z"
      },
      {
        "duration": 47,
        "start_time": "2022-08-07T08:36:39.357Z"
      },
      {
        "duration": 4,
        "start_time": "2022-08-07T08:36:39.406Z"
      },
      {
        "duration": 12,
        "start_time": "2022-08-07T08:36:39.411Z"
      },
      {
        "duration": 23,
        "start_time": "2022-08-07T08:36:44.802Z"
      },
      {
        "duration": 1171,
        "start_time": "2022-08-07T08:37:25.036Z"
      },
      {
        "duration": 35,
        "start_time": "2022-08-07T08:37:26.208Z"
      },
      {
        "duration": 14,
        "start_time": "2022-08-07T08:37:26.244Z"
      },
      {
        "duration": 28,
        "start_time": "2022-08-07T08:37:26.260Z"
      },
      {
        "duration": 29,
        "start_time": "2022-08-07T08:37:26.290Z"
      },
      {
        "duration": 21,
        "start_time": "2022-08-07T08:37:26.321Z"
      },
      {
        "duration": 45,
        "start_time": "2022-08-07T08:37:26.343Z"
      },
      {
        "duration": 12,
        "start_time": "2022-08-07T08:37:26.389Z"
      },
      {
        "duration": 177,
        "start_time": "2022-08-07T08:37:26.402Z"
      },
      {
        "duration": 92,
        "start_time": "2022-08-07T08:37:26.582Z"
      },
      {
        "duration": 146,
        "start_time": "2022-08-07T08:37:26.675Z"
      },
      {
        "duration": 85,
        "start_time": "2022-08-07T08:37:26.822Z"
      },
      {
        "duration": 103,
        "start_time": "2022-08-07T08:37:26.908Z"
      },
      {
        "duration": 24,
        "start_time": "2022-08-07T08:37:27.013Z"
      },
      {
        "duration": 31,
        "start_time": "2022-08-07T08:37:27.038Z"
      },
      {
        "duration": 169,
        "start_time": "2022-08-07T08:37:27.071Z"
      },
      {
        "duration": 106,
        "start_time": "2022-08-07T08:37:27.242Z"
      },
      {
        "duration": 184,
        "start_time": "2022-08-07T08:37:27.349Z"
      },
      {
        "duration": 7,
        "start_time": "2022-08-07T08:37:27.535Z"
      },
      {
        "duration": 43,
        "start_time": "2022-08-07T08:37:27.544Z"
      },
      {
        "duration": 205,
        "start_time": "2022-08-07T08:37:27.589Z"
      },
      {
        "duration": 79,
        "start_time": "2022-08-07T08:37:27.796Z"
      },
      {
        "duration": 100,
        "start_time": "2022-08-07T08:37:27.877Z"
      },
      {
        "duration": 13,
        "start_time": "2022-08-07T08:37:27.979Z"
      },
      {
        "duration": 21,
        "start_time": "2022-08-07T08:37:27.993Z"
      },
      {
        "duration": 108,
        "start_time": "2022-08-07T08:37:28.016Z"
      },
      {
        "duration": 7,
        "start_time": "2022-08-07T08:37:28.126Z"
      },
      {
        "duration": 25,
        "start_time": "2022-08-07T08:37:28.136Z"
      },
      {
        "duration": 20,
        "start_time": "2022-08-07T08:37:28.163Z"
      },
      {
        "duration": 28,
        "start_time": "2022-08-07T08:37:28.185Z"
      },
      {
        "duration": 24,
        "start_time": "2022-08-07T08:37:28.215Z"
      },
      {
        "duration": 14,
        "start_time": "2022-08-07T08:37:28.241Z"
      },
      {
        "duration": 35,
        "start_time": "2022-08-07T08:37:28.257Z"
      },
      {
        "duration": 29,
        "start_time": "2022-08-07T08:37:28.294Z"
      },
      {
        "duration": 120,
        "start_time": "2022-08-07T08:37:28.325Z"
      },
      {
        "duration": 5,
        "start_time": "2022-08-07T08:37:28.446Z"
      },
      {
        "duration": 29,
        "start_time": "2022-08-07T08:37:28.452Z"
      },
      {
        "duration": 25,
        "start_time": "2022-08-07T08:37:28.483Z"
      },
      {
        "duration": 28,
        "start_time": "2022-08-07T08:37:28.509Z"
      },
      {
        "duration": 23,
        "start_time": "2022-08-07T08:37:28.539Z"
      },
      {
        "duration": 37,
        "start_time": "2022-08-07T08:37:28.564Z"
      },
      {
        "duration": 30,
        "start_time": "2022-08-07T08:37:28.602Z"
      },
      {
        "duration": 18,
        "start_time": "2022-08-07T08:37:28.633Z"
      },
      {
        "duration": 27,
        "start_time": "2022-08-07T08:37:28.652Z"
      },
      {
        "duration": 41,
        "start_time": "2022-08-07T08:37:28.680Z"
      },
      {
        "duration": 16,
        "start_time": "2022-08-07T08:37:28.723Z"
      },
      {
        "duration": 29,
        "start_time": "2022-08-07T08:37:28.740Z"
      },
      {
        "duration": 40,
        "start_time": "2022-08-07T08:37:28.770Z"
      },
      {
        "duration": 120,
        "start_time": "2022-08-07T08:42:28.365Z"
      },
      {
        "duration": 15,
        "start_time": "2022-08-07T08:42:31.463Z"
      },
      {
        "duration": 1172,
        "start_time": "2022-08-07T08:42:41.406Z"
      },
      {
        "duration": 34,
        "start_time": "2022-08-07T08:42:42.580Z"
      },
      {
        "duration": 11,
        "start_time": "2022-08-07T08:42:42.615Z"
      },
      {
        "duration": 21,
        "start_time": "2022-08-07T08:42:42.628Z"
      },
      {
        "duration": 27,
        "start_time": "2022-08-07T08:42:42.651Z"
      },
      {
        "duration": 22,
        "start_time": "2022-08-07T08:42:42.680Z"
      },
      {
        "duration": 29,
        "start_time": "2022-08-07T08:42:42.703Z"
      },
      {
        "duration": 9,
        "start_time": "2022-08-07T08:42:42.734Z"
      },
      {
        "duration": 155,
        "start_time": "2022-08-07T08:42:42.744Z"
      },
      {
        "duration": 83,
        "start_time": "2022-08-07T08:42:42.901Z"
      },
      {
        "duration": 152,
        "start_time": "2022-08-07T08:42:42.986Z"
      },
      {
        "duration": 83,
        "start_time": "2022-08-07T08:42:43.139Z"
      },
      {
        "duration": 94,
        "start_time": "2022-08-07T08:42:43.223Z"
      },
      {
        "duration": 12,
        "start_time": "2022-08-07T08:42:43.320Z"
      },
      {
        "duration": 15,
        "start_time": "2022-08-07T08:42:43.333Z"
      },
      {
        "duration": 184,
        "start_time": "2022-08-07T08:42:43.349Z"
      },
      {
        "duration": 94,
        "start_time": "2022-08-07T08:42:43.535Z"
      },
      {
        "duration": 148,
        "start_time": "2022-08-07T08:42:43.630Z"
      },
      {
        "duration": 5,
        "start_time": "2022-08-07T08:42:43.779Z"
      },
      {
        "duration": 16,
        "start_time": "2022-08-07T08:42:43.785Z"
      },
      {
        "duration": 178,
        "start_time": "2022-08-07T08:42:43.802Z"
      },
      {
        "duration": 86,
        "start_time": "2022-08-07T08:42:43.982Z"
      },
      {
        "duration": 91,
        "start_time": "2022-08-07T08:42:44.070Z"
      },
      {
        "duration": 5,
        "start_time": "2022-08-07T08:42:44.162Z"
      },
      {
        "duration": 7,
        "start_time": "2022-08-07T08:42:44.169Z"
      },
      {
        "duration": 95,
        "start_time": "2022-08-07T08:42:44.177Z"
      },
      {
        "duration": 7,
        "start_time": "2022-08-07T08:42:44.273Z"
      },
      {
        "duration": 19,
        "start_time": "2022-08-07T08:42:44.281Z"
      },
      {
        "duration": 9,
        "start_time": "2022-08-07T08:42:44.302Z"
      },
      {
        "duration": 14,
        "start_time": "2022-08-07T08:42:44.313Z"
      },
      {
        "duration": 6,
        "start_time": "2022-08-07T08:42:44.328Z"
      },
      {
        "duration": 7,
        "start_time": "2022-08-07T08:42:44.335Z"
      },
      {
        "duration": 8,
        "start_time": "2022-08-07T08:42:44.343Z"
      },
      {
        "duration": 12,
        "start_time": "2022-08-07T08:42:44.352Z"
      },
      {
        "duration": 106,
        "start_time": "2022-08-07T08:42:44.366Z"
      },
      {
        "duration": 5,
        "start_time": "2022-08-07T08:42:44.474Z"
      },
      {
        "duration": 20,
        "start_time": "2022-08-07T08:42:44.480Z"
      },
      {
        "duration": 11,
        "start_time": "2022-08-07T08:42:44.502Z"
      },
      {
        "duration": 18,
        "start_time": "2022-08-07T08:42:44.514Z"
      },
      {
        "duration": 4,
        "start_time": "2022-08-07T08:42:44.534Z"
      },
      {
        "duration": 14,
        "start_time": "2022-08-07T08:42:44.541Z"
      },
      {
        "duration": 51,
        "start_time": "2022-08-07T08:42:44.557Z"
      },
      {
        "duration": 5,
        "start_time": "2022-08-07T08:42:44.609Z"
      },
      {
        "duration": 15,
        "start_time": "2022-08-07T08:42:44.616Z"
      },
      {
        "duration": 24,
        "start_time": "2022-08-07T08:42:44.633Z"
      },
      {
        "duration": 3,
        "start_time": "2022-08-07T08:42:44.659Z"
      },
      {
        "duration": 7,
        "start_time": "2022-08-07T08:42:44.663Z"
      },
      {
        "duration": 42,
        "start_time": "2022-08-07T08:42:44.671Z"
      },
      {
        "duration": 3,
        "start_time": "2022-08-07T08:43:13.294Z"
      },
      {
        "duration": 35,
        "start_time": "2022-08-07T08:43:13.298Z"
      },
      {
        "duration": 12,
        "start_time": "2022-08-07T08:43:13.334Z"
      },
      {
        "duration": 14,
        "start_time": "2022-08-07T08:43:13.348Z"
      },
      {
        "duration": 17,
        "start_time": "2022-08-07T08:43:13.363Z"
      },
      {
        "duration": 7,
        "start_time": "2022-08-07T08:43:13.382Z"
      },
      {
        "duration": 23,
        "start_time": "2022-08-07T08:43:13.390Z"
      },
      {
        "duration": 3,
        "start_time": "2022-08-07T08:43:13.414Z"
      },
      {
        "duration": 161,
        "start_time": "2022-08-07T08:43:13.418Z"
      },
      {
        "duration": 95,
        "start_time": "2022-08-07T08:43:13.581Z"
      },
      {
        "duration": 142,
        "start_time": "2022-08-07T08:43:13.678Z"
      },
      {
        "duration": 90,
        "start_time": "2022-08-07T08:43:13.821Z"
      },
      {
        "duration": 101,
        "start_time": "2022-08-07T08:43:13.913Z"
      },
      {
        "duration": 11,
        "start_time": "2022-08-07T08:43:14.015Z"
      },
      {
        "duration": 7,
        "start_time": "2022-08-07T08:43:14.027Z"
      },
      {
        "duration": 245,
        "start_time": "2022-08-07T08:43:14.035Z"
      },
      {
        "duration": 91,
        "start_time": "2022-08-07T08:43:14.281Z"
      },
      {
        "duration": 80,
        "start_time": "2022-08-07T08:43:14.374Z"
      },
      {
        "duration": 5,
        "start_time": "2022-08-07T08:43:14.455Z"
      },
      {
        "duration": 12,
        "start_time": "2022-08-07T08:43:14.461Z"
      },
      {
        "duration": 184,
        "start_time": "2022-08-07T08:43:14.474Z"
      },
      {
        "duration": 82,
        "start_time": "2022-08-07T08:43:14.660Z"
      },
      {
        "duration": 97,
        "start_time": "2022-08-07T08:43:14.743Z"
      },
      {
        "duration": 5,
        "start_time": "2022-08-07T08:43:14.842Z"
      },
      {
        "duration": 9,
        "start_time": "2022-08-07T08:43:14.848Z"
      },
      {
        "duration": 96,
        "start_time": "2022-08-07T08:43:14.858Z"
      },
      {
        "duration": 7,
        "start_time": "2022-08-07T08:43:14.955Z"
      },
      {
        "duration": 6,
        "start_time": "2022-08-07T08:43:14.965Z"
      },
      {
        "duration": 7,
        "start_time": "2022-08-07T08:43:14.973Z"
      },
      {
        "duration": 31,
        "start_time": "2022-08-07T08:43:14.981Z"
      },
      {
        "duration": 12,
        "start_time": "2022-08-07T08:43:15.013Z"
      },
      {
        "duration": 15,
        "start_time": "2022-08-07T08:43:15.027Z"
      },
      {
        "duration": 10,
        "start_time": "2022-08-07T08:43:15.044Z"
      },
      {
        "duration": 21,
        "start_time": "2022-08-07T08:43:15.056Z"
      },
      {
        "duration": 97,
        "start_time": "2022-08-07T08:43:15.078Z"
      },
      {
        "duration": 5,
        "start_time": "2022-08-07T08:43:15.176Z"
      },
      {
        "duration": 20,
        "start_time": "2022-08-07T08:43:15.183Z"
      },
      {
        "duration": 13,
        "start_time": "2022-08-07T08:43:15.204Z"
      },
      {
        "duration": 16,
        "start_time": "2022-08-07T08:43:15.218Z"
      },
      {
        "duration": 5,
        "start_time": "2022-08-07T08:43:19.902Z"
      },
      {
        "duration": 91,
        "start_time": "2022-08-07T08:43:33.766Z"
      },
      {
        "duration": 10,
        "start_time": "2022-08-07T08:43:43.919Z"
      },
      {
        "duration": 9,
        "start_time": "2022-08-07T08:43:48.481Z"
      },
      {
        "duration": 9,
        "start_time": "2022-08-07T08:43:52.002Z"
      },
      {
        "duration": 3,
        "start_time": "2022-08-07T08:44:04.653Z"
      },
      {
        "duration": 5,
        "start_time": "2022-08-07T08:44:33.100Z"
      },
      {
        "duration": 53,
        "start_time": "2022-08-07T08:44:54.238Z"
      },
      {
        "duration": 17,
        "start_time": "2022-08-07T08:45:06.668Z"
      },
      {
        "duration": 5,
        "start_time": "2022-08-07T08:45:23.347Z"
      },
      {
        "duration": 8,
        "start_time": "2022-08-07T08:45:26.444Z"
      },
      {
        "duration": 5,
        "start_time": "2022-08-07T08:45:32.233Z"
      },
      {
        "duration": 4,
        "start_time": "2022-08-07T08:45:41.276Z"
      },
      {
        "duration": 1194,
        "start_time": "2022-08-07T08:45:47.504Z"
      },
      {
        "duration": 35,
        "start_time": "2022-08-07T08:45:48.700Z"
      },
      {
        "duration": 13,
        "start_time": "2022-08-07T08:45:48.736Z"
      },
      {
        "duration": 4,
        "start_time": "2022-08-07T08:45:48.750Z"
      },
      {
        "duration": 18,
        "start_time": "2022-08-07T08:45:48.756Z"
      },
      {
        "duration": 8,
        "start_time": "2022-08-07T08:45:48.776Z"
      },
      {
        "duration": 23,
        "start_time": "2022-08-07T08:45:48.785Z"
      },
      {
        "duration": 3,
        "start_time": "2022-08-07T08:45:48.810Z"
      },
      {
        "duration": 173,
        "start_time": "2022-08-07T08:45:48.814Z"
      },
      {
        "duration": 93,
        "start_time": "2022-08-07T08:45:48.989Z"
      },
      {
        "duration": 136,
        "start_time": "2022-08-07T08:45:49.083Z"
      },
      {
        "duration": 87,
        "start_time": "2022-08-07T08:45:49.220Z"
      },
      {
        "duration": 92,
        "start_time": "2022-08-07T08:45:49.309Z"
      },
      {
        "duration": 12,
        "start_time": "2022-08-07T08:45:49.403Z"
      },
      {
        "duration": 4,
        "start_time": "2022-08-07T08:45:49.417Z"
      },
      {
        "duration": 159,
        "start_time": "2022-08-07T08:45:49.422Z"
      },
      {
        "duration": 89,
        "start_time": "2022-08-07T08:45:49.582Z"
      },
      {
        "duration": 163,
        "start_time": "2022-08-07T08:45:49.672Z"
      },
      {
        "duration": 5,
        "start_time": "2022-08-07T08:45:49.837Z"
      },
      {
        "duration": 7,
        "start_time": "2022-08-07T08:45:49.843Z"
      },
      {
        "duration": 194,
        "start_time": "2022-08-07T08:45:49.852Z"
      },
      {
        "duration": 91,
        "start_time": "2022-08-07T08:45:50.048Z"
      },
      {
        "duration": 94,
        "start_time": "2022-08-07T08:45:50.140Z"
      },
      {
        "duration": 5,
        "start_time": "2022-08-07T08:45:50.235Z"
      },
      {
        "duration": 6,
        "start_time": "2022-08-07T08:45:50.241Z"
      },
      {
        "duration": 104,
        "start_time": "2022-08-07T08:45:50.248Z"
      },
      {
        "duration": 7,
        "start_time": "2022-08-07T08:45:50.353Z"
      },
      {
        "duration": 5,
        "start_time": "2022-08-07T08:45:50.362Z"
      },
      {
        "duration": 9,
        "start_time": "2022-08-07T08:45:50.369Z"
      },
      {
        "duration": 20,
        "start_time": "2022-08-07T08:45:50.380Z"
      },
      {
        "duration": 3,
        "start_time": "2022-08-07T08:45:50.402Z"
      },
      {
        "duration": 6,
        "start_time": "2022-08-07T08:45:50.406Z"
      },
      {
        "duration": 6,
        "start_time": "2022-08-07T08:45:50.413Z"
      },
      {
        "duration": 11,
        "start_time": "2022-08-07T08:45:50.420Z"
      },
      {
        "duration": 114,
        "start_time": "2022-08-07T08:45:50.432Z"
      },
      {
        "duration": 5,
        "start_time": "2022-08-07T08:45:50.547Z"
      },
      {
        "duration": 13,
        "start_time": "2022-08-07T08:45:50.554Z"
      },
      {
        "duration": 11,
        "start_time": "2022-08-07T08:45:50.569Z"
      },
      {
        "duration": 33,
        "start_time": "2022-08-07T08:45:50.581Z"
      },
      {
        "duration": 10,
        "start_time": "2022-08-07T08:45:50.616Z"
      },
      {
        "duration": 9,
        "start_time": "2022-08-07T08:45:50.628Z"
      },
      {
        "duration": 103,
        "start_time": "2022-08-07T08:45:50.638Z"
      },
      {
        "duration": 0,
        "start_time": "2022-08-07T08:45:50.743Z"
      },
      {
        "duration": 0,
        "start_time": "2022-08-07T08:45:50.744Z"
      },
      {
        "duration": 0,
        "start_time": "2022-08-07T08:45:50.745Z"
      },
      {
        "duration": 0,
        "start_time": "2022-08-07T08:45:50.746Z"
      },
      {
        "duration": 0,
        "start_time": "2022-08-07T08:45:50.746Z"
      },
      {
        "duration": 0,
        "start_time": "2022-08-07T08:45:50.748Z"
      },
      {
        "duration": 0,
        "start_time": "2022-08-07T08:45:50.749Z"
      },
      {
        "duration": 6,
        "start_time": "2022-08-07T08:46:10.610Z"
      },
      {
        "duration": 16,
        "start_time": "2022-08-07T08:47:03.406Z"
      },
      {
        "duration": 1212,
        "start_time": "2022-08-07T08:47:08.874Z"
      },
      {
        "duration": 36,
        "start_time": "2022-08-07T08:47:10.088Z"
      },
      {
        "duration": 21,
        "start_time": "2022-08-07T08:47:10.126Z"
      },
      {
        "duration": 19,
        "start_time": "2022-08-07T08:47:10.149Z"
      },
      {
        "duration": 16,
        "start_time": "2022-08-07T08:47:10.170Z"
      },
      {
        "duration": 8,
        "start_time": "2022-08-07T08:47:10.187Z"
      },
      {
        "duration": 30,
        "start_time": "2022-08-07T08:47:10.196Z"
      },
      {
        "duration": 4,
        "start_time": "2022-08-07T08:47:10.228Z"
      },
      {
        "duration": 178,
        "start_time": "2022-08-07T08:47:10.234Z"
      },
      {
        "duration": 96,
        "start_time": "2022-08-07T08:47:10.414Z"
      },
      {
        "duration": 143,
        "start_time": "2022-08-07T08:47:10.512Z"
      },
      {
        "duration": 82,
        "start_time": "2022-08-07T08:47:10.657Z"
      },
      {
        "duration": 99,
        "start_time": "2022-08-07T08:47:10.741Z"
      },
      {
        "duration": 13,
        "start_time": "2022-08-07T08:47:10.843Z"
      },
      {
        "duration": 4,
        "start_time": "2022-08-07T08:47:10.857Z"
      },
      {
        "duration": 178,
        "start_time": "2022-08-07T08:47:10.863Z"
      },
      {
        "duration": 103,
        "start_time": "2022-08-07T08:47:11.043Z"
      },
      {
        "duration": 153,
        "start_time": "2022-08-07T08:47:11.148Z"
      },
      {
        "duration": 6,
        "start_time": "2022-08-07T08:47:11.303Z"
      },
      {
        "duration": 9,
        "start_time": "2022-08-07T08:47:11.310Z"
      },
      {
        "duration": 202,
        "start_time": "2022-08-07T08:47:11.320Z"
      },
      {
        "duration": 105,
        "start_time": "2022-08-07T08:47:11.524Z"
      },
      {
        "duration": 95,
        "start_time": "2022-08-07T08:47:11.631Z"
      },
      {
        "duration": 5,
        "start_time": "2022-08-07T08:47:11.727Z"
      },
      {
        "duration": 15,
        "start_time": "2022-08-07T08:47:11.733Z"
      },
      {
        "duration": 101,
        "start_time": "2022-08-07T08:47:11.749Z"
      },
      {
        "duration": 7,
        "start_time": "2022-08-07T08:47:11.852Z"
      },
      {
        "duration": 6,
        "start_time": "2022-08-07T08:47:11.861Z"
      },
      {
        "duration": 10,
        "start_time": "2022-08-07T08:47:11.869Z"
      },
      {
        "duration": 24,
        "start_time": "2022-08-07T08:47:11.880Z"
      },
      {
        "duration": 11,
        "start_time": "2022-08-07T08:47:11.905Z"
      },
      {
        "duration": 7,
        "start_time": "2022-08-07T08:47:11.917Z"
      },
      {
        "duration": 10,
        "start_time": "2022-08-07T08:47:11.925Z"
      },
      {
        "duration": 13,
        "start_time": "2022-08-07T08:47:11.936Z"
      },
      {
        "duration": 95,
        "start_time": "2022-08-07T08:47:11.950Z"
      },
      {
        "duration": 5,
        "start_time": "2022-08-07T08:47:12.046Z"
      },
      {
        "duration": 15,
        "start_time": "2022-08-07T08:47:12.053Z"
      },
      {
        "duration": 13,
        "start_time": "2022-08-07T08:47:12.070Z"
      },
      {
        "duration": 28,
        "start_time": "2022-08-07T08:47:12.084Z"
      },
      {
        "duration": 5,
        "start_time": "2022-08-07T08:47:12.113Z"
      },
      {
        "duration": 7,
        "start_time": "2022-08-07T08:47:12.121Z"
      },
      {
        "duration": 16,
        "start_time": "2022-08-07T08:47:12.129Z"
      },
      {
        "duration": 21,
        "start_time": "2022-08-07T08:47:12.146Z"
      },
      {
        "duration": 31,
        "start_time": "2022-08-07T08:47:12.169Z"
      },
      {
        "duration": 17,
        "start_time": "2022-08-07T08:47:12.202Z"
      },
      {
        "duration": 29,
        "start_time": "2022-08-07T08:47:12.220Z"
      },
      {
        "duration": 3,
        "start_time": "2022-08-07T08:47:12.251Z"
      },
      {
        "duration": 8,
        "start_time": "2022-08-07T08:47:12.255Z"
      },
      {
        "duration": 21,
        "start_time": "2022-08-07T08:47:12.264Z"
      },
      {
        "duration": 1648,
        "start_time": "2022-08-07T11:04:02.344Z"
      },
      {
        "duration": 84,
        "start_time": "2022-08-07T11:04:03.994Z"
      },
      {
        "duration": 18,
        "start_time": "2022-08-07T11:04:04.079Z"
      },
      {
        "duration": 19,
        "start_time": "2022-08-07T11:04:04.099Z"
      },
      {
        "duration": 32,
        "start_time": "2022-08-07T11:04:04.121Z"
      },
      {
        "duration": 54,
        "start_time": "2022-08-07T11:04:04.155Z"
      },
      {
        "duration": 40,
        "start_time": "2022-08-07T11:04:04.211Z"
      },
      {
        "duration": 5,
        "start_time": "2022-08-07T11:04:04.253Z"
      },
      {
        "duration": 226,
        "start_time": "2022-08-07T11:04:04.260Z"
      },
      {
        "duration": 149,
        "start_time": "2022-08-07T11:04:04.491Z"
      },
      {
        "duration": 198,
        "start_time": "2022-08-07T11:04:04.643Z"
      },
      {
        "duration": 108,
        "start_time": "2022-08-07T11:04:04.844Z"
      },
      {
        "duration": 125,
        "start_time": "2022-08-07T11:04:04.955Z"
      },
      {
        "duration": 16,
        "start_time": "2022-08-07T11:04:05.091Z"
      },
      {
        "duration": 19,
        "start_time": "2022-08-07T11:04:05.109Z"
      },
      {
        "duration": 202,
        "start_time": "2022-08-07T11:04:05.130Z"
      },
      {
        "duration": 128,
        "start_time": "2022-08-07T11:04:05.334Z"
      },
      {
        "duration": 191,
        "start_time": "2022-08-07T11:04:05.464Z"
      },
      {
        "duration": 5,
        "start_time": "2022-08-07T11:04:05.657Z"
      },
      {
        "duration": 8,
        "start_time": "2022-08-07T11:04:05.664Z"
      },
      {
        "duration": 220,
        "start_time": "2022-08-07T11:04:05.691Z"
      },
      {
        "duration": 125,
        "start_time": "2022-08-07T11:04:05.913Z"
      },
      {
        "duration": 122,
        "start_time": "2022-08-07T11:04:06.039Z"
      },
      {
        "duration": 5,
        "start_time": "2022-08-07T11:04:06.163Z"
      },
      {
        "duration": 10,
        "start_time": "2022-08-07T11:04:06.171Z"
      },
      {
        "duration": 124,
        "start_time": "2022-08-07T11:04:06.192Z"
      },
      {
        "duration": 9,
        "start_time": "2022-08-07T11:04:06.318Z"
      },
      {
        "duration": 6,
        "start_time": "2022-08-07T11:04:06.329Z"
      },
      {
        "duration": 31,
        "start_time": "2022-08-07T11:04:06.337Z"
      },
      {
        "duration": 25,
        "start_time": "2022-08-07T11:04:06.369Z"
      },
      {
        "duration": 15,
        "start_time": "2022-08-07T11:04:06.396Z"
      },
      {
        "duration": 8,
        "start_time": "2022-08-07T11:04:06.413Z"
      },
      {
        "duration": 13,
        "start_time": "2022-08-07T11:04:06.423Z"
      },
      {
        "duration": 23,
        "start_time": "2022-08-07T11:04:06.438Z"
      },
      {
        "duration": 120,
        "start_time": "2022-08-07T11:04:06.463Z"
      },
      {
        "duration": 8,
        "start_time": "2022-08-07T11:04:06.585Z"
      },
      {
        "duration": 5,
        "start_time": "2022-08-07T11:04:27.868Z"
      },
      {
        "duration": 7,
        "start_time": "2022-08-07T11:04:40.254Z"
      },
      {
        "duration": 8,
        "start_time": "2022-08-07T11:05:09.696Z"
      },
      {
        "duration": 7,
        "start_time": "2022-08-07T11:05:16.693Z"
      },
      {
        "duration": 1438,
        "start_time": "2022-08-07T11:05:52.275Z"
      },
      {
        "duration": 39,
        "start_time": "2022-08-07T11:05:53.715Z"
      },
      {
        "duration": 19,
        "start_time": "2022-08-07T11:05:53.756Z"
      },
      {
        "duration": 22,
        "start_time": "2022-08-07T11:05:53.778Z"
      },
      {
        "duration": 28,
        "start_time": "2022-08-07T11:05:53.803Z"
      },
      {
        "duration": 24,
        "start_time": "2022-08-07T11:05:53.832Z"
      },
      {
        "duration": 39,
        "start_time": "2022-08-07T11:05:53.858Z"
      },
      {
        "duration": 7,
        "start_time": "2022-08-07T11:05:53.899Z"
      },
      {
        "duration": 230,
        "start_time": "2022-08-07T11:05:53.908Z"
      },
      {
        "duration": 123,
        "start_time": "2022-08-07T11:05:54.141Z"
      },
      {
        "duration": 182,
        "start_time": "2022-08-07T11:05:54.266Z"
      },
      {
        "duration": 111,
        "start_time": "2022-08-07T11:05:54.450Z"
      },
      {
        "duration": 144,
        "start_time": "2022-08-07T11:05:54.563Z"
      },
      {
        "duration": 15,
        "start_time": "2022-08-07T11:05:54.709Z"
      },
      {
        "duration": 6,
        "start_time": "2022-08-07T11:05:54.726Z"
      },
      {
        "duration": 238,
        "start_time": "2022-08-07T11:05:54.734Z"
      },
      {
        "duration": 141,
        "start_time": "2022-08-07T11:05:54.974Z"
      },
      {
        "duration": 191,
        "start_time": "2022-08-07T11:05:55.117Z"
      },
      {
        "duration": 6,
        "start_time": "2022-08-07T11:05:55.310Z"
      },
      {
        "duration": 13,
        "start_time": "2022-08-07T11:05:55.318Z"
      },
      {
        "duration": 235,
        "start_time": "2022-08-07T11:05:55.332Z"
      },
      {
        "duration": 108,
        "start_time": "2022-08-07T11:05:55.569Z"
      },
      {
        "duration": 144,
        "start_time": "2022-08-07T11:05:55.679Z"
      },
      {
        "duration": 7,
        "start_time": "2022-08-07T11:05:55.826Z"
      },
      {
        "duration": 10,
        "start_time": "2022-08-07T11:05:55.835Z"
      },
      {
        "duration": 147,
        "start_time": "2022-08-07T11:05:55.847Z"
      },
      {
        "duration": 9,
        "start_time": "2022-08-07T11:05:55.995Z"
      },
      {
        "duration": 6,
        "start_time": "2022-08-07T11:05:56.009Z"
      },
      {
        "duration": 10,
        "start_time": "2022-08-07T11:05:56.018Z"
      },
      {
        "duration": 17,
        "start_time": "2022-08-07T11:05:56.030Z"
      },
      {
        "duration": 8,
        "start_time": "2022-08-07T11:05:56.051Z"
      },
      {
        "duration": 6,
        "start_time": "2022-08-07T11:05:56.061Z"
      },
      {
        "duration": 7,
        "start_time": "2022-08-07T11:05:56.092Z"
      },
      {
        "duration": 23,
        "start_time": "2022-08-07T11:05:56.100Z"
      },
      {
        "duration": 128,
        "start_time": "2022-08-07T11:05:56.125Z"
      },
      {
        "duration": 6,
        "start_time": "2022-08-07T11:05:56.255Z"
      },
      {
        "duration": 14,
        "start_time": "2022-08-07T11:05:56.263Z"
      },
      {
        "duration": 22,
        "start_time": "2022-08-07T11:05:56.278Z"
      },
      {
        "duration": 21,
        "start_time": "2022-08-07T11:05:56.302Z"
      },
      {
        "duration": 22,
        "start_time": "2022-08-07T11:05:56.325Z"
      },
      {
        "duration": 10,
        "start_time": "2022-08-07T11:05:56.349Z"
      },
      {
        "duration": 14,
        "start_time": "2022-08-07T11:05:56.360Z"
      },
      {
        "duration": 28,
        "start_time": "2022-08-07T11:05:56.375Z"
      },
      {
        "duration": 28,
        "start_time": "2022-08-07T11:05:56.405Z"
      },
      {
        "duration": 6,
        "start_time": "2022-08-07T11:05:56.435Z"
      },
      {
        "duration": 19,
        "start_time": "2022-08-07T11:05:56.443Z"
      },
      {
        "duration": 54,
        "start_time": "2022-08-07T11:05:56.464Z"
      },
      {
        "duration": 5,
        "start_time": "2022-08-07T11:05:56.520Z"
      },
      {
        "duration": 9,
        "start_time": "2022-08-07T11:05:56.526Z"
      },
      {
        "duration": 25,
        "start_time": "2022-08-07T11:05:56.537Z"
      },
      {
        "duration": 18,
        "start_time": "2022-08-07T11:08:57.803Z"
      },
      {
        "duration": 22,
        "start_time": "2022-08-07T11:10:55.620Z"
      },
      {
        "duration": 4,
        "start_time": "2022-08-07T11:14:14.707Z"
      },
      {
        "duration": 483,
        "start_time": "2022-08-07T11:14:14.713Z"
      },
      {
        "duration": 138,
        "start_time": "2022-08-07T11:14:15.198Z"
      },
      {
        "duration": 21,
        "start_time": "2022-08-07T11:14:15.338Z"
      },
      {
        "duration": 34,
        "start_time": "2022-08-07T11:14:15.362Z"
      },
      {
        "duration": 19,
        "start_time": "2022-08-07T11:14:15.399Z"
      },
      {
        "duration": 113,
        "start_time": "2022-08-07T11:14:15.420Z"
      },
      {
        "duration": 26,
        "start_time": "2022-08-07T11:14:15.536Z"
      },
      {
        "duration": 295,
        "start_time": "2022-08-07T11:14:15.565Z"
      },
      {
        "duration": 145,
        "start_time": "2022-08-07T11:14:15.862Z"
      },
      {
        "duration": 199,
        "start_time": "2022-08-07T11:14:16.011Z"
      },
      {
        "duration": 134,
        "start_time": "2022-08-07T11:14:16.212Z"
      },
      {
        "duration": 237,
        "start_time": "2022-08-07T11:14:16.347Z"
      },
      {
        "duration": 19,
        "start_time": "2022-08-07T11:14:16.592Z"
      },
      {
        "duration": 26,
        "start_time": "2022-08-07T11:14:16.613Z"
      },
      {
        "duration": 252,
        "start_time": "2022-08-07T11:14:16.642Z"
      },
      {
        "duration": 157,
        "start_time": "2022-08-07T11:14:16.896Z"
      },
      {
        "duration": 116,
        "start_time": "2022-08-07T11:14:17.055Z"
      },
      {
        "duration": 6,
        "start_time": "2022-08-07T11:14:17.174Z"
      },
      {
        "duration": 12,
        "start_time": "2022-08-07T11:14:17.193Z"
      },
      {
        "duration": 259,
        "start_time": "2022-08-07T11:14:17.207Z"
      },
      {
        "duration": 168,
        "start_time": "2022-08-07T11:14:17.468Z"
      },
      {
        "duration": 133,
        "start_time": "2022-08-07T11:14:17.638Z"
      },
      {
        "duration": 6,
        "start_time": "2022-08-07T11:14:17.773Z"
      },
      {
        "duration": 6,
        "start_time": "2022-08-07T11:14:17.792Z"
      },
      {
        "duration": 161,
        "start_time": "2022-08-07T11:14:17.800Z"
      },
      {
        "duration": 23,
        "start_time": "2022-08-07T11:14:17.963Z"
      },
      {
        "duration": 57,
        "start_time": "2022-08-07T11:14:17.989Z"
      },
      {
        "duration": 45,
        "start_time": "2022-08-07T11:14:18.051Z"
      },
      {
        "duration": 42,
        "start_time": "2022-08-07T11:14:18.097Z"
      },
      {
        "duration": 21,
        "start_time": "2022-08-07T11:14:18.141Z"
      },
      {
        "duration": 26,
        "start_time": "2022-08-07T11:14:18.164Z"
      },
      {
        "duration": 13,
        "start_time": "2022-08-07T11:14:18.191Z"
      },
      {
        "duration": 23,
        "start_time": "2022-08-07T11:14:18.206Z"
      },
      {
        "duration": 132,
        "start_time": "2022-08-07T11:14:18.231Z"
      },
      {
        "duration": 7,
        "start_time": "2022-08-07T11:14:18.364Z"
      },
      {
        "duration": 49,
        "start_time": "2022-08-07T11:14:18.373Z"
      },
      {
        "duration": 25,
        "start_time": "2022-08-07T11:14:18.425Z"
      },
      {
        "duration": 46,
        "start_time": "2022-08-07T11:14:18.452Z"
      },
      {
        "duration": 5,
        "start_time": "2022-08-07T11:15:21.796Z"
      },
      {
        "duration": 4,
        "start_time": "2022-08-07T11:15:44.385Z"
      },
      {
        "duration": 115,
        "start_time": "2022-08-07T11:17:09.884Z"
      },
      {
        "duration": 7,
        "start_time": "2022-08-07T11:17:28.361Z"
      },
      {
        "duration": 16,
        "start_time": "2022-08-07T11:19:15.765Z"
      },
      {
        "duration": 8,
        "start_time": "2022-08-07T11:19:57.658Z"
      },
      {
        "duration": 17,
        "start_time": "2022-08-07T11:20:36.772Z"
      },
      {
        "duration": 10,
        "start_time": "2022-08-07T11:20:54.531Z"
      },
      {
        "duration": 10,
        "start_time": "2022-08-07T11:22:22.238Z"
      },
      {
        "duration": 24,
        "start_time": "2022-08-07T11:22:58.725Z"
      },
      {
        "duration": 10,
        "start_time": "2022-08-07T11:23:04.956Z"
      },
      {
        "duration": 20,
        "start_time": "2022-08-07T11:23:44.204Z"
      },
      {
        "duration": 24,
        "start_time": "2022-08-07T11:24:01.023Z"
      },
      {
        "duration": 31,
        "start_time": "2022-08-07T11:24:16.869Z"
      },
      {
        "duration": 23,
        "start_time": "2022-08-07T11:25:24.975Z"
      },
      {
        "duration": 23,
        "start_time": "2022-08-07T11:25:31.644Z"
      },
      {
        "duration": 20,
        "start_time": "2022-08-07T11:26:15.079Z"
      },
      {
        "duration": 10,
        "start_time": "2022-08-07T11:29:42.632Z"
      },
      {
        "duration": 10,
        "start_time": "2022-08-07T11:29:56.125Z"
      },
      {
        "duration": 10,
        "start_time": "2022-08-07T11:30:10.878Z"
      },
      {
        "duration": 10,
        "start_time": "2022-08-07T11:30:21.159Z"
      },
      {
        "duration": 13,
        "start_time": "2022-08-07T11:33:04.602Z"
      },
      {
        "duration": 16,
        "start_time": "2022-08-07T11:33:18.287Z"
      },
      {
        "duration": 22,
        "start_time": "2022-08-07T11:34:43.204Z"
      },
      {
        "duration": 21,
        "start_time": "2022-08-07T11:35:16.765Z"
      },
      {
        "duration": 3,
        "start_time": "2022-08-07T11:36:08.600Z"
      },
      {
        "duration": 14,
        "start_time": "2022-08-07T11:36:31.472Z"
      },
      {
        "duration": 22,
        "start_time": "2022-08-07T11:36:33.518Z"
      },
      {
        "duration": 6,
        "start_time": "2022-08-07T11:37:08.764Z"
      },
      {
        "duration": 21,
        "start_time": "2022-08-07T11:37:27.916Z"
      },
      {
        "duration": 6,
        "start_time": "2022-08-07T11:37:57.295Z"
      },
      {
        "duration": 21,
        "start_time": "2022-08-07T11:38:01.957Z"
      },
      {
        "duration": 1358,
        "start_time": "2022-08-07T11:39:17.130Z"
      },
      {
        "duration": 39,
        "start_time": "2022-08-07T11:39:18.491Z"
      },
      {
        "duration": 15,
        "start_time": "2022-08-07T11:39:18.532Z"
      },
      {
        "duration": 5,
        "start_time": "2022-08-07T11:39:18.549Z"
      },
      {
        "duration": 22,
        "start_time": "2022-08-07T11:39:18.556Z"
      },
      {
        "duration": 12,
        "start_time": "2022-08-07T11:39:18.579Z"
      },
      {
        "duration": 34,
        "start_time": "2022-08-07T11:39:18.593Z"
      },
      {
        "duration": 3,
        "start_time": "2022-08-07T11:39:18.629Z"
      },
      {
        "duration": 219,
        "start_time": "2022-08-07T11:39:18.634Z"
      },
      {
        "duration": 122,
        "start_time": "2022-08-07T11:39:18.855Z"
      },
      {
        "duration": 185,
        "start_time": "2022-08-07T11:39:18.979Z"
      },
      {
        "duration": 109,
        "start_time": "2022-08-07T11:39:19.166Z"
      },
      {
        "duration": 148,
        "start_time": "2022-08-07T11:39:19.277Z"
      },
      {
        "duration": 19,
        "start_time": "2022-08-07T11:39:19.430Z"
      },
      {
        "duration": 7,
        "start_time": "2022-08-07T11:39:19.453Z"
      },
      {
        "duration": 223,
        "start_time": "2022-08-07T11:39:19.462Z"
      },
      {
        "duration": 202,
        "start_time": "2022-08-07T11:39:19.692Z"
      },
      {
        "duration": 106,
        "start_time": "2022-08-07T11:39:19.896Z"
      },
      {
        "duration": 5,
        "start_time": "2022-08-07T11:39:20.004Z"
      },
      {
        "duration": 11,
        "start_time": "2022-08-07T11:39:20.011Z"
      },
      {
        "duration": 230,
        "start_time": "2022-08-07T11:39:20.024Z"
      },
      {
        "duration": 112,
        "start_time": "2022-08-07T11:39:20.256Z"
      },
      {
        "duration": 134,
        "start_time": "2022-08-07T11:39:20.369Z"
      },
      {
        "duration": 5,
        "start_time": "2022-08-07T11:39:20.505Z"
      },
      {
        "duration": 6,
        "start_time": "2022-08-07T11:39:20.511Z"
      },
      {
        "duration": 129,
        "start_time": "2022-08-07T11:39:20.519Z"
      },
      {
        "duration": 8,
        "start_time": "2022-08-07T11:39:20.650Z"
      },
      {
        "duration": 11,
        "start_time": "2022-08-07T11:39:20.659Z"
      },
      {
        "duration": 9,
        "start_time": "2022-08-07T11:39:20.672Z"
      },
      {
        "duration": 23,
        "start_time": "2022-08-07T11:39:20.692Z"
      },
      {
        "duration": 5,
        "start_time": "2022-08-07T11:39:20.717Z"
      },
      {
        "duration": 6,
        "start_time": "2022-08-07T11:39:20.724Z"
      },
      {
        "duration": 7,
        "start_time": "2022-08-07T11:39:20.732Z"
      },
      {
        "duration": 14,
        "start_time": "2022-08-07T11:39:20.740Z"
      },
      {
        "duration": 138,
        "start_time": "2022-08-07T11:39:20.756Z"
      },
      {
        "duration": 6,
        "start_time": "2022-08-07T11:39:20.896Z"
      },
      {
        "duration": 9,
        "start_time": "2022-08-07T11:39:20.903Z"
      },
      {
        "duration": 29,
        "start_time": "2022-08-07T11:39:20.914Z"
      },
      {
        "duration": 20,
        "start_time": "2022-08-07T11:39:20.945Z"
      },
      {
        "duration": 28,
        "start_time": "2022-08-07T11:39:20.967Z"
      },
      {
        "duration": 20,
        "start_time": "2022-08-07T11:39:21.000Z"
      },
      {
        "duration": 7,
        "start_time": "2022-08-07T11:39:21.022Z"
      },
      {
        "duration": 142,
        "start_time": "2022-08-07T11:39:21.031Z"
      },
      {
        "duration": 0,
        "start_time": "2022-08-07T11:39:21.174Z"
      },
      {
        "duration": 0,
        "start_time": "2022-08-07T11:39:21.176Z"
      },
      {
        "duration": 0,
        "start_time": "2022-08-07T11:39:21.177Z"
      },
      {
        "duration": 0,
        "start_time": "2022-08-07T11:39:21.178Z"
      },
      {
        "duration": 0,
        "start_time": "2022-08-07T11:39:21.191Z"
      },
      {
        "duration": 0,
        "start_time": "2022-08-07T11:39:21.193Z"
      },
      {
        "duration": 0,
        "start_time": "2022-08-07T11:39:21.195Z"
      },
      {
        "duration": 0,
        "start_time": "2022-08-07T11:39:21.196Z"
      },
      {
        "duration": 15,
        "start_time": "2022-08-07T11:39:50.932Z"
      },
      {
        "duration": 15,
        "start_time": "2022-08-07T11:39:59.765Z"
      },
      {
        "duration": 2975,
        "start_time": "2022-08-07T11:40:14.717Z"
      },
      {
        "duration": 40,
        "start_time": "2022-08-07T11:40:17.694Z"
      },
      {
        "duration": 17,
        "start_time": "2022-08-07T11:40:17.736Z"
      },
      {
        "duration": 9,
        "start_time": "2022-08-07T11:40:17.755Z"
      },
      {
        "duration": 21,
        "start_time": "2022-08-07T11:40:17.767Z"
      },
      {
        "duration": 9,
        "start_time": "2022-08-07T11:40:17.790Z"
      },
      {
        "duration": 46,
        "start_time": "2022-08-07T11:40:17.801Z"
      },
      {
        "duration": 6,
        "start_time": "2022-08-07T11:40:17.849Z"
      },
      {
        "duration": 212,
        "start_time": "2022-08-07T11:40:17.856Z"
      },
      {
        "duration": 145,
        "start_time": "2022-08-07T11:40:18.070Z"
      },
      {
        "duration": 177,
        "start_time": "2022-08-07T11:40:18.217Z"
      },
      {
        "duration": 113,
        "start_time": "2022-08-07T11:40:18.396Z"
      },
      {
        "duration": 122,
        "start_time": "2022-08-07T11:40:18.510Z"
      },
      {
        "duration": 14,
        "start_time": "2022-08-07T11:40:18.635Z"
      },
      {
        "duration": 5,
        "start_time": "2022-08-07T11:40:18.651Z"
      },
      {
        "duration": 211,
        "start_time": "2022-08-07T11:40:18.658Z"
      },
      {
        "duration": 195,
        "start_time": "2022-08-07T11:40:18.871Z"
      },
      {
        "duration": 105,
        "start_time": "2022-08-07T11:40:19.067Z"
      },
      {
        "duration": 5,
        "start_time": "2022-08-07T11:40:19.174Z"
      },
      {
        "duration": 4,
        "start_time": "2022-08-07T11:40:19.191Z"
      },
      {
        "duration": 230,
        "start_time": "2022-08-07T11:40:19.196Z"
      },
      {
        "duration": 119,
        "start_time": "2022-08-07T11:40:19.428Z"
      },
      {
        "duration": 117,
        "start_time": "2022-08-07T11:40:19.549Z"
      },
      {
        "duration": 5,
        "start_time": "2022-08-07T11:40:19.669Z"
      },
      {
        "duration": 17,
        "start_time": "2022-08-07T11:40:19.692Z"
      },
      {
        "duration": 115,
        "start_time": "2022-08-07T11:40:19.711Z"
      },
      {
        "duration": 8,
        "start_time": "2022-08-07T11:40:19.827Z"
      },
      {
        "duration": 14,
        "start_time": "2022-08-07T11:40:19.837Z"
      },
      {
        "duration": 25,
        "start_time": "2022-08-07T11:40:19.853Z"
      },
      {
        "duration": 18,
        "start_time": "2022-08-07T11:40:19.880Z"
      },
      {
        "duration": 19,
        "start_time": "2022-08-07T11:40:19.900Z"
      },
      {
        "duration": 9,
        "start_time": "2022-08-07T11:40:19.921Z"
      },
      {
        "duration": 12,
        "start_time": "2022-08-07T11:40:19.932Z"
      },
      {
        "duration": 51,
        "start_time": "2022-08-07T11:40:19.946Z"
      },
      {
        "duration": 132,
        "start_time": "2022-08-07T11:40:19.999Z"
      },
      {
        "duration": 6,
        "start_time": "2022-08-07T11:40:20.133Z"
      },
      {
        "duration": 10,
        "start_time": "2022-08-07T11:40:20.141Z"
      },
      {
        "duration": 18,
        "start_time": "2022-08-07T11:40:20.153Z"
      },
      {
        "duration": 26,
        "start_time": "2022-08-07T11:40:20.173Z"
      },
      {
        "duration": 12,
        "start_time": "2022-08-07T11:40:20.201Z"
      },
      {
        "duration": 22,
        "start_time": "2022-08-07T11:40:20.218Z"
      },
      {
        "duration": 16,
        "start_time": "2022-08-07T11:40:20.241Z"
      },
      {
        "duration": 138,
        "start_time": "2022-08-07T11:40:20.259Z"
      },
      {
        "duration": 0,
        "start_time": "2022-08-07T11:40:20.399Z"
      },
      {
        "duration": 0,
        "start_time": "2022-08-07T11:40:20.400Z"
      },
      {
        "duration": 0,
        "start_time": "2022-08-07T11:40:20.402Z"
      },
      {
        "duration": 0,
        "start_time": "2022-08-07T11:40:20.403Z"
      },
      {
        "duration": 0,
        "start_time": "2022-08-07T11:40:20.404Z"
      },
      {
        "duration": 0,
        "start_time": "2022-08-07T11:40:20.405Z"
      },
      {
        "duration": 0,
        "start_time": "2022-08-07T11:40:20.406Z"
      },
      {
        "duration": 0,
        "start_time": "2022-08-07T11:40:20.407Z"
      },
      {
        "duration": 20,
        "start_time": "2022-08-07T11:41:11.472Z"
      },
      {
        "duration": 8,
        "start_time": "2022-08-07T11:41:13.647Z"
      },
      {
        "duration": 17,
        "start_time": "2022-08-07T11:41:16.598Z"
      },
      {
        "duration": 1456,
        "start_time": "2022-08-07T11:41:24.213Z"
      },
      {
        "duration": 39,
        "start_time": "2022-08-07T11:41:25.671Z"
      },
      {
        "duration": 14,
        "start_time": "2022-08-07T11:41:25.712Z"
      },
      {
        "duration": 9,
        "start_time": "2022-08-07T11:41:25.728Z"
      },
      {
        "duration": 18,
        "start_time": "2022-08-07T11:41:25.739Z"
      },
      {
        "duration": 20,
        "start_time": "2022-08-07T11:41:25.759Z"
      },
      {
        "duration": 44,
        "start_time": "2022-08-07T11:41:25.781Z"
      },
      {
        "duration": 4,
        "start_time": "2022-08-07T11:41:25.826Z"
      },
      {
        "duration": 226,
        "start_time": "2022-08-07T11:41:25.832Z"
      },
      {
        "duration": 117,
        "start_time": "2022-08-07T11:41:26.061Z"
      },
      {
        "duration": 182,
        "start_time": "2022-08-07T11:41:26.180Z"
      },
      {
        "duration": 98,
        "start_time": "2022-08-07T11:41:26.363Z"
      },
      {
        "duration": 115,
        "start_time": "2022-08-07T11:41:26.463Z"
      },
      {
        "duration": 20,
        "start_time": "2022-08-07T11:41:26.580Z"
      },
      {
        "duration": 5,
        "start_time": "2022-08-07T11:41:26.601Z"
      },
      {
        "duration": 208,
        "start_time": "2022-08-07T11:41:26.608Z"
      },
      {
        "duration": 232,
        "start_time": "2022-08-07T11:41:26.818Z"
      },
      {
        "duration": 106,
        "start_time": "2022-08-07T11:41:27.053Z"
      },
      {
        "duration": 6,
        "start_time": "2022-08-07T11:41:27.161Z"
      },
      {
        "duration": 6,
        "start_time": "2022-08-07T11:41:27.169Z"
      },
      {
        "duration": 240,
        "start_time": "2022-08-07T11:41:27.176Z"
      },
      {
        "duration": 109,
        "start_time": "2022-08-07T11:41:27.418Z"
      },
      {
        "duration": 126,
        "start_time": "2022-08-07T11:41:27.529Z"
      },
      {
        "duration": 6,
        "start_time": "2022-08-07T11:41:27.657Z"
      },
      {
        "duration": 13,
        "start_time": "2022-08-07T11:41:27.664Z"
      },
      {
        "duration": 117,
        "start_time": "2022-08-07T11:41:27.691Z"
      },
      {
        "duration": 8,
        "start_time": "2022-08-07T11:41:27.810Z"
      },
      {
        "duration": 5,
        "start_time": "2022-08-07T11:41:27.824Z"
      },
      {
        "duration": 6,
        "start_time": "2022-08-07T11:41:27.831Z"
      },
      {
        "duration": 17,
        "start_time": "2022-08-07T11:41:27.838Z"
      },
      {
        "duration": 36,
        "start_time": "2022-08-07T11:41:27.857Z"
      },
      {
        "duration": 6,
        "start_time": "2022-08-07T11:41:27.894Z"
      },
      {
        "duration": 9,
        "start_time": "2022-08-07T11:41:27.901Z"
      },
      {
        "duration": 15,
        "start_time": "2022-08-07T11:41:27.911Z"
      },
      {
        "duration": 141,
        "start_time": "2022-08-07T11:41:27.927Z"
      },
      {
        "duration": 6,
        "start_time": "2022-08-07T11:41:28.069Z"
      },
      {
        "duration": 19,
        "start_time": "2022-08-07T11:41:28.077Z"
      },
      {
        "duration": 27,
        "start_time": "2022-08-07T11:41:28.098Z"
      },
      {
        "duration": 21,
        "start_time": "2022-08-07T11:41:28.127Z"
      },
      {
        "duration": 13,
        "start_time": "2022-08-07T11:41:28.150Z"
      },
      {
        "duration": 38,
        "start_time": "2022-08-07T11:41:28.164Z"
      },
      {
        "duration": 10,
        "start_time": "2022-08-07T11:41:28.204Z"
      },
      {
        "duration": 126,
        "start_time": "2022-08-07T11:41:28.215Z"
      },
      {
        "duration": 0,
        "start_time": "2022-08-07T11:41:28.343Z"
      },
      {
        "duration": 0,
        "start_time": "2022-08-07T11:41:28.344Z"
      },
      {
        "duration": 0,
        "start_time": "2022-08-07T11:41:28.345Z"
      },
      {
        "duration": 0,
        "start_time": "2022-08-07T11:41:28.347Z"
      },
      {
        "duration": 0,
        "start_time": "2022-08-07T11:41:28.348Z"
      },
      {
        "duration": 0,
        "start_time": "2022-08-07T11:41:28.349Z"
      },
      {
        "duration": 0,
        "start_time": "2022-08-07T11:41:28.351Z"
      },
      {
        "duration": 0,
        "start_time": "2022-08-07T11:41:28.352Z"
      },
      {
        "duration": 16,
        "start_time": "2022-08-07T11:41:54.065Z"
      },
      {
        "duration": 16,
        "start_time": "2022-08-07T11:42:06.499Z"
      },
      {
        "duration": 7,
        "start_time": "2022-08-07T11:42:18.383Z"
      },
      {
        "duration": 6,
        "start_time": "2022-08-07T11:42:34.916Z"
      },
      {
        "duration": 6,
        "start_time": "2022-08-07T11:42:46.100Z"
      },
      {
        "duration": 22,
        "start_time": "2022-08-07T11:43:50.287Z"
      },
      {
        "duration": 1453,
        "start_time": "2022-08-07T11:44:06.260Z"
      },
      {
        "duration": 41,
        "start_time": "2022-08-07T11:44:07.715Z"
      },
      {
        "duration": 17,
        "start_time": "2022-08-07T11:44:07.758Z"
      },
      {
        "duration": 12,
        "start_time": "2022-08-07T11:44:07.778Z"
      },
      {
        "duration": 27,
        "start_time": "2022-08-07T11:44:07.794Z"
      },
      {
        "duration": 14,
        "start_time": "2022-08-07T11:44:07.823Z"
      },
      {
        "duration": 30,
        "start_time": "2022-08-07T11:44:07.839Z"
      },
      {
        "duration": 4,
        "start_time": "2022-08-07T11:44:07.871Z"
      },
      {
        "duration": 249,
        "start_time": "2022-08-07T11:44:07.877Z"
      },
      {
        "duration": 127,
        "start_time": "2022-08-07T11:44:08.128Z"
      },
      {
        "duration": 182,
        "start_time": "2022-08-07T11:44:08.257Z"
      },
      {
        "duration": 138,
        "start_time": "2022-08-07T11:44:08.442Z"
      },
      {
        "duration": 129,
        "start_time": "2022-08-07T11:44:08.582Z"
      },
      {
        "duration": 15,
        "start_time": "2022-08-07T11:44:08.716Z"
      },
      {
        "duration": 19,
        "start_time": "2022-08-07T11:44:08.733Z"
      },
      {
        "duration": 204,
        "start_time": "2022-08-07T11:44:08.754Z"
      },
      {
        "duration": 204,
        "start_time": "2022-08-07T11:44:08.960Z"
      },
      {
        "duration": 107,
        "start_time": "2022-08-07T11:44:09.166Z"
      },
      {
        "duration": 18,
        "start_time": "2022-08-07T11:44:09.275Z"
      },
      {
        "duration": 5,
        "start_time": "2022-08-07T11:44:09.295Z"
      },
      {
        "duration": 258,
        "start_time": "2022-08-07T11:44:09.302Z"
      },
      {
        "duration": 135,
        "start_time": "2022-08-07T11:44:09.562Z"
      },
      {
        "duration": 161,
        "start_time": "2022-08-07T11:44:09.699Z"
      },
      {
        "duration": 6,
        "start_time": "2022-08-07T11:44:09.862Z"
      },
      {
        "duration": 22,
        "start_time": "2022-08-07T11:44:09.871Z"
      },
      {
        "duration": 148,
        "start_time": "2022-08-07T11:44:09.896Z"
      },
      {
        "duration": 11,
        "start_time": "2022-08-07T11:44:10.047Z"
      },
      {
        "duration": 7,
        "start_time": "2022-08-07T11:44:10.060Z"
      },
      {
        "duration": 27,
        "start_time": "2022-08-07T11:44:10.070Z"
      },
      {
        "duration": 19,
        "start_time": "2022-08-07T11:44:10.099Z"
      },
      {
        "duration": 12,
        "start_time": "2022-08-07T11:44:10.121Z"
      },
      {
        "duration": 8,
        "start_time": "2022-08-07T11:44:10.135Z"
      },
      {
        "duration": 9,
        "start_time": "2022-08-07T11:44:10.145Z"
      },
      {
        "duration": 50,
        "start_time": "2022-08-07T11:44:10.157Z"
      },
      {
        "duration": 198,
        "start_time": "2022-08-07T11:44:10.210Z"
      },
      {
        "duration": 8,
        "start_time": "2022-08-07T11:44:10.410Z"
      },
      {
        "duration": 13,
        "start_time": "2022-08-07T11:44:10.420Z"
      },
      {
        "duration": 29,
        "start_time": "2022-08-07T11:44:10.435Z"
      },
      {
        "duration": 50,
        "start_time": "2022-08-07T11:44:10.467Z"
      },
      {
        "duration": 19,
        "start_time": "2022-08-07T11:44:10.519Z"
      },
      {
        "duration": 38,
        "start_time": "2022-08-07T11:44:10.544Z"
      },
      {
        "duration": 15,
        "start_time": "2022-08-07T11:44:10.592Z"
      },
      {
        "duration": 128,
        "start_time": "2022-08-07T11:44:10.610Z"
      },
      {
        "duration": 0,
        "start_time": "2022-08-07T11:44:10.740Z"
      },
      {
        "duration": 0,
        "start_time": "2022-08-07T11:44:10.742Z"
      },
      {
        "duration": 0,
        "start_time": "2022-08-07T11:44:10.744Z"
      },
      {
        "duration": 0,
        "start_time": "2022-08-07T11:44:10.745Z"
      },
      {
        "duration": 0,
        "start_time": "2022-08-07T11:44:10.747Z"
      },
      {
        "duration": 1,
        "start_time": "2022-08-07T11:44:10.748Z"
      },
      {
        "duration": 0,
        "start_time": "2022-08-07T11:44:10.750Z"
      },
      {
        "duration": 0,
        "start_time": "2022-08-07T11:44:10.751Z"
      },
      {
        "duration": 17,
        "start_time": "2022-08-07T11:44:22.494Z"
      },
      {
        "duration": 5,
        "start_time": "2022-08-07T11:44:46.221Z"
      },
      {
        "duration": 6,
        "start_time": "2022-08-07T11:44:52.254Z"
      },
      {
        "duration": 6,
        "start_time": "2022-08-07T11:45:03.501Z"
      },
      {
        "duration": 12,
        "start_time": "2022-08-07T11:45:11.459Z"
      },
      {
        "duration": 12,
        "start_time": "2022-08-07T11:45:14.640Z"
      },
      {
        "duration": 6,
        "start_time": "2022-08-07T11:45:20.556Z"
      },
      {
        "duration": 15,
        "start_time": "2022-08-07T11:45:23.550Z"
      },
      {
        "duration": 8,
        "start_time": "2022-08-07T11:45:29.090Z"
      },
      {
        "duration": 11,
        "start_time": "2022-08-07T11:45:34.953Z"
      },
      {
        "duration": 7,
        "start_time": "2022-08-07T11:45:39.397Z"
      },
      {
        "duration": 6,
        "start_time": "2022-08-07T11:45:42.701Z"
      },
      {
        "duration": 19,
        "start_time": "2022-08-07T11:45:56.215Z"
      },
      {
        "duration": 36,
        "start_time": "2022-08-07T11:46:45.702Z"
      },
      {
        "duration": 19,
        "start_time": "2022-08-07T11:47:41.349Z"
      },
      {
        "duration": 19,
        "start_time": "2022-08-07T11:47:47.968Z"
      },
      {
        "duration": 17,
        "start_time": "2022-08-07T11:47:51.212Z"
      },
      {
        "duration": 29,
        "start_time": "2022-08-07T11:47:54.369Z"
      },
      {
        "duration": 15,
        "start_time": "2022-08-07T11:47:58.455Z"
      },
      {
        "duration": 1467,
        "start_time": "2022-08-07T11:48:05.642Z"
      },
      {
        "duration": 43,
        "start_time": "2022-08-07T11:48:07.112Z"
      },
      {
        "duration": 22,
        "start_time": "2022-08-07T11:48:07.159Z"
      },
      {
        "duration": 24,
        "start_time": "2022-08-07T11:48:07.184Z"
      },
      {
        "duration": 43,
        "start_time": "2022-08-07T11:48:07.211Z"
      },
      {
        "duration": 38,
        "start_time": "2022-08-07T11:48:07.256Z"
      },
      {
        "duration": 44,
        "start_time": "2022-08-07T11:48:07.296Z"
      },
      {
        "duration": 23,
        "start_time": "2022-08-07T11:48:07.342Z"
      },
      {
        "duration": 244,
        "start_time": "2022-08-07T11:48:07.366Z"
      },
      {
        "duration": 127,
        "start_time": "2022-08-07T11:48:07.612Z"
      },
      {
        "duration": 186,
        "start_time": "2022-08-07T11:48:07.741Z"
      },
      {
        "duration": 122,
        "start_time": "2022-08-07T11:48:07.929Z"
      },
      {
        "duration": 131,
        "start_time": "2022-08-07T11:48:08.052Z"
      },
      {
        "duration": 15,
        "start_time": "2022-08-07T11:48:08.192Z"
      },
      {
        "duration": 18,
        "start_time": "2022-08-07T11:48:08.210Z"
      },
      {
        "duration": 219,
        "start_time": "2022-08-07T11:48:08.230Z"
      },
      {
        "duration": 210,
        "start_time": "2022-08-07T11:48:08.451Z"
      },
      {
        "duration": 104,
        "start_time": "2022-08-07T11:48:08.663Z"
      },
      {
        "duration": 6,
        "start_time": "2022-08-07T11:48:08.769Z"
      },
      {
        "duration": 28,
        "start_time": "2022-08-07T11:48:08.777Z"
      },
      {
        "duration": 234,
        "start_time": "2022-08-07T11:48:08.807Z"
      },
      {
        "duration": 116,
        "start_time": "2022-08-07T11:48:09.043Z"
      },
      {
        "duration": 149,
        "start_time": "2022-08-07T11:48:09.161Z"
      },
      {
        "duration": 6,
        "start_time": "2022-08-07T11:48:09.312Z"
      },
      {
        "duration": 47,
        "start_time": "2022-08-07T11:48:09.320Z"
      },
      {
        "duration": 152,
        "start_time": "2022-08-07T11:48:09.369Z"
      },
      {
        "duration": 9,
        "start_time": "2022-08-07T11:48:09.524Z"
      },
      {
        "duration": 22,
        "start_time": "2022-08-07T11:48:09.538Z"
      },
      {
        "duration": 29,
        "start_time": "2022-08-07T11:48:09.562Z"
      },
      {
        "duration": 41,
        "start_time": "2022-08-07T11:48:09.593Z"
      },
      {
        "duration": 21,
        "start_time": "2022-08-07T11:48:09.635Z"
      },
      {
        "duration": 26,
        "start_time": "2022-08-07T11:48:09.659Z"
      },
      {
        "duration": 33,
        "start_time": "2022-08-07T11:48:09.687Z"
      },
      {
        "duration": 48,
        "start_time": "2022-08-07T11:48:09.722Z"
      },
      {
        "duration": 153,
        "start_time": "2022-08-07T11:48:09.771Z"
      },
      {
        "duration": 7,
        "start_time": "2022-08-07T11:48:09.925Z"
      },
      {
        "duration": 27,
        "start_time": "2022-08-07T11:48:09.933Z"
      },
      {
        "duration": 35,
        "start_time": "2022-08-07T11:48:09.962Z"
      },
      {
        "duration": 25,
        "start_time": "2022-08-07T11:48:09.999Z"
      },
      {
        "duration": 66,
        "start_time": "2022-08-07T11:48:10.026Z"
      },
      {
        "duration": 122,
        "start_time": "2022-08-07T11:48:10.095Z"
      },
      {
        "duration": 36,
        "start_time": "2022-08-07T11:48:10.220Z"
      },
      {
        "duration": 61,
        "start_time": "2022-08-07T11:48:10.258Z"
      },
      {
        "duration": 94,
        "start_time": "2022-08-07T11:48:10.321Z"
      },
      {
        "duration": 105,
        "start_time": "2022-08-07T11:48:10.417Z"
      },
      {
        "duration": 62,
        "start_time": "2022-08-07T11:48:10.524Z"
      },
      {
        "duration": 50,
        "start_time": "2022-08-07T11:48:10.589Z"
      },
      {
        "duration": 5,
        "start_time": "2022-08-07T11:48:10.641Z"
      },
      {
        "duration": 18,
        "start_time": "2022-08-07T11:48:10.648Z"
      },
      {
        "duration": 28,
        "start_time": "2022-08-07T11:48:10.668Z"
      },
      {
        "duration": 42,
        "start_time": "2022-08-07T11:48:10.699Z"
      },
      {
        "duration": 122,
        "start_time": "2022-08-07T11:49:36.557Z"
      },
      {
        "duration": 1442,
        "start_time": "2022-08-07T11:49:42.738Z"
      },
      {
        "duration": 48,
        "start_time": "2022-08-07T11:49:44.183Z"
      },
      {
        "duration": 21,
        "start_time": "2022-08-07T11:49:44.233Z"
      },
      {
        "duration": 20,
        "start_time": "2022-08-07T11:49:44.256Z"
      },
      {
        "duration": 50,
        "start_time": "2022-08-07T11:49:44.279Z"
      },
      {
        "duration": 12,
        "start_time": "2022-08-07T11:49:44.331Z"
      },
      {
        "duration": 45,
        "start_time": "2022-08-07T11:49:44.346Z"
      },
      {
        "duration": 5,
        "start_time": "2022-08-07T11:49:44.394Z"
      },
      {
        "duration": 253,
        "start_time": "2022-08-07T11:49:44.401Z"
      },
      {
        "duration": 118,
        "start_time": "2022-08-07T11:49:44.656Z"
      },
      {
        "duration": 209,
        "start_time": "2022-08-07T11:49:44.775Z"
      },
      {
        "duration": 126,
        "start_time": "2022-08-07T11:49:44.987Z"
      },
      {
        "duration": 161,
        "start_time": "2022-08-07T11:49:45.114Z"
      },
      {
        "duration": 31,
        "start_time": "2022-08-07T11:49:45.279Z"
      },
      {
        "duration": 6,
        "start_time": "2022-08-07T11:49:45.313Z"
      },
      {
        "duration": 218,
        "start_time": "2022-08-07T11:49:45.321Z"
      },
      {
        "duration": 213,
        "start_time": "2022-08-07T11:49:45.541Z"
      },
      {
        "duration": 106,
        "start_time": "2022-08-07T11:49:45.756Z"
      },
      {
        "duration": 4,
        "start_time": "2022-08-07T11:49:45.864Z"
      },
      {
        "duration": 4,
        "start_time": "2022-08-07T11:49:45.891Z"
      },
      {
        "duration": 248,
        "start_time": "2022-08-07T11:49:45.897Z"
      },
      {
        "duration": 122,
        "start_time": "2022-08-07T11:49:46.147Z"
      },
      {
        "duration": 130,
        "start_time": "2022-08-07T11:49:46.271Z"
      },
      {
        "duration": 8,
        "start_time": "2022-08-07T11:49:46.402Z"
      },
      {
        "duration": 13,
        "start_time": "2022-08-07T11:49:46.412Z"
      },
      {
        "duration": 139,
        "start_time": "2022-08-07T11:49:46.428Z"
      },
      {
        "duration": 22,
        "start_time": "2022-08-07T11:49:46.569Z"
      },
      {
        "duration": 7,
        "start_time": "2022-08-07T11:49:46.593Z"
      },
      {
        "duration": 15,
        "start_time": "2022-08-07T11:49:46.601Z"
      },
      {
        "duration": 26,
        "start_time": "2022-08-07T11:49:46.618Z"
      },
      {
        "duration": 11,
        "start_time": "2022-08-07T11:49:46.646Z"
      },
      {
        "duration": 10,
        "start_time": "2022-08-07T11:49:46.659Z"
      },
      {
        "duration": 14,
        "start_time": "2022-08-07T11:49:46.671Z"
      },
      {
        "duration": 20,
        "start_time": "2022-08-07T11:49:46.693Z"
      },
      {
        "duration": 144,
        "start_time": "2022-08-07T11:49:46.715Z"
      },
      {
        "duration": 7,
        "start_time": "2022-08-07T11:49:46.862Z"
      },
      {
        "duration": 15,
        "start_time": "2022-08-07T11:49:46.872Z"
      },
      {
        "duration": 40,
        "start_time": "2022-08-07T11:49:46.891Z"
      },
      {
        "duration": 17,
        "start_time": "2022-08-07T11:49:46.933Z"
      },
      {
        "duration": 19,
        "start_time": "2022-08-07T11:49:46.952Z"
      },
      {
        "duration": 24,
        "start_time": "2022-08-07T11:49:46.991Z"
      },
      {
        "duration": 9,
        "start_time": "2022-08-07T11:49:47.017Z"
      },
      {
        "duration": 13,
        "start_time": "2022-08-07T11:49:47.028Z"
      },
      {
        "duration": 50,
        "start_time": "2022-08-07T11:49:47.043Z"
      },
      {
        "duration": 8,
        "start_time": "2022-08-07T11:49:47.095Z"
      },
      {
        "duration": 18,
        "start_time": "2022-08-07T11:49:47.105Z"
      },
      {
        "duration": 38,
        "start_time": "2022-08-07T11:49:47.125Z"
      },
      {
        "duration": 28,
        "start_time": "2022-08-07T11:49:47.165Z"
      },
      {
        "duration": 6,
        "start_time": "2022-08-07T11:49:47.195Z"
      },
      {
        "duration": 24,
        "start_time": "2022-08-07T11:49:47.202Z"
      },
      {
        "duration": 26,
        "start_time": "2022-08-07T11:49:47.228Z"
      },
      {
        "duration": 9,
        "start_time": "2022-08-07T11:52:32.050Z"
      },
      {
        "duration": 7,
        "start_time": "2022-08-07T11:52:38.664Z"
      },
      {
        "duration": 9,
        "start_time": "2022-08-07T11:52:56.191Z"
      },
      {
        "duration": 6,
        "start_time": "2022-08-07T11:53:04.922Z"
      },
      {
        "duration": 113,
        "start_time": "2022-08-07T11:53:08.106Z"
      },
      {
        "duration": 6,
        "start_time": "2022-08-07T11:53:11.146Z"
      },
      {
        "duration": 6,
        "start_time": "2022-08-07T11:53:17.457Z"
      },
      {
        "duration": 6,
        "start_time": "2022-08-07T11:53:22.975Z"
      },
      {
        "duration": 7,
        "start_time": "2022-08-07T11:53:42.596Z"
      },
      {
        "duration": 7,
        "start_time": "2022-08-07T11:53:52.648Z"
      },
      {
        "duration": 14,
        "start_time": "2022-08-07T11:55:42.029Z"
      },
      {
        "duration": 21,
        "start_time": "2022-08-07T11:56:16.481Z"
      },
      {
        "duration": 9,
        "start_time": "2022-08-07T11:56:49.346Z"
      },
      {
        "duration": 36,
        "start_time": "2022-08-07T11:57:02.078Z"
      },
      {
        "duration": 1600,
        "start_time": "2022-08-07T11:57:22.400Z"
      },
      {
        "duration": 45,
        "start_time": "2022-08-07T11:57:24.003Z"
      },
      {
        "duration": 18,
        "start_time": "2022-08-07T11:57:24.050Z"
      },
      {
        "duration": 21,
        "start_time": "2022-08-07T11:57:24.071Z"
      },
      {
        "duration": 26,
        "start_time": "2022-08-07T11:57:24.094Z"
      },
      {
        "duration": 13,
        "start_time": "2022-08-07T11:57:24.122Z"
      },
      {
        "duration": 33,
        "start_time": "2022-08-07T11:57:24.137Z"
      },
      {
        "duration": 4,
        "start_time": "2022-08-07T11:57:24.172Z"
      },
      {
        "duration": 234,
        "start_time": "2022-08-07T11:57:24.178Z"
      },
      {
        "duration": 124,
        "start_time": "2022-08-07T11:57:24.415Z"
      },
      {
        "duration": 175,
        "start_time": "2022-08-07T11:57:24.541Z"
      },
      {
        "duration": 105,
        "start_time": "2022-08-07T11:57:24.718Z"
      },
      {
        "duration": 122,
        "start_time": "2022-08-07T11:57:24.825Z"
      },
      {
        "duration": 15,
        "start_time": "2022-08-07T11:57:24.949Z"
      },
      {
        "duration": 6,
        "start_time": "2022-08-07T11:57:24.966Z"
      },
      {
        "duration": 211,
        "start_time": "2022-08-07T11:57:24.973Z"
      },
      {
        "duration": 197,
        "start_time": "2022-08-07T11:57:25.186Z"
      },
      {
        "duration": 109,
        "start_time": "2022-08-07T11:57:25.392Z"
      },
      {
        "duration": 5,
        "start_time": "2022-08-07T11:57:25.504Z"
      },
      {
        "duration": 21,
        "start_time": "2022-08-07T11:57:25.511Z"
      },
      {
        "duration": 201,
        "start_time": "2022-08-07T11:57:25.535Z"
      },
      {
        "duration": 115,
        "start_time": "2022-08-07T11:57:25.738Z"
      },
      {
        "duration": 124,
        "start_time": "2022-08-07T11:57:25.855Z"
      },
      {
        "duration": 15,
        "start_time": "2022-08-07T11:57:25.981Z"
      },
      {
        "duration": 7,
        "start_time": "2022-08-07T11:57:25.998Z"
      },
      {
        "duration": 135,
        "start_time": "2022-08-07T11:57:26.007Z"
      },
      {
        "duration": 8,
        "start_time": "2022-08-07T11:57:26.143Z"
      },
      {
        "duration": 13,
        "start_time": "2022-08-07T11:57:26.155Z"
      },
      {
        "duration": 17,
        "start_time": "2022-08-07T11:57:26.169Z"
      },
      {
        "duration": 29,
        "start_time": "2022-08-07T11:57:26.188Z"
      },
      {
        "duration": 11,
        "start_time": "2022-08-07T11:57:26.218Z"
      },
      {
        "duration": 16,
        "start_time": "2022-08-07T11:57:26.230Z"
      },
      {
        "duration": 14,
        "start_time": "2022-08-07T11:57:26.248Z"
      },
      {
        "duration": 24,
        "start_time": "2022-08-07T11:57:26.263Z"
      },
      {
        "duration": 124,
        "start_time": "2022-08-07T11:57:26.289Z"
      },
      {
        "duration": 6,
        "start_time": "2022-08-07T11:57:26.414Z"
      },
      {
        "duration": 8,
        "start_time": "2022-08-07T11:57:26.422Z"
      },
      {
        "duration": 16,
        "start_time": "2022-08-07T11:57:26.431Z"
      },
      {
        "duration": 16,
        "start_time": "2022-08-07T11:57:26.449Z"
      },
      {
        "duration": 32,
        "start_time": "2022-08-07T11:57:26.467Z"
      },
      {
        "duration": 20,
        "start_time": "2022-08-07T11:57:26.500Z"
      },
      {
        "duration": 9,
        "start_time": "2022-08-07T11:57:26.522Z"
      },
      {
        "duration": 64,
        "start_time": "2022-08-07T11:57:26.532Z"
      },
      {
        "duration": 38,
        "start_time": "2022-08-07T11:57:26.597Z"
      },
      {
        "duration": 7,
        "start_time": "2022-08-07T11:57:26.636Z"
      },
      {
        "duration": 19,
        "start_time": "2022-08-07T11:57:26.644Z"
      },
      {
        "duration": 46,
        "start_time": "2022-08-07T11:57:26.664Z"
      },
      {
        "duration": 6,
        "start_time": "2022-08-07T11:57:26.712Z"
      },
      {
        "duration": 9,
        "start_time": "2022-08-07T11:57:26.719Z"
      },
      {
        "duration": 19,
        "start_time": "2022-08-07T11:57:26.730Z"
      },
      {
        "duration": 21,
        "start_time": "2022-08-07T11:57:26.751Z"
      },
      {
        "duration": 7,
        "start_time": "2022-08-07T11:57:37.575Z"
      },
      {
        "duration": 115,
        "start_time": "2022-08-07T11:57:47.754Z"
      },
      {
        "duration": 16,
        "start_time": "2022-08-07T11:57:59.929Z"
      },
      {
        "duration": 77,
        "start_time": "2022-08-07T11:58:24.467Z"
      },
      {
        "duration": 110,
        "start_time": "2022-08-07T11:58:32.468Z"
      },
      {
        "duration": 110,
        "start_time": "2022-08-07T11:58:39.231Z"
      },
      {
        "duration": 21,
        "start_time": "2022-08-07T11:58:52.111Z"
      },
      {
        "duration": 1449,
        "start_time": "2022-08-07T11:59:08.254Z"
      },
      {
        "duration": 40,
        "start_time": "2022-08-07T11:59:09.706Z"
      },
      {
        "duration": 17,
        "start_time": "2022-08-07T11:59:09.747Z"
      },
      {
        "duration": 4,
        "start_time": "2022-08-07T11:59:09.767Z"
      },
      {
        "duration": 20,
        "start_time": "2022-08-07T11:59:09.772Z"
      },
      {
        "duration": 8,
        "start_time": "2022-08-07T11:59:09.794Z"
      },
      {
        "duration": 32,
        "start_time": "2022-08-07T11:59:09.803Z"
      },
      {
        "duration": 4,
        "start_time": "2022-08-07T11:59:09.837Z"
      },
      {
        "duration": 266,
        "start_time": "2022-08-07T11:59:09.843Z"
      },
      {
        "duration": 116,
        "start_time": "2022-08-07T11:59:10.112Z"
      },
      {
        "duration": 194,
        "start_time": "2022-08-07T11:59:10.229Z"
      },
      {
        "duration": 124,
        "start_time": "2022-08-07T11:59:10.425Z"
      },
      {
        "duration": 118,
        "start_time": "2022-08-07T11:59:10.551Z"
      },
      {
        "duration": 29,
        "start_time": "2022-08-07T11:59:10.671Z"
      },
      {
        "duration": 5,
        "start_time": "2022-08-07T11:59:10.702Z"
      },
      {
        "duration": 195,
        "start_time": "2022-08-07T11:59:10.709Z"
      },
      {
        "duration": 192,
        "start_time": "2022-08-07T11:59:10.906Z"
      },
      {
        "duration": 101,
        "start_time": "2022-08-07T11:59:11.100Z"
      },
      {
        "duration": 6,
        "start_time": "2022-08-07T11:59:11.203Z"
      },
      {
        "duration": 8,
        "start_time": "2022-08-07T11:59:11.211Z"
      },
      {
        "duration": 232,
        "start_time": "2022-08-07T11:59:11.220Z"
      },
      {
        "duration": 118,
        "start_time": "2022-08-07T11:59:11.454Z"
      },
      {
        "duration": 131,
        "start_time": "2022-08-07T11:59:11.574Z"
      },
      {
        "duration": 5,
        "start_time": "2022-08-07T11:59:11.707Z"
      },
      {
        "duration": 10,
        "start_time": "2022-08-07T11:59:11.714Z"
      },
      {
        "duration": 153,
        "start_time": "2022-08-07T11:59:11.726Z"
      },
      {
        "duration": 19,
        "start_time": "2022-08-07T11:59:11.881Z"
      },
      {
        "duration": 17,
        "start_time": "2022-08-07T11:59:11.905Z"
      },
      {
        "duration": 17,
        "start_time": "2022-08-07T11:59:11.924Z"
      },
      {
        "duration": 27,
        "start_time": "2022-08-07T11:59:11.944Z"
      },
      {
        "duration": 11,
        "start_time": "2022-08-07T11:59:11.973Z"
      },
      {
        "duration": 8,
        "start_time": "2022-08-07T11:59:11.987Z"
      },
      {
        "duration": 22,
        "start_time": "2022-08-07T11:59:11.997Z"
      },
      {
        "duration": 53,
        "start_time": "2022-08-07T11:59:12.021Z"
      },
      {
        "duration": 140,
        "start_time": "2022-08-07T11:59:12.077Z"
      },
      {
        "duration": 6,
        "start_time": "2022-08-07T11:59:12.219Z"
      },
      {
        "duration": 11,
        "start_time": "2022-08-07T11:59:12.227Z"
      },
      {
        "duration": 27,
        "start_time": "2022-08-07T11:59:12.239Z"
      },
      {
        "duration": 25,
        "start_time": "2022-08-07T11:59:12.268Z"
      },
      {
        "duration": 20,
        "start_time": "2022-08-07T11:59:12.295Z"
      },
      {
        "duration": 23,
        "start_time": "2022-08-07T11:59:12.317Z"
      },
      {
        "duration": 22,
        "start_time": "2022-08-07T11:59:12.342Z"
      },
      {
        "duration": 32,
        "start_time": "2022-08-07T11:59:12.367Z"
      },
      {
        "duration": 26,
        "start_time": "2022-08-07T11:59:12.401Z"
      },
      {
        "duration": 10,
        "start_time": "2022-08-07T11:59:12.429Z"
      },
      {
        "duration": 21,
        "start_time": "2022-08-07T11:59:12.441Z"
      },
      {
        "duration": 49,
        "start_time": "2022-08-07T11:59:12.463Z"
      },
      {
        "duration": 5,
        "start_time": "2022-08-07T11:59:12.514Z"
      },
      {
        "duration": 8,
        "start_time": "2022-08-07T11:59:12.521Z"
      },
      {
        "duration": 28,
        "start_time": "2022-08-07T11:59:12.531Z"
      },
      {
        "duration": 36,
        "start_time": "2022-08-07T11:59:12.562Z"
      },
      {
        "duration": 7,
        "start_time": "2022-08-07T11:59:47.996Z"
      },
      {
        "duration": 123,
        "start_time": "2022-08-07T11:59:50.746Z"
      },
      {
        "duration": 17,
        "start_time": "2022-08-07T11:59:57.036Z"
      },
      {
        "duration": 30,
        "start_time": "2022-08-07T12:00:08.741Z"
      },
      {
        "duration": 4,
        "start_time": "2022-08-07T12:00:23.677Z"
      },
      {
        "duration": 5,
        "start_time": "2022-08-07T12:00:25.284Z"
      },
      {
        "duration": 16,
        "start_time": "2022-08-07T12:00:29.540Z"
      },
      {
        "duration": 13,
        "start_time": "2022-08-07T12:01:50.392Z"
      },
      {
        "duration": 14,
        "start_time": "2022-08-07T12:01:55.169Z"
      },
      {
        "duration": 1443,
        "start_time": "2022-08-07T12:02:01.732Z"
      },
      {
        "duration": 41,
        "start_time": "2022-08-07T12:02:03.179Z"
      },
      {
        "duration": 16,
        "start_time": "2022-08-07T12:02:03.222Z"
      },
      {
        "duration": 13,
        "start_time": "2022-08-07T12:02:03.240Z"
      },
      {
        "duration": 20,
        "start_time": "2022-08-07T12:02:03.256Z"
      },
      {
        "duration": 17,
        "start_time": "2022-08-07T12:02:03.278Z"
      },
      {
        "duration": 41,
        "start_time": "2022-08-07T12:02:03.297Z"
      },
      {
        "duration": 4,
        "start_time": "2022-08-07T12:02:03.339Z"
      },
      {
        "duration": 205,
        "start_time": "2022-08-07T12:02:03.344Z"
      },
      {
        "duration": 121,
        "start_time": "2022-08-07T12:02:03.551Z"
      },
      {
        "duration": 173,
        "start_time": "2022-08-07T12:02:03.674Z"
      },
      {
        "duration": 104,
        "start_time": "2022-08-07T12:02:03.848Z"
      },
      {
        "duration": 116,
        "start_time": "2022-08-07T12:02:03.955Z"
      },
      {
        "duration": 24,
        "start_time": "2022-08-07T12:02:04.075Z"
      },
      {
        "duration": 6,
        "start_time": "2022-08-07T12:02:04.101Z"
      },
      {
        "duration": 207,
        "start_time": "2022-08-07T12:02:04.108Z"
      },
      {
        "duration": 201,
        "start_time": "2022-08-07T12:02:04.317Z"
      },
      {
        "duration": 114,
        "start_time": "2022-08-07T12:02:04.520Z"
      },
      {
        "duration": 6,
        "start_time": "2022-08-07T12:02:04.635Z"
      },
      {
        "duration": 9,
        "start_time": "2022-08-07T12:02:04.643Z"
      },
      {
        "duration": 238,
        "start_time": "2022-08-07T12:02:04.654Z"
      },
      {
        "duration": 133,
        "start_time": "2022-08-07T12:02:04.894Z"
      },
      {
        "duration": 132,
        "start_time": "2022-08-07T12:02:05.029Z"
      },
      {
        "duration": 7,
        "start_time": "2022-08-07T12:02:05.163Z"
      },
      {
        "duration": 27,
        "start_time": "2022-08-07T12:02:05.172Z"
      },
      {
        "duration": 123,
        "start_time": "2022-08-07T12:02:05.201Z"
      },
      {
        "duration": 10,
        "start_time": "2022-08-07T12:02:05.326Z"
      },
      {
        "duration": 16,
        "start_time": "2022-08-07T12:02:05.338Z"
      },
      {
        "duration": 10,
        "start_time": "2022-08-07T12:02:05.356Z"
      },
      {
        "duration": 28,
        "start_time": "2022-08-07T12:02:05.368Z"
      },
      {
        "duration": 21,
        "start_time": "2022-08-07T12:02:05.398Z"
      },
      {
        "duration": 10,
        "start_time": "2022-08-07T12:02:05.421Z"
      },
      {
        "duration": 17,
        "start_time": "2022-08-07T12:02:05.433Z"
      },
      {
        "duration": 20,
        "start_time": "2022-08-07T12:02:05.452Z"
      },
      {
        "duration": 140,
        "start_time": "2022-08-07T12:02:05.474Z"
      },
      {
        "duration": 6,
        "start_time": "2022-08-07T12:02:05.616Z"
      },
      {
        "duration": 10,
        "start_time": "2022-08-07T12:02:05.624Z"
      },
      {
        "duration": 32,
        "start_time": "2022-08-07T12:02:05.636Z"
      },
      {
        "duration": 23,
        "start_time": "2022-08-07T12:02:05.670Z"
      },
      {
        "duration": 19,
        "start_time": "2022-08-07T12:02:05.695Z"
      },
      {
        "duration": 22,
        "start_time": "2022-08-07T12:02:05.718Z"
      },
      {
        "duration": 10,
        "start_time": "2022-08-07T12:02:05.742Z"
      },
      {
        "duration": 30,
        "start_time": "2022-08-07T12:02:05.753Z"
      },
      {
        "duration": 34,
        "start_time": "2022-08-07T12:02:05.785Z"
      },
      {
        "duration": 8,
        "start_time": "2022-08-07T12:02:05.820Z"
      },
      {
        "duration": 21,
        "start_time": "2022-08-07T12:02:05.830Z"
      },
      {
        "duration": 44,
        "start_time": "2022-08-07T12:02:05.853Z"
      },
      {
        "duration": 4,
        "start_time": "2022-08-07T12:02:05.899Z"
      },
      {
        "duration": 8,
        "start_time": "2022-08-07T12:02:05.905Z"
      },
      {
        "duration": 24,
        "start_time": "2022-08-07T12:02:05.915Z"
      },
      {
        "duration": 13,
        "start_time": "2022-08-07T12:02:05.941Z"
      },
      {
        "duration": 4,
        "start_time": "2022-08-07T12:02:33.078Z"
      },
      {
        "duration": 40,
        "start_time": "2022-08-07T12:02:33.084Z"
      },
      {
        "duration": 16,
        "start_time": "2022-08-07T12:02:33.126Z"
      },
      {
        "duration": 3,
        "start_time": "2022-08-07T12:02:33.144Z"
      },
      {
        "duration": 18,
        "start_time": "2022-08-07T12:02:33.149Z"
      },
      {
        "duration": 27,
        "start_time": "2022-08-07T12:02:33.169Z"
      },
      {
        "duration": 31,
        "start_time": "2022-08-07T12:02:33.198Z"
      },
      {
        "duration": 4,
        "start_time": "2022-08-07T12:02:33.231Z"
      },
      {
        "duration": 209,
        "start_time": "2022-08-07T12:02:33.237Z"
      },
      {
        "duration": 118,
        "start_time": "2022-08-07T12:02:33.449Z"
      },
      {
        "duration": 176,
        "start_time": "2022-08-07T12:02:33.569Z"
      },
      {
        "duration": 110,
        "start_time": "2022-08-07T12:02:33.747Z"
      },
      {
        "duration": 212,
        "start_time": "2022-08-07T12:02:33.859Z"
      },
      {
        "duration": 23,
        "start_time": "2022-08-07T12:02:34.073Z"
      },
      {
        "duration": 12,
        "start_time": "2022-08-07T12:02:34.098Z"
      },
      {
        "duration": 200,
        "start_time": "2022-08-07T12:02:34.112Z"
      },
      {
        "duration": 122,
        "start_time": "2022-08-07T12:02:34.314Z"
      },
      {
        "duration": 105,
        "start_time": "2022-08-07T12:02:34.438Z"
      },
      {
        "duration": 6,
        "start_time": "2022-08-07T12:02:34.544Z"
      },
      {
        "duration": 7,
        "start_time": "2022-08-07T12:02:34.551Z"
      },
      {
        "duration": 225,
        "start_time": "2022-08-07T12:02:34.559Z"
      },
      {
        "duration": 109,
        "start_time": "2022-08-07T12:02:34.785Z"
      },
      {
        "duration": 121,
        "start_time": "2022-08-07T12:02:34.895Z"
      },
      {
        "duration": 5,
        "start_time": "2022-08-07T12:02:35.018Z"
      },
      {
        "duration": 8,
        "start_time": "2022-08-07T12:02:35.025Z"
      },
      {
        "duration": 134,
        "start_time": "2022-08-07T12:02:35.035Z"
      },
      {
        "duration": 9,
        "start_time": "2022-08-07T12:02:35.171Z"
      },
      {
        "duration": 4,
        "start_time": "2022-08-07T12:02:35.195Z"
      },
      {
        "duration": 10,
        "start_time": "2022-08-07T12:02:35.200Z"
      },
      {
        "duration": 18,
        "start_time": "2022-08-07T12:02:35.212Z"
      },
      {
        "duration": 15,
        "start_time": "2022-08-07T12:02:35.232Z"
      },
      {
        "duration": 7,
        "start_time": "2022-08-07T12:02:35.249Z"
      },
      {
        "duration": 8,
        "start_time": "2022-08-07T12:02:35.258Z"
      },
      {
        "duration": 13,
        "start_time": "2022-08-07T12:02:35.291Z"
      },
      {
        "duration": 124,
        "start_time": "2022-08-07T12:02:35.306Z"
      },
      {
        "duration": 6,
        "start_time": "2022-08-07T12:02:35.432Z"
      },
      {
        "duration": 10,
        "start_time": "2022-08-07T12:02:35.439Z"
      },
      {
        "duration": 23,
        "start_time": "2022-08-07T12:02:35.451Z"
      },
      {
        "duration": 29,
        "start_time": "2022-08-07T12:02:35.476Z"
      },
      {
        "duration": 13,
        "start_time": "2022-08-07T12:02:35.507Z"
      },
      {
        "duration": 21,
        "start_time": "2022-08-07T12:02:35.521Z"
      },
      {
        "duration": 7,
        "start_time": "2022-08-07T12:02:48.224Z"
      },
      {
        "duration": 17,
        "start_time": "2022-08-07T12:03:08.594Z"
      },
      {
        "duration": 1394,
        "start_time": "2022-08-07T12:03:19.790Z"
      },
      {
        "duration": 39,
        "start_time": "2022-08-07T12:03:21.186Z"
      },
      {
        "duration": 15,
        "start_time": "2022-08-07T12:03:21.226Z"
      },
      {
        "duration": 5,
        "start_time": "2022-08-07T12:03:21.243Z"
      },
      {
        "duration": 17,
        "start_time": "2022-08-07T12:03:21.250Z"
      },
      {
        "duration": 8,
        "start_time": "2022-08-07T12:03:21.269Z"
      },
      {
        "duration": 34,
        "start_time": "2022-08-07T12:03:21.279Z"
      },
      {
        "duration": 3,
        "start_time": "2022-08-07T12:03:21.315Z"
      },
      {
        "duration": 215,
        "start_time": "2022-08-07T12:03:21.320Z"
      },
      {
        "duration": 116,
        "start_time": "2022-08-07T12:03:21.537Z"
      },
      {
        "duration": 184,
        "start_time": "2022-08-07T12:03:21.655Z"
      },
      {
        "duration": 122,
        "start_time": "2022-08-07T12:03:21.841Z"
      },
      {
        "duration": 156,
        "start_time": "2022-08-07T12:03:21.965Z"
      },
      {
        "duration": 18,
        "start_time": "2022-08-07T12:03:22.126Z"
      },
      {
        "duration": 6,
        "start_time": "2022-08-07T12:03:22.145Z"
      },
      {
        "duration": 217,
        "start_time": "2022-08-07T12:03:22.153Z"
      },
      {
        "duration": 197,
        "start_time": "2022-08-07T12:03:22.371Z"
      },
      {
        "duration": 97,
        "start_time": "2022-08-07T12:03:22.570Z"
      },
      {
        "duration": 5,
        "start_time": "2022-08-07T12:03:22.670Z"
      },
      {
        "duration": 4,
        "start_time": "2022-08-07T12:03:22.692Z"
      },
      {
        "duration": 218,
        "start_time": "2022-08-07T12:03:22.697Z"
      },
      {
        "duration": 127,
        "start_time": "2022-08-07T12:03:22.917Z"
      },
      {
        "duration": 133,
        "start_time": "2022-08-07T12:03:23.046Z"
      },
      {
        "duration": 14,
        "start_time": "2022-08-07T12:03:23.180Z"
      },
      {
        "duration": 13,
        "start_time": "2022-08-07T12:03:23.196Z"
      },
      {
        "duration": 119,
        "start_time": "2022-08-07T12:03:23.211Z"
      },
      {
        "duration": 9,
        "start_time": "2022-08-07T12:03:23.331Z"
      },
      {
        "duration": 25,
        "start_time": "2022-08-07T12:03:23.341Z"
      },
      {
        "duration": 10,
        "start_time": "2022-08-07T12:03:23.368Z"
      },
      {
        "duration": 28,
        "start_time": "2022-08-07T12:03:23.380Z"
      },
      {
        "duration": 14,
        "start_time": "2022-08-07T12:03:23.410Z"
      },
      {
        "duration": 9,
        "start_time": "2022-08-07T12:03:23.426Z"
      },
      {
        "duration": 8,
        "start_time": "2022-08-07T12:03:23.437Z"
      },
      {
        "duration": 24,
        "start_time": "2022-08-07T12:03:23.446Z"
      },
      {
        "duration": 123,
        "start_time": "2022-08-07T12:03:23.472Z"
      },
      {
        "duration": 7,
        "start_time": "2022-08-07T12:03:23.596Z"
      },
      {
        "duration": 9,
        "start_time": "2022-08-07T12:03:23.605Z"
      },
      {
        "duration": 17,
        "start_time": "2022-08-07T12:03:23.615Z"
      },
      {
        "duration": 15,
        "start_time": "2022-08-07T12:03:23.634Z"
      },
      {
        "duration": 12,
        "start_time": "2022-08-07T12:03:23.651Z"
      },
      {
        "duration": 20,
        "start_time": "2022-08-07T12:03:23.695Z"
      },
      {
        "duration": 5,
        "start_time": "2022-08-07T12:03:23.717Z"
      },
      {
        "duration": 19,
        "start_time": "2022-08-07T12:03:23.724Z"
      },
      {
        "duration": 48,
        "start_time": "2022-08-07T12:03:23.745Z"
      },
      {
        "duration": 7,
        "start_time": "2022-08-07T12:03:23.794Z"
      },
      {
        "duration": 19,
        "start_time": "2022-08-07T12:03:23.803Z"
      },
      {
        "duration": 37,
        "start_time": "2022-08-07T12:03:23.824Z"
      },
      {
        "duration": 11,
        "start_time": "2022-08-07T12:03:23.863Z"
      },
      {
        "duration": 18,
        "start_time": "2022-08-07T12:03:23.876Z"
      },
      {
        "duration": 29,
        "start_time": "2022-08-07T12:03:23.895Z"
      },
      {
        "duration": 21,
        "start_time": "2022-08-07T12:03:23.926Z"
      },
      {
        "duration": 3,
        "start_time": "2022-08-07T12:16:12.158Z"
      },
      {
        "duration": 21,
        "start_time": "2022-08-07T12:16:38.803Z"
      },
      {
        "duration": 34,
        "start_time": "2022-08-07T12:17:30.417Z"
      },
      {
        "duration": 3,
        "start_time": "2022-08-07T12:18:22.362Z"
      },
      {
        "duration": 39,
        "start_time": "2022-08-07T12:18:22.368Z"
      },
      {
        "duration": 16,
        "start_time": "2022-08-07T12:18:22.410Z"
      },
      {
        "duration": 4,
        "start_time": "2022-08-07T12:18:22.428Z"
      },
      {
        "duration": 17,
        "start_time": "2022-08-07T12:18:22.434Z"
      },
      {
        "duration": 7,
        "start_time": "2022-08-07T12:18:22.453Z"
      },
      {
        "duration": 26,
        "start_time": "2022-08-07T12:18:22.492Z"
      },
      {
        "duration": 4,
        "start_time": "2022-08-07T12:18:22.520Z"
      },
      {
        "duration": 213,
        "start_time": "2022-08-07T12:18:22.525Z"
      },
      {
        "duration": 121,
        "start_time": "2022-08-07T12:18:22.740Z"
      },
      {
        "duration": 175,
        "start_time": "2022-08-07T12:18:22.865Z"
      },
      {
        "duration": 194,
        "start_time": "2022-08-07T12:18:23.042Z"
      },
      {
        "duration": 118,
        "start_time": "2022-08-07T12:18:23.238Z"
      },
      {
        "duration": 13,
        "start_time": "2022-08-07T12:18:23.358Z"
      },
      {
        "duration": 32,
        "start_time": "2022-08-07T12:18:23.373Z"
      },
      {
        "duration": 197,
        "start_time": "2022-08-07T12:18:23.407Z"
      },
      {
        "duration": 117,
        "start_time": "2022-08-07T12:18:23.606Z"
      },
      {
        "duration": 105,
        "start_time": "2022-08-07T12:18:23.725Z"
      },
      {
        "duration": 5,
        "start_time": "2022-08-07T12:18:23.832Z"
      },
      {
        "duration": 32,
        "start_time": "2022-08-07T12:18:23.839Z"
      },
      {
        "duration": 232,
        "start_time": "2022-08-07T12:18:23.873Z"
      },
      {
        "duration": 114,
        "start_time": "2022-08-07T12:18:24.106Z"
      },
      {
        "duration": 116,
        "start_time": "2022-08-07T12:18:24.222Z"
      },
      {
        "duration": 6,
        "start_time": "2022-08-07T12:18:24.339Z"
      },
      {
        "duration": 9,
        "start_time": "2022-08-07T12:18:24.346Z"
      },
      {
        "duration": 136,
        "start_time": "2022-08-07T12:18:24.357Z"
      },
      {
        "duration": 9,
        "start_time": "2022-08-07T12:18:24.496Z"
      },
      {
        "duration": 6,
        "start_time": "2022-08-07T12:18:24.507Z"
      },
      {
        "duration": 6,
        "start_time": "2022-08-07T12:18:24.519Z"
      },
      {
        "duration": 24,
        "start_time": "2022-08-07T12:18:24.527Z"
      },
      {
        "duration": 13,
        "start_time": "2022-08-07T12:18:24.553Z"
      },
      {
        "duration": 38,
        "start_time": "2022-08-07T12:18:24.568Z"
      },
      {
        "duration": 9,
        "start_time": "2022-08-07T12:18:24.608Z"
      },
      {
        "duration": 15,
        "start_time": "2022-08-07T12:18:24.619Z"
      },
      {
        "duration": 126,
        "start_time": "2022-08-07T12:18:24.636Z"
      },
      {
        "duration": 6,
        "start_time": "2022-08-07T12:18:24.763Z"
      },
      {
        "duration": 21,
        "start_time": "2022-08-07T12:18:24.771Z"
      },
      {
        "duration": 16,
        "start_time": "2022-08-07T12:18:24.793Z"
      },
      {
        "duration": 15,
        "start_time": "2022-08-07T12:18:24.811Z"
      },
      {
        "duration": 13,
        "start_time": "2022-08-07T12:18:24.828Z"
      },
      {
        "duration": 13,
        "start_time": "2022-08-07T12:18:43.067Z"
      },
      {
        "duration": 4,
        "start_time": "2022-08-07T12:18:57.850Z"
      },
      {
        "duration": 19,
        "start_time": "2022-08-07T12:19:00.441Z"
      },
      {
        "duration": 25,
        "start_time": "2022-08-07T12:19:22.487Z"
      },
      {
        "duration": 30,
        "start_time": "2022-08-07T12:19:37.194Z"
      },
      {
        "duration": 4,
        "start_time": "2022-08-07T12:23:33.009Z"
      },
      {
        "duration": 1368,
        "start_time": "2022-08-07T12:24:36.026Z"
      },
      {
        "duration": 38,
        "start_time": "2022-08-07T12:24:37.396Z"
      },
      {
        "duration": 15,
        "start_time": "2022-08-07T12:24:37.436Z"
      },
      {
        "duration": 4,
        "start_time": "2022-08-07T12:24:37.453Z"
      },
      {
        "duration": 19,
        "start_time": "2022-08-07T12:24:37.459Z"
      },
      {
        "duration": 15,
        "start_time": "2022-08-07T12:24:37.479Z"
      },
      {
        "duration": 31,
        "start_time": "2022-08-07T12:24:37.496Z"
      },
      {
        "duration": 4,
        "start_time": "2022-08-07T12:24:37.529Z"
      },
      {
        "duration": 216,
        "start_time": "2022-08-07T12:24:37.534Z"
      },
      {
        "duration": 115,
        "start_time": "2022-08-07T12:24:37.752Z"
      },
      {
        "duration": 180,
        "start_time": "2022-08-07T12:24:37.869Z"
      },
      {
        "duration": 107,
        "start_time": "2022-08-07T12:24:38.051Z"
      },
      {
        "duration": 136,
        "start_time": "2022-08-07T12:24:38.160Z"
      },
      {
        "duration": 22,
        "start_time": "2022-08-07T12:24:38.302Z"
      },
      {
        "duration": 6,
        "start_time": "2022-08-07T12:24:38.326Z"
      },
      {
        "duration": 216,
        "start_time": "2022-08-07T12:24:38.334Z"
      },
      {
        "duration": 199,
        "start_time": "2022-08-07T12:24:38.552Z"
      },
      {
        "duration": 104,
        "start_time": "2022-08-07T12:24:38.752Z"
      },
      {
        "duration": 6,
        "start_time": "2022-08-07T12:24:38.857Z"
      },
      {
        "duration": 6,
        "start_time": "2022-08-07T12:24:38.865Z"
      },
      {
        "duration": 231,
        "start_time": "2022-08-07T12:24:38.873Z"
      },
      {
        "duration": 115,
        "start_time": "2022-08-07T12:24:39.106Z"
      },
      {
        "duration": 133,
        "start_time": "2022-08-07T12:24:39.223Z"
      },
      {
        "duration": 7,
        "start_time": "2022-08-07T12:24:39.358Z"
      },
      {
        "duration": 26,
        "start_time": "2022-08-07T12:24:39.367Z"
      },
      {
        "duration": 155,
        "start_time": "2022-08-07T12:24:39.395Z"
      },
      {
        "duration": 10,
        "start_time": "2022-08-07T12:24:39.552Z"
      },
      {
        "duration": 21,
        "start_time": "2022-08-07T12:24:39.564Z"
      },
      {
        "duration": 15,
        "start_time": "2022-08-07T12:24:39.588Z"
      },
      {
        "duration": 20,
        "start_time": "2022-08-07T12:24:39.605Z"
      },
      {
        "duration": 14,
        "start_time": "2022-08-07T12:24:39.627Z"
      },
      {
        "duration": 20,
        "start_time": "2022-08-07T12:24:39.643Z"
      },
      {
        "duration": 7,
        "start_time": "2022-08-07T12:24:39.665Z"
      },
      {
        "duration": 21,
        "start_time": "2022-08-07T12:24:39.674Z"
      },
      {
        "duration": 120,
        "start_time": "2022-08-07T12:24:39.697Z"
      },
      {
        "duration": 6,
        "start_time": "2022-08-07T12:24:39.819Z"
      },
      {
        "duration": 7,
        "start_time": "2022-08-07T12:24:39.826Z"
      },
      {
        "duration": 17,
        "start_time": "2022-08-07T12:24:39.835Z"
      },
      {
        "duration": 17,
        "start_time": "2022-08-07T12:24:39.854Z"
      },
      {
        "duration": 31,
        "start_time": "2022-08-07T12:24:39.872Z"
      },
      {
        "duration": 3,
        "start_time": "2022-08-07T12:24:39.907Z"
      },
      {
        "duration": 16,
        "start_time": "2022-08-07T12:24:39.912Z"
      },
      {
        "duration": 7,
        "start_time": "2022-08-07T12:24:39.930Z"
      },
      {
        "duration": 25,
        "start_time": "2022-08-07T12:24:39.939Z"
      },
      {
        "duration": 3,
        "start_time": "2022-08-07T12:24:39.991Z"
      },
      {
        "duration": 4,
        "start_time": "2022-08-07T12:24:57.975Z"
      },
      {
        "duration": 28,
        "start_time": "2022-08-07T12:25:18.996Z"
      },
      {
        "duration": 1414,
        "start_time": "2022-08-07T12:26:33.173Z"
      },
      {
        "duration": 40,
        "start_time": "2022-08-07T12:26:34.589Z"
      },
      {
        "duration": 21,
        "start_time": "2022-08-07T12:26:34.631Z"
      },
      {
        "duration": 11,
        "start_time": "2022-08-07T12:26:34.654Z"
      },
      {
        "duration": 32,
        "start_time": "2022-08-07T12:26:34.668Z"
      },
      {
        "duration": 33,
        "start_time": "2022-08-07T12:26:34.702Z"
      },
      {
        "duration": 42,
        "start_time": "2022-08-07T12:26:34.736Z"
      },
      {
        "duration": 14,
        "start_time": "2022-08-07T12:26:34.780Z"
      },
      {
        "duration": 214,
        "start_time": "2022-08-07T12:26:34.796Z"
      },
      {
        "duration": 123,
        "start_time": "2022-08-07T12:26:35.012Z"
      },
      {
        "duration": 179,
        "start_time": "2022-08-07T12:26:35.136Z"
      },
      {
        "duration": 118,
        "start_time": "2022-08-07T12:26:35.316Z"
      },
      {
        "duration": 109,
        "start_time": "2022-08-07T12:26:35.436Z"
      },
      {
        "duration": 14,
        "start_time": "2022-08-07T12:26:35.548Z"
      },
      {
        "duration": 15,
        "start_time": "2022-08-07T12:26:35.564Z"
      },
      {
        "duration": 193,
        "start_time": "2022-08-07T12:26:35.591Z"
      },
      {
        "duration": 190,
        "start_time": "2022-08-07T12:26:35.786Z"
      },
      {
        "duration": 100,
        "start_time": "2022-08-07T12:26:35.979Z"
      },
      {
        "duration": 6,
        "start_time": "2022-08-07T12:26:36.091Z"
      },
      {
        "duration": 11,
        "start_time": "2022-08-07T12:26:36.099Z"
      },
      {
        "duration": 216,
        "start_time": "2022-08-07T12:26:36.112Z"
      },
      {
        "duration": 108,
        "start_time": "2022-08-07T12:26:36.330Z"
      },
      {
        "duration": 121,
        "start_time": "2022-08-07T12:26:36.439Z"
      },
      {
        "duration": 5,
        "start_time": "2022-08-07T12:26:36.562Z"
      },
      {
        "duration": 6,
        "start_time": "2022-08-07T12:26:36.569Z"
      },
      {
        "duration": 116,
        "start_time": "2022-08-07T12:26:36.592Z"
      },
      {
        "duration": 8,
        "start_time": "2022-08-07T12:26:36.710Z"
      },
      {
        "duration": 9,
        "start_time": "2022-08-07T12:26:36.719Z"
      },
      {
        "duration": 13,
        "start_time": "2022-08-07T12:26:36.730Z"
      },
      {
        "duration": 19,
        "start_time": "2022-08-07T12:26:36.745Z"
      },
      {
        "duration": 12,
        "start_time": "2022-08-07T12:26:36.766Z"
      },
      {
        "duration": 12,
        "start_time": "2022-08-07T12:26:36.792Z"
      },
      {
        "duration": 14,
        "start_time": "2022-08-07T12:26:36.811Z"
      },
      {
        "duration": 21,
        "start_time": "2022-08-07T12:26:36.826Z"
      },
      {
        "duration": 131,
        "start_time": "2022-08-07T12:26:36.849Z"
      },
      {
        "duration": 14,
        "start_time": "2022-08-07T12:26:36.982Z"
      },
      {
        "duration": 12,
        "start_time": "2022-08-07T12:26:36.997Z"
      },
      {
        "duration": 20,
        "start_time": "2022-08-07T12:26:37.011Z"
      },
      {
        "duration": 16,
        "start_time": "2022-08-07T12:26:37.033Z"
      },
      {
        "duration": 14,
        "start_time": "2022-08-07T12:26:37.050Z"
      },
      {
        "duration": 24,
        "start_time": "2022-08-07T12:26:37.068Z"
      },
      {
        "duration": 15,
        "start_time": "2022-08-07T12:26:37.094Z"
      },
      {
        "duration": 8,
        "start_time": "2022-08-07T12:26:37.110Z"
      },
      {
        "duration": 23,
        "start_time": "2022-08-07T12:26:37.119Z"
      },
      {
        "duration": 5,
        "start_time": "2022-08-07T12:26:37.144Z"
      },
      {
        "duration": 8,
        "start_time": "2022-08-07T12:26:37.151Z"
      },
      {
        "duration": 35,
        "start_time": "2022-08-07T12:26:40.953Z"
      },
      {
        "duration": 124,
        "start_time": "2022-08-07T12:27:17.434Z"
      },
      {
        "duration": 30,
        "start_time": "2022-08-07T12:27:36.661Z"
      },
      {
        "duration": 36,
        "start_time": "2022-08-07T12:27:53.800Z"
      },
      {
        "duration": 21,
        "start_time": "2022-08-07T12:28:23.424Z"
      },
      {
        "duration": 1513,
        "start_time": "2022-08-07T12:28:43.286Z"
      },
      {
        "duration": 40,
        "start_time": "2022-08-07T12:28:44.800Z"
      },
      {
        "duration": 16,
        "start_time": "2022-08-07T12:28:44.841Z"
      },
      {
        "duration": 24,
        "start_time": "2022-08-07T12:28:44.860Z"
      },
      {
        "duration": 22,
        "start_time": "2022-08-07T12:28:44.886Z"
      },
      {
        "duration": 12,
        "start_time": "2022-08-07T12:28:44.910Z"
      },
      {
        "duration": 34,
        "start_time": "2022-08-07T12:28:44.924Z"
      },
      {
        "duration": 6,
        "start_time": "2022-08-07T12:28:44.960Z"
      },
      {
        "duration": 252,
        "start_time": "2022-08-07T12:28:44.969Z"
      },
      {
        "duration": 132,
        "start_time": "2022-08-07T12:28:45.225Z"
      },
      {
        "duration": 184,
        "start_time": "2022-08-07T12:28:45.360Z"
      },
      {
        "duration": 104,
        "start_time": "2022-08-07T12:28:45.546Z"
      },
      {
        "duration": 129,
        "start_time": "2022-08-07T12:28:45.651Z"
      },
      {
        "duration": 23,
        "start_time": "2022-08-07T12:28:45.781Z"
      },
      {
        "duration": 6,
        "start_time": "2022-08-07T12:28:45.806Z"
      },
      {
        "duration": 217,
        "start_time": "2022-08-07T12:28:45.814Z"
      },
      {
        "duration": 207,
        "start_time": "2022-08-07T12:28:46.033Z"
      },
      {
        "duration": 150,
        "start_time": "2022-08-07T12:28:46.242Z"
      },
      {
        "duration": 6,
        "start_time": "2022-08-07T12:28:46.394Z"
      },
      {
        "duration": 7,
        "start_time": "2022-08-07T12:28:46.401Z"
      },
      {
        "duration": 227,
        "start_time": "2022-08-07T12:28:46.410Z"
      },
      {
        "duration": 115,
        "start_time": "2022-08-07T12:28:46.640Z"
      },
      {
        "duration": 147,
        "start_time": "2022-08-07T12:28:46.757Z"
      },
      {
        "duration": 7,
        "start_time": "2022-08-07T12:28:46.907Z"
      },
      {
        "duration": 16,
        "start_time": "2022-08-07T12:28:46.916Z"
      },
      {
        "duration": 123,
        "start_time": "2022-08-07T12:28:46.934Z"
      },
      {
        "duration": 8,
        "start_time": "2022-08-07T12:28:47.060Z"
      },
      {
        "duration": 19,
        "start_time": "2022-08-07T12:28:47.073Z"
      },
      {
        "duration": 19,
        "start_time": "2022-08-07T12:28:47.094Z"
      },
      {
        "duration": 16,
        "start_time": "2022-08-07T12:28:47.115Z"
      },
      {
        "duration": 6,
        "start_time": "2022-08-07T12:28:47.133Z"
      },
      {
        "duration": 8,
        "start_time": "2022-08-07T12:28:47.141Z"
      },
      {
        "duration": 11,
        "start_time": "2022-08-07T12:28:47.151Z"
      },
      {
        "duration": 34,
        "start_time": "2022-08-07T12:28:47.164Z"
      },
      {
        "duration": 126,
        "start_time": "2022-08-07T12:28:47.200Z"
      },
      {
        "duration": 6,
        "start_time": "2022-08-07T12:28:47.328Z"
      },
      {
        "duration": 7,
        "start_time": "2022-08-07T12:28:47.336Z"
      },
      {
        "duration": 15,
        "start_time": "2022-08-07T12:28:47.345Z"
      },
      {
        "duration": 45,
        "start_time": "2022-08-07T12:28:47.361Z"
      },
      {
        "duration": 25,
        "start_time": "2022-08-07T12:28:47.408Z"
      },
      {
        "duration": 3,
        "start_time": "2022-08-07T12:28:47.435Z"
      },
      {
        "duration": 18,
        "start_time": "2022-08-07T12:28:47.440Z"
      },
      {
        "duration": 7,
        "start_time": "2022-08-07T12:28:47.460Z"
      },
      {
        "duration": 24,
        "start_time": "2022-08-07T12:28:47.492Z"
      },
      {
        "duration": 3,
        "start_time": "2022-08-07T12:28:47.517Z"
      },
      {
        "duration": 5,
        "start_time": "2022-08-07T12:28:47.522Z"
      },
      {
        "duration": 14,
        "start_time": "2022-08-07T12:28:50.248Z"
      },
      {
        "duration": 121,
        "start_time": "2022-08-07T12:29:00.504Z"
      },
      {
        "duration": 21,
        "start_time": "2022-08-07T12:29:16.435Z"
      },
      {
        "duration": 1433,
        "start_time": "2022-08-07T12:29:36.790Z"
      },
      {
        "duration": 41,
        "start_time": "2022-08-07T12:29:38.225Z"
      },
      {
        "duration": 17,
        "start_time": "2022-08-07T12:29:38.268Z"
      },
      {
        "duration": 20,
        "start_time": "2022-08-07T12:29:38.288Z"
      },
      {
        "duration": 17,
        "start_time": "2022-08-07T12:29:38.311Z"
      },
      {
        "duration": 28,
        "start_time": "2022-08-07T12:29:38.330Z"
      },
      {
        "duration": 33,
        "start_time": "2022-08-07T12:29:38.360Z"
      },
      {
        "duration": 4,
        "start_time": "2022-08-07T12:29:38.395Z"
      },
      {
        "duration": 213,
        "start_time": "2022-08-07T12:29:38.401Z"
      },
      {
        "duration": 114,
        "start_time": "2022-08-07T12:29:38.616Z"
      },
      {
        "duration": 174,
        "start_time": "2022-08-07T12:29:38.732Z"
      },
      {
        "duration": 104,
        "start_time": "2022-08-07T12:29:38.907Z"
      },
      {
        "duration": 123,
        "start_time": "2022-08-07T12:29:39.012Z"
      },
      {
        "duration": 14,
        "start_time": "2022-08-07T12:29:39.138Z"
      },
      {
        "duration": 6,
        "start_time": "2022-08-07T12:29:39.153Z"
      },
      {
        "duration": 198,
        "start_time": "2022-08-07T12:29:39.160Z"
      },
      {
        "duration": 197,
        "start_time": "2022-08-07T12:29:39.360Z"
      },
      {
        "duration": 98,
        "start_time": "2022-08-07T12:29:39.559Z"
      },
      {
        "duration": 5,
        "start_time": "2022-08-07T12:29:39.659Z"
      },
      {
        "duration": 17,
        "start_time": "2022-08-07T12:29:39.666Z"
      },
      {
        "duration": 213,
        "start_time": "2022-08-07T12:29:39.693Z"
      },
      {
        "duration": 111,
        "start_time": "2022-08-07T12:29:39.908Z"
      },
      {
        "duration": 125,
        "start_time": "2022-08-07T12:29:40.021Z"
      },
      {
        "duration": 8,
        "start_time": "2022-08-07T12:29:40.148Z"
      },
      {
        "duration": 22,
        "start_time": "2022-08-07T12:29:40.158Z"
      },
      {
        "duration": 132,
        "start_time": "2022-08-07T12:29:40.183Z"
      },
      {
        "duration": 9,
        "start_time": "2022-08-07T12:29:40.317Z"
      },
      {
        "duration": 7,
        "start_time": "2022-08-07T12:29:40.329Z"
      },
      {
        "duration": 8,
        "start_time": "2022-08-07T12:29:40.338Z"
      },
      {
        "duration": 20,
        "start_time": "2022-08-07T12:29:40.348Z"
      },
      {
        "duration": 8,
        "start_time": "2022-08-07T12:29:40.391Z"
      },
      {
        "duration": 8,
        "start_time": "2022-08-07T12:29:40.401Z"
      },
      {
        "duration": 12,
        "start_time": "2022-08-07T12:29:40.411Z"
      },
      {
        "duration": 16,
        "start_time": "2022-08-07T12:29:40.425Z"
      },
      {
        "duration": 134,
        "start_time": "2022-08-07T12:29:40.443Z"
      },
      {
        "duration": 6,
        "start_time": "2022-08-07T12:29:40.579Z"
      },
      {
        "duration": 18,
        "start_time": "2022-08-07T12:29:40.592Z"
      },
      {
        "duration": 33,
        "start_time": "2022-08-07T12:29:40.612Z"
      },
      {
        "duration": 21,
        "start_time": "2022-08-07T12:29:40.647Z"
      },
      {
        "duration": 29,
        "start_time": "2022-08-07T12:29:40.669Z"
      },
      {
        "duration": 10,
        "start_time": "2022-08-07T12:29:40.703Z"
      },
      {
        "duration": 21,
        "start_time": "2022-08-07T12:29:40.714Z"
      },
      {
        "duration": 7,
        "start_time": "2022-08-07T12:29:40.737Z"
      },
      {
        "duration": 40,
        "start_time": "2022-08-07T12:29:40.746Z"
      },
      {
        "duration": 7,
        "start_time": "2022-08-07T12:29:40.788Z"
      },
      {
        "duration": 6,
        "start_time": "2022-08-07T12:29:40.797Z"
      },
      {
        "duration": 14,
        "start_time": "2022-08-07T12:29:40.804Z"
      },
      {
        "duration": 4,
        "start_time": "2022-08-07T12:29:40.820Z"
      },
      {
        "duration": 123,
        "start_time": "2022-08-07T12:29:40.826Z"
      },
      {
        "duration": 0,
        "start_time": "2022-08-07T12:29:40.952Z"
      },
      {
        "duration": 1,
        "start_time": "2022-08-07T12:29:40.953Z"
      },
      {
        "duration": 0,
        "start_time": "2022-08-07T12:29:40.955Z"
      },
      {
        "duration": 0,
        "start_time": "2022-08-07T12:29:40.957Z"
      },
      {
        "duration": 0,
        "start_time": "2022-08-07T12:29:40.959Z"
      },
      {
        "duration": 0,
        "start_time": "2022-08-07T12:29:40.960Z"
      },
      {
        "duration": 1,
        "start_time": "2022-08-07T12:29:40.961Z"
      },
      {
        "duration": 23,
        "start_time": "2022-08-07T12:29:47.921Z"
      },
      {
        "duration": 19,
        "start_time": "2022-08-07T12:31:12.292Z"
      },
      {
        "duration": 4,
        "start_time": "2022-08-07T12:31:22.963Z"
      },
      {
        "duration": 40,
        "start_time": "2022-08-07T12:31:22.969Z"
      },
      {
        "duration": 15,
        "start_time": "2022-08-07T12:31:23.011Z"
      },
      {
        "duration": 4,
        "start_time": "2022-08-07T12:31:23.029Z"
      },
      {
        "duration": 19,
        "start_time": "2022-08-07T12:31:23.035Z"
      },
      {
        "duration": 38,
        "start_time": "2022-08-07T12:31:23.056Z"
      },
      {
        "duration": 39,
        "start_time": "2022-08-07T12:31:23.096Z"
      },
      {
        "duration": 4,
        "start_time": "2022-08-07T12:31:23.137Z"
      },
      {
        "duration": 187,
        "start_time": "2022-08-07T12:31:23.143Z"
      },
      {
        "duration": 124,
        "start_time": "2022-08-07T12:31:23.333Z"
      },
      {
        "duration": 170,
        "start_time": "2022-08-07T12:31:23.458Z"
      },
      {
        "duration": 194,
        "start_time": "2022-08-07T12:31:23.629Z"
      },
      {
        "duration": 118,
        "start_time": "2022-08-07T12:31:23.824Z"
      },
      {
        "duration": 14,
        "start_time": "2022-08-07T12:31:23.944Z"
      },
      {
        "duration": 20,
        "start_time": "2022-08-07T12:31:23.960Z"
      },
      {
        "duration": 200,
        "start_time": "2022-08-07T12:31:23.982Z"
      },
      {
        "duration": 123,
        "start_time": "2022-08-07T12:31:24.183Z"
      },
      {
        "duration": 104,
        "start_time": "2022-08-07T12:31:24.308Z"
      },
      {
        "duration": 5,
        "start_time": "2022-08-07T12:31:24.414Z"
      },
      {
        "duration": 11,
        "start_time": "2022-08-07T12:31:24.421Z"
      },
      {
        "duration": 226,
        "start_time": "2022-08-07T12:31:24.434Z"
      },
      {
        "duration": 107,
        "start_time": "2022-08-07T12:31:24.661Z"
      },
      {
        "duration": 137,
        "start_time": "2022-08-07T12:31:24.769Z"
      },
      {
        "duration": 6,
        "start_time": "2022-08-07T12:31:24.908Z"
      },
      {
        "duration": 7,
        "start_time": "2022-08-07T12:31:24.915Z"
      },
      {
        "duration": 144,
        "start_time": "2022-08-07T12:31:24.923Z"
      },
      {
        "duration": 7,
        "start_time": "2022-08-07T12:31:25.069Z"
      },
      {
        "duration": 4,
        "start_time": "2022-08-07T12:31:25.091Z"
      },
      {
        "duration": 7,
        "start_time": "2022-08-07T12:31:25.097Z"
      },
      {
        "duration": 23,
        "start_time": "2022-08-07T12:31:25.105Z"
      },
      {
        "duration": 6,
        "start_time": "2022-08-07T12:31:25.130Z"
      },
      {
        "duration": 12,
        "start_time": "2022-08-07T12:31:25.138Z"
      },
      {
        "duration": 8,
        "start_time": "2022-08-07T12:31:25.152Z"
      },
      {
        "duration": 39,
        "start_time": "2022-08-07T12:31:25.162Z"
      },
      {
        "duration": 123,
        "start_time": "2022-08-07T12:31:25.203Z"
      },
      {
        "duration": 7,
        "start_time": "2022-08-07T12:31:25.329Z"
      },
      {
        "duration": 19,
        "start_time": "2022-08-07T12:31:25.338Z"
      },
      {
        "duration": 34,
        "start_time": "2022-08-07T12:31:25.359Z"
      },
      {
        "duration": 23,
        "start_time": "2022-08-07T12:31:25.395Z"
      },
      {
        "duration": 13,
        "start_time": "2022-08-07T12:31:25.421Z"
      },
      {
        "duration": 7,
        "start_time": "2022-08-07T12:31:25.436Z"
      },
      {
        "duration": 16,
        "start_time": "2022-08-07T12:31:25.445Z"
      },
      {
        "duration": 29,
        "start_time": "2022-08-07T12:31:25.463Z"
      },
      {
        "duration": 42,
        "start_time": "2022-08-07T12:31:25.494Z"
      },
      {
        "duration": 4,
        "start_time": "2022-08-07T12:31:25.538Z"
      },
      {
        "duration": 7,
        "start_time": "2022-08-07T12:31:25.544Z"
      },
      {
        "duration": 34,
        "start_time": "2022-08-07T12:31:25.552Z"
      },
      {
        "duration": 1404,
        "start_time": "2022-08-07T12:31:56.370Z"
      },
      {
        "duration": 38,
        "start_time": "2022-08-07T12:31:57.776Z"
      },
      {
        "duration": 15,
        "start_time": "2022-08-07T12:31:57.815Z"
      },
      {
        "duration": 6,
        "start_time": "2022-08-07T12:31:57.832Z"
      },
      {
        "duration": 18,
        "start_time": "2022-08-07T12:31:57.841Z"
      },
      {
        "duration": 12,
        "start_time": "2022-08-07T12:31:57.860Z"
      },
      {
        "duration": 33,
        "start_time": "2022-08-07T12:31:57.874Z"
      },
      {
        "duration": 4,
        "start_time": "2022-08-07T12:31:57.909Z"
      },
      {
        "duration": 213,
        "start_time": "2022-08-07T12:31:57.914Z"
      },
      {
        "duration": 126,
        "start_time": "2022-08-07T12:31:58.129Z"
      },
      {
        "duration": 172,
        "start_time": "2022-08-07T12:31:58.257Z"
      },
      {
        "duration": 110,
        "start_time": "2022-08-07T12:31:58.431Z"
      },
      {
        "duration": 110,
        "start_time": "2022-08-07T12:31:58.542Z"
      },
      {
        "duration": 15,
        "start_time": "2022-08-07T12:31:58.655Z"
      },
      {
        "duration": 20,
        "start_time": "2022-08-07T12:31:58.672Z"
      },
      {
        "duration": 188,
        "start_time": "2022-08-07T12:31:58.694Z"
      },
      {
        "duration": 188,
        "start_time": "2022-08-07T12:31:58.884Z"
      },
      {
        "duration": 100,
        "start_time": "2022-08-07T12:31:59.074Z"
      },
      {
        "duration": 19,
        "start_time": "2022-08-07T12:31:59.176Z"
      },
      {
        "duration": 5,
        "start_time": "2022-08-07T12:31:59.198Z"
      },
      {
        "duration": 252,
        "start_time": "2022-08-07T12:31:59.205Z"
      },
      {
        "duration": 104,
        "start_time": "2022-08-07T12:31:59.458Z"
      },
      {
        "duration": 120,
        "start_time": "2022-08-07T12:31:59.563Z"
      },
      {
        "duration": 6,
        "start_time": "2022-08-07T12:31:59.691Z"
      },
      {
        "duration": 6,
        "start_time": "2022-08-07T12:31:59.699Z"
      },
      {
        "duration": 142,
        "start_time": "2022-08-07T12:31:59.706Z"
      },
      {
        "duration": 9,
        "start_time": "2022-08-07T12:31:59.850Z"
      },
      {
        "duration": 5,
        "start_time": "2022-08-07T12:31:59.861Z"
      },
      {
        "duration": 25,
        "start_time": "2022-08-07T12:31:59.868Z"
      },
      {
        "duration": 15,
        "start_time": "2022-08-07T12:31:59.895Z"
      },
      {
        "duration": 6,
        "start_time": "2022-08-07T12:31:59.912Z"
      },
      {
        "duration": 5,
        "start_time": "2022-08-07T12:31:59.920Z"
      },
      {
        "duration": 8,
        "start_time": "2022-08-07T12:31:59.927Z"
      },
      {
        "duration": 14,
        "start_time": "2022-08-07T12:31:59.937Z"
      },
      {
        "duration": 146,
        "start_time": "2022-08-07T12:31:59.952Z"
      },
      {
        "duration": 6,
        "start_time": "2022-08-07T12:32:00.100Z"
      },
      {
        "duration": 10,
        "start_time": "2022-08-07T12:32:00.108Z"
      },
      {
        "duration": 23,
        "start_time": "2022-08-07T12:32:00.120Z"
      },
      {
        "duration": 26,
        "start_time": "2022-08-07T12:32:00.144Z"
      },
      {
        "duration": 26,
        "start_time": "2022-08-07T12:32:00.172Z"
      },
      {
        "duration": 7,
        "start_time": "2022-08-07T12:32:00.203Z"
      },
      {
        "duration": 45,
        "start_time": "2022-08-07T12:32:00.212Z"
      },
      {
        "duration": 40,
        "start_time": "2022-08-07T12:32:00.259Z"
      },
      {
        "duration": 55,
        "start_time": "2022-08-07T12:32:00.301Z"
      },
      {
        "duration": 54,
        "start_time": "2022-08-07T12:32:00.358Z"
      },
      {
        "duration": 34,
        "start_time": "2022-08-07T12:32:00.414Z"
      },
      {
        "duration": 132,
        "start_time": "2022-08-07T12:32:05.808Z"
      },
      {
        "duration": 4,
        "start_time": "2022-08-07T12:33:19.768Z"
      },
      {
        "duration": 17,
        "start_time": "2022-08-07T12:33:22.706Z"
      },
      {
        "duration": 19,
        "start_time": "2022-08-07T12:34:12.268Z"
      },
      {
        "duration": 20,
        "start_time": "2022-08-07T12:34:18.276Z"
      },
      {
        "duration": 1413,
        "start_time": "2022-08-07T12:34:48.471Z"
      },
      {
        "duration": 39,
        "start_time": "2022-08-07T12:34:49.886Z"
      },
      {
        "duration": 15,
        "start_time": "2022-08-07T12:34:49.926Z"
      },
      {
        "duration": 8,
        "start_time": "2022-08-07T12:34:49.942Z"
      },
      {
        "duration": 33,
        "start_time": "2022-08-07T12:34:49.952Z"
      },
      {
        "duration": 9,
        "start_time": "2022-08-07T12:34:49.987Z"
      },
      {
        "duration": 36,
        "start_time": "2022-08-07T12:34:49.998Z"
      },
      {
        "duration": 5,
        "start_time": "2022-08-07T12:34:50.036Z"
      },
      {
        "duration": 227,
        "start_time": "2022-08-07T12:34:50.042Z"
      },
      {
        "duration": 124,
        "start_time": "2022-08-07T12:34:50.271Z"
      },
      {
        "duration": 166,
        "start_time": "2022-08-07T12:34:50.397Z"
      },
      {
        "duration": 97,
        "start_time": "2022-08-07T12:34:50.564Z"
      },
      {
        "duration": 114,
        "start_time": "2022-08-07T12:34:50.663Z"
      },
      {
        "duration": 23,
        "start_time": "2022-08-07T12:34:50.780Z"
      },
      {
        "duration": 6,
        "start_time": "2022-08-07T12:34:50.804Z"
      },
      {
        "duration": 205,
        "start_time": "2022-08-07T12:34:50.811Z"
      },
      {
        "duration": 190,
        "start_time": "2022-08-07T12:34:51.018Z"
      },
      {
        "duration": 110,
        "start_time": "2022-08-07T12:34:51.209Z"
      },
      {
        "duration": 5,
        "start_time": "2022-08-07T12:34:51.321Z"
      },
      {
        "duration": 15,
        "start_time": "2022-08-07T12:34:51.327Z"
      },
      {
        "duration": 225,
        "start_time": "2022-08-07T12:34:51.343Z"
      },
      {
        "duration": 103,
        "start_time": "2022-08-07T12:34:51.569Z"
      },
      {
        "duration": 129,
        "start_time": "2022-08-07T12:34:51.674Z"
      },
      {
        "duration": 7,
        "start_time": "2022-08-07T12:34:51.806Z"
      },
      {
        "duration": 15,
        "start_time": "2022-08-07T12:34:51.815Z"
      },
      {
        "duration": 159,
        "start_time": "2022-08-07T12:34:51.832Z"
      },
      {
        "duration": 11,
        "start_time": "2022-08-07T12:34:51.993Z"
      },
      {
        "duration": 20,
        "start_time": "2022-08-07T12:34:52.007Z"
      },
      {
        "duration": 45,
        "start_time": "2022-08-07T12:34:52.029Z"
      },
      {
        "duration": 30,
        "start_time": "2022-08-07T12:34:52.077Z"
      },
      {
        "duration": 14,
        "start_time": "2022-08-07T12:34:52.109Z"
      },
      {
        "duration": 15,
        "start_time": "2022-08-07T12:34:52.124Z"
      },
      {
        "duration": 10,
        "start_time": "2022-08-07T12:34:52.140Z"
      },
      {
        "duration": 23,
        "start_time": "2022-08-07T12:34:52.152Z"
      },
      {
        "duration": 118,
        "start_time": "2022-08-07T12:34:52.177Z"
      },
      {
        "duration": 6,
        "start_time": "2022-08-07T12:34:52.297Z"
      },
      {
        "duration": 10,
        "start_time": "2022-08-07T12:34:52.305Z"
      },
      {
        "duration": 20,
        "start_time": "2022-08-07T12:34:52.318Z"
      },
      {
        "duration": 29,
        "start_time": "2022-08-07T12:34:52.340Z"
      },
      {
        "duration": 25,
        "start_time": "2022-08-07T12:34:52.371Z"
      },
      {
        "duration": 3,
        "start_time": "2022-08-07T12:34:52.400Z"
      },
      {
        "duration": 22,
        "start_time": "2022-08-07T12:34:52.404Z"
      },
      {
        "duration": 8,
        "start_time": "2022-08-07T12:34:52.428Z"
      },
      {
        "duration": 27,
        "start_time": "2022-08-07T12:34:52.438Z"
      },
      {
        "duration": 10,
        "start_time": "2022-08-07T12:34:52.466Z"
      },
      {
        "duration": 15,
        "start_time": "2022-08-07T12:34:52.479Z"
      },
      {
        "duration": 13,
        "start_time": "2022-08-07T12:34:59.097Z"
      },
      {
        "duration": 18,
        "start_time": "2022-08-07T12:35:04.180Z"
      },
      {
        "duration": 131,
        "start_time": "2022-08-07T12:35:17.879Z"
      },
      {
        "duration": 17,
        "start_time": "2022-08-07T12:35:53.833Z"
      },
      {
        "duration": 1467,
        "start_time": "2022-08-07T12:36:09.821Z"
      },
      {
        "duration": 41,
        "start_time": "2022-08-07T12:36:11.291Z"
      },
      {
        "duration": 23,
        "start_time": "2022-08-07T12:36:11.334Z"
      },
      {
        "duration": 3,
        "start_time": "2022-08-07T12:36:11.359Z"
      },
      {
        "duration": 18,
        "start_time": "2022-08-07T12:36:11.365Z"
      },
      {
        "duration": 12,
        "start_time": "2022-08-07T12:36:11.384Z"
      },
      {
        "duration": 30,
        "start_time": "2022-08-07T12:36:11.398Z"
      },
      {
        "duration": 4,
        "start_time": "2022-08-07T12:36:11.430Z"
      },
      {
        "duration": 244,
        "start_time": "2022-08-07T12:36:11.436Z"
      },
      {
        "duration": 129,
        "start_time": "2022-08-07T12:36:11.691Z"
      },
      {
        "duration": 231,
        "start_time": "2022-08-07T12:36:11.822Z"
      },
      {
        "duration": 111,
        "start_time": "2022-08-07T12:36:12.055Z"
      },
      {
        "duration": 130,
        "start_time": "2022-08-07T12:36:12.169Z"
      },
      {
        "duration": 15,
        "start_time": "2022-08-07T12:36:12.304Z"
      },
      {
        "duration": 5,
        "start_time": "2022-08-07T12:36:12.321Z"
      },
      {
        "duration": 224,
        "start_time": "2022-08-07T12:36:12.328Z"
      },
      {
        "duration": 206,
        "start_time": "2022-08-07T12:36:12.554Z"
      },
      {
        "duration": 102,
        "start_time": "2022-08-07T12:36:12.762Z"
      },
      {
        "duration": 5,
        "start_time": "2022-08-07T12:36:12.866Z"
      },
      {
        "duration": 21,
        "start_time": "2022-08-07T12:36:12.873Z"
      },
      {
        "duration": 222,
        "start_time": "2022-08-07T12:36:12.896Z"
      },
      {
        "duration": 108,
        "start_time": "2022-08-07T12:36:13.119Z"
      },
      {
        "duration": 125,
        "start_time": "2022-08-07T12:36:13.229Z"
      },
      {
        "duration": 6,
        "start_time": "2022-08-07T12:36:13.356Z"
      },
      {
        "duration": 7,
        "start_time": "2022-08-07T12:36:13.364Z"
      },
      {
        "duration": 129,
        "start_time": "2022-08-07T12:36:13.373Z"
      },
      {
        "duration": 9,
        "start_time": "2022-08-07T12:36:13.504Z"
      },
      {
        "duration": 6,
        "start_time": "2022-08-07T12:36:13.514Z"
      },
      {
        "duration": 8,
        "start_time": "2022-08-07T12:36:13.522Z"
      },
      {
        "duration": 17,
        "start_time": "2022-08-07T12:36:13.531Z"
      },
      {
        "duration": 6,
        "start_time": "2022-08-07T12:36:13.549Z"
      },
      {
        "duration": 38,
        "start_time": "2022-08-07T12:36:13.557Z"
      },
      {
        "duration": 11,
        "start_time": "2022-08-07T12:36:13.598Z"
      },
      {
        "duration": 14,
        "start_time": "2022-08-07T12:36:13.611Z"
      },
      {
        "duration": 129,
        "start_time": "2022-08-07T12:36:13.627Z"
      },
      {
        "duration": 6,
        "start_time": "2022-08-07T12:36:13.758Z"
      },
      {
        "duration": 7,
        "start_time": "2022-08-07T12:36:13.766Z"
      },
      {
        "duration": 29,
        "start_time": "2022-08-07T12:36:13.775Z"
      },
      {
        "duration": 18,
        "start_time": "2022-08-07T12:36:13.806Z"
      },
      {
        "duration": 20,
        "start_time": "2022-08-07T12:36:13.826Z"
      },
      {
        "duration": 3,
        "start_time": "2022-08-07T12:36:13.851Z"
      },
      {
        "duration": 36,
        "start_time": "2022-08-07T12:36:13.856Z"
      },
      {
        "duration": 5,
        "start_time": "2022-08-07T12:36:13.894Z"
      },
      {
        "duration": 24,
        "start_time": "2022-08-07T12:36:13.901Z"
      },
      {
        "duration": 5,
        "start_time": "2022-08-07T12:36:13.927Z"
      },
      {
        "duration": 7,
        "start_time": "2022-08-07T12:36:13.933Z"
      },
      {
        "duration": 9,
        "start_time": "2022-08-07T12:36:17.907Z"
      },
      {
        "duration": 22,
        "start_time": "2022-08-07T12:36:23.570Z"
      },
      {
        "duration": 4,
        "start_time": "2022-08-07T12:37:40.335Z"
      },
      {
        "duration": 126,
        "start_time": "2022-08-07T12:37:42.883Z"
      },
      {
        "duration": 1518,
        "start_time": "2022-08-07T12:38:06.690Z"
      },
      {
        "duration": 46,
        "start_time": "2022-08-07T12:38:08.211Z"
      },
      {
        "duration": 18,
        "start_time": "2022-08-07T12:38:08.260Z"
      },
      {
        "duration": 4,
        "start_time": "2022-08-07T12:38:08.280Z"
      },
      {
        "duration": 18,
        "start_time": "2022-08-07T12:38:08.287Z"
      },
      {
        "duration": 9,
        "start_time": "2022-08-07T12:38:08.307Z"
      },
      {
        "duration": 36,
        "start_time": "2022-08-07T12:38:08.318Z"
      },
      {
        "duration": 4,
        "start_time": "2022-08-07T12:38:08.356Z"
      },
      {
        "duration": 217,
        "start_time": "2022-08-07T12:38:08.391Z"
      },
      {
        "duration": 124,
        "start_time": "2022-08-07T12:38:08.610Z"
      },
      {
        "duration": 185,
        "start_time": "2022-08-07T12:38:08.736Z"
      },
      {
        "duration": 107,
        "start_time": "2022-08-07T12:38:08.923Z"
      },
      {
        "duration": 126,
        "start_time": "2022-08-07T12:38:09.032Z"
      },
      {
        "duration": 14,
        "start_time": "2022-08-07T12:38:09.162Z"
      },
      {
        "duration": 6,
        "start_time": "2022-08-07T12:38:09.191Z"
      },
      {
        "duration": 234,
        "start_time": "2022-08-07T12:38:09.199Z"
      },
      {
        "duration": 205,
        "start_time": "2022-08-07T12:38:09.436Z"
      },
      {
        "duration": 107,
        "start_time": "2022-08-07T12:38:09.643Z"
      },
      {
        "duration": 5,
        "start_time": "2022-08-07T12:38:09.753Z"
      },
      {
        "duration": 6,
        "start_time": "2022-08-07T12:38:09.760Z"
      },
      {
        "duration": 257,
        "start_time": "2022-08-07T12:38:09.768Z"
      },
      {
        "duration": 134,
        "start_time": "2022-08-07T12:38:10.027Z"
      },
      {
        "duration": 148,
        "start_time": "2022-08-07T12:38:10.163Z"
      },
      {
        "duration": 8,
        "start_time": "2022-08-07T12:38:10.313Z"
      },
      {
        "duration": 15,
        "start_time": "2022-08-07T12:38:10.323Z"
      },
      {
        "duration": 147,
        "start_time": "2022-08-07T12:38:10.340Z"
      },
      {
        "duration": 8,
        "start_time": "2022-08-07T12:38:10.491Z"
      },
      {
        "duration": 24,
        "start_time": "2022-08-07T12:38:10.501Z"
      },
      {
        "duration": 24,
        "start_time": "2022-08-07T12:38:10.527Z"
      },
      {
        "duration": 25,
        "start_time": "2022-08-07T12:38:10.553Z"
      },
      {
        "duration": 16,
        "start_time": "2022-08-07T12:38:10.580Z"
      },
      {
        "duration": 26,
        "start_time": "2022-08-07T12:38:10.599Z"
      },
      {
        "duration": 22,
        "start_time": "2022-08-07T12:38:10.628Z"
      },
      {
        "duration": 51,
        "start_time": "2022-08-07T12:38:10.651Z"
      },
      {
        "duration": 123,
        "start_time": "2022-08-07T12:38:10.704Z"
      },
      {
        "duration": 6,
        "start_time": "2022-08-07T12:38:10.829Z"
      },
      {
        "duration": 10,
        "start_time": "2022-08-07T12:38:10.837Z"
      },
      {
        "duration": 35,
        "start_time": "2022-08-07T12:38:10.849Z"
      },
      {
        "duration": 21,
        "start_time": "2022-08-07T12:38:10.892Z"
      },
      {
        "duration": 16,
        "start_time": "2022-08-07T12:38:10.916Z"
      },
      {
        "duration": 5,
        "start_time": "2022-08-07T12:38:10.937Z"
      },
      {
        "duration": 18,
        "start_time": "2022-08-07T12:38:10.944Z"
      },
      {
        "duration": 3,
        "start_time": "2022-08-07T12:38:10.992Z"
      },
      {
        "duration": 26,
        "start_time": "2022-08-07T12:38:10.997Z"
      },
      {
        "duration": 49,
        "start_time": "2022-08-07T12:38:11.024Z"
      },
      {
        "duration": 8,
        "start_time": "2022-08-07T12:38:11.075Z"
      },
      {
        "duration": 8,
        "start_time": "2022-08-07T12:38:13.376Z"
      },
      {
        "duration": 21,
        "start_time": "2022-08-07T12:38:16.207Z"
      },
      {
        "duration": 9,
        "start_time": "2022-08-07T12:38:39.434Z"
      },
      {
        "duration": 25,
        "start_time": "2022-08-07T12:38:49.151Z"
      },
      {
        "duration": 1449,
        "start_time": "2022-08-07T12:39:33.651Z"
      },
      {
        "duration": 41,
        "start_time": "2022-08-07T12:39:35.102Z"
      },
      {
        "duration": 17,
        "start_time": "2022-08-07T12:39:35.145Z"
      },
      {
        "duration": 5,
        "start_time": "2022-08-07T12:39:35.164Z"
      },
      {
        "duration": 24,
        "start_time": "2022-08-07T12:39:35.170Z"
      },
      {
        "duration": 18,
        "start_time": "2022-08-07T12:39:35.195Z"
      },
      {
        "duration": 54,
        "start_time": "2022-08-07T12:39:35.215Z"
      },
      {
        "duration": 4,
        "start_time": "2022-08-07T12:39:35.271Z"
      },
      {
        "duration": 234,
        "start_time": "2022-08-07T12:39:35.277Z"
      },
      {
        "duration": 170,
        "start_time": "2022-08-07T12:39:35.514Z"
      },
      {
        "duration": 191,
        "start_time": "2022-08-07T12:39:35.691Z"
      },
      {
        "duration": 118,
        "start_time": "2022-08-07T12:39:35.883Z"
      },
      {
        "duration": 176,
        "start_time": "2022-08-07T12:39:36.003Z"
      },
      {
        "duration": 23,
        "start_time": "2022-08-07T12:39:36.181Z"
      },
      {
        "duration": 5,
        "start_time": "2022-08-07T12:39:36.206Z"
      },
      {
        "duration": 213,
        "start_time": "2022-08-07T12:39:36.213Z"
      },
      {
        "duration": 293,
        "start_time": "2022-08-07T12:39:36.429Z"
      },
      {
        "duration": 198,
        "start_time": "2022-08-07T12:39:36.724Z"
      },
      {
        "duration": 6,
        "start_time": "2022-08-07T12:39:36.924Z"
      },
      {
        "duration": 4,
        "start_time": "2022-08-07T12:39:36.933Z"
      },
      {
        "duration": 290,
        "start_time": "2022-08-07T12:39:36.939Z"
      },
      {
        "duration": 118,
        "start_time": "2022-08-07T12:39:37.232Z"
      },
      {
        "duration": 163,
        "start_time": "2022-08-07T12:39:37.352Z"
      },
      {
        "duration": 5,
        "start_time": "2022-08-07T12:39:37.517Z"
      },
      {
        "duration": 28,
        "start_time": "2022-08-07T12:39:37.524Z"
      },
      {
        "duration": 117,
        "start_time": "2022-08-07T12:39:37.554Z"
      },
      {
        "duration": 20,
        "start_time": "2022-08-07T12:39:37.673Z"
      },
      {
        "duration": 4,
        "start_time": "2022-08-07T12:39:37.697Z"
      },
      {
        "duration": 10,
        "start_time": "2022-08-07T12:39:37.702Z"
      },
      {
        "duration": 25,
        "start_time": "2022-08-07T12:39:37.714Z"
      },
      {
        "duration": 9,
        "start_time": "2022-08-07T12:39:37.741Z"
      },
      {
        "duration": 19,
        "start_time": "2022-08-07T12:39:37.751Z"
      },
      {
        "duration": 23,
        "start_time": "2022-08-07T12:39:37.772Z"
      },
      {
        "duration": 24,
        "start_time": "2022-08-07T12:39:37.797Z"
      },
      {
        "duration": 131,
        "start_time": "2022-08-07T12:39:37.823Z"
      },
      {
        "duration": 14,
        "start_time": "2022-08-07T12:39:37.957Z"
      },
      {
        "duration": 15,
        "start_time": "2022-08-07T12:39:37.973Z"
      },
      {
        "duration": 33,
        "start_time": "2022-08-07T12:39:37.990Z"
      },
      {
        "duration": 22,
        "start_time": "2022-08-07T12:39:38.025Z"
      },
      {
        "duration": 27,
        "start_time": "2022-08-07T12:39:38.049Z"
      },
      {
        "duration": 15,
        "start_time": "2022-08-07T12:39:38.078Z"
      },
      {
        "duration": 24,
        "start_time": "2022-08-07T12:39:38.095Z"
      },
      {
        "duration": 23,
        "start_time": "2022-08-07T12:39:38.121Z"
      },
      {
        "duration": 43,
        "start_time": "2022-08-07T12:39:38.146Z"
      },
      {
        "duration": 31,
        "start_time": "2022-08-07T12:39:38.191Z"
      },
      {
        "duration": 17,
        "start_time": "2022-08-07T12:39:38.224Z"
      },
      {
        "duration": 39,
        "start_time": "2022-08-07T12:39:43.980Z"
      },
      {
        "duration": 1767,
        "start_time": "2022-08-07T12:41:02.925Z"
      },
      {
        "duration": 47,
        "start_time": "2022-08-07T12:41:04.696Z"
      },
      {
        "duration": 17,
        "start_time": "2022-08-07T12:41:04.745Z"
      },
      {
        "duration": 19,
        "start_time": "2022-08-07T12:41:04.763Z"
      },
      {
        "duration": 68,
        "start_time": "2022-08-07T12:41:04.785Z"
      },
      {
        "duration": 13,
        "start_time": "2022-08-07T12:41:04.855Z"
      },
      {
        "duration": 44,
        "start_time": "2022-08-07T12:41:04.871Z"
      },
      {
        "duration": 4,
        "start_time": "2022-08-07T12:41:04.918Z"
      },
      {
        "duration": 267,
        "start_time": "2022-08-07T12:41:04.925Z"
      },
      {
        "duration": 158,
        "start_time": "2022-08-07T12:41:05.196Z"
      },
      {
        "duration": 219,
        "start_time": "2022-08-07T12:41:05.357Z"
      },
      {
        "duration": 128,
        "start_time": "2022-08-07T12:41:05.578Z"
      },
      {
        "duration": 143,
        "start_time": "2022-08-07T12:41:05.708Z"
      },
      {
        "duration": 16,
        "start_time": "2022-08-07T12:41:05.854Z"
      },
      {
        "duration": 26,
        "start_time": "2022-08-07T12:41:05.872Z"
      },
      {
        "duration": 281,
        "start_time": "2022-08-07T12:41:05.900Z"
      },
      {
        "duration": 253,
        "start_time": "2022-08-07T12:41:06.183Z"
      },
      {
        "duration": 157,
        "start_time": "2022-08-07T12:41:06.438Z"
      },
      {
        "duration": 10,
        "start_time": "2022-08-07T12:41:06.597Z"
      },
      {
        "duration": 36,
        "start_time": "2022-08-07T12:41:06.609Z"
      },
      {
        "duration": 289,
        "start_time": "2022-08-07T12:41:06.647Z"
      },
      {
        "duration": 145,
        "start_time": "2022-08-07T12:41:06.941Z"
      },
      {
        "duration": 163,
        "start_time": "2022-08-07T12:41:07.087Z"
      },
      {
        "duration": 6,
        "start_time": "2022-08-07T12:41:07.252Z"
      },
      {
        "duration": 11,
        "start_time": "2022-08-07T12:41:07.261Z"
      },
      {
        "duration": 177,
        "start_time": "2022-08-07T12:41:07.274Z"
      },
      {
        "duration": 8,
        "start_time": "2022-08-07T12:41:07.454Z"
      },
      {
        "duration": 6,
        "start_time": "2022-08-07T12:41:07.463Z"
      },
      {
        "duration": 27,
        "start_time": "2022-08-07T12:41:07.471Z"
      },
      {
        "duration": 32,
        "start_time": "2022-08-07T12:41:07.500Z"
      },
      {
        "duration": 26,
        "start_time": "2022-08-07T12:41:07.535Z"
      },
      {
        "duration": 11,
        "start_time": "2022-08-07T12:41:07.563Z"
      },
      {
        "duration": 23,
        "start_time": "2022-08-07T12:41:07.576Z"
      },
      {
        "duration": 47,
        "start_time": "2022-08-07T12:41:07.601Z"
      },
      {
        "duration": 133,
        "start_time": "2022-08-07T12:41:07.650Z"
      },
      {
        "duration": 11,
        "start_time": "2022-08-07T12:41:07.786Z"
      },
      {
        "duration": 30,
        "start_time": "2022-08-07T12:41:07.799Z"
      },
      {
        "duration": 32,
        "start_time": "2022-08-07T12:41:07.831Z"
      },
      {
        "duration": 34,
        "start_time": "2022-08-07T12:41:07.864Z"
      },
      {
        "duration": 21,
        "start_time": "2022-08-07T12:41:07.903Z"
      },
      {
        "duration": 37,
        "start_time": "2022-08-07T12:41:07.930Z"
      },
      {
        "duration": 40,
        "start_time": "2022-08-07T12:41:07.969Z"
      },
      {
        "duration": 17,
        "start_time": "2022-08-07T12:41:08.012Z"
      },
      {
        "duration": 38,
        "start_time": "2022-08-07T12:41:08.031Z"
      },
      {
        "duration": 25,
        "start_time": "2022-08-07T12:41:08.071Z"
      },
      {
        "duration": 29,
        "start_time": "2022-08-07T12:41:08.099Z"
      },
      {
        "duration": 45,
        "start_time": "2022-08-07T12:41:08.130Z"
      },
      {
        "duration": 12,
        "start_time": "2022-08-07T12:41:08.177Z"
      },
      {
        "duration": 58,
        "start_time": "2022-08-07T12:41:55.923Z"
      },
      {
        "duration": 128,
        "start_time": "2022-08-07T12:42:05.438Z"
      },
      {
        "duration": 1929,
        "start_time": "2022-08-07T12:42:20.600Z"
      },
      {
        "duration": 62,
        "start_time": "2022-08-07T12:42:22.531Z"
      },
      {
        "duration": 19,
        "start_time": "2022-08-07T12:42:22.596Z"
      },
      {
        "duration": 14,
        "start_time": "2022-08-07T12:42:22.618Z"
      },
      {
        "duration": 19,
        "start_time": "2022-08-07T12:42:22.634Z"
      },
      {
        "duration": 11,
        "start_time": "2022-08-07T12:42:22.655Z"
      },
      {
        "duration": 50,
        "start_time": "2022-08-07T12:42:22.667Z"
      },
      {
        "duration": 5,
        "start_time": "2022-08-07T12:42:22.719Z"
      },
      {
        "duration": 259,
        "start_time": "2022-08-07T12:42:22.726Z"
      },
      {
        "duration": 137,
        "start_time": "2022-08-07T12:42:22.993Z"
      },
      {
        "duration": 208,
        "start_time": "2022-08-07T12:42:23.131Z"
      },
      {
        "duration": 118,
        "start_time": "2022-08-07T12:42:23.341Z"
      },
      {
        "duration": 139,
        "start_time": "2022-08-07T12:42:23.460Z"
      },
      {
        "duration": 15,
        "start_time": "2022-08-07T12:42:23.601Z"
      },
      {
        "duration": 6,
        "start_time": "2022-08-07T12:42:23.618Z"
      },
      {
        "duration": 230,
        "start_time": "2022-08-07T12:42:23.626Z"
      },
      {
        "duration": 225,
        "start_time": "2022-08-07T12:42:23.857Z"
      },
      {
        "duration": 119,
        "start_time": "2022-08-07T12:42:24.092Z"
      },
      {
        "duration": 7,
        "start_time": "2022-08-07T12:42:24.213Z"
      },
      {
        "duration": 15,
        "start_time": "2022-08-07T12:42:24.222Z"
      },
      {
        "duration": 252,
        "start_time": "2022-08-07T12:42:24.239Z"
      },
      {
        "duration": 125,
        "start_time": "2022-08-07T12:42:24.493Z"
      },
      {
        "duration": 135,
        "start_time": "2022-08-07T12:42:24.620Z"
      },
      {
        "duration": 7,
        "start_time": "2022-08-07T12:42:24.757Z"
      },
      {
        "duration": 12,
        "start_time": "2022-08-07T12:42:24.765Z"
      },
      {
        "duration": 138,
        "start_time": "2022-08-07T12:42:24.792Z"
      },
      {
        "duration": 11,
        "start_time": "2022-08-07T12:42:24.932Z"
      },
      {
        "duration": 6,
        "start_time": "2022-08-07T12:42:24.948Z"
      },
      {
        "duration": 14,
        "start_time": "2022-08-07T12:42:24.956Z"
      },
      {
        "duration": 39,
        "start_time": "2022-08-07T12:42:24.971Z"
      },
      {
        "duration": 12,
        "start_time": "2022-08-07T12:42:25.012Z"
      },
      {
        "duration": 17,
        "start_time": "2022-08-07T12:42:25.026Z"
      },
      {
        "duration": 11,
        "start_time": "2022-08-07T12:42:25.045Z"
      },
      {
        "duration": 17,
        "start_time": "2022-08-07T12:42:25.058Z"
      },
      {
        "duration": 143,
        "start_time": "2022-08-07T12:42:25.077Z"
      },
      {
        "duration": 8,
        "start_time": "2022-08-07T12:42:25.222Z"
      },
      {
        "duration": 12,
        "start_time": "2022-08-07T12:42:25.232Z"
      },
      {
        "duration": 28,
        "start_time": "2022-08-07T12:42:25.246Z"
      },
      {
        "duration": 34,
        "start_time": "2022-08-07T12:42:25.276Z"
      },
      {
        "duration": 21,
        "start_time": "2022-08-07T12:42:25.312Z"
      },
      {
        "duration": 12,
        "start_time": "2022-08-07T12:42:25.335Z"
      },
      {
        "duration": 18,
        "start_time": "2022-08-07T12:42:25.349Z"
      },
      {
        "duration": 23,
        "start_time": "2022-08-07T12:42:25.369Z"
      },
      {
        "duration": 32,
        "start_time": "2022-08-07T12:42:25.395Z"
      },
      {
        "duration": 7,
        "start_time": "2022-08-07T12:42:25.429Z"
      },
      {
        "duration": 10,
        "start_time": "2022-08-07T12:42:25.438Z"
      },
      {
        "duration": 53,
        "start_time": "2022-08-07T12:42:25.450Z"
      },
      {
        "duration": 12,
        "start_time": "2022-08-07T12:42:25.505Z"
      },
      {
        "duration": 48,
        "start_time": "2022-08-07T12:42:25.520Z"
      },
      {
        "duration": 48,
        "start_time": "2022-08-07T12:42:36.508Z"
      },
      {
        "duration": 4,
        "start_time": "2022-08-07T14:12:43.088Z"
      },
      {
        "duration": 3,
        "start_time": "2022-08-07T14:12:57.107Z"
      },
      {
        "duration": 583,
        "start_time": "2022-08-07T14:25:50.174Z"
      },
      {
        "duration": 133,
        "start_time": "2022-08-07T15:00:43.766Z"
      },
      {
        "duration": 4,
        "start_time": "2022-08-07T15:01:07.916Z"
      },
      {
        "duration": 16,
        "start_time": "2022-08-07T15:01:20.198Z"
      },
      {
        "duration": 41,
        "start_time": "2022-08-07T15:10:37.828Z"
      },
      {
        "duration": 15,
        "start_time": "2022-08-07T15:10:54.870Z"
      },
      {
        "duration": 20,
        "start_time": "2022-08-07T15:11:08.338Z"
      },
      {
        "duration": 14,
        "start_time": "2022-08-07T15:11:23.079Z"
      },
      {
        "duration": 1992,
        "start_time": "2022-08-07T15:11:30.504Z"
      },
      {
        "duration": 41,
        "start_time": "2022-08-07T15:11:32.498Z"
      },
      {
        "duration": 100,
        "start_time": "2022-08-07T15:11:32.541Z"
      },
      {
        "duration": 6,
        "start_time": "2022-08-07T15:11:32.643Z"
      },
      {
        "duration": 25,
        "start_time": "2022-08-07T15:11:32.652Z"
      },
      {
        "duration": 18,
        "start_time": "2022-08-07T15:11:32.679Z"
      },
      {
        "duration": 28,
        "start_time": "2022-08-07T15:11:32.699Z"
      },
      {
        "duration": 5,
        "start_time": "2022-08-07T15:11:32.728Z"
      },
      {
        "duration": 225,
        "start_time": "2022-08-07T15:11:32.735Z"
      },
      {
        "duration": 117,
        "start_time": "2022-08-07T15:11:32.962Z"
      },
      {
        "duration": 181,
        "start_time": "2022-08-07T15:11:33.091Z"
      },
      {
        "duration": 100,
        "start_time": "2022-08-07T15:11:33.274Z"
      },
      {
        "duration": 127,
        "start_time": "2022-08-07T15:11:33.376Z"
      },
      {
        "duration": 15,
        "start_time": "2022-08-07T15:11:33.507Z"
      },
      {
        "duration": 6,
        "start_time": "2022-08-07T15:11:33.523Z"
      },
      {
        "duration": 206,
        "start_time": "2022-08-07T15:11:33.530Z"
      },
      {
        "duration": 120,
        "start_time": "2022-08-07T15:11:33.738Z"
      },
      {
        "duration": 108,
        "start_time": "2022-08-07T15:11:33.859Z"
      },
      {
        "duration": 19,
        "start_time": "2022-08-07T15:11:33.970Z"
      },
      {
        "duration": 13,
        "start_time": "2022-08-07T15:11:33.992Z"
      },
      {
        "duration": 232,
        "start_time": "2022-08-07T15:11:34.007Z"
      },
      {
        "duration": 109,
        "start_time": "2022-08-07T15:11:34.241Z"
      },
      {
        "duration": 125,
        "start_time": "2022-08-07T15:11:34.352Z"
      },
      {
        "duration": 15,
        "start_time": "2022-08-07T15:11:34.479Z"
      },
      {
        "duration": 10,
        "start_time": "2022-08-07T15:11:34.495Z"
      },
      {
        "duration": 229,
        "start_time": "2022-08-07T15:11:34.507Z"
      },
      {
        "duration": 8,
        "start_time": "2022-08-07T15:11:34.739Z"
      },
      {
        "duration": 17,
        "start_time": "2022-08-07T15:11:34.749Z"
      },
      {
        "duration": 17,
        "start_time": "2022-08-07T15:11:34.768Z"
      },
      {
        "duration": 17,
        "start_time": "2022-08-07T15:11:34.787Z"
      },
      {
        "duration": 7,
        "start_time": "2022-08-07T15:11:34.806Z"
      },
      {
        "duration": 18,
        "start_time": "2022-08-07T15:11:34.815Z"
      },
      {
        "duration": 15,
        "start_time": "2022-08-07T15:11:34.835Z"
      },
      {
        "duration": 47,
        "start_time": "2022-08-07T15:11:34.852Z"
      },
      {
        "duration": 120,
        "start_time": "2022-08-07T15:11:34.901Z"
      },
      {
        "duration": 6,
        "start_time": "2022-08-07T15:11:35.023Z"
      },
      {
        "duration": 30,
        "start_time": "2022-08-07T15:11:35.030Z"
      },
      {
        "duration": 41,
        "start_time": "2022-08-07T15:11:35.061Z"
      },
      {
        "duration": 20,
        "start_time": "2022-08-07T15:11:35.104Z"
      },
      {
        "duration": 16,
        "start_time": "2022-08-07T15:11:35.125Z"
      },
      {
        "duration": 5,
        "start_time": "2022-08-07T15:11:35.146Z"
      },
      {
        "duration": 18,
        "start_time": "2022-08-07T15:11:35.153Z"
      },
      {
        "duration": 19,
        "start_time": "2022-08-07T15:11:35.173Z"
      },
      {
        "duration": 37,
        "start_time": "2022-08-07T15:11:35.194Z"
      },
      {
        "duration": 7,
        "start_time": "2022-08-07T15:11:35.233Z"
      },
      {
        "duration": 6,
        "start_time": "2022-08-07T15:11:35.242Z"
      },
      {
        "duration": 36,
        "start_time": "2022-08-07T15:11:35.250Z"
      },
      {
        "duration": 3,
        "start_time": "2022-08-07T15:11:35.292Z"
      },
      {
        "duration": 33,
        "start_time": "2022-08-07T15:11:35.297Z"
      },
      {
        "duration": 7,
        "start_time": "2022-08-07T15:11:35.331Z"
      },
      {
        "duration": 160,
        "start_time": "2022-08-07T15:11:35.340Z"
      },
      {
        "duration": 0,
        "start_time": "2022-08-07T15:11:35.501Z"
      },
      {
        "duration": 14,
        "start_time": "2022-08-07T15:13:02.588Z"
      },
      {
        "duration": 2023,
        "start_time": "2022-08-07T15:13:10.768Z"
      },
      {
        "duration": 44,
        "start_time": "2022-08-07T15:13:12.793Z"
      },
      {
        "duration": 97,
        "start_time": "2022-08-07T15:13:12.839Z"
      },
      {
        "duration": 9,
        "start_time": "2022-08-07T15:13:12.938Z"
      },
      {
        "duration": 43,
        "start_time": "2022-08-07T15:13:12.950Z"
      },
      {
        "duration": 19,
        "start_time": "2022-08-07T15:13:12.995Z"
      },
      {
        "duration": 41,
        "start_time": "2022-08-07T15:13:13.016Z"
      },
      {
        "duration": 6,
        "start_time": "2022-08-07T15:13:13.058Z"
      },
      {
        "duration": 202,
        "start_time": "2022-08-07T15:13:13.066Z"
      },
      {
        "duration": 111,
        "start_time": "2022-08-07T15:13:13.271Z"
      },
      {
        "duration": 185,
        "start_time": "2022-08-07T15:13:13.383Z"
      },
      {
        "duration": 96,
        "start_time": "2022-08-07T15:13:13.570Z"
      },
      {
        "duration": 125,
        "start_time": "2022-08-07T15:13:13.668Z"
      },
      {
        "duration": 15,
        "start_time": "2022-08-07T15:13:13.796Z"
      },
      {
        "duration": 17,
        "start_time": "2022-08-07T15:13:13.812Z"
      },
      {
        "duration": 205,
        "start_time": "2022-08-07T15:13:13.830Z"
      },
      {
        "duration": 126,
        "start_time": "2022-08-07T15:13:14.037Z"
      },
      {
        "duration": 101,
        "start_time": "2022-08-07T15:13:14.166Z"
      },
      {
        "duration": 6,
        "start_time": "2022-08-07T15:13:14.269Z"
      },
      {
        "duration": 19,
        "start_time": "2022-08-07T15:13:14.277Z"
      },
      {
        "duration": 218,
        "start_time": "2022-08-07T15:13:14.298Z"
      },
      {
        "duration": 112,
        "start_time": "2022-08-07T15:13:14.518Z"
      },
      {
        "duration": 228,
        "start_time": "2022-08-07T15:13:14.632Z"
      },
      {
        "duration": 5,
        "start_time": "2022-08-07T15:13:14.862Z"
      },
      {
        "duration": 23,
        "start_time": "2022-08-07T15:13:14.869Z"
      },
      {
        "duration": 126,
        "start_time": "2022-08-07T15:13:14.893Z"
      },
      {
        "duration": 9,
        "start_time": "2022-08-07T15:13:15.022Z"
      },
      {
        "duration": 46,
        "start_time": "2022-08-07T15:13:15.032Z"
      },
      {
        "duration": 17,
        "start_time": "2022-08-07T15:13:15.079Z"
      },
      {
        "duration": 22,
        "start_time": "2022-08-07T15:13:15.098Z"
      },
      {
        "duration": 18,
        "start_time": "2022-08-07T15:13:15.122Z"
      },
      {
        "duration": 14,
        "start_time": "2022-08-07T15:13:15.142Z"
      },
      {
        "duration": 15,
        "start_time": "2022-08-07T15:13:15.158Z"
      },
      {
        "duration": 28,
        "start_time": "2022-08-07T15:13:15.175Z"
      },
      {
        "duration": 117,
        "start_time": "2022-08-07T15:13:15.205Z"
      },
      {
        "duration": 7,
        "start_time": "2022-08-07T15:13:15.324Z"
      },
      {
        "duration": 20,
        "start_time": "2022-08-07T15:13:15.333Z"
      },
      {
        "duration": 26,
        "start_time": "2022-08-07T15:13:15.354Z"
      },
      {
        "duration": 25,
        "start_time": "2022-08-07T15:13:15.382Z"
      },
      {
        "duration": 23,
        "start_time": "2022-08-07T15:13:15.409Z"
      },
      {
        "duration": 20,
        "start_time": "2022-08-07T15:13:15.436Z"
      },
      {
        "duration": 24,
        "start_time": "2022-08-07T15:13:15.458Z"
      },
      {
        "duration": 5,
        "start_time": "2022-08-07T15:13:15.484Z"
      },
      {
        "duration": 27,
        "start_time": "2022-08-07T15:13:15.491Z"
      },
      {
        "duration": 34,
        "start_time": "2022-08-07T15:13:15.520Z"
      },
      {
        "duration": 12,
        "start_time": "2022-08-07T15:13:15.556Z"
      },
      {
        "duration": 40,
        "start_time": "2022-08-07T15:13:15.571Z"
      },
      {
        "duration": 19,
        "start_time": "2022-08-07T15:13:15.613Z"
      },
      {
        "duration": 47,
        "start_time": "2022-08-07T15:13:15.634Z"
      },
      {
        "duration": 16,
        "start_time": "2022-08-07T15:13:15.683Z"
      },
      {
        "duration": 149,
        "start_time": "2022-08-07T15:13:15.701Z"
      },
      {
        "duration": 0,
        "start_time": "2022-08-07T15:13:15.851Z"
      },
      {
        "duration": 1956,
        "start_time": "2022-08-07T15:13:41.209Z"
      },
      {
        "duration": 41,
        "start_time": "2022-08-07T15:13:43.167Z"
      },
      {
        "duration": 101,
        "start_time": "2022-08-07T15:13:43.210Z"
      },
      {
        "duration": 13,
        "start_time": "2022-08-07T15:13:43.313Z"
      },
      {
        "duration": 23,
        "start_time": "2022-08-07T15:13:43.328Z"
      },
      {
        "duration": 21,
        "start_time": "2022-08-07T15:13:43.353Z"
      },
      {
        "duration": 46,
        "start_time": "2022-08-07T15:13:43.376Z"
      },
      {
        "duration": 13,
        "start_time": "2022-08-07T15:13:43.424Z"
      },
      {
        "duration": 209,
        "start_time": "2022-08-07T15:13:43.440Z"
      },
      {
        "duration": 115,
        "start_time": "2022-08-07T15:13:43.651Z"
      },
      {
        "duration": 176,
        "start_time": "2022-08-07T15:13:43.768Z"
      },
      {
        "duration": 108,
        "start_time": "2022-08-07T15:13:43.946Z"
      },
      {
        "duration": 119,
        "start_time": "2022-08-07T15:13:44.056Z"
      },
      {
        "duration": 24,
        "start_time": "2022-08-07T15:13:44.178Z"
      },
      {
        "duration": 5,
        "start_time": "2022-08-07T15:13:44.204Z"
      },
      {
        "duration": 202,
        "start_time": "2022-08-07T15:13:44.210Z"
      },
      {
        "duration": 127,
        "start_time": "2022-08-07T15:13:44.414Z"
      },
      {
        "duration": 101,
        "start_time": "2022-08-07T15:13:44.542Z"
      },
      {
        "duration": 7,
        "start_time": "2022-08-07T15:13:44.645Z"
      },
      {
        "duration": 8,
        "start_time": "2022-08-07T15:13:44.654Z"
      },
      {
        "duration": 220,
        "start_time": "2022-08-07T15:13:44.664Z"
      },
      {
        "duration": 106,
        "start_time": "2022-08-07T15:13:44.892Z"
      },
      {
        "duration": 133,
        "start_time": "2022-08-07T15:13:45.000Z"
      },
      {
        "duration": 6,
        "start_time": "2022-08-07T15:13:45.135Z"
      },
      {
        "duration": 20,
        "start_time": "2022-08-07T15:13:45.143Z"
      },
      {
        "duration": 222,
        "start_time": "2022-08-07T15:13:45.164Z"
      },
      {
        "duration": 8,
        "start_time": "2022-08-07T15:13:45.392Z"
      },
      {
        "duration": 13,
        "start_time": "2022-08-07T15:13:45.402Z"
      },
      {
        "duration": 8,
        "start_time": "2022-08-07T15:13:45.417Z"
      },
      {
        "duration": 21,
        "start_time": "2022-08-07T15:13:45.427Z"
      },
      {
        "duration": 11,
        "start_time": "2022-08-07T15:13:45.453Z"
      },
      {
        "duration": 8,
        "start_time": "2022-08-07T15:13:45.466Z"
      },
      {
        "duration": 21,
        "start_time": "2022-08-07T15:13:45.476Z"
      },
      {
        "duration": 15,
        "start_time": "2022-08-07T15:13:45.499Z"
      },
      {
        "duration": 136,
        "start_time": "2022-08-07T15:13:45.516Z"
      },
      {
        "duration": 6,
        "start_time": "2022-08-07T15:13:45.653Z"
      },
      {
        "duration": 11,
        "start_time": "2022-08-07T15:13:45.661Z"
      },
      {
        "duration": 31,
        "start_time": "2022-08-07T15:13:45.674Z"
      },
      {
        "duration": 16,
        "start_time": "2022-08-07T15:13:45.707Z"
      },
      {
        "duration": 12,
        "start_time": "2022-08-07T15:13:45.725Z"
      },
      {
        "duration": 4,
        "start_time": "2022-08-07T15:13:45.743Z"
      },
      {
        "duration": 46,
        "start_time": "2022-08-07T15:13:45.749Z"
      },
      {
        "duration": 7,
        "start_time": "2022-08-07T15:13:45.797Z"
      },
      {
        "duration": 28,
        "start_time": "2022-08-07T15:13:45.806Z"
      },
      {
        "duration": 6,
        "start_time": "2022-08-07T15:13:45.836Z"
      },
      {
        "duration": 6,
        "start_time": "2022-08-07T15:13:45.844Z"
      },
      {
        "duration": 53,
        "start_time": "2022-08-07T15:13:45.851Z"
      },
      {
        "duration": 3,
        "start_time": "2022-08-07T15:13:45.906Z"
      },
      {
        "duration": 30,
        "start_time": "2022-08-07T15:13:45.911Z"
      },
      {
        "duration": 7,
        "start_time": "2022-08-07T15:13:45.943Z"
      },
      {
        "duration": 7,
        "start_time": "2022-08-07T15:13:45.952Z"
      },
      {
        "duration": 10,
        "start_time": "2022-08-07T15:13:45.961Z"
      },
      {
        "duration": 7,
        "start_time": "2022-08-07T15:14:50.446Z"
      },
      {
        "duration": 1974,
        "start_time": "2022-08-07T15:14:57.562Z"
      },
      {
        "duration": 41,
        "start_time": "2022-08-07T15:14:59.539Z"
      },
      {
        "duration": 97,
        "start_time": "2022-08-07T15:14:59.581Z"
      },
      {
        "duration": 6,
        "start_time": "2022-08-07T15:14:59.680Z"
      },
      {
        "duration": 17,
        "start_time": "2022-08-07T15:14:59.691Z"
      },
      {
        "duration": 10,
        "start_time": "2022-08-07T15:14:59.710Z"
      },
      {
        "duration": 27,
        "start_time": "2022-08-07T15:14:59.722Z"
      },
      {
        "duration": 5,
        "start_time": "2022-08-07T15:14:59.751Z"
      },
      {
        "duration": 224,
        "start_time": "2022-08-07T15:14:59.758Z"
      },
      {
        "duration": 117,
        "start_time": "2022-08-07T15:14:59.991Z"
      },
      {
        "duration": 173,
        "start_time": "2022-08-07T15:15:00.110Z"
      },
      {
        "duration": 108,
        "start_time": "2022-08-07T15:15:00.291Z"
      },
      {
        "duration": 117,
        "start_time": "2022-08-07T15:15:00.401Z"
      },
      {
        "duration": 14,
        "start_time": "2022-08-07T15:15:00.520Z"
      },
      {
        "duration": 5,
        "start_time": "2022-08-07T15:15:00.536Z"
      },
      {
        "duration": 208,
        "start_time": "2022-08-07T15:15:00.543Z"
      },
      {
        "duration": 124,
        "start_time": "2022-08-07T15:15:00.753Z"
      },
      {
        "duration": 100,
        "start_time": "2022-08-07T15:15:00.879Z"
      },
      {
        "duration": 7,
        "start_time": "2022-08-07T15:15:00.998Z"
      },
      {
        "duration": 21,
        "start_time": "2022-08-07T15:15:01.007Z"
      },
      {
        "duration": 233,
        "start_time": "2022-08-07T15:15:01.030Z"
      },
      {
        "duration": 109,
        "start_time": "2022-08-07T15:15:01.264Z"
      },
      {
        "duration": 128,
        "start_time": "2022-08-07T15:15:01.375Z"
      },
      {
        "duration": 5,
        "start_time": "2022-08-07T15:15:01.505Z"
      },
      {
        "duration": 42,
        "start_time": "2022-08-07T15:15:01.512Z"
      },
      {
        "duration": 252,
        "start_time": "2022-08-07T15:15:01.556Z"
      },
      {
        "duration": 11,
        "start_time": "2022-08-07T15:15:01.812Z"
      },
      {
        "duration": 38,
        "start_time": "2022-08-07T15:15:01.827Z"
      },
      {
        "duration": 25,
        "start_time": "2022-08-07T15:15:01.868Z"
      },
      {
        "duration": 25,
        "start_time": "2022-08-07T15:15:01.895Z"
      },
      {
        "duration": 22,
        "start_time": "2022-08-07T15:15:01.922Z"
      },
      {
        "duration": 34,
        "start_time": "2022-08-07T15:15:01.946Z"
      },
      {
        "duration": 38,
        "start_time": "2022-08-07T15:15:01.982Z"
      },
      {
        "duration": 40,
        "start_time": "2022-08-07T15:15:02.022Z"
      },
      {
        "duration": 134,
        "start_time": "2022-08-07T15:15:02.064Z"
      },
      {
        "duration": 6,
        "start_time": "2022-08-07T15:15:02.200Z"
      },
      {
        "duration": 20,
        "start_time": "2022-08-07T15:15:02.208Z"
      },
      {
        "duration": 20,
        "start_time": "2022-08-07T15:15:02.230Z"
      },
      {
        "duration": 16,
        "start_time": "2022-08-07T15:15:02.253Z"
      },
      {
        "duration": 27,
        "start_time": "2022-08-07T15:15:02.271Z"
      },
      {
        "duration": 47,
        "start_time": "2022-08-07T15:15:02.300Z"
      },
      {
        "duration": 29,
        "start_time": "2022-08-07T15:15:02.349Z"
      },
      {
        "duration": 7,
        "start_time": "2022-08-07T15:15:02.380Z"
      },
      {
        "duration": 31,
        "start_time": "2022-08-07T15:15:02.389Z"
      },
      {
        "duration": 20,
        "start_time": "2022-08-07T15:15:02.422Z"
      },
      {
        "duration": 5,
        "start_time": "2022-08-07T15:15:02.444Z"
      },
      {
        "duration": 40,
        "start_time": "2022-08-07T15:15:02.451Z"
      },
      {
        "duration": 3,
        "start_time": "2022-08-07T15:15:02.492Z"
      },
      {
        "duration": 45,
        "start_time": "2022-08-07T15:15:02.496Z"
      },
      {
        "duration": 30,
        "start_time": "2022-08-07T15:15:02.542Z"
      },
      {
        "duration": 23,
        "start_time": "2022-08-07T15:15:02.574Z"
      },
      {
        "duration": 6,
        "start_time": "2022-08-07T15:15:02.599Z"
      },
      {
        "duration": 9,
        "start_time": "2022-08-07T15:15:02.606Z"
      },
      {
        "duration": 2004,
        "start_time": "2022-08-07T15:18:11.853Z"
      },
      {
        "duration": 41,
        "start_time": "2022-08-07T15:18:13.859Z"
      },
      {
        "duration": 97,
        "start_time": "2022-08-07T15:18:13.901Z"
      },
      {
        "duration": 8,
        "start_time": "2022-08-07T15:18:14.000Z"
      },
      {
        "duration": 20,
        "start_time": "2022-08-07T15:18:14.011Z"
      },
      {
        "duration": 8,
        "start_time": "2022-08-07T15:18:14.033Z"
      },
      {
        "duration": 30,
        "start_time": "2022-08-07T15:18:14.043Z"
      },
      {
        "duration": 4,
        "start_time": "2022-08-07T15:18:14.092Z"
      },
      {
        "duration": 210,
        "start_time": "2022-08-07T15:18:14.098Z"
      },
      {
        "duration": 117,
        "start_time": "2022-08-07T15:18:14.310Z"
      },
      {
        "duration": 171,
        "start_time": "2022-08-07T15:18:14.429Z"
      },
      {
        "duration": 104,
        "start_time": "2022-08-07T15:18:14.602Z"
      },
      {
        "duration": 118,
        "start_time": "2022-08-07T15:18:14.707Z"
      },
      {
        "duration": 14,
        "start_time": "2022-08-07T15:18:14.828Z"
      },
      {
        "duration": 5,
        "start_time": "2022-08-07T15:18:14.844Z"
      },
      {
        "duration": 212,
        "start_time": "2022-08-07T15:18:14.851Z"
      },
      {
        "duration": 121,
        "start_time": "2022-08-07T15:18:15.064Z"
      },
      {
        "duration": 111,
        "start_time": "2022-08-07T15:18:15.192Z"
      },
      {
        "duration": 7,
        "start_time": "2022-08-07T15:18:15.305Z"
      },
      {
        "duration": 27,
        "start_time": "2022-08-07T15:18:15.313Z"
      },
      {
        "duration": 238,
        "start_time": "2022-08-07T15:18:15.342Z"
      },
      {
        "duration": 111,
        "start_time": "2022-08-07T15:18:15.582Z"
      },
      {
        "duration": 119,
        "start_time": "2022-08-07T15:18:15.695Z"
      },
      {
        "duration": 6,
        "start_time": "2022-08-07T15:18:15.816Z"
      },
      {
        "duration": 7,
        "start_time": "2022-08-07T15:18:15.823Z"
      },
      {
        "duration": 233,
        "start_time": "2022-08-07T15:18:15.831Z"
      },
      {
        "duration": 7,
        "start_time": "2022-08-07T15:18:16.066Z"
      },
      {
        "duration": 16,
        "start_time": "2022-08-07T15:18:16.075Z"
      },
      {
        "duration": 8,
        "start_time": "2022-08-07T15:18:16.093Z"
      },
      {
        "duration": 16,
        "start_time": "2022-08-07T15:18:16.103Z"
      },
      {
        "duration": 6,
        "start_time": "2022-08-07T15:18:16.121Z"
      },
      {
        "duration": 8,
        "start_time": "2022-08-07T15:18:16.129Z"
      },
      {
        "duration": 9,
        "start_time": "2022-08-07T15:18:16.138Z"
      },
      {
        "duration": 13,
        "start_time": "2022-08-07T15:18:16.149Z"
      },
      {
        "duration": 139,
        "start_time": "2022-08-07T15:18:16.163Z"
      },
      {
        "duration": 6,
        "start_time": "2022-08-07T15:18:16.304Z"
      },
      {
        "duration": 16,
        "start_time": "2022-08-07T15:18:16.312Z"
      },
      {
        "duration": 22,
        "start_time": "2022-08-07T15:18:16.330Z"
      },
      {
        "duration": 21,
        "start_time": "2022-08-07T15:18:16.354Z"
      },
      {
        "duration": 19,
        "start_time": "2022-08-07T15:18:16.377Z"
      },
      {
        "duration": 15,
        "start_time": "2022-08-07T15:18:16.400Z"
      },
      {
        "duration": 21,
        "start_time": "2022-08-07T15:18:16.417Z"
      },
      {
        "duration": 8,
        "start_time": "2022-08-07T15:18:16.439Z"
      },
      {
        "duration": 23,
        "start_time": "2022-08-07T15:18:16.449Z"
      },
      {
        "duration": 63,
        "start_time": "2022-08-07T15:18:16.474Z"
      },
      {
        "duration": 18,
        "start_time": "2022-08-07T15:18:16.538Z"
      },
      {
        "duration": 41,
        "start_time": "2022-08-07T15:18:16.558Z"
      },
      {
        "duration": 23,
        "start_time": "2022-08-07T15:18:16.602Z"
      },
      {
        "duration": 62,
        "start_time": "2022-08-07T15:18:16.626Z"
      },
      {
        "duration": 22,
        "start_time": "2022-08-07T15:18:16.690Z"
      },
      {
        "duration": 6,
        "start_time": "2022-08-07T15:18:16.714Z"
      },
      {
        "duration": 9,
        "start_time": "2022-08-07T15:18:16.722Z"
      },
      {
        "duration": 4,
        "start_time": "2022-08-07T15:18:16.733Z"
      },
      {
        "duration": 147,
        "start_time": "2022-08-07T15:21:16.088Z"
      },
      {
        "duration": 15,
        "start_time": "2022-08-07T15:21:23.675Z"
      },
      {
        "duration": 1902,
        "start_time": "2022-08-07T15:21:32.364Z"
      },
      {
        "duration": 40,
        "start_time": "2022-08-07T15:21:34.269Z"
      },
      {
        "duration": 97,
        "start_time": "2022-08-07T15:21:34.311Z"
      },
      {
        "duration": 3,
        "start_time": "2022-08-07T15:21:34.410Z"
      },
      {
        "duration": 35,
        "start_time": "2022-08-07T15:21:34.416Z"
      },
      {
        "duration": 22,
        "start_time": "2022-08-07T15:21:34.453Z"
      },
      {
        "duration": 34,
        "start_time": "2022-08-07T15:21:34.477Z"
      },
      {
        "duration": 4,
        "start_time": "2022-08-07T15:21:34.512Z"
      },
      {
        "duration": 213,
        "start_time": "2022-08-07T15:21:34.518Z"
      },
      {
        "duration": 119,
        "start_time": "2022-08-07T15:21:34.733Z"
      },
      {
        "duration": 178,
        "start_time": "2022-08-07T15:21:34.854Z"
      },
      {
        "duration": 107,
        "start_time": "2022-08-07T15:21:35.033Z"
      },
      {
        "duration": 122,
        "start_time": "2022-08-07T15:21:35.142Z"
      },
      {
        "duration": 25,
        "start_time": "2022-08-07T15:21:35.268Z"
      },
      {
        "duration": 6,
        "start_time": "2022-08-07T15:21:35.294Z"
      },
      {
        "duration": 203,
        "start_time": "2022-08-07T15:21:35.302Z"
      },
      {
        "duration": 118,
        "start_time": "2022-08-07T15:21:35.507Z"
      },
      {
        "duration": 112,
        "start_time": "2022-08-07T15:21:35.627Z"
      },
      {
        "duration": 6,
        "start_time": "2022-08-07T15:21:35.740Z"
      },
      {
        "duration": 6,
        "start_time": "2022-08-07T15:21:35.748Z"
      },
      {
        "duration": 229,
        "start_time": "2022-08-07T15:21:35.756Z"
      },
      {
        "duration": 128,
        "start_time": "2022-08-07T15:21:35.990Z"
      },
      {
        "duration": 222,
        "start_time": "2022-08-07T15:21:36.119Z"
      },
      {
        "duration": 5,
        "start_time": "2022-08-07T15:21:36.343Z"
      },
      {
        "duration": 9,
        "start_time": "2022-08-07T15:21:36.350Z"
      },
      {
        "duration": 221,
        "start_time": "2022-08-07T15:21:36.361Z"
      },
      {
        "duration": 14,
        "start_time": "2022-08-07T15:21:36.584Z"
      },
      {
        "duration": 8,
        "start_time": "2022-08-07T15:21:36.599Z"
      },
      {
        "duration": 13,
        "start_time": "2022-08-07T15:21:36.608Z"
      },
      {
        "duration": 16,
        "start_time": "2022-08-07T15:21:36.623Z"
      },
      {
        "duration": 6,
        "start_time": "2022-08-07T15:21:36.641Z"
      },
      {
        "duration": 7,
        "start_time": "2022-08-07T15:21:36.649Z"
      },
      {
        "duration": 12,
        "start_time": "2022-08-07T15:21:36.658Z"
      },
      {
        "duration": 13,
        "start_time": "2022-08-07T15:21:36.672Z"
      },
      {
        "duration": 219,
        "start_time": "2022-08-07T15:21:36.687Z"
      },
      {
        "duration": 5,
        "start_time": "2022-08-07T15:21:36.908Z"
      },
      {
        "duration": 9,
        "start_time": "2022-08-07T15:21:36.915Z"
      },
      {
        "duration": 18,
        "start_time": "2022-08-07T15:21:36.925Z"
      },
      {
        "duration": 54,
        "start_time": "2022-08-07T15:21:36.945Z"
      },
      {
        "duration": 13,
        "start_time": "2022-08-07T15:21:37.001Z"
      },
      {
        "duration": 3,
        "start_time": "2022-08-07T15:21:37.018Z"
      },
      {
        "duration": 21,
        "start_time": "2022-08-07T15:21:37.023Z"
      },
      {
        "duration": 4,
        "start_time": "2022-08-07T15:21:37.092Z"
      },
      {
        "duration": 32,
        "start_time": "2022-08-07T15:21:37.098Z"
      },
      {
        "duration": 4,
        "start_time": "2022-08-07T15:21:37.132Z"
      },
      {
        "duration": 55,
        "start_time": "2022-08-07T15:21:37.138Z"
      },
      {
        "duration": 188,
        "start_time": "2022-08-07T15:21:37.196Z"
      },
      {
        "duration": 0,
        "start_time": "2022-08-07T15:21:37.385Z"
      },
      {
        "duration": 0,
        "start_time": "2022-08-07T15:21:37.391Z"
      },
      {
        "duration": 0,
        "start_time": "2022-08-07T15:21:37.392Z"
      },
      {
        "duration": 0,
        "start_time": "2022-08-07T15:21:37.393Z"
      },
      {
        "duration": 0,
        "start_time": "2022-08-07T15:21:37.394Z"
      },
      {
        "duration": 0,
        "start_time": "2022-08-07T15:21:37.395Z"
      },
      {
        "duration": 11,
        "start_time": "2022-08-07T15:21:51.567Z"
      },
      {
        "duration": 8,
        "start_time": "2022-08-07T15:22:02.401Z"
      },
      {
        "duration": 20,
        "start_time": "2022-08-07T15:22:12.287Z"
      },
      {
        "duration": 18,
        "start_time": "2022-08-07T15:23:52.595Z"
      },
      {
        "duration": 2017,
        "start_time": "2022-08-07T15:24:00.364Z"
      },
      {
        "duration": 41,
        "start_time": "2022-08-07T15:24:02.383Z"
      },
      {
        "duration": 104,
        "start_time": "2022-08-07T15:24:02.426Z"
      },
      {
        "duration": 4,
        "start_time": "2022-08-07T15:24:02.532Z"
      },
      {
        "duration": 24,
        "start_time": "2022-08-07T15:24:02.539Z"
      },
      {
        "duration": 9,
        "start_time": "2022-08-07T15:24:02.565Z"
      },
      {
        "duration": 37,
        "start_time": "2022-08-07T15:24:02.575Z"
      },
      {
        "duration": 3,
        "start_time": "2022-08-07T15:24:02.614Z"
      },
      {
        "duration": 231,
        "start_time": "2022-08-07T15:24:02.619Z"
      },
      {
        "duration": 119,
        "start_time": "2022-08-07T15:24:02.852Z"
      },
      {
        "duration": 189,
        "start_time": "2022-08-07T15:24:02.973Z"
      },
      {
        "duration": 103,
        "start_time": "2022-08-07T15:24:03.164Z"
      },
      {
        "duration": 138,
        "start_time": "2022-08-07T15:24:03.269Z"
      },
      {
        "duration": 16,
        "start_time": "2022-08-07T15:24:03.412Z"
      },
      {
        "duration": 34,
        "start_time": "2022-08-07T15:24:03.429Z"
      },
      {
        "duration": 229,
        "start_time": "2022-08-07T15:24:03.464Z"
      },
      {
        "duration": 135,
        "start_time": "2022-08-07T15:24:03.695Z"
      },
      {
        "duration": 112,
        "start_time": "2022-08-07T15:24:03.832Z"
      },
      {
        "duration": 6,
        "start_time": "2022-08-07T15:24:03.946Z"
      },
      {
        "duration": 18,
        "start_time": "2022-08-07T15:24:03.953Z"
      },
      {
        "duration": 229,
        "start_time": "2022-08-07T15:24:03.974Z"
      },
      {
        "duration": 113,
        "start_time": "2022-08-07T15:24:04.205Z"
      },
      {
        "duration": 230,
        "start_time": "2022-08-07T15:24:04.320Z"
      },
      {
        "duration": 6,
        "start_time": "2022-08-07T15:24:04.552Z"
      },
      {
        "duration": 25,
        "start_time": "2022-08-07T15:24:04.560Z"
      },
      {
        "duration": 142,
        "start_time": "2022-08-07T15:24:04.588Z"
      },
      {
        "duration": 8,
        "start_time": "2022-08-07T15:24:04.732Z"
      },
      {
        "duration": 13,
        "start_time": "2022-08-07T15:24:04.742Z"
      },
      {
        "duration": 17,
        "start_time": "2022-08-07T15:24:04.756Z"
      },
      {
        "duration": 28,
        "start_time": "2022-08-07T15:24:04.774Z"
      },
      {
        "duration": 12,
        "start_time": "2022-08-07T15:24:04.804Z"
      },
      {
        "duration": 11,
        "start_time": "2022-08-07T15:24:04.818Z"
      },
      {
        "duration": 9,
        "start_time": "2022-08-07T15:24:04.837Z"
      },
      {
        "duration": 33,
        "start_time": "2022-08-07T15:24:04.848Z"
      },
      {
        "duration": 151,
        "start_time": "2022-08-07T15:24:04.883Z"
      },
      {
        "duration": 8,
        "start_time": "2022-08-07T15:24:05.036Z"
      },
      {
        "duration": 19,
        "start_time": "2022-08-07T15:24:05.046Z"
      },
      {
        "duration": 26,
        "start_time": "2022-08-07T15:24:05.068Z"
      },
      {
        "duration": 36,
        "start_time": "2022-08-07T15:24:05.096Z"
      },
      {
        "duration": 33,
        "start_time": "2022-08-07T15:24:05.134Z"
      },
      {
        "duration": 9,
        "start_time": "2022-08-07T15:24:05.171Z"
      },
      {
        "duration": 31,
        "start_time": "2022-08-07T15:24:05.182Z"
      },
      {
        "duration": 10,
        "start_time": "2022-08-07T15:24:05.216Z"
      },
      {
        "duration": 33,
        "start_time": "2022-08-07T15:24:05.228Z"
      },
      {
        "duration": 16,
        "start_time": "2022-08-07T15:24:05.263Z"
      },
      {
        "duration": 12,
        "start_time": "2022-08-07T15:24:05.281Z"
      },
      {
        "duration": 34,
        "start_time": "2022-08-07T15:24:05.295Z"
      },
      {
        "duration": 52,
        "start_time": "2022-08-07T15:24:05.332Z"
      },
      {
        "duration": 26,
        "start_time": "2022-08-07T15:24:05.386Z"
      },
      {
        "duration": 177,
        "start_time": "2022-08-07T15:24:05.414Z"
      },
      {
        "duration": 0,
        "start_time": "2022-08-07T15:24:05.593Z"
      },
      {
        "duration": 0,
        "start_time": "2022-08-07T15:24:05.595Z"
      },
      {
        "duration": 0,
        "start_time": "2022-08-07T15:24:05.597Z"
      },
      {
        "duration": 0,
        "start_time": "2022-08-07T15:24:05.599Z"
      },
      {
        "duration": 33,
        "start_time": "2022-08-07T15:24:22.139Z"
      },
      {
        "duration": 1958,
        "start_time": "2022-08-07T15:25:34.406Z"
      },
      {
        "duration": 41,
        "start_time": "2022-08-07T15:25:36.366Z"
      },
      {
        "duration": 106,
        "start_time": "2022-08-07T15:25:36.409Z"
      },
      {
        "duration": 19,
        "start_time": "2022-08-07T15:25:36.517Z"
      },
      {
        "duration": 67,
        "start_time": "2022-08-07T15:25:36.538Z"
      },
      {
        "duration": 53,
        "start_time": "2022-08-07T15:25:36.607Z"
      },
      {
        "duration": 63,
        "start_time": "2022-08-07T15:25:36.661Z"
      },
      {
        "duration": 30,
        "start_time": "2022-08-07T15:25:36.726Z"
      },
      {
        "duration": 240,
        "start_time": "2022-08-07T15:25:36.758Z"
      },
      {
        "duration": 119,
        "start_time": "2022-08-07T15:25:37.000Z"
      },
      {
        "duration": 180,
        "start_time": "2022-08-07T15:25:37.121Z"
      },
      {
        "duration": 111,
        "start_time": "2022-08-07T15:25:37.303Z"
      },
      {
        "duration": 125,
        "start_time": "2022-08-07T15:25:37.416Z"
      },
      {
        "duration": 15,
        "start_time": "2022-08-07T15:25:37.543Z"
      },
      {
        "duration": 25,
        "start_time": "2022-08-07T15:25:37.560Z"
      },
      {
        "duration": 222,
        "start_time": "2022-08-07T15:25:37.587Z"
      },
      {
        "duration": 124,
        "start_time": "2022-08-07T15:25:37.811Z"
      },
      {
        "duration": 114,
        "start_time": "2022-08-07T15:25:37.936Z"
      },
      {
        "duration": 7,
        "start_time": "2022-08-07T15:25:38.052Z"
      },
      {
        "duration": 8,
        "start_time": "2022-08-07T15:25:38.061Z"
      },
      {
        "duration": 229,
        "start_time": "2022-08-07T15:25:38.070Z"
      },
      {
        "duration": 114,
        "start_time": "2022-08-07T15:25:38.301Z"
      },
      {
        "duration": 126,
        "start_time": "2022-08-07T15:25:38.418Z"
      },
      {
        "duration": 5,
        "start_time": "2022-08-07T15:25:38.546Z"
      },
      {
        "duration": 19,
        "start_time": "2022-08-07T15:25:38.553Z"
      },
      {
        "duration": 231,
        "start_time": "2022-08-07T15:25:38.573Z"
      },
      {
        "duration": 8,
        "start_time": "2022-08-07T15:25:38.806Z"
      },
      {
        "duration": 5,
        "start_time": "2022-08-07T15:25:38.820Z"
      },
      {
        "duration": 8,
        "start_time": "2022-08-07T15:25:38.827Z"
      },
      {
        "duration": 23,
        "start_time": "2022-08-07T15:25:38.838Z"
      },
      {
        "duration": 30,
        "start_time": "2022-08-07T15:25:38.863Z"
      },
      {
        "duration": 20,
        "start_time": "2022-08-07T15:25:38.895Z"
      },
      {
        "duration": 9,
        "start_time": "2022-08-07T15:25:38.918Z"
      },
      {
        "duration": 26,
        "start_time": "2022-08-07T15:25:38.930Z"
      },
      {
        "duration": 121,
        "start_time": "2022-08-07T15:25:38.958Z"
      },
      {
        "duration": 14,
        "start_time": "2022-08-07T15:25:39.081Z"
      },
      {
        "duration": 16,
        "start_time": "2022-08-07T15:25:39.098Z"
      },
      {
        "duration": 22,
        "start_time": "2022-08-07T15:25:39.116Z"
      },
      {
        "duration": 17,
        "start_time": "2022-08-07T15:25:39.139Z"
      },
      {
        "duration": 39,
        "start_time": "2022-08-07T15:25:39.159Z"
      },
      {
        "duration": 7,
        "start_time": "2022-08-07T15:25:39.201Z"
      },
      {
        "duration": 22,
        "start_time": "2022-08-07T15:25:39.210Z"
      },
      {
        "duration": 5,
        "start_time": "2022-08-07T15:25:39.234Z"
      },
      {
        "duration": 51,
        "start_time": "2022-08-07T15:25:39.242Z"
      },
      {
        "duration": 9,
        "start_time": "2022-08-07T15:25:39.295Z"
      },
      {
        "duration": 11,
        "start_time": "2022-08-07T15:25:39.306Z"
      },
      {
        "duration": 26,
        "start_time": "2022-08-07T15:25:39.319Z"
      },
      {
        "duration": 39,
        "start_time": "2022-08-07T15:25:39.347Z"
      },
      {
        "duration": 73,
        "start_time": "2022-08-07T15:25:39.388Z"
      },
      {
        "duration": 12,
        "start_time": "2022-08-07T15:25:39.463Z"
      },
      {
        "duration": 157,
        "start_time": "2022-08-07T15:25:39.477Z"
      },
      {
        "duration": 0,
        "start_time": "2022-08-07T15:25:39.636Z"
      },
      {
        "duration": 0,
        "start_time": "2022-08-07T15:25:39.638Z"
      },
      {
        "duration": 0,
        "start_time": "2022-08-07T15:25:39.639Z"
      },
      {
        "duration": 0,
        "start_time": "2022-08-07T15:25:39.641Z"
      },
      {
        "duration": 25,
        "start_time": "2022-08-07T15:26:17.021Z"
      },
      {
        "duration": 43,
        "start_time": "2022-08-07T15:26:25.186Z"
      },
      {
        "duration": 4,
        "start_time": "2022-08-07T15:26:42.296Z"
      },
      {
        "duration": 7,
        "start_time": "2022-08-07T15:26:57.383Z"
      },
      {
        "duration": 6,
        "start_time": "2022-08-07T15:27:16.719Z"
      },
      {
        "duration": 15,
        "start_time": "2022-08-07T15:31:30.727Z"
      },
      {
        "duration": 1912,
        "start_time": "2022-08-07T15:32:02.191Z"
      },
      {
        "duration": 42,
        "start_time": "2022-08-07T15:32:04.105Z"
      },
      {
        "duration": 103,
        "start_time": "2022-08-07T15:32:04.149Z"
      },
      {
        "duration": 3,
        "start_time": "2022-08-07T15:32:04.254Z"
      },
      {
        "duration": 32,
        "start_time": "2022-08-07T15:32:04.260Z"
      },
      {
        "duration": 7,
        "start_time": "2022-08-07T15:32:04.294Z"
      },
      {
        "duration": 31,
        "start_time": "2022-08-07T15:32:04.303Z"
      },
      {
        "duration": 3,
        "start_time": "2022-08-07T15:32:04.337Z"
      },
      {
        "duration": 234,
        "start_time": "2022-08-07T15:32:04.342Z"
      },
      {
        "duration": 125,
        "start_time": "2022-08-07T15:32:04.578Z"
      },
      {
        "duration": 179,
        "start_time": "2022-08-07T15:32:04.705Z"
      },
      {
        "duration": 107,
        "start_time": "2022-08-07T15:32:04.886Z"
      },
      {
        "duration": 122,
        "start_time": "2022-08-07T15:32:04.995Z"
      },
      {
        "duration": 16,
        "start_time": "2022-08-07T15:32:05.120Z"
      },
      {
        "duration": 5,
        "start_time": "2022-08-07T15:32:05.138Z"
      },
      {
        "duration": 230,
        "start_time": "2022-08-07T15:32:05.145Z"
      },
      {
        "duration": 197,
        "start_time": "2022-08-07T15:32:05.378Z"
      },
      {
        "duration": 98,
        "start_time": "2022-08-07T15:32:05.578Z"
      },
      {
        "duration": 16,
        "start_time": "2022-08-07T15:32:05.678Z"
      },
      {
        "duration": 22,
        "start_time": "2022-08-07T15:32:05.696Z"
      },
      {
        "duration": 235,
        "start_time": "2022-08-07T15:32:05.720Z"
      },
      {
        "duration": 119,
        "start_time": "2022-08-07T15:32:05.957Z"
      },
      {
        "duration": 159,
        "start_time": "2022-08-07T15:32:06.077Z"
      },
      {
        "duration": 6,
        "start_time": "2022-08-07T15:32:06.237Z"
      },
      {
        "duration": 6,
        "start_time": "2022-08-07T15:32:06.245Z"
      },
      {
        "duration": 227,
        "start_time": "2022-08-07T15:32:06.253Z"
      },
      {
        "duration": 9,
        "start_time": "2022-08-07T15:32:06.492Z"
      },
      {
        "duration": 14,
        "start_time": "2022-08-07T15:32:06.503Z"
      },
      {
        "duration": 26,
        "start_time": "2022-08-07T15:32:06.519Z"
      },
      {
        "duration": 39,
        "start_time": "2022-08-07T15:32:06.547Z"
      },
      {
        "duration": 14,
        "start_time": "2022-08-07T15:32:06.588Z"
      },
      {
        "duration": 13,
        "start_time": "2022-08-07T15:32:06.604Z"
      },
      {
        "duration": 20,
        "start_time": "2022-08-07T15:32:06.619Z"
      },
      {
        "duration": 22,
        "start_time": "2022-08-07T15:32:06.641Z"
      },
      {
        "duration": 152,
        "start_time": "2022-08-07T15:32:06.665Z"
      },
      {
        "duration": 6,
        "start_time": "2022-08-07T15:32:06.819Z"
      },
      {
        "duration": 26,
        "start_time": "2022-08-07T15:32:06.827Z"
      },
      {
        "duration": 22,
        "start_time": "2022-08-07T15:32:06.856Z"
      },
      {
        "duration": 28,
        "start_time": "2022-08-07T15:32:06.881Z"
      },
      {
        "duration": 29,
        "start_time": "2022-08-07T15:32:06.912Z"
      },
      {
        "duration": 13,
        "start_time": "2022-08-07T15:32:06.945Z"
      },
      {
        "duration": 51,
        "start_time": "2022-08-07T15:32:06.959Z"
      },
      {
        "duration": 17,
        "start_time": "2022-08-07T15:32:07.012Z"
      },
      {
        "duration": 30,
        "start_time": "2022-08-07T15:32:07.030Z"
      },
      {
        "duration": 4,
        "start_time": "2022-08-07T15:32:07.062Z"
      },
      {
        "duration": 8,
        "start_time": "2022-08-07T15:32:07.068Z"
      },
      {
        "duration": 23,
        "start_time": "2022-08-07T15:32:07.078Z"
      },
      {
        "duration": 3,
        "start_time": "2022-08-07T15:32:07.103Z"
      },
      {
        "duration": 160,
        "start_time": "2022-08-07T15:32:07.108Z"
      },
      {
        "duration": 0,
        "start_time": "2022-08-07T15:32:07.270Z"
      },
      {
        "duration": 15,
        "start_time": "2022-08-07T15:32:20.895Z"
      },
      {
        "duration": 16,
        "start_time": "2022-08-07T15:39:17.081Z"
      },
      {
        "duration": 2069,
        "start_time": "2022-08-07T15:39:25.593Z"
      },
      {
        "duration": 40,
        "start_time": "2022-08-07T15:39:27.664Z"
      },
      {
        "duration": 105,
        "start_time": "2022-08-07T15:39:27.706Z"
      },
      {
        "duration": 3,
        "start_time": "2022-08-07T15:39:27.813Z"
      },
      {
        "duration": 32,
        "start_time": "2022-08-07T15:39:27.818Z"
      },
      {
        "duration": 15,
        "start_time": "2022-08-07T15:39:27.852Z"
      },
      {
        "duration": 34,
        "start_time": "2022-08-07T15:39:27.869Z"
      },
      {
        "duration": 8,
        "start_time": "2022-08-07T15:39:27.905Z"
      },
      {
        "duration": 235,
        "start_time": "2022-08-07T15:39:27.915Z"
      },
      {
        "duration": 118,
        "start_time": "2022-08-07T15:39:28.152Z"
      },
      {
        "duration": 188,
        "start_time": "2022-08-07T15:39:28.272Z"
      },
      {
        "duration": 103,
        "start_time": "2022-08-07T15:39:28.462Z"
      },
      {
        "duration": 129,
        "start_time": "2022-08-07T15:39:28.568Z"
      },
      {
        "duration": 17,
        "start_time": "2022-08-07T15:39:28.699Z"
      },
      {
        "duration": 5,
        "start_time": "2022-08-07T15:39:28.718Z"
      },
      {
        "duration": 223,
        "start_time": "2022-08-07T15:39:28.724Z"
      },
      {
        "duration": 165,
        "start_time": "2022-08-07T15:39:28.950Z"
      },
      {
        "duration": 106,
        "start_time": "2022-08-07T15:39:29.117Z"
      },
      {
        "duration": 7,
        "start_time": "2022-08-07T15:39:29.225Z"
      },
      {
        "duration": 7,
        "start_time": "2022-08-07T15:39:29.235Z"
      },
      {
        "duration": 246,
        "start_time": "2022-08-07T15:39:29.244Z"
      },
      {
        "duration": 103,
        "start_time": "2022-08-07T15:39:29.492Z"
      },
      {
        "duration": 125,
        "start_time": "2022-08-07T15:39:29.598Z"
      },
      {
        "duration": 5,
        "start_time": "2022-08-07T15:39:29.725Z"
      },
      {
        "duration": 26,
        "start_time": "2022-08-07T15:39:29.731Z"
      },
      {
        "duration": 209,
        "start_time": "2022-08-07T15:39:29.759Z"
      },
      {
        "duration": 9,
        "start_time": "2022-08-07T15:39:29.970Z"
      },
      {
        "duration": 4,
        "start_time": "2022-08-07T15:39:29.993Z"
      },
      {
        "duration": 23,
        "start_time": "2022-08-07T15:39:29.999Z"
      },
      {
        "duration": 18,
        "start_time": "2022-08-07T15:39:30.024Z"
      },
      {
        "duration": 12,
        "start_time": "2022-08-07T15:39:30.044Z"
      },
      {
        "duration": 16,
        "start_time": "2022-08-07T15:39:30.058Z"
      },
      {
        "duration": 26,
        "start_time": "2022-08-07T15:39:30.076Z"
      },
      {
        "duration": 22,
        "start_time": "2022-08-07T15:39:30.104Z"
      },
      {
        "duration": 129,
        "start_time": "2022-08-07T15:39:30.128Z"
      },
      {
        "duration": 7,
        "start_time": "2022-08-07T15:39:30.259Z"
      },
      {
        "duration": 11,
        "start_time": "2022-08-07T15:39:30.268Z"
      },
      {
        "duration": 16,
        "start_time": "2022-08-07T15:39:30.291Z"
      },
      {
        "duration": 31,
        "start_time": "2022-08-07T15:39:30.309Z"
      },
      {
        "duration": 14,
        "start_time": "2022-08-07T15:39:30.342Z"
      },
      {
        "duration": 15,
        "start_time": "2022-08-07T15:39:30.358Z"
      },
      {
        "duration": 22,
        "start_time": "2022-08-07T15:39:30.374Z"
      },
      {
        "duration": 7,
        "start_time": "2022-08-07T15:39:30.398Z"
      },
      {
        "duration": 35,
        "start_time": "2022-08-07T15:39:30.407Z"
      },
      {
        "duration": 13,
        "start_time": "2022-08-07T15:39:30.443Z"
      },
      {
        "duration": 12,
        "start_time": "2022-08-07T15:39:30.458Z"
      },
      {
        "duration": 53,
        "start_time": "2022-08-07T15:39:30.472Z"
      },
      {
        "duration": 44,
        "start_time": "2022-08-07T15:39:30.527Z"
      },
      {
        "duration": 190,
        "start_time": "2022-08-07T15:39:30.573Z"
      },
      {
        "duration": 0,
        "start_time": "2022-08-07T15:39:30.765Z"
      },
      {
        "duration": 14,
        "start_time": "2022-08-07T15:40:28.742Z"
      },
      {
        "duration": 2348,
        "start_time": "2022-08-07T15:40:36.550Z"
      },
      {
        "duration": 40,
        "start_time": "2022-08-07T15:40:38.900Z"
      },
      {
        "duration": 92,
        "start_time": "2022-08-07T15:40:38.942Z"
      },
      {
        "duration": 8,
        "start_time": "2022-08-07T15:40:39.036Z"
      },
      {
        "duration": 24,
        "start_time": "2022-08-07T15:40:39.046Z"
      },
      {
        "duration": 10,
        "start_time": "2022-08-07T15:40:39.072Z"
      },
      {
        "duration": 27,
        "start_time": "2022-08-07T15:40:39.092Z"
      },
      {
        "duration": 3,
        "start_time": "2022-08-07T15:40:39.121Z"
      },
      {
        "duration": 218,
        "start_time": "2022-08-07T15:40:39.126Z"
      },
      {
        "duration": 132,
        "start_time": "2022-08-07T15:40:39.347Z"
      },
      {
        "duration": 186,
        "start_time": "2022-08-07T15:40:39.481Z"
      },
      {
        "duration": 106,
        "start_time": "2022-08-07T15:40:39.669Z"
      },
      {
        "duration": 128,
        "start_time": "2022-08-07T15:40:39.777Z"
      },
      {
        "duration": 18,
        "start_time": "2022-08-07T15:40:39.906Z"
      },
      {
        "duration": 6,
        "start_time": "2022-08-07T15:40:39.926Z"
      },
      {
        "duration": 213,
        "start_time": "2022-08-07T15:40:39.934Z"
      },
      {
        "duration": 122,
        "start_time": "2022-08-07T15:40:40.149Z"
      },
      {
        "duration": 106,
        "start_time": "2022-08-07T15:40:40.273Z"
      },
      {
        "duration": 15,
        "start_time": "2022-08-07T15:40:40.380Z"
      },
      {
        "duration": 8,
        "start_time": "2022-08-07T15:40:40.397Z"
      },
      {
        "duration": 235,
        "start_time": "2022-08-07T15:40:40.407Z"
      },
      {
        "duration": 116,
        "start_time": "2022-08-07T15:40:40.644Z"
      },
      {
        "duration": 236,
        "start_time": "2022-08-07T15:40:40.762Z"
      },
      {
        "duration": 6,
        "start_time": "2022-08-07T15:40:41.001Z"
      },
      {
        "duration": 7,
        "start_time": "2022-08-07T15:40:41.009Z"
      },
      {
        "duration": 135,
        "start_time": "2022-08-07T15:40:41.018Z"
      },
      {
        "duration": 9,
        "start_time": "2022-08-07T15:40:41.155Z"
      },
      {
        "duration": 5,
        "start_time": "2022-08-07T15:40:41.167Z"
      },
      {
        "duration": 20,
        "start_time": "2022-08-07T15:40:41.174Z"
      },
      {
        "duration": 16,
        "start_time": "2022-08-07T15:40:41.195Z"
      },
      {
        "duration": 6,
        "start_time": "2022-08-07T15:40:41.212Z"
      },
      {
        "duration": 5,
        "start_time": "2022-08-07T15:40:41.220Z"
      },
      {
        "duration": 9,
        "start_time": "2022-08-07T15:40:41.227Z"
      },
      {
        "duration": 15,
        "start_time": "2022-08-07T15:40:41.237Z"
      },
      {
        "duration": 141,
        "start_time": "2022-08-07T15:40:41.254Z"
      },
      {
        "duration": 7,
        "start_time": "2022-08-07T15:40:41.397Z"
      },
      {
        "duration": 9,
        "start_time": "2022-08-07T15:40:41.406Z"
      },
      {
        "duration": 16,
        "start_time": "2022-08-07T15:40:41.417Z"
      },
      {
        "duration": 16,
        "start_time": "2022-08-07T15:40:41.435Z"
      },
      {
        "duration": 48,
        "start_time": "2022-08-07T15:40:41.453Z"
      },
      {
        "duration": 2,
        "start_time": "2022-08-07T15:40:41.503Z"
      },
      {
        "duration": 24,
        "start_time": "2022-08-07T15:40:41.507Z"
      },
      {
        "duration": 13,
        "start_time": "2022-08-07T15:40:41.533Z"
      },
      {
        "duration": 34,
        "start_time": "2022-08-07T15:40:41.548Z"
      },
      {
        "duration": 18,
        "start_time": "2022-08-07T15:40:41.584Z"
      },
      {
        "duration": 9,
        "start_time": "2022-08-07T15:40:41.604Z"
      },
      {
        "duration": 38,
        "start_time": "2022-08-07T15:40:41.615Z"
      },
      {
        "duration": 7,
        "start_time": "2022-08-07T15:40:41.655Z"
      },
      {
        "duration": 10,
        "start_time": "2022-08-07T15:40:41.664Z"
      },
      {
        "duration": 4,
        "start_time": "2022-08-07T15:40:41.676Z"
      },
      {
        "duration": 1954,
        "start_time": "2022-08-07T15:44:33.928Z"
      },
      {
        "duration": 39,
        "start_time": "2022-08-07T15:44:35.884Z"
      },
      {
        "duration": 97,
        "start_time": "2022-08-07T15:44:35.925Z"
      },
      {
        "duration": 21,
        "start_time": "2022-08-07T15:44:36.025Z"
      },
      {
        "duration": 22,
        "start_time": "2022-08-07T15:44:36.048Z"
      },
      {
        "duration": 13,
        "start_time": "2022-08-07T15:44:36.072Z"
      },
      {
        "duration": 29,
        "start_time": "2022-08-07T15:44:36.087Z"
      },
      {
        "duration": 4,
        "start_time": "2022-08-07T15:44:36.117Z"
      },
      {
        "duration": 217,
        "start_time": "2022-08-07T15:44:36.123Z"
      },
      {
        "duration": 123,
        "start_time": "2022-08-07T15:44:36.344Z"
      },
      {
        "duration": 182,
        "start_time": "2022-08-07T15:44:36.469Z"
      },
      {
        "duration": 100,
        "start_time": "2022-08-07T15:44:36.654Z"
      },
      {
        "duration": 127,
        "start_time": "2022-08-07T15:44:36.756Z"
      },
      {
        "duration": 43,
        "start_time": "2022-08-07T15:44:36.891Z"
      },
      {
        "duration": 5,
        "start_time": "2022-08-07T15:44:36.936Z"
      },
      {
        "duration": 187,
        "start_time": "2022-08-07T15:44:36.942Z"
      },
      {
        "duration": 121,
        "start_time": "2022-08-07T15:44:37.131Z"
      },
      {
        "duration": 102,
        "start_time": "2022-08-07T15:44:37.254Z"
      },
      {
        "duration": 5,
        "start_time": "2022-08-07T15:44:37.358Z"
      },
      {
        "duration": 7,
        "start_time": "2022-08-07T15:44:37.365Z"
      },
      {
        "duration": 230,
        "start_time": "2022-08-07T15:44:37.374Z"
      },
      {
        "duration": 111,
        "start_time": "2022-08-07T15:44:37.606Z"
      },
      {
        "duration": 218,
        "start_time": "2022-08-07T15:44:37.719Z"
      },
      {
        "duration": 6,
        "start_time": "2022-08-07T15:44:37.939Z"
      },
      {
        "duration": 13,
        "start_time": "2022-08-07T15:44:37.947Z"
      },
      {
        "duration": 138,
        "start_time": "2022-08-07T15:44:37.962Z"
      },
      {
        "duration": 9,
        "start_time": "2022-08-07T15:44:38.101Z"
      },
      {
        "duration": 5,
        "start_time": "2022-08-07T15:44:38.114Z"
      },
      {
        "duration": 6,
        "start_time": "2022-08-07T15:44:38.121Z"
      },
      {
        "duration": 18,
        "start_time": "2022-08-07T15:44:38.129Z"
      },
      {
        "duration": 5,
        "start_time": "2022-08-07T15:44:38.149Z"
      },
      {
        "duration": 37,
        "start_time": "2022-08-07T15:44:38.156Z"
      },
      {
        "duration": 8,
        "start_time": "2022-08-07T15:44:38.195Z"
      },
      {
        "duration": 14,
        "start_time": "2022-08-07T15:44:38.205Z"
      },
      {
        "duration": 127,
        "start_time": "2022-08-07T15:44:38.221Z"
      },
      {
        "duration": 6,
        "start_time": "2022-08-07T15:44:38.350Z"
      },
      {
        "duration": 7,
        "start_time": "2022-08-07T15:44:38.358Z"
      },
      {
        "duration": 34,
        "start_time": "2022-08-07T15:44:38.367Z"
      },
      {
        "duration": 15,
        "start_time": "2022-08-07T15:44:38.403Z"
      },
      {
        "duration": 12,
        "start_time": "2022-08-07T15:44:38.420Z"
      },
      {
        "duration": 6,
        "start_time": "2022-08-07T15:44:38.434Z"
      },
      {
        "duration": 16,
        "start_time": "2022-08-07T15:44:38.442Z"
      },
      {
        "duration": 31,
        "start_time": "2022-08-07T15:44:38.460Z"
      },
      {
        "duration": 22,
        "start_time": "2022-08-07T15:44:38.494Z"
      },
      {
        "duration": 10,
        "start_time": "2022-08-07T15:44:38.518Z"
      },
      {
        "duration": 15,
        "start_time": "2022-08-07T15:44:38.530Z"
      },
      {
        "duration": 51,
        "start_time": "2022-08-07T15:44:38.546Z"
      },
      {
        "duration": 32,
        "start_time": "2022-08-07T15:44:38.599Z"
      },
      {
        "duration": 163,
        "start_time": "2022-08-07T15:44:38.633Z"
      },
      {
        "duration": 0,
        "start_time": "2022-08-07T15:44:38.798Z"
      },
      {
        "duration": 94,
        "start_time": "2022-08-07T15:44:59.430Z"
      },
      {
        "duration": 1961,
        "start_time": "2022-08-07T15:45:05.050Z"
      },
      {
        "duration": 41,
        "start_time": "2022-08-07T15:45:07.013Z"
      },
      {
        "duration": 99,
        "start_time": "2022-08-07T15:45:07.056Z"
      },
      {
        "duration": 5,
        "start_time": "2022-08-07T15:45:07.157Z"
      },
      {
        "duration": 29,
        "start_time": "2022-08-07T15:45:07.164Z"
      },
      {
        "duration": 8,
        "start_time": "2022-08-07T15:45:07.195Z"
      },
      {
        "duration": 28,
        "start_time": "2022-08-07T15:45:07.205Z"
      },
      {
        "duration": 4,
        "start_time": "2022-08-07T15:45:07.234Z"
      },
      {
        "duration": 222,
        "start_time": "2022-08-07T15:45:07.240Z"
      },
      {
        "duration": 128,
        "start_time": "2022-08-07T15:45:07.464Z"
      },
      {
        "duration": 180,
        "start_time": "2022-08-07T15:45:07.593Z"
      },
      {
        "duration": 94,
        "start_time": "2022-08-07T15:45:07.776Z"
      },
      {
        "duration": 143,
        "start_time": "2022-08-07T15:45:07.872Z"
      },
      {
        "duration": 15,
        "start_time": "2022-08-07T15:45:08.019Z"
      },
      {
        "duration": 8,
        "start_time": "2022-08-07T15:45:08.036Z"
      },
      {
        "duration": 204,
        "start_time": "2022-08-07T15:45:08.046Z"
      },
      {
        "duration": 122,
        "start_time": "2022-08-07T15:45:08.251Z"
      },
      {
        "duration": 101,
        "start_time": "2022-08-07T15:45:08.375Z"
      },
      {
        "duration": 16,
        "start_time": "2022-08-07T15:45:08.477Z"
      },
      {
        "duration": 13,
        "start_time": "2022-08-07T15:45:08.495Z"
      },
      {
        "duration": 225,
        "start_time": "2022-08-07T15:45:08.509Z"
      },
      {
        "duration": 115,
        "start_time": "2022-08-07T15:45:08.736Z"
      },
      {
        "duration": 116,
        "start_time": "2022-08-07T15:45:08.853Z"
      },
      {
        "duration": 6,
        "start_time": "2022-08-07T15:45:08.970Z"
      },
      {
        "duration": 16,
        "start_time": "2022-08-07T15:45:08.977Z"
      },
      {
        "duration": 227,
        "start_time": "2022-08-07T15:45:08.995Z"
      },
      {
        "duration": 9,
        "start_time": "2022-08-07T15:45:09.223Z"
      },
      {
        "duration": 6,
        "start_time": "2022-08-07T15:45:09.234Z"
      },
      {
        "duration": 11,
        "start_time": "2022-08-07T15:45:09.242Z"
      },
      {
        "duration": 27,
        "start_time": "2022-08-07T15:45:09.255Z"
      },
      {
        "duration": 19,
        "start_time": "2022-08-07T15:45:09.284Z"
      },
      {
        "duration": 13,
        "start_time": "2022-08-07T15:45:09.306Z"
      },
      {
        "duration": 14,
        "start_time": "2022-08-07T15:45:09.320Z"
      },
      {
        "duration": 21,
        "start_time": "2022-08-07T15:45:09.336Z"
      },
      {
        "duration": 136,
        "start_time": "2022-08-07T15:45:09.359Z"
      },
      {
        "duration": 6,
        "start_time": "2022-08-07T15:45:09.497Z"
      },
      {
        "duration": 10,
        "start_time": "2022-08-07T15:45:09.505Z"
      },
      {
        "duration": 32,
        "start_time": "2022-08-07T15:45:09.516Z"
      },
      {
        "duration": 45,
        "start_time": "2022-08-07T15:45:09.550Z"
      },
      {
        "duration": 18,
        "start_time": "2022-08-07T15:45:09.597Z"
      },
      {
        "duration": 3,
        "start_time": "2022-08-07T15:45:09.620Z"
      },
      {
        "duration": 23,
        "start_time": "2022-08-07T15:45:09.625Z"
      },
      {
        "duration": 14,
        "start_time": "2022-08-07T15:45:09.650Z"
      },
      {
        "duration": 48,
        "start_time": "2022-08-07T15:45:09.666Z"
      },
      {
        "duration": 20,
        "start_time": "2022-08-07T15:45:09.715Z"
      },
      {
        "duration": 21,
        "start_time": "2022-08-07T15:45:09.737Z"
      },
      {
        "duration": 42,
        "start_time": "2022-08-07T15:45:09.760Z"
      },
      {
        "duration": 10,
        "start_time": "2022-08-07T15:45:09.804Z"
      },
      {
        "duration": 171,
        "start_time": "2022-08-07T15:45:09.816Z"
      },
      {
        "duration": 0,
        "start_time": "2022-08-07T15:45:09.989Z"
      },
      {
        "duration": 42,
        "start_time": "2022-08-07T15:45:46.881Z"
      },
      {
        "duration": 1852,
        "start_time": "2022-08-07T15:45:53.141Z"
      },
      {
        "duration": 40,
        "start_time": "2022-08-07T15:45:54.995Z"
      },
      {
        "duration": 99,
        "start_time": "2022-08-07T15:45:55.037Z"
      },
      {
        "duration": 8,
        "start_time": "2022-08-07T15:45:55.138Z"
      },
      {
        "duration": 22,
        "start_time": "2022-08-07T15:45:55.150Z"
      },
      {
        "duration": 19,
        "start_time": "2022-08-07T15:45:55.174Z"
      },
      {
        "duration": 32,
        "start_time": "2022-08-07T15:45:55.194Z"
      },
      {
        "duration": 4,
        "start_time": "2022-08-07T15:45:55.228Z"
      },
      {
        "duration": 227,
        "start_time": "2022-08-07T15:45:55.234Z"
      },
      {
        "duration": 131,
        "start_time": "2022-08-07T15:45:55.463Z"
      },
      {
        "duration": 191,
        "start_time": "2022-08-07T15:45:55.596Z"
      },
      {
        "duration": 102,
        "start_time": "2022-08-07T15:45:55.791Z"
      },
      {
        "duration": 122,
        "start_time": "2022-08-07T15:45:55.896Z"
      },
      {
        "duration": 16,
        "start_time": "2022-08-07T15:45:56.021Z"
      },
      {
        "duration": 5,
        "start_time": "2022-08-07T15:45:56.039Z"
      },
      {
        "duration": 215,
        "start_time": "2022-08-07T15:45:56.046Z"
      },
      {
        "duration": 134,
        "start_time": "2022-08-07T15:45:56.263Z"
      },
      {
        "duration": 101,
        "start_time": "2022-08-07T15:45:56.399Z"
      },
      {
        "duration": 5,
        "start_time": "2022-08-07T15:45:56.501Z"
      },
      {
        "duration": 8,
        "start_time": "2022-08-07T15:45:56.508Z"
      },
      {
        "duration": 224,
        "start_time": "2022-08-07T15:45:56.517Z"
      },
      {
        "duration": 115,
        "start_time": "2022-08-07T15:45:56.743Z"
      },
      {
        "duration": 123,
        "start_time": "2022-08-07T15:45:56.860Z"
      },
      {
        "duration": 10,
        "start_time": "2022-08-07T15:45:56.985Z"
      },
      {
        "duration": 7,
        "start_time": "2022-08-07T15:45:56.997Z"
      },
      {
        "duration": 229,
        "start_time": "2022-08-07T15:45:57.006Z"
      },
      {
        "duration": 8,
        "start_time": "2022-08-07T15:45:57.236Z"
      },
      {
        "duration": 6,
        "start_time": "2022-08-07T15:45:57.246Z"
      },
      {
        "duration": 7,
        "start_time": "2022-08-07T15:45:57.254Z"
      },
      {
        "duration": 30,
        "start_time": "2022-08-07T15:45:57.263Z"
      },
      {
        "duration": 7,
        "start_time": "2022-08-07T15:45:57.295Z"
      },
      {
        "duration": 6,
        "start_time": "2022-08-07T15:45:57.304Z"
      },
      {
        "duration": 8,
        "start_time": "2022-08-07T15:45:57.312Z"
      },
      {
        "duration": 15,
        "start_time": "2022-08-07T15:45:57.321Z"
      },
      {
        "duration": 136,
        "start_time": "2022-08-07T15:45:57.337Z"
      },
      {
        "duration": 18,
        "start_time": "2022-08-07T15:45:57.475Z"
      },
      {
        "duration": 10,
        "start_time": "2022-08-07T15:45:57.494Z"
      },
      {
        "duration": 18,
        "start_time": "2022-08-07T15:45:57.505Z"
      },
      {
        "duration": 16,
        "start_time": "2022-08-07T15:45:57.524Z"
      },
      {
        "duration": 14,
        "start_time": "2022-08-07T15:45:57.542Z"
      },
      {
        "duration": 11,
        "start_time": "2022-08-07T15:45:57.559Z"
      },
      {
        "duration": 48,
        "start_time": "2022-08-07T15:45:57.572Z"
      },
      {
        "duration": 9,
        "start_time": "2022-08-07T15:45:57.621Z"
      },
      {
        "duration": 36,
        "start_time": "2022-08-07T15:45:57.631Z"
      },
      {
        "duration": 11,
        "start_time": "2022-08-07T15:45:57.669Z"
      },
      {
        "duration": 10,
        "start_time": "2022-08-07T15:45:57.682Z"
      },
      {
        "duration": 23,
        "start_time": "2022-08-07T15:45:57.694Z"
      },
      {
        "duration": 18,
        "start_time": "2022-08-07T15:45:57.719Z"
      },
      {
        "duration": 166,
        "start_time": "2022-08-07T15:45:57.739Z"
      },
      {
        "duration": 0,
        "start_time": "2022-08-07T15:45:57.907Z"
      },
      {
        "duration": 2028,
        "start_time": "2022-08-07T15:48:27.525Z"
      },
      {
        "duration": 40,
        "start_time": "2022-08-07T15:48:29.555Z"
      },
      {
        "duration": 100,
        "start_time": "2022-08-07T15:48:29.598Z"
      },
      {
        "duration": 3,
        "start_time": "2022-08-07T15:48:29.700Z"
      },
      {
        "duration": 34,
        "start_time": "2022-08-07T15:48:29.705Z"
      },
      {
        "duration": 13,
        "start_time": "2022-08-07T15:48:29.741Z"
      },
      {
        "duration": 37,
        "start_time": "2022-08-07T15:48:29.756Z"
      },
      {
        "duration": 4,
        "start_time": "2022-08-07T15:48:29.796Z"
      },
      {
        "duration": 210,
        "start_time": "2022-08-07T15:48:29.802Z"
      },
      {
        "duration": 127,
        "start_time": "2022-08-07T15:48:30.014Z"
      },
      {
        "duration": 189,
        "start_time": "2022-08-07T15:48:30.144Z"
      },
      {
        "duration": 109,
        "start_time": "2022-08-07T15:48:30.335Z"
      },
      {
        "duration": 122,
        "start_time": "2022-08-07T15:48:30.446Z"
      },
      {
        "duration": 24,
        "start_time": "2022-08-07T15:48:30.572Z"
      },
      {
        "duration": 6,
        "start_time": "2022-08-07T15:48:30.597Z"
      },
      {
        "duration": 207,
        "start_time": "2022-08-07T15:48:30.604Z"
      },
      {
        "duration": 123,
        "start_time": "2022-08-07T15:48:30.813Z"
      },
      {
        "duration": 108,
        "start_time": "2022-08-07T15:48:30.938Z"
      },
      {
        "duration": 5,
        "start_time": "2022-08-07T15:48:31.049Z"
      },
      {
        "duration": 71,
        "start_time": "2022-08-07T15:48:31.056Z"
      },
      {
        "duration": 273,
        "start_time": "2022-08-07T15:48:31.129Z"
      },
      {
        "duration": 127,
        "start_time": "2022-08-07T15:48:31.404Z"
      },
      {
        "duration": 132,
        "start_time": "2022-08-07T15:48:31.533Z"
      },
      {
        "duration": 7,
        "start_time": "2022-08-07T15:48:31.667Z"
      },
      {
        "duration": 4,
        "start_time": "2022-08-07T15:48:31.692Z"
      },
      {
        "duration": 221,
        "start_time": "2022-08-07T15:48:31.698Z"
      },
      {
        "duration": 8,
        "start_time": "2022-08-07T15:48:31.921Z"
      },
      {
        "duration": 20,
        "start_time": "2022-08-07T15:48:31.930Z"
      },
      {
        "duration": 28,
        "start_time": "2022-08-07T15:48:31.953Z"
      },
      {
        "duration": 22,
        "start_time": "2022-08-07T15:48:31.983Z"
      },
      {
        "duration": 37,
        "start_time": "2022-08-07T15:48:32.008Z"
      },
      {
        "duration": 27,
        "start_time": "2022-08-07T15:48:32.047Z"
      },
      {
        "duration": 21,
        "start_time": "2022-08-07T15:48:32.077Z"
      },
      {
        "duration": 22,
        "start_time": "2022-08-07T15:48:32.100Z"
      },
      {
        "duration": 119,
        "start_time": "2022-08-07T15:48:32.124Z"
      },
      {
        "duration": 7,
        "start_time": "2022-08-07T15:48:32.245Z"
      },
      {
        "duration": 10,
        "start_time": "2022-08-07T15:48:32.253Z"
      },
      {
        "duration": 32,
        "start_time": "2022-08-07T15:48:32.265Z"
      },
      {
        "duration": 16,
        "start_time": "2022-08-07T15:48:32.299Z"
      },
      {
        "duration": 12,
        "start_time": "2022-08-07T15:48:32.317Z"
      },
      {
        "duration": 3,
        "start_time": "2022-08-07T15:48:32.333Z"
      },
      {
        "duration": 22,
        "start_time": "2022-08-07T15:48:32.337Z"
      },
      {
        "duration": 5,
        "start_time": "2022-08-07T15:48:32.361Z"
      },
      {
        "duration": 43,
        "start_time": "2022-08-07T15:48:32.367Z"
      },
      {
        "duration": 6,
        "start_time": "2022-08-07T15:48:32.412Z"
      },
      {
        "duration": 6,
        "start_time": "2022-08-07T15:48:32.420Z"
      },
      {
        "duration": 24,
        "start_time": "2022-08-07T15:48:32.427Z"
      },
      {
        "duration": 5,
        "start_time": "2022-08-07T15:48:32.453Z"
      },
      {
        "duration": 239,
        "start_time": "2022-08-07T15:48:32.460Z"
      },
      {
        "duration": 0,
        "start_time": "2022-08-07T15:48:32.701Z"
      },
      {
        "duration": 916,
        "start_time": "2022-08-07T15:48:56.057Z"
      },
      {
        "duration": 36,
        "start_time": "2022-08-07T15:49:56.829Z"
      },
      {
        "duration": 924,
        "start_time": "2022-08-07T15:50:19.048Z"
      },
      {
        "duration": 44,
        "start_time": "2022-08-07T15:50:42.427Z"
      },
      {
        "duration": 28,
        "start_time": "2022-08-07T15:50:48.159Z"
      },
      {
        "duration": 15,
        "start_time": "2022-08-07T15:52:14.681Z"
      },
      {
        "duration": 20,
        "start_time": "2022-08-07T15:53:09.155Z"
      },
      {
        "duration": 20,
        "start_time": "2022-08-07T15:53:53.119Z"
      },
      {
        "duration": 28,
        "start_time": "2022-08-07T15:54:00.462Z"
      },
      {
        "duration": 1991,
        "start_time": "2022-08-07T15:54:09.014Z"
      },
      {
        "duration": 40,
        "start_time": "2022-08-07T15:54:11.007Z"
      },
      {
        "duration": 99,
        "start_time": "2022-08-07T15:54:11.049Z"
      },
      {
        "duration": 9,
        "start_time": "2022-08-07T15:54:11.150Z"
      },
      {
        "duration": 28,
        "start_time": "2022-08-07T15:54:11.162Z"
      },
      {
        "duration": 18,
        "start_time": "2022-08-07T15:54:11.192Z"
      },
      {
        "duration": 30,
        "start_time": "2022-08-07T15:54:11.212Z"
      },
      {
        "duration": 4,
        "start_time": "2022-08-07T15:54:11.244Z"
      },
      {
        "duration": 209,
        "start_time": "2022-08-07T15:54:11.250Z"
      },
      {
        "duration": 118,
        "start_time": "2022-08-07T15:54:11.461Z"
      },
      {
        "duration": 177,
        "start_time": "2022-08-07T15:54:11.580Z"
      },
      {
        "duration": 137,
        "start_time": "2022-08-07T15:54:11.759Z"
      },
      {
        "duration": 153,
        "start_time": "2022-08-07T15:54:11.898Z"
      },
      {
        "duration": 17,
        "start_time": "2022-08-07T15:54:12.055Z"
      },
      {
        "duration": 19,
        "start_time": "2022-08-07T15:54:12.074Z"
      },
      {
        "duration": 226,
        "start_time": "2022-08-07T15:54:12.095Z"
      },
      {
        "duration": 118,
        "start_time": "2022-08-07T15:54:12.322Z"
      },
      {
        "duration": 101,
        "start_time": "2022-08-07T15:54:12.441Z"
      },
      {
        "duration": 5,
        "start_time": "2022-08-07T15:54:12.545Z"
      },
      {
        "duration": 5,
        "start_time": "2022-08-07T15:54:12.552Z"
      },
      {
        "duration": 228,
        "start_time": "2022-08-07T15:54:12.559Z"
      },
      {
        "duration": 103,
        "start_time": "2022-08-07T15:54:12.791Z"
      },
      {
        "duration": 219,
        "start_time": "2022-08-07T15:54:12.896Z"
      },
      {
        "duration": 5,
        "start_time": "2022-08-07T15:54:13.116Z"
      },
      {
        "duration": 12,
        "start_time": "2022-08-07T15:54:13.123Z"
      },
      {
        "duration": 115,
        "start_time": "2022-08-07T15:54:13.136Z"
      },
      {
        "duration": 8,
        "start_time": "2022-08-07T15:54:13.253Z"
      },
      {
        "duration": 11,
        "start_time": "2022-08-07T15:54:13.263Z"
      },
      {
        "duration": 21,
        "start_time": "2022-08-07T15:54:13.277Z"
      },
      {
        "duration": 28,
        "start_time": "2022-08-07T15:54:13.299Z"
      },
      {
        "duration": 14,
        "start_time": "2022-08-07T15:54:13.329Z"
      },
      {
        "duration": 11,
        "start_time": "2022-08-07T15:54:13.344Z"
      },
      {
        "duration": 17,
        "start_time": "2022-08-07T15:54:13.356Z"
      },
      {
        "duration": 17,
        "start_time": "2022-08-07T15:54:13.374Z"
      },
      {
        "duration": 118,
        "start_time": "2022-08-07T15:54:13.393Z"
      },
      {
        "duration": 6,
        "start_time": "2022-08-07T15:54:13.513Z"
      },
      {
        "duration": 12,
        "start_time": "2022-08-07T15:54:13.521Z"
      },
      {
        "duration": 18,
        "start_time": "2022-08-07T15:54:13.535Z"
      },
      {
        "duration": 42,
        "start_time": "2022-08-07T15:54:13.555Z"
      },
      {
        "duration": 14,
        "start_time": "2022-08-07T15:54:13.598Z"
      },
      {
        "duration": 4,
        "start_time": "2022-08-07T15:54:13.616Z"
      },
      {
        "duration": 16,
        "start_time": "2022-08-07T15:54:13.622Z"
      },
      {
        "duration": 8,
        "start_time": "2022-08-07T15:54:13.640Z"
      },
      {
        "duration": 48,
        "start_time": "2022-08-07T15:54:13.650Z"
      },
      {
        "duration": 9,
        "start_time": "2022-08-07T15:54:13.700Z"
      },
      {
        "duration": 14,
        "start_time": "2022-08-07T15:54:13.710Z"
      },
      {
        "duration": 23,
        "start_time": "2022-08-07T15:54:13.726Z"
      },
      {
        "duration": 5,
        "start_time": "2022-08-07T15:54:13.751Z"
      },
      {
        "duration": 69,
        "start_time": "2022-08-07T15:54:13.758Z"
      },
      {
        "duration": 164,
        "start_time": "2022-08-07T15:54:13.829Z"
      },
      {
        "duration": 0,
        "start_time": "2022-08-07T15:54:13.994Z"
      },
      {
        "duration": 23,
        "start_time": "2022-08-07T15:54:49.933Z"
      },
      {
        "duration": 903,
        "start_time": "2022-08-07T15:55:42.039Z"
      },
      {
        "duration": 5,
        "start_time": "2022-08-07T15:57:15.055Z"
      },
      {
        "duration": 1476,
        "start_time": "2022-08-07T16:00:00.205Z"
      },
      {
        "duration": 1744,
        "start_time": "2022-08-07T16:01:17.483Z"
      },
      {
        "duration": 1024,
        "start_time": "2022-08-07T16:01:28.636Z"
      },
      {
        "duration": 9176,
        "start_time": "2022-08-07T16:02:17.948Z"
      },
      {
        "duration": 8903,
        "start_time": "2022-08-07T16:02:37.867Z"
      },
      {
        "duration": 92808,
        "start_time": "2022-08-07T16:03:08.474Z"
      },
      {
        "duration": 88772,
        "start_time": "2022-08-07T16:04:58.429Z"
      },
      {
        "duration": 88840,
        "start_time": "2022-08-07T16:07:03.007Z"
      },
      {
        "duration": 93840,
        "start_time": "2022-08-07T16:09:02.014Z"
      },
      {
        "duration": 0,
        "start_time": "2022-08-07T16:13:21.183Z"
      },
      {
        "duration": 44194,
        "start_time": "2022-08-07T16:13:22.459Z"
      },
      {
        "duration": 56405,
        "start_time": "2022-08-07T16:15:02.260Z"
      },
      {
        "duration": 129,
        "start_time": "2022-08-07T16:16:07.917Z"
      },
      {
        "duration": 44210,
        "start_time": "2022-08-07T16:16:14.241Z"
      },
      {
        "duration": 33575,
        "start_time": "2022-08-07T16:16:59.975Z"
      },
      {
        "duration": 18559,
        "start_time": "2022-08-07T16:17:35.489Z"
      },
      {
        "duration": 39270,
        "start_time": "2022-08-07T16:17:58.720Z"
      },
      {
        "duration": 13996,
        "start_time": "2022-08-07T16:18:46.031Z"
      },
      {
        "duration": 39752,
        "start_time": "2022-08-07T16:19:00.919Z"
      },
      {
        "duration": 0,
        "start_time": "2022-08-07T16:21:35.579Z"
      },
      {
        "duration": 19147,
        "start_time": "2022-08-07T16:21:37.065Z"
      },
      {
        "duration": 16016,
        "start_time": "2022-08-07T16:22:25.183Z"
      },
      {
        "duration": 19740,
        "start_time": "2022-08-07T16:22:42.542Z"
      },
      {
        "duration": 7834,
        "start_time": "2022-08-07T16:23:15.980Z"
      },
      {
        "duration": 7302,
        "start_time": "2022-08-07T16:23:44.900Z"
      },
      {
        "duration": 7782,
        "start_time": "2022-08-07T16:24:31.377Z"
      },
      {
        "duration": 40555,
        "start_time": "2022-08-07T16:25:07.554Z"
      },
      {
        "duration": 7443,
        "start_time": "2022-08-07T16:26:00.300Z"
      },
      {
        "duration": 8346,
        "start_time": "2022-08-07T16:27:13.966Z"
      },
      {
        "duration": 21132,
        "start_time": "2022-08-07T16:27:42.376Z"
      },
      {
        "duration": 7631,
        "start_time": "2022-08-07T16:28:42.663Z"
      },
      {
        "duration": 7621,
        "start_time": "2022-08-07T16:29:06.505Z"
      },
      {
        "duration": 7594,
        "start_time": "2022-08-07T16:29:26.167Z"
      },
      {
        "duration": 7720,
        "start_time": "2022-08-07T16:29:39.620Z"
      },
      {
        "duration": 7695,
        "start_time": "2022-08-07T16:30:03.767Z"
      },
      {
        "duration": 7432,
        "start_time": "2022-08-07T16:30:22.408Z"
      },
      {
        "duration": 3959,
        "start_time": "2022-08-07T16:30:42.708Z"
      },
      {
        "duration": 4152,
        "start_time": "2022-08-07T16:30:59.503Z"
      },
      {
        "duration": 3831,
        "start_time": "2022-08-07T16:31:33.061Z"
      },
      {
        "duration": 3542,
        "start_time": "2022-08-07T16:31:40.977Z"
      },
      {
        "duration": 6,
        "start_time": "2022-08-07T16:33:32.081Z"
      },
      {
        "duration": 5,
        "start_time": "2022-08-07T16:33:42.574Z"
      },
      {
        "duration": 6,
        "start_time": "2022-08-07T16:33:55.384Z"
      },
      {
        "duration": 4,
        "start_time": "2022-08-07T16:34:06.723Z"
      },
      {
        "duration": 5,
        "start_time": "2022-08-07T16:34:13.429Z"
      },
      {
        "duration": 12,
        "start_time": "2022-08-07T16:34:17.064Z"
      },
      {
        "duration": 5,
        "start_time": "2022-08-07T16:34:21.910Z"
      },
      {
        "duration": 5,
        "start_time": "2022-08-07T16:34:25.022Z"
      },
      {
        "duration": 5,
        "start_time": "2022-08-07T16:34:29.410Z"
      },
      {
        "duration": 5,
        "start_time": "2022-08-07T16:34:35.778Z"
      },
      {
        "duration": 6,
        "start_time": "2022-08-07T16:34:51.207Z"
      },
      {
        "duration": 5,
        "start_time": "2022-08-07T16:34:59.120Z"
      },
      {
        "duration": 5,
        "start_time": "2022-08-07T16:35:04.053Z"
      },
      {
        "duration": 5,
        "start_time": "2022-08-07T16:35:10.161Z"
      },
      {
        "duration": 11,
        "start_time": "2022-08-07T16:35:12.942Z"
      },
      {
        "duration": 5,
        "start_time": "2022-08-07T16:35:17.556Z"
      },
      {
        "duration": 5,
        "start_time": "2022-08-07T16:35:27.507Z"
      },
      {
        "duration": 3,
        "start_time": "2022-08-07T16:43:11.622Z"
      },
      {
        "duration": 8,
        "start_time": "2022-08-07T16:43:16.835Z"
      },
      {
        "duration": 11,
        "start_time": "2022-08-07T16:43:38.939Z"
      },
      {
        "duration": 4,
        "start_time": "2022-08-07T16:43:44.168Z"
      },
      {
        "duration": 8,
        "start_time": "2022-08-07T16:43:47.967Z"
      },
      {
        "duration": 6,
        "start_time": "2022-08-07T16:44:04.850Z"
      },
      {
        "duration": 13,
        "start_time": "2022-08-07T16:44:38.597Z"
      },
      {
        "duration": 6,
        "start_time": "2022-08-07T16:44:43.495Z"
      },
      {
        "duration": 15,
        "start_time": "2022-08-07T16:45:13.242Z"
      },
      {
        "duration": 3,
        "start_time": "2022-08-07T16:45:40.629Z"
      },
      {
        "duration": 12,
        "start_time": "2022-08-07T16:45:51.074Z"
      },
      {
        "duration": 24,
        "start_time": "2022-08-07T16:45:56.530Z"
      },
      {
        "duration": 4,
        "start_time": "2022-08-07T16:46:17.702Z"
      },
      {
        "duration": 10,
        "start_time": "2022-08-07T16:46:22.371Z"
      },
      {
        "duration": 13,
        "start_time": "2022-08-07T16:46:34.927Z"
      },
      {
        "duration": 2084,
        "start_time": "2022-08-07T16:49:06.052Z"
      },
      {
        "duration": 12,
        "start_time": "2022-08-07T16:49:28.636Z"
      },
      {
        "duration": 12,
        "start_time": "2022-08-07T16:49:36.285Z"
      },
      {
        "duration": 413,
        "start_time": "2022-08-07T16:49:42.945Z"
      },
      {
        "duration": 2057,
        "start_time": "2022-08-07T16:50:54.469Z"
      },
      {
        "duration": 13,
        "start_time": "2022-08-07T16:51:01.142Z"
      },
      {
        "duration": 10,
        "start_time": "2022-08-07T16:51:26.711Z"
      },
      {
        "duration": 5,
        "start_time": "2022-08-07T16:51:37.716Z"
      },
      {
        "duration": 190,
        "start_time": "2022-08-07T16:51:39.474Z"
      },
      {
        "duration": 13,
        "start_time": "2022-08-07T16:52:35.914Z"
      },
      {
        "duration": 7,
        "start_time": "2022-08-07T16:52:41.470Z"
      },
      {
        "duration": 193,
        "start_time": "2022-08-07T16:52:54.702Z"
      },
      {
        "duration": 193,
        "start_time": "2022-08-07T16:53:46.074Z"
      },
      {
        "duration": 193,
        "start_time": "2022-08-07T16:53:55.296Z"
      },
      {
        "duration": 200,
        "start_time": "2022-08-07T16:54:27.372Z"
      },
      {
        "duration": 128,
        "start_time": "2022-08-07T16:54:50.139Z"
      },
      {
        "duration": 195,
        "start_time": "2022-08-07T16:55:00.269Z"
      },
      {
        "duration": 328,
        "start_time": "2022-08-07T16:55:21.213Z"
      },
      {
        "duration": 127,
        "start_time": "2022-08-07T16:57:33.067Z"
      },
      {
        "duration": 121,
        "start_time": "2022-08-07T16:57:44.708Z"
      },
      {
        "duration": 127,
        "start_time": "2022-08-07T16:57:53.606Z"
      },
      {
        "duration": 143,
        "start_time": "2022-08-07T16:58:10.109Z"
      },
      {
        "duration": 135,
        "start_time": "2022-08-07T16:58:25.499Z"
      },
      {
        "duration": 127,
        "start_time": "2022-08-07T16:58:50.012Z"
      },
      {
        "duration": 180,
        "start_time": "2022-08-07T17:00:10.852Z"
      },
      {
        "duration": 22,
        "start_time": "2022-08-07T17:00:21.813Z"
      },
      {
        "duration": 176,
        "start_time": "2022-08-07T17:00:27.621Z"
      },
      {
        "duration": 113,
        "start_time": "2022-08-07T17:00:40.415Z"
      },
      {
        "duration": 140,
        "start_time": "2022-08-07T17:00:48.872Z"
      },
      {
        "duration": 196,
        "start_time": "2022-08-07T17:00:57.130Z"
      },
      {
        "duration": 214,
        "start_time": "2022-08-07T17:01:06.738Z"
      },
      {
        "duration": 221,
        "start_time": "2022-08-07T17:01:14.219Z"
      },
      {
        "duration": 1996,
        "start_time": "2022-08-07T17:03:36.948Z"
      },
      {
        "duration": 41,
        "start_time": "2022-08-07T17:03:38.946Z"
      },
      {
        "duration": 92,
        "start_time": "2022-08-07T17:03:38.988Z"
      },
      {
        "duration": 10,
        "start_time": "2022-08-07T17:03:39.082Z"
      },
      {
        "duration": 16,
        "start_time": "2022-08-07T17:03:39.095Z"
      },
      {
        "duration": 7,
        "start_time": "2022-08-07T17:03:39.112Z"
      },
      {
        "duration": 27,
        "start_time": "2022-08-07T17:03:39.120Z"
      },
      {
        "duration": 4,
        "start_time": "2022-08-07T17:03:39.148Z"
      },
      {
        "duration": 254,
        "start_time": "2022-08-07T17:03:39.153Z"
      },
      {
        "duration": 156,
        "start_time": "2022-08-07T17:03:39.410Z"
      },
      {
        "duration": 179,
        "start_time": "2022-08-07T17:03:39.568Z"
      },
      {
        "duration": 104,
        "start_time": "2022-08-07T17:03:39.749Z"
      },
      {
        "duration": 126,
        "start_time": "2022-08-07T17:03:39.855Z"
      },
      {
        "duration": 15,
        "start_time": "2022-08-07T17:03:39.994Z"
      },
      {
        "duration": 5,
        "start_time": "2022-08-07T17:03:40.011Z"
      },
      {
        "duration": 225,
        "start_time": "2022-08-07T17:03:40.017Z"
      },
      {
        "duration": 137,
        "start_time": "2022-08-07T17:03:40.244Z"
      },
      {
        "duration": 112,
        "start_time": "2022-08-07T17:03:40.392Z"
      },
      {
        "duration": 5,
        "start_time": "2022-08-07T17:03:40.506Z"
      },
      {
        "duration": 6,
        "start_time": "2022-08-07T17:03:40.513Z"
      },
      {
        "duration": 228,
        "start_time": "2022-08-07T17:03:40.521Z"
      },
      {
        "duration": 151,
        "start_time": "2022-08-07T17:03:40.751Z"
      },
      {
        "duration": 123,
        "start_time": "2022-08-07T17:03:40.904Z"
      },
      {
        "duration": 5,
        "start_time": "2022-08-07T17:03:41.029Z"
      },
      {
        "duration": 6,
        "start_time": "2022-08-07T17:03:41.036Z"
      },
      {
        "duration": 229,
        "start_time": "2022-08-07T17:03:41.044Z"
      },
      {
        "duration": 18,
        "start_time": "2022-08-07T17:03:41.274Z"
      },
      {
        "duration": 14,
        "start_time": "2022-08-07T17:03:41.294Z"
      },
      {
        "duration": 20,
        "start_time": "2022-08-07T17:03:41.310Z"
      },
      {
        "duration": 22,
        "start_time": "2022-08-07T17:03:41.332Z"
      },
      {
        "duration": 20,
        "start_time": "2022-08-07T17:03:41.356Z"
      },
      {
        "duration": 6,
        "start_time": "2022-08-07T17:03:41.378Z"
      },
      {
        "duration": 11,
        "start_time": "2022-08-07T17:03:41.385Z"
      },
      {
        "duration": 15,
        "start_time": "2022-08-07T17:03:41.397Z"
      },
      {
        "duration": 126,
        "start_time": "2022-08-07T17:03:41.414Z"
      },
      {
        "duration": 7,
        "start_time": "2022-08-07T17:03:41.542Z"
      },
      {
        "duration": 7,
        "start_time": "2022-08-07T17:03:41.551Z"
      },
      {
        "duration": 33,
        "start_time": "2022-08-07T17:03:41.560Z"
      },
      {
        "duration": 16,
        "start_time": "2022-08-07T17:03:41.594Z"
      },
      {
        "duration": 11,
        "start_time": "2022-08-07T17:04:20.104Z"
      },
      {
        "duration": 3,
        "start_time": "2022-08-07T17:04:31.263Z"
      },
      {
        "duration": 18,
        "start_time": "2022-08-07T17:04:34.110Z"
      },
      {
        "duration": 3,
        "start_time": "2022-08-07T17:04:36.687Z"
      },
      {
        "duration": 145,
        "start_time": "2022-08-07T17:04:38.534Z"
      },
      {
        "duration": 22,
        "start_time": "2022-08-07T17:04:47.895Z"
      },
      {
        "duration": 4,
        "start_time": "2022-08-07T17:04:52.936Z"
      },
      {
        "duration": 21,
        "start_time": "2022-08-07T17:05:18.380Z"
      },
      {
        "duration": 24,
        "start_time": "2022-08-07T17:05:21.376Z"
      },
      {
        "duration": 30,
        "start_time": "2022-08-07T17:05:27.627Z"
      },
      {
        "duration": 2014,
        "start_time": "2022-08-07T17:05:53.319Z"
      },
      {
        "duration": 41,
        "start_time": "2022-08-07T17:05:55.335Z"
      },
      {
        "duration": 97,
        "start_time": "2022-08-07T17:05:55.378Z"
      },
      {
        "duration": 3,
        "start_time": "2022-08-07T17:05:55.477Z"
      },
      {
        "duration": 21,
        "start_time": "2022-08-07T17:05:55.482Z"
      },
      {
        "duration": 6,
        "start_time": "2022-08-07T17:05:55.505Z"
      },
      {
        "duration": 30,
        "start_time": "2022-08-07T17:05:55.513Z"
      },
      {
        "duration": 3,
        "start_time": "2022-08-07T17:05:55.545Z"
      },
      {
        "duration": 232,
        "start_time": "2022-08-07T17:05:55.550Z"
      },
      {
        "duration": 120,
        "start_time": "2022-08-07T17:05:55.783Z"
      },
      {
        "duration": 189,
        "start_time": "2022-08-07T17:05:55.905Z"
      },
      {
        "duration": 115,
        "start_time": "2022-08-07T17:05:56.096Z"
      },
      {
        "duration": 125,
        "start_time": "2022-08-07T17:05:56.213Z"
      },
      {
        "duration": 14,
        "start_time": "2022-08-07T17:05:56.342Z"
      },
      {
        "duration": 13,
        "start_time": "2022-08-07T17:05:56.359Z"
      },
      {
        "duration": 200,
        "start_time": "2022-08-07T17:05:56.374Z"
      },
      {
        "duration": 130,
        "start_time": "2022-08-07T17:05:56.575Z"
      },
      {
        "duration": 118,
        "start_time": "2022-08-07T17:05:56.707Z"
      },
      {
        "duration": 6,
        "start_time": "2022-08-07T17:05:56.827Z"
      },
      {
        "duration": 12,
        "start_time": "2022-08-07T17:05:56.835Z"
      },
      {
        "duration": 260,
        "start_time": "2022-08-07T17:05:56.849Z"
      },
      {
        "duration": 119,
        "start_time": "2022-08-07T17:05:57.111Z"
      },
      {
        "duration": 132,
        "start_time": "2022-08-07T17:05:57.232Z"
      },
      {
        "duration": 6,
        "start_time": "2022-08-07T17:05:57.365Z"
      },
      {
        "duration": 19,
        "start_time": "2022-08-07T17:05:57.373Z"
      },
      {
        "duration": 225,
        "start_time": "2022-08-07T17:05:57.394Z"
      },
      {
        "duration": 8,
        "start_time": "2022-08-07T17:05:57.621Z"
      },
      {
        "duration": 9,
        "start_time": "2022-08-07T17:05:57.631Z"
      },
      {
        "duration": 8,
        "start_time": "2022-08-07T17:05:57.642Z"
      },
      {
        "duration": 18,
        "start_time": "2022-08-07T17:05:57.652Z"
      },
      {
        "duration": 25,
        "start_time": "2022-08-07T17:05:57.672Z"
      },
      {
        "duration": 9,
        "start_time": "2022-08-07T17:05:57.699Z"
      },
      {
        "duration": 7,
        "start_time": "2022-08-07T17:05:57.710Z"
      },
      {
        "duration": 15,
        "start_time": "2022-08-07T17:05:57.719Z"
      },
      {
        "duration": 156,
        "start_time": "2022-08-07T17:05:57.736Z"
      },
      {
        "duration": 6,
        "start_time": "2022-08-07T17:05:57.894Z"
      },
      {
        "duration": 9,
        "start_time": "2022-08-07T17:05:57.902Z"
      },
      {
        "duration": 22,
        "start_time": "2022-08-07T17:05:57.913Z"
      },
      {
        "duration": 17,
        "start_time": "2022-08-07T17:05:57.938Z"
      },
      {
        "duration": 42,
        "start_time": "2022-08-07T17:05:57.957Z"
      },
      {
        "duration": 16,
        "start_time": "2022-08-07T17:05:58.005Z"
      },
      {
        "duration": 28,
        "start_time": "2022-08-07T17:05:58.023Z"
      },
      {
        "duration": 8,
        "start_time": "2022-08-07T17:05:58.054Z"
      },
      {
        "duration": 27,
        "start_time": "2022-08-07T17:05:58.065Z"
      },
      {
        "duration": 3,
        "start_time": "2022-08-07T17:05:58.094Z"
      },
      {
        "duration": 11,
        "start_time": "2022-08-07T17:05:58.100Z"
      },
      {
        "duration": 40,
        "start_time": "2022-08-07T17:05:58.114Z"
      },
      {
        "duration": 2,
        "start_time": "2022-08-07T17:05:58.157Z"
      },
      {
        "duration": 41,
        "start_time": "2022-08-07T17:05:58.161Z"
      },
      {
        "duration": 172,
        "start_time": "2022-08-07T17:05:58.203Z"
      },
      {
        "duration": 0,
        "start_time": "2022-08-07T17:05:58.377Z"
      },
      {
        "duration": 0,
        "start_time": "2022-08-07T17:05:58.378Z"
      },
      {
        "duration": 0,
        "start_time": "2022-08-07T17:05:58.380Z"
      },
      {
        "duration": 0,
        "start_time": "2022-08-07T17:05:58.381Z"
      },
      {
        "duration": 0,
        "start_time": "2022-08-07T17:05:58.382Z"
      },
      {
        "duration": 20,
        "start_time": "2022-08-07T17:08:16.256Z"
      },
      {
        "duration": 1873,
        "start_time": "2022-08-07T17:08:22.416Z"
      },
      {
        "duration": 41,
        "start_time": "2022-08-07T17:08:24.291Z"
      },
      {
        "duration": 94,
        "start_time": "2022-08-07T17:08:24.334Z"
      },
      {
        "duration": 19,
        "start_time": "2022-08-07T17:08:24.430Z"
      },
      {
        "duration": 28,
        "start_time": "2022-08-07T17:08:24.451Z"
      },
      {
        "duration": 7,
        "start_time": "2022-08-07T17:08:24.481Z"
      },
      {
        "duration": 29,
        "start_time": "2022-08-07T17:08:24.490Z"
      },
      {
        "duration": 4,
        "start_time": "2022-08-07T17:08:24.520Z"
      },
      {
        "duration": 240,
        "start_time": "2022-08-07T17:08:24.526Z"
      },
      {
        "duration": 111,
        "start_time": "2022-08-07T17:08:24.768Z"
      },
      {
        "duration": 190,
        "start_time": "2022-08-07T17:08:24.891Z"
      },
      {
        "duration": 116,
        "start_time": "2022-08-07T17:08:25.083Z"
      },
      {
        "duration": 117,
        "start_time": "2022-08-07T17:08:25.201Z"
      },
      {
        "duration": 15,
        "start_time": "2022-08-07T17:08:25.322Z"
      },
      {
        "duration": 5,
        "start_time": "2022-08-07T17:08:25.339Z"
      },
      {
        "duration": 217,
        "start_time": "2022-08-07T17:08:25.346Z"
      },
      {
        "duration": 126,
        "start_time": "2022-08-07T17:08:25.565Z"
      },
      {
        "duration": 100,
        "start_time": "2022-08-07T17:08:25.693Z"
      },
      {
        "duration": 5,
        "start_time": "2022-08-07T17:08:25.795Z"
      },
      {
        "duration": 9,
        "start_time": "2022-08-07T17:08:25.801Z"
      },
      {
        "duration": 222,
        "start_time": "2022-08-07T17:08:25.811Z"
      },
      {
        "duration": 106,
        "start_time": "2022-08-07T17:08:26.035Z"
      },
      {
        "duration": 222,
        "start_time": "2022-08-07T17:08:26.143Z"
      },
      {
        "duration": 5,
        "start_time": "2022-08-07T17:08:26.368Z"
      },
      {
        "duration": 5,
        "start_time": "2022-08-07T17:08:26.392Z"
      },
      {
        "duration": 142,
        "start_time": "2022-08-07T17:08:26.399Z"
      },
      {
        "duration": 10,
        "start_time": "2022-08-07T17:08:26.543Z"
      },
      {
        "duration": 10,
        "start_time": "2022-08-07T17:08:26.554Z"
      },
      {
        "duration": 6,
        "start_time": "2022-08-07T17:08:26.566Z"
      },
      {
        "duration": 21,
        "start_time": "2022-08-07T17:08:26.573Z"
      },
      {
        "duration": 13,
        "start_time": "2022-08-07T17:08:26.595Z"
      },
      {
        "duration": 10,
        "start_time": "2022-08-07T17:08:26.610Z"
      },
      {
        "duration": 8,
        "start_time": "2022-08-07T17:08:26.622Z"
      },
      {
        "duration": 14,
        "start_time": "2022-08-07T17:08:26.631Z"
      },
      {
        "duration": 131,
        "start_time": "2022-08-07T17:08:26.647Z"
      },
      {
        "duration": 12,
        "start_time": "2022-08-07T17:08:26.780Z"
      },
      {
        "duration": 8,
        "start_time": "2022-08-07T17:08:26.794Z"
      },
      {
        "duration": 20,
        "start_time": "2022-08-07T17:08:26.803Z"
      },
      {
        "duration": 24,
        "start_time": "2022-08-07T17:08:26.825Z"
      },
      {
        "duration": 10,
        "start_time": "2022-08-07T17:08:26.851Z"
      },
      {
        "duration": 8,
        "start_time": "2022-08-07T17:08:26.865Z"
      },
      {
        "duration": 16,
        "start_time": "2022-08-07T17:08:26.892Z"
      },
      {
        "duration": 9,
        "start_time": "2022-08-07T17:08:26.910Z"
      },
      {
        "duration": 26,
        "start_time": "2022-08-07T17:08:26.921Z"
      },
      {
        "duration": 4,
        "start_time": "2022-08-07T17:08:26.949Z"
      },
      {
        "duration": 21,
        "start_time": "2022-08-07T17:08:26.955Z"
      },
      {
        "duration": 28,
        "start_time": "2022-08-07T17:08:26.978Z"
      },
      {
        "duration": 3,
        "start_time": "2022-08-07T17:08:27.008Z"
      },
      {
        "duration": 31,
        "start_time": "2022-08-07T17:08:27.012Z"
      },
      {
        "duration": 161,
        "start_time": "2022-08-07T17:08:27.045Z"
      },
      {
        "duration": 0,
        "start_time": "2022-08-07T17:08:27.207Z"
      },
      {
        "duration": 0,
        "start_time": "2022-08-07T17:08:27.208Z"
      },
      {
        "duration": 0,
        "start_time": "2022-08-07T17:08:27.210Z"
      },
      {
        "duration": 0,
        "start_time": "2022-08-07T17:08:27.211Z"
      },
      {
        "duration": 0,
        "start_time": "2022-08-07T17:08:27.212Z"
      },
      {
        "duration": 48,
        "start_time": "2022-08-07T17:08:42.890Z"
      },
      {
        "duration": 2109,
        "start_time": "2022-08-07T17:09:18.200Z"
      },
      {
        "duration": 41,
        "start_time": "2022-08-07T17:09:20.311Z"
      },
      {
        "duration": 103,
        "start_time": "2022-08-07T17:09:20.354Z"
      },
      {
        "duration": 3,
        "start_time": "2022-08-07T17:09:20.459Z"
      },
      {
        "duration": 28,
        "start_time": "2022-08-07T17:09:20.465Z"
      },
      {
        "duration": 20,
        "start_time": "2022-08-07T17:09:20.495Z"
      },
      {
        "duration": 29,
        "start_time": "2022-08-07T17:09:20.517Z"
      },
      {
        "duration": 4,
        "start_time": "2022-08-07T17:09:20.547Z"
      },
      {
        "duration": 243,
        "start_time": "2022-08-07T17:09:20.552Z"
      },
      {
        "duration": 125,
        "start_time": "2022-08-07T17:09:20.798Z"
      },
      {
        "duration": 191,
        "start_time": "2022-08-07T17:09:20.925Z"
      },
      {
        "duration": 119,
        "start_time": "2022-08-07T17:09:21.118Z"
      },
      {
        "duration": 124,
        "start_time": "2022-08-07T17:09:21.239Z"
      },
      {
        "duration": 25,
        "start_time": "2022-08-07T17:09:21.367Z"
      },
      {
        "duration": 8,
        "start_time": "2022-08-07T17:09:21.394Z"
      },
      {
        "duration": 214,
        "start_time": "2022-08-07T17:09:21.404Z"
      },
      {
        "duration": 126,
        "start_time": "2022-08-07T17:09:21.620Z"
      },
      {
        "duration": 121,
        "start_time": "2022-08-07T17:09:21.748Z"
      },
      {
        "duration": 6,
        "start_time": "2022-08-07T17:09:21.872Z"
      },
      {
        "duration": 29,
        "start_time": "2022-08-07T17:09:21.893Z"
      },
      {
        "duration": 264,
        "start_time": "2022-08-07T17:09:21.924Z"
      },
      {
        "duration": 120,
        "start_time": "2022-08-07T17:09:22.192Z"
      },
      {
        "duration": 225,
        "start_time": "2022-08-07T17:09:22.314Z"
      },
      {
        "duration": 5,
        "start_time": "2022-08-07T17:09:22.541Z"
      },
      {
        "duration": 6,
        "start_time": "2022-08-07T17:09:22.547Z"
      },
      {
        "duration": 155,
        "start_time": "2022-08-07T17:09:22.555Z"
      },
      {
        "duration": 19,
        "start_time": "2022-08-07T17:09:22.711Z"
      },
      {
        "duration": 7,
        "start_time": "2022-08-07T17:09:22.732Z"
      },
      {
        "duration": 7,
        "start_time": "2022-08-07T17:09:22.740Z"
      },
      {
        "duration": 18,
        "start_time": "2022-08-07T17:09:22.749Z"
      },
      {
        "duration": 9,
        "start_time": "2022-08-07T17:09:22.769Z"
      },
      {
        "duration": 16,
        "start_time": "2022-08-07T17:09:22.779Z"
      },
      {
        "duration": 12,
        "start_time": "2022-08-07T17:09:22.798Z"
      },
      {
        "duration": 17,
        "start_time": "2022-08-07T17:09:22.812Z"
      },
      {
        "duration": 127,
        "start_time": "2022-08-07T17:09:22.830Z"
      },
      {
        "duration": 6,
        "start_time": "2022-08-07T17:09:22.959Z"
      },
      {
        "duration": 10,
        "start_time": "2022-08-07T17:09:22.966Z"
      },
      {
        "duration": 35,
        "start_time": "2022-08-07T17:09:22.978Z"
      },
      {
        "duration": 14,
        "start_time": "2022-08-07T17:09:23.015Z"
      },
      {
        "duration": 13,
        "start_time": "2022-08-07T17:09:23.031Z"
      },
      {
        "duration": 7,
        "start_time": "2022-08-07T17:09:23.048Z"
      },
      {
        "duration": 37,
        "start_time": "2022-08-07T17:09:23.056Z"
      },
      {
        "duration": 12,
        "start_time": "2022-08-07T17:09:23.095Z"
      },
      {
        "duration": 23,
        "start_time": "2022-08-07T17:09:23.109Z"
      },
      {
        "duration": 3,
        "start_time": "2022-08-07T17:09:23.134Z"
      },
      {
        "duration": 8,
        "start_time": "2022-08-07T17:09:23.139Z"
      },
      {
        "duration": 24,
        "start_time": "2022-08-07T17:09:23.149Z"
      },
      {
        "duration": 18,
        "start_time": "2022-08-07T17:09:23.174Z"
      },
      {
        "duration": 37,
        "start_time": "2022-08-07T17:09:23.195Z"
      },
      {
        "duration": 57,
        "start_time": "2022-08-07T17:09:23.234Z"
      },
      {
        "duration": 13,
        "start_time": "2022-08-07T17:09:23.294Z"
      },
      {
        "duration": 166,
        "start_time": "2022-08-07T17:09:23.310Z"
      },
      {
        "duration": 0,
        "start_time": "2022-08-07T17:09:23.478Z"
      },
      {
        "duration": 0,
        "start_time": "2022-08-07T17:09:23.479Z"
      },
      {
        "duration": 0,
        "start_time": "2022-08-07T17:09:23.481Z"
      },
      {
        "duration": 110424,
        "start_time": "2022-08-07T17:10:31.838Z"
      },
      {
        "duration": 19,
        "start_time": "2022-08-07T17:12:47.975Z"
      },
      {
        "duration": 4462,
        "start_time": "2022-08-07T17:13:25.895Z"
      },
      {
        "duration": 8,
        "start_time": "2022-08-07T17:13:38.833Z"
      },
      {
        "duration": 227,
        "start_time": "2022-08-07T17:13:41.027Z"
      },
      {
        "duration": 2783,
        "start_time": "2022-08-07T17:14:21.129Z"
      },
      {
        "duration": 2659,
        "start_time": "2022-08-07T17:14:43.948Z"
      },
      {
        "duration": 8004,
        "start_time": "2022-08-07T17:14:52.900Z"
      },
      {
        "duration": 9045,
        "start_time": "2022-08-07T17:15:14.253Z"
      },
      {
        "duration": 9861,
        "start_time": "2022-08-07T17:15:33.741Z"
      },
      {
        "duration": 1747,
        "start_time": "2022-08-07T17:15:59.367Z"
      },
      {
        "duration": 9960,
        "start_time": "2022-08-07T17:16:12.058Z"
      },
      {
        "duration": 7,
        "start_time": "2022-08-07T17:16:28.646Z"
      },
      {
        "duration": 237,
        "start_time": "2022-08-07T17:16:31.013Z"
      },
      {
        "duration": 8372,
        "start_time": "2022-08-07T17:17:16.235Z"
      },
      {
        "duration": 8028,
        "start_time": "2022-08-07T17:17:38.274Z"
      },
      {
        "duration": 21,
        "start_time": "2022-08-07T17:19:29.743Z"
      },
      {
        "duration": 10456,
        "start_time": "2022-08-07T17:19:40.440Z"
      },
      {
        "duration": 9812,
        "start_time": "2022-08-07T17:20:35.692Z"
      },
      {
        "duration": 9863,
        "start_time": "2022-08-07T17:20:55.531Z"
      },
      {
        "duration": 9946,
        "start_time": "2022-08-07T17:21:51.872Z"
      },
      {
        "duration": 9990,
        "start_time": "2022-08-07T17:22:27.713Z"
      },
      {
        "duration": 9665,
        "start_time": "2022-08-07T17:22:53.027Z"
      },
      {
        "duration": 8728,
        "start_time": "2022-08-07T17:23:19.588Z"
      },
      {
        "duration": 8309,
        "start_time": "2022-08-07T17:23:53.210Z"
      },
      {
        "duration": 10651,
        "start_time": "2022-08-07T17:24:11.165Z"
      },
      {
        "duration": 9265,
        "start_time": "2022-08-07T17:24:36.332Z"
      },
      {
        "duration": 11375,
        "start_time": "2022-08-07T17:25:03.930Z"
      },
      {
        "duration": 6158,
        "start_time": "2022-08-07T17:25:24.360Z"
      },
      {
        "duration": 5020,
        "start_time": "2022-08-07T17:25:41.520Z"
      },
      {
        "duration": 5029,
        "start_time": "2022-08-07T17:25:58.535Z"
      },
      {
        "duration": 0,
        "start_time": "2022-08-07T17:27:01.343Z"
      },
      {
        "duration": 19371,
        "start_time": "2022-08-07T17:27:26.252Z"
      },
      {
        "duration": 20,
        "start_time": "2022-08-07T17:27:49.550Z"
      },
      {
        "duration": 2024,
        "start_time": "2022-08-07T17:27:56.771Z"
      },
      {
        "duration": 41,
        "start_time": "2022-08-07T17:27:58.797Z"
      },
      {
        "duration": 95,
        "start_time": "2022-08-07T17:27:58.839Z"
      },
      {
        "duration": 8,
        "start_time": "2022-08-07T17:27:58.936Z"
      },
      {
        "duration": 17,
        "start_time": "2022-08-07T17:27:58.946Z"
      },
      {
        "duration": 29,
        "start_time": "2022-08-07T17:27:58.965Z"
      },
      {
        "duration": 27,
        "start_time": "2022-08-07T17:27:58.997Z"
      },
      {
        "duration": 4,
        "start_time": "2022-08-07T17:27:59.026Z"
      },
      {
        "duration": 219,
        "start_time": "2022-08-07T17:27:59.032Z"
      },
      {
        "duration": 119,
        "start_time": "2022-08-07T17:27:59.254Z"
      },
      {
        "duration": 180,
        "start_time": "2022-08-07T17:27:59.375Z"
      },
      {
        "duration": 100,
        "start_time": "2022-08-07T17:27:59.556Z"
      },
      {
        "duration": 119,
        "start_time": "2022-08-07T17:27:59.658Z"
      },
      {
        "duration": 24,
        "start_time": "2022-08-07T17:27:59.779Z"
      },
      {
        "duration": 5,
        "start_time": "2022-08-07T17:27:59.805Z"
      },
      {
        "duration": 201,
        "start_time": "2022-08-07T17:27:59.811Z"
      },
      {
        "duration": 123,
        "start_time": "2022-08-07T17:28:00.014Z"
      },
      {
        "duration": 115,
        "start_time": "2022-08-07T17:28:00.139Z"
      },
      {
        "duration": 5,
        "start_time": "2022-08-07T17:28:00.256Z"
      },
      {
        "duration": 14,
        "start_time": "2022-08-07T17:28:00.263Z"
      },
      {
        "duration": 229,
        "start_time": "2022-08-07T17:28:00.279Z"
      },
      {
        "duration": 114,
        "start_time": "2022-08-07T17:28:00.509Z"
      },
      {
        "duration": 132,
        "start_time": "2022-08-07T17:28:00.624Z"
      },
      {
        "duration": 7,
        "start_time": "2022-08-07T17:28:00.758Z"
      },
      {
        "duration": 12,
        "start_time": "2022-08-07T17:28:00.767Z"
      },
      {
        "duration": 228,
        "start_time": "2022-08-07T17:28:00.791Z"
      },
      {
        "duration": 8,
        "start_time": "2022-08-07T17:28:01.022Z"
      },
      {
        "duration": 56,
        "start_time": "2022-08-07T17:28:01.034Z"
      },
      {
        "duration": 75,
        "start_time": "2022-08-07T17:28:01.092Z"
      },
      {
        "duration": 47,
        "start_time": "2022-08-07T17:28:01.169Z"
      },
      {
        "duration": 28,
        "start_time": "2022-08-07T17:28:01.218Z"
      },
      {
        "duration": 69,
        "start_time": "2022-08-07T17:28:01.248Z"
      },
      {
        "duration": 48,
        "start_time": "2022-08-07T17:28:01.319Z"
      },
      {
        "duration": 35,
        "start_time": "2022-08-07T17:28:01.369Z"
      },
      {
        "duration": 185,
        "start_time": "2022-08-07T17:28:01.406Z"
      },
      {
        "duration": 6,
        "start_time": "2022-08-07T17:28:01.593Z"
      },
      {
        "duration": 23,
        "start_time": "2022-08-07T17:28:01.601Z"
      },
      {
        "duration": 24,
        "start_time": "2022-08-07T17:28:01.626Z"
      },
      {
        "duration": 25,
        "start_time": "2022-08-07T17:28:01.652Z"
      },
      {
        "duration": 26,
        "start_time": "2022-08-07T17:28:01.679Z"
      },
      {
        "duration": 116,
        "start_time": "2022-08-07T17:28:01.707Z"
      },
      {
        "duration": 40,
        "start_time": "2022-08-07T17:28:01.825Z"
      },
      {
        "duration": 20,
        "start_time": "2022-08-07T17:28:01.867Z"
      },
      {
        "duration": 40,
        "start_time": "2022-08-07T17:28:01.890Z"
      },
      {
        "duration": 37,
        "start_time": "2022-08-07T17:28:01.933Z"
      },
      {
        "duration": 38,
        "start_time": "2022-08-07T17:28:01.973Z"
      },
      {
        "duration": 41,
        "start_time": "2022-08-07T17:28:02.014Z"
      },
      {
        "duration": 11,
        "start_time": "2022-08-07T17:28:02.058Z"
      },
      {
        "duration": 45,
        "start_time": "2022-08-07T17:28:02.071Z"
      },
      {
        "duration": 66,
        "start_time": "2022-08-07T17:28:02.118Z"
      },
      {
        "duration": 11,
        "start_time": "2022-08-07T17:28:02.186Z"
      },
      {
        "duration": 108615,
        "start_time": "2022-08-07T17:28:02.199Z"
      },
      {
        "duration": 153,
        "start_time": "2022-08-07T17:29:50.816Z"
      },
      {
        "duration": 0,
        "start_time": "2022-08-07T17:29:50.971Z"
      },
      {
        "duration": 0,
        "start_time": "2022-08-07T17:29:50.972Z"
      },
      {
        "duration": 0,
        "start_time": "2022-08-07T17:31:45.493Z"
      },
      {
        "duration": 53554,
        "start_time": "2022-08-07T17:31:48.189Z"
      },
      {
        "duration": 60009,
        "start_time": "2022-08-07T17:32:44.009Z"
      },
      {
        "duration": 0,
        "start_time": "2022-08-07T17:34:17.905Z"
      },
      {
        "duration": 12578,
        "start_time": "2022-08-07T17:34:19.727Z"
      },
      {
        "duration": 10017,
        "start_time": "2022-08-07T17:34:38.540Z"
      },
      {
        "duration": 47,
        "start_time": "2022-08-08T05:33:30.777Z"
      },
      {
        "duration": 5910,
        "start_time": "2022-08-08T05:33:36.032Z"
      },
      {
        "duration": 85,
        "start_time": "2022-08-08T05:33:41.944Z"
      },
      {
        "duration": 98,
        "start_time": "2022-08-08T05:33:42.031Z"
      },
      {
        "duration": 3,
        "start_time": "2022-08-08T05:33:42.131Z"
      },
      {
        "duration": 34,
        "start_time": "2022-08-08T05:33:42.136Z"
      },
      {
        "duration": 10,
        "start_time": "2022-08-08T05:33:42.172Z"
      },
      {
        "duration": 27,
        "start_time": "2022-08-08T05:33:42.184Z"
      },
      {
        "duration": 4,
        "start_time": "2022-08-08T05:33:42.213Z"
      },
      {
        "duration": 54,
        "start_time": "2022-08-08T05:33:42.220Z"
      },
      {
        "duration": 208,
        "start_time": "2022-08-08T05:33:42.278Z"
      },
      {
        "duration": 124,
        "start_time": "2022-08-08T05:33:42.488Z"
      },
      {
        "duration": 177,
        "start_time": "2022-08-08T05:33:42.614Z"
      },
      {
        "duration": 101,
        "start_time": "2022-08-08T05:33:42.793Z"
      },
      {
        "duration": 120,
        "start_time": "2022-08-08T05:33:42.896Z"
      },
      {
        "duration": 14,
        "start_time": "2022-08-08T05:33:43.018Z"
      },
      {
        "duration": 5,
        "start_time": "2022-08-08T05:33:43.034Z"
      },
      {
        "duration": 204,
        "start_time": "2022-08-08T05:33:43.040Z"
      },
      {
        "duration": 137,
        "start_time": "2022-08-08T05:33:43.247Z"
      },
      {
        "duration": 115,
        "start_time": "2022-08-08T05:33:43.387Z"
      },
      {
        "duration": 7,
        "start_time": "2022-08-08T05:33:43.504Z"
      },
      {
        "duration": 19,
        "start_time": "2022-08-08T05:33:43.514Z"
      },
      {
        "duration": 228,
        "start_time": "2022-08-08T05:33:43.535Z"
      },
      {
        "duration": 113,
        "start_time": "2022-08-08T05:33:43.768Z"
      },
      {
        "duration": 141,
        "start_time": "2022-08-08T05:33:43.882Z"
      },
      {
        "duration": 5,
        "start_time": "2022-08-08T05:33:44.025Z"
      },
      {
        "duration": 6,
        "start_time": "2022-08-08T05:33:44.032Z"
      },
      {
        "duration": 219,
        "start_time": "2022-08-08T05:33:44.040Z"
      },
      {
        "duration": 7,
        "start_time": "2022-08-08T05:33:44.267Z"
      },
      {
        "duration": 7,
        "start_time": "2022-08-08T05:33:44.276Z"
      },
      {
        "duration": 6,
        "start_time": "2022-08-08T05:33:44.285Z"
      },
      {
        "duration": 16,
        "start_time": "2022-08-08T05:33:44.293Z"
      },
      {
        "duration": 7,
        "start_time": "2022-08-08T05:33:44.311Z"
      },
      {
        "duration": 6,
        "start_time": "2022-08-08T05:33:44.320Z"
      },
      {
        "duration": 7,
        "start_time": "2022-08-08T05:33:44.367Z"
      },
      {
        "duration": 12,
        "start_time": "2022-08-08T05:33:44.376Z"
      },
      {
        "duration": 129,
        "start_time": "2022-08-08T05:33:44.389Z"
      },
      {
        "duration": 5,
        "start_time": "2022-08-08T05:33:44.520Z"
      },
      {
        "duration": 9,
        "start_time": "2022-08-08T05:33:44.526Z"
      },
      {
        "duration": 35,
        "start_time": "2022-08-08T05:33:44.537Z"
      },
      {
        "duration": 15,
        "start_time": "2022-08-08T05:33:44.573Z"
      },
      {
        "duration": 10,
        "start_time": "2022-08-08T05:33:44.590Z"
      },
      {
        "duration": 4,
        "start_time": "2022-08-08T05:33:44.602Z"
      },
      {
        "duration": 14,
        "start_time": "2022-08-08T05:33:44.608Z"
      },
      {
        "duration": 10,
        "start_time": "2022-08-08T05:33:44.624Z"
      },
      {
        "duration": 62,
        "start_time": "2022-08-08T05:33:44.636Z"
      },
      {
        "duration": 2,
        "start_time": "2022-08-08T05:33:44.700Z"
      },
      {
        "duration": 10,
        "start_time": "2022-08-08T05:33:44.704Z"
      },
      {
        "duration": 22,
        "start_time": "2022-08-08T05:33:44.715Z"
      },
      {
        "duration": 29,
        "start_time": "2022-08-08T05:33:44.739Z"
      },
      {
        "duration": 24,
        "start_time": "2022-08-08T05:33:44.770Z"
      },
      {
        "duration": 47,
        "start_time": "2022-08-08T05:33:44.796Z"
      },
      {
        "duration": 24,
        "start_time": "2022-08-08T05:33:44.845Z"
      },
      {
        "duration": 107600,
        "start_time": "2022-08-08T05:33:44.871Z"
      },
      {
        "duration": 333,
        "start_time": "2022-08-08T05:35:32.473Z"
      },
      {
        "duration": 0,
        "start_time": "2022-08-08T05:35:32.808Z"
      },
      {
        "duration": 0,
        "start_time": "2022-08-08T05:35:32.809Z"
      },
      {
        "duration": 40140,
        "start_time": "2022-08-08T05:35:44.942Z"
      },
      {
        "duration": 10302,
        "start_time": "2022-08-08T05:36:54.327Z"
      },
      {
        "duration": 1810,
        "start_time": "2022-08-08T05:56:02.073Z"
      },
      {
        "duration": 41,
        "start_time": "2022-08-08T05:56:03.885Z"
      },
      {
        "duration": 92,
        "start_time": "2022-08-08T05:56:03.928Z"
      },
      {
        "duration": 3,
        "start_time": "2022-08-08T05:56:04.022Z"
      },
      {
        "duration": 16,
        "start_time": "2022-08-08T05:56:04.027Z"
      },
      {
        "duration": 24,
        "start_time": "2022-08-08T05:56:04.045Z"
      },
      {
        "duration": 29,
        "start_time": "2022-08-08T05:56:04.070Z"
      },
      {
        "duration": 4,
        "start_time": "2022-08-08T05:56:04.101Z"
      },
      {
        "duration": 12,
        "start_time": "2022-08-08T05:56:16.392Z"
      },
      {
        "duration": 173,
        "start_time": "2022-08-08T06:04:39.452Z"
      },
      {
        "duration": 160,
        "start_time": "2022-08-08T06:05:31.507Z"
      },
      {
        "duration": 141,
        "start_time": "2022-08-08T06:05:39.956Z"
      },
      {
        "duration": 140,
        "start_time": "2022-08-08T06:05:45.773Z"
      },
      {
        "duration": 138,
        "start_time": "2022-08-08T06:06:18.785Z"
      },
      {
        "duration": 140,
        "start_time": "2022-08-08T06:07:07.566Z"
      },
      {
        "duration": 206,
        "start_time": "2022-08-08T06:07:36.511Z"
      },
      {
        "duration": 125,
        "start_time": "2022-08-08T06:07:43.045Z"
      },
      {
        "duration": 131,
        "start_time": "2022-08-08T06:07:53.115Z"
      },
      {
        "duration": 129,
        "start_time": "2022-08-08T06:07:59.372Z"
      },
      {
        "duration": 145,
        "start_time": "2022-08-08T06:08:08.152Z"
      },
      {
        "duration": 142,
        "start_time": "2022-08-08T06:08:20.782Z"
      },
      {
        "duration": 128,
        "start_time": "2022-08-08T06:09:09.686Z"
      },
      {
        "duration": 276,
        "start_time": "2022-08-08T06:10:16.278Z"
      },
      {
        "duration": 143,
        "start_time": "2022-08-08T06:12:52.685Z"
      },
      {
        "duration": 136,
        "start_time": "2022-08-08T06:13:06.024Z"
      },
      {
        "duration": 145,
        "start_time": "2022-08-08T06:13:13.277Z"
      },
      {
        "duration": 144,
        "start_time": "2022-08-08T06:13:20.324Z"
      },
      {
        "duration": 150,
        "start_time": "2022-08-08T06:13:42.315Z"
      },
      {
        "duration": 155,
        "start_time": "2022-08-08T06:13:49.450Z"
      },
      {
        "duration": 147,
        "start_time": "2022-08-08T06:14:19.942Z"
      },
      {
        "duration": 187,
        "start_time": "2022-08-08T06:14:55.413Z"
      },
      {
        "duration": 156,
        "start_time": "2022-08-08T06:15:04.457Z"
      },
      {
        "duration": 137,
        "start_time": "2022-08-08T06:16:02.732Z"
      },
      {
        "duration": 288,
        "start_time": "2022-08-08T06:17:37.048Z"
      },
      {
        "duration": 282,
        "start_time": "2022-08-08T06:18:42.288Z"
      },
      {
        "duration": 395,
        "start_time": "2022-08-08T06:18:52.267Z"
      },
      {
        "duration": 281,
        "start_time": "2022-08-08T06:19:06.258Z"
      },
      {
        "duration": 270,
        "start_time": "2022-08-08T06:19:19.221Z"
      },
      {
        "duration": 420,
        "start_time": "2022-08-08T06:20:15.188Z"
      },
      {
        "duration": 431,
        "start_time": "2022-08-08T06:20:37.270Z"
      },
      {
        "duration": 392,
        "start_time": "2022-08-08T06:21:18.956Z"
      },
      {
        "duration": 3,
        "start_time": "2022-08-08T06:30:23.721Z"
      },
      {
        "duration": 1786,
        "start_time": "2022-08-08T06:31:24.215Z"
      },
      {
        "duration": 41,
        "start_time": "2022-08-08T06:31:26.003Z"
      },
      {
        "duration": 90,
        "start_time": "2022-08-08T06:31:26.046Z"
      },
      {
        "duration": 4,
        "start_time": "2022-08-08T06:31:26.137Z"
      },
      {
        "duration": 34,
        "start_time": "2022-08-08T06:31:26.143Z"
      },
      {
        "duration": 9,
        "start_time": "2022-08-08T06:31:26.179Z"
      },
      {
        "duration": 25,
        "start_time": "2022-08-08T06:31:26.190Z"
      },
      {
        "duration": 3,
        "start_time": "2022-08-08T06:31:26.217Z"
      },
      {
        "duration": 14,
        "start_time": "2022-08-08T06:31:26.222Z"
      },
      {
        "duration": 557,
        "start_time": "2022-08-08T06:31:26.238Z"
      },
      {
        "duration": 217,
        "start_time": "2022-08-08T06:31:26.797Z"
      },
      {
        "duration": 117,
        "start_time": "2022-08-08T06:31:27.016Z"
      },
      {
        "duration": 173,
        "start_time": "2022-08-08T06:31:27.135Z"
      },
      {
        "duration": 105,
        "start_time": "2022-08-08T06:31:27.311Z"
      },
      {
        "duration": 125,
        "start_time": "2022-08-08T06:31:27.418Z"
      },
      {
        "duration": 24,
        "start_time": "2022-08-08T06:31:27.545Z"
      },
      {
        "duration": 6,
        "start_time": "2022-08-08T06:31:27.571Z"
      },
      {
        "duration": 194,
        "start_time": "2022-08-08T06:31:27.578Z"
      },
      {
        "duration": 120,
        "start_time": "2022-08-08T06:31:27.774Z"
      },
      {
        "duration": 109,
        "start_time": "2022-08-08T06:31:27.895Z"
      },
      {
        "duration": 5,
        "start_time": "2022-08-08T06:31:28.006Z"
      },
      {
        "duration": 43,
        "start_time": "2022-08-08T06:31:28.013Z"
      },
      {
        "duration": 342,
        "start_time": "2022-08-08T06:31:28.057Z"
      },
      {
        "duration": 113,
        "start_time": "2022-08-08T06:31:28.401Z"
      },
      {
        "duration": 126,
        "start_time": "2022-08-08T06:31:28.516Z"
      },
      {
        "duration": 6,
        "start_time": "2022-08-08T06:31:28.644Z"
      },
      {
        "duration": 5,
        "start_time": "2022-08-08T06:31:28.667Z"
      },
      {
        "duration": 131,
        "start_time": "2022-08-08T06:31:28.674Z"
      },
      {
        "duration": 8,
        "start_time": "2022-08-08T06:31:28.807Z"
      },
      {
        "duration": 16,
        "start_time": "2022-08-08T06:31:28.817Z"
      },
      {
        "duration": 14,
        "start_time": "2022-08-08T06:31:28.835Z"
      },
      {
        "duration": 27,
        "start_time": "2022-08-08T06:31:28.851Z"
      },
      {
        "duration": 4,
        "start_time": "2022-08-08T06:31:28.879Z"
      },
      {
        "duration": 10,
        "start_time": "2022-08-08T06:31:28.885Z"
      },
      {
        "duration": 12,
        "start_time": "2022-08-08T06:31:28.897Z"
      },
      {
        "duration": 31,
        "start_time": "2022-08-08T06:31:28.911Z"
      },
      {
        "duration": 130,
        "start_time": "2022-08-08T06:31:28.944Z"
      },
      {
        "duration": 6,
        "start_time": "2022-08-08T06:31:29.076Z"
      },
      {
        "duration": 7,
        "start_time": "2022-08-08T06:31:29.083Z"
      },
      {
        "duration": 15,
        "start_time": "2022-08-08T06:31:29.092Z"
      },
      {
        "duration": 15,
        "start_time": "2022-08-08T06:31:29.110Z"
      },
      {
        "duration": 42,
        "start_time": "2022-08-08T06:31:29.127Z"
      },
      {
        "duration": 40,
        "start_time": "2022-08-08T06:31:29.171Z"
      },
      {
        "duration": 15,
        "start_time": "2022-08-08T06:31:29.213Z"
      },
      {
        "duration": 5,
        "start_time": "2022-08-08T06:31:29.229Z"
      },
      {
        "duration": 38,
        "start_time": "2022-08-08T06:31:29.236Z"
      },
      {
        "duration": 7,
        "start_time": "2022-08-08T06:31:29.276Z"
      },
      {
        "duration": 6,
        "start_time": "2022-08-08T06:31:29.285Z"
      },
      {
        "duration": 23,
        "start_time": "2022-08-08T06:31:29.292Z"
      },
      {
        "duration": 2,
        "start_time": "2022-08-08T06:31:29.317Z"
      },
      {
        "duration": 65,
        "start_time": "2022-08-08T06:31:29.321Z"
      },
      {
        "duration": 47,
        "start_time": "2022-08-08T06:31:29.388Z"
      },
      {
        "duration": 7,
        "start_time": "2022-08-08T06:31:29.437Z"
      },
      {
        "duration": 39540,
        "start_time": "2022-08-08T06:31:29.445Z"
      },
      {
        "duration": 10205,
        "start_time": "2022-08-08T06:32:08.988Z"
      },
      {
        "duration": 6,
        "start_time": "2022-08-08T06:32:19.195Z"
      },
      {
        "duration": 266,
        "start_time": "2022-08-08T06:32:19.203Z"
      },
      {
        "duration": 1850,
        "start_time": "2022-08-08T06:34:57.399Z"
      },
      {
        "duration": 41,
        "start_time": "2022-08-08T06:34:59.252Z"
      },
      {
        "duration": 95,
        "start_time": "2022-08-08T06:34:59.295Z"
      },
      {
        "duration": 5,
        "start_time": "2022-08-08T06:34:59.392Z"
      },
      {
        "duration": 17,
        "start_time": "2022-08-08T06:34:59.399Z"
      },
      {
        "duration": 12,
        "start_time": "2022-08-08T06:34:59.418Z"
      },
      {
        "duration": 50,
        "start_time": "2022-08-08T06:34:59.432Z"
      },
      {
        "duration": 4,
        "start_time": "2022-08-08T06:34:59.483Z"
      },
      {
        "duration": 19,
        "start_time": "2022-08-08T06:34:59.489Z"
      },
      {
        "duration": 478,
        "start_time": "2022-08-08T06:34:59.512Z"
      },
      {
        "duration": 213,
        "start_time": "2022-08-08T06:34:59.993Z"
      },
      {
        "duration": 129,
        "start_time": "2022-08-08T06:35:00.208Z"
      },
      {
        "duration": 181,
        "start_time": "2022-08-08T06:35:00.339Z"
      },
      {
        "duration": 112,
        "start_time": "2022-08-08T06:35:00.522Z"
      },
      {
        "duration": 138,
        "start_time": "2022-08-08T06:35:00.636Z"
      },
      {
        "duration": 16,
        "start_time": "2022-08-08T06:35:00.777Z"
      },
      {
        "duration": 9,
        "start_time": "2022-08-08T06:35:00.796Z"
      },
      {
        "duration": 243,
        "start_time": "2022-08-08T06:35:00.807Z"
      },
      {
        "duration": 151,
        "start_time": "2022-08-08T06:35:01.053Z"
      },
      {
        "duration": 125,
        "start_time": "2022-08-08T06:35:01.205Z"
      },
      {
        "duration": 6,
        "start_time": "2022-08-08T06:35:01.332Z"
      },
      {
        "duration": 30,
        "start_time": "2022-08-08T06:35:01.339Z"
      },
      {
        "duration": 383,
        "start_time": "2022-08-08T06:35:01.370Z"
      },
      {
        "duration": 134,
        "start_time": "2022-08-08T06:35:01.756Z"
      },
      {
        "duration": 151,
        "start_time": "2022-08-08T06:35:01.893Z"
      },
      {
        "duration": 8,
        "start_time": "2022-08-08T06:35:02.046Z"
      },
      {
        "duration": 17,
        "start_time": "2022-08-08T06:35:02.069Z"
      },
      {
        "duration": 130,
        "start_time": "2022-08-08T06:35:02.090Z"
      },
      {
        "duration": 8,
        "start_time": "2022-08-08T06:35:02.222Z"
      },
      {
        "duration": 13,
        "start_time": "2022-08-08T06:35:02.232Z"
      },
      {
        "duration": 22,
        "start_time": "2022-08-08T06:35:02.247Z"
      },
      {
        "duration": 15,
        "start_time": "2022-08-08T06:35:02.271Z"
      },
      {
        "duration": 6,
        "start_time": "2022-08-08T06:35:02.288Z"
      },
      {
        "duration": 13,
        "start_time": "2022-08-08T06:35:02.296Z"
      },
      {
        "duration": 16,
        "start_time": "2022-08-08T06:35:02.310Z"
      },
      {
        "duration": 51,
        "start_time": "2022-08-08T06:35:02.328Z"
      },
      {
        "duration": 119,
        "start_time": "2022-08-08T06:35:02.381Z"
      },
      {
        "duration": 15,
        "start_time": "2022-08-08T06:35:07.469Z"
      },
      {
        "duration": 4,
        "start_time": "2022-08-08T06:36:12.255Z"
      },
      {
        "duration": 41,
        "start_time": "2022-08-08T06:36:12.261Z"
      },
      {
        "duration": 22,
        "start_time": "2022-08-08T06:36:12.304Z"
      },
      {
        "duration": 6,
        "start_time": "2022-08-08T06:36:12.328Z"
      },
      {
        "duration": 20,
        "start_time": "2022-08-08T06:36:12.336Z"
      },
      {
        "duration": 15,
        "start_time": "2022-08-08T06:36:12.358Z"
      },
      {
        "duration": 34,
        "start_time": "2022-08-08T06:36:12.375Z"
      },
      {
        "duration": 4,
        "start_time": "2022-08-08T06:36:12.410Z"
      },
      {
        "duration": 19,
        "start_time": "2022-08-08T06:36:12.416Z"
      },
      {
        "duration": 447,
        "start_time": "2022-08-08T06:36:12.438Z"
      },
      {
        "duration": 217,
        "start_time": "2022-08-08T06:36:12.887Z"
      },
      {
        "duration": 120,
        "start_time": "2022-08-08T06:36:13.106Z"
      },
      {
        "duration": 179,
        "start_time": "2022-08-08T06:36:13.228Z"
      },
      {
        "duration": 109,
        "start_time": "2022-08-08T06:36:13.409Z"
      },
      {
        "duration": 122,
        "start_time": "2022-08-08T06:36:13.520Z"
      },
      {
        "duration": 25,
        "start_time": "2022-08-08T06:36:13.644Z"
      },
      {
        "duration": 14,
        "start_time": "2022-08-08T06:36:13.670Z"
      },
      {
        "duration": 197,
        "start_time": "2022-08-08T06:36:13.686Z"
      },
      {
        "duration": 230,
        "start_time": "2022-08-08T06:36:13.885Z"
      },
      {
        "duration": 102,
        "start_time": "2022-08-08T06:36:14.117Z"
      },
      {
        "duration": 6,
        "start_time": "2022-08-08T06:36:14.220Z"
      },
      {
        "duration": 11,
        "start_time": "2022-08-08T06:36:14.228Z"
      },
      {
        "duration": 233,
        "start_time": "2022-08-08T06:36:14.241Z"
      },
      {
        "duration": 113,
        "start_time": "2022-08-08T06:36:14.476Z"
      },
      {
        "duration": 123,
        "start_time": "2022-08-08T06:36:14.591Z"
      },
      {
        "duration": 5,
        "start_time": "2022-08-08T06:36:14.716Z"
      },
      {
        "duration": 13,
        "start_time": "2022-08-08T06:36:14.723Z"
      },
      {
        "duration": 117,
        "start_time": "2022-08-08T06:36:14.739Z"
      },
      {
        "duration": 16,
        "start_time": "2022-08-08T06:36:14.857Z"
      },
      {
        "duration": 9,
        "start_time": "2022-08-08T06:36:14.875Z"
      },
      {
        "duration": 11,
        "start_time": "2022-08-08T06:36:14.885Z"
      },
      {
        "duration": 19,
        "start_time": "2022-08-08T06:36:14.898Z"
      },
      {
        "duration": 16,
        "start_time": "2022-08-08T06:36:14.919Z"
      },
      {
        "duration": 11,
        "start_time": "2022-08-08T06:36:14.936Z"
      },
      {
        "duration": 10,
        "start_time": "2022-08-08T06:36:14.948Z"
      },
      {
        "duration": 13,
        "start_time": "2022-08-08T06:36:14.967Z"
      },
      {
        "duration": 136,
        "start_time": "2022-08-08T06:36:14.982Z"
      },
      {
        "duration": 14,
        "start_time": "2022-08-08T06:36:19.424Z"
      },
      {
        "duration": 148,
        "start_time": "2022-08-08T06:38:05.122Z"
      },
      {
        "duration": 15,
        "start_time": "2022-08-08T06:38:57.815Z"
      },
      {
        "duration": 18,
        "start_time": "2022-08-08T06:39:17.813Z"
      },
      {
        "duration": 17,
        "start_time": "2022-08-08T06:40:03.375Z"
      },
      {
        "duration": 7,
        "start_time": "2022-08-08T06:41:09.713Z"
      },
      {
        "duration": 17,
        "start_time": "2022-08-08T06:41:25.176Z"
      },
      {
        "duration": 135,
        "start_time": "2022-08-08T06:42:55.226Z"
      },
      {
        "duration": 4,
        "start_time": "2022-08-08T06:47:31.470Z"
      },
      {
        "duration": 5,
        "start_time": "2022-08-08T06:52:23.116Z"
      },
      {
        "duration": 140,
        "start_time": "2022-08-08T06:52:38.261Z"
      },
      {
        "duration": 18,
        "start_time": "2022-08-08T06:54:43.639Z"
      },
      {
        "duration": 15,
        "start_time": "2022-08-08T06:55:39.253Z"
      },
      {
        "duration": 1993,
        "start_time": "2022-08-08T06:55:56.142Z"
      },
      {
        "duration": 41,
        "start_time": "2022-08-08T06:56:01.678Z"
      },
      {
        "duration": 17,
        "start_time": "2022-08-08T06:56:08.847Z"
      },
      {
        "duration": 92,
        "start_time": "2022-08-08T06:56:17.946Z"
      },
      {
        "duration": 16,
        "start_time": "2022-08-08T06:57:29.718Z"
      },
      {
        "duration": 14,
        "start_time": "2022-08-08T06:57:37.865Z"
      },
      {
        "duration": 25,
        "start_time": "2022-08-08T06:58:22.297Z"
      },
      {
        "duration": 5,
        "start_time": "2022-08-08T07:04:15.716Z"
      },
      {
        "duration": 12,
        "start_time": "2022-08-08T07:04:20.014Z"
      },
      {
        "duration": 436,
        "start_time": "2022-08-08T07:08:59.669Z"
      },
      {
        "duration": 392,
        "start_time": "2022-08-08T07:10:48.591Z"
      },
      {
        "duration": 431,
        "start_time": "2022-08-08T07:45:41.568Z"
      },
      {
        "duration": 444,
        "start_time": "2022-08-08T07:46:58.199Z"
      },
      {
        "duration": 446,
        "start_time": "2022-08-08T07:47:25.646Z"
      },
      {
        "duration": 585,
        "start_time": "2022-08-08T07:47:53.232Z"
      },
      {
        "duration": 100,
        "start_time": "2022-08-08T07:47:59.862Z"
      },
      {
        "duration": 455,
        "start_time": "2022-08-08T07:48:10.091Z"
      },
      {
        "duration": 479,
        "start_time": "2022-08-08T07:48:53.426Z"
      },
      {
        "duration": 186,
        "start_time": "2022-08-08T07:54:09.133Z"
      },
      {
        "duration": 145,
        "start_time": "2022-08-08T07:54:37.996Z"
      },
      {
        "duration": 161,
        "start_time": "2022-08-08T07:55:01.686Z"
      },
      {
        "duration": 90,
        "start_time": "2022-08-08T07:55:09.107Z"
      },
      {
        "duration": 116,
        "start_time": "2022-08-08T07:55:15.652Z"
      },
      {
        "duration": 14,
        "start_time": "2022-08-08T07:55:23.202Z"
      },
      {
        "duration": 6,
        "start_time": "2022-08-08T07:56:58.682Z"
      },
      {
        "duration": 298,
        "start_time": "2022-08-08T07:57:01.834Z"
      },
      {
        "duration": 117,
        "start_time": "2022-08-08T07:57:05.069Z"
      },
      {
        "duration": 95,
        "start_time": "2022-08-08T07:57:11.917Z"
      },
      {
        "duration": 6,
        "start_time": "2022-08-08T07:57:15.189Z"
      },
      {
        "duration": 76,
        "start_time": "2022-08-08T07:58:19.028Z"
      },
      {
        "duration": 7,
        "start_time": "2022-08-08T07:58:25.982Z"
      },
      {
        "duration": 4,
        "start_time": "2022-08-08T07:58:34.942Z"
      },
      {
        "duration": 209,
        "start_time": "2022-08-08T07:58:38.319Z"
      },
      {
        "duration": 102,
        "start_time": "2022-08-08T07:58:48.531Z"
      },
      {
        "duration": 106,
        "start_time": "2022-08-08T07:58:52.528Z"
      },
      {
        "duration": 5,
        "start_time": "2022-08-08T07:58:56.082Z"
      },
      {
        "duration": 10,
        "start_time": "2022-08-08T07:59:36.197Z"
      },
      {
        "duration": 6,
        "start_time": "2022-08-08T08:00:25.481Z"
      },
      {
        "duration": 117,
        "start_time": "2022-08-08T08:00:29.178Z"
      },
      {
        "duration": 10,
        "start_time": "2022-08-08T08:00:34.929Z"
      },
      {
        "duration": 15,
        "start_time": "2022-08-08T08:01:45.326Z"
      },
      {
        "duration": 5,
        "start_time": "2022-08-08T08:01:48.517Z"
      },
      {
        "duration": 5,
        "start_time": "2022-08-08T08:01:50.785Z"
      },
      {
        "duration": 12,
        "start_time": "2022-08-08T08:01:53.180Z"
      },
      {
        "duration": 16,
        "start_time": "2022-08-08T08:09:41.322Z"
      },
      {
        "duration": 141,
        "start_time": "2022-08-08T08:09:46.091Z"
      },
      {
        "duration": 123,
        "start_time": "2022-08-08T08:11:23.588Z"
      },
      {
        "duration": 130,
        "start_time": "2022-08-08T08:12:03.002Z"
      },
      {
        "duration": 11,
        "start_time": "2022-08-08T08:13:50.986Z"
      },
      {
        "duration": 192,
        "start_time": "2022-08-08T08:13:53.494Z"
      },
      {
        "duration": 4,
        "start_time": "2022-08-08T08:14:01.457Z"
      },
      {
        "duration": 520,
        "start_time": "2022-08-08T08:20:36.469Z"
      },
      {
        "duration": 259,
        "start_time": "2022-08-08T08:22:02.694Z"
      },
      {
        "duration": 150,
        "start_time": "2022-08-08T08:22:18.567Z"
      },
      {
        "duration": 5,
        "start_time": "2022-08-08T08:22:41.318Z"
      },
      {
        "duration": 271,
        "start_time": "2022-08-08T08:23:55.130Z"
      },
      {
        "duration": 134,
        "start_time": "2022-08-08T08:24:00.943Z"
      },
      {
        "duration": 137,
        "start_time": "2022-08-08T08:27:02.702Z"
      },
      {
        "duration": 8,
        "start_time": "2022-08-08T08:29:02.497Z"
      },
      {
        "duration": 141,
        "start_time": "2022-08-08T08:29:05.150Z"
      },
      {
        "duration": 1864,
        "start_time": "2022-08-08T10:57:39.290Z"
      },
      {
        "duration": 85,
        "start_time": "2022-08-08T10:57:44.954Z"
      },
      {
        "duration": 16,
        "start_time": "2022-08-08T10:57:49.898Z"
      },
      {
        "duration": 14,
        "start_time": "2022-08-08T10:57:53.932Z"
      },
      {
        "duration": 14,
        "start_time": "2022-08-08T10:57:56.833Z"
      },
      {
        "duration": 7,
        "start_time": "2022-08-08T10:57:59.570Z"
      },
      {
        "duration": 11,
        "start_time": "2022-08-08T10:58:10.291Z"
      },
      {
        "duration": 369,
        "start_time": "2022-08-08T10:58:14.493Z"
      },
      {
        "duration": 165,
        "start_time": "2022-08-08T10:58:34.901Z"
      },
      {
        "duration": 94,
        "start_time": "2022-08-08T10:58:37.806Z"
      },
      {
        "duration": 136,
        "start_time": "2022-08-08T10:58:39.627Z"
      },
      {
        "duration": 78,
        "start_time": "2022-08-08T10:58:41.430Z"
      },
      {
        "duration": 86,
        "start_time": "2022-08-08T10:58:43.358Z"
      },
      {
        "duration": 14,
        "start_time": "2022-08-08T10:58:46.658Z"
      },
      {
        "duration": 5,
        "start_time": "2022-08-08T10:58:49.726Z"
      },
      {
        "duration": 90,
        "start_time": "2022-08-08T10:58:53.446Z"
      },
      {
        "duration": 89,
        "start_time": "2022-08-08T10:58:55.666Z"
      },
      {
        "duration": 6,
        "start_time": "2022-08-08T10:59:05.977Z"
      },
      {
        "duration": 3,
        "start_time": "2022-08-08T10:59:07.824Z"
      },
      {
        "duration": 172,
        "start_time": "2022-08-08T10:59:09.869Z"
      },
      {
        "duration": 164,
        "start_time": "2022-08-08T10:59:11.778Z"
      },
      {
        "duration": 95,
        "start_time": "2022-08-08T10:59:13.894Z"
      },
      {
        "duration": 10,
        "start_time": "2022-08-08T10:59:16.330Z"
      },
      {
        "duration": 5,
        "start_time": "2022-08-08T10:59:18.491Z"
      },
      {
        "duration": 4,
        "start_time": "2022-08-08T10:59:23.306Z"
      },
      {
        "duration": 6,
        "start_time": "2022-08-08T10:59:26.022Z"
      },
      {
        "duration": 10,
        "start_time": "2022-08-08T10:59:28.294Z"
      },
      {
        "duration": 4,
        "start_time": "2022-08-08T10:59:31.842Z"
      },
      {
        "duration": 5,
        "start_time": "2022-08-08T10:59:36.082Z"
      },
      {
        "duration": 6,
        "start_time": "2022-08-08T10:59:37.569Z"
      },
      {
        "duration": 12,
        "start_time": "2022-08-08T10:59:39.785Z"
      },
      {
        "duration": 72,
        "start_time": "2022-08-08T11:01:09.520Z"
      },
      {
        "duration": 6,
        "start_time": "2022-08-08T11:01:29.128Z"
      },
      {
        "duration": 6,
        "start_time": "2022-08-08T11:02:06.434Z"
      },
      {
        "duration": 50,
        "start_time": "2022-08-08T11:02:59.449Z"
      },
      {
        "duration": 67,
        "start_time": "2022-08-08T11:04:15.398Z"
      },
      {
        "duration": 4,
        "start_time": "2022-08-08T11:04:22.126Z"
      },
      {
        "duration": 131,
        "start_time": "2022-08-08T11:04:24.526Z"
      },
      {
        "duration": 6,
        "start_time": "2022-08-08T11:04:51.358Z"
      },
      {
        "duration": 5,
        "start_time": "2022-08-08T11:04:59.170Z"
      },
      {
        "duration": 16,
        "start_time": "2022-08-08T11:18:56.855Z"
      },
      {
        "duration": 3,
        "start_time": "2022-08-08T11:19:56.549Z"
      },
      {
        "duration": 130,
        "start_time": "2022-08-08T11:20:23.414Z"
      },
      {
        "duration": 1626,
        "start_time": "2022-08-08T11:20:41.251Z"
      },
      {
        "duration": 36,
        "start_time": "2022-08-08T11:20:42.879Z"
      },
      {
        "duration": 80,
        "start_time": "2022-08-08T11:20:42.916Z"
      },
      {
        "duration": 14,
        "start_time": "2022-08-08T11:20:42.999Z"
      },
      {
        "duration": 10,
        "start_time": "2022-08-08T11:20:43.014Z"
      },
      {
        "duration": 43,
        "start_time": "2022-08-08T11:20:43.025Z"
      },
      {
        "duration": 3,
        "start_time": "2022-08-08T11:20:43.070Z"
      },
      {
        "duration": 12,
        "start_time": "2022-08-08T11:20:43.075Z"
      },
      {
        "duration": 391,
        "start_time": "2022-08-08T11:20:43.088Z"
      },
      {
        "duration": 171,
        "start_time": "2022-08-08T11:20:43.482Z"
      },
      {
        "duration": 100,
        "start_time": "2022-08-08T11:20:43.658Z"
      },
      {
        "duration": 155,
        "start_time": "2022-08-08T11:20:43.760Z"
      },
      {
        "duration": 87,
        "start_time": "2022-08-08T11:20:43.917Z"
      },
      {
        "duration": 100,
        "start_time": "2022-08-08T11:20:44.006Z"
      },
      {
        "duration": 12,
        "start_time": "2022-08-08T11:20:44.108Z"
      },
      {
        "duration": 17,
        "start_time": "2022-08-08T11:20:44.121Z"
      },
      {
        "duration": 174,
        "start_time": "2022-08-08T11:20:44.140Z"
      },
      {
        "duration": 105,
        "start_time": "2022-08-08T11:20:44.316Z"
      },
      {
        "duration": 93,
        "start_time": "2022-08-08T11:20:44.423Z"
      },
      {
        "duration": 5,
        "start_time": "2022-08-08T11:20:44.517Z"
      },
      {
        "duration": 8,
        "start_time": "2022-08-08T11:20:44.524Z"
      },
      {
        "duration": 192,
        "start_time": "2022-08-08T11:20:44.534Z"
      },
      {
        "duration": 174,
        "start_time": "2022-08-08T11:20:44.728Z"
      },
      {
        "duration": 114,
        "start_time": "2022-08-08T11:20:44.904Z"
      },
      {
        "duration": 10,
        "start_time": "2022-08-08T11:20:45.020Z"
      },
      {
        "duration": 20,
        "start_time": "2022-08-08T11:20:45.031Z"
      },
      {
        "duration": 14,
        "start_time": "2022-08-08T11:20:45.052Z"
      },
      {
        "duration": 109,
        "start_time": "2022-08-08T11:20:45.069Z"
      },
      {
        "duration": 9,
        "start_time": "2022-08-08T11:20:45.181Z"
      },
      {
        "duration": 18,
        "start_time": "2022-08-08T11:20:45.192Z"
      },
      {
        "duration": 22,
        "start_time": "2022-08-08T11:20:45.212Z"
      },
      {
        "duration": 16,
        "start_time": "2022-08-08T11:20:45.236Z"
      },
      {
        "duration": 11,
        "start_time": "2022-08-08T11:20:45.254Z"
      },
      {
        "duration": 23,
        "start_time": "2022-08-08T11:20:45.267Z"
      },
      {
        "duration": 124,
        "start_time": "2022-08-08T11:20:45.292Z"
      },
      {
        "duration": 6,
        "start_time": "2022-08-08T11:20:45.418Z"
      },
      {
        "duration": 123,
        "start_time": "2022-08-08T11:20:45.425Z"
      },
      {
        "duration": 10,
        "start_time": "2022-08-08T11:20:45.549Z"
      },
      {
        "duration": 17,
        "start_time": "2022-08-08T11:20:50.100Z"
      },
      {
        "duration": 127,
        "start_time": "2022-08-08T11:22:52.786Z"
      },
      {
        "duration": 1600,
        "start_time": "2022-08-08T11:23:11.091Z"
      },
      {
        "duration": 37,
        "start_time": "2022-08-08T11:23:12.693Z"
      },
      {
        "duration": 82,
        "start_time": "2022-08-08T11:23:12.732Z"
      },
      {
        "duration": 19,
        "start_time": "2022-08-08T11:23:12.816Z"
      },
      {
        "duration": 8,
        "start_time": "2022-08-08T11:23:12.838Z"
      },
      {
        "duration": 31,
        "start_time": "2022-08-08T11:23:12.848Z"
      },
      {
        "duration": 3,
        "start_time": "2022-08-08T11:23:12.881Z"
      },
      {
        "duration": 13,
        "start_time": "2022-08-08T11:23:12.886Z"
      },
      {
        "duration": 418,
        "start_time": "2022-08-08T11:23:12.900Z"
      },
      {
        "duration": 179,
        "start_time": "2022-08-08T11:23:13.319Z"
      },
      {
        "duration": 107,
        "start_time": "2022-08-08T11:23:13.500Z"
      },
      {
        "duration": 154,
        "start_time": "2022-08-08T11:23:13.609Z"
      },
      {
        "duration": 94,
        "start_time": "2022-08-08T11:23:13.765Z"
      },
      {
        "duration": 111,
        "start_time": "2022-08-08T11:23:13.862Z"
      },
      {
        "duration": 12,
        "start_time": "2022-08-08T11:23:13.975Z"
      },
      {
        "duration": 5,
        "start_time": "2022-08-08T11:23:13.989Z"
      },
      {
        "duration": 175,
        "start_time": "2022-08-08T11:23:13.995Z"
      },
      {
        "duration": 110,
        "start_time": "2022-08-08T11:23:14.171Z"
      },
      {
        "duration": 88,
        "start_time": "2022-08-08T11:23:14.282Z"
      },
      {
        "duration": 5,
        "start_time": "2022-08-08T11:23:14.372Z"
      },
      {
        "duration": 6,
        "start_time": "2022-08-08T11:23:14.379Z"
      },
      {
        "duration": 195,
        "start_time": "2022-08-08T11:23:14.386Z"
      },
      {
        "duration": 183,
        "start_time": "2022-08-08T11:23:14.583Z"
      },
      {
        "duration": 102,
        "start_time": "2022-08-08T11:23:14.768Z"
      },
      {
        "duration": 9,
        "start_time": "2022-08-08T11:23:14.872Z"
      },
      {
        "duration": 8,
        "start_time": "2022-08-08T11:23:14.882Z"
      },
      {
        "duration": 9,
        "start_time": "2022-08-08T11:23:14.891Z"
      },
      {
        "duration": 107,
        "start_time": "2022-08-08T11:23:14.902Z"
      },
      {
        "duration": 8,
        "start_time": "2022-08-08T11:23:15.011Z"
      },
      {
        "duration": 20,
        "start_time": "2022-08-08T11:23:15.021Z"
      },
      {
        "duration": 15,
        "start_time": "2022-08-08T11:23:15.043Z"
      },
      {
        "duration": 6,
        "start_time": "2022-08-08T11:23:15.060Z"
      },
      {
        "duration": 18,
        "start_time": "2022-08-08T11:23:15.067Z"
      },
      {
        "duration": 13,
        "start_time": "2022-08-08T11:23:15.087Z"
      },
      {
        "duration": 118,
        "start_time": "2022-08-08T11:23:15.101Z"
      },
      {
        "duration": 6,
        "start_time": "2022-08-08T11:23:15.221Z"
      },
      {
        "duration": 163,
        "start_time": "2022-08-08T11:23:15.229Z"
      },
      {
        "duration": 5,
        "start_time": "2022-08-08T11:23:15.394Z"
      },
      {
        "duration": 13,
        "start_time": "2022-08-08T11:23:15.401Z"
      },
      {
        "duration": 127,
        "start_time": "2022-08-08T11:23:21.812Z"
      },
      {
        "duration": 13,
        "start_time": "2022-08-08T11:24:10.149Z"
      },
      {
        "duration": 1631,
        "start_time": "2022-08-08T11:24:48.285Z"
      },
      {
        "duration": 37,
        "start_time": "2022-08-08T11:24:49.918Z"
      },
      {
        "duration": 78,
        "start_time": "2022-08-08T11:24:49.956Z"
      },
      {
        "duration": 24,
        "start_time": "2022-08-08T11:24:50.035Z"
      },
      {
        "duration": 29,
        "start_time": "2022-08-08T11:24:50.061Z"
      },
      {
        "duration": 38,
        "start_time": "2022-08-08T11:24:50.094Z"
      },
      {
        "duration": 3,
        "start_time": "2022-08-08T11:24:50.134Z"
      },
      {
        "duration": 26,
        "start_time": "2022-08-08T11:24:50.138Z"
      },
      {
        "duration": 386,
        "start_time": "2022-08-08T11:24:50.166Z"
      },
      {
        "duration": 168,
        "start_time": "2022-08-08T11:24:50.557Z"
      },
      {
        "duration": 98,
        "start_time": "2022-08-08T11:24:50.727Z"
      },
      {
        "duration": 152,
        "start_time": "2022-08-08T11:24:50.827Z"
      },
      {
        "duration": 90,
        "start_time": "2022-08-08T11:24:50.980Z"
      },
      {
        "duration": 105,
        "start_time": "2022-08-08T11:24:51.073Z"
      },
      {
        "duration": 13,
        "start_time": "2022-08-08T11:24:51.179Z"
      },
      {
        "duration": 13,
        "start_time": "2022-08-08T11:24:51.193Z"
      },
      {
        "duration": 175,
        "start_time": "2022-08-08T11:24:51.208Z"
      },
      {
        "duration": 100,
        "start_time": "2022-08-08T11:24:51.384Z"
      },
      {
        "duration": 93,
        "start_time": "2022-08-08T11:24:51.485Z"
      },
      {
        "duration": 5,
        "start_time": "2022-08-08T11:24:51.579Z"
      },
      {
        "duration": 11,
        "start_time": "2022-08-08T11:24:51.585Z"
      },
      {
        "duration": 190,
        "start_time": "2022-08-08T11:24:51.597Z"
      },
      {
        "duration": 188,
        "start_time": "2022-08-08T11:24:51.789Z"
      },
      {
        "duration": 113,
        "start_time": "2022-08-08T11:24:51.978Z"
      },
      {
        "duration": 10,
        "start_time": "2022-08-08T11:24:52.093Z"
      },
      {
        "duration": 13,
        "start_time": "2022-08-08T11:24:52.104Z"
      },
      {
        "duration": 14,
        "start_time": "2022-08-08T11:24:52.119Z"
      },
      {
        "duration": 101,
        "start_time": "2022-08-08T11:24:52.134Z"
      },
      {
        "duration": 7,
        "start_time": "2022-08-08T11:24:52.237Z"
      },
      {
        "duration": 13,
        "start_time": "2022-08-08T11:24:52.258Z"
      },
      {
        "duration": 8,
        "start_time": "2022-08-08T11:24:52.273Z"
      },
      {
        "duration": 9,
        "start_time": "2022-08-08T11:24:52.283Z"
      },
      {
        "duration": 8,
        "start_time": "2022-08-08T11:24:52.293Z"
      },
      {
        "duration": 19,
        "start_time": "2022-08-08T11:24:52.302Z"
      },
      {
        "duration": 119,
        "start_time": "2022-08-08T11:24:52.323Z"
      },
      {
        "duration": 14,
        "start_time": "2022-08-08T11:24:52.443Z"
      },
      {
        "duration": 131,
        "start_time": "2022-08-08T11:24:52.459Z"
      },
      {
        "duration": 6,
        "start_time": "2022-08-08T11:24:52.591Z"
      },
      {
        "duration": 16,
        "start_time": "2022-08-08T11:25:04.358Z"
      },
      {
        "duration": 9,
        "start_time": "2022-08-08T11:25:15.519Z"
      },
      {
        "duration": 51,
        "start_time": "2022-08-08T11:31:51.047Z"
      },
      {
        "duration": 3,
        "start_time": "2022-08-08T11:33:03.372Z"
      },
      {
        "duration": 13,
        "start_time": "2022-08-08T11:33:05.777Z"
      },
      {
        "duration": 3,
        "start_time": "2022-08-08T11:33:10.034Z"
      },
      {
        "duration": 19,
        "start_time": "2022-08-08T11:33:11.922Z"
      },
      {
        "duration": 58,
        "start_time": "2022-08-08T11:36:59.315Z"
      },
      {
        "duration": 4,
        "start_time": "2022-08-08T11:37:51.721Z"
      },
      {
        "duration": 18,
        "start_time": "2022-08-08T11:37:54.112Z"
      },
      {
        "duration": 22,
        "start_time": "2022-08-08T11:38:07.951Z"
      },
      {
        "duration": 16,
        "start_time": "2022-08-08T11:38:19.168Z"
      },
      {
        "duration": 1997,
        "start_time": "2022-08-08T13:02:11.937Z"
      },
      {
        "duration": 89,
        "start_time": "2022-08-08T13:02:13.937Z"
      },
      {
        "duration": 87,
        "start_time": "2022-08-08T13:02:14.028Z"
      },
      {
        "duration": 15,
        "start_time": "2022-08-08T13:02:14.117Z"
      },
      {
        "duration": 6,
        "start_time": "2022-08-08T13:02:14.135Z"
      },
      {
        "duration": 27,
        "start_time": "2022-08-08T13:02:14.142Z"
      },
      {
        "duration": 5,
        "start_time": "2022-08-08T13:02:14.202Z"
      },
      {
        "duration": 13,
        "start_time": "2022-08-08T13:02:14.208Z"
      },
      {
        "duration": 444,
        "start_time": "2022-08-08T13:02:14.223Z"
      },
      {
        "duration": 192,
        "start_time": "2022-08-08T13:02:14.668Z"
      },
      {
        "duration": 105,
        "start_time": "2022-08-08T13:02:14.862Z"
      },
      {
        "duration": 171,
        "start_time": "2022-08-08T13:02:14.969Z"
      },
      {
        "duration": 105,
        "start_time": "2022-08-08T13:02:15.142Z"
      },
      {
        "duration": 117,
        "start_time": "2022-08-08T13:02:15.251Z"
      },
      {
        "duration": 14,
        "start_time": "2022-08-08T13:02:15.370Z"
      },
      {
        "duration": 18,
        "start_time": "2022-08-08T13:02:15.385Z"
      },
      {
        "duration": 202,
        "start_time": "2022-08-08T13:02:15.405Z"
      },
      {
        "duration": 124,
        "start_time": "2022-08-08T13:02:15.609Z"
      },
      {
        "duration": 110,
        "start_time": "2022-08-08T13:02:15.734Z"
      },
      {
        "duration": 5,
        "start_time": "2022-08-08T13:02:15.846Z"
      },
      {
        "duration": 43,
        "start_time": "2022-08-08T13:02:15.852Z"
      },
      {
        "duration": 228,
        "start_time": "2022-08-08T13:02:15.897Z"
      },
      {
        "duration": 207,
        "start_time": "2022-08-08T13:02:16.127Z"
      },
      {
        "duration": 116,
        "start_time": "2022-08-08T13:02:16.337Z"
      },
      {
        "duration": 11,
        "start_time": "2022-08-08T13:02:16.455Z"
      },
      {
        "duration": 18,
        "start_time": "2022-08-08T13:02:16.467Z"
      },
      {
        "duration": 13,
        "start_time": "2022-08-08T13:02:16.487Z"
      },
      {
        "duration": 118,
        "start_time": "2022-08-08T13:02:16.501Z"
      },
      {
        "duration": 8,
        "start_time": "2022-08-08T13:02:16.621Z"
      },
      {
        "duration": 25,
        "start_time": "2022-08-08T13:02:16.630Z"
      },
      {
        "duration": 20,
        "start_time": "2022-08-08T13:02:16.657Z"
      },
      {
        "duration": 13,
        "start_time": "2022-08-08T13:02:16.679Z"
      },
      {
        "duration": 27,
        "start_time": "2022-08-08T13:02:16.694Z"
      },
      {
        "duration": 24,
        "start_time": "2022-08-08T13:02:16.723Z"
      },
      {
        "duration": 118,
        "start_time": "2022-08-08T13:02:16.749Z"
      },
      {
        "duration": 7,
        "start_time": "2022-08-08T13:02:16.869Z"
      },
      {
        "duration": 165,
        "start_time": "2022-08-08T13:02:16.877Z"
      },
      {
        "duration": 5,
        "start_time": "2022-08-08T13:02:17.044Z"
      },
      {
        "duration": 34,
        "start_time": "2022-08-08T13:02:17.051Z"
      },
      {
        "duration": 32,
        "start_time": "2022-08-08T13:02:17.088Z"
      },
      {
        "duration": 23,
        "start_time": "2022-08-08T13:02:17.124Z"
      },
      {
        "duration": 36,
        "start_time": "2022-08-08T13:02:17.148Z"
      },
      {
        "duration": 24,
        "start_time": "2022-08-08T13:02:17.186Z"
      },
      {
        "duration": 42,
        "start_time": "2022-08-08T13:02:17.212Z"
      },
      {
        "duration": 34,
        "start_time": "2022-08-08T13:02:17.256Z"
      },
      {
        "duration": 56,
        "start_time": "2022-08-08T13:02:17.292Z"
      },
      {
        "duration": 41,
        "start_time": "2022-08-08T13:02:17.350Z"
      },
      {
        "duration": 39950,
        "start_time": "2022-08-08T13:03:22.683Z"
      },
      {
        "duration": 4022,
        "start_time": "2022-08-08T13:05:39.081Z"
      },
      {
        "duration": 4062,
        "start_time": "2022-08-08T13:05:53.125Z"
      },
      {
        "duration": 20381,
        "start_time": "2022-08-08T13:06:09.848Z"
      },
      {
        "duration": 20706,
        "start_time": "2022-08-08T13:06:42.122Z"
      },
      {
        "duration": 21254,
        "start_time": "2022-08-08T13:07:08.421Z"
      },
      {
        "duration": 21465,
        "start_time": "2022-08-08T13:07:56.873Z"
      },
      {
        "duration": 20935,
        "start_time": "2022-08-08T13:08:39.870Z"
      },
      {
        "duration": 61,
        "start_time": "2022-08-08T13:09:26.005Z"
      },
      {
        "duration": 0,
        "start_time": "2022-08-08T13:10:07.558Z"
      },
      {
        "duration": 80,
        "start_time": "2022-08-08T13:10:20.778Z"
      },
      {
        "duration": 21193,
        "start_time": "2022-08-08T13:16:09.753Z"
      },
      {
        "duration": 21719,
        "start_time": "2022-08-08T13:18:59.929Z"
      },
      {
        "duration": 20943,
        "start_time": "2022-08-08T13:19:44.523Z"
      },
      {
        "duration": 21200,
        "start_time": "2022-08-08T13:20:05.995Z"
      },
      {
        "duration": 21181,
        "start_time": "2022-08-08T13:20:28.331Z"
      },
      {
        "duration": 22663,
        "start_time": "2022-08-08T13:20:58.673Z"
      },
      {
        "duration": 21930,
        "start_time": "2022-08-08T13:21:26.784Z"
      },
      {
        "duration": 50,
        "start_time": "2022-08-08T13:31:18.041Z"
      },
      {
        "duration": 22104,
        "start_time": "2022-08-08T13:31:55.362Z"
      },
      {
        "duration": 21870,
        "start_time": "2022-08-08T13:32:40.318Z"
      },
      {
        "duration": 62,
        "start_time": "2022-08-08T13:35:40.120Z"
      },
      {
        "duration": 8,
        "start_time": "2022-08-08T13:36:01.787Z"
      },
      {
        "duration": 20623,
        "start_time": "2022-08-08T13:36:33.311Z"
      },
      {
        "duration": 8,
        "start_time": "2022-08-08T13:40:33.605Z"
      },
      {
        "duration": 21710,
        "start_time": "2022-08-08T13:40:56.329Z"
      },
      {
        "duration": 20753,
        "start_time": "2022-08-08T13:41:40.913Z"
      },
      {
        "duration": 20862,
        "start_time": "2022-08-08T13:44:19.016Z"
      },
      {
        "duration": 4,
        "start_time": "2022-08-08T13:44:48.574Z"
      },
      {
        "duration": 20974,
        "start_time": "2022-08-08T13:46:10.662Z"
      },
      {
        "duration": 20916,
        "start_time": "2022-08-08T13:47:12.546Z"
      },
      {
        "duration": 8,
        "start_time": "2022-08-08T13:47:48.431Z"
      },
      {
        "duration": 21334,
        "start_time": "2022-08-08T13:48:20.678Z"
      },
      {
        "duration": 20760,
        "start_time": "2022-08-08T13:49:43.920Z"
      },
      {
        "duration": 9,
        "start_time": "2022-08-08T13:50:19.683Z"
      },
      {
        "duration": 21085,
        "start_time": "2022-08-08T13:50:24.605Z"
      },
      {
        "duration": 7,
        "start_time": "2022-08-08T13:51:18.069Z"
      },
      {
        "duration": 21207,
        "start_time": "2022-08-08T13:51:25.338Z"
      },
      {
        "duration": 21097,
        "start_time": "2022-08-08T13:51:58.810Z"
      },
      {
        "duration": 11,
        "start_time": "2022-08-08T13:52:39.051Z"
      },
      {
        "duration": 21025,
        "start_time": "2022-08-08T13:52:42.613Z"
      },
      {
        "duration": 9,
        "start_time": "2022-08-08T13:54:01.756Z"
      },
      {
        "duration": 21,
        "start_time": "2022-08-08T13:54:06.869Z"
      },
      {
        "duration": 21,
        "start_time": "2022-08-08T13:54:10.914Z"
      },
      {
        "duration": 9,
        "start_time": "2022-08-08T13:54:30.165Z"
      },
      {
        "duration": 22,
        "start_time": "2022-08-08T13:54:36.598Z"
      },
      {
        "duration": 1906,
        "start_time": "2022-08-08T13:55:01.603Z"
      },
      {
        "duration": 41,
        "start_time": "2022-08-08T13:55:03.511Z"
      },
      {
        "duration": 98,
        "start_time": "2022-08-08T13:55:03.554Z"
      },
      {
        "duration": 17,
        "start_time": "2022-08-08T13:55:03.656Z"
      },
      {
        "duration": 13,
        "start_time": "2022-08-08T13:55:03.675Z"
      },
      {
        "duration": 39,
        "start_time": "2022-08-08T13:55:03.689Z"
      },
      {
        "duration": 3,
        "start_time": "2022-08-08T13:55:03.730Z"
      },
      {
        "duration": 15,
        "start_time": "2022-08-08T13:55:03.735Z"
      },
      {
        "duration": 441,
        "start_time": "2022-08-08T13:55:03.752Z"
      },
      {
        "duration": 194,
        "start_time": "2022-08-08T13:55:04.195Z"
      },
      {
        "duration": 124,
        "start_time": "2022-08-08T13:55:04.391Z"
      },
      {
        "duration": 172,
        "start_time": "2022-08-08T13:55:04.516Z"
      },
      {
        "duration": 92,
        "start_time": "2022-08-08T13:55:04.689Z"
      },
      {
        "duration": 111,
        "start_time": "2022-08-08T13:55:04.783Z"
      },
      {
        "duration": 14,
        "start_time": "2022-08-08T13:55:04.903Z"
      },
      {
        "duration": 5,
        "start_time": "2022-08-08T13:55:04.918Z"
      },
      {
        "duration": 215,
        "start_time": "2022-08-08T13:55:04.926Z"
      },
      {
        "duration": 122,
        "start_time": "2022-08-08T13:55:05.143Z"
      },
      {
        "duration": 118,
        "start_time": "2022-08-08T13:55:05.267Z"
      },
      {
        "duration": 6,
        "start_time": "2022-08-08T13:55:05.387Z"
      },
      {
        "duration": 9,
        "start_time": "2022-08-08T13:55:05.404Z"
      },
      {
        "duration": 233,
        "start_time": "2022-08-08T13:55:05.414Z"
      },
      {
        "duration": 211,
        "start_time": "2022-08-08T13:55:05.649Z"
      },
      {
        "duration": 129,
        "start_time": "2022-08-08T13:55:05.862Z"
      },
      {
        "duration": 19,
        "start_time": "2022-08-08T13:55:05.993Z"
      },
      {
        "duration": 9,
        "start_time": "2022-08-08T13:55:06.014Z"
      },
      {
        "duration": 6,
        "start_time": "2022-08-08T13:55:06.025Z"
      },
      {
        "duration": 132,
        "start_time": "2022-08-08T13:55:06.035Z"
      },
      {
        "duration": 8,
        "start_time": "2022-08-08T13:55:06.169Z"
      },
      {
        "duration": 26,
        "start_time": "2022-08-08T13:55:06.180Z"
      },
      {
        "duration": 8,
        "start_time": "2022-08-08T13:55:06.208Z"
      },
      {
        "duration": 7,
        "start_time": "2022-08-08T13:55:06.218Z"
      },
      {
        "duration": 10,
        "start_time": "2022-08-08T13:55:06.226Z"
      },
      {
        "duration": 13,
        "start_time": "2022-08-08T13:55:06.237Z"
      },
      {
        "duration": 151,
        "start_time": "2022-08-08T13:55:06.252Z"
      },
      {
        "duration": 7,
        "start_time": "2022-08-08T13:55:06.405Z"
      },
      {
        "duration": 151,
        "start_time": "2022-08-08T13:55:06.414Z"
      },
      {
        "duration": 6,
        "start_time": "2022-08-08T13:55:06.567Z"
      },
      {
        "duration": 33,
        "start_time": "2022-08-08T13:55:06.575Z"
      },
      {
        "duration": 9,
        "start_time": "2022-08-08T13:55:06.610Z"
      },
      {
        "duration": 6,
        "start_time": "2022-08-08T13:55:06.621Z"
      },
      {
        "duration": 17,
        "start_time": "2022-08-08T13:55:06.629Z"
      },
      {
        "duration": 4,
        "start_time": "2022-08-08T13:55:06.648Z"
      },
      {
        "duration": 27,
        "start_time": "2022-08-08T13:55:06.653Z"
      },
      {
        "duration": 23,
        "start_time": "2022-08-08T13:55:06.681Z"
      },
      {
        "duration": 25,
        "start_time": "2022-08-08T13:55:06.706Z"
      },
      {
        "duration": 18,
        "start_time": "2022-08-08T13:55:06.733Z"
      },
      {
        "duration": 21654,
        "start_time": "2022-08-08T13:55:06.753Z"
      },
      {
        "duration": 8,
        "start_time": "2022-08-08T13:55:28.410Z"
      },
      {
        "duration": 158,
        "start_time": "2022-08-08T13:55:28.420Z"
      },
      {
        "duration": 13,
        "start_time": "2022-08-08T13:55:41.320Z"
      },
      {
        "duration": 20579,
        "start_time": "2022-08-08T13:55:46.925Z"
      },
      {
        "duration": 22130,
        "start_time": "2022-08-08T13:57:07.326Z"
      },
      {
        "duration": 6,
        "start_time": "2022-08-08T13:58:38.416Z"
      },
      {
        "duration": 9,
        "start_time": "2022-08-08T13:58:46.729Z"
      },
      {
        "duration": 12,
        "start_time": "2022-08-08T14:03:42.527Z"
      },
      {
        "duration": 74303,
        "start_time": "2022-08-08T14:03:55.736Z"
      },
      {
        "duration": 33842,
        "start_time": "2022-08-08T14:05:16.973Z"
      },
      {
        "duration": 21111,
        "start_time": "2022-08-08T14:06:13.022Z"
      },
      {
        "duration": 74,
        "start_time": "2022-08-08T14:07:18.926Z"
      },
      {
        "duration": 82377,
        "start_time": "2022-08-08T14:07:31.321Z"
      },
      {
        "duration": 154686,
        "start_time": "2022-08-08T14:10:30.617Z"
      },
      {
        "duration": 394708,
        "start_time": "2022-08-08T14:13:33.312Z"
      },
      {
        "duration": 10059,
        "start_time": "2022-08-08T14:20:11.653Z"
      },
      {
        "duration": 21980,
        "start_time": "2022-08-08T14:20:24.213Z"
      },
      {
        "duration": 22150,
        "start_time": "2022-08-08T14:21:30.566Z"
      },
      {
        "duration": 21919,
        "start_time": "2022-08-08T14:21:52.929Z"
      },
      {
        "duration": 21965,
        "start_time": "2022-08-08T14:23:17.655Z"
      },
      {
        "duration": 22018,
        "start_time": "2022-08-08T14:23:54.715Z"
      },
      {
        "duration": 22529,
        "start_time": "2022-08-08T14:29:19.289Z"
      },
      {
        "duration": 22548,
        "start_time": "2022-08-08T14:30:36.481Z"
      },
      {
        "duration": 22714,
        "start_time": "2022-08-08T14:30:59.891Z"
      },
      {
        "duration": 22185,
        "start_time": "2022-08-08T14:37:15.000Z"
      },
      {
        "duration": 9030,
        "start_time": "2022-08-08T14:38:23.177Z"
      },
      {
        "duration": 8759,
        "start_time": "2022-08-08T14:38:50.398Z"
      },
      {
        "duration": 22891,
        "start_time": "2022-08-08T14:39:01.443Z"
      },
      {
        "duration": 9010,
        "start_time": "2022-08-08T14:39:46.589Z"
      },
      {
        "duration": 10,
        "start_time": "2022-08-08T14:41:47.126Z"
      },
      {
        "duration": 77447,
        "start_time": "2022-08-08T14:41:52.810Z"
      },
      {
        "duration": 34531,
        "start_time": "2022-08-08T14:43:11.686Z"
      },
      {
        "duration": 29093,
        "start_time": "2022-08-08T14:43:48.828Z"
      },
      {
        "duration": 0,
        "start_time": "2022-08-08T14:44:17.923Z"
      },
      {
        "duration": 7573,
        "start_time": "2022-08-08T14:44:19.384Z"
      },
      {
        "duration": 9,
        "start_time": "2022-08-08T14:44:33.836Z"
      },
      {
        "duration": 141934,
        "start_time": "2022-08-08T14:44:39.590Z"
      },
      {
        "duration": 81199,
        "start_time": "2022-08-08T14:47:11.128Z"
      },
      {
        "duration": 43895,
        "start_time": "2022-08-08T14:48:35.692Z"
      },
      {
        "duration": 51313,
        "start_time": "2022-08-08T14:49:21.184Z"
      },
      {
        "duration": 332545,
        "start_time": "2022-08-08T14:50:14.824Z"
      },
      {
        "duration": 4,
        "start_time": "2022-08-08T14:56:05.721Z"
      },
      {
        "duration": 3,
        "start_time": "2022-08-08T14:56:12.037Z"
      },
      {
        "duration": 90516,
        "start_time": "2022-08-08T14:56:49.133Z"
      },
      {
        "duration": 1222530,
        "start_time": "2022-08-08T14:58:21.167Z"
      },
      {
        "duration": 12725802,
        "start_time": "2022-08-08T15:21:20.916Z"
      },
      {
        "duration": 1980,
        "start_time": "2022-08-10T18:55:45.885Z"
      },
      {
        "duration": 87,
        "start_time": "2022-08-10T18:55:50.907Z"
      },
      {
        "duration": 14,
        "start_time": "2022-08-10T18:55:54.361Z"
      },
      {
        "duration": 79,
        "start_time": "2022-08-10T18:55:59.149Z"
      },
      {
        "duration": 6,
        "start_time": "2022-08-10T18:56:01.930Z"
      },
      {
        "duration": 24,
        "start_time": "2022-08-10T18:56:05.240Z"
      },
      {
        "duration": 4,
        "start_time": "2022-08-10T18:56:08.509Z"
      },
      {
        "duration": 10,
        "start_time": "2022-08-10T18:56:10.516Z"
      },
      {
        "duration": 395,
        "start_time": "2022-08-10T18:56:17.378Z"
      },
      {
        "duration": 166,
        "start_time": "2022-08-10T18:56:23.905Z"
      },
      {
        "duration": 87,
        "start_time": "2022-08-10T18:56:25.648Z"
      },
      {
        "duration": 153,
        "start_time": "2022-08-10T18:56:27.524Z"
      },
      {
        "duration": 74,
        "start_time": "2022-08-10T18:56:29.146Z"
      },
      {
        "duration": 92,
        "start_time": "2022-08-10T18:56:30.983Z"
      },
      {
        "duration": 12,
        "start_time": "2022-08-10T18:56:33.202Z"
      },
      {
        "duration": 7,
        "start_time": "2022-08-10T18:56:36.005Z"
      },
      {
        "duration": 197,
        "start_time": "2022-08-10T18:56:37.466Z"
      },
      {
        "duration": 89,
        "start_time": "2022-08-10T18:56:39.191Z"
      },
      {
        "duration": 75,
        "start_time": "2022-08-10T18:56:41.045Z"
      },
      {
        "duration": 5,
        "start_time": "2022-08-10T18:56:43.514Z"
      },
      {
        "duration": 3,
        "start_time": "2022-08-10T18:56:45.779Z"
      },
      {
        "duration": 198,
        "start_time": "2022-08-10T18:56:47.478Z"
      },
      {
        "duration": 165,
        "start_time": "2022-08-10T18:56:49.681Z"
      },
      {
        "duration": 90,
        "start_time": "2022-08-10T18:56:51.826Z"
      },
      {
        "duration": 8,
        "start_time": "2022-08-10T18:56:54.705Z"
      },
      {
        "duration": 4,
        "start_time": "2022-08-10T18:56:56.913Z"
      },
      {
        "duration": 3,
        "start_time": "2022-08-10T18:56:59.022Z"
      },
      {
        "duration": 93,
        "start_time": "2022-08-10T18:57:00.550Z"
      },
      {
        "duration": 7,
        "start_time": "2022-08-10T18:57:02.955Z"
      },
      {
        "duration": 9,
        "start_time": "2022-08-10T18:57:05.275Z"
      },
      {
        "duration": 5,
        "start_time": "2022-08-10T18:57:07.584Z"
      },
      {
        "duration": 5,
        "start_time": "2022-08-10T18:57:09.883Z"
      },
      {
        "duration": 12,
        "start_time": "2022-08-10T18:57:12.886Z"
      },
      {
        "duration": 7,
        "start_time": "2022-08-10T18:57:16.867Z"
      },
      {
        "duration": 5,
        "start_time": "2022-08-10T18:57:19.963Z"
      },
      {
        "duration": 16,
        "start_time": "2022-08-10T18:57:25.572Z"
      },
      {
        "duration": 9,
        "start_time": "2022-08-10T18:57:29.567Z"
      },
      {
        "duration": 3,
        "start_time": "2022-08-10T18:57:32.383Z"
      },
      {
        "duration": 12,
        "start_time": "2022-08-10T18:57:34.267Z"
      },
      {
        "duration": 3,
        "start_time": "2022-08-10T18:57:36.915Z"
      },
      {
        "duration": 18,
        "start_time": "2022-08-10T18:57:38.682Z"
      },
      {
        "duration": 3,
        "start_time": "2022-08-10T18:57:41.612Z"
      },
      {
        "duration": 18,
        "start_time": "2022-08-10T18:57:43.597Z"
      },
      {
        "duration": 16,
        "start_time": "2022-08-10T18:57:45.730Z"
      },
      {
        "duration": 11137,
        "start_time": "2022-08-10T18:58:05.454Z"
      },
      {
        "duration": 13559,
        "start_time": "2022-08-10T18:58:30.220Z"
      },
      {
        "duration": 9553,
        "start_time": "2022-08-10T18:59:16.286Z"
      },
      {
        "duration": 5962,
        "start_time": "2022-08-10T18:59:42.538Z"
      },
      {
        "duration": 10726,
        "start_time": "2022-08-10T19:01:01.929Z"
      },
      {
        "duration": 9368,
        "start_time": "2022-08-10T19:04:34.093Z"
      },
      {
        "duration": 1896,
        "start_time": "2022-08-11T14:08:35.889Z"
      },
      {
        "duration": 4,
        "start_time": "2022-08-11T14:10:06.329Z"
      },
      {
        "duration": 37,
        "start_time": "2022-08-11T14:10:08.730Z"
      },
      {
        "duration": 199,
        "start_time": "2022-08-11T14:10:45.206Z"
      },
      {
        "duration": 1964,
        "start_time": "2024-11-28T12:09:24.843Z"
      },
      {
        "duration": 66,
        "start_time": "2024-11-28T12:09:32.138Z"
      }
    ],
    "kernelspec": {
      "display_name": "Python 3 (ipykernel)",
      "language": "python",
      "name": "python3"
    },
    "language_info": {
      "codemirror_mode": {
        "name": "ipython",
        "version": 3
      },
      "file_extension": ".py",
      "mimetype": "text/x-python",
      "name": "python",
      "nbconvert_exporter": "python",
      "pygments_lexer": "ipython3",
      "version": "3.9.5"
    },
    "toc": {
      "base_numbering": 1,
      "nav_menu": {},
      "number_sections": false,
      "sideBar": true,
      "skip_h1_title": false,
      "title_cell": "Table of Contents",
      "title_sidebar": "Contents",
      "toc_cell": false,
      "toc_position": {
        "height": "calc(100% - 180px)",
        "left": "10px",
        "top": "150px",
        "width": "427px"
      },
      "toc_section_display": true,
      "toc_window_display": true
    },
    "varInspector": {
      "cols": {
        "lenName": 16,
        "lenType": 16,
        "lenVar": 40
      },
      "kernels_config": {
        "python": {
          "delete_cmd_postfix": "",
          "delete_cmd_prefix": "del ",
          "library": "var_list.py",
          "varRefreshCmd": "print(var_dic_list())"
        },
        "r": {
          "delete_cmd_postfix": ") ",
          "delete_cmd_prefix": "rm(",
          "library": "var_list.r",
          "varRefreshCmd": "cat(var_dic_list()) "
        }
      },
      "types_to_exclude": [
        "module",
        "function",
        "builtin_function_or_method",
        "instance",
        "_Feature"
      ],
      "window_display": false
    },
    "colab": {
      "provenance": []
    }
  },
  "nbformat": 4,
  "nbformat_minor": 5
}